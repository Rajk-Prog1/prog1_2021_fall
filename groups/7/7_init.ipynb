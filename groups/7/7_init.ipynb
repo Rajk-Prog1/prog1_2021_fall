{
 "cells": [
  {
   "cell_type": "markdown",
   "source": "## 1. feladat: írjatok egy függvényt, ami:\n- egy string-et fogad paraméternek\n- **kitörli belőle az összes abc-ben szereplő** karaktert, tehát csak a **speciális karaktereket hagyja meg**\n- és ez a módosított string a visszatérési értéke",
   "metadata": {
    "cell_id": "00000-2fd9c77f-580c-4885-b6aa-5abcae4b3b53",
    "deepnote_cell_type": "markdown"
   }
  },
  {
   "cell_type": "markdown",
   "source": "**ez lesz a függvény paramétere (futtasátok a cellát Ctrl + Enter-rel)**",
   "metadata": {
    "cell_id": "00001-519da791-b72b-4209-963c-7e1104820386",
    "deepnote_cell_type": "markdown"
   }
  },
  {
   "cell_type": "code",
   "metadata": {
    "cell_id": "00002-41feb78d-c641-4ce2-9d5d-b959ad9a214b",
    "deepnote_to_be_reexecuted": false,
    "source_hash": "eef96d5e",
    "execution_start": 1636049864484,
    "deepnote_cell_type": "code"
   },
   "source": "input_string = open('input_string.txt').read()[:-1]",
   "execution_count": null,
   "outputs": []
  },
  {
   "cell_type": "markdown",
   "source": "### itt tudjátok leellenőrizni, hogy jó-e a függvény, amit írtatok\n\n- az own_func helyére írjátok be a saját függvényetek nevét\n- a p helyére tetszőleges paramétert, amivel ellenőrzitek a függvényt\n- futtassátok a cellát Ctrl + Enter-rel!",
   "metadata": {
    "tags": [],
    "cell_id": "00003-fcd14514-1cab-4ced-91a4-d06bec2c9691",
    "deepnote_cell_type": "markdown"
   }
  },
  {
   "cell_type": "code",
   "metadata": {
    "tags": [],
    "cell_id": "00003-b81e243f-672c-46db-a9a9-34f2f3e3edce",
    "deepnote_cell_type": "code"
   },
   "source": "from func import check_rem\ncheck_rem(own_func, input_string)",
   "execution_count": null,
   "outputs": []
  },
  {
   "cell_type": "markdown",
   "source": "## 2. feladat: írjatok egy függvényt, ami:\n- egy string-et fogad paraméternek\n- **az összes '+' jelet ','-re, az összes '-' jelent pedig '#'-re cseréli**\n- és ez a módosított string a visszatérési értéke",
   "metadata": {
    "cell_id": "00003-cc98fb51-20d9-4334-956c-d771deb024f7",
    "deepnote_cell_type": "markdown"
   }
  },
  {
   "cell_type": "markdown",
   "source": "**a függvény paraméterét az első csapattól kapjátok meg (futtasátok a cellát Ctrl + Enter-rel)**",
   "metadata": {
    "cell_id": "00004-4a390328-14c8-4b9c-81c6-6c1fd1566a35",
    "deepnote_cell_type": "markdown"
   }
  },
  {
   "cell_type": "code",
   "metadata": {
    "cell_id": "00005-9d8c38f4-2457-473b-9635-812c04a4e593",
    "deepnote_cell_type": "code"
   },
   "source": "input_string = 'ide írjátok az első feladat megoldását'",
   "execution_count": null,
   "outputs": []
  },
  {
   "cell_type": "code",
   "metadata": {
    "tags": [],
    "cell_id": "00008-03958a13-28f1-4383-a586-d64cfecfdd7e",
    "deepnote_cell_type": "code"
   },
   "source": "from func import check_rep\ncheck_rep(own_func, p)",
   "execution_count": null,
   "outputs": []
  },
  {
   "cell_type": "markdown",
   "source": "## 3. feladat: írjatok egy függvényt, ami:\n- két listát fogad paraméternek, melyek egy-egy múltbéli dátumot tartalmaznak\n- mindkét lista három elemű az első az évet, a 2. a hónapot a 3. pedig a napot jelöli\n- a függvény visszatérési értéke pedig két szám ami a mai dátum és a bemeneti paraméterként megadott két dátum között eltelt napok száma",
   "metadata": {
    "cell_id": "00006-012919ab-e378-4f7d-81ed-e842914f15ee",
    "deepnote_cell_type": "markdown"
   }
  },
  {
   "cell_type": "markdown",
   "source": "### Segítség:\n- Figyeljetek rá, hogy Pythonban **nullától kezdődik az indexelés**!\n- Lista elemeire a következő képpen hivatkozunk: lista_valtozo[0] - visszaadja az első elemet, lista_valtozo[1] - visszaadja a második elemet ...\n- 31 napos hónapok: [1, 3, 5, 7, 8, 10, 12]\n- Létezik az in operátor, ami azt vizsgálja meg, hogy egy adott érték eleme e egy másoknak.\n- Pl. \"a\" in \"asd\" kifejezés értéke True, ezt listákra is lehet alkalmazni",
   "metadata": {
    "cell_id": "00007-2d543049-ff04-4e26-b002-4402b1014efd",
    "deepnote_cell_type": "markdown"
   }
  },
  {
   "cell_type": "code",
   "metadata": {
    "cell_id": "00008-8bd5204b-d091-4f1b-a94f-8cb66e984eeb",
    "deepnote_cell_type": "code"
   },
   "source": "input_list1 = [1970, 3, 20]\ninput_list2 = [1905, 3, 29]",
   "execution_count": null,
   "outputs": []
  },
  {
   "cell_type": "code",
   "metadata": {
    "tags": [],
    "cell_id": "00012-62f076e2-4af0-4b21-a35a-89ed724d5ef1",
    "deepnote_cell_type": "code"
   },
   "source": "from func import check_day\ncheck_day(own_func, input_list1, input_list2)",
   "execution_count": null,
   "outputs": []
  },
  {
   "cell_type": "markdown",
   "source": "## 4. feladat: írjatok egy függvényt, ami:\n- két számot fogad paraméterként\n- visszatérési értéke pedig a két szám legnagyobb közös osztója",
   "metadata": {
    "cell_id": "00009-b8944670-eabb-49ba-84c8-8cda4ef01a53",
    "deepnote_cell_type": "markdown"
   }
  },
  {
   "cell_type": "code",
   "metadata": {
    "cell_id": "00010-6b15a4ab-9f12-4df9-b9e7-a9d0bfde3d99",
    "deepnote_cell_type": "code"
   },
   "source": "input_integer_first = 'ez lesz a harmadik egyik visszatérési értéke'\ninput_integer_second = 'ez lesz a harmadik másik visszatérési értéke'",
   "execution_count": null,
   "outputs": []
  },
  {
   "cell_type": "code",
   "metadata": {
    "tags": [],
    "cell_id": "00015-4a71b1da-8b36-4db6-acc1-e6bae6207b16",
    "deepnote_cell_type": "code"
   },
   "source": "from func import check_bcom\ncheck_bcom(own_func, p1, p2)",
   "execution_count": null,
   "outputs": []
  },
  {
   "cell_type": "markdown",
   "source": "## 5. feladat: írjatok egy függvényt, ami:\n- egy string-et fogad első paraméternek\n- **minden n-edik karakterét tartja csak meg (ahol n a függvény második paramétere), az összes többit kidobja**\n- és ez a módosított string a visszatérési értéke\n\nFigyeljetek rá, hogy Pythonban **nullától kezdődik az indexelés**!",
   "metadata": {
    "cell_id": "00011-7fe2e3d0-88f7-4edf-a261-6fa597a50e7b",
    "deepnote_cell_type": "markdown"
   }
  },
  {
   "cell_type": "code",
   "metadata": {
    "cell_id": "00012-5cc16b7c-2610-4b04-90c8-b5366c762f91",
    "deepnote_cell_type": "code"
   },
   "source": "input_string = 'pelda'\nn = 'ez lesz a negyedik feladat megoldasa'",
   "execution_count": null,
   "outputs": []
  },
  {
   "cell_type": "code",
   "metadata": {
    "tags": [],
    "cell_id": "00019-ccb87ee4-c280-43c4-bb3b-1e8690a5ab03",
    "deepnote_cell_type": "code"
   },
   "source": "from func import check_sel\ncheck_sel(own_func,input_string,n)",
   "execution_count": null,
   "outputs": []
  },
  {
   "cell_type": "markdown",
   "source": "<a style='text-decoration:none;line-height:16px;display:flex;color:#5B5B62;padding:10px;justify-content:end;' href='https://deepnote.com?utm_source=created-in-deepnote-cell&projectId=978e47b7-a961-4dca-a945-499e8b781a34' target=\"_blank\">\n<img alt='Created in deepnote.com' style='display:inline;max-height:16px;margin:0px;margin-right:7.5px;' src='data:image/svg+xml;base64,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' > </img>\nCreated in <span style='font-weight:600;margin-left:4px;'>Deepnote</span></a>",
   "metadata": {
    "tags": [],
    "created_in_deepnote_cell": true,
    "deepnote_cell_type": "markdown"
   }
  }
 ],
 "nbformat": 4,
 "nbformat_minor": 2,
 "metadata": {
  "interpreter": {
   "hash": "0f59f7f215ee01922960672eb2518d48225d608dfbf68ace73e413cb864b1d4d"
  },
  "kernelspec": {
   "display_name": "Python 3.9.6 64-bit",
   "name": "python3"
  },
  "language_info": {
   "codemirror_mode": {
    "name": "ipython",
    "version": 3
   },
   "file_extension": ".py",
   "mimetype": "text/x-python",
   "name": "python",
   "nbconvert_exporter": "python",
   "pygments_lexer": "ipython3",
   "version": "3.9.6"
  },
  "orig_nbformat": 4,
  "deepnote_notebook_id": "246cb2e2-6cee-4558-8c1b-eeef1a719f6e",
  "deepnote": {},
  "deepnote_execution_queue": []
 }
}