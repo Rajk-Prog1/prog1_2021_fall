{
 "cells": [
  {
   "cell_type": "markdown",
   "source": "## 1. feladat: írjatok egy függvényt, ami:\n- egy string-et fogad paraméternek\n- **kitörli belőle az összes abc-ben szereplő** karaktert, tehát csak a **speciális karaktereket hagyja meg**\n- és ez a módosított string a visszatérési értéke",
   "metadata": {
    "cell_id": "00000-364c3cde-eec8-4edd-80f7-e81a3eadb0fe",
    "deepnote_cell_type": "markdown"
   }
  },
  {
   "cell_type": "markdown",
   "source": "**ez lesz a függvény paramétere (futtasátok a cellát Ctrl + Enter-rel)**",
   "metadata": {
    "cell_id": "00001-f3fe4f3d-9a09-4b86-83fe-fb59bc88b881",
    "deepnote_cell_type": "markdown"
   }
  },
  {
   "cell_type": "code",
   "metadata": {
    "deepnote_to_be_reexecuted": false,
    "source_hash": "422b87f5",
    "execution_start": 1636060223444,
    "cell_id": "00002-37450832-2881-41c7-8ad4-d6781126a48f",
    "execution_millis": 3,
    "deepnote_cell_type": "code"
   },
   "source": "input_string2 = open('input_string-2.txt').read()[:-1]\nabc = [\"a\", \"b\", \"c\", \"d\", \"e\", \"f\", \"g\", \"h\", \"i\", \"j\", \"k\", \"l\", \"m\", \"n\", \"o\", \"p\", \"q\", \"r\", \"s\", \"t\", \"u\", \"v\", \"w\", \"x\", \"y\", \"z\"]\n\ndef own_func(input_string2):\n    for i in abc:\n        if i in input_string2:\n            input_string2 = input_string2.replace(i,\"\")\n    return input_string2\n    ",
   "execution_count": null,
   "outputs": []
  },
  {
   "cell_type": "markdown",
   "source": "### itt tudjátok leellenőrizni, hogy jó-e a függvény, amit írtatok\n\n- az own_func helyére írjátok be a saját függvényetek nevét\n- a p helyére tetszőleges paramétert, amivel ellenőrzitek a függvényt\n- futtassátok a cellát Ctrl + Enter-rel!",
   "metadata": {
    "tags": [],
    "cell_id": "00003-001ed33e-ec8c-4089-8d86-89fb8b887da7",
    "deepnote_cell_type": "markdown"
   }
  },
  {
   "cell_type": "code",
   "metadata": {
    "tags": [],
    "cell_id": "00004-8365f992-2bf8-4ce0-b281-a9063b3c22ea",
    "deepnote_to_be_reexecuted": false,
    "source_hash": "67557cea",
    "execution_start": 1636060225386,
    "execution_millis": 8,
    "deepnote_cell_type": "code"
   },
   "source": "from func_lcs import check_rem\n\ncheck_rem(own_func, input_string2)",
   "execution_count": null,
   "outputs": [
    {
     "name": "stdout",
     "text": "Gratulálok! Megoldottad a feladatot!\n",
     "output_type": "stream"
    }
   ]
  },
  {
   "cell_type": "markdown",
   "source": "## 2. feladat: írjatok egy függvényt, ami:\n- egy string-et fogad paraméternek\n- **az összes '+' jelet ','-re, az összes '-' jelent pedig '#'-re cseréli**\n- és ez a módosított string a visszatérési értéke",
   "metadata": {
    "cell_id": "00005-5fcc4520-a888-4c9a-bcd0-ac6cdb07ee5f",
    "deepnote_cell_type": "markdown"
   }
  },
  {
   "cell_type": "markdown",
   "source": "**a függvény paraméterét az első csapattól kapjátok meg (futtasátok a cellát Ctrl + Enter-rel)**",
   "metadata": {
    "cell_id": "00006-a20405f1-6566-4d4e-ac40-f92f6e604912",
    "deepnote_cell_type": "markdown"
   }
  },
  {
   "cell_type": "code",
   "metadata": {
    "cell_id": "00007-8d996e47-90cc-461c-9bf2-7e9a49a44b3e",
    "deepnote_to_be_reexecuted": false,
    "source_hash": "c77d3ac",
    "execution_start": 1636060698988,
    "execution_millis": 1,
    "deepnote_cell_type": "code"
   },
   "source": "input_string = input_string2\ndef own_func2(input_string2):\n    input_string2 = input_string2.replace (\"+\",\",\")\n    input_string2 = input_string2.replace(\"-\",\"#\")\n    return input_string2",
   "execution_count": null,
   "outputs": []
  },
  {
   "cell_type": "code",
   "metadata": {
    "tags": [],
    "cell_id": "00008-c8cffa0b-702c-41aa-a447-9daaca7e6cb1",
    "deepnote_to_be_reexecuted": false,
    "source_hash": "b6cb2997",
    "execution_start": 1636060737614,
    "execution_millis": 4,
    "deepnote_cell_type": "code"
   },
   "source": "from func_lcs import check_rep\ncheck_rep(own_func2, input_string2)",
   "execution_count": null,
   "outputs": [
    {
     "name": "stdout",
     "text": "Gratulálok! Megoldottad a feladatot!\n",
     "output_type": "stream"
    }
   ]
  },
  {
   "cell_type": "markdown",
   "source": "## 3. feladat: írjatok egy függvényt, ami:\n- két listát fogad paraméternek, melyek egy-egy múltbéli dátumot tartalmaznak\n- mindkét lista három elemű az első az évet, a 2. a hónapot a 3. pedig a napot jelöli\n- a függvény visszatérési értéke pedig két szám ami a mai dátum és a bemeneti paraméterként megadott két dátum között eltelt napok száma",
   "metadata": {
    "cell_id": "00009-19f1db5b-4b98-4580-82e1-d36d72743844",
    "deepnote_cell_type": "markdown"
   }
  },
  {
   "cell_type": "markdown",
   "source": "### Segítség:\n- Figyeljetek rá, hogy Pythonban **nullától kezdődik az indexelés**!\n- Lista elemeire a következő képpen hivatkozunk: lista_valtozo[0] - visszaadja az első elemet, lista_valtozo[1] - visszaadja a második elemet ...\n- 31 napos hónapok: [1, 3, 5, 7, 8, 10, 12]\n- Létezik az in operátor, ami azt vizsgálja meg, hogy egy adott érték eleme e egy másoknak.\n- Pl. \"a\" in \"asd\" kifejezés értéke True, ezt listákra is lehet alkalmazni",
   "metadata": {
    "cell_id": "00010-2e08c8cd-1235-4605-a548-7484d9c1187c",
    "deepnote_cell_type": "markdown"
   }
  },
  {
   "cell_type": "code",
   "metadata": {
    "cell_id": "00011-9ec4c66d-cd1b-4bf5-87fc-ba18ee1cbfad",
    "deepnote_cell_type": "code"
   },
   "source": "input_list1 = [1970, 3, 20]\ninput_list2 = [1905, 3, 29]",
   "execution_count": null,
   "outputs": []
  },
  {
   "cell_type": "code",
   "metadata": {
    "tags": [],
    "cell_id": "00012-a39d785d-ecef-4aab-9ae9-d956e154de6f",
    "deepnote_cell_type": "code"
   },
   "source": "from func import check_day\ncheck_day(own_func, input_list1, input_list2)",
   "execution_count": null,
   "outputs": []
  },
  {
   "cell_type": "markdown",
   "source": "## 4. feladat: írjatok egy függvényt, ami:\n- két számot fogad paraméterként\n- visszatérési értéke pedig a két szám legnagyobb közös osztója",
   "metadata": {
    "cell_id": "00013-ec2654d3-f886-47e4-8a3d-f0de0f89ab37",
    "deepnote_cell_type": "markdown"
   }
  },
  {
   "cell_type": "code",
   "metadata": {
    "cell_id": "00014-65d28e29-979f-4602-b7a5-d583a8931b66",
    "deepnote_to_be_reexecuted": false,
    "source_hash": "496823b",
    "execution_start": 1636061060936,
    "execution_millis": 6,
    "deepnote_cell_type": "code"
   },
   "source": "input_integer_first = 10\ninput_integer_second = 8\ndef own_func3 (input_integer_first,input_integer_second): \n\twhile input_integer_second>0:\n\t\tinput_integer_first = input_integer_second\n        input_integer_second = input_integer_first%input_integer_second\n\treturn input_integer_first",
   "execution_count": null,
   "outputs": []
  },
  {
   "cell_type": "code",
   "metadata": {
    "tags": [],
    "cell_id": "00015-ea3b07cb-67e9-475a-becf-7a2d95e2d377",
    "deepnote_to_be_reexecuted": false,
    "source_hash": "f45067e8",
    "execution_start": 1636061062983,
    "execution_millis": 1,
    "deepnote_cell_type": "code"
   },
   "source": "from func_lcs import check_bcom\ncheck_bcom(own_func3, input_integer_first, input_integer_second)",
   "execution_count": null,
   "outputs": [
    {
     "name": "stdout",
     "text": "Gratulálok! Megoldottad a feladatot!\n",
     "output_type": "stream"
    }
   ]
  },
  {
   "cell_type": "markdown",
   "source": "## 5. feladat: írjatok egy függvényt, ami:\n- egy string-et fogad első paraméternek\n- **minden n-edik karakterét tartja csak meg (ahol n a függvény második paramétere), az összes többit kidobja**\n- és ez a módosított string a visszatérési értéke\n\nFigyeljetek rá, hogy Pythonban **nullától kezdődik az indexelés**!",
   "metadata": {
    "cell_id": "00016-c14656f7-534c-4e96-a5ec-dbe457b032f8",
    "deepnote_cell_type": "markdown"
   }
  },
  {
   "cell_type": "code",
   "metadata": {
    "cell_id": "00017-ed390c32-c123-4aa1-aa32-c14806d6bf77",
    "deepnote_to_be_reexecuted": false,
    "source_hash": "68704d64",
    "execution_start": 1636063156954,
    "execution_millis": 0,
    "deepnote_cell_type": "code"
   },
   "source": "input_string = \"cseresznyefa\"\nn = 2\n\ndef own_func4 (input_string, n):\n    input_string_list = list(input_string)\n    new_list = []\n    for i, char in enumerate(input_string_list):\n        if (i+1)%n==0:\n            new_list.append(char) \n    return \"\".join(new_list) ",
   "execution_count": null,
   "outputs": []
  },
  {
   "cell_type": "code",
   "metadata": {
    "tags": [],
    "cell_id": "00018-bc08fabf-2d3d-4761-ae99-c828eccfa151",
    "deepnote_to_be_reexecuted": false,
    "source_hash": "153e5ef4",
    "execution_start": 1636063162329,
    "execution_millis": 77,
    "deepnote_cell_type": "code"
   },
   "source": "from func_lcs import check_sel\ncheck_sel(own_func4,input_string,n)",
   "execution_count": null,
   "outputs": [
    {
     "name": "stdout",
     "text": "Gratulálok! Megoldottad a feladatot!\n",
     "output_type": "stream"
    }
   ]
  },
  {
   "cell_type": "code",
   "metadata": {
    "tags": [],
    "cell_id": "00019-c2434641-5b79-4c24-8e29-b1fbc1f03fae",
    "deepnote_to_be_reexecuted": false,
    "source_hash": "344192cf",
    "execution_start": 1636062405382,
    "execution_millis": 8,
    "deepnote_cell_type": "code"
   },
   "source": "input_string = \"cseresznyefa\"\nlist(input_string)",
   "execution_count": null,
   "outputs": [
    {
     "output_type": "execute_result",
     "execution_count": 91,
     "data": {
      "text/plain": "['c', 's', 'e', 'r', 'e', 's', 'z', 'n', 'y', 'e', 'f', 'a']"
     },
     "metadata": {}
    }
   ]
  },
  {
   "cell_type": "markdown",
   "source": "<a style='text-decoration:none;line-height:16px;display:flex;color:#5B5B62;padding:10px;justify-content:end;' href='https://deepnote.com?utm_source=created-in-deepnote-cell&projectId=978e47b7-a961-4dca-a945-499e8b781a34' target=\"_blank\">\n<img alt='Created in deepnote.com' style='display:inline;max-height:16px;margin:0px;margin-right:7.5px;' src='data:image/svg+xml;base64,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' > </img>\nCreated in <span style='font-weight:600;margin-left:4px;'>Deepnote</span></a>",
   "metadata": {
    "tags": [],
    "created_in_deepnote_cell": true,
    "deepnote_cell_type": "markdown"
   }
  }
 ],
 "nbformat": 4,
 "nbformat_minor": 2,
 "metadata": {
  "interpreter": {
   "hash": "0f59f7f215ee01922960672eb2518d48225d608dfbf68ace73e413cb864b1d4d"
  },
  "kernelspec": {
   "display_name": "Python 3.9.6 64-bit",
   "name": "python3"
  },
  "language_info": {
   "codemirror_mode": {
    "name": "ipython",
    "version": 3
   },
   "file_extension": ".py",
   "mimetype": "text/x-python",
   "name": "python",
   "nbconvert_exporter": "python",
   "pygments_lexer": "ipython3",
   "version": "3.9.6"
  },
  "orig_nbformat": 4,
  "deepnote_notebook_id": "3b8d908b-cce9-439c-8197-6360bfdb54e1",
  "deepnote": {},
  "deepnote_execution_queue": []
 }
}