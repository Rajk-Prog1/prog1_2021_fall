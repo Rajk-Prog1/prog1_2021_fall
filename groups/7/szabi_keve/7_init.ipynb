{
 "cells": [
  {
   "cell_type": "markdown",
   "source": "## 1. feladat: írjatok egy függvényt, ami:\n- egy string-et fogad paraméternek\n- **kitörli belőle az összes abc-ben szereplő** karaktert, tehát csak a **speciális karaktereket hagyja meg**\n- és ez a módosított string a visszatérési értéke",
   "metadata": {
    "cell_id": "00000-265e2ee1-afc9-42ca-9275-41f165df9d4f",
    "deepnote_cell_type": "markdown"
   }
  },
  {
   "cell_type": "markdown",
   "source": "**ez lesz a függvény paramétere (futtasátok a cellát Ctrl + Enter-rel)**",
   "metadata": {
    "cell_id": "00001-635ac08c-1132-475d-a106-1a9583fbd71d",
    "deepnote_cell_type": "markdown"
   }
  },
  {
   "cell_type": "code",
   "metadata": {
    "deepnote_to_be_reexecuted": false,
    "source_hash": "20b88fa1",
    "execution_start": 1636074373124,
    "cell_id": "00002-c2c6e1ec-5110-42af-87c6-f9c8e4b56035",
    "execution_millis": 225,
    "deepnote_cell_type": "code"
   },
   "source": "input_string = open('input_string.txt').read()[:-1]\ndef elso (p):\n    cserelt=str()\n    abc_lista=[\"A\",\"a\",\"B\",\"b\",\"C\",\"c\",\"D\",\"d\",\"E\",\"e\",\"F\",\"f\",\"G\",\"g\",\"H\",\"h\",\"I\",\"i\",\"J\",\"j\",\"K\",\"k\",\"L\",\"l\",\"M\",\"m\",\"N\",\"n\",\"O\",\"o\",\"P\",\"p\",\"Q\",\"q\",\"R\",\"r\",\"S\",\"s\",\"T\",\"t\",\"U\",\"u\",\"V\",\"v\",\"W\",\"w\",\"X\",\"x\",\"Y\",\"y\",\"Z\",\"z\"]\n    for i in (abc_lista):\n        cserelt=p.replace(i,\"\")\n        p=cserelt\n    return cserelt\nelso(input_string)",
   "outputs": [
    {
     "output_type": "execute_result",
     "execution_count": 2,
     "data": {
      "text/plain": "'%(/(%(&(((.(+(%(+(.(+(/(\\n(((\\n(\\n((( (-(&(\\n(*(((((%///%/\\n*-***\\n+.+++.+++*+./@(./\\n*\\n*.(&/%/ +&*.**(\\n/%/-(-(@-\\n(\\n(@(\\n---+(*(&(*/((.-@(%(+/+/**+/@/*/@(@(%(./ -&( - -*( (&((-&-+--((-.-*-.-@-+-\\n-/-%-.-(-.-.-%\\n+( (\\n(@(((\\n( (\\n(.(.(%(%(*(+(&(*(*(&(.(&(((((@(@- /.*-+-+*/\\n/ (-(/-\\n-%- %\\n(+(\\n/\\n/&((*&( (((\\n/+*+/(/&(&(+(+(\\n-@(\\n(/-@-\\n-+(/(-(@- (*/@(./((@(*/+(\\n-&-@/(-/- - (--&(&(*-@-@- -%-%-%-+-\\n-+-&-&---.-%- ---*- -.\\n+(\\n(/(+(-(+( (\\n(%(@(*(.(*(*(/(-(%(+(%((( -*-@((/%*+*/( -/-%&*%%%(%@%/% -+%.%\\n--(+/*-@/*/ / (/*-/*(*/((\\n/\\n/./././+//(*(-(+(/(+(@(@(-(%(/(\\n(+(&(*-(-+-\\n( ( (+( (.-+-+-@- ---*-/-\\n-.-+-.- -*-\\n-@-(-(-%-*-&-@\\n (\\n(@( (-(-(&(%(((.(.( (/(.(.((( (((+(&%+--(//.*+(\\n(/(\\n*//%(((--@%(-%- - ( ((/&/\\n*%/&/@***%/&*(*%/&/@/./@/%/@/&/+/@/\\n/&(-/%/*(&/&(-(.(*/\\n/\\n/*/ /*(+(-( (@(@(*/%(&(%(*-.-(-*-%-@-.-&-\\n-/-%-.-%---.-%-+- -+\\n*(.(&(\\n(+(-(+(.(+(+(\\n(@(+(.(((-/./.*&(\\n% /&+%+@*./@/%/@(((.(*/ /@(&/ /-/(***(*(**+\\n*\\n*-*+*\\n*-*&*/*-*@* ***////&/+/-/*/\\n(@(+(@(//.(.(%(.(*/\\n/\\n/(/\\n/&/-/*/+(\\n/\\n///&/-(@-&-%-.-&-\\n-(-+---(-%-%---(- -@-@-\\n-.\\n (-(&( (-(&(@(@( (((/(-(\\n/@*\\n* /&/@/%(@.@+&*@*(/*(/-+(.(\\n( /-/-/ ***&+\\n*@+.+\\n+(+**(*.*%*@*/*@*(*&*%*+*.*(*&/(/-/+/@/@/\\n/((@/-(((-(-(+((//(\\n(+/+/.( /(/+(&/(//( (+/(( ---\\n-*(/-/-+-%-/-\\n-+-@-+-@- -\\n-.-\\n-%\\n/(@(@(-(*(((+(.(&(/(-(/(./+/%/(*%+\\n+\\n*/*\\n*.*+/%/%/(///+///+* *%*@*+*(+*+.+/+&+\\n+.+\\n*%*(*** *%*.*+*-*@**/+/ /+///(/-( /@/(//(&( (*(@(((-((/%(-(-(*(+(((@(*(/(%/\\n( (%(\\n(\\n(@-(-%-+- -/-&-+-.-/-(-*-&-.-\\n-/-@\\n+( (*(/(-(%(*(*(.(*(\\n(-/&***\\n*+* +.* /*/+*-* *./@/&*@*&*\\n* +/+.+++++/+\\n+(+/+/+\\n+ +.++*.* *-*@*@* *-*+*%/(/ /@/+/(/@/*/.(\\n///%(\\n-/(.-((+(-(-(.(&(+(((./%/\\n/+(+(\\n((-*-/(@-@-+-@-%---&-+- -.-(-@-*-/- -/- -/\\n@(*(-(-(@(((.(.(+(@(%(-*@/@/**+*/+&//*%+/*-/%*(**+/+.+.+++\\n+&+/++*&+++-+-+&+\\n+&+ +(+\\n***.***%*\\n*(*@*&*//+/%/ /(/./\\n/\\n/./-/ (@(-(\\n(%(/(%-./ (-(/(.(+(+- -+-+-+-(-\\n(&(@((---@---%- -/-.-.-@-*-*-%-+- -.-.-(\\n+(.(%(@(\\n(\\n(+(.(@((( (@/*/(*@*.* *(*.+@*-*.+(+\\n+%+(+-+@+@.+.-+&+*+&+*+%+@+.+-+-+.+ +@*&*****%*/*%*&*+/(/&/\\n**/@/+/\\n/-(./ /\\n/\\n(@(*(----.(&(-(\\n(\\n-+-&-(- -.-\\n-%-*-+(+(+(\\n-*-+- -%-&-&-*-.-%-.-+-.-*-@-\\n-%--\\n&/+(&(/(.( (\\n(\\n(@(.(\\n(*(-/(///@/@/@*\\n*-*/*-+@+-+ +\\n+..@+%.&+%+\\n+ +@+(+&+%+.+/+&*++.+&+%+&*.*\\n*%*\\n*+*/*/*/*(///%/(/+/(/+/\\n/&/+(+( -(-.-&- -*-%-\\n(&-*%+%%%@- ---+-/(\\n(@(\\n(--@-.---*-@-/-/-@-*-+-/-/-(-+-%-(\\n-/%(*(&(*(%(((-(/(/(&(&(-/%/ ///+*\\n*@*/*%*.+++@+(++././+&+/+*+@+&+-+\\n+&+(+\\n*++ * **+\\n+(+ *@*/***.*-*****(*+*%* /%/(-%( -+(%(&(/(+(.-(- -*-+-.-.-@(&%(-@%%%-%@- -(-\\n-+- %-- -%(--\\n-&-.-%-/-&-&-*-%-%---/--\\n\\n/%(\\n(%(\\n(+(/(\\n(+(+(.(@(((+/// *@(+(%/(*++%+@+-+-.@+@+..++@+%+.+/+ +\\n+(+/+/*+***-+(*\\n+(+(+\\n***%*+* *\\n*-*+/@(.-\\n-+%%%%%&%@- (&- (((\\n( -+(\\n- (&-/-%-%-.&/%-( -((&(--.-(-(-*-@-(-(-(-.-*-.-@- --- -@---@-@-%\\n(/ /.( (%(/(-(+(((/(&(*(@(-(//&/\\n/+((*-//*%+ +-/@+*+%+\\n+&++++.(+@+&+-+@+&+\\n+\\n+ +(*\\n*/+@+(+%* *&**//(*(-%(%\\n&/%&-%-%-+-.(--@(*-((@-(-*( -&-&(&(+-/-(%&& &&%.%\\n&+&@%.%&%.%\\n/&(@-%(@-.-.-(-+-&-@-/-&- -.-*-&\\n*/%/%///+/./(/*/&/((&/*(.(((&(%/(/\\n(+/&*.+(+&*./-(*-*( /((@*%+ *.+-+.*\\n+**\\n*/+%*\\n*/*./*+&+*/.( ( --%@% %--*( /(/\\n/ /&(((((*- -%-+-@(+(-(*(-(((\\n(\\n(%%/%&&&&\\n&@&@%*&.& &-%.-@(((--@((- -\\n-\\n-\\n-\\n-&- -/-&-/-\\n\\n%/@(//@/*(%/ /@/ (*( ( (*( (//./*(@(.-((&+(+\\n/&/\\n/.* /*(*//(%-/-*(@/-( *.*+*&+*+ **/+(%((/./-(.--%&--%.-//-((%+@/&/@-& %*%/(((/-.( (\\n(*(@(((/(\\n(/-&( %-%%&-&.&&%\\n@(&.&(%.-@(@((-/-.- (\\n(-(@-*-*-@-\\n---@-@\\n&/+/./(/*/ /+/ /+/%/./(/+/-/\\n( (+(-(@-&/+*(+ *\\n*/+++\\n+(+*+@*//@(/-\\n-+-\\n% %/- +@+@+(*\\n*%/&(\\n-\\n%(%%-&(@/+(*/**\\n/%-\\n-%- /@/--+-@-\\n%&(*(@/ /@( (&( (/(.(&-+@ &(%\\n&@&+-%(*/\\n(@(@/--%-.---\\n---*(--\\n( -%---\\n-*(@\\n-/-///-/%(./+/*/*/(/ ///@/&(&(((-/%(.%+/****@*\\n+\\n+(/\\n%@(+*(+/-*-(-*%%(.-/(///+\\n+(+%+&*(*%/ (%---&(&(&-.(\\n(@/-(@/+/+(%(%(*(*(%/@( (%/+/@/*(-(.(-(*(%(*(.-%%%&+&.%.-@(%/(/%-*( -&-*---@-*-(-@-/---&-.-&---\\n\\n./-/@/\\n/%/%///*/@///.(./%/-(*(*(\\n*.*\\n( ((**+(+++(*%/ +++&+&*(*/*\\n/&/\\n/%(//.*@* +%+\\n+&*-*+/*(\\n-%-/(((*(\\n(+(\\n/*/.( /(/+(-(@(%/%*+*//(/&/\\n/@(+(.-&(/(%(*(*(%-%-(-%%&( (@((/%- - -%-@(.-@-\\n---@-&(--%(\\n-&-&-*\\n//&/*/@/ /./@/+/%/+(*/ ( (-(/(.(/((*(*.*+(%+++(+&+*+(+\\n+++-++*+*&/ (+/\\n+-+@*-+@+++ *.*@/.(&(.(+(*(/(.(+/(/// /@/./\\n/.*\\n*&* *+/././ (-(.(((*( (\\n-@(&(+( -*-&%/%\\n% (./.(@-*//-&-%-\\n-+- - -@-%(.(&-&(+(+-/-%\\n%/&/&/%/\\n/&/-/\\n/%/./@/%/.(\\n/.(-(\\n(@(+/\\n+@+%*&+%+++/+%*\\n* * *\\n+-+%+&+%+&+(+.+.+.+\\n+@*****(/@/@(-(+(.(%(\\n(-///(/\\n/@*&*+*@*(*%* / /\\n(((&( (@(.(+(*(&(&( -/- -*-/%//(**/\\n/*/*-\\n-/-&( (\\n(&-@-*(@(\\n(-(\\n(@(*-(- \\n-/@/(/&/+///%/@/*/%(-/*(&(-(&(&(+(\\n( (*(%+ +@*@+%+++.+.+-+@+\\n+++/+(+ +/+ /&+@+*+/+/+&***-/&(+-(-((&/@((-/(-(./*/./%*(*+*\\n*@/ /*/%(((/( (/(*(\\n(.---.-/-.-(-(-&-\\n/\\n*./%/.(@- -/-%-/-.(@( -.(*-%- (@-\\n-(-(- \\n@///@/%/*/*/@/./@/@/ /&/+/&(-/((+( (/(+( (@+ *\\n+-+ +/+.+.+-+\\n+@+/+/+*/-(@*(+\\n+&.*+++++%/%(*(@(// /\\n(((\\n-(%@(.-(-&(*/(/-/&/-/-/.( (.(((*(.(.( (&(&-%---+%*-.- (%/-(+( - -%-+---(-((*(.-%(@-&-@(%(\\n-@-((&-&\\n@/ ///&/\\n/\\n/*/(/%/*/&/(/-/&(-/\\n/\\n(/(\\n(\\n(%(%/++%+%+&+%+/+.+/+/+-++*&/@(+(%+&*.*\\n*\\n* * /*(/--%-%&% -@--%+(&(%(.(\\n/@(%(&/ /\\n/*/.(+(&(\\n(.(.(((((.- -/%/-&- -(-(-/%@-&(-( (%(+( -&(--\\n-*(((/(/((-&--(%( -(-%(-\\n(/./\\n/./\\n///*/./@/-///(/-///@/((.//(+(%(.(./.+*+&+%+.+-+-+.*.* *\\n/((/(\\n+%+ +@+ +\\n*.++*\\n/.*+/(/.(%(@(&/*(+(/(@( (-(/(.( (((-/%(-(((*-@-((@( -@-%-/---@- -@-+%@-@-/(-(@(+(-( (*-%(\\n(\\n- (&-@(\\n(.((-.(-(+(-(@\\n+/ /(/*///// /(/+/&/+(%(*( /%(/(.( (*( (\\n(@(&(+/++*+.+@+&+%* * /&(*(@+*+/+ +%+\\n+ +(+/*%/ /@+-*+/.////( (%(&/&(%(((\\n-\\n-*-.-@-+///-/@(+(((%(&(-- -\\n-+-(-@-@--%.---*(%(%(@(&((((( (-(.(-(*(%(@--(--@-%-\\n(&(-\\n-/%/./-/*/\\n/%/ /\\n/%/+/%/*/(/ (%(\\n(-(%(\\n(/(.(*(\\n(%(&+.+(+@+++**+/@(&+(+ +.+.+&+++ +(+(+&/+*&*-+@*@/((@(+(.(*-/-+-+%+%-%--+(\\n(%***//((+-@-&(\\n(@(%-&%*-&-&-(%-%%-+-*( (*(.(&(\\n(.(&(((&((( (@( (((--(--(%-/-@\\n@/./+/@/&/(/*///\\n/+///+/ //(.( ( (+(*(@(/(((-( (\\n( /@+*+&+*+\\n+.*&/ +.++*(*%*-*\\n/%/%/@/ /./@/ -@-@--%/%.%.-*(*(-(((+(*(+(*((/&*-///-(@- (@(+(/(\\n%.% -%-\\n-*%(-(((-.(-(((@( (&(.(&(\\n(+(+(-(+(/(*(*(*( -&(*-*\\n.///*/&/./%/(/-/-/@/*/((./+/@/-(./.(/(/( (%(/(.(/(+(@( +@+&+%+&+(*@/\\n*\\n/ + + +*+%+(+.+(+&*(*.* *+/./// (%(.(*(.(+(.(&(\\n/*///+/@/.(@-&(.//(-(@%/-\\n-%-(-(-+-%(-(.**&+@/%%(\\n(-(+(%(/(/( (%(\\n(-(&( (@(\\n(--+-\\n\\n /&///./////@/(/\\n/ (-(@(./ /(/&(*(.(&(%(\\n(*(@(%(@(@(*(.(*+ +++(+-+-* *++++/+%+\\n+/+-+@***/*\\n***//-*@(%/ (\\n(-( (+(/(.(//+( /\\n/ /\\n(&((( /&/((@---.-+-@%&- %-(((@/@***\\n@&@(@\\n--(&(/( (-(@(*(+(/(/(/( (.(+(\\n-.\\n-/(/\\n/-/%///\\n/(/\\n///.///-/@/@/*(\\n(\\n(.(((.(\\n(((((\\n(.(-( (@(%+%+\\n+&+ *@**+*+(+.+&+&+*+*+(+**(/%/%(+/(/ /*/./(/+/\\n/@/*(-(.(*( (-(@(&/.//((((-+-@-%-&-/%+%@((- *(* */*%@*@.@.@.@&(+(\\n(((.(&(-(%(%(@(/(%((-/(-\\n.///*/((\\n/\\n/*/./-/(/\\n/.(+/./@/&/\\n/*(.(*(%(&(@( (-(/(+(((-(%(.*%+/+++\\n+/+++\\n+.+-+/+@+-+\\n+ +@*+* *\\n*%/+/(/-/-/(/*/.(+(-( (@-+-%-%/./\\n/&(-- %\\n-+-\\n%@%@&((&* *@*.*.* /.@ @(@*@-@ @@@@%\\n(@(((@(-( (((-( (+(*(*\\n+///\\n/*/+/*/@/(/\\n/&/%/-/\\n///*/&/-/ /%(((-/&(/(+(*(%(&(-( (+(.(%(\\n+ + *(*-*.+.+-+@+&+ +@+ ***.+%**/ /@///%/&/\\n/*(+-%-(-/%+-/(&(*(+(&(&-.-(-*--%@%@*@* ***(*/***(*&@/@.@/@@@\\n@%@+@@@ @+@(- (%( (\\n(+(%(\\n(\\n(+\\n /%/&/(/&///&/&/+/+/\\n/(/((&/\\n/\\n/./*/*/(/+/*/\\n/-///./*/@/\\n(+( (@&+  *(****+ +/+(+*+%*&*%*\\n*@*.*&*&///(/////*(((/---&%.%\\n(/(*(*(+/+(-((-&-&%-%.(-*\\n*&*\\n***&*(*./ @\\n@(@-@.@ @(@/@/@%@(@&@\\n@-@+@*@.@\\n&/( (+(.\\n+/ / /\\n///././(/-/\\n/./(/&/*/(/ /\\n///&/./&/\\n/@//(/%-&/@%@*&.&&@&(+ \\n  .++%+/+*+-+*+(*&*/**/ /-/@/@/%/-/\\n(&( -/%/-%(&/%(/(+(+/\\n/\\n(.- -/% %(( *(++* *%*%*-*&***\\n@(@+@@@\\n@ @\\n@%@@@-@+@ @-@/@.@+@(@ @(@+@%@(@.\\n%/./-///*/*/ ///./&/+/&/(/(/%/&(%%\\n&-&-&*@ @.&*@*@%&/&&&-%&&.@*.% @ . . (.&+.+.+@+&+@+(+ +@+/+-+&+&*\\n* /%(%(&/&/*/-/((%/\\n(+(/-@-%-/%+*%*\\n+(+\\n*%*\\n*\\n*%* *+/.@*@(@/@+@&@(@(@%@+@-@%@%@/@ @&@.@(@ @@@*@&@%@/\\n./+/ /(/.///+/+( %\\n&-@&@*&+@(@%&-@%@-&\\n@/&+@/&@&%&&& &.&+@&@\\n@& + . / (   ( /./+@+(+ +\\n+.*(*@+(+\\n+%+ *.***+**///-/ (((%(((\\n-@-// *.+@+%+\\n+.++*%*(*@*(*+/ @ @%@/@/@\\n@\\n@.@/@-@*@+@.@@@ @*@ @.@.@/@\\n@ @*@ @@\\n\\n/(/ %&&(&/&\\n&%&-&(&.&*&%@&&*&&@ @*@%&%&*&\\n&*%&&&%\\n%-&(@&@\\n@&*\\n ( ( -   \\n @ & - \\n+//@+.+(+++ +/+*+&+%***.**///\\n/-(.(%(&(.*.*(+/+*+@+ +-+@+.+&+/*%*+*@-+@/@\\n@&@&@-@%@*@*@*@@@.@+@@@ @-@-@\\n@&@%@*@(@\\n@\\n@%@*\\n*&@& @ &-&/&\\n&&&/&*&/&(&\\n&-&(&*@@&@&\\n&&&*&%&@&-&/%%@(@+@.@%* .- % * \\n - % ( ( - ( .. +@((///@*-*+*(*\\n+@.*.+.%...-.@.%.*...@.++++-+\\n+++++ +\\n+.+ *-*-&/@.@ @ @&@.@-@-@.@&@(@-@&@*@*@/@\\n@/@/@+@\\n@/@+@*@/@/@/\\n+&/&&&%%\\n&*&-&*&.&(&+&%&/&*&\\n&%&(&&@.@-&\\n&+&%&/&.&.@@@+@*++. .+ % ( % * (   \\n \\n \\n +/ /-/ .* *..+* ( \\n \\n @ & ( + + /...\\n.-.+.++%+@+.+-+++-+ +*+(*+&/@%@.@%@&@/@-@%@.@/@+@.@ @+&\\n&+@(@&@@@ @%@&@&@*@%@ @&@ '"
     },
     "metadata": {}
    }
   ],
   "execution_count": null
  },
  {
   "cell_type": "markdown",
   "source": "### itt tudjátok leellenőrizni, hogy jó-e a függvény, amit írtatok\n\n- az own_func helyére írjátok be a saját függvényetek nevét\n- a p helyére tetszőleges paramétert, amivel ellenőrzitek a függvényt\n- futtassátok a cellát Ctrl + Enter-rel!",
   "metadata": {
    "tags": [],
    "cell_id": "00003-af31f7c4-ccf5-46b5-92ed-4ae1c6a5d0d3",
    "deepnote_cell_type": "markdown"
   }
  },
  {
   "cell_type": "code",
   "metadata": {
    "tags": [],
    "cell_id": "00004-f40a9f58-1cd4-4aef-ad00-759399c76b45",
    "deepnote_to_be_reexecuted": false,
    "source_hash": "86e39b87",
    "execution_start": 1636074376553,
    "execution_millis": 2,
    "deepnote_cell_type": "code"
   },
   "source": "from func import check_rem\ncheck_rem(elso, input_string)",
   "outputs": [
    {
     "name": "stdout",
     "text": "Gratulálok! Megoldottad a feladatot!\n",
     "output_type": "stream"
    }
   ],
   "execution_count": null
  },
  {
   "cell_type": "markdown",
   "source": "## 2. feladat: írjatok egy függvényt, ami:\n- egy string-et fogad paraméternek\n- **az összes '+' jelet ','-re, az összes '-' jelent pedig '#'-re cseréli**\n- és ez a módosított string a visszatérési értéke",
   "metadata": {
    "cell_id": "00005-434688d5-5efc-4159-a4ba-4b1c7c31dc76",
    "deepnote_cell_type": "markdown"
   }
  },
  {
   "cell_type": "markdown",
   "source": "**a függvény paraméterét az első csapattól kapjátok meg (futtasátok a cellát Ctrl + Enter-rel)**",
   "metadata": {
    "cell_id": "00006-8b99bf08-ef8f-4967-aaa1-488345a95885",
    "deepnote_cell_type": "markdown"
   }
  },
  {
   "cell_type": "code",
   "metadata": {
    "cell_id": "00007-b8bce797-661d-4cc3-9c0d-c34faa65ace4",
    "deepnote_to_be_reexecuted": true,
    "source_hash": "d314a901",
    "execution_start": 1636060648177,
    "execution_millis": 2,
    "deepnote_cell_type": "code"
   },
   "source": "input_string = \"nklnadvnln+knlkn++----\"\ndef masodik(p):\n    cserelt=str()\n    cserelt2=str()\n    cserelt=p.replace(\"+\",\",\")\n    cserelt2=cserelt.replace(\"-\",\"#\")\n    return cserelt2\nmasodik(input_string)",
   "outputs": [
    {
     "output_type": "execute_result",
     "execution_count": 17,
     "data": {
      "text/plain": "'nklnadvnln,knlkn,,####'"
     },
     "metadata": {}
    }
   ],
   "execution_count": null
  },
  {
   "cell_type": "code",
   "metadata": {
    "tags": [],
    "cell_id": "00008-006dd899-54da-40b4-8e5b-d19f180fdbaf",
    "deepnote_to_be_reexecuted": true,
    "source_hash": "afa73832",
    "execution_start": 1636060714145,
    "execution_millis": 2,
    "deepnote_cell_type": "code"
   },
   "source": "from func import check_rep\ncheck_rep(masodik, input_string)",
   "outputs": [
    {
     "name": "stdout",
     "text": "Gratulálok! Megoldottad a feladatot!\n",
     "output_type": "stream"
    }
   ],
   "execution_count": null
  },
  {
   "cell_type": "markdown",
   "source": "## 3. feladat: írjatok egy függvényt, ami:\n- két listát fogad paraméternek, melyek egy-egy múltbéli dátumot tartalmaznak\n- mindkét lista három elemű az első az évet, a 2. a hónapot a 3. pedig a napot jelöli\n- a függvény visszatérési értéke pedig két szám ami a mai dátum és a bemeneti paraméterként megadott két dátum között eltelt napok száma",
   "metadata": {
    "cell_id": "00009-5e8a92be-11e0-4147-9b2b-96617e3e85bb",
    "deepnote_cell_type": "markdown"
   }
  },
  {
   "cell_type": "markdown",
   "source": "### Segítség:\n- Figyeljetek rá, hogy Pythonban **nullától kezdődik az indexelés**!\n- Lista elemeire a következő képpen hivatkozunk: lista_valtozo[0] - visszaadja az első elemet, lista_valtozo[1] - visszaadja a második elemet ...\n- 31 napos hónapok: [1, 3, 5, 7, 8, 10, 12]\n- Létezik az in operátor, ami azt vizsgálja meg, hogy egy adott érték eleme e egy másoknak.\n- Pl. \"a\" in \"asd\" kifejezés értéke True, ezt listákra is lehet alkalmazni",
   "metadata": {
    "cell_id": "00010-c01a04c2-2eeb-4409-9522-9a0aedac4323",
    "deepnote_cell_type": "markdown"
   }
  },
  {
   "cell_type": "code",
   "metadata": {
    "cell_id": "00011-198c632d-5b61-45a4-b369-b1e36c9fc632",
    "deepnote_to_be_reexecuted": false,
    "source_hash": "43b16674",
    "execution_start": 1636072221441,
    "execution_millis": 16,
    "deepnote_cell_type": "code"
   },
   "source": "input_list1 = [2000, 12, 31]\ninput_list2 = [1905, 3, 29]\n\ndef harmadik(elso,masodik):\n    ma=[2021,11,5]\n    adott_ev_napok=int(elso[2])\n    honap_lista=[31,28,31,30,31,30,31,31,30,31,30,31]\n    nulla=[0,0,0,0,0,0,0,0,0,0,0,0]\n    for i in range (1, elso[1]):\n            nulla[i-1]=1\n    for j in range(0,11):\n            adott_ev_napok+=(nulla[j]*honap_lista[j])\n    adott_evbol_marad=365-adott_ev_napok\n    \n    ebbol_az_evbol_napok=int(ma[2])\n    nulla2=[0,0,0,0,0,0,0,0,0,0,0,0]\n    for k in range (1, ma[1]):\n            nulla2[k-1]=1\n    for u in range(0,11):\n            ebbol_az_evbol_napok+=(nulla2[u]*honap_lista[u])\n    \n    koztes_evek_napok=(ma[0]-elso[0]-1)*365\n    #szokoev\n    x=0\n    if elso[0]!=2021:\n        if (elso[0]%4==0 and elso[0]%100!=0) or elso[0]%1000==0:\n            x=(2020-elso[0])/4+1\n        else:\n            x=int((2020-elso[0])/4)+1\n    #if elso[0]<=2000 and elso[0]>1000:\n       #x=x+1\n    #elif elso[0]<=1000:\n        #x=x+2\n    \n    if (elso[1]>=3 and elso[0]%4==0 and elso[0]%100!=0) or (elso[1]>=3 and elso[0]%1000==0):\n        x=x-1\n\n    kulonbseg1=adott_evbol_marad+ebbol_az_evbol_napok+koztes_evek_napok+x\n\n    adott_ev_napok2=int(masodik[2])\n    nulla3=[0,0,0,0,0,0,0,0,0,0,0,0]\n    for i in range (1, masodik[1]):\n            nulla3[i-1]=1\n    for j in range(0,11):\n            adott_ev_napok2+=(nulla3[j]*honap_lista[j])\n    adott_evbol_marad2=365-adott_ev_napok2\n    \n    ebbol_az_evbol_napok2=int(ma[2])\n    nulla4=[0,0,0,0,0,0,0,0,0,0,0,0]\n    for k in range (1, ma[1]):\n            nulla4[k-1]=1\n    for u in range(0,11):\n            ebbol_az_evbol_napok2+=(nulla4[u]*honap_lista[u])\n    \n    koztes_evek_napok2=(ma[0]-masodik[0]-1)*365\n    #szokoev\n    x2=0\n    if masodik[0]!=2021:\n        if (masodik[0]%4==0 and masodik[0]%100!=0) or masodik[0]%1000==0:\n            x2=(2020-masodik[0])/4+1\n        else:\n            x2=int((2020-masodik[0])/4)+1\n    \n    if (masodik[1]>=3 and masodik[0]%4==0 and masodik[0]%100!=0) or (masodik[1]>=3 and masodik[0]%1000==0):\n        x2=x2-1\n\n    kulonbseg2=adott_evbol_marad2+ebbol_az_evbol_napok2+koztes_evek_napok2+x2\n\n    return (kulonbseg1,kulonbseg2)\n    \nharmadik(input_list1,input_list2)",
   "outputs": [
    {
     "output_type": "execute_result",
     "execution_count": 43,
     "data": {
      "text/plain": "(7614.0, 42590)"
     },
     "metadata": {}
    }
   ],
   "execution_count": null
  },
  {
   "cell_type": "code",
   "metadata": {
    "tags": [],
    "cell_id": "00012-d8ffba93-5c7d-44ac-9ce9-b693caf5d9d9",
    "deepnote_to_be_reexecuted": false,
    "source_hash": "e7f94c96",
    "execution_start": 1636072229804,
    "execution_millis": 210,
    "deepnote_cell_type": "code"
   },
   "source": "from func import check_day\ncheck_day(harmadik, input_list1, input_list2)",
   "outputs": [
    {
     "name": "stdout",
     "text": "Gratulálok! Megoldottad a feladatot!\n",
     "output_type": "stream"
    }
   ],
   "execution_count": null
  },
  {
   "cell_type": "markdown",
   "source": "## 4. feladat: írjatok egy függvényt, ami:\n- két számot fogad paraméterként\n- visszatérési értéke pedig a két szám legnagyobb közös osztója",
   "metadata": {
    "cell_id": "00013-67d6b8b0-d7ef-4523-9e5e-c3a6a6482193",
    "deepnote_cell_type": "markdown"
   }
  },
  {
   "cell_type": "code",
   "metadata": {
    "cell_id": "00014-a14024c6-9004-407c-8c6f-87496f7094bf",
    "deepnote_to_be_reexecuted": true,
    "source_hash": "54678937",
    "execution_start": 1636061580500,
    "execution_millis": 8,
    "deepnote_cell_type": "code"
   },
   "source": "input_integer_first = 12\ninput_integer_second = 18\ndef negyedik(p,q):\n    megoldas=int()\n    if input_integer_first>input_integer_second:\n        for i in range (int(input_integer_first)):\n            if input_integer_first%(i+1)==0 and input_integer_second%(i+1)==0:\n                megoldas=i\n    else: \n        for i in range (int(input_integer_second)):\n            if input_integer_second%(i+1)==0 and input_integer_first%(i+1)==0:\n                megoldas=i\n    return (megoldas+1)\nnegyedik(input_integer_first,input_integer_second)",
   "outputs": [
    {
     "output_type": "execute_result",
     "execution_count": 29,
     "data": {
      "text/plain": "6"
     },
     "metadata": {}
    }
   ],
   "execution_count": null
  },
  {
   "cell_type": "code",
   "metadata": {
    "tags": [],
    "cell_id": "00015-3be6b651-62c2-4e3d-ae2f-ee9f85be616e",
    "deepnote_to_be_reexecuted": true,
    "source_hash": "4675c1c0",
    "execution_start": 1636061642851,
    "execution_millis": 5,
    "deepnote_cell_type": "code"
   },
   "source": "from func import check_bcom\ncheck_bcom(negyedik, input_integer_first, input_integer_second)",
   "outputs": [
    {
     "name": "stdout",
     "text": "Gratulálok! Megoldottad a feladatot!\n",
     "output_type": "stream"
    }
   ],
   "execution_count": null
  },
  {
   "cell_type": "markdown",
   "source": "## 5. feladat: írjatok egy függvényt, ami:\n- egy string-et fogad első paraméternek\n- **minden n-edik karakterét tartja csak meg (ahol n a függvény második paramétere), az összes többit kidobja**\n- és ez a módosított string a visszatérési értéke\n\nFigyeljetek rá, hogy Pythonban **nullától kezdődik az indexelés**!",
   "metadata": {
    "cell_id": "00016-f73d8c54-4613-4fce-885f-bc3cc1cf35e3",
    "deepnote_cell_type": "markdown"
   }
  },
  {
   "cell_type": "code",
   "metadata": {
    "cell_id": "00017-9518f2da-f45c-4b05-8d6e-47b96650c36a",
    "deepnote_to_be_reexecuted": true,
    "source_hash": "3af618da",
    "execution_start": 1636062762220,
    "execution_millis": 95,
    "deepnote_cell_type": "code"
   },
   "source": "input_string = '123456789'\nn = 7\n\ndef otodik(p,n):\n    lista=[]\n    eredmeny=str()\n    for i in range (1,int(len(p)/n)+1):\n            karakter=p[i*n-1]\n            lista.append(karakter)\n    eredmeny=str(\"\".join(lista))\n    return eredmeny\notodik(input_string,n)",
   "outputs": [
    {
     "output_type": "execute_result",
     "execution_count": 59,
     "data": {
      "text/plain": "'7'"
     },
     "metadata": {}
    }
   ],
   "execution_count": null
  },
  {
   "cell_type": "code",
   "metadata": {
    "tags": [],
    "cell_id": "00018-f279cc7b-a0d0-48a3-a0e3-00e461a126ff",
    "deepnote_to_be_reexecuted": true,
    "source_hash": "f30d3b73",
    "execution_start": 1636062763893,
    "execution_millis": 5,
    "deepnote_cell_type": "code"
   },
   "source": "from func import check_sel\ncheck_sel(otodik,input_string,n)",
   "outputs": [
    {
     "name": "stdout",
     "text": "Gratulálok! Megoldottad a feladatot!\n",
     "output_type": "stream"
    }
   ],
   "execution_count": null
  },
  {
   "cell_type": "markdown",
   "source": "<a style='text-decoration:none;line-height:16px;display:flex;color:#5B5B62;padding:10px;justify-content:end;' href='https://deepnote.com?utm_source=created-in-deepnote-cell&projectId=978e47b7-a961-4dca-a945-499e8b781a34' target=\"_blank\">\n<img alt='Created in deepnote.com' style='display:inline;max-height:16px;margin:0px;margin-right:7.5px;' src='data:image/svg+xml;base64,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' > </img>\nCreated in <span style='font-weight:600;margin-left:4px;'>Deepnote</span></a>",
   "metadata": {
    "tags": [],
    "created_in_deepnote_cell": true,
    "deepnote_cell_type": "markdown"
   }
  }
 ],
 "nbformat": 4,
 "nbformat_minor": 2,
 "metadata": {
  "interpreter": {
   "hash": "0f59f7f215ee01922960672eb2518d48225d608dfbf68ace73e413cb864b1d4d"
  },
  "kernelspec": {
   "display_name": "Python 3.9.6 64-bit",
   "name": "python3"
  },
  "language_info": {
   "codemirror_mode": {
    "name": "ipython",
    "version": 3
   },
   "file_extension": ".py",
   "mimetype": "text/x-python",
   "name": "python",
   "nbconvert_exporter": "python",
   "pygments_lexer": "ipython3",
   "version": "3.9.6"
  },
  "orig_nbformat": 4,
  "deepnote_notebook_id": "08e1b815-1ac1-4526-a30c-56ba33eeb8b5",
  "deepnote": {},
  "deepnote_execution_queue": []
 }
}