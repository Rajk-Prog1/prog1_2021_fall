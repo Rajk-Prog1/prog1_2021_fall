{
 "cells": [
  {
   "cell_type": "markdown",
   "source": "### Függvény tulajdonságai\n\n- lehet őt:\n    - definiálni\n    - meghívni",
   "metadata": {
    "slideshow": {
     "slide_type": "slide"
    },
    "cell_id": "00000-c0ae6c93-e45e-486d-bca6-9212372748ce",
    "deepnote_cell_type": "markdown"
   }
  },
  {
   "cell_type": "markdown",
   "source": "- van(nak)/lehet(nek) neki:\n    - neve\n    - paraméterei\n    - visszatérési értéke (főhatása)\n    - mellékhatása\n    - lokális változói\n    - ha meghívjuk, lokális kerete",
   "metadata": {
    "slideshow": {
     "slide_type": "fragment"
    },
    "cell_id": "00001-5ae353e6-309b-425d-a5af-1ba17e9887e2",
    "deepnote_cell_type": "markdown"
   }
  },
  {
   "cell_type": "markdown",
   "source": "### Függvény Definíció (utasítás)\n\n#### 1. megadjuk a lehetséges paramétereket\n- tetszőleges számú lehet (akár 0 is)\n- típus számít (valahol előre meg kell adni)\n- sorrend számít (kikerülhető)",
   "metadata": {
    "slideshow": {
     "slide_type": "slide"
    },
    "cell_id": "00002-1ee1de1f-fb12-4e51-b9d2-65552490ac84",
    "deepnote_cell_type": "markdown"
   }
  },
  {
   "cell_type": "markdown",
   "source": "#### 2. utasítássok sorozata",
   "metadata": {
    "slideshow": {
     "slide_type": "fragment"
    },
    "cell_id": "00003-97f771d6-d9de-4396-8efc-2e12981e056f",
    "deepnote_cell_type": "markdown"
   }
  },
  {
   "cell_type": "markdown",
   "source": "#### 3. megadjuk a visszatérési (return) értéket",
   "metadata": {
    "slideshow": {
     "slide_type": "fragment"
    },
    "cell_id": "00004-8b2498c2-bc3f-45ae-97c0-e7a12be73d8c",
    "deepnote_cell_type": "markdown"
   }
  },
  {
   "cell_type": "markdown",
   "source": "### Függvény Meghívása (utasítás)\n\n#### 1. A függvény paraméterként kapott kifejezéseket kiértékeli\n- A paramétereknek ez a **kezdőértéke**",
   "metadata": {
    "slideshow": {
     "slide_type": "slide"
    },
    "cell_id": "00005-0853e513-baf0-4734-91f7-6dabb645887d",
    "deepnote_cell_type": "markdown"
   }
  },
  {
   "cell_type": "markdown",
   "source": "#### 2. Nyit egy lokális keretet a függvénynek\n",
   "metadata": {
    "slideshow": {
     "slide_type": "fragment"
    },
    "cell_id": "00006-8c9a71af-69b3-4dbb-9003-9122e50966cc",
    "deepnote_cell_type": "markdown"
   }
  },
  {
   "cell_type": "markdown",
   "source": "#### 3. A lokális keretben végrehajtja a függvényben definiált utasítássorozatot\n- lehet hatása a **globális** keretre, pl. **globális változó**kon és **referenciák**on keresztül",
   "metadata": {
    "slideshow": {
     "slide_type": "fragment"
    },
    "cell_id": "00007-d0247b54-1a39-4022-8dcf-6091ccd82f2a",
    "deepnote_cell_type": "markdown"
   }
  },
  {
   "cell_type": "markdown",
   "source": "#### 4. A return utasítással átadja a visszatérési értéket a meghívás helyének és törli a lokális keretet\n- A függvény meghívása egy utasítás, de a függvény maga kezelhető kifejezésként.\n- Egy kifejezés kiértékeléséhez lehet, hogy végre kell hajtanunk egy utasítást, ami meghív egy függvényt",
   "metadata": {
    "slideshow": {
     "slide_type": "fragment"
    },
    "cell_id": "00008-5b9ea60d-a9bf-4b2d-9830-d37270790c37",
    "deepnote_cell_type": "markdown"
   }
  },
  {
   "cell_type": "markdown",
   "source": "### Főhatás\nA visszatérési érték kiszámolása és visszaadása.",
   "metadata": {
    "slideshow": {
     "slide_type": "slide"
    },
    "cell_id": "00009-29898ef9-8fad-458b-84bb-2516a83c5a71",
    "deepnote_cell_type": "markdown"
   }
  },
  {
   "cell_type": "markdown",
   "source": "### Mellékhatás\nMinden, a függvény lokális keretén túlmutató dolog, amit a függvény csinál a visszatérési érték kiszámolásán kívül (módosít globális változón, kiír valamit a képernyőre, elment valami fájlt, stb.).",
   "metadata": {
    "slideshow": {
     "slide_type": "slide"
    },
    "cell_id": "00010-b0ea0b30-1e91-44aa-9881-bdbed774b8f6",
    "deepnote_cell_type": "markdown"
   }
  },
  {
   "cell_type": "markdown",
   "source": "### Lokális változó\n\nA **globális változó**kkal szemben, amit a program globális keretében szerepelnek, elérhetőek és módosíthatóak, a függvényekhez tartoznak lokális változók:\n- a függvény paraméterei (bemeneti változói helytelen nyelvtannal)\n- a függvényben deklarált változók\n- csak a függvény látja és éri el őket, a függvényt hívó program nem\n- a függvény lokális keretének részei, amit a függvény meghívásakor végrehajtott utasítások módosítanak\n- globális/lokális változók elválasztásának szigorúsága függ programnyelvtől",
   "metadata": {
    "slideshow": {
     "slide_type": "slide"
    },
    "cell_id": "00011-20cd014e-42f3-49aa-82ed-a8bfe4c2bf3e",
    "deepnote_cell_type": "markdown"
   }
  },
  {
   "cell_type": "markdown",
   "source": "### Függvény példák - python\n#### [Python](https://pythontutor.com/visualize.html#code=def%20multiply%28x,%20y%29%3A%0A%20%20%20%20%0A%20%20%20%20return%20x%20*%20y%0A%0Adef%20stats%28x,%20y%29%3A%0A%20%20%20%20%0A%20%20%20%20sum_%20%3D%20x%20%2B%20y%0A%20%20%20%20diff%20%3D%20x%20-%20y%0A%20%20%20%20prod%20%3D%20x%20*%20y%0A%20%20%20%20frac%20%3D%20x%20/%20y%0A%20%20%20%20%0A%20%20%20%20return%20sum_,%20diff,%20prod,%20frac%0A%20%20%20%20%0Adef%20half_adder%28a,%20b%29%3A%0A%20%20%20%20%0A%20%20%20%20s%20%3D%20a%20%5E%20b%0A%20%20%20%20c%20%3D%20a%20and%20b%0A%20%20%20%20%0A%20%20%20%20return%20str%28int%28c%29%29%20%2B%20str%28int%28s%29%29%0A%20%20%20%20%0Adef%20print_sentence%28subject,%20proposition,%20object_%29%3A%0A%20%20%20%20%0A%20%20%20%20sentence%20%3D%20%22%22%0A%20%20%20%20sentence%20%2B%3D%20subject%0A%20%20%20%20sentence%20%2B%3D%20%22%20%22%0A%20%20%20%20sentence%20%2B%3D%20proposition%0A%20%20%20%20sentence%20%2B%3D%20%22%20%22%0A%20%20%20%20sentence%20%2B%3D%20object_%0A%20%20%20%20%0A%20%20%20%20print%28sentence%29%0A%20%20%20%20%0Adef%20return_sentence%28subject,%20proposition,%20object_%29%3A%0A%20%20%20%20%0A%20%20%20%20return%20subject%20%2B%20%22%20%22%20%2B%20proposition%20%2B%20%22%20%22%20%2B%20object_%0A%20%20%20%20%0Asum_,%20diff,%20prod,%20frac%20%3D%20stats%282%20**%203,%203%20/%205%29%0Aresult%20%3D%20half_adder%28True,%20False%29%0Asentence_1%20%3D%20print_sentence%28%22Katinka%22,%20%22loves%22,%20%22programming%22%29%0Asentence_2%20%3D%20return_sentence%28%22This%22,%20%22makes%22,%20%22sense%22%29%0Ap%20%3D%20multiply%283,%20int%28result%20%3C%20return_sentence%28%22This%22,%20%22is%22,%20%22weird%22%29%29%29&cumulative=false&heapPrimitives=nevernest&mode=edit&origin=opt-frontend.js&py=3&rawInputLstJSON=%5B%5D&textReferences=false)",
   "metadata": {
    "slideshow": {
     "slide_type": "slide"
    },
    "cell_id": "00012-b7cf87bc-4eee-42f8-8f3b-6f99b318c568",
    "deepnote_cell_type": "markdown"
   }
  },
  {
   "cell_type": "markdown",
   "source": "### Függvény példák - JavaScript\n#### [JavaScript](http://pythontutor.com/iframe-embed.html#code=function%20fun1%28a,b%29%7B%0A%20%20%20%20var%20c%20%3D%20a%20%2B%20%22%20fing%20%22%0A%20%20%20%20return%20c.repeat%28b%29%0A%7D%0A%0Afunction%20fun2%28n%29%7B%0A%20%20%20%20var%20a%20%3D%20-2%20*%20n%0A%20%20%20%20var%20b%20%3D%20Math.pow%28a,2%29%0A%20%20%20%20a%20%3D%20a%20-%208%0A%20%20%20%20var%20h%20%3D%20a%20%2B%20b%0A%20%20%20%20return%20h%0A%7D%0A%0Afunction%20fun3%28a,b,c%29%7B%0A%20%20%20%20var%20x%20%3D%20a%20%2B%20b%0A%20%20%20%20return%20c/x%20%2B%202*x/c%0A%7D%0A%0Avar%20v%20%3D%20fun2%282%29%0Avar%20w%20%3D%20fun1%28%22bla%22,v%29%0Avar%20a%20%3D%20fun3%2811%2B2,5/4,3%29%0Avar%20b%20%3D%20fun1%28%22boo%22,fun2%282%29%20-%202%29&codeDivHeight=400&codeDivWidth=350&curInstr=0&origin=opt-frontend.js&py=js&rawInputLstJSON=%5B%5D)",
   "metadata": {
    "slideshow": {
     "slide_type": "subslide"
    },
    "cell_id": "00013-3215b3e6-9392-4624-8a3e-7cac735688bc",
    "deepnote_cell_type": "markdown"
   }
  },
  {
   "cell_type": "markdown",
   "source": "### Függvény példák - C++\n#### [C++](http://pythontutor.com/iframe-embed.html#code=%23include%20%3Cstring%3E%0A%23include%20%3Ccmath%3E%0A%23include%20%3Ciostream%3E%0A%0Ausing%20namespace%20std%3B%0A%0Astring%20operator*%28string%20s,%20int%20n%29%20%7B%0A%20%20%20%20string%20out%3B%0A%20%20%20%20while%20%28n%20%3E%200%29%7B%0A%20%20%20%20%20%20%20%20out%20%3D%20out%20%2B%20s%3B%0A%20%20%20%20%20%20%20%20n%20%3D%20n-1%3B%0A%20%20%20%20%7D%0A%20%20%20%20return%20out%3B%0A%7D%0A%0A%0Astring%20fun1%28string%20a,int%20b%29%7B%0A%20%20%20%20string%20c%20%3D%20a%20%2B%20%22%20fing%20%22%3B%0A%20%20%20%20return%20c%20*%20b%3B%0A%7D%0A%0Aint%20fun2%28int%20n%29%7B%0A%20%20%20%20int%20a%20%3D%20-2%20*%20n%3B%0A%20%20%20%20int%20b%20%3D%20pow%28a,2%29%3B%0A%20%20%20%20a%20%3D%20a%20-%208%3B%0A%20%20%20%20int%20h%20%3D%20a%20%2B%20b%3B%0A%20%20%20%20return%20h%3B%0A%7D%0A%0Afloat%20fun3%28float%20a,%20float%20b,float%20c%29%7B%0A%20%20%20%20float%20x%20%3D%20a%20%2B%20b%3B%0A%20%20%20%20return%20c/x%20%2B%202*x/c%3B%0A%7D%0A%0A%0Aint%20main%28%29%20%7B%0A%0A%20%20int%20v%20%3D%20fun2%282%29%3B%0A%20%20string%20w%20%3D%20fun1%28%22bla%22,v%29%3B%0A%20%20float%20a%20%3D%20fun3%2811%2B2,5/4,3%29%3B%0A%20%20string%20b%20%3D%20fun1%28%22boo%22,fun2%282%29%20-%202%29%3B%0A%0A%20%20cout%20%3C%3C%20w%20%3C%3C%20endl%3B%0A%20%20cout%20%3C%3C%20b%3B%0A%0A%20%20return%200%3B%0A%7D&codeDivHeight=400&codeDivWidth=350&cumulative=false&curInstr=0&heapPrimitives=nevernest&origin=opt-frontend.js&py=cpp&rawInputLstJSON=%5B%5D&textReferences=false)",
   "metadata": {
    "slideshow": {
     "slide_type": "subslide"
    },
    "cell_id": "00014-b16b55fd-ecdf-45e5-9cda-9721c090d8eb",
    "deepnote_cell_type": "markdown"
   }
  },
  {
   "cell_type": "markdown",
   "source": "### Nyelvek összehasonlítása\nMilyen gyorsak egymáshoz képest?\n- python\n- php\n- c++\n- java",
   "metadata": {
    "slideshow": {
     "slide_type": "slide"
    },
    "cell_id": "00015-4d9a549a-5794-4116-908a-4a0b9eecb0ae",
    "deepnote_cell_type": "markdown"
   }
  },
  {
   "cell_type": "markdown",
   "source": "[github repo](https://github.com/endremborza/fibonacci_language_comparison)",
   "metadata": {
    "slideshow": {
     "slide_type": "fragment"
    },
    "cell_id": "00016-a7e35d3e-22ca-4e27-8707-69e708128262",
    "deepnote_cell_type": "markdown"
   }
  },
  {
   "cell_type": "markdown",
   "source": "<a style='text-decoration:none;line-height:16px;display:flex;color:#5B5B62;padding:10px;justify-content:end;' href='https://deepnote.com?utm_source=created-in-deepnote-cell&projectId=978e47b7-a961-4dca-a945-499e8b781a34' target=\"_blank\">\n<img alt='Created in deepnote.com' style='display:inline;max-height:16px;margin:0px;margin-right:7.5px;' src='data:image/svg+xml;base64,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' > </img>\nCreated in <span style='font-weight:600;margin-left:4px;'>Deepnote</span></a>",
   "metadata": {
    "tags": [],
    "created_in_deepnote_cell": true,
    "deepnote_cell_type": "markdown"
   }
  }
 ],
 "nbformat": 4,
 "nbformat_minor": 4,
 "metadata": {
  "celltoolbar": "Slideshow",
  "deepnote": {},
  "deepnote_execution_queue": [],
  "deepnote_notebook_id": "d602b6aa-5a1a-4745-896a-11bf98d87b90",
  "kernelspec": {
   "display_name": "Python 3 (ipykernel)",
   "language": "python",
   "name": "python3"
  },
  "language_info": {
   "codemirror_mode": {
    "name": "ipython",
    "version": 3
   },
   "file_extension": ".py",
   "mimetype": "text/x-python",
   "name": "python",
   "nbconvert_exporter": "python",
   "pygments_lexer": "ipython3",
   "version": "3.9.7"
  }
 }
}