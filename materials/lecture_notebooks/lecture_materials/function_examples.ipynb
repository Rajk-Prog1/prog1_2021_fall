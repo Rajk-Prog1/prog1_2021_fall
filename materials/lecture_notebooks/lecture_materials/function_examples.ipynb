{
 "cells": [
  {
   "cell_type": "markdown",
   "source": "#### paraméter nélkül",
   "metadata": {
    "cell_id": "00000-18ffda28-10ea-4369-86f2-7e6091b8f2fb",
    "deepnote_cell_type": "markdown"
   }
  },
  {
   "cell_type": "code",
   "metadata": {
    "cell_id": "00001-43cc5d7d-d52d-4b1c-ab01-7bdcef4b4687",
    "deepnote_cell_type": "code"
   },
   "source": "def greeting():\n    \n    return \"hello\"",
   "outputs": [],
   "execution_count": null
  },
  {
   "cell_type": "markdown",
   "source": "---",
   "metadata": {
    "cell_id": "00002-dd25425e-d47a-47c6-89c6-1e75e5338333",
    "deepnote_cell_type": "markdown"
   }
  },
  {
   "cell_type": "markdown",
   "source": "#### paraméterekkel",
   "metadata": {
    "cell_id": "00003-74be5912-32ef-402a-9270-17c1c5e76c1c",
    "deepnote_cell_type": "markdown"
   }
  },
  {
   "cell_type": "code",
   "metadata": {
    "cell_id": "00004-0f77f90d-daa0-47ff-916a-a332fcf5ac26",
    "deepnote_cell_type": "code"
   },
   "source": "def divide(x, y):\n\n    return x / y",
   "outputs": [],
   "execution_count": null
  },
  {
   "cell_type": "markdown",
   "source": "---",
   "metadata": {
    "cell_id": "00005-982cf3f6-2251-407c-98fb-7e77ff43606c",
    "deepnote_cell_type": "markdown"
   }
  },
  {
   "cell_type": "markdown",
   "source": "#### opcionális paraméterekkel",
   "metadata": {
    "cell_id": "00006-44f62fda-abba-4e10-9fe6-2d915b27c6ea",
    "deepnote_cell_type": "markdown"
   }
  },
  {
   "cell_type": "code",
   "metadata": {
    "cell_id": "00007-8f9a3f5a-e1ae-46d4-9014-1bfdd763585d",
    "deepnote_cell_type": "code"
   },
   "source": "def divide_with_default(x=1, y=1):\n\n    return x / y",
   "outputs": [],
   "execution_count": null
  },
  {
   "cell_type": "markdown",
   "source": "---",
   "metadata": {
    "cell_id": "00008-933990ab-28b1-4c2c-bbfe-cb61757c49c6",
    "deepnote_cell_type": "markdown"
   }
  },
  {
   "cell_type": "markdown",
   "source": "#### típus meghatározásokkal",
   "metadata": {
    "cell_id": "00009-18ac7427-a66c-419e-9455-2d13a3a82fb2",
    "deepnote_cell_type": "markdown"
   }
  },
  {
   "cell_type": "code",
   "metadata": {
    "cell_id": "00010-b5ad31b1-64cd-4e05-96c4-9a0a9a8ca51b",
    "deepnote_cell_type": "code"
   },
   "source": "def divide_with_types(x: float, y: float) -> float:\n    \n    return x / y",
   "outputs": [],
   "execution_count": null
  },
  {
   "cell_type": "markdown",
   "source": "---",
   "metadata": {
    "cell_id": "00011-e9430251-4166-47dd-8952-e1458a3ed648",
    "deepnote_cell_type": "markdown"
   }
  },
  {
   "cell_type": "markdown",
   "source": "#### több utasítással",
   "metadata": {
    "cell_id": "00012-8bfe1ed2-5d0c-46aa-98f4-f98b6a948e5b",
    "deepnote_cell_type": "markdown"
   }
  },
  {
   "cell_type": "code",
   "metadata": {
    "cell_id": "00013-d95082b3-16ed-43ef-b9b4-4fbc1f9e522e",
    "deepnote_cell_type": "code"
   },
   "source": "def square_sum(x, y):\n    \n    x_square = x ** 2\n    y_square = y ** 2\n    \n    return x_square + y_square",
   "outputs": [],
   "execution_count": null
  },
  {
   "cell_type": "markdown",
   "source": "---",
   "metadata": {
    "cell_id": "00014-d42d1d72-4416-4575-a26b-400ba5febf46",
    "deepnote_cell_type": "markdown"
   }
  },
  {
   "cell_type": "markdown",
   "source": "#### főhatás nélkül",
   "metadata": {
    "cell_id": "00015-a148aee8-1934-4f75-a793-6d1500cf61ff",
    "deepnote_cell_type": "markdown"
   }
  },
  {
   "cell_type": "code",
   "metadata": {
    "cell_id": "00016-ea6cc682-b00d-41c6-9159-5f4445076be2",
    "deepnote_cell_type": "code"
   },
   "source": "def no_return(x, y):\n    \n    z = (x + y) / 2",
   "outputs": [],
   "execution_count": null
  },
  {
   "cell_type": "code",
   "metadata": {
    "cell_id": "00017-0ffb30dc-4093-41fd-aed2-adccbd3c1bac",
    "deepnote_cell_type": "code"
   },
   "source": "no_return(2, 3)",
   "outputs": [],
   "execution_count": null
  },
  {
   "cell_type": "code",
   "metadata": {
    "cell_id": "00018-68f8c808-d939-4da4-9b51-5f1c9427321e",
    "deepnote_cell_type": "code"
   },
   "source": "z",
   "outputs": [
    {
     "ename": "NameError",
     "evalue": "name 'z' is not defined",
     "output_type": "error",
     "traceback": [
      "\u001b[0;31m---------------------------------------------------------------------------\u001b[0m",
      "\u001b[0;31mNameError\u001b[0m                                 Traceback (most recent call last)",
      "\u001b[0;32m/var/folders/xh/lxcftm7d4sb60dd9bpm0z0m80000gn/T/ipykernel_56814/1705769632.py\u001b[0m in \u001b[0;36m<module>\u001b[0;34m\u001b[0m\n\u001b[0;32m----> 1\u001b[0;31m \u001b[0mz\u001b[0m\u001b[0;34m\u001b[0m\u001b[0;34m\u001b[0m\u001b[0m\n\u001b[0m",
      "\u001b[0;31mNameError\u001b[0m: name 'z' is not defined"
     ]
    }
   ],
   "execution_count": null
  },
  {
   "cell_type": "markdown",
   "source": "#### mellékhatással",
   "metadata": {
    "cell_id": "00019-50af7333-38db-41fd-8209-2ea94bc532b3",
    "deepnote_cell_type": "markdown"
   }
  },
  {
   "cell_type": "code",
   "metadata": {
    "cell_id": "00020-ead460c2-c82c-41cd-b337-f8df682e454e",
    "deepnote_cell_type": "code"
   },
   "source": "a = 0",
   "outputs": [],
   "execution_count": null
  },
  {
   "cell_type": "code",
   "metadata": {
    "cell_id": "00021-f4bb6122-4e56-42f9-9bb9-60f667769c77",
    "deepnote_cell_type": "code"
   },
   "source": "def add_one_to_a():\n    \n    global a\n    \n    a += 1",
   "outputs": [],
   "execution_count": null
  },
  {
   "cell_type": "code",
   "metadata": {
    "cell_id": "00022-b35703d4-647c-4a08-b084-71cf5af4c0f9",
    "deepnote_cell_type": "code"
   },
   "source": "add_one_to_a()",
   "outputs": [],
   "execution_count": null
  },
  {
   "cell_type": "code",
   "metadata": {
    "cell_id": "00023-01b4b7f5-3589-4849-843b-0c30eb57e889",
    "deepnote_cell_type": "code"
   },
   "source": "a",
   "outputs": [
    {
     "data": {
      "text/plain": "1"
     },
     "execution_count": 19,
     "metadata": {},
     "output_type": "execute_result"
    }
   ],
   "execution_count": null
  },
  {
   "cell_type": "markdown",
   "source": "---",
   "metadata": {
    "cell_id": "00024-f06d8d01-ca78-4cd9-b487-2773b53dad1d",
    "deepnote_cell_type": "markdown"
   }
  },
  {
   "cell_type": "markdown",
   "source": "#### először kiértékeli a paraméterként kapott kifejezéseket",
   "metadata": {
    "cell_id": "00025-3b713cfe-6d7b-4325-8bca-f6a340d3ddd4",
    "deepnote_cell_type": "markdown"
   }
  },
  {
   "cell_type": "code",
   "metadata": {
    "cell_id": "00026-19bdef5b-05e6-489c-95cb-b6e31518bf87",
    "deepnote_cell_type": "code"
   },
   "source": "divide(2 + 3, 4 * 5 ** 2)",
   "outputs": [
    {
     "data": {
      "text/plain": "0.05"
     },
     "execution_count": 24,
     "metadata": {},
     "output_type": "execute_result"
    }
   ],
   "execution_count": null
  },
  {
   "cell_type": "code",
   "metadata": {
    "cell_id": "00027-ecde2ba6-de65-4920-b97c-ce4a0a5afe33",
    "deepnote_cell_type": "code"
   },
   "source": "square_sum(4, 5)",
   "outputs": [
    {
     "data": {
      "text/plain": "41"
     },
     "execution_count": 25,
     "metadata": {},
     "output_type": "execute_result"
    }
   ],
   "execution_count": null
  },
  {
   "cell_type": "code",
   "metadata": {
    "cell_id": "00028-9e90a98b-3a26-41e1-af21-d57c4c03e871",
    "deepnote_cell_type": "code"
   },
   "source": "x_square",
   "outputs": [
    {
     "ename": "NameError",
     "evalue": "name 'x_square' is not defined",
     "output_type": "error",
     "traceback": [
      "\u001b[0;31m---------------------------------------------------------------------------\u001b[0m",
      "\u001b[0;31mNameError\u001b[0m                                 Traceback (most recent call last)",
      "\u001b[0;32m/var/folders/xh/lxcftm7d4sb60dd9bpm0z0m80000gn/T/ipykernel_56814/3848769913.py\u001b[0m in \u001b[0;36m<module>\u001b[0;34m\u001b[0m\n\u001b[0;32m----> 1\u001b[0;31m \u001b[0mx_square\u001b[0m\u001b[0;34m\u001b[0m\u001b[0;34m\u001b[0m\u001b[0m\n\u001b[0m",
      "\u001b[0;31mNameError\u001b[0m: name 'x_square' is not defined"
     ]
    }
   ],
   "execution_count": null
  },
  {
   "cell_type": "markdown",
   "source": "---",
   "metadata": {
    "cell_id": "00029-94be21d9-f4d8-45eb-b9aa-5dbe7068558b",
    "deepnote_cell_type": "markdown"
   }
  },
  {
   "cell_type": "markdown",
   "source": "#### függvény meghívás kifejezés kiértékeléséhez",
   "metadata": {
    "cell_id": "00030-b8abe91d-be15-440b-a696-6844860484df",
    "deepnote_cell_type": "markdown"
   }
  },
  {
   "cell_type": "code",
   "metadata": {
    "cell_id": "00031-3523554d-09b5-4535-95c3-3eb013947207",
    "deepnote_cell_type": "code"
   },
   "source": "23 > divide(40, 8) * square_sum(6, 9)",
   "outputs": [
    {
     "data": {
      "text/plain": "False"
     },
     "execution_count": 27,
     "metadata": {},
     "output_type": "execute_result"
    }
   ],
   "execution_count": null
  },
  {
   "cell_type": "code",
   "metadata": {
    "cell_id": "00032-b11777fc-7530-493a-84f7-af6b23cfb198",
    "deepnote_cell_type": "code"
   },
   "source": "",
   "execution_count": null,
   "outputs": []
  },
  {
   "cell_type": "markdown",
   "source": "<a style='text-decoration:none;line-height:16px;display:flex;color:#5B5B62;padding:10px;justify-content:end;' href='https://deepnote.com?utm_source=created-in-deepnote-cell&projectId=978e47b7-a961-4dca-a945-499e8b781a34' target=\"_blank\">\n<img alt='Created in deepnote.com' style='display:inline;max-height:16px;margin:0px;margin-right:7.5px;' src='data:image/svg+xml;base64,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' > </img>\nCreated in <span style='font-weight:600;margin-left:4px;'>Deepnote</span></a>",
   "metadata": {
    "tags": [],
    "created_in_deepnote_cell": true,
    "deepnote_cell_type": "markdown"
   }
  }
 ],
 "nbformat": 4,
 "nbformat_minor": 5,
 "metadata": {
  "kernelspec": {
   "display_name": "Python 3 (ipykernel)",
   "language": "python",
   "name": "python3"
  },
  "language_info": {
   "codemirror_mode": {
    "name": "ipython",
    "version": 3
   },
   "file_extension": ".py",
   "mimetype": "text/x-python",
   "name": "python",
   "nbconvert_exporter": "python",
   "pygments_lexer": "ipython3",
   "version": "3.9.7"
  },
  "deepnote_notebook_id": "6c9d7451-fb6f-466f-b75c-8cb860bff2f2",
  "deepnote": {},
  "deepnote_execution_queue": []
 }
}