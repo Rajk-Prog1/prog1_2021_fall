{
 "cells": [
  {
   "cell_type": "markdown",
   "source": "### Entscheidungsproblem\n*Találjunk olyan általános eljárást, amivel véges lépésben eldönthető, hogy egy tetszőleges diofantoszi egyenletnek van-e megoldása.*\n",
   "metadata": {
    "slideshow": {
     "slide_type": "slide"
    },
    "cell_id": "00000-138c714c-b7b1-45dd-9b90-cfc7f8e7696f",
    "deepnote_cell_type": "markdown"
   }
  },
  {
   "cell_type": "markdown",
   "source": "(Az 1900-ban David Hilbert által meghirdetett 23 legnagyobb megoldatlan matematikai probléma egyike.)",
   "metadata": {
    "slideshow": {
     "slide_type": "fragment"
    },
    "cell_id": "00001-fc69d266-2cab-46ab-a9b7-1f6f1856f382",
    "deepnote_cell_type": "markdown"
   }
  },
  {
   "cell_type": "markdown",
   "source": "### Entscheidungsproblem\nÁtfogalmazás: ***Találjunk olyan általános eljárást, amivel véges lépésben eldönthető egy tetszőleges, tisztán logikai állítás igazságértéke.***\n",
   "metadata": {
    "slideshow": {
     "slide_type": "subslide"
    },
    "cell_id": "00002-93e0e357-8c1c-4b79-a41d-fb5892c6ff8c",
    "deepnote_cell_type": "markdown"
   }
  },
  {
   "cell_type": "markdown",
   "source": "$\\rightarrow$ ez a matematikai nyelven definiálható problémák általánosított megoldása lenne\n",
   "metadata": {
    "slideshow": {
     "slide_type": "fragment"
    },
    "cell_id": "00003-5e6ff1b8-2266-43b4-bce0-aee5ef42bcc9",
    "deepnote_cell_type": "markdown"
   }
  },
  {
   "cell_type": "markdown",
   "source": "Mit jelent itt az *eljárás*? - Erre a kérdésre válaszolt Alan Turing...",
   "metadata": {
    "slideshow": {
     "slide_type": "fragment"
    },
    "cell_id": "00004-b3fe0371-6315-40ac-89e3-a2527dbe2273",
    "deepnote_cell_type": "markdown"
   }
  },
  {
   "cell_type": "markdown",
   "source": "### Turing-gép informálisan\n![Turing-gép](https://2.bp.blogspot.com/_SxF4qAT1qhw/S-2WuhkgUGI/AAAAAAAAAvA/jpWZdELhcF8/s1600/TuringMachine3.gif)\n",
   "metadata": {
    "slideshow": {
     "slide_type": "slide"
    },
    "cell_id": "00005-f39ceb37-685f-4d56-b0eb-17b6fdad210f",
    "deepnote_cell_type": "markdown"
   }
  },
  {
   "cell_type": "markdown",
   "source": "- **szalag**: tetszőleges hosszúságú, cellákra osztott, rajta jelekkel (cellánként egy jel)",
   "metadata": {
    "slideshow": {
     "slide_type": "fragment"
    },
    "cell_id": "00006-9264c13e-09cc-4571-892b-855b0eefb623",
    "deepnote_cell_type": "markdown"
   }
  },
  {
   "cell_type": "markdown",
   "source": "### Turing-gép informálisan\n- **gép:**\n",
   "metadata": {
    "slideshow": {
     "slide_type": "subslide"
    },
    "cell_id": "00007-807c33c2-428c-48e1-8863-960ac246e983",
    "deepnote_cell_type": "markdown"
   }
  },
  {
   "cell_type": "markdown",
   "source": "- olvassa és írja a szalagot\n",
   "metadata": {
    "slideshow": {
     "slide_type": "fragment"
    },
    "cell_id": "00008-273534c5-8cd9-4e53-aaf6-db51d4944a21",
    "deepnote_cell_type": "markdown"
   }
  },
  {
   "cell_type": "markdown",
   "source": "- beépített, egyértelmű instrukciók\n",
   "metadata": {
    "slideshow": {
     "slide_type": "fragment"
    },
    "cell_id": "00009-7bed849a-7a17-42ae-9692-b05f97081486",
    "deepnote_cell_type": "markdown"
   }
  },
  {
   "cell_type": "markdown",
   "source": "- meghatározott helyen kezd a szalagon\n",
   "metadata": {
    "slideshow": {
     "slide_type": "fragment"
    },
    "cell_id": "00010-8ad2cc91-5f7a-4dc2-9189-5af7e6cee54f",
    "deepnote_cell_type": "markdown"
   }
  },
  {
   "cell_type": "markdown",
   "source": "- elolvas egy jelet és az instrukciók függvényében:\n",
   "metadata": {
    "slideshow": {
     "slide_type": "fragment"
    },
    "cell_id": "00011-9d51d207-2d74-48fd-99bc-396800517647",
    "deepnote_cell_type": "markdown"
   }
  },
  {
   "cell_type": "markdown",
   "source": "- ír a helyére valamit, majd elmozdul jobbra/balra és beolvassa, ami ott van\n",
   "metadata": {
    "slideshow": {
     "slide_type": "fragment"
    },
    "cell_id": "00012-25671571-11ab-44c5-848a-734d4a62fd07",
    "deepnote_cell_type": "markdown"
   }
  },
  {
   "cell_type": "markdown",
   "source": "- leáll (HALT)",
   "metadata": {
    "slideshow": {
     "slide_type": "fragment"
    },
    "cell_id": "00013-9d79d090-2380-41c6-92cf-3060fd07bc73",
    "deepnote_cell_type": "markdown"
   }
  },
  {
   "cell_type": "markdown",
   "source": "### Turing-gép formálisan\n$ M = \\langle Q, \\Gamma, \\delta, q_0, q_f \\rangle $\n",
   "metadata": {
    "slideshow": {
     "slide_type": "slide"
    },
    "cell_id": "00014-2275050d-8e6b-4e09-b5e9-0aaaf419e39d",
    "deepnote_cell_type": "markdown"
   }
  },
  {
   "cell_type": "markdown",
   "source": "- $Q$ - állások listája\n",
   "metadata": {
    "slideshow": {
     "slide_type": "fragment"
    },
    "cell_id": "00015-e4b09445-54e6-4c4b-bcdb-f6fbc06af254",
    "deepnote_cell_type": "markdown"
   }
  },
  {
   "cell_type": "markdown",
   "source": "- ezen belül $q_0$ a kezdőállás, $q_f$ pedig a lehetséges végső (\"halting\") állások\n",
   "metadata": {
    "slideshow": {
     "slide_type": "fragment"
    },
    "cell_id": "00016-6cb2bd9f-cb2c-4cb1-a774-f233e26ac3c2",
    "deepnote_cell_type": "markdown"
   }
  },
  {
   "cell_type": "markdown",
   "source": "- $\\Gamma$ - szalagon szerepelhető jelek ábécéje\n",
   "metadata": {
    "slideshow": {
     "slide_type": "fragment"
    },
    "cell_id": "00017-82752d81-59c2-48dc-a9d4-cc5931f32a3a",
    "deepnote_cell_type": "markdown"
   }
  },
  {
   "cell_type": "markdown",
   "source": "- $\\delta$ az utasításkészlet egy függvényben: $(Q \\setminus q_f) \\times \\Gamma \\rightarrow Q \\times \\Gamma \\times \\[L,R\\]$",
   "metadata": {
    "slideshow": {
     "slide_type": "fragment"
    },
    "cell_id": "00018-48070f78-2cf6-4133-99e8-02895ceaaabc",
    "deepnote_cell_type": "markdown"
   }
  },
  {
   "cell_type": "markdown",
   "source": "### Busy Beaver\nOlyan Turing-gép, ami egy tiszán 0-kból álló szalagra a lehető legtöbb 1-est írja úgy, hogy végül eléri a halting állapotát.\n",
   "metadata": {
    "slideshow": {
     "slide_type": "subslide"
    },
    "cell_id": "00019-efd1d63c-01a2-4489-bbfc-21a1a2f1c97b",
    "deepnote_cell_type": "markdown"
   }
  },
  {
   "cell_type": "markdown",
   "source": "Egy ***n állású busy beaver*** legyőzi az összes olyan Turing-gépet ebben a feladatban, amelynek *n* lehetséges állása van.",
   "metadata": {
    "slideshow": {
     "slide_type": "fragment"
    },
    "cell_id": "00020-6c5c819b-af0d-434e-82cf-0c416c3f8230",
    "deepnote_cell_type": "markdown"
   }
  },
  {
   "cell_type": "markdown",
   "source": "### Két állású busy beaver\n$ \\Gamma = \\langle 1, 0 \\rangle , Q=\\langle A, B, HALT \\rangle $, $ q_0 = A, q_f = HALT $, $\\delta:$\n",
   "metadata": {
    "slideshow": {
     "slide_type": "subslide"
    },
    "cell_id": "00021-d954b203-795c-487a-bfc9-6dd775fc980c",
    "deepnote_cell_type": "markdown"
   }
  },
  {
   "cell_type": "markdown",
   "source": "| input | A | B | \n",
   "metadata": {
    "slideshow": {
     "slide_type": "fragment"
    },
    "cell_id": "00022-bd8d73ab-4a83-4177-94c4-a406c80c1635",
    "deepnote_cell_type": "markdown"
   }
  },
  {
   "cell_type": "markdown",
   "source": "| 1 | 1LB | 1RH |\n",
   "metadata": {
    "slideshow": {
     "slide_type": "fragment"
    },
    "cell_id": "00023-408c0a0c-f475-4497-87fe-7dc5a6bbc4eb",
    "deepnote_cell_type": "markdown"
   }
  },
  {
   "cell_type": "markdown",
   "source": "| 0 | 1RB | 1LA |",
   "metadata": {
    "slideshow": {
     "slide_type": "fragment"
    },
    "cell_id": "00024-8cadd992-6296-4be2-84af-8141c6a44765",
    "deepnote_cell_type": "markdown"
   }
  },
  {
   "cell_type": "markdown",
   "source": "### 3 kártyás Busy Beaver\n| input | A | B | C\n",
   "metadata": {
    "slideshow": {
     "slide_type": "subslide"
    },
    "cell_id": "00025-823ddc79-53c9-4fff-b8ea-b2bc484bce72",
    "deepnote_cell_type": "markdown"
   }
  },
  {
   "cell_type": "markdown",
   "source": "| 0 | 1RB | 1LA | 1LB\n",
   "metadata": {
    "slideshow": {
     "slide_type": "fragment"
    },
    "cell_id": "00026-20edb768-9897-4c72-b6ec-48854742f0c0",
    "deepnote_cell_type": "markdown"
   }
  },
  {
   "cell_type": "markdown",
   "source": "| 1 |1LC | 1RB | 1RH",
   "metadata": {
    "slideshow": {
     "slide_type": "fragment"
    },
    "cell_id": "00027-0fca087e-8603-40ac-a6dd-974342ea192b",
    "deepnote_cell_type": "markdown"
   }
  },
  {
   "cell_type": "markdown",
   "source": "### Busy beaver automata\n<a href=\"https://turingmachine.io/\" target=\"_blank\">link</a>",
   "metadata": {
    "slideshow": {
     "slide_type": "subslide"
    },
    "cell_id": "00028-71e34e46-8f0d-42f5-820b-7e15b12b9eae",
    "deepnote_cell_type": "markdown"
   }
  },
  {
   "cell_type": "markdown",
   "source": "### Busy Beaver számok\n| állások száma | maximálisan felrajzolható 1-esek |\n",
   "metadata": {
    "slideshow": {
     "slide_type": "subslide"
    },
    "cell_id": "00029-4a415ec8-9ae7-4ffb-877c-3608e0dcd267",
    "deepnote_cell_type": "markdown"
   }
  },
  {
   "cell_type": "markdown",
   "source": "| 3 | 21 <!-- .element: class=\"fragment\"  --> |\n",
   "metadata": {
    "slideshow": {
     "slide_type": "fragment"
    },
    "cell_id": "00030-a9982d59-d845-411b-a33c-763bbc7741c7",
    "deepnote_cell_type": "markdown"
   }
  },
  {
   "cell_type": "markdown",
   "source": "| 4 | 107 <!-- .element: class=\"fragment\"  --> |\n",
   "metadata": {
    "slideshow": {
     "slide_type": "fragment"
    },
    "cell_id": "00031-67db4dd6-f00d-4d8a-9674-7a7c4cd3d92e",
    "deepnote_cell_type": "markdown"
   }
  },
  {
   "cell_type": "markdown",
   "source": "| 5 | 47176870 ? <!-- .element: class=\"fragment\"  --> |\n",
   "metadata": {
    "slideshow": {
     "slide_type": "fragment"
    },
    "cell_id": "00032-f3fa42b8-4184-4181-96e8-f7253c561e10",
    "deepnote_cell_type": "markdown"
   }
  },
  {
   "cell_type": "markdown",
   "source": "| 6 | $7.4 \\times 10^{36534}$ ? <!-- .element: class=\"fragment\"  --> |",
   "metadata": {
    "slideshow": {
     "slide_type": "fragment"
    },
    "cell_id": "00033-0bd9c766-d06e-472f-a5c6-40011310ef86",
    "deepnote_cell_type": "markdown"
   }
  },
  {
   "cell_type": "markdown",
   "source": "### Nem-kiszámíthatóság\nEgy függvény kiszámítható, ha létezik egy véges algoritmus, ami minden input függvényében megmondja az outputot.\n",
   "metadata": {
    "slideshow": {
     "slide_type": "subslide"
    },
    "cell_id": "00034-ea14833b-a341-403e-9143-206a111cb025",
    "deepnote_cell_type": "markdown"
   }
  },
  {
   "cell_type": "markdown",
   "source": "A busy beaver esetében **nincs olyan kiszámítható függvény, ami az állapotok számának függvényében megmondja a maximum felírható egyesek számát**.",
   "metadata": {
    "slideshow": {
     "slide_type": "fragment"
    },
    "cell_id": "00035-93ff7f05-dda7-451c-b74e-4a6f1e52f9f0",
    "deepnote_cell_type": "markdown"
   }
  },
  {
   "cell_type": "markdown",
   "source": "### Állapot (state)\nMinden, a program által adott pontban elérhető és általa tárolt információ.",
   "metadata": {
    "slideshow": {
     "slide_type": "slide"
    },
    "cell_id": "00036-5bdd0e8f-84a1-4bcf-887c-93b49b6a6dc3",
    "deepnote_cell_type": "markdown"
   }
  },
  {
   "cell_type": "markdown",
   "source": "### Turing-gép állás (kártya)\nMeghatározza, hogy a gép a beolvasott jel alapján mit írjon, melyik legyen a következő jel, amit beolvas és milyen következő állásba menjen.\n",
   "metadata": {
    "slideshow": {
     "slide_type": "slide"
    },
    "cell_id": "00037-2a6af7c6-d8df-48b4-a7c8-8a43fcab35b6",
    "deepnote_cell_type": "markdown"
   }
  },
  {
   "cell_type": "markdown",
   "source": "- meghatározott számú állás van (köztük HALT)",
   "metadata": {
    "slideshow": {
     "slide_type": "fragment"
    },
    "cell_id": "00038-d3bfda74-7cab-4747-a5e4-62176e9212f5",
    "deepnote_cell_type": "markdown"
   }
  },
  {
   "cell_type": "markdown",
   "source": "### Az univerzális Turing-gép\n- bármely tetszőleges Turing-gépet képes szimulálni tetszőleges inputtal\n",
   "metadata": {
    "slideshow": {
     "slide_type": "slide"
    },
    "cell_id": "00039-fcecf55f-5e4d-4541-8b0b-204373171994",
    "deepnote_cell_type": "markdown"
   }
  },
  {
   "cell_type": "markdown",
   "source": "- ez a számítógépek által elvégezhető algoritmusok absztrakt definíciója",
   "metadata": {
    "slideshow": {
     "slide_type": "fragment"
    },
    "cell_id": "00040-85a313e5-8762-4112-a8a6-f1cda958b4a5",
    "deepnote_cell_type": "markdown"
   }
  },
  {
   "cell_type": "markdown",
   "source": "### Turing-teljesség\nEgy eszköz Turing-teljes, ha elméletben ekvivalens az univerzális Turing-géppel.",
   "metadata": {
    "slideshow": {
     "slide_type": "slide"
    },
    "cell_id": "00041-c437d0e3-d5b9-4b0b-bb76-9c0927f27baf",
    "deepnote_cell_type": "markdown"
   }
  },
  {
   "cell_type": "markdown",
   "source": "### Mi kell Turing teljességhez?\nA mi paradigmánkban, egy programnyelv akkor Turing-teljes, ha van benne:\n",
   "metadata": {
    "slideshow": {
     "slide_type": "slide"
    },
    "cell_id": "00042-214a7746-c3e8-4f5a-80bf-f84c80c670f2",
    "deepnote_cell_type": "markdown"
   }
  },
  {
   "cell_type": "markdown",
   "source": "- **értékadás**\n",
   "metadata": {
    "slideshow": {
     "slide_type": "fragment"
    },
    "cell_id": "00043-34bbb477-a026-456f-afde-595440978fdc",
    "deepnote_cell_type": "markdown"
   }
  },
  {
   "cell_type": "markdown",
   "source": "- **iteráció**",
   "metadata": {
    "slideshow": {
     "slide_type": "fragment"
    },
    "cell_id": "00044-6623d800-7eda-46c5-8504-112e1bd6e6c6",
    "deepnote_cell_type": "markdown"
   }
  },
  {
   "cell_type": "markdown",
   "source": "### Halting problem\nProbléma: honnan tudjuk, hogy egy Turing-gép valaha eléri a halting state-jét?",
   "metadata": {
    "slideshow": {
     "slide_type": "slide"
    },
    "cell_id": "00045-63eb11e7-95d7-46d2-a3c7-70ba9119f3c4",
    "deepnote_cell_type": "markdown"
   }
  },
  {
   "cell_type": "markdown",
   "source": "### Példa\n- $Q = \\langle A, HALT \\rangle$\n",
   "metadata": {
    "slideshow": {
     "slide_type": "subslide"
    },
    "cell_id": "00046-4e2f8c43-c513-439a-a554-276bcf5fccef",
    "deepnote_cell_type": "markdown"
   }
  },
  {
   "cell_type": "markdown",
   "source": "- $\\Gamma =  \\langle 0, 1 \\rangle$\n",
   "metadata": {
    "slideshow": {
     "slide_type": "fragment"
    },
    "cell_id": "00047-267d5ef8-6ab1-4b66-986d-74c50ed3113c",
    "deepnote_cell_type": "markdown"
   }
  },
  {
   "cell_type": "markdown",
   "source": "- $q_0 = A, q_f = HALT$\n",
   "metadata": {
    "slideshow": {
     "slide_type": "fragment"
    },
    "cell_id": "00048-ff44b2b3-ff92-4c1a-ab63-aabea6abfcd8",
    "deepnote_cell_type": "markdown"
   }
  },
  {
   "cell_type": "markdown",
   "source": "- $\\delta$:\n",
   "metadata": {
    "slideshow": {
     "slide_type": "fragment"
    },
    "cell_id": "00049-ef04e969-8a85-4604-afa3-dbbd6ded7dc2",
    "deepnote_cell_type": "markdown"
   }
  },
  {
   "cell_type": "markdown",
   "source": "| input | állás |\n",
   "metadata": {
    "slideshow": {
     "slide_type": "fragment"
    },
    "cell_id": "00050-61aeb797-8975-4898-9383-381a2015adac",
    "deepnote_cell_type": "markdown"
   }
  },
  {
   "cell_type": "markdown",
   "source": "| 0 | 1RA |\n",
   "metadata": {
    "slideshow": {
     "slide_type": "fragment"
    },
    "cell_id": "00051-43228103-fb4b-4366-b952-a33e4e95d5b8",
    "deepnote_cell_type": "markdown"
   }
  },
  {
   "cell_type": "markdown",
   "source": "| 1 | 1RH |",
   "metadata": {
    "slideshow": {
     "slide_type": "fragment"
    },
    "cell_id": "00052-b5108db2-96c0-47d3-a7e5-e32c9ad322c3",
    "deepnote_cell_type": "markdown"
   }
  },
  {
   "cell_type": "markdown",
   "source": "### Halting problem\nAz, hogy adott program, adott inputtal eléri-e valaha a halting state-jét, **általánosan nem bizonyítható**.\n",
   "metadata": {
    "slideshow": {
     "slide_type": "subslide"
    },
    "cell_id": "00053-8e8e7f14-54d7-41ec-9f23-7c478f0360f1",
    "deepnote_cell_type": "markdown"
   }
  },
  {
   "cell_type": "markdown",
   "source": "![halting problem proof](https://lh3.googleusercontent.com/proxy/HzufZpceyG8grc0gD_GsrEYPaAz1k_OyjG5vx28gsHGXKb8X_Aqhj3EhFbHbN-VVWfvBWRsdOyB0qIIDgX3i4GJh8n3QG79nfcVDa4vhXJs_Q3LeId1YB-91n6_n-kVQvejUc3YNdHk8tw)",
   "metadata": {
    "slideshow": {
     "slide_type": "fragment"
    },
    "cell_id": "00054-b7ac11c7-c6dc-4724-bbfa-09fec3920f22",
    "deepnote_cell_type": "markdown"
   }
  },
  {
   "cell_type": "markdown",
   "source": "### Halting problem\nVideók:\n",
   "metadata": {
    "slideshow": {
     "slide_type": "subslide"
    },
    "cell_id": "00055-13214bf6-479b-4c0b-81ef-4c028e335bcc",
    "deepnote_cell_type": "markdown"
   }
  },
  {
   "cell_type": "markdown",
   "source": "- [Halting problem - Computerphile](https://www.youtube.com/watch?v=macM_MtS_w4)\n",
   "metadata": {
    "slideshow": {
     "slide_type": "fragment"
    },
    "cell_id": "00056-d5e97ab5-50c6-4172-82c1-246081c07354",
    "deepnote_cell_type": "markdown"
   }
  },
  {
   "cell_type": "markdown",
   "source": "- [Halting problem in Python](https://www.youtube.com/watch?v=r__GZ7ubU0M)",
   "metadata": {
    "slideshow": {
     "slide_type": "fragment"
    },
    "cell_id": "00057-56adcf6f-4c9d-441b-be8c-1f28fec79d23",
    "deepnote_cell_type": "markdown"
   }
  },
  {
   "cell_type": "markdown",
   "source": "### A mi paradigmánk\n- ***imperatív***: utasításonként változtatom a program állapotát, amíg el nem érek a kívánt állapotba\n",
   "metadata": {
    "slideshow": {
     "slide_type": "slide"
    },
    "cell_id": "00058-a931ceab-6284-4836-a651-0e12147d49a4",
    "deepnote_cell_type": "markdown"
   }
  },
  {
   "cell_type": "markdown",
   "source": "- ***procedurális***: meghívható utasítássorozatok, procedúrák (függvények)\n",
   "metadata": {
    "slideshow": {
     "slide_type": "fragment"
    },
    "cell_id": "00059-7f5fef78-b855-4f88-b823-a89d441e519a",
    "deepnote_cell_type": "markdown"
   }
  },
  {
   "cell_type": "markdown",
   "source": "- ***struktúrált***: blokkok, elágazások, for/while struktúrák (iterációk)\n",
   "metadata": {
    "slideshow": {
     "slide_type": "fragment"
    },
    "cell_id": "00060-fd4ee324-c30c-4d2b-9d96-c8c3be6c57a7",
    "deepnote_cell_type": "markdown"
   }
  },
  {
   "cell_type": "markdown",
   "source": "- ***objektumorientált***: függvényeket, adatot, speciális típusokat egységesen objektumként tároljuk az állapotban\n",
   "metadata": {
    "slideshow": {
     "slide_type": "fragment"
    },
    "cell_id": "00061-b8e75d09-89b0-4810-92d7-67df81438194",
    "deepnote_cell_type": "markdown"
   }
  },
  {
   "cell_type": "markdown",
   "source": "- ***generikus***: típusok tekintetében általánosítható függvények",
   "metadata": {
    "slideshow": {
     "slide_type": "fragment"
    },
    "cell_id": "00062-950ca9fd-0ece-4296-9346-2539036749e1",
    "deepnote_cell_type": "markdown"
   }
  },
  {
   "cell_type": "markdown",
   "source": "### Struktúrák példákkal\n- elágazás\n",
   "metadata": {
    "slideshow": {
     "slide_type": "slide"
    },
    "cell_id": "00063-ae9f7e70-dce6-459f-91db-6b0540ddd079",
    "deepnote_cell_type": "markdown"
   }
  },
  {
   "cell_type": "markdown",
   "source": "- if\n",
   "metadata": {
    "slideshow": {
     "slide_type": "fragment"
    },
    "cell_id": "00064-6db61e7e-2dda-4ac9-b9f4-85292560a54a",
    "deepnote_cell_type": "markdown"
   }
  },
  {
   "cell_type": "markdown",
   "source": "- else-if\n",
   "metadata": {
    "slideshow": {
     "slide_type": "fragment"
    },
    "cell_id": "00065-2f33f640-7c58-487a-b360-e0f38b1ab4e5",
    "deepnote_cell_type": "markdown"
   }
  },
  {
   "cell_type": "markdown",
   "source": "- switch/case\n",
   "metadata": {
    "slideshow": {
     "slide_type": "fragment"
    },
    "cell_id": "00066-56fb3fad-3ee3-45cd-8ac0-d030ffe92d99",
    "deepnote_cell_type": "markdown"
   }
  },
  {
   "cell_type": "markdown",
   "source": "- iteráció\n",
   "metadata": {
    "slideshow": {
     "slide_type": "fragment"
    },
    "cell_id": "00067-d79fb94f-f8ac-4276-88aa-e50416c88488",
    "deepnote_cell_type": "markdown"
   }
  },
  {
   "cell_type": "markdown",
   "source": "- while\n",
   "metadata": {
    "slideshow": {
     "slide_type": "fragment"
    },
    "cell_id": "00068-0fa36683-d9de-47c6-a084-6a8ff50e36e1",
    "deepnote_cell_type": "markdown"
   }
  },
  {
   "cell_type": "markdown",
   "source": "- for\n",
   "metadata": {
    "slideshow": {
     "slide_type": "fragment"
    },
    "cell_id": "00069-6314db74-5eae-4322-95a2-8687f2526375",
    "deepnote_cell_type": "markdown"
   }
  },
  {
   "cell_type": "markdown",
   "source": "- do-while/until\n",
   "metadata": {
    "slideshow": {
     "slide_type": "fragment"
    },
    "cell_id": "00070-b35bf033-d7b3-4c6d-9284-b3a9c002cf3e",
    "deepnote_cell_type": "markdown"
   }
  },
  {
   "cell_type": "markdown",
   "source": "- blokk\n",
   "metadata": {
    "slideshow": {
     "slide_type": "fragment"
    },
    "cell_id": "00071-25409f8a-731d-401f-a6e3-258125b59d5d",
    "deepnote_cell_type": "markdown"
   }
  },
  {
   "cell_type": "markdown",
   "source": "- függvény\n",
   "metadata": {
    "slideshow": {
     "slide_type": "fragment"
    },
    "cell_id": "00072-948f5a1d-23b4-42bd-94e4-13cd96abf386",
    "deepnote_cell_type": "markdown"
   }
  },
  {
   "cell_type": "markdown",
   "source": "- procedúra",
   "metadata": {
    "slideshow": {
     "slide_type": "fragment"
    },
    "cell_id": "00073-4e4a4af1-d778-4fb7-9531-8b562a29f200",
    "deepnote_cell_type": "markdown"
   }
  },
  {
   "cell_type": "markdown",
   "source": "### Struktúrák tulajdonságok\n- elágazás\n",
   "metadata": {
    "slideshow": {
     "slide_type": "slide"
    },
    "cell_id": "00074-8882969b-801c-4bae-89b9-5afa0689d12d",
    "deepnote_cell_type": "markdown"
   }
  },
  {
   "cell_type": "markdown",
   "source": "- feltétel\n",
   "metadata": {
    "slideshow": {
     "slide_type": "fragment"
    },
    "cell_id": "00075-9dbe54c9-1236-4e93-80a1-4424dc2c5491",
    "deepnote_cell_type": "markdown"
   }
  },
  {
   "cell_type": "markdown",
   "source": "- ág\n",
   "metadata": {
    "slideshow": {
     "slide_type": "fragment"
    },
    "cell_id": "00076-74a773f1-547f-4adb-a2c2-b31d30c291f7",
    "deepnote_cell_type": "markdown"
   }
  },
  {
   "cell_type": "markdown",
   "source": "- iteráció\n",
   "metadata": {
    "slideshow": {
     "slide_type": "fragment"
    },
    "cell_id": "00077-695e7adf-cd53-48dd-992d-a7beb6aee0e4",
    "deepnote_cell_type": "markdown"
   }
  },
  {
   "cell_type": "markdown",
   "source": "- feltétel\n",
   "metadata": {
    "slideshow": {
     "slide_type": "fragment"
    },
    "cell_id": "00078-bb82349c-d838-4a59-acd9-9d6afeb0b98d",
    "deepnote_cell_type": "markdown"
   }
  },
  {
   "cell_type": "markdown",
   "source": "- ciklusmag\n",
   "metadata": {
    "slideshow": {
     "slide_type": "fragment"
    },
    "cell_id": "00079-62da2518-743a-486e-9b11-a95fda1a4a51",
    "deepnote_cell_type": "markdown"
   }
  },
  {
   "cell_type": "markdown",
   "source": "- blokk\n",
   "metadata": {
    "slideshow": {
     "slide_type": "fragment"
    },
    "cell_id": "00080-ea97873f-6b5f-4335-ae65-ac413366c53b",
    "deepnote_cell_type": "markdown"
   }
  },
  {
   "cell_type": "markdown",
   "source": "- utasítássorozat",
   "metadata": {
    "slideshow": {
     "slide_type": "fragment"
    },
    "cell_id": "00081-69b83ab0-903c-4bf9-b0ce-87313c412823",
    "deepnote_cell_type": "markdown"
   }
  },
  {
   "cell_type": "markdown",
   "source": "<a style='text-decoration:none;line-height:16px;display:flex;color:#5B5B62;padding:10px;justify-content:end;' href='https://deepnote.com?utm_source=created-in-deepnote-cell&projectId=978e47b7-a961-4dca-a945-499e8b781a34' target=\"_blank\">\n<img alt='Created in deepnote.com' style='display:inline;max-height:16px;margin:0px;margin-right:7.5px;' src='data:image/svg+xml;base64,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' > </img>\nCreated in <span style='font-weight:600;margin-left:4px;'>Deepnote</span></a>",
   "metadata": {
    "tags": [],
    "created_in_deepnote_cell": true,
    "deepnote_cell_type": "markdown"
   }
  }
 ],
 "nbformat": 4,
 "nbformat_minor": 4,
 "metadata": {
  "celltoolbar": "Slideshow",
  "kernelspec": {
   "display_name": "Python 3",
   "language": "python",
   "name": "python3"
  },
  "language_info": {
   "codemirror_mode": {
    "name": "ipython",
    "version": 3
   },
   "file_extension": ".py",
   "mimetype": "text/x-python",
   "name": "python",
   "nbconvert_exporter": "python",
   "pygments_lexer": "ipython3",
   "version": "3.8.10"
  },
  "deepnote_notebook_id": "02628d6b-0b85-40aa-ada9-8613b6c894db",
  "deepnote": {},
  "deepnote_execution_queue": []
 }
}