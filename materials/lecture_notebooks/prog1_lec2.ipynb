{
 "cells": [
  {
   "cell_type": "markdown",
   "source": "### Mit ír le egy specifikáció?\nEgy probléma **megoldását**",
   "metadata": {
    "slideshow": {
     "slide_type": "slide"
    },
    "cell_id": "00000-03be5bd1-ae92-43c1-bc37-57fa463316e9",
    "deepnote_cell_type": "markdown"
   }
  },
  {
   "cell_type": "markdown",
   "source": "**Mi** oldja meg a problémát? Az hagyján hogy hogyan...",
   "metadata": {
    "slideshow": {
     "slide_type": "fragment"
    },
    "cell_id": "00001-2c93507b-5265-4929-8d67-d9c5e3b6d36e",
    "deepnote_cell_type": "markdown"
   }
  },
  {
   "cell_type": "markdown",
   "source": "### Mi értelme volt specifikációnak?\nLe tudjuk írni hogy mit várunk el.",
   "metadata": {
    "slideshow": {
     "slide_type": "slide"
    },
    "cell_id": "00002-3f34c00b-16b5-4013-91df-097c78878bad",
    "deepnote_cell_type": "markdown"
   }
  },
  {
   "cell_type": "markdown",
   "source": "-   teljesen",
   "metadata": {
    "slideshow": {
     "slide_type": "fragment"
    },
    "cell_id": "00003-54e13ad3-3a86-4169-9e9c-f7cfad0943b7",
    "deepnote_cell_type": "markdown"
   }
  },
  {
   "cell_type": "markdown",
   "source": "-   részletesen",
   "metadata": {
    "slideshow": {
     "slide_type": "fragment"
    },
    "cell_id": "00004-06dbca8c-73da-4670-bdf2-3d0b56230f0f",
    "deepnote_cell_type": "markdown"
   }
  },
  {
   "cell_type": "markdown",
   "source": "### Programozási probléma megoldási terve\n-   Mi oldja meg a problémát (Specifikáció)",
   "metadata": {
    "slideshow": {
     "slide_type": "slide"
    },
    "cell_id": "00005-e6aaf33a-e276-4f1a-8597-e2d2055e9a43",
    "deepnote_cell_type": "markdown"
   }
  },
  {
   "cell_type": "markdown",
   "source": "-   Mire van ehhez szükség (Adat)",
   "metadata": {
    "slideshow": {
     "slide_type": "fragment"
    },
    "cell_id": "00006-128a29d8-b267-4d20-a9d2-a5d75c635dd5",
    "deepnote_cell_type": "markdown"
   }
  },
  {
   "cell_type": "markdown",
   "source": "-   Hogyan használjuk ezeket a szükséges dolgokat (Algoritmus)",
   "metadata": {
    "slideshow": {
     "slide_type": "fragment"
    },
    "cell_id": "00007-2eaa1ef3-8179-44e4-bdc3-04a593b17331",
    "deepnote_cell_type": "markdown"
   }
  },
  {
   "cell_type": "markdown",
   "source": "### Adat\nMinden amit külvilágból leképezve számítógépen tárolunk",
   "metadata": {
    "slideshow": {
     "slide_type": "slide"
    },
    "cell_id": "00008-46dcb690-297d-4ac7-913e-9713711f5157",
    "deepnote_cell_type": "markdown"
   }
  },
  {
   "cell_type": "markdown",
   "source": "### Adat tulajdonságai\n-   adatnak van:",
   "metadata": {
    "slideshow": {
     "slide_type": "slide"
    },
    "cell_id": "00009-bec5462e-1e35-4319-b4e6-5546c4680e38",
    "deepnote_cell_type": "markdown"
   }
  },
  {
   "cell_type": "markdown",
   "source": "-   típusa",
   "metadata": {
    "slideshow": {
     "slide_type": "fragment"
    },
    "cell_id": "00010-7319b26a-4742-44c3-b46e-e5e9cca11e5c",
    "deepnote_cell_type": "markdown"
   }
  },
  {
   "cell_type": "markdown",
   "source": "-   értéke",
   "metadata": {
    "slideshow": {
     "slide_type": "fragment"
    },
    "cell_id": "00011-8a1eeb13-b26e-4ae3-8633-9dda142ea3f0",
    "deepnote_cell_type": "markdown"
   }
  },
  {
   "cell_type": "markdown",
   "source": "-   ha eltároljuk, van neve",
   "metadata": {
    "slideshow": {
     "slide_type": "fragment"
    },
    "cell_id": "00012-a2da548b-de84-41e2-ad24-3b6fbf358037",
    "deepnote_cell_type": "markdown"
   }
  },
  {
   "cell_type": "markdown",
   "source": "-   típus meghatározza:",
   "metadata": {
    "slideshow": {
     "slide_type": "fragment"
    },
    "cell_id": "00013-3694509e-e560-4a5a-aea8-a3d7737e3b1a",
    "deepnote_cell_type": "markdown"
   }
  },
  {
   "cell_type": "markdown",
   "source": "-   értékkészletet",
   "metadata": {
    "slideshow": {
     "slide_type": "fragment"
    },
    "cell_id": "00014-666e35fa-c0f5-45dc-aba6-cd67d8d8f52c",
    "deepnote_cell_type": "markdown"
   }
  },
  {
   "cell_type": "markdown",
   "source": "-   elvégezhető műveleteket",
   "metadata": {
    "slideshow": {
     "slide_type": "fragment"
    },
    "cell_id": "00015-36c476bd-5416-45d3-b185-af4af7650118",
    "deepnote_cell_type": "markdown"
   }
  },
  {
   "cell_type": "markdown",
   "source": "### Adat példák\n- ```a = 2```\n",
   "metadata": {
    "slideshow": {
     "slide_type": "slide"
    },
    "cell_id": "00016-a15f9374-9d6d-4891-8df7-0a38b5444ee4",
    "deepnote_cell_type": "markdown"
   }
  },
  {
   "cell_type": "markdown",
   "source": "- ```b = \"nemjó!\"```\n",
   "metadata": {
    "slideshow": {
     "slide_type": "fragment"
    },
    "cell_id": "00017-7a90fe52-6edb-4c5d-99da-fc03a4c661d1",
    "deepnote_cell_type": "markdown"
   }
  },
  {
   "cell_type": "markdown",
   "source": "- ```c = 4.6```\n",
   "metadata": {
    "slideshow": {
     "slide_type": "fragment"
    },
    "cell_id": "00018-f18fe368-f712-4363-9260-5970a8fdd1cc",
    "deepnote_cell_type": "markdown"
   }
  },
  {
   "cell_type": "markdown",
   "source": "- ```fing = True```\n",
   "metadata": {
    "slideshow": {
     "slide_type": "fragment"
    },
    "cell_id": "00019-1c30dd12-4890-450a-9c8e-ccb7642d417d",
    "deepnote_cell_type": "markdown"
   }
  },
  {
   "cell_type": "markdown",
   "source": "- ```papucs = [1, 2, 22, 56]```",
   "metadata": {
    "slideshow": {
     "slide_type": "fragment"
    },
    "cell_id": "00020-0036cbcd-9417-428d-8988-795f10b7f7e3",
    "deepnote_cell_type": "markdown"
   }
  },
  {
   "cell_type": "markdown",
   "source": "### Adat elnevezései\nAlgoritmusban betöltött szerep alapján",
   "metadata": {
    "slideshow": {
     "slide_type": "slide"
    },
    "cell_id": "00021-47db776b-9d5a-4991-9e91-ccaf91daccbd",
    "deepnote_cell_type": "markdown"
   }
  },
  {
   "cell_type": "markdown",
   "source": "Attól függően, hogy egy programban hogyan használjuk az adatot, lehet",
   "metadata": {
    "slideshow": {
     "slide_type": "fragment"
    },
    "cell_id": "00022-18450c8b-0e9b-4c46-af42-d000b1638908",
    "deepnote_cell_type": "markdown"
   }
  },
  {
   "cell_type": "markdown",
   "source": "- konstans",
   "metadata": {
    "slideshow": {
     "slide_type": "fragment"
    },
    "cell_id": "00023-4af82f8a-69b8-46e4-a396-5181741ce5f9",
    "deepnote_cell_type": "markdown"
   }
  },
  {
   "cell_type": "markdown",
   "source": "- értéke nem változhat a programban",
   "metadata": {
    "slideshow": {
     "slide_type": "fragment"
    },
    "cell_id": "00024-489ee721-3382-4639-8490-7ebdf33ca99b",
    "deepnote_cell_type": "markdown"
   }
  },
  {
   "cell_type": "markdown",
   "source": "- $\\pi$-től fix szövegű hibaüzenetig lehet bármi",
   "metadata": {
    "slideshow": {
     "slide_type": "fragment"
    },
    "cell_id": "00025-7824a475-91de-40bd-bda8-d95a833391b5",
    "deepnote_cell_type": "markdown"
   }
  },
  {
   "cell_type": "markdown",
   "source": "- változó",
   "metadata": {
    "slideshow": {
     "slide_type": "fragment"
    },
    "cell_id": "00026-f173d66b-c8e5-4777-983c-9045c73ad58a",
    "deepnote_cell_type": "markdown"
   }
  },
  {
   "cell_type": "markdown",
   "source": "- nem feltétlen bemenet (de lehet bemenet)",
   "metadata": {
    "slideshow": {
     "slide_type": "fragment"
    },
    "cell_id": "00027-5c58620c-1e6f-4d48-9401-fb5243ff6733",
    "deepnote_cell_type": "markdown"
   }
  },
  {
   "cell_type": "markdown",
   "source": "- értéke változhat",
   "metadata": {
    "slideshow": {
     "slide_type": "fragment"
    },
    "cell_id": "00028-96a35b6d-4306-4f79-833d-60ff2c3dd95c",
    "deepnote_cell_type": "markdown"
   }
  },
  {
   "cell_type": "markdown",
   "source": "### Elemi adattípusok\n- Szám",
   "metadata": {
    "slideshow": {
     "slide_type": "slide"
    },
    "cell_id": "00029-df165cd2-c830-4dc1-bca3-9455773c52a5",
    "deepnote_cell_type": "markdown"
   }
  },
  {
   "cell_type": "markdown",
   "source": "- Valós (féle) (float/double)",
   "metadata": {
    "slideshow": {
     "slide_type": "fragment"
    },
    "cell_id": "00030-0f41177c-a487-4988-98ae-33fbd5f0b1c9",
    "deepnote_cell_type": "markdown"
   }
  },
  {
   "cell_type": "markdown",
   "source": "- Egész (integer)",
   "metadata": {
    "slideshow": {
     "slide_type": "fragment"
    },
    "cell_id": "00031-1800083e-0e0c-405f-9dbe-5eab82b460ff",
    "deepnote_cell_type": "markdown"
   }
  },
  {
   "cell_type": "markdown",
   "source": "- Szöveg (string)",
   "metadata": {
    "slideshow": {
     "slide_type": "fragment"
    },
    "cell_id": "00032-3abfbbf1-ab98-49a6-bcf1-c9d7fd03decf",
    "deepnote_cell_type": "markdown"
   }
  },
  {
   "cell_type": "markdown",
   "source": "- nem mindenhol azonos string/char",
   "metadata": {
    "slideshow": {
     "slide_type": "fragment"
    },
    "cell_id": "00033-40e83dca-b665-4aa9-ba73-84e534d092b2",
    "deepnote_cell_type": "markdown"
   }
  },
  {
   "cell_type": "markdown",
   "source": "- kódolás számíthat",
   "metadata": {
    "slideshow": {
     "slide_type": "fragment"
    },
    "cell_id": "00034-0c702816-03c5-413e-bbbb-6a328d2f4dc0",
    "deepnote_cell_type": "markdown"
   }
  },
  {
   "cell_type": "markdown",
   "source": "- Logikai (boolean)",
   "metadata": {
    "slideshow": {
     "slide_type": "fragment"
    },
    "cell_id": "00035-e9de19dc-d371-43ab-bf9a-4d7d40ad4165",
    "deepnote_cell_type": "markdown"
   }
  },
  {
   "cell_type": "markdown",
   "source": "### Kifejezés\n- Kiértékelhető: ugyanúgy értéke és típusa van.",
   "metadata": {
    "slideshow": {
     "slide_type": "slide"
    },
    "cell_id": "00036-9825e0e9-02d3-4539-876d-fa4c001f1e9b",
    "deepnote_cell_type": "markdown"
   }
  },
  {
   "cell_type": "markdown",
   "source": "- Konstansokon és/vagy változókon elvégzett műveletek (operációk) elvégzésével lehet kiértékelni",
   "metadata": {
    "slideshow": {
     "slide_type": "fragment"
    },
    "cell_id": "00037-c114d712-7dc0-4602-8e4d-9f268c427579",
    "deepnote_cell_type": "markdown"
   }
  },
  {
   "cell_type": "markdown",
   "source": "- Rénézésre konstansok/változók és operátor(ok)",
   "metadata": {
    "slideshow": {
     "slide_type": "fragment"
    },
    "cell_id": "00038-9b128339-bdac-470b-aaad-94c7b9f625d5",
    "deepnote_cell_type": "markdown"
   }
  },
  {
   "cell_type": "markdown",
   "source": "### Művelet függvényként\nMűveleteket fel lehet fogni függvényként, és nagyon jól kell ismerni őket!\n",
   "metadata": {
    "slideshow": {
     "slide_type": "slide"
    },
    "cell_id": "00039-5ae13809-3c9d-454f-b5bc-070d7f43845e",
    "deepnote_cell_type": "markdown"
   }
  },
  {
   "cell_type": "markdown",
   "source": "Pl:\n",
   "metadata": {
    "slideshow": {
     "slide_type": "fragment"
    },
    "cell_id": "00040-2b23d700-570b-49ee-866c-54823d14fe88",
    "deepnote_cell_type": "markdown"
   }
  },
  {
   "cell_type": "markdown",
   "source": "- $+(4,6)$ ként is jelölhetjük $4 + 6$-ot, az összeadás egy függvény\n",
   "metadata": {
    "slideshow": {
     "slide_type": "fragment"
    },
    "cell_id": "00041-0afc9bc9-8ccd-4a8a-9477-5dedabc7c255",
    "deepnote_cell_type": "markdown"
   }
  },
  {
   "cell_type": "markdown",
   "source": "- $ge(13,9)$ lehet $13 \\geq 9$, logikai értékű függvény",
   "metadata": {
    "slideshow": {
     "slide_type": "fragment"
    },
    "cell_id": "00042-a07ac4c6-8b3f-4d61-896f-8d2d8d66dbb2",
    "deepnote_cell_type": "markdown"
   }
  },
  {
   "cell_type": "markdown",
   "source": "### Kifejezések\nKifejezés | Típus | Érték | Probléma\n",
   "metadata": {
    "slideshow": {
     "slide_type": "subslide"
    },
    "cell_id": "00043-61c76bd9-1103-4028-96f6-5b9d77829d41",
    "deepnote_cell_type": "markdown"
   }
  },
  {
   "cell_type": "markdown",
   "source": "#### 3 + 4 | egész <!-- .element: class=\"fragment\" data-fragment-index=\"1\" --> | 7 <!-- .element: class=\"fragment\" data-fragment-index=\"1\" --> |\n",
   "metadata": {
    "slideshow": {
     "slide_type": "fragment"
    },
    "cell_id": "00044-71e7e842-8b57-4d0d-aa6d-b8956c2cc430",
    "deepnote_cell_type": "markdown"
   }
  },
  {
   "cell_type": "markdown",
   "source": "#### 2 + 2.5 | float/hiba <!-- .element: class=\"fragment\" data-fragment-index=\"2\" --> | 4.5/hiba <!-- .element: class=\"fragment\" data-fragment-index=\"2\" --> | különböző típusok! <!-- .element: class=\"fragment\" data-fragment-index=\"2\" -->\n",
   "metadata": {
    "slideshow": {
     "slide_type": "fragment"
    },
    "cell_id": "00045-1c182362-7622-4677-95d6-66460693a44b",
    "deepnote_cell_type": "markdown"
   }
  },
  {
   "cell_type": "markdown",
   "source": "#### 4 $>$ 2 | logikai <!-- .element: class=\"fragment\" data-fragment-index=\"3\" --> |IGAZ <!-- .element: class=\"fragment\" data-fragment-index=\"3\" --> |\n",
   "metadata": {
    "slideshow": {
     "slide_type": "fragment"
    },
    "cell_id": "00046-04e22cbd-fcc4-470f-82b7-289bb8a956d1",
    "deepnote_cell_type": "markdown"
   }
  },
  {
   "cell_type": "markdown",
   "source": "#### 4 = 2 | hiba <!-- .element: class=\"fragment\" data-fragment-index=\"4\" --> | hiba <!-- .element: class=\"fragment\" data-fragment-index=\"4\" --> | értékadás, nem összehasonlítás (==) <!-- .element: class=\"fragment\" data-fragment-index=\"4\" -->\n",
   "metadata": {
    "slideshow": {
     "slide_type": "fragment"
    },
    "cell_id": "00047-de7f080f-e9a2-400c-9714-6fb68795f55f",
    "deepnote_cell_type": "markdown"
   }
  },
  {
   "cell_type": "markdown",
   "source": "#### 4 == 2 <!-- .element: class=\"fragment\" data-fragment-index=\"5\" --> | logikai <!-- .element: class=\"fragment\" data-fragment-index=\"6\" --> | Hamis <!-- .element: class=\"fragment\" data-fragment-index=\"6\" --> |\n",
   "metadata": {
    "slideshow": {
     "slide_type": "fragment"
    },
    "cell_id": "00048-f9135f51-28fc-48fd-9e70-c626e35d61a5",
    "deepnote_cell_type": "markdown"
   }
  },
  {
   "cell_type": "markdown",
   "source": "#### 4 == \"négy\" <!-- .element: class=\"fragment\" data-fragment-index=\"5\" --> | hiba/logikai <!-- .element: class=\"fragment\" data-fragment-index=\"7\" --> | hiba/HAMIS <!-- .element: class=\"fragment\" data-fragment-index=\"7\" --> | programnyelve válogatja <!-- .element: class=\"fragment\" data-fragment-index=\"7\" -->",
   "metadata": {
    "slideshow": {
     "slide_type": "fragment"
    },
    "cell_id": "00049-a5a7739d-bd44-43c9-bf31-f92bc79a467d",
    "deepnote_cell_type": "markdown"
   }
  },
  {
   "cell_type": "markdown",
   "source": "### Operációk különöző programnyelvekben\nMelyiknek kellene működnie?",
   "metadata": {
    "slideshow": {
     "slide_type": "subslide"
    },
    "cell_id": "00050-13f88500-c219-4bd5-800c-42c32e1f61c2",
    "deepnote_cell_type": "markdown"
   }
  },
  {
   "cell_type": "markdown",
   "source": "- 2 == \"kettő\"",
   "metadata": {
    "slideshow": {
     "slide_type": "fragment"
    },
    "cell_id": "00051-92d2daa1-170c-49f4-8c5c-5a7ba199e6c8",
    "deepnote_cell_type": "markdown"
   }
  },
  {
   "cell_type": "markdown",
   "source": "- \"béna\" + \"béla\"",
   "metadata": {
    "slideshow": {
     "slide_type": "fragment"
    },
    "cell_id": "00052-b07bc576-7eb6-45bb-a0a1-c127ddc36877",
    "deepnote_cell_type": "markdown"
   }
  },
  {
   "cell_type": "markdown",
   "source": "Szempontok:",
   "metadata": {
    "slideshow": {
     "slide_type": "fragment"
    },
    "cell_id": "00053-7606f668-e51a-4b30-aba5-bc814767895d",
    "deepnote_cell_type": "markdown"
   }
  },
  {
   "cell_type": "markdown",
   "source": "-   kényelmes",
   "metadata": {
    "slideshow": {
     "slide_type": "fragment"
    },
    "cell_id": "00054-a4850c03-7200-4710-af4d-2a2788519e35",
    "deepnote_cell_type": "markdown"
   }
  },
  {
   "cell_type": "markdown",
   "source": "-   gyors",
   "metadata": {
    "slideshow": {
     "slide_type": "fragment"
    },
    "cell_id": "00055-fdc70f37-e325-40b5-a4a0-288d0136137a",
    "deepnote_cell_type": "markdown"
   }
  },
  {
   "cell_type": "markdown",
   "source": "-   tudjam pontosan hol basztam el",
   "metadata": {
    "slideshow": {
     "slide_type": "fragment"
    },
    "cell_id": "00056-ce649537-4560-4c48-9f6e-297ed05126d7",
    "deepnote_cell_type": "markdown"
   }
  },
  {
   "cell_type": "markdown",
   "source": "### Adatra vonatkozó utasítások\n#### 1.  Deklarálás\n",
   "metadata": {
    "slideshow": {
     "slide_type": "subslide"
    },
    "cell_id": "00057-08c12ae2-7b10-46e5-b759-d48d22f4f249",
    "deepnote_cell_type": "markdown"
   }
  },
  {
   "cell_type": "markdown",
   "source": "- adat nevét megadjuk\n",
   "metadata": {
    "slideshow": {
     "slide_type": "fragment"
    },
    "cell_id": "00058-5b5095e8-a51c-484b-bb09-1ac04caf10fa",
    "deepnote_cell_type": "markdown"
   }
  },
  {
   "cell_type": "markdown",
   "source": "- egyes programnyelveknél típusát\n",
   "metadata": {
    "slideshow": {
     "slide_type": "fragment"
    },
    "cell_id": "00059-83cb8fd4-ea16-464b-9850-1d67cfe82f7a",
    "deepnote_cell_type": "markdown"
   }
  },
  {
   "cell_type": "markdown",
   "source": "#### 2.  Értékadás\n",
   "metadata": {
    "slideshow": {
     "slide_type": "fragment"
    },
    "cell_id": "00060-823e4711-5acd-4913-ae25-d29ab256b00d",
    "deepnote_cell_type": "markdown"
   }
  },
  {
   "cell_type": "markdown",
   "source": "- egyenlőségjel jobb oldalán lévő kifejezést kiértékeljük\n",
   "metadata": {
    "slideshow": {
     "slide_type": "fragment"
    },
    "cell_id": "00061-980f09e6-9841-4010-b29e-fa49ab272bbd",
    "deepnote_cell_type": "markdown"
   }
  },
  {
   "cell_type": "markdown",
   "source": "- értékét hozzárendeljük a deklarált névhez",
   "metadata": {
    "slideshow": {
     "slide_type": "fragment"
    },
    "cell_id": "00062-afee8a59-b29f-4de2-a305-9fa59d765274",
    "deepnote_cell_type": "markdown"
   }
  },
  {
   "cell_type": "markdown",
   "source": "### Adatlétrehozás példák\n-   ```a = 12```\n",
   "metadata": {
    "slideshow": {
     "slide_type": "subslide"
    },
    "cell_id": "00063-b019841a-53ba-409f-acc4-70ea5e4ba03c",
    "deepnote_cell_type": "markdown"
   }
  },
  {
   "cell_type": "markdown",
   "source": "-   ```b = fgv(adat)```\n",
   "metadata": {
    "slideshow": {
     "slide_type": "fragment"
    },
    "cell_id": "00064-1815eda5-afdf-4c14-804c-b87fd2b8fe24",
    "deepnote_cell_type": "markdown"
   }
  },
  {
   "cell_type": "markdown",
   "source": "-   ```c = adat_egyik + adat_masik```\n",
   "metadata": {
    "slideshow": {
     "slide_type": "fragment"
    },
    "cell_id": "00065-7f542a8a-08b5-49e8-844d-445252684c30",
    "deepnote_cell_type": "markdown"
   }
  },
  {
   "cell_type": "markdown",
   "source": "-  ```d = h - g / fgv2(y)```\n",
   "metadata": {
    "slideshow": {
     "slide_type": "fragment"
    },
    "cell_id": "00066-2efe107b-33ec-404b-b3c8-674081357e96",
    "deepnote_cell_type": "markdown"
   }
  },
  {
   "cell_type": "markdown",
   "source": "-  ```x = x + 1``` **!**",
   "metadata": {
    "slideshow": {
     "slide_type": "fragment"
    },
    "cell_id": "00067-778006b8-eaf6-4720-b73c-3fb3341d4d3c",
    "deepnote_cell_type": "markdown"
   }
  },
  {
   "cell_type": "markdown",
   "source": "### Adat és kifejezés ismétlés\nMivel jellemezzük az adatot? <!-- .element: class=\"fragment\" data-fragment-index=\"1\" -->\n",
   "metadata": {
    "slideshow": {
     "slide_type": "slide"
    },
    "cell_id": "00068-e511b3e9-37bb-4868-b721-82301fce0410",
    "deepnote_cell_type": "markdown"
   }
  },
  {
   "cell_type": "markdown",
   "source": "Milyen adattípusokat ismertek? <!-- .element: class=\"fragment\" data-fragment-index=\"2\" -->\n",
   "metadata": {
    "slideshow": {
     "slide_type": "fragment"
    },
    "cell_id": "00069-60ed8cc0-3e56-4fe8-a712-386e5da786de",
    "deepnote_cell_type": "markdown"
   }
  },
  {
   "cell_type": "markdown",
   "source": "Hogyan hozunk létre változókat? <!-- .element: class=\"fragment\" data-fragment-index=\"3\" -->",
   "metadata": {
    "slideshow": {
     "slide_type": "fragment"
    },
    "cell_id": "00070-95e7bacd-2680-4795-b9e2-199d12cdaed1",
    "deepnote_cell_type": "markdown"
   }
  },
  {
   "cell_type": "markdown",
   "source": "### Mi lesz az értéke a következő változóknak?\na = 4 > 5<!-- .element: class=\"fragment\" data-fragment-index=\"1\" -->\n",
   "metadata": {
    "slideshow": {
     "slide_type": "slide"
    },
    "cell_id": "00071-be001458-5076-4ea6-9119-9e74c2bfd6a6",
    "deepnote_cell_type": "markdown"
   }
  },
  {
   "cell_type": "markdown",
   "source": "b = 'alma' * 2 <!-- .element: class=\"fragment\" data-fragment-index=\"2\" -->\n",
   "metadata": {
    "slideshow": {
     "slide_type": "fragment"
    },
    "cell_id": "00072-5ee63e1b-5cce-4845-9ab1-109070203ac5",
    "deepnote_cell_type": "markdown"
   }
  },
  {
   "cell_type": "markdown",
   "source": "c = a + b <!-- .element: class=\"fragment\" data-fragment-index=\"3\" -->",
   "metadata": {
    "slideshow": {
     "slide_type": "fragment"
    },
    "cell_id": "00073-8f34f000-6693-4d03-86a3-b7dc14da1d2d",
    "deepnote_cell_type": "markdown"
   }
  },
  {
   "cell_type": "markdown",
   "source": "### Statement (utasítás)\n-   legkisebb imperatív programozási elem",
   "metadata": {
    "slideshow": {
     "slide_type": "slide"
    },
    "cell_id": "00074-34cdd64f-5034-49dd-889a-904e60a10e17",
    "deepnote_cell_type": "markdown"
   }
  },
  {
   "cell_type": "markdown",
   "source": "-   program állapotát (state) változtatja",
   "metadata": {
    "slideshow": {
     "slide_type": "fragment"
    },
    "cell_id": "00075-8eae523b-0e40-42c8-810d-68176a784aa9",
    "deepnote_cell_type": "markdown"
   }
  },
  {
   "cell_type": "markdown",
   "source": "-   kategorizálható",
   "metadata": {
    "slideshow": {
     "slide_type": "fragment"
    },
    "cell_id": "00076-3c099263-18fe-43a0-8a49-f83a52d7a5ed",
    "deepnote_cell_type": "markdown"
   }
  },
  {
   "cell_type": "markdown",
   "source": "-   blokkosítható",
   "metadata": {
    "slideshow": {
     "slide_type": "fragment"
    },
    "cell_id": "00077-d0cbf32e-693e-4922-9c28-2735a7b4f30b",
    "deepnote_cell_type": "markdown"
   }
  },
  {
   "cell_type": "markdown",
   "source": "### Kifejezés vs Utasítás\n- a == 4\n",
   "metadata": {
    "slideshow": {
     "slide_type": "slide"
    },
    "cell_id": "00078-84a9fb31-63d1-4000-86ed-eb8727404f3b",
    "deepnote_cell_type": "markdown"
   }
  },
  {
   "cell_type": "markdown",
   "source": "- a = 4\n",
   "metadata": {
    "slideshow": {
     "slide_type": "fragment"
    },
    "cell_id": "00079-87f4e02e-55a6-44e7-8792-90a79c67900a",
    "deepnote_cell_type": "markdown"
   }
  },
  {
   "cell_type": "markdown",
   "source": "**valami** vs **csinálj valamit**\n",
   "metadata": {
    "slideshow": {
     "slide_type": "fragment"
    },
    "cell_id": "00080-16267a07-3ec5-4565-844b-673334a1f7ea",
    "deepnote_cell_type": "markdown"
   }
  },
  {
   "cell_type": "markdown",
   "source": "- Kifejezés kiértékelhető egy értékké\n",
   "metadata": {
    "slideshow": {
     "slide_type": "fragment"
    },
    "cell_id": "00081-7e9a0bc1-ee49-47cd-82c7-55ccd1e89e6f",
    "deepnote_cell_type": "markdown"
   }
  },
  {
   "cell_type": "markdown",
   "source": "- Utasításból több fajta van, a program **állapot**át változtatja\n",
   "metadata": {
    "slideshow": {
     "slide_type": "fragment"
    },
    "cell_id": "00082-6ecfc8b6-e4b2-4d2a-a147-df9e027843f5",
    "deepnote_cell_type": "markdown"
   }
  },
  {
   "cell_type": "markdown",
   "source": "- deklaráció\n",
   "metadata": {
    "slideshow": {
     "slide_type": "fragment"
    },
    "cell_id": "00083-0da1cc51-46ff-4fdd-8f55-ceedb41728a0",
    "deepnote_cell_type": "markdown"
   }
  },
  {
   "cell_type": "markdown",
   "source": "- értékadás\n",
   "metadata": {
    "slideshow": {
     "slide_type": "fragment"
    },
    "cell_id": "00084-4c1f2108-2ade-4cac-9c82-b0b9503dbcea",
    "deepnote_cell_type": "markdown"
   }
  },
  {
   "cell_type": "markdown",
   "source": "- függvénydefiníció\n",
   "metadata": {
    "slideshow": {
     "slide_type": "fragment"
    },
    "cell_id": "00085-5a9c09a8-fc9f-43fd-a373-a77d85e6149a",
    "deepnote_cell_type": "markdown"
   }
  },
  {
   "cell_type": "markdown",
   "source": "- függvénymeghívás\n",
   "metadata": {
    "slideshow": {
     "slide_type": "fragment"
    },
    "cell_id": "00086-598e2c25-eb55-41cd-a7dc-a7899943ef39",
    "deepnote_cell_type": "markdown"
   }
  },
  {
   "cell_type": "markdown",
   "source": "### Állapot (state)\nMinden, a program által adott pontban elérhető és általa tárolt információ.",
   "metadata": {
    "slideshow": {
     "slide_type": "slide"
    },
    "cell_id": "00087-b64736d2-ef5a-402d-9a93-c62b7689c7ec",
    "deepnote_cell_type": "markdown"
   }
  },
  {
   "cell_type": "markdown",
   "source": "### Állapot keret\nAz általunk értelmezett állapotban egy **keret** jellemezhető egy három oszlopos\n",
   "metadata": {
    "slideshow": {
     "slide_type": "slide"
    },
    "cell_id": "00088-9172e75d-eed8-418d-9129-0178dfa0589a",
    "deepnote_cell_type": "markdown"
   }
  },
  {
   "cell_type": "markdown",
   "source": "táblázattal:\n",
   "metadata": {
    "slideshow": {
     "slide_type": "fragment"
    },
    "cell_id": "00089-f2ddd220-fac6-4d7c-9f63-12a1061eb3d0",
    "deepnote_cell_type": "markdown"
   }
  },
  {
   "cell_type": "markdown",
   "source": "Név (identifier) |  Micsoda |  Érték/tartalom\n",
   "metadata": {
    "slideshow": {
     "slide_type": "fragment"
    },
    "cell_id": "00090-a566f0bf-04b3-46c3-b2a3-94fef156cff6",
    "deepnote_cell_type": "markdown"
   }
  },
  {
   "cell_type": "markdown",
   "source": "### Objektum Orientált Programozás\nNem tevékenység vagy logika, hanem objektumok, illetve adat köré építjük a programot",
   "metadata": {
    "slideshow": {
     "slide_type": "slide"
    },
    "cell_id": "00091-6ac2c205-7152-4bcb-9e91-00f22899c8b6",
    "deepnote_cell_type": "markdown"
   }
  },
  {
   "cell_type": "markdown",
   "source": "### Imperatív programozási paradigma\nLépésenként adunk választ a hogyan kérdésre",
   "metadata": {
    "slideshow": {
     "slide_type": "slide"
    },
    "cell_id": "00092-1ebe4755-8e5e-4300-9adb-538f43bb1b64",
    "deepnote_cell_type": "markdown"
   }
  },
  {
   "cell_type": "markdown",
   "source": "### Imperatív OOP\nLépésenként adunk utasításokat a programnak arra, hogy egyes objektumokat hogyan manipuláljon/kezeljen.",
   "metadata": {
    "slideshow": {
     "slide_type": "slide"
    },
    "cell_id": "00093-70883d9e-8d2d-49bb-8331-99b86328b476",
    "deepnote_cell_type": "markdown"
   }
  },
  {
   "cell_type": "markdown",
   "source": "Programnak ebben a megközelítésben bármely pillanatban van állapota, amiben világos a program számára elérhető objektumok *tulajdonságai* és értékei.",
   "metadata": {
    "slideshow": {
     "slide_type": "fragment"
    },
    "cell_id": "00094-1130142d-07b0-447d-9464-0963a71856e6",
    "deepnote_cell_type": "markdown"
   }
  },
  {
   "cell_type": "markdown",
   "source": "Legtöbb népszerű nyelv így közelíti meg a programokat. Pl: C++, Java,",
   "metadata": {
    "slideshow": {
     "slide_type": "fragment"
    },
    "cell_id": "00095-c9b8ed2b-294c-4c9f-867a-fdd5452559e4",
    "deepnote_cell_type": "markdown"
   }
  },
  {
   "cell_type": "markdown",
   "source": "C\\#, PHP, Python...",
   "metadata": {
    "slideshow": {
     "slide_type": "fragment"
    },
    "cell_id": "00096-1c6243b8-a47a-46f0-96d3-34e9acae97f4",
    "deepnote_cell_type": "markdown"
   }
  },
  {
   "cell_type": "markdown",
   "source": "### Adatlétrehozás példák\na = 10\n",
   "metadata": {
    "slideshow": {
     "slide_type": "slide"
    },
    "cell_id": "00097-d4ffa499-c38e-4433-a39b-933d0b0f656e",
    "deepnote_cell_type": "markdown"
   }
  },
  {
   "cell_type": "markdown",
   "source": "b = \"fing\"\n",
   "metadata": {
    "slideshow": {
     "slide_type": "fragment"
    },
    "cell_id": "00098-1dad703b-98db-434f-8a89-80ea087c05b5",
    "deepnote_cell_type": "markdown"
   }
  },
  {
   "cell_type": "markdown",
   "source": "c = False\n",
   "metadata": {
    "slideshow": {
     "slide_type": "fragment"
    },
    "cell_id": "00099-584c88e1-9e68-45be-a896-851199de287b",
    "deepnote_cell_type": "markdown"
   }
  },
  {
   "cell_type": "markdown",
   "source": "x = 10 + 4 / 6\n",
   "metadata": {
    "slideshow": {
     "slide_type": "fragment"
    },
    "cell_id": "00100-0f69e235-2713-4cb9-9c75-1e5fc06413f7",
    "deepnote_cell_type": "markdown"
   }
  },
  {
   "cell_type": "markdown",
   "source": "y = a - x\n",
   "metadata": {
    "slideshow": {
     "slide_type": "fragment"
    },
    "cell_id": "00101-4c7525c1-9944-4637-8df5-0f635666fe01",
    "deepnote_cell_type": "markdown"
   }
  },
  {
   "cell_type": "markdown",
   "source": "y = y + a + x\n",
   "metadata": {
    "slideshow": {
     "slide_type": "fragment"
    },
    "cell_id": "00102-d9939900-ea33-46e8-b8d4-e892dc53b418",
    "deepnote_cell_type": "markdown"
   }
  },
  {
   "cell_type": "markdown",
   "source": "boo = 10 > 5\n",
   "metadata": {
    "slideshow": {
     "slide_type": "fragment"
    },
    "cell_id": "00103-dbae286d-f462-40bf-9ab9-c26f014fdcda",
    "deepnote_cell_type": "markdown"
   }
  },
  {
   "cell_type": "markdown",
   "source": "foo = boo and (3 < a)\n",
   "metadata": {
    "slideshow": {
     "slide_type": "fragment"
    },
    "cell_id": "00104-ae783b85-620e-4b60-9daa-f2a3abd7805f",
    "deepnote_cell_type": "markdown"
   }
  },
  {
   "cell_type": "markdown",
   "source": "s = b + \" jajj\"",
   "metadata": {
    "slideshow": {
     "slide_type": "fragment"
    },
    "cell_id": "00105-80d4c38d-e763-4e4c-a1f4-48c35caf4bc0",
    "deepnote_cell_type": "markdown"
   }
  },
  {
   "cell_type": "markdown",
   "source": "### Változók létrehozása más nyelvekben\n[JAVASCRIPT TUTOR](http://pythontutor.com/javascript.html#code=var%20a%0Avar%20b%0Avar%20c%0A%0Aa%20%3D%2010%0Ab%20%3D%20%22fing%22%0Ac%20%3D%20false%0A%0Avar%20x%20%3D%2010%20%2B%204%20/%206%0Avar%20y%20%3D%20a%20-%20x%0Ay%20%3D%20y%20%2B%20a%20%2B%20x%0A%0Avar%20boo%20%3D%2010%20%3E%205%0Avar%20foo%20%3D%20boo%20%26%20%283%20%3C%20a%29%0A%0Avar%20s%20%3D%20b%20%2B%20%22%20jajj%22&curInstr=0&mode=display&origin=opt-frontend.js&py=js&rawInputLstJSON=%5B%5D)\n",
   "metadata": {
    "slideshow": {
     "slide_type": "slide"
    },
    "cell_id": "00106-b0f70df8-763d-4abc-bcae-8d6afe2c11cb",
    "deepnote_cell_type": "markdown"
   }
  },
  {
   "cell_type": "markdown",
   "source": "[C++ TUTOR](http://pythontutor.com/cpp.html#code=int%20main%28%29%20%7B%0A%0A%20%20int%20k%3B%0A%20%20int%20n%3B%0A%20%20int%20m%3B%0A%20%20k%20%3D%202%3B%0A%20%20n%20%3D%20k%20%2B%204%3B%0A%20%20m%20%3D%202%20*%20k%20-%20n%3B%0A%20%20bool%20l%20%3D%20m%20%3E%20k%3B%0A%20%20%0A%20%20char%20a%20%3D%20'HELLO'%3B%0A%20%20char%20b%20%3D%20'K'%3B%0A%20%20bool%20c%20%3D%20a%20%3E%20b%3B%0A%20%20%0A%20%20float%20x%20%3D%203.245%3B%0A%20%20float%20y%20%3D%204.876%3B%0A%20%20float%20z%20%3D%20x%20*%20y%3B%0A%20%20y%20%3D%202%3B%0A%7D%0A&curInstr=0&mode=display&origin=opt-frontend.js&py=cpp&rawInputLstJSON=%5B%5D)",
   "metadata": {
    "slideshow": {
     "slide_type": "fragment"
    },
    "cell_id": "00107-0cf3171b-780e-4d97-8e0b-aaedbcc088f7",
    "deepnote_cell_type": "markdown"
   }
  },
  {
   "cell_type": "markdown",
   "source": "<a style='text-decoration:none;line-height:16px;display:flex;color:#5B5B62;padding:10px;justify-content:end;' href='https://deepnote.com?utm_source=created-in-deepnote-cell&projectId=978e47b7-a961-4dca-a945-499e8b781a34' target=\"_blank\">\n<img alt='Created in deepnote.com' style='display:inline;max-height:16px;margin:0px;margin-right:7.5px;' src='data:image/svg+xml;base64,PD94bWwgdmVyc2lvbj0iMS4wIiBlbmNvZGluZz0iVVRGLTgiPz4KPHN2ZyB3aWR0aD0iODBweCIgaGVpZ2h0PSI4MHB4IiB2aWV3Qm94PSIwIDAgODAgODAiIHZlcnNpb249IjEuMSIgeG1sbnM9Imh0dHA6Ly93d3cudzMub3JnLzIwMDAvc3ZnIiB4bWxuczp4bGluaz0iaHR0cDovL3d3dy53My5vcmcvMTk5OS94bGluayI+CiAgICA8IS0tIEdlbmVyYXRvcjogU2tldGNoIDU0LjEgKDc2NDkwKSAtIGh0dHBzOi8vc2tldGNoYXBwLmNvbSAtLT4KICAgIDx0aXRsZT5Hcm91cCAzPC90aXRsZT4KICAgIDxkZXNjPkNyZWF0ZWQgd2l0aCBTa2V0Y2guPC9kZXNjPgogICAgPGcgaWQ9IkxhbmRpbmciIHN0cm9rZT0ibm9uZSIgc3Ryb2tlLXdpZHRoPSIxIiBmaWxsPSJub25lIiBmaWxsLXJ1bGU9ImV2ZW5vZGQiPgogICAgICAgIDxnIGlkPSJBcnRib2FyZCIgdHJhbnNmb3JtPSJ0cmFuc2xhdGUoLTEyMzUuMDAwMDAwLCAtNzkuMDAwMDAwKSI+CiAgICAgICAgICAgIDxnIGlkPSJHcm91cC0zIiB0cmFuc2Zvcm09InRyYW5zbGF0ZSgxMjM1LjAwMDAwMCwgNzkuMDAwMDAwKSI+CiAgICAgICAgICAgICAgICA8cG9seWdvbiBpZD0iUGF0aC0yMCIgZmlsbD0iIzAyNjVCNCIgcG9pbnRzPSIyLjM3NjIzNzYyIDgwIDM4LjA0NzY2NjcgODAgNTcuODIxNzgyMiA3My44MDU3NTkyIDU3LjgyMTc4MjIgMzIuNzU5MjczOSAzOS4xNDAyMjc4IDMxLjY4MzE2ODMiPjwvcG9seWdvbj4KICAgICAgICAgICAgICAgIDxwYXRoIGQ9Ik0zNS4wMDc3MTgsODAgQzQyLjkwNjIwMDcsNzYuNDU0OTM1OCA0Ny41NjQ5MTY3LDcxLjU0MjI2NzEgNDguOTgzODY2LDY1LjI2MTk5MzkgQzUxLjExMjI4OTksNTUuODQxNTg0MiA0MS42NzcxNzk1LDQ5LjIxMjIyODQgMjUuNjIzOTg0Niw0OS4yMTIyMjg0IEMyNS40ODQ5Mjg5LDQ5LjEyNjg0NDggMjkuODI2MTI5Niw0My4yODM4MjQ4IDM4LjY0NzU4NjksMzEuNjgzMTY4MyBMNzIuODcxMjg3MSwzMi41NTQ0MjUgTDY1LjI4MDk3Myw2Ny42NzYzNDIxIEw1MS4xMTIyODk5LDc3LjM3NjE0NCBMMzUuMDA3NzE4LDgwIFoiIGlkPSJQYXRoLTIyIiBmaWxsPSIjMDAyODY4Ij48L3BhdGg+CiAgICAgICAgICAgICAgICA8cGF0aCBkPSJNMCwzNy43MzA0NDA1IEwyNy4xMTQ1MzcsMC4yNTcxMTE0MzYgQzYyLjM3MTUxMjMsLTEuOTkwNzE3MDEgODAsMTAuNTAwMzkyNyA4MCwzNy43MzA0NDA1IEM4MCw2NC45NjA0ODgyIDY0Ljc3NjUwMzgsNzkuMDUwMzQxNCAzNC4zMjk1MTEzLDgwIEM0Ny4wNTUzNDg5LDc3LjU2NzA4MDggNTMuNDE4MjY3Nyw3MC4zMTM2MTAzIDUzLjQxODI2NzcsNTguMjM5NTg4NSBDNTMuNDE4MjY3Nyw0MC4xMjg1NTU3IDM2LjMwMzk1NDQsMzcuNzMwNDQwNSAyNS4yMjc0MTcsMzcuNzMwNDQwNSBDMTcuODQzMDU4NiwzNy43MzA0NDA1IDkuNDMzOTE5NjYsMzcuNzMwNDQwNSAwLDM3LjczMDQ0MDUgWiIgaWQ9IlBhdGgtMTkiIGZpbGw9IiMzNzkzRUYiPjwvcGF0aD4KICAgICAgICAgICAgPC9nPgogICAgICAgIDwvZz4KICAgIDwvZz4KPC9zdmc+' > </img>\nCreated in <span style='font-weight:600;margin-left:4px;'>Deepnote</span></a>",
   "metadata": {
    "tags": [],
    "created_in_deepnote_cell": true,
    "deepnote_cell_type": "markdown"
   }
  }
 ],
 "nbformat": 4,
 "nbformat_minor": 4,
 "metadata": {
  "celltoolbar": "Slideshow",
  "kernelspec": {
   "display_name": "Python 3",
   "language": "python",
   "name": "python3"
  },
  "language_info": {
   "codemirror_mode": {
    "name": "ipython",
    "version": 3
   },
   "file_extension": ".py",
   "mimetype": "text/x-python",
   "name": "python",
   "nbconvert_exporter": "python",
   "pygments_lexer": "ipython3",
   "version": "3.8.10"
  },
  "deepnote_notebook_id": "a565d70d-66d7-4326-b5db-77aaf73e14aa",
  "deepnote": {},
  "deepnote_execution_queue": []
 }
}