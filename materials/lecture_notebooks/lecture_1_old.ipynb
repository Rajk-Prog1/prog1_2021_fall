{
 "cells": [
  {
   "cell_type": "markdown",
   "source": "### Mit kellene tudni?\n#### 1. Megfogalmazni egy programozási problémát <!-- .element: class=\"fragment\"  -->\n",
   "metadata": {
    "slideshow": {
     "slide_type": "slide"
    },
    "cell_id": "00018-bdf0db46-7d17-425a-84ea-6aea3e0e73bd",
    "deepnote_cell_type": "markdown"
   }
  },
  {
   "cell_type": "markdown",
   "source": "#### 1. Számításelmélet értelmét elmagyarázni <!-- .element: class=\"fragment\"  -->\n",
   "metadata": {
    "slideshow": {
     "slide_type": "fragment"
    },
    "cell_id": "00019-06f78ce2-586d-46db-a77a-abf1a040d378",
    "deepnote_cell_type": "markdown"
   }
  },
  {
   "cell_type": "markdown",
   "source": "#### 1. Lebontani egy komplex problémát egyszerűbbekre <!-- .element: class=\"fragment\"  -->\n",
   "metadata": {
    "slideshow": {
     "slide_type": "fragment"
    },
    "cell_id": "00020-489e1d11-b7d4-473c-a423-ba8fbcd3f0c7",
    "deepnote_cell_type": "markdown"
   }
  },
  {
   "cell_type": "markdown",
   "source": "#### 1. Megérteni egy leírt programot <!-- .element: class=\"fragment\"  -->\n",
   "metadata": {
    "slideshow": {
     "slide_type": "fragment"
    },
    "cell_id": "00021-2ce72561-470c-4ddb-a7be-b81bd2dd0df4",
    "deepnote_cell_type": "markdown"
   }
  },
  {
   "cell_type": "markdown",
   "source": "#### 1. Megírni egy programot <!-- .element: class=\"fragment\"  -->\n",
   "metadata": {
    "slideshow": {
     "slide_type": "fragment"
    },
    "cell_id": "00022-e524b6e5-e68f-4e71-b5d3-4e6c925aeef7",
    "deepnote_cell_type": "markdown"
   }
  },
  {
   "cell_type": "markdown",
   "source": "#### 1. Találni érdeklődést és folytatást <!-- .element: class=\"fragment\"  -->\n",
   "metadata": {
    "slideshow": {
     "slide_type": "fragment"
    },
    "cell_id": "00023-4bd0760d-2950-43c2-9c7b-f7dfc05f3a5c",
    "deepnote_cell_type": "markdown"
   }
  },
  {
   "cell_type": "markdown",
   "source": "<center><img src=\"https://pics.me.me/doctors-googling-stuff-online-does-not-make-you-a-doctor-61282088.png\"></center> -->",
   "metadata": {
    "slideshow": {
     "slide_type": "fragment"
    },
    "cell_id": "00024-90de18cc-ecf8-4422-bbae-0a947812b00d",
    "deepnote_cell_type": "markdown"
   }
  },
  {
   "cell_type": "markdown",
   "source": "### Deklaratív tudás\nA \"mit?\" kérdésre adott válasz egy probléma kapcsán",
   "metadata": {
    "slideshow": {
     "slide_type": "slide"
    },
    "cell_id": "00025-1f74e948-7f30-416f-a0b7-2b4e074fc2fd",
    "deepnote_cell_type": "markdown"
   }
  },
  {
   "cell_type": "markdown",
   "source": "### Imperatív tudás\nA \"hogyan\" kérdésre adott válasz egy probléma kapcsán",
   "metadata": {
    "slideshow": {
     "slide_type": "slide"
    },
    "cell_id": "00026-8bd8ae29-6213-4f78-9ea7-51259fde50a7",
    "deepnote_cell_type": "markdown"
   }
  },
  {
   "cell_type": "markdown",
   "source": "### Deklaratív példák\n- tervrajz\n",
   "metadata": {
    "slideshow": {
     "slide_type": "slide"
    },
    "cell_id": "00027-6fe608f0-8f7f-48bd-bfd3-16ea6442b7d0",
    "deepnote_cell_type": "markdown"
   }
  },
  {
   "cell_type": "markdown",
   "source": "- térképjelzés\n",
   "metadata": {
    "slideshow": {
     "slide_type": "fragment"
    },
    "cell_id": "00028-6f844b27-ef38-4555-be5d-d29841bf1635",
    "deepnote_cell_type": "markdown"
   }
  },
  {
   "cell_type": "markdown",
   "source": "- anatómiai ábra\n",
   "metadata": {
    "slideshow": {
     "slide_type": "fragment"
    },
    "cell_id": "00029-d10fff72-161b-423b-adfe-d8f7a4c4add7",
    "deepnote_cell_type": "markdown"
   }
  },
  {
   "cell_type": "markdown",
   "source": "### Imperatív példák\n- recept\n",
   "metadata": {
    "slideshow": {
     "slide_type": "slide"
    },
    "cell_id": "00030-77bc7b01-8c1a-4370-b603-425d3fd3aeab",
    "deepnote_cell_type": "markdown"
   }
  },
  {
   "cell_type": "markdown",
   "source": "- IKEA útmutató\n",
   "metadata": {
    "slideshow": {
     "slide_type": "fragment"
    },
    "cell_id": "00031-e11a2a39-56d1-4bfb-91be-f7e74146e845",
    "deepnote_cell_type": "markdown"
   }
  },
  {
   "cell_type": "markdown",
   "source": "- útvonalterv\n",
   "metadata": {
    "slideshow": {
     "slide_type": "fragment"
    },
    "cell_id": "00032-1fddef1a-76dc-4156-8ff3-33c2a1b38ff8",
    "deepnote_cell_type": "markdown"
   }
  },
  {
   "cell_type": "markdown",
   "source": "### Mit adunk át a gépnek?\nEgy probléma megoldására szeretnénk megtanítani/megkérni:\n",
   "metadata": {
    "slideshow": {
     "slide_type": "slide"
    },
    "cell_id": "00033-55b1e774-01dd-444c-84a7-ed3d0531a849",
    "deepnote_cell_type": "markdown"
   }
  },
  {
   "cell_type": "markdown",
   "source": "tetszőleges $x$-re, számolja ki $ \\sqrt{x} $-et úgy, hogy csak osztani, szorozni, meg összeadni tud",
   "metadata": {
    "slideshow": {
     "slide_type": "fragment"
    },
    "cell_id": "00034-d19ce9c6-a5bc-4f66-ac8f-e47928190fe9",
    "deepnote_cell_type": "markdown"
   }
  },
  {
   "cell_type": "markdown",
   "source": "### Tudás Gyökvonásról\n- deklaratív tudás:\n",
   "metadata": {
    "slideshow": {
     "slide_type": "subslide"
    },
    "cell_id": "00035-d393b7c3-80be-4d24-8df8-8b4f1f2d74de",
    "deepnote_cell_type": "markdown"
   }
  },
  {
   "cell_type": "markdown",
   "source": "- $ \\sqrt{x} = y \\Leftrightarrow y^2=x $\n",
   "metadata": {
    "slideshow": {
     "slide_type": "fragment"
    },
    "cell_id": "00036-df6d191d-1abb-4352-9893-9d9d583dba07",
    "deepnote_cell_type": "markdown"
   }
  },
  {
   "cell_type": "markdown",
   "source": "- $ x < y^2 \\Leftrightarrow \\sqrt{x} < y $\n",
   "metadata": {
    "slideshow": {
     "slide_type": "fragment"
    },
    "cell_id": "00037-f214a6af-8b3c-4cac-adb1-77fd6b7f51f0",
    "deepnote_cell_type": "markdown"
   }
  },
  {
   "cell_type": "markdown",
   "source": "- $ ( (y_1 < x \\land y_2 < x) \\lor (y_1 > x \\land y_2 > x) ) \\Rightarrow $\n",
   "metadata": {
    "slideshow": {
     "slide_type": "fragment"
    },
    "cell_id": "00038-9186379b-e4b0-4c3d-8a3f-ca6cf46a1917",
    "deepnote_cell_type": "markdown"
   }
  },
  {
   "cell_type": "markdown",
   "source": "- $ \\Rightarrow ( |x  - y_1| < |x - y_2| \\Leftrightarrow |x^2  - y_1^2| < |x^2 - y_2^2| ) $\n",
   "metadata": {
    "slideshow": {
     "slide_type": "fragment"
    },
    "cell_id": "00039-55e52332-4d73-4ddc-9119-15a6c6c45e2d",
    "deepnote_cell_type": "markdown"
   }
  },
  {
   "cell_type": "markdown",
   "source": "- imperatív tudás:\n",
   "metadata": {
    "slideshow": {
     "slide_type": "fragment"
    },
    "cell_id": "00040-33a9a77e-0100-47a1-b9f1-0b65526ce5fa",
    "deepnote_cell_type": "markdown"
   }
  },
  {
   "cell_type": "markdown",
   "source": "- tippelünk egy kezdeti $ G $ -t, és ameddig nem elég jó, $ G' = \\frac{G+\\frac{x}{G}}{2} $ -vel közelítünk, így tetszőlegesen közel kerülünk az eredményhez\n",
   "metadata": {
    "slideshow": {
     "slide_type": "fragment"
    },
    "cell_id": "00041-18cf6f48-9154-4ad5-93a8-d7f5191dfcab",
    "deepnote_cell_type": "markdown"
   }
  },
  {
   "cell_type": "markdown",
   "source": "(minden nemnegatív számok esetén)",
   "metadata": {
    "slideshow": {
     "slide_type": "fragment"
    },
    "cell_id": "00042-a5964b33-1a65-4737-bf2c-3d52ced8d0b4",
    "deepnote_cell_type": "markdown"
   }
  },
  {
   "cell_type": "markdown",
   "source": "### Ember\nokos, kreatív, tud következtetni, memóriája ködös,\n",
   "metadata": {
    "slideshow": {
     "slide_type": "subslide"
    },
    "cell_id": "00043-3611fb5b-d462-46ac-a87c-93f8b86b8c10",
    "deepnote_cell_type": "markdown"
   }
  },
  {
   "cell_type": "markdown",
   "source": "szeretné minél kevesebbet nyomkodni a számológépet\n",
   "metadata": {
    "slideshow": {
     "slide_type": "fragment"
    },
    "cell_id": "00044-baa8bfcb-6373-4dab-a7b8-6b88e8093dca",
    "deepnote_cell_type": "markdown"
   }
  },
  {
   "cell_type": "markdown",
   "source": "- felhasznál csomó meglévő deklaratív tudást\n",
   "metadata": {
    "slideshow": {
     "slide_type": "fragment"
    },
    "cell_id": "00045-fad6d0ee-d00b-4ce3-bc58-819cafee3943",
    "deepnote_cell_type": "markdown"
   }
  },
  {
   "cell_type": "markdown",
   "source": "- összeállítja egy komplex tippelési folyamattá\n",
   "metadata": {
    "slideshow": {
     "slide_type": "fragment"
    },
    "cell_id": "00046-921db944-939f-4399-891b-a97e64751dd2",
    "deepnote_cell_type": "markdown"
   }
  },
  {
   "cell_type": "markdown",
   "source": "- tippek eredményéből továbbfejleszti a folyamatot\n",
   "metadata": {
    "slideshow": {
     "slide_type": "fragment"
    },
    "cell_id": "00047-0c96593d-1d71-4a14-bbf8-6aa5652ab998",
    "deepnote_cell_type": "markdown"
   }
  },
  {
   "cell_type": "markdown",
   "source": "- felhasznál olyan komplex fogalmakat mint nagyságrend, vagy előjelváltás",
   "metadata": {
    "slideshow": {
     "slide_type": "fragment"
    },
    "cell_id": "00048-3fa41527-c093-4ba7-bcc6-d0f09f8c4c5c",
    "deepnote_cell_type": "markdown"
   }
  },
  {
   "cell_type": "markdown",
   "source": "### Gép\nbuta, nincs önálló gondolata, memóriája tökéletes\n",
   "metadata": {
    "slideshow": {
     "slide_type": "subslide"
    },
    "cell_id": "00049-6283ab58-1368-43db-a6db-0d2007318997",
    "deepnote_cell_type": "markdown"
   }
  },
  {
   "cell_type": "markdown",
   "source": "másodpercenként töbmilliárd műveletet el tud végezni,\n",
   "metadata": {
    "slideshow": {
     "slide_type": "fragment"
    },
    "cell_id": "00050-50a9f937-aaa4-43cf-9eab-fcda2c68ecfd",
    "deepnote_cell_type": "markdown"
   }
  },
  {
   "cell_type": "markdown",
   "source": "- tippel egy nagyon rosszat, pl G = 1\n",
   "metadata": {
    "slideshow": {
     "slide_type": "fragment"
    },
    "cell_id": "00051-7cbbb7b8-2582-459c-877d-aaf9dc6d7a54",
    "deepnote_cell_type": "markdown"
   }
  },
  {
   "cell_type": "markdown",
   "source": "- valaki megtanította neki hogy $G' = \\frac{G+\\frac{x}{G}}{2}$ közelít, szóval elkezdi\n",
   "metadata": {
    "slideshow": {
     "slide_type": "fragment"
    },
    "cell_id": "00052-f1efd5ae-6dfa-4023-87ce-b59e252ae235",
    "deepnote_cell_type": "markdown"
   }
  },
  {
   "cell_type": "markdown",
   "source": "- Megoldandó probléma: $ \\sqrt{1366561} = ? $\n",
   "metadata": {
    "slideshow": {
     "slide_type": "fragment"
    },
    "cell_id": "00053-e7e0e301-b80f-4328-a19c-4f0b33ad1cc9",
    "deepnote_cell_type": "markdown"
   }
  },
  {
   "cell_type": "markdown",
   "source": "### Specifikáció\nEgyfajta deklaratív leírása egy programnak\n",
   "metadata": {
    "slideshow": {
     "slide_type": "slide"
    },
    "cell_id": "00054-00b6c976-2ad3-464f-9274-6456cea45ab2",
    "deepnote_cell_type": "markdown"
   }
  },
  {
   "cell_type": "markdown",
   "source": "Miből, mit?\n",
   "metadata": {
    "slideshow": {
     "slide_type": "fragment"
    },
    "cell_id": "00055-c467ff25-17d7-47e0-b9d1-48a966acd42b",
    "deepnote_cell_type": "markdown"
   }
  },
  {
   "cell_type": "markdown",
   "source": "- állapottér - bemenő/kimenő adatok\n",
   "metadata": {
    "slideshow": {
     "slide_type": "fragment"
    },
    "cell_id": "00056-3c5f061e-7ebc-48a8-9637-cbb702e3ac0d",
    "deepnote_cell_type": "markdown"
   }
  },
  {
   "cell_type": "markdown",
   "source": "- előfeltétel - amit tudunk a bemenetről\n",
   "metadata": {
    "slideshow": {
     "slide_type": "fragment"
    },
    "cell_id": "00057-61b0dcf0-f878-4045-9ba6-b3a0c55c3c75",
    "deepnote_cell_type": "markdown"
   }
  },
  {
   "cell_type": "markdown",
   "source": "- utófeltétel - az eredmény kiszámítási szabálya (amit tudunk az eredményről)\n",
   "metadata": {
    "slideshow": {
     "slide_type": "fragment"
    },
    "cell_id": "00058-b817cbef-2ed6-442c-996a-cd0cae9162c0",
    "deepnote_cell_type": "markdown"
   }
  },
  {
   "cell_type": "markdown",
   "source": "legyen **teljes** és **részletes**",
   "metadata": {
    "slideshow": {
     "slide_type": "fragment"
    },
    "cell_id": "00059-3e7d25b1-c506-45bc-9770-a7bd3f2d47ed",
    "deepnote_cell_type": "markdown"
   }
  },
  {
   "cell_type": "markdown",
   "source": "### Specifikáció I. példa\nValós számok halmazán megoldható másodfokú egyneletet oldjon meg a program, ami $ax^2+bx+c=0$ formában van megadva\n",
   "metadata": {
    "slideshow": {
     "slide_type": "slide"
    },
    "cell_id": "00060-9798cc27-3680-47f0-8030-5e204bf5ef11",
    "deepnote_cell_type": "markdown"
   }
  },
  {
   "cell_type": "markdown",
   "source": "- Á: $(a,b,c,x_1,x_2 \\in \\mathbb{R})$ <!-- .element: class=\"fragment\" data-fragment-index=\"1\" -->\n",
   "metadata": {
    "slideshow": {
     "slide_type": "fragment"
    },
    "cell_id": "00061-616b0fc1-fc0d-4011-9c98-4732266c3c8c",
    "deepnote_cell_type": "markdown"
   }
  },
  {
   "cell_type": "markdown",
   "source": "- Ef: $(a \\neq 0 \\land b^2-4ac \\geq 0)$ <!-- .element: class=\"fragment\" data-fragment-index=\"2\" -->\n",
   "metadata": {
    "slideshow": {
     "slide_type": "fragment"
    },
    "cell_id": "00062-f3123761-62eb-4dd2-8a2f-0c314a346acc",
    "deepnote_cell_type": "markdown"
   }
  },
  {
   "cell_type": "markdown",
   "source": "- Uf: $ (x_1 = \\frac{-b + \\sqrt{b^2-4ac}}{2a} \\land x_2 = \\frac{-b - \\sqrt{b^2-4ac}}{2a})$ <!-- .element: class=\"fragment\" data-fragment-index=\"3\" -->",
   "metadata": {
    "slideshow": {
     "slide_type": "fragment"
    },
    "cell_id": "00063-1073f905-bd4e-481a-8ee9-15b2700fe4d6",
    "deepnote_cell_type": "markdown"
   }
  },
  {
   "cell_type": "markdown",
   "source": "### Specifikáció példa 2\nValós számok halmazán megoldható másodfokú egyneletet oldjon meg a program, ami $ax^2+bx+c=0$ formában van megadva\n",
   "metadata": {
    "slideshow": {
     "slide_type": "subslide"
    },
    "cell_id": "00064-1a2030e9-ac49-44ba-8792-a634ca07c3fe",
    "deepnote_cell_type": "markdown"
   }
  },
  {
   "cell_type": "markdown",
   "source": "- Á: $(a,b,c,x_1,x_2 \\in \\mathbb{R})$\n",
   "metadata": {
    "slideshow": {
     "slide_type": "fragment"
    },
    "cell_id": "00065-f3593e03-549e-4d99-82a8-9061e523a54c",
    "deepnote_cell_type": "markdown"
   }
  },
  {
   "cell_type": "markdown",
   "source": "- Ef: $(a \\neq 0 \\land b^2-4ac \\geq 0)$\n",
   "metadata": {
    "slideshow": {
     "slide_type": "fragment"
    },
    "cell_id": "00066-b2e17f89-431c-44d7-8c8a-15830b62eeeb",
    "deepnote_cell_type": "markdown"
   }
  },
  {
   "cell_type": "markdown",
   "source": "- Uf: $ (\\forall i (ax_i^2+bx_i+c=0) \\land ( x_1 = x_2 \\iff b^2-4ac = 0 ))$",
   "metadata": {
    "slideshow": {
     "slide_type": "fragment"
    },
    "cell_id": "00067-c83f7cd4-58e6-46ab-b6c3-b872de20d10e",
    "deepnote_cell_type": "markdown"
   }
  },
  {
   "cell_type": "markdown",
   "source": "### Specifikáció teljessége\nAmit az előfeltétel megenged az állapottéren belül, azt az utófeltételnek kezelnie kell\n",
   "metadata": {
    "slideshow": {
     "slide_type": "slide"
    },
    "cell_id": "00068-8e73c763-48b8-47d0-bed5-13882c616ac4",
    "deepnote_cell_type": "markdown"
   }
  },
  {
   "cell_type": "markdown",
   "source": "Pl:\n",
   "metadata": {
    "slideshow": {
     "slide_type": "fragment"
    },
    "cell_id": "00069-01b4952e-6509-403e-bbc6-e2b01abb4562",
    "deepnote_cell_type": "markdown"
   }
  },
  {
   "cell_type": "markdown",
   "source": "- Válassza ki két szám közül azt amelyiknek több prím osztója van\n",
   "metadata": {
    "slideshow": {
     "slide_type": "fragment"
    },
    "cell_id": "00070-3ed61dc8-9659-46ac-a74e-4c62f772739f",
    "deepnote_cell_type": "markdown"
   }
  },
  {
   "cell_type": "markdown",
   "source": "- több különböző vagy több összesen?\n",
   "metadata": {
    "slideshow": {
     "slide_type": "fragment"
    },
    "cell_id": "00071-5dc5898c-a454-4bce-90cf-621aa08c02d5",
    "deepnote_cell_type": "markdown"
   }
  },
  {
   "cell_type": "markdown",
   "source": "- mi van ha ugyanannyi?\n",
   "metadata": {
    "slideshow": {
     "slide_type": "fragment"
    },
    "cell_id": "00072-a2e801ec-d03b-4911-829f-659b91c823b6",
    "deepnote_cell_type": "markdown"
   }
  },
  {
   "cell_type": "markdown",
   "source": "- Válassza ki egy számsorból azt az 5 számot ami legjobban eltér az átlagtól\n",
   "metadata": {
    "slideshow": {
     "slide_type": "fragment"
    },
    "cell_id": "00073-4d8490f9-0748-4082-8b4f-7e878798dff0",
    "deepnote_cell_type": "markdown"
   }
  },
  {
   "cell_type": "markdown",
   "source": "- mi van ha nincs 5 szám a számsorban?\n",
   "metadata": {
    "slideshow": {
     "slide_type": "fragment"
    },
    "cell_id": "00074-2005b727-01a8-4af6-8dd6-b4e6e48d0b8e",
    "deepnote_cell_type": "markdown"
   }
  },
  {
   "cell_type": "markdown",
   "source": "- mi van ha minden szám ugyanaz?\n",
   "metadata": {
    "slideshow": {
     "slide_type": "fragment"
    },
    "cell_id": "00075-f7c98142-ccb9-40c0-8f9d-d1f5f35961ff",
    "deepnote_cell_type": "markdown"
   }
  },
  {
   "cell_type": "markdown",
   "source": "- Sakktáblán szereplő állásról döntse el hogy matt-e.\n",
   "metadata": {
    "slideshow": {
     "slide_type": "fragment"
    },
    "cell_id": "00076-5aaeeb00-3d9c-492d-928f-711a287a333b",
    "deepnote_cell_type": "markdown"
   }
  },
  {
   "cell_type": "markdown",
   "source": "- mi van ha mindkét fél sakkban van?\n",
   "metadata": {
    "slideshow": {
     "slide_type": "fragment"
    },
    "cell_id": "00077-0471e20b-3fe8-4325-bd7f-0be0101fc0e6",
    "deepnote_cell_type": "markdown"
   }
  },
  {
   "cell_type": "markdown",
   "source": "- lehet 11 királynő valakinél?",
   "metadata": {
    "slideshow": {
     "slide_type": "fragment"
    },
    "cell_id": "00078-3e7252bb-2099-47fc-9396-56d99b660bd1",
    "deepnote_cell_type": "markdown"
   }
  },
  {
   "cell_type": "markdown",
   "source": "### Specifikáció részletessége\nA program főzzön rántottát:\n",
   "metadata": {
    "slideshow": {
     "slide_type": "subslide"
    },
    "cell_id": "00079-2cb6d770-e54c-4821-a8ef-d06fb7a54dc0",
    "deepnote_cell_type": "markdown"
   }
  },
  {
   "cell_type": "markdown",
   "source": "- Á: (konyha)\n",
   "metadata": {
    "slideshow": {
     "slide_type": "fragment"
    },
    "cell_id": "00080-e741c232-44fd-4ce6-ba9d-389edde7c03a",
    "deepnote_cell_type": "markdown"
   }
  },
  {
   "cell_type": "markdown",
   "source": "- Ef: ( )\n",
   "metadata": {
    "slideshow": {
     "slide_type": "fragment"
    },
    "cell_id": "00081-bfcc5298-751d-462f-82ba-de6665f41c36",
    "deepnote_cell_type": "markdown"
   }
  },
  {
   "cell_type": "markdown",
   "source": "- Uf: (ha a konyha alkalmas ennek elkészítésére, a konyhában legyen egy finom rántotta)\n",
   "metadata": {
    "slideshow": {
     "slide_type": "fragment"
    },
    "cell_id": "00082-0cc492b5-0c78-468b-8020-995fc4ac88a3",
    "deepnote_cell_type": "markdown"
   }
  },
  {
   "cell_type": "markdown",
   "source": "vagy:\n",
   "metadata": {
    "slideshow": {
     "slide_type": "fragment"
    },
    "cell_id": "00083-f4e796ce-ca87-4b57-a48b-8ba2f30bb113",
    "deepnote_cell_type": "markdown"
   }
  },
  {
   "cell_type": "markdown",
   "source": "- Á: (serpenyő, főzőlap, 3 tojás, olaj, só, fakanál, tányér)\n",
   "metadata": {
    "slideshow": {
     "slide_type": "fragment"
    },
    "cell_id": "00084-e6462941-b122-458d-b801-c6245aab8c4c",
    "deepnote_cell_type": "markdown"
   }
  },
  {
   "cell_type": "markdown",
   "source": "- Ef: (a serpenyő, tányér és fakanál tiszta, a tojás nem romlott, a főzőlap képes a serpenyőt 200 Celsius fokra felmelegíteni)\n",
   "metadata": {
    "slideshow": {
     "slide_type": "fragment"
    },
    "cell_id": "00085-26128a87-d108-4c0c-a5fc-057873fc845d",
    "deepnote_cell_type": "markdown"
   }
  },
  {
   "cell_type": "markdown",
   "source": "- Uf: (a tojások összekeverve kerültek a 200 fokos serpenyőbe az olaj után, több mint 4 de kevesebb mint 10 percet töltöttek ott, ebből 20 másodpercnél többet nem álltak kavarás nélkül, végül megsózva kikerültek a tányérra)",
   "metadata": {
    "slideshow": {
     "slide_type": "fragment"
    },
    "cell_id": "00086-2f8748e3-298b-4c64-9d6a-2e2172c3119c",
    "deepnote_cell_type": "markdown"
   }
  },
  {
   "cell_type": "markdown",
   "source": "### Specifikáció II. példa\nKét természetes szám legnagyobb közös osztójának megtalálása\n",
   "metadata": {
    "slideshow": {
     "slide_type": "slide"
    },
    "cell_id": "00087-fe828258-e89c-43e6-b04c-375b47be4a2b",
    "deepnote_cell_type": "markdown"
   }
  },
  {
   "cell_type": "markdown",
   "source": "- Á: $(a,b,x \\in \\mathbb{N})$ <!-- .element: class=\"fragment\" data-fragment-index=\"1\" -->\n",
   "metadata": {
    "slideshow": {
     "slide_type": "fragment"
    },
    "cell_id": "00088-0f289808-c35e-4e45-811a-ad4f57807ca8",
    "deepnote_cell_type": "markdown"
   }
  },
  {
   "cell_type": "markdown",
   "source": "- Ef: $(a \\neq 0 \\land b \\neq 0)$ <!-- .element: class=\"fragment\" data-fragment-index=\"2\" -->\n",
   "metadata": {
    "slideshow": {
     "slide_type": "fragment"
    },
    "cell_id": "00089-773fce26-ffa8-4ea9-adb9-c4a7263ef32d",
    "deepnote_cell_type": "markdown"
   }
  },
  {
   "cell_type": "markdown",
   "source": "- Uf: $ (x|a \\land x|b \\land \\nexists i(i|a \\land i|b \\land i > x))$ <!-- .element: class=\"fragment\" data-fragment-index=\"3\" -->",
   "metadata": {
    "slideshow": {
     "slide_type": "fragment"
    },
    "cell_id": "00090-ecd03708-d602-4e34-bc89-87768af1f8ce",
    "deepnote_cell_type": "markdown"
   }
  },
  {
   "cell_type": "markdown",
   "source": "<a style='text-decoration:none;line-height:16px;display:flex;color:#5B5B62;padding:10px;justify-content:end;' href='https://deepnote.com?utm_source=created-in-deepnote-cell&projectId=978e47b7-a961-4dca-a945-499e8b781a34' target=\"_blank\">\n<img alt='Created in deepnote.com' style='display:inline;max-height:16px;margin:0px;margin-right:7.5px;' src='data:image/svg+xml;base64,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' > </img>\nCreated in <span style='font-weight:600;margin-left:4px;'>Deepnote</span></a>",
   "metadata": {
    "tags": [],
    "created_in_deepnote_cell": true,
    "deepnote_cell_type": "markdown"
   }
  }
 ],
 "nbformat": 4,
 "nbformat_minor": 4,
 "metadata": {
  "celltoolbar": "Slideshow",
  "kernelspec": {
   "display_name": "Python 3",
   "language": "python",
   "name": "python3"
  },
  "language_info": {
   "codemirror_mode": {
    "name": "ipython",
    "version": 3
   },
   "file_extension": ".py",
   "mimetype": "text/x-python",
   "name": "python",
   "nbconvert_exporter": "python",
   "pygments_lexer": "ipython3",
   "version": "3.8.10"
  },
  "deepnote_notebook_id": "c641ddc1-f29b-45f8-a587-cc07279c389c",
  "deepnote": {},
  "deepnote_execution_queue": []
 }
}