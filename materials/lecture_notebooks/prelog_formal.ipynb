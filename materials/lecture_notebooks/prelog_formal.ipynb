{
 "cells": [
  {
   "cell_type": "markdown",
   "source": "### Mi a formális logika?\nSzimbólumok szabályos összefűzésével formált, jelentéssel bíró kifejezések rendszere.",
   "metadata": {
    "slideshow": {
     "slide_type": "slide"
    },
    "cell_id": "00000-69a0c6ef-d5d5-46c3-a26b-f44f47ab07db",
    "deepnote_cell_type": "markdown"
   }
  },
  {
   "cell_type": "markdown",
   "source": "$\\Rightarrow$ **NYELV**",
   "metadata": {
    "slideshow": {
     "slide_type": "fragment"
    },
    "cell_id": "00001-431d95f0-0b4b-4830-b66b-7ebe1d896640",
    "deepnote_cell_type": "markdown"
   }
  },
  {
   "cell_type": "markdown",
   "source": "A szimbólumok sorrendjét egyfajta nyelvtan, míg a keletkező kifejezések igazságtartalmát a logikai következtetés szabályai rögzítik.",
   "metadata": {
    "slideshow": {
     "slide_type": "fragment"
    },
    "cell_id": "00002-cb8a507d-73ee-41c3-9624-f922357aed34",
    "deepnote_cell_type": "markdown"
   }
  },
  {
   "cell_type": "markdown",
   "source": "### Ítéletlogika\n- logikai változókkal és a velük elvégezhető műveletekkel foglalkozik\n",
   "metadata": {
    "slideshow": {
     "slide_type": "slide"
    },
    "cell_id": "00003-b557c548-27f6-45fa-a25b-bad539983ae2",
    "deepnote_cell_type": "markdown"
   }
  },
  {
   "cell_type": "markdown",
   "source": "- **logikai változó**: csak az IGAZ és HAMIS értékeket veheti fel\n",
   "metadata": {
    "slideshow": {
     "slide_type": "fragment"
    },
    "cell_id": "00004-bc2d20c7-69f4-4dfb-8db4-61d8154e64cc",
    "deepnote_cell_type": "markdown"
   }
  },
  {
   "cell_type": "markdown",
   "source": "- ilyen pl. egy állítás vagy egy matematikai kifejezés igazságértéke\n",
   "metadata": {
    "slideshow": {
     "slide_type": "fragment"
    },
    "cell_id": "00005-1a4beed2-05e8-4f31-b426-d07d47e43d54",
    "deepnote_cell_type": "markdown"
   }
  },
  {
   "cell_type": "markdown",
   "source": "- a logikai változók között - más típusú változókhoz hasonlóan - létezhetnek *logikai műveletek*",
   "metadata": {
    "slideshow": {
     "slide_type": "fragment"
    },
    "cell_id": "00006-b35d73c7-b118-4a81-a9fa-354cfd92b22c",
    "deepnote_cell_type": "markdown"
   }
  },
  {
   "cell_type": "markdown",
   "source": "### Milyen értéke nem lehet logikai változónak?\n- 3",
   "metadata": {
    "slideshow": {
     "slide_type": "slide"
    },
    "cell_id": "00007-ee447906-ae1b-41e9-8927-ddc81ed78ed4",
    "deepnote_cell_type": "markdown"
   }
  },
  {
   "cell_type": "markdown",
   "source": "- \"malac\"",
   "metadata": {
    "slideshow": {
     "slide_type": "fragment"
    },
    "cell_id": "00008-81d34d89-cc31-45b0-ad12-6036e3917eaa",
    "deepnote_cell_type": "markdown"
   }
  },
  {
   "cell_type": "markdown",
   "source": "- \"nem tudom\"",
   "metadata": {
    "slideshow": {
     "slide_type": "fragment"
    },
    "cell_id": "00009-7a07a212-522c-465e-8e08-68bf061a1a56",
    "deepnote_cell_type": "markdown"
   }
  },
  {
   "cell_type": "markdown",
   "source": "- \"attól függ\"",
   "metadata": {
    "slideshow": {
     "slide_type": "fragment"
    },
    "cell_id": "00010-5b1a5a51-7829-4e67-a9d3-acdadaa2bd34",
    "deepnote_cell_type": "markdown"
   }
  },
  {
   "cell_type": "markdown",
   "source": "### Alakítsd át logikai változóvá!\n*Nem logikai változó*: Az eső valószínűsége (0%-tól 100%-ig bármi lehet az értéke)\n",
   "metadata": {
    "slideshow": {
     "slide_type": "slide"
    },
    "cell_id": "00011-5e120996-a2db-43e9-bc6b-3200dfd425db",
    "deepnote_cell_type": "markdown"
   }
  },
  {
   "cell_type": "markdown",
   "source": "A fentiből képzett *logikai változó*, amely igaz, ha...\n",
   "metadata": {
    "slideshow": {
     "slide_type": "fragment"
    },
    "cell_id": "00012-7f183378-4aad-4872-aea0-59140c73ced1",
    "deepnote_cell_type": "markdown"
   }
  },
  {
   "cell_type": "markdown",
   "source": "#### 1. Az eső valószínűsége nagyobb, mint 50%:\n",
   "metadata": {
    "slideshow": {
     "slide_type": "fragment"
    },
    "cell_id": "00013-abb2f0ba-34e9-425f-8f2f-7771463b788a",
    "deepnote_cell_type": "markdown"
   }
  },
  {
   "cell_type": "markdown",
   "source": "- Valószínűbb, hogy esni fog, mint hogy nem fog esni?",
   "metadata": {
    "slideshow": {
     "slide_type": "fragment"
    },
    "cell_id": "00014-0e6b5d4a-282b-4b57-8480-4c3ae4ee55bd",
    "deepnote_cell_type": "markdown"
   }
  },
  {
   "cell_type": "markdown",
   "source": "#### 2. Az eső valószínűsége 100%, különben hamis:\n",
   "metadata": {
    "slideshow": {
     "slide_type": "fragment"
    },
    "cell_id": "00015-759de16f-bd01-4cf4-b3c1-1c9a96dfc410",
    "deepnote_cell_type": "markdown"
   }
  },
  {
   "cell_type": "markdown",
   "source": "- Biztosan esni fog?",
   "metadata": {
    "slideshow": {
     "slide_type": "fragment"
    },
    "cell_id": "00016-b3a19d8b-8402-4713-a849-b41e5169a9fa",
    "deepnote_cell_type": "markdown"
   }
  },
  {
   "cell_type": "markdown",
   "source": "### Alakítsd át logikai változóvá!\n*Nem logikai változó*: a vizsgajegyem (egész szám 1 és 5 között)\n",
   "metadata": {
    "slideshow": {
     "slide_type": "slide"
    },
    "cell_id": "00017-5fdc6eb0-38e4-44d4-9559-f58ac705ca13",
    "deepnote_cell_type": "markdown"
   }
  },
  {
   "cell_type": "markdown",
   "source": "A fentiből képzett *logikai változó*: ...",
   "metadata": {
    "slideshow": {
     "slide_type": "fragment"
    },
    "cell_id": "00018-d38298fc-0416-4a9c-83d0-4d9c26f65834",
    "deepnote_cell_type": "markdown"
   }
  },
  {
   "cell_type": "markdown",
   "source": "### Műveletek\n- $\\neg$: tagadás\n",
   "metadata": {
    "slideshow": {
     "slide_type": "slide"
    },
    "cell_id": "00019-2d18f2c3-fddf-4b7a-8a2a-387a10388767",
    "deepnote_cell_type": "markdown"
   }
  },
  {
   "cell_type": "markdown",
   "source": "- $\\land$: és (konjukció)\n",
   "metadata": {
    "slideshow": {
     "slide_type": "fragment"
    },
    "cell_id": "00020-ec9f4931-1352-4419-a434-1b29883501b1",
    "deepnote_cell_type": "markdown"
   }
  },
  {
   "cell_type": "markdown",
   "source": "- $\\lor$: vagy (diszjunkció)\n",
   "metadata": {
    "slideshow": {
     "slide_type": "fragment"
    },
    "cell_id": "00021-a87e7864-6777-407c-88ec-c4497588d217",
    "deepnote_cell_type": "markdown"
   }
  },
  {
   "cell_type": "markdown",
   "source": "- $\\oplus$: kizáró vagy\n",
   "metadata": {
    "slideshow": {
     "slide_type": "fragment"
    },
    "cell_id": "00022-1dfa3728-e56f-4cf2-bd0d-49a0ba486f82",
    "deepnote_cell_type": "markdown"
   }
  },
  {
   "cell_type": "markdown",
   "source": "- $\\Rightarrow$: implikáció\n",
   "metadata": {
    "slideshow": {
     "slide_type": "fragment"
    },
    "cell_id": "00023-22465a38-e9c7-4731-89d1-eee9819784bb",
    "deepnote_cell_type": "markdown"
   }
  },
  {
   "cell_type": "markdown",
   "source": "- $\\Leftrightarrow$: ekvivalencia",
   "metadata": {
    "slideshow": {
     "slide_type": "fragment"
    },
    "cell_id": "00024-4a8fb3ba-053d-485f-9da2-cb85c928c61f",
    "deepnote_cell_type": "markdown"
   }
  },
  {
   "cell_type": "markdown",
   "source": "### Kijelentések:\nA: Misi szereti a kevertet, B: Misi részt vesz az Ábel kupán, C: Misi rajkos, D: kevesen szeretik a kevertet",
   "metadata": {
    "slideshow": {
     "slide_type": "slide"
    },
    "cell_id": "00025-b456bfed-a74c-431c-89ae-9d2b53469f76",
    "deepnote_cell_type": "markdown"
   }
  },
  {
   "cell_type": "markdown",
   "source": "#### 1. Misi szereti a kevertet és részt vesz az Ábel kupán\n",
   "metadata": {
    "slideshow": {
     "slide_type": "slide"
    },
    "cell_id": "00026-48bbd92d-ceb7-441a-975c-67d50d610a63",
    "deepnote_cell_type": "markdown"
   }
  },
  {
   "cell_type": "markdown",
   "source": "- A $\\land$ B",
   "metadata": {
    "slideshow": {
     "slide_type": "fragment"
    },
    "cell_id": "00027-33796303-4dfd-4bc1-9bd8-05cdc37c2a54",
    "deepnote_cell_type": "markdown"
   }
  },
  {
   "cell_type": "markdown",
   "source": "#### 2.  Misi nem szereti a kevertet, de részt vesz az Ábel kupán\n",
   "metadata": {
    "slideshow": {
     "slide_type": "fragment"
    },
    "cell_id": "00028-aa2d18d6-0ac0-4f25-ad12-ff4dd0ea3f10",
    "deepnote_cell_type": "markdown"
   }
  },
  {
   "cell_type": "markdown",
   "source": "- $\\neg$ A $\\land$ B",
   "metadata": {
    "slideshow": {
     "slide_type": "fragment"
    },
    "cell_id": "00029-3d951148-8e65-486a-9986-a7c6bcad5467",
    "deepnote_cell_type": "markdown"
   }
  },
  {
   "cell_type": "markdown",
   "source": "#### 3.  Ha kevesen szeretik a kevertet és Misi szereti, akkor Misi rajkos\n",
   "metadata": {
    "slideshow": {
     "slide_type": "fragment"
    },
    "cell_id": "00030-8514acbf-6583-4e2a-a276-d4f1e56e0427",
    "deepnote_cell_type": "markdown"
   }
  },
  {
   "cell_type": "markdown",
   "source": "- (D $\\land$ A) $\\Rightarrow$ C",
   "metadata": {
    "slideshow": {
     "slide_type": "fragment"
    },
    "cell_id": "00031-a3035e9f-6650-434e-ac4b-20dc73ebf9f8",
    "deepnote_cell_type": "markdown"
   }
  },
  {
   "cell_type": "markdown",
   "source": "#### 4.  Misi vagy nem rajkos, vagy szereti a kevertet és részt vesz az Ábel kupán\n",
   "metadata": {
    "slideshow": {
     "slide_type": "fragment"
    },
    "cell_id": "00032-5cf25c01-a4c2-4bc1-86cf-e2cd29d22a9b",
    "deepnote_cell_type": "markdown"
   }
  },
  {
   "cell_type": "markdown",
   "source": "- $\\neg$ C $\\oplus$ (A $\\land$ B) VAGY $\\neg$ C $\\lor$ (A $\\land$ B)",
   "metadata": {
    "slideshow": {
     "slide_type": "fragment"
    },
    "cell_id": "00033-930b971b-90b5-4af7-913a-31cdfea628cf",
    "deepnote_cell_type": "markdown"
   }
  },
  {
   "cell_type": "markdown",
   "source": "#### 5.  Misi akkor és csak akkor vesz részt az Ábel kupán, ha vagy szereti a kevertet, vagy rajkos\n",
   "metadata": {
    "slideshow": {
     "slide_type": "fragment"
    },
    "cell_id": "00034-8244f53f-ea00-4ada-9e4d-b2f9ea8a3a74",
    "deepnote_cell_type": "markdown"
   }
  },
  {
   "cell_type": "markdown",
   "source": "- B $\\Leftrightarrow$ (A $\\lor$ C)",
   "metadata": {
    "slideshow": {
     "slide_type": "fragment"
    },
    "cell_id": "00035-1fb3c660-b10e-467f-af0c-086820a97159",
    "deepnote_cell_type": "markdown"
   }
  },
  {
   "cell_type": "markdown",
   "source": "### Igazságtábla\n\n| A | B | $\\neg$A | A$\\land$B | A$\\lor$B | A$\\oplus$B | A$\\Rightarrow$B | A$\\Leftrightarrow$B |\n| -- | -- | -- | -- | -- | -- | -- | -- |\n| I | I |  |  |  |  |  |  |\n| I | H |  |  |  |  |  |  |\n| H | I |  |  |  |  |  |  |\n| H | H |  |  |  |  |  |  |",
   "metadata": {
    "slideshow": {
     "slide_type": "slide"
    },
    "cell_id": "00036-8ab5c84e-0635-4aca-9294-9d6959d46674",
    "deepnote_cell_type": "markdown"
   }
  },
  {
   "cell_type": "markdown",
   "source": "### Igazságtábla\n\n\n| A | B | $\\neg$A | A$\\land$B | A$\\lor$B | A$\\oplus$B | A$\\Rightarrow$B | A$\\Leftrightarrow$B |\n| -- | -- | -- | -- | -- | -- | -- | -- |\n| I | I | H |  |  |  |  |  |\n| I | H | H |  |  |  |  |  |\n| H | I | I |  |  |  |  |  |\n| H | H | I |  |  |  |  |  |",
   "metadata": {
    "slideshow": {
     "slide_type": "subslide"
    },
    "cell_id": "00037-606d24d4-a3fe-4b4d-a64a-d4dcfa518eac",
    "deepnote_cell_type": "markdown"
   }
  },
  {
   "cell_type": "markdown",
   "source": "### Igazságtábla\n\n\n|A | B | $\\neg$A | A$\\land$B | A$\\lor$B | A$\\oplus$B | A$\\Rightarrow$B | A$\\Leftrightarrow$B |\n| -- | -- | -- | -- | -- | -- | -- | -- |\n| I | I | H | I |  |  |  |  |\n| I | H | H | H |  |  |  |  |\n| H | I | I | H |  |  |  |  |\n| H | H | I | H |  |  |  |  |",
   "metadata": {
    "slideshow": {
     "slide_type": "subslide"
    },
    "cell_id": "00038-b93d5db7-de48-475b-9df4-9b970f3cc3f2",
    "deepnote_cell_type": "markdown"
   }
  },
  {
   "cell_type": "markdown",
   "source": "### Igazságtábla\n\n\n| A | B | $\\neg$A | A$\\land$B | A$\\lor$B | A$\\oplus$B | A$\\Rightarrow$B | A$\\Leftrightarrow$B |\n| -- | -- | -- | -- | -- | -- | -- | -- |\n| I | I | H | I | I |  |  |  |\n| I | H | H | H | I |  |  |  |\n| H | I | I | H | I |  |  |  |\n| H | H | I | H | H |  |  |  |",
   "metadata": {
    "slideshow": {
     "slide_type": "subslide"
    },
    "cell_id": "00039-c35decdd-1412-4146-a17c-78a1b339369f",
    "deepnote_cell_type": "markdown"
   }
  },
  {
   "cell_type": "markdown",
   "source": "### Igazságtábla\n\n\n| A | B | $\\neg$A | A$\\land$B | A$\\lor$B | A$\\oplus$B | A$\\Rightarrow$B | A$\\Leftrightarrow$B |\n| -- | -- | -- | -- | -- | -- | -- | -- |\n| I | I | H | I | I | H |  |  |\n| I | H | H | H | I | I |  |  |\n| H | I | I | H | I | I |  |  |\n| H | H | I | H | H | H |  |  |",
   "metadata": {
    "slideshow": {
     "slide_type": "subslide"
    },
    "cell_id": "00040-1b5e24db-93d9-4ea4-9b6c-8a81105b74ac",
    "deepnote_cell_type": "markdown"
   }
  },
  {
   "cell_type": "markdown",
   "source": "### Igazságtábla\n\n\n| A | B | $\\neg$A | A$\\land$B | A$\\lor$B | A$\\oplus$B | A$\\Rightarrow$B | A$\\Leftrightarrow$B |\n| -- | -- | -- | -- | -- | -- | -- | -- |\n| I | I | H | I | I | H | I |  |\n| I | H | H | H | I | I | H |  |\n| H | I | I | H | I | I | I |  |\n| H | H | I | H | H | H | I |  |",
   "metadata": {
    "slideshow": {
     "slide_type": "subslide"
    },
    "cell_id": "00041-a2b5d92e-34e5-4cb2-ba0d-5ec3e72799fd",
    "deepnote_cell_type": "markdown"
   }
  },
  {
   "cell_type": "markdown",
   "source": "### Igazságtábla\n\n\n| A | B | $\\neg$A | A$\\land$B | A$\\lor$B | A$\\oplus$B | A$\\Rightarrow$B | A$\\Leftrightarrow$B |\n| -- | -- | -- | -- | -- | -- | -- | -- |\n| I | I | H | I | I | H | I | I |\n| I | H | H | H | I | I | H | H |\n| H | I | I | H | I | I | I | H |\n| H | H | I | H | H | H | I | I |",
   "metadata": {
    "slideshow": {
     "slide_type": "slide"
    },
    "cell_id": "00042-1b2aa1e9-a482-44cf-a120-68441d31187a",
    "deepnote_cell_type": "markdown"
   }
  },
  {
   "cell_type": "markdown",
   "source": "### Félösszeadó\nAz ALU (*arithmetic processing unit*) egyszerű számításokat végző áramkör, a számítógépek processzorának alapköve. Ennek egyik komponense a félösszeadó, ami bináris számokat ad össze.\n",
   "metadata": {
    "slideshow": {
     "slide_type": "slide"
    },
    "cell_id": "00043-d94add05-eb5b-4d33-995f-d4568fd28104",
    "deepnote_cell_type": "markdown"
   }
  },
  {
   "cell_type": "markdown",
   "source": "<img src=\"lecture_materials/halfadder_1.png\">\n",
   "metadata": {
    "slideshow": {
     "slide_type": "fragment"
    },
    "cell_id": "00044-90803b6e-37dc-40d4-85e9-5567e690cd38",
    "deepnote_cell_type": "markdown"
   }
  },
  {
   "cell_type": "markdown",
   "source": "<img src=\"lecture_materials/halfadder_2.png\">",
   "metadata": {
    "slideshow": {
     "slide_type": "subslide"
    },
    "cell_id": "00045-6f1a2432-4497-4235-bf7f-e86b74052907",
    "deepnote_cell_type": "markdown"
   }
  },
  {
   "cell_type": "markdown",
   "source": "### Mire hasonlít mindez?\n- változók\n",
   "metadata": {
    "slideshow": {
     "slide_type": "slide"
    },
    "cell_id": "00046-a5b376d1-0609-4d11-859d-c229fe10ea54",
    "deepnote_cell_type": "markdown"
   }
  },
  {
   "cell_type": "markdown",
   "source": "- meghatározott lehetséges értékek amiket változó felvehet\n",
   "metadata": {
    "slideshow": {
     "slide_type": "fragment"
    },
    "cell_id": "00047-2b0185bf-4702-4b1f-bc89-85147b1577bd",
    "deepnote_cell_type": "markdown"
   }
  },
  {
   "cell_type": "markdown",
   "source": "- változók közötti műveletek\n",
   "metadata": {
    "slideshow": {
     "slide_type": "fragment"
    },
    "cell_id": "00048-b47c56bb-cc98-43c6-a855-2de1703ea851",
    "deepnote_cell_type": "markdown"
   }
  },
  {
   "cell_type": "markdown",
   "source": "### algebra! <!-- .element: class=\"fragment\" data-fragment-index=\"1\" -->",
   "metadata": {
    "slideshow": {
     "slide_type": "fragment"
    },
    "cell_id": "00049-3a28e08b-c458-4e2b-b66c-24503f61b5bf",
    "deepnote_cell_type": "markdown"
   }
  },
  {
   "cell_type": "markdown",
   "source": "### Mik ezek?\n- $ x \\times 0 = 0 $",
   "metadata": {
    "slideshow": {
     "slide_type": "slide"
    },
    "cell_id": "00050-33126de8-9230-4bf1-9e3e-be583fe92266",
    "deepnote_cell_type": "markdown"
   }
  },
  {
   "cell_type": "markdown",
   "source": "- $ y ^ 0 = 1 $",
   "metadata": {
    "slideshow": {
     "slide_type": "fragment"
    },
    "cell_id": "00051-3117c6a4-9677-4cc4-8ef4-7a47db6dbc4a",
    "deepnote_cell_type": "markdown"
   }
  },
  {
   "cell_type": "markdown",
   "source": "- $ (a + b)^2 = a^2 + 2ab + b^2 $",
   "metadata": {
    "slideshow": {
     "slide_type": "fragment"
    },
    "cell_id": "00052-a44c8472-d54f-45ae-b9fb-cea79e755a6b",
    "deepnote_cell_type": "markdown"
   }
  },
  {
   "cell_type": "markdown",
   "source": "### tételek",
   "metadata": {
    "slideshow": {
     "slide_type": "fragment"
    },
    "cell_id": "00053-94dfa38b-c22f-42d3-b93d-74ace5d7ba71",
    "deepnote_cell_type": "markdown"
   }
  },
  {
   "cell_type": "markdown",
   "source": "olyan formulák, melyek a bennük szereplő változók értékétől függetlenül igazak",
   "metadata": {
    "slideshow": {
     "slide_type": "fragment"
    },
    "cell_id": "00054-210e3e2c-456b-4260-b379-af95bb2c4e72",
    "deepnote_cell_type": "markdown"
   }
  },
  {
   "cell_type": "markdown",
   "source": "### Tételek\n#### 1. asszociativitás:\n- $A \\lor (B \\lor C) \\Leftrightarrow (A \\lor B) \\lor C$",
   "metadata": {
    "slideshow": {
     "slide_type": "slide"
    },
    "cell_id": "00055-86230c2e-727f-4498-b450-024f717e8235",
    "deepnote_cell_type": "markdown"
   }
  },
  {
   "cell_type": "markdown",
   "source": "#### 2. disztributivitás:\n- $A \\land (B \\lor C) \\Leftrightarrow (A \\land B) \\lor (A \\land C)$",
   "metadata": {
    "slideshow": {
     "slide_type": "fragment"
    },
    "cell_id": "00056-5973ec7d-521c-4b25-8c21-d1da7d22b3db",
    "deepnote_cell_type": "markdown"
   }
  },
  {
   "cell_type": "markdown",
   "source": "#### 3. De Morgan szabály:\n- $\\neg (A \\lor B) \\Leftrightarrow \\neg A \\land \\neg B$",
   "metadata": {
    "slideshow": {
     "slide_type": "fragment"
    },
    "cell_id": "00057-befd38be-91f2-4095-980a-89654baad203",
    "deepnote_cell_type": "markdown"
   }
  },
  {
   "cell_type": "markdown",
   "source": "#### 4. szillogizmus:\n- $(A \\Rightarrow B) \\land (B \\Rightarrow C) \\Rightarrow (A \\Rightarrow C)$",
   "metadata": {
    "slideshow": {
     "slide_type": "fragment"
    },
    "cell_id": "00058-db1d27be-5038-40bd-a5bb-0aed66ffe1ca",
    "deepnote_cell_type": "markdown"
   }
  },
  {
   "cell_type": "markdown",
   "source": "### Tétel-e?\n#### 1.  $A \\Rightarrow B \\Leftrightarrow \\neg A \\lor B$\n",
   "metadata": {
    "slideshow": {
     "slide_type": "slide"
    },
    "cell_id": "00059-c66d2458-7c2c-4555-bc43-6ea4ccfbd67f",
    "deepnote_cell_type": "markdown"
   }
  },
  {
   "cell_type": "markdown",
   "source": "#### 2.  $(A \\Rightarrow B) \\lor (B \\Rightarrow A)$",
   "metadata": {
    "slideshow": {
     "slide_type": "fragment"
    },
    "cell_id": "00060-e5e7c803-5cb6-42e0-b38f-c1f70ce9239f",
    "deepnote_cell_type": "markdown"
   }
  },
  {
   "cell_type": "markdown",
   "source": "### Elsőrendű logika\n#### 1.  Predikátumok\n\n- paraméter(eke)t tartalmazó kifejezések\n- igazságértékük a bennük szereplő paraméter(ek)től függ",
   "metadata": {
    "slideshow": {
     "slide_type": "slide"
    },
    "cell_id": "00061-23696391-9b9f-4676-97d3-6acfde1c24d6",
    "deepnote_cell_type": "markdown"
   }
  },
  {
   "cell_type": "markdown",
   "source": "#### 2.  Kvantorok\n\n- $\\forall$: \"mindegyik\"\n- $\\exists$: \"létezik\"",
   "metadata": {
    "slideshow": {
     "slide_type": "fragment"
    },
    "cell_id": "00062-1478a2e3-56dd-4810-b91a-e2fd48de7bea",
    "deepnote_cell_type": "markdown"
   }
  },
  {
   "cell_type": "markdown",
   "source": "### Predikátumok\n#### 1. egyváltozós\n\n- $P$: \"páros szám\"\n- $P(x)$ akkor (és csak akkor) igaz, ha $x$ páros",
   "metadata": {
    "slideshow": {
     "slide_type": "slide"
    },
    "cell_id": "00063-5eb103b2-e885-401d-8285-fc7ee2bba8be",
    "deepnote_cell_type": "markdown"
   }
  },
  {
   "cell_type": "markdown",
   "source": "#### 2. többváltozós\n\n- $NE$: \"nagyobb egyenlő\"\n- $NE(x,y)$ akkor (és csak akkor) igaz, ha $x \\geq y$",
   "metadata": {
    "slideshow": {
     "slide_type": "fragment"
    },
    "cell_id": "00064-cf293752-5c1d-48f7-b9b0-bd89d96322ad",
    "deepnote_cell_type": "markdown"
   }
  },
  {
   "cell_type": "markdown",
   "source": "#### 3. formulában\n\n- $NE(x,y) \\land P(y)$\n- $NE(x,y) \\Rightarrow NE(y,x)$",
   "metadata": {
    "slideshow": {
     "slide_type": "fragment"
    },
    "cell_id": "00065-dfaa9ba2-3418-4fca-b994-aff2f04182ce",
    "deepnote_cell_type": "markdown"
   }
  },
  {
   "cell_type": "markdown",
   "source": "### Kvantorok\n\n- $\\forall$: \"mindegyik\"\n- $\\exists$: \"létezik\"",
   "metadata": {
    "slideshow": {
     "slide_type": "slide"
    },
    "cell_id": "00066-6f723c49-8582-4852-9748-79bad0b13230",
    "deepnote_cell_type": "markdown"
   }
  },
  {
   "cell_type": "markdown",
   "source": "Formulában:\n\n#### 1.  $\\forall x (P(x))$: bármely $x$-re a $P(x)$ kifejezés igazságértéke IGAZ\n\n#### 2.  $\\exists x (P(x))$: létezik legalább egy $x$, melyre a $P(x)$ kifejezés igazságértéke IGAZ",
   "metadata": {
    "slideshow": {
     "slide_type": "fragment"
    },
    "cell_id": "00067-1ca74695-ac96-4502-9a57-a9b6d0d38c03",
    "deepnote_cell_type": "markdown"
   }
  },
  {
   "cell_type": "markdown",
   "source": "#### 3.  $\\forall x ( P(2x) )$",
   "metadata": {
    "slideshow": {
     "slide_type": "fragment"
    },
    "cell_id": "00068-b8efe128-553f-494a-b0a5-bb4b3d87d3eb",
    "deepnote_cell_type": "markdown"
   }
  },
  {
   "cell_type": "markdown",
   "source": "#### 4.  $\\forall x ( \\exists y (NE(x,y)))$",
   "metadata": {
    "slideshow": {
     "slide_type": "fragment"
    },
    "cell_id": "00069-2068b94d-08fa-4f2d-9f1d-acf537da03a3",
    "deepnote_cell_type": "markdown"
   }
  },
  {
   "cell_type": "markdown",
   "source": "#### 5.  $\\nexists x (\\neg NE(x,x))$",
   "metadata": {
    "slideshow": {
     "slide_type": "fragment"
    },
    "cell_id": "00070-5ebe61b1-7961-4c51-a3d9-9e7a0983b8e8",
    "deepnote_cell_type": "markdown"
   }
  },
  {
   "cell_type": "markdown",
   "source": "### Kötött paraméter\nHa egy kijelentésben egy paraméter minden előfordulása valamilyen kvantor hatáskörében van, akkor azt mondjuk, hogy a paraméter **kötött**, különben **szabad**.\n\n### Zárt formula\nAz a formula, aminek nincs szabad paramétere, **zárt formula**. Máskülönben **nyitott formula**.",
   "metadata": {
    "slideshow": {
     "slide_type": "slide"
    },
    "cell_id": "00071-70282dce-a4f7-4e76-9cb5-6458a8ad5129",
    "deepnote_cell_type": "markdown"
   }
  },
  {
   "cell_type": "markdown",
   "source": "### Predikátumok:\n$F(x)$: $x$ férfi, $N(x)$: $x$ nő, $V(x,y)$: $x$ vonzónak tartja $y$-t\n\n### Kifejezni predikátumokkal\n#### 1.  $d$-nek minden nő tetszik",
   "metadata": {
    "slideshow": {
     "slide_type": "slide"
    },
    "cell_id": "00072-802e6d38-3414-44f7-ae99-97f1f8f0cc20",
    "deepnote_cell_type": "markdown"
   }
  },
  {
   "cell_type": "markdown",
   "source": "#### 2.  $k$ egy biszexuális nő",
   "metadata": {
    "slideshow": {
     "slide_type": "fragment"
    },
    "cell_id": "00073-6b2b337f-c37c-4ff9-86a1-3707d4b59ae8",
    "deepnote_cell_type": "markdown"
   }
  },
  {
   "cell_type": "markdown",
   "source": "#### 3.  léteznek aszexuális emberek",
   "metadata": {
    "slideshow": {
     "slide_type": "fragment"
    },
    "cell_id": "00074-47d940ac-3d29-4294-80cb-8ffc3ebd2914",
    "deepnote_cell_type": "markdown"
   }
  },
  {
   "cell_type": "markdown",
   "source": "#### 4.  mindenki biszexuális",
   "metadata": {
    "slideshow": {
     "slide_type": "fragment"
    },
    "cell_id": "00075-a97e98a7-f917-4a7d-b393-1a092b98a5d8",
    "deepnote_cell_type": "markdown"
   }
  },
  {
   "cell_type": "markdown",
   "source": "#### 5.  csak a férfiak között vannak melegek",
   "metadata": {
    "slideshow": {
     "slide_type": "fragment"
    },
    "cell_id": "00076-c296692b-66e5-4ecb-a13d-a273d1bc0206",
    "deepnote_cell_type": "markdown"
   }
  },
  {
   "cell_type": "markdown",
   "source": "<a style='text-decoration:none;line-height:16px;display:flex;color:#5B5B62;padding:10px;justify-content:end;' href='https://deepnote.com?utm_source=created-in-deepnote-cell&projectId=978e47b7-a961-4dca-a945-499e8b781a34' target=\"_blank\">\n<img alt='Created in deepnote.com' style='display:inline;max-height:16px;margin:0px;margin-right:7.5px;' src='data:image/svg+xml;base64,PD94bWwgdmVyc2lvbj0iMS4wIiBlbmNvZGluZz0iVVRGLTgiPz4KPHN2ZyB3aWR0aD0iODBweCIgaGVpZ2h0PSI4MHB4IiB2aWV3Qm94PSIwIDAgODAgODAiIHZlcnNpb249IjEuMSIgeG1sbnM9Imh0dHA6Ly93d3cudzMub3JnLzIwMDAvc3ZnIiB4bWxuczp4bGluaz0iaHR0cDovL3d3dy53My5vcmcvMTk5OS94bGluayI+CiAgICA8IS0tIEdlbmVyYXRvcjogU2tldGNoIDU0LjEgKDc2NDkwKSAtIGh0dHBzOi8vc2tldGNoYXBwLmNvbSAtLT4KICAgIDx0aXRsZT5Hcm91cCAzPC90aXRsZT4KICAgIDxkZXNjPkNyZWF0ZWQgd2l0aCBTa2V0Y2guPC9kZXNjPgogICAgPGcgaWQ9IkxhbmRpbmciIHN0cm9rZT0ibm9uZSIgc3Ryb2tlLXdpZHRoPSIxIiBmaWxsPSJub25lIiBmaWxsLXJ1bGU9ImV2ZW5vZGQiPgogICAgICAgIDxnIGlkPSJBcnRib2FyZCIgdHJhbnNmb3JtPSJ0cmFuc2xhdGUoLTEyMzUuMDAwMDAwLCAtNzkuMDAwMDAwKSI+CiAgICAgICAgICAgIDxnIGlkPSJHcm91cC0zIiB0cmFuc2Zvcm09InRyYW5zbGF0ZSgxMjM1LjAwMDAwMCwgNzkuMDAwMDAwKSI+CiAgICAgICAgICAgICAgICA8cG9seWdvbiBpZD0iUGF0aC0yMCIgZmlsbD0iIzAyNjVCNCIgcG9pbnRzPSIyLjM3NjIzNzYyIDgwIDM4LjA0NzY2NjcgODAgNTcuODIxNzgyMiA3My44MDU3NTkyIDU3LjgyMTc4MjIgMzIuNzU5MjczOSAzOS4xNDAyMjc4IDMxLjY4MzE2ODMiPjwvcG9seWdvbj4KICAgICAgICAgICAgICAgIDxwYXRoIGQ9Ik0zNS4wMDc3MTgsODAgQzQyLjkwNjIwMDcsNzYuNDU0OTM1OCA0Ny41NjQ5MTY3LDcxLjU0MjI2NzEgNDguOTgzODY2LDY1LjI2MTk5MzkgQzUxLjExMjI4OTksNTUuODQxNTg0MiA0MS42NzcxNzk1LDQ5LjIxMjIyODQgMjUuNjIzOTg0Niw0OS4yMTIyMjg0IEMyNS40ODQ5Mjg5LDQ5LjEyNjg0NDggMjkuODI2MTI5Niw0My4yODM4MjQ4IDM4LjY0NzU4NjksMzEuNjgzMTY4MyBMNzIuODcxMjg3MSwzMi41NTQ0MjUgTDY1LjI4MDk3Myw2Ny42NzYzNDIxIEw1MS4xMTIyODk5LDc3LjM3NjE0NCBMMzUuMDA3NzE4LDgwIFoiIGlkPSJQYXRoLTIyIiBmaWxsPSIjMDAyODY4Ij48L3BhdGg+CiAgICAgICAgICAgICAgICA8cGF0aCBkPSJNMCwzNy43MzA0NDA1IEwyNy4xMTQ1MzcsMC4yNTcxMTE0MzYgQzYyLjM3MTUxMjMsLTEuOTkwNzE3MDEgODAsMTAuNTAwMzkyNyA4MCwzNy43MzA0NDA1IEM4MCw2NC45NjA0ODgyIDY0Ljc3NjUwMzgsNzkuMDUwMzQxNCAzNC4zMjk1MTEzLDgwIEM0Ny4wNTUzNDg5LDc3LjU2NzA4MDggNTMuNDE4MjY3Nyw3MC4zMTM2MTAzIDUzLjQxODI2NzcsNTguMjM5NTg4NSBDNTMuNDE4MjY3Nyw0MC4xMjg1NTU3IDM2LjMwMzk1NDQsMzcuNzMwNDQwNSAyNS4yMjc0MTcsMzcuNzMwNDQwNSBDMTcuODQzMDU4NiwzNy43MzA0NDA1IDkuNDMzOTE5NjYsMzcuNzMwNDQwNSAwLDM3LjczMDQ0MDUgWiIgaWQ9IlBhdGgtMTkiIGZpbGw9IiMzNzkzRUYiPjwvcGF0aD4KICAgICAgICAgICAgPC9nPgogICAgICAgIDwvZz4KICAgIDwvZz4KPC9zdmc+' > </img>\nCreated in <span style='font-weight:600;margin-left:4px;'>Deepnote</span></a>",
   "metadata": {
    "tags": [],
    "created_in_deepnote_cell": true,
    "deepnote_cell_type": "markdown"
   }
  }
 ],
 "nbformat": 4,
 "nbformat_minor": 4,
 "metadata": {
  "celltoolbar": "Slideshow",
  "kernelspec": {
   "display_name": "Python 3",
   "language": "python",
   "name": "python3"
  },
  "language_info": {
   "codemirror_mode": {
    "name": "ipython",
    "version": 3
   },
   "file_extension": ".py",
   "mimetype": "text/x-python",
   "name": "python",
   "nbconvert_exporter": "python",
   "pygments_lexer": "ipython3",
   "version": "3.8.10"
  },
  "deepnote_notebook_id": "559abf3e-672c-4dbe-801a-0714956246e2",
  "deepnote": {},
  "deepnote_execution_queue": []
 }
}