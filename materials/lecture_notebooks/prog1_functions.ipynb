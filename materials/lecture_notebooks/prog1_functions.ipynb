{
 "cells": [
  {
   "cell_type": "markdown",
   "source": "### Függvény tulajdonságai\n- lehet őt\n",
   "metadata": {
    "slideshow": {
     "slide_type": "slide"
    },
    "cell_id": "00000-5594ee2e-7571-4c12-a1aa-408c53b6d4ed",
    "deepnote_cell_type": "markdown"
   }
  },
  {
   "cell_type": "markdown",
   "source": "- definiálni\n",
   "metadata": {
    "slideshow": {
     "slide_type": "fragment"
    },
    "cell_id": "00001-b1fee699-3bfa-456d-9fd9-df264b96f36a",
    "deepnote_cell_type": "markdown"
   }
  },
  {
   "cell_type": "markdown",
   "source": "- meghívni\n",
   "metadata": {
    "slideshow": {
     "slide_type": "fragment"
    },
    "cell_id": "00002-b2992cc0-4404-4596-897f-3cdef4f4477a",
    "deepnote_cell_type": "markdown"
   }
  },
  {
   "cell_type": "markdown",
   "source": "- van(nak)/lehet(nek) neki\n",
   "metadata": {
    "slideshow": {
     "slide_type": "fragment"
    },
    "cell_id": "00003-85bfc15c-f167-4727-8aee-4eb3bba65fc0",
    "deepnote_cell_type": "markdown"
   }
  },
  {
   "cell_type": "markdown",
   "source": "- neve\n",
   "metadata": {
    "slideshow": {
     "slide_type": "fragment"
    },
    "cell_id": "00004-4cd80eba-495f-46e9-ac65-7ea71a84f16b",
    "deepnote_cell_type": "markdown"
   }
  },
  {
   "cell_type": "markdown",
   "source": "- paraméterei\n",
   "metadata": {
    "slideshow": {
     "slide_type": "fragment"
    },
    "cell_id": "00005-6f61d3fb-9eeb-44e3-aafb-d009a0c7f6eb",
    "deepnote_cell_type": "markdown"
   }
  },
  {
   "cell_type": "markdown",
   "source": "- visszatérési értéke (főhatása)\n",
   "metadata": {
    "slideshow": {
     "slide_type": "fragment"
    },
    "cell_id": "00006-60c5fe8d-a298-4f3f-a3a6-037a7409f9aa",
    "deepnote_cell_type": "markdown"
   }
  },
  {
   "cell_type": "markdown",
   "source": "- mellékhatása\n",
   "metadata": {
    "slideshow": {
     "slide_type": "fragment"
    },
    "cell_id": "00007-4e20eb6b-ddf4-497a-b5ed-fab262f7bd48",
    "deepnote_cell_type": "markdown"
   }
  },
  {
   "cell_type": "markdown",
   "source": "- lokális változói\n",
   "metadata": {
    "slideshow": {
     "slide_type": "fragment"
    },
    "cell_id": "00008-f155f382-33ec-498a-981e-b352f2d616b6",
    "deepnote_cell_type": "markdown"
   }
  },
  {
   "cell_type": "markdown",
   "source": "- ha meghívjuk lokális kerete",
   "metadata": {
    "slideshow": {
     "slide_type": "fragment"
    },
    "cell_id": "00009-478d7a04-a47e-49cf-bb13-6850a594163c",
    "deepnote_cell_type": "markdown"
   }
  },
  {
   "cell_type": "markdown",
   "source": "### Függvény Definíció (utasítás)\n#### 1. megadjuk a lehetséges paramétereket\n",
   "metadata": {
    "slideshow": {
     "slide_type": "slide"
    },
    "cell_id": "00010-633c19d3-d529-461f-9f7b-91a66265673d",
    "deepnote_cell_type": "markdown"
   }
  },
  {
   "cell_type": "markdown",
   "source": "- tetszőleges számú lehet (akár 0 is)\n",
   "metadata": {
    "slideshow": {
     "slide_type": "fragment"
    },
    "cell_id": "00011-ffeb2689-eb3f-4de5-bdd0-a02f087994d8",
    "deepnote_cell_type": "markdown"
   }
  },
  {
   "cell_type": "markdown",
   "source": "- típus számít (valahol előre meg kell adni)\n",
   "metadata": {
    "slideshow": {
     "slide_type": "fragment"
    },
    "cell_id": "00012-5df3889f-c066-4307-8d5f-f50a85c32165",
    "deepnote_cell_type": "markdown"
   }
  },
  {
   "cell_type": "markdown",
   "source": "- sorrend számít (kikerülhető)\n",
   "metadata": {
    "slideshow": {
     "slide_type": "fragment"
    },
    "cell_id": "00013-65944a7e-d204-4434-bdf7-4c88c99eb54e",
    "deepnote_cell_type": "markdown"
   }
  },
  {
   "cell_type": "markdown",
   "source": "#### 2. utasítássok sorozata\n",
   "metadata": {
    "slideshow": {
     "slide_type": "fragment"
    },
    "cell_id": "00014-863ebe5f-6f27-4516-a01d-4e2a8c3c7b95",
    "deepnote_cell_type": "markdown"
   }
  },
  {
   "cell_type": "markdown",
   "source": "#### 3. megadjuk a visszatérési (return) értéket",
   "metadata": {
    "slideshow": {
     "slide_type": "fragment"
    },
    "cell_id": "00015-cd5a6a51-6893-457e-964c-6492a42e91a7",
    "deepnote_cell_type": "markdown"
   }
  },
  {
   "cell_type": "markdown",
   "source": "### Függvény Meghívása (utasítás)\n#### 1. A függvény paraméterként kapott kifejezéseket kiértékeli\n",
   "metadata": {
    "slideshow": {
     "slide_type": "slide"
    },
    "cell_id": "00016-887b11f3-fc18-4c15-8437-0a431901599e",
    "deepnote_cell_type": "markdown"
   }
  },
  {
   "cell_type": "markdown",
   "source": "- A paramétereknek ez a **kezdőértéke**\n",
   "metadata": {
    "slideshow": {
     "slide_type": "fragment"
    },
    "cell_id": "00017-1d8f838d-5d90-4b21-b373-18455c829595",
    "deepnote_cell_type": "markdown"
   }
  },
  {
   "cell_type": "markdown",
   "source": "#### 2. Nyit egy lokális keretet a függvénynek\n",
   "metadata": {
    "slideshow": {
     "slide_type": "fragment"
    },
    "cell_id": "00018-91b26654-f226-43f0-bf07-43b009695f68",
    "deepnote_cell_type": "markdown"
   }
  },
  {
   "cell_type": "markdown",
   "source": "#### 3. A lokális keretben végrehajtja a függvényben definiált utasítássorozatot\n",
   "metadata": {
    "slideshow": {
     "slide_type": "fragment"
    },
    "cell_id": "00019-dd9da025-1c52-46d1-b8b3-eecb3a7d7019",
    "deepnote_cell_type": "markdown"
   }
  },
  {
   "cell_type": "markdown",
   "source": "- lehet hatása a **globális** keretre pl **globális változó**kon és **referenciák**on keresztük\n",
   "metadata": {
    "slideshow": {
     "slide_type": "fragment"
    },
    "cell_id": "00020-395646e7-d66e-46a3-b28c-3fcc6ad0c149",
    "deepnote_cell_type": "markdown"
   }
  },
  {
   "cell_type": "markdown",
   "source": "#### 4. A return utasítással átadja a visszatérési értéket a meghívás helyének és törli a lokális keretet\n",
   "metadata": {
    "slideshow": {
     "slide_type": "fragment"
    },
    "cell_id": "00021-73c0bea3-0292-4f84-9356-261744e3bec6",
    "deepnote_cell_type": "markdown"
   }
  },
  {
   "cell_type": "markdown",
   "source": "- A függvény meghívása egy utasítás, de a függvény maga kezelhető kifejezésként.\n",
   "metadata": {
    "slideshow": {
     "slide_type": "fragment"
    },
    "cell_id": "00022-68908a0d-3b1d-4835-b767-1901ab6dcdf7",
    "deepnote_cell_type": "markdown"
   }
  },
  {
   "cell_type": "markdown",
   "source": "- Egy kifejezés kiértékeléséhez, lehet hogy végre kell hajtanunk egy utasítást ami meghív egy függvényt",
   "metadata": {
    "slideshow": {
     "slide_type": "fragment"
    },
    "cell_id": "00023-31293743-e00f-432a-9747-aa4aac1efd9c",
    "deepnote_cell_type": "markdown"
   }
  },
  {
   "cell_type": "markdown",
   "source": "### Lokális változó\nA **globális változó**kkal szemben, amit a program globális keretében szerepelnek, elérhetőek és módosíthatóak, a függvényekhez tartoznak lokális változók:\n",
   "metadata": {
    "slideshow": {
     "slide_type": "slide"
    },
    "cell_id": "00024-218c7f02-56bb-4498-a8cc-14cda267b4b7",
    "deepnote_cell_type": "markdown"
   }
  },
  {
   "cell_type": "markdown",
   "source": "- a függvény paraméterei (bemeneti változói helytelen nyelvtannal)\n",
   "metadata": {
    "slideshow": {
     "slide_type": "fragment"
    },
    "cell_id": "00025-37a3fdd2-05ee-4f7e-834a-0908a2807f38",
    "deepnote_cell_type": "markdown"
   }
  },
  {
   "cell_type": "markdown",
   "source": "- a függvényben deklarált változók\n",
   "metadata": {
    "slideshow": {
     "slide_type": "fragment"
    },
    "cell_id": "00026-41e24e76-06b1-400c-828b-1e4c2e7857de",
    "deepnote_cell_type": "markdown"
   }
  },
  {
   "cell_type": "markdown",
   "source": "- csak a függvény látja és éri el őket, a függvényt hívó program nem\n",
   "metadata": {
    "slideshow": {
     "slide_type": "fragment"
    },
    "cell_id": "00027-543b3f64-2e0a-4a3e-a5e9-e75edb17a9be",
    "deepnote_cell_type": "markdown"
   }
  },
  {
   "cell_type": "markdown",
   "source": "- a függvény lokális keretének részei, amit a függvény meghívásakor végrehajtott utasítások módosítanak\n",
   "metadata": {
    "slideshow": {
     "slide_type": "fragment"
    },
    "cell_id": "00028-e531d4fb-ab18-4ae6-a7a1-e4ae6bd5d2d0",
    "deepnote_cell_type": "markdown"
   }
  },
  {
   "cell_type": "markdown",
   "source": "- globális/lokális változók elválasztásának szigorúsága függ programnyelvtől",
   "metadata": {
    "slideshow": {
     "slide_type": "fragment"
    },
    "cell_id": "00029-5df7e5df-e025-4fb4-8690-3716bca1843f",
    "deepnote_cell_type": "markdown"
   }
  },
  {
   "cell_type": "markdown",
   "source": "### Főhatás\nA visszatérési érték kiszámolása és visszaadása",
   "metadata": {
    "slideshow": {
     "slide_type": "slide"
    },
    "cell_id": "00030-97ac2ed9-bbbe-483b-8f3f-ec008f6aad7d",
    "deepnote_cell_type": "markdown"
   }
  },
  {
   "cell_type": "markdown",
   "source": "### Mellékhatás\nminden a függvény lokális keretén túlmutató dolog amit a függvény csinál a visszatérési érték kiszámolásán kívül (módosít globális változón, kiír valamit a képernyőre, elment valami fájlt...)",
   "metadata": {
    "slideshow": {
     "slide_type": "slide"
    },
    "cell_id": "00031-8ad438c5-c29b-4676-bffc-cb0cb7287d6e",
    "deepnote_cell_type": "markdown"
   }
  },
  {
   "cell_type": "markdown",
   "source": "### Függvény példák - python\n#### [python](http://pythontutor.com/iframe-embed.html#code=def%20fun1%28a,b%29%3A%0A%20%20%20%20c%20%3D%20a%20%2B%20%22%20fing%20%22%0A%20%20%20%20return%20c%20*%20b%0A%0Adef%20fun2%28n%29%3A%0A%20%20%20%20a%20%3D%20-2%20*%20n%0A%20%20%20%20b%20%3D%20a%20**%202%0A%20%20%20%20a%20%3D%20a%20-%208%0A%20%20%20%20h%20%3D%20a%20%2B%20b%0A%20%20%20%20return%20h%0A%0Adef%20fun3%28a,b,c%29%3A%0A%20%20%20%20x%20%3D%20a%20%2B%20b%0A%20%20%20%20return%20c/x%20%2B%202*x/c%0A%0Av%20%3D%20fun2%282%29%0Aw%20%3D%20fun1%28%22bla%22,v%29%0Aa%20%3D%20fun3%2811%2B2,5/4,3%29%0Ab%20%3D%20fun1%28%22boo%22,fun2%282%29%20-%202%29&codeDivHeight=400&codeDivWidth=350&cumulative=false&curInstr=0&heapPrimitives=nevernest&origin=opt-frontend.js&py=3&rawInputLstJSON=%5B%5D&textReferences=false)",
   "metadata": {
    "slideshow": {
     "slide_type": "subslide"
    },
    "cell_id": "00032-09f07829-6a73-4de8-9aec-872ef9711afc",
    "deepnote_cell_type": "markdown"
   }
  },
  {
   "cell_type": "markdown",
   "source": "### Függvény példák - JavaScript\n#### [JavaScript](http://pythontutor.com/iframe-embed.html#code=function%20fun1%28a,b%29%7B%0A%20%20%20%20var%20c%20%3D%20a%20%2B%20%22%20fing%20%22%0A%20%20%20%20return%20c.repeat%28b%29%0A%7D%0A%0Afunction%20fun2%28n%29%7B%0A%20%20%20%20var%20a%20%3D%20-2%20*%20n%0A%20%20%20%20var%20b%20%3D%20Math.pow%28a,2%29%0A%20%20%20%20a%20%3D%20a%20-%208%0A%20%20%20%20var%20h%20%3D%20a%20%2B%20b%0A%20%20%20%20return%20h%0A%7D%0A%0Afunction%20fun3%28a,b,c%29%7B%0A%20%20%20%20var%20x%20%3D%20a%20%2B%20b%0A%20%20%20%20return%20c/x%20%2B%202*x/c%0A%7D%0A%0Avar%20v%20%3D%20fun2%282%29%0Avar%20w%20%3D%20fun1%28%22bla%22,v%29%0Avar%20a%20%3D%20fun3%2811%2B2,5/4,3%29%0Avar%20b%20%3D%20fun1%28%22boo%22,fun2%282%29%20-%202%29&codeDivHeight=400&codeDivWidth=350&curInstr=0&origin=opt-frontend.js&py=js&rawInputLstJSON=%5B%5D)",
   "metadata": {
    "slideshow": {
     "slide_type": "subslide"
    },
    "cell_id": "00033-73093c80-abd8-4aed-af26-236bc1c08949",
    "deepnote_cell_type": "markdown"
   }
  },
  {
   "cell_type": "markdown",
   "source": "### Függvény példák - C++\n#### [C++](http://pythontutor.com/iframe-embed.html#code=%23include%20%3Cstring%3E%0A%23include%20%3Ccmath%3E%0A%23include%20%3Ciostream%3E%0A%0Ausing%20namespace%20std%3B%0A%0Astring%20operator*%28string%20s,%20int%20n%29%20%7B%0A%20%20%20%20string%20out%3B%0A%20%20%20%20while%20%28n%20%3E%200%29%7B%0A%20%20%20%20%20%20%20%20out%20%3D%20out%20%2B%20s%3B%0A%20%20%20%20%20%20%20%20n%20%3D%20n-1%3B%0A%20%20%20%20%7D%0A%20%20%20%20return%20out%3B%0A%7D%0A%0A%0Astring%20fun1%28string%20a,int%20b%29%7B%0A%20%20%20%20string%20c%20%3D%20a%20%2B%20%22%20fing%20%22%3B%0A%20%20%20%20return%20c%20*%20b%3B%0A%7D%0A%0Aint%20fun2%28int%20n%29%7B%0A%20%20%20%20int%20a%20%3D%20-2%20*%20n%3B%0A%20%20%20%20int%20b%20%3D%20pow%28a,2%29%3B%0A%20%20%20%20a%20%3D%20a%20-%208%3B%0A%20%20%20%20int%20h%20%3D%20a%20%2B%20b%3B%0A%20%20%20%20return%20h%3B%0A%7D%0A%0Afloat%20fun3%28float%20a,%20float%20b,float%20c%29%7B%0A%20%20%20%20float%20x%20%3D%20a%20%2B%20b%3B%0A%20%20%20%20return%20c/x%20%2B%202*x/c%3B%0A%7D%0A%0A%0Aint%20main%28%29%20%7B%0A%0A%20%20int%20v%20%3D%20fun2%282%29%3B%0A%20%20string%20w%20%3D%20fun1%28%22bla%22,v%29%3B%0A%20%20float%20a%20%3D%20fun3%2811%2B2,5/4,3%29%3B%0A%20%20string%20b%20%3D%20fun1%28%22boo%22,fun2%282%29%20-%202%29%3B%0A%0A%20%20cout%20%3C%3C%20w%20%3C%3C%20endl%3B%0A%20%20cout%20%3C%3C%20b%3B%0A%0A%20%20return%200%3B%0A%7D&codeDivHeight=400&codeDivWidth=350&cumulative=false&curInstr=0&heapPrimitives=nevernest&origin=opt-frontend.js&py=cpp&rawInputLstJSON=%5B%5D&textReferences=false)",
   "metadata": {
    "slideshow": {
     "slide_type": "subslide"
    },
    "cell_id": "00034-df149fe9-2337-42df-b2ec-ad552075e281",
    "deepnote_cell_type": "markdown"
   }
  },
  {
   "cell_type": "markdown",
   "source": "### Nyelvek összehasonlítása\nmilyen gyorsak egymáshoz képest?\n",
   "metadata": {
    "slideshow": {
     "slide_type": "slide"
    },
    "cell_id": "00035-d3146fae-0bf1-4bfa-9abc-9676bb40c1cf",
    "deepnote_cell_type": "markdown"
   }
  },
  {
   "cell_type": "markdown",
   "source": "- python\n",
   "metadata": {
    "slideshow": {
     "slide_type": "fragment"
    },
    "cell_id": "00036-8fbb1494-6d11-4341-a8a5-4105678118d5",
    "deepnote_cell_type": "markdown"
   }
  },
  {
   "cell_type": "markdown",
   "source": "- php\n",
   "metadata": {
    "slideshow": {
     "slide_type": "fragment"
    },
    "cell_id": "00037-c1927772-9f65-498c-85df-e25792a5a860",
    "deepnote_cell_type": "markdown"
   }
  },
  {
   "cell_type": "markdown",
   "source": "- c++\n",
   "metadata": {
    "slideshow": {
     "slide_type": "fragment"
    },
    "cell_id": "00038-05497f28-e2fe-451a-95e4-89286b67ea11",
    "deepnote_cell_type": "markdown"
   }
  },
  {
   "cell_type": "markdown",
   "source": "- java\n",
   "metadata": {
    "slideshow": {
     "slide_type": "fragment"
    },
    "cell_id": "00039-a868324b-bb27-4651-b43c-924da004b57e",
    "deepnote_cell_type": "markdown"
   }
  },
  {
   "cell_type": "markdown",
   "source": "[github repo](https://github.com/endremborza/fibonacci_language_comparison)",
   "metadata": {
    "slideshow": {
     "slide_type": "fragment"
    },
    "cell_id": "00040-1e503837-3ce6-44c7-aaea-2534d236e683",
    "deepnote_cell_type": "markdown"
   }
  },
  {
   "cell_type": "markdown",
   "source": "<a style='text-decoration:none;line-height:16px;display:flex;color:#5B5B62;padding:10px;justify-content:end;' href='https://deepnote.com?utm_source=created-in-deepnote-cell&projectId=978e47b7-a961-4dca-a945-499e8b781a34' target=\"_blank\">\n<img alt='Created in deepnote.com' style='display:inline;max-height:16px;margin:0px;margin-right:7.5px;' src='data:image/svg+xml;base64,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' > </img>\nCreated in <span style='font-weight:600;margin-left:4px;'>Deepnote</span></a>",
   "metadata": {
    "tags": [],
    "created_in_deepnote_cell": true,
    "deepnote_cell_type": "markdown"
   }
  }
 ],
 "nbformat": 4,
 "nbformat_minor": 4,
 "metadata": {
  "celltoolbar": "Slideshow",
  "kernelspec": {
   "display_name": "Python 3",
   "language": "python",
   "name": "python3"
  },
  "language_info": {
   "codemirror_mode": {
    "name": "ipython",
    "version": 3
   },
   "file_extension": ".py",
   "mimetype": "text/x-python",
   "name": "python",
   "nbconvert_exporter": "python",
   "pygments_lexer": "ipython3",
   "version": "3.8.10"
  },
  "deepnote_notebook_id": "a0bf0b9d-5a1b-45ad-be8b-93103adc6c34",
  "deepnote": {},
  "deepnote_execution_queue": []
 }
}