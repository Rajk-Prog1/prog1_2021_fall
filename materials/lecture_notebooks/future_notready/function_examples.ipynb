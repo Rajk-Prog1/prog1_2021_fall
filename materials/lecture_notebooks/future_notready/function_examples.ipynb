{
 "cells": [
  {
   "cell_type": "markdown",
   "id": "3d83e29c",
   "metadata": {},
   "source": [
    "#### paraméter nélkül"
   ]
  },
  {
   "cell_type": "code",
   "execution_count": 1,
   "id": "bdf7bd9d",
   "metadata": {},
   "outputs": [],
   "source": [
    "def greeting():\n",
    "    \n",
    "    return \"hello\""
   ]
  },
  {
   "cell_type": "markdown",
   "id": "45b23578",
   "metadata": {},
   "source": [
    "---"
   ]
  },
  {
   "cell_type": "markdown",
   "id": "d9f5edbe",
   "metadata": {},
   "source": [
    "#### paraméterekkel"
   ]
  },
  {
   "cell_type": "code",
   "execution_count": 2,
   "id": "39bd78ab",
   "metadata": {},
   "outputs": [],
   "source": [
    "def divide(x, y):\n",
    "\n",
    "    return x / y"
   ]
  },
  {
   "cell_type": "markdown",
   "id": "a17d83d6",
   "metadata": {},
   "source": [
    "---"
   ]
  },
  {
   "cell_type": "markdown",
   "id": "6fbd0a76",
   "metadata": {},
   "source": [
    "#### opcionális paraméterekkel"
   ]
  },
  {
   "cell_type": "code",
   "execution_count": 4,
   "id": "69da2d03",
   "metadata": {},
   "outputs": [],
   "source": [
    "def divide_with_default(x=1, y=1):\n",
    "\n",
    "    return x / y"
   ]
  },
  {
   "cell_type": "markdown",
   "id": "bfd8c1bb",
   "metadata": {},
   "source": [
    "---"
   ]
  },
  {
   "cell_type": "markdown",
   "id": "e6487cd6",
   "metadata": {},
   "source": [
    "#### típus meghatározásokkal"
   ]
  },
  {
   "cell_type": "code",
   "execution_count": 10,
   "id": "2f4e3ddd",
   "metadata": {},
   "outputs": [],
   "source": [
    "def divide_with_types(x: float, y: float) -> float:\n",
    "    \n",
    "    return x / y"
   ]
  },
  {
   "cell_type": "markdown",
   "id": "ee81d274",
   "metadata": {},
   "source": [
    "---"
   ]
  },
  {
   "cell_type": "markdown",
   "id": "7dc8c821",
   "metadata": {},
   "source": [
    "#### több utasítással"
   ]
  },
  {
   "cell_type": "code",
   "execution_count": 13,
   "id": "b9ee0bff",
   "metadata": {},
   "outputs": [],
   "source": [
    "def square_sum(x, y):\n",
    "    \n",
    "    x_square = x ** 2\n",
    "    y_square = y ** 2\n",
    "    \n",
    "    return x_square + y_square"
   ]
  },
  {
   "cell_type": "markdown",
   "id": "56c7313f",
   "metadata": {},
   "source": [
    "---"
   ]
  },
  {
   "cell_type": "markdown",
   "id": "921e91c8",
   "metadata": {},
   "source": [
    "#### főhatás nélkül"
   ]
  },
  {
   "cell_type": "code",
   "execution_count": 20,
   "id": "49600b8a",
   "metadata": {},
   "outputs": [],
   "source": [
    "def no_return(x, y):\n",
    "    \n",
    "    z = (x + y) / 2"
   ]
  },
  {
   "cell_type": "code",
   "execution_count": 22,
   "id": "febec232",
   "metadata": {},
   "outputs": [],
   "source": [
    "no_return(2, 3)"
   ]
  },
  {
   "cell_type": "code",
   "execution_count": 23,
   "id": "f1c89958",
   "metadata": {},
   "outputs": [
    {
     "ename": "NameError",
     "evalue": "name 'z' is not defined",
     "output_type": "error",
     "traceback": [
      "\u001b[0;31m---------------------------------------------------------------------------\u001b[0m",
      "\u001b[0;31mNameError\u001b[0m                                 Traceback (most recent call last)",
      "\u001b[0;32m/var/folders/xh/lxcftm7d4sb60dd9bpm0z0m80000gn/T/ipykernel_56814/1705769632.py\u001b[0m in \u001b[0;36m<module>\u001b[0;34m\u001b[0m\n\u001b[0;32m----> 1\u001b[0;31m \u001b[0mz\u001b[0m\u001b[0;34m\u001b[0m\u001b[0;34m\u001b[0m\u001b[0m\n\u001b[0m",
      "\u001b[0;31mNameError\u001b[0m: name 'z' is not defined"
     ]
    }
   ],
   "source": [
    "z"
   ]
  },
  {
   "cell_type": "markdown",
   "id": "7ad590e0",
   "metadata": {},
   "source": [
    "#### mellékhatással"
   ]
  },
  {
   "cell_type": "code",
   "execution_count": 14,
   "id": "8bb4f164",
   "metadata": {},
   "outputs": [],
   "source": [
    "a = 0"
   ]
  },
  {
   "cell_type": "code",
   "execution_count": 17,
   "id": "40763ed4",
   "metadata": {},
   "outputs": [],
   "source": [
    "def add_one_to_a():\n",
    "    \n",
    "    global a\n",
    "    \n",
    "    a += 1"
   ]
  },
  {
   "cell_type": "code",
   "execution_count": 18,
   "id": "c444446c",
   "metadata": {},
   "outputs": [],
   "source": [
    "add_one_to_a()"
   ]
  },
  {
   "cell_type": "code",
   "execution_count": 19,
   "id": "9b06460d",
   "metadata": {},
   "outputs": [
    {
     "data": {
      "text/plain": [
       "1"
      ]
     },
     "execution_count": 19,
     "metadata": {},
     "output_type": "execute_result"
    }
   ],
   "source": [
    "a"
   ]
  },
  {
   "cell_type": "markdown",
   "id": "9d787bcd",
   "metadata": {},
   "source": [
    "---"
   ]
  },
  {
   "cell_type": "markdown",
   "id": "cd107af5",
   "metadata": {},
   "source": [
    "#### először kiértékeli a paraméterként kapott kifejezéseket"
   ]
  },
  {
   "cell_type": "code",
   "execution_count": 24,
   "id": "07795d34",
   "metadata": {},
   "outputs": [
    {
     "data": {
      "text/plain": [
       "0.05"
      ]
     },
     "execution_count": 24,
     "metadata": {},
     "output_type": "execute_result"
    }
   ],
   "source": [
    "divide(2 + 3, 4 * 5 ** 2)"
   ]
  },
  {
   "cell_type": "code",
   "execution_count": 25,
   "id": "52b4ba36",
   "metadata": {},
   "outputs": [
    {
     "data": {
      "text/plain": [
       "41"
      ]
     },
     "execution_count": 25,
     "metadata": {},
     "output_type": "execute_result"
    }
   ],
   "source": [
    "square_sum(4, 5)"
   ]
  },
  {
   "cell_type": "code",
   "execution_count": 26,
   "id": "b1278c81",
   "metadata": {},
   "outputs": [
    {
     "ename": "NameError",
     "evalue": "name 'x_square' is not defined",
     "output_type": "error",
     "traceback": [
      "\u001b[0;31m---------------------------------------------------------------------------\u001b[0m",
      "\u001b[0;31mNameError\u001b[0m                                 Traceback (most recent call last)",
      "\u001b[0;32m/var/folders/xh/lxcftm7d4sb60dd9bpm0z0m80000gn/T/ipykernel_56814/3848769913.py\u001b[0m in \u001b[0;36m<module>\u001b[0;34m\u001b[0m\n\u001b[0;32m----> 1\u001b[0;31m \u001b[0mx_square\u001b[0m\u001b[0;34m\u001b[0m\u001b[0;34m\u001b[0m\u001b[0m\n\u001b[0m",
      "\u001b[0;31mNameError\u001b[0m: name 'x_square' is not defined"
     ]
    }
   ],
   "source": [
    "x_square"
   ]
  },
  {
   "cell_type": "markdown",
   "id": "2d36ca59",
   "metadata": {},
   "source": [
    "---"
   ]
  },
  {
   "cell_type": "markdown",
   "id": "88cd185d",
   "metadata": {},
   "source": [
    "#### függvény meghívás kifejezés kiértékeléséhez"
   ]
  },
  {
   "cell_type": "code",
   "execution_count": 27,
   "id": "0ccbd89b",
   "metadata": {},
   "outputs": [
    {
     "data": {
      "text/plain": [
       "False"
      ]
     },
     "execution_count": 27,
     "metadata": {},
     "output_type": "execute_result"
    }
   ],
   "source": [
    "23 > divide(40, 8) * square_sum(6, 9)"
   ]
  },
  {
   "cell_type": "code",
   "execution_count": null,
   "id": "ec527a12",
   "metadata": {},
   "outputs": [],
   "source": []
  }
 ],
 "metadata": {
  "kernelspec": {
   "display_name": "Python 3 (ipykernel)",
   "language": "python",
   "name": "python3"
  },
  "language_info": {
   "codemirror_mode": {
    "name": "ipython",
    "version": 3
   },
   "file_extension": ".py",
   "mimetype": "text/x-python",
   "name": "python",
   "nbconvert_exporter": "python",
   "pygments_lexer": "ipython3",
   "version": "3.9.7"
  }
 },
 "nbformat": 4,
 "nbformat_minor": 5
}
