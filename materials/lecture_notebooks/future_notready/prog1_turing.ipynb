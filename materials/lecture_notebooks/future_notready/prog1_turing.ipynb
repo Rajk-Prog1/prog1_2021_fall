{
 "cells": [
  {
   "cell_type": "markdown",
   "metadata": {
    "cell_id": "00000-138c714c-b7b1-45dd-9b90-cfc7f8e7696f",
    "deepnote_cell_type": "markdown",
    "slideshow": {
     "slide_type": "slide"
    }
   },
   "source": [
    "### Entscheidungsproblem\n",
    "\n",
    "Az 1900-ban David Hilbert által meghirdetett 23 legnagyobb megoldatlan matematikai probléma egyike:"
   ]
  },
  {
   "cell_type": "markdown",
   "metadata": {
    "cell_id": "00001-fc69d266-2cab-46ab-a9b7-1f6f1856f382",
    "deepnote_cell_type": "markdown",
    "slideshow": {
     "slide_type": "fragment"
    }
   },
   "source": [
    "$\\textit{Találjunk olyan általános algoritmust, ami véges lépésben eldönti}$\n",
    "\n",
    "$\\textit{egy tetszőleges logikai állításról, hogy az igaz-e (adott axiómák alapján).}$"
   ]
  },
  {
   "cell_type": "markdown",
   "metadata": {
    "cell_id": "00003-5e6ff1b8-2266-43b4-bce0-aee5ef42bcc9",
    "deepnote_cell_type": "markdown",
    "slideshow": {
     "slide_type": "fragment"
    }
   },
   "source": [
    "$\\Rightarrow$ Ez lényegében az összes matematikai probléma általános megoldása lenne."
   ]
  },
  {
   "cell_type": "markdown",
   "metadata": {
    "cell_id": "00004-b3fe0371-6315-40ac-89e3-a2527dbe2273",
    "deepnote_cell_type": "markdown",
    "slideshow": {
     "slide_type": "subslide"
    }
   },
   "source": [
    "### Entscheidungsproblem\n",
    "\n",
    "$\\textit{De mit jelent pontosan az algoritmus?}$"
   ]
  },
  {
   "cell_type": "markdown",
   "metadata": {
    "cell_id": "00004-b3fe0371-6315-40ac-89e3-a2527dbe2273",
    "deepnote_cell_type": "markdown",
    "slideshow": {
     "slide_type": "fragment"
    }
   },
   "source": [
    "$\\Rightarrow$ Erre a kérdésre válaszolt Alan Turing."
   ]
  },
  {
   "cell_type": "markdown",
   "metadata": {
    "cell_id": "00004-b3fe0371-6315-40ac-89e3-a2527dbe2273",
    "deepnote_cell_type": "markdown",
    "slideshow": {
     "slide_type": "subslide"
    }
   },
   "source": [
    "### Entscheidungsproblem\n",
    "\n",
    "<img src=\"../lecture_materials/turing_1.png\" width=\"500 px\">"
   ]
  },
  {
   "cell_type": "markdown",
   "metadata": {
    "slideshow": {
     "slide_type": "subslide"
    }
   },
   "source": [
    "<img src=\"../lecture_materials/turing_2.png\" width=\"500 px\">"
   ]
  },
  {
   "cell_type": "markdown",
   "metadata": {
    "slideshow": {
     "slide_type": "subslide"
    }
   },
   "source": [
    "<img src=\"../lecture_materials/turing_3.png\" width=\"500 px\">"
   ]
  },
  {
   "cell_type": "markdown",
   "metadata": {
    "slideshow": {
     "slide_type": "subslide"
    }
   },
   "source": [
    "<img src=\"../lecture_materials/turing_4.png\" width=\"500 px\">"
   ]
  },
  {
   "cell_type": "markdown",
   "metadata": {
    "slideshow": {
     "slide_type": "subslide"
    }
   },
   "source": [
    "<img src=\"../lecture_materials/turing_5.png\" width=\"500 px\">"
   ]
  },
  {
   "cell_type": "markdown",
   "metadata": {
    "slideshow": {
     "slide_type": "subslide"
    }
   },
   "source": [
    "<img src=\"../lecture_materials/turing_6.png\" width=\"500 px\">"
   ]
  },
  {
   "cell_type": "markdown",
   "metadata": {
    "cell_id": "00005-f39ceb37-685f-4d56-b0eb-17b6fdad210f",
    "deepnote_cell_type": "markdown",
    "slideshow": {
     "slide_type": "slide"
    }
   },
   "source": [
    "### Turing-gép informálisan\n",
    "\n",
    "<a href=\"https://www.youtube.com/watch?v=dNRDvLACg5Q&t=129s\" target=\"_blank\">Computerphile videó</a>"
   ]
  },
  {
   "cell_type": "markdown",
   "metadata": {
    "cell_id": "00006-9264c13e-09cc-4571-892b-855b0eefb623",
    "deepnote_cell_type": "markdown",
    "slideshow": {
     "slide_type": "fragment"
    }
   },
   "source": [
    "#### szalag\n",
    "- tetszőleges hosszúságú\n",
    "- cellákra osztott\n",
    "- cellánként legfeljebb egy jelet tartalmaz"
   ]
  },
  {
   "cell_type": "markdown",
   "metadata": {
    "cell_id": "00007-807c33c2-428c-48e1-8863-960ac246e983",
    "deepnote_cell_type": "markdown",
    "slideshow": {
     "slide_type": "fragment"
    }
   },
   "source": [
    "#### gép\n",
    "- olvassa és írja a szalagot\n",
    "- beépített, egyértelmű instrukciók alapján működik\n",
    "- meghatározott helyen kezd a szalagon\n",
    "- elolvas egy jelet és az instrukciók függvényében:\n",
    "    - ír a helyére valamit, majd elmozdul jobbra/balra és beolvassa, ami ott van\n",
    "    - vagy leáll"
   ]
  },
  {
   "cell_type": "markdown",
   "metadata": {
    "cell_id": "00014-2275050d-8e6b-4e09-b5e9-0aaaf419e39d",
    "deepnote_cell_type": "markdown",
    "slideshow": {
     "slide_type": "slide"
    }
   },
   "source": [
    "### Turing-gép formálisan\n",
    "\n",
    "$ M = \\langle Q, \\Gamma, \\delta, q_0, q_f \\rangle $"
   ]
  },
  {
   "cell_type": "markdown",
   "metadata": {
    "cell_id": "00014-2275050d-8e6b-4e09-b5e9-0aaaf419e39d",
    "deepnote_cell_type": "markdown",
    "slideshow": {
     "slide_type": "fragment"
    }
   },
   "source": [
    "- $Q$ - állások listája, ezen belül $q_0$ a kezdőállás, $q_f$ pedig a lehetséges végső (\"halting\") állások"
   ]
  },
  {
   "cell_type": "markdown",
   "metadata": {
    "cell_id": "00014-2275050d-8e6b-4e09-b5e9-0aaaf419e39d",
    "deepnote_cell_type": "markdown",
    "slideshow": {
     "slide_type": "fragment"
    }
   },
   "source": [
    "- $\\Gamma$ - szalagon szerepelhető jelek ábécéje"
   ]
  },
  {
   "cell_type": "markdown",
   "metadata": {
    "cell_id": "00014-2275050d-8e6b-4e09-b5e9-0aaaf419e39d",
    "deepnote_cell_type": "markdown",
    "slideshow": {
     "slide_type": "fragment"
    }
   },
   "source": [
    "- $\\delta$ az utasításkészlet egy függvényben: $(Q \\setminus q_f) \\times \\Gamma \\rightarrow Q \\times \\Gamma \\times [L,R]$"
   ]
  },
  {
   "cell_type": "markdown",
   "metadata": {
    "cell_id": "00019-efd1d63c-01a2-4489-bbfc-21a1a2f1c97b",
    "deepnote_cell_type": "markdown",
    "slideshow": {
     "slide_type": "slide"
    }
   },
   "source": [
    "### Busy Beaver\n",
    "\n",
    "- olyan Turing-gép, ami egy tiszán 0-kból álló szalagra a lehető legtöbb 1-est írja úgy, hogy végül eléri a halting állapotát\n",
    "- ***n állású busy beaver:*** az összes $n$ lehetséges állással rendelkező Turing-gépnél több egyest ír a szalagra"
   ]
  },
  {
   "cell_type": "markdown",
   "metadata": {
    "cell_id": "00021-d954b203-795c-487a-bfc9-6dd775fc980c",
    "deepnote_cell_type": "markdown",
    "slideshow": {
     "slide_type": "subslide"
    }
   },
   "source": [
    "### Két állású busy beaver\n",
    "\n",
    "- $\\Gamma = \\langle 1, 0 \\rangle$\n",
    "- $Q = \\langle A, B, HALT \\rangle $\n",
    "- $q_0 = A, q_f = HALT$\n",
    "- $\\delta:$\n",
    "\n",
    "| input | A | B | \n",
    "|-------|---|---|\n",
    "| 1 | 1LB | 1RH |\n",
    "| 0 | 1RB | 1LA |"
   ]
  },
  {
   "cell_type": "markdown",
   "metadata": {
    "cell_id": "00025-823ddc79-53c9-4fff-b8ea-b2bc484bce72",
    "deepnote_cell_type": "markdown",
    "slideshow": {
     "slide_type": "subslide"
    }
   },
   "source": [
    "### Három állású Busy Beaver\n",
    "\n",
    "| input | A | B | C |\n",
    "|-------|---|---|---|\n",
    "| 0 | 1RB | 1LA | 1LB\n",
    "| 1 |1LC | 1RB | 1RH"
   ]
  },
  {
   "cell_type": "markdown",
   "metadata": {
    "cell_id": "00028-71e34e46-8f0d-42f5-820b-7e15b12b9eae",
    "deepnote_cell_type": "markdown",
    "slideshow": {
     "slide_type": "subslide"
    }
   },
   "source": [
    "### Busy beaver automata\n",
    "<a href=\"https://turingmachine.io/\" target=\"_blank\">Szimulátor</a>"
   ]
  },
  {
   "cell_type": "markdown",
   "metadata": {
    "cell_id": "00029-4a415ec8-9ae7-4ffb-877c-3608e0dcd267",
    "deepnote_cell_type": "markdown",
    "slideshow": {
     "slide_type": "subslide"
    }
   },
   "source": [
    "### Busy Beaver számok\n",
    "\n",
    "| állások száma | maximálisan felrajzolható 1-esek |\n",
    "|---------------|----------------------------------|\n",
    "| 3 | 21 <!-- .element: class=\"fragment\"  --> |\n",
    "| 4 | 107 <!-- .element: class=\"fragment\"  --> |\n",
    "| 5 | 47176870 ? <!-- .element: class=\"fragment\"  --> |\n",
    "| 6 | $7.4 \\times 10^{36534}$ ? <!-- .element: class=\"fragment\"  --> |"
   ]
  },
  {
   "cell_type": "markdown",
   "metadata": {
    "cell_id": "00034-ea14833b-a341-403e-9143-206a111cb025",
    "deepnote_cell_type": "markdown",
    "slideshow": {
     "slide_type": "subslide"
    }
   },
   "source": [
    "### Nem-kiszámíthatóság\n",
    "\n",
    "- egy függvény kiszámítható, ha létezik egy véges algoritmus, ami minden input függvényében megmondja az outputot\n",
    "- a busy beaver esetében nincs olyan kiszámítható függvény, ami az állapotok számának függvényében megmondja a maximum felírható egyesek számát"
   ]
  },
  {
   "cell_type": "markdown",
   "metadata": {
    "cell_id": "00036-5bdd0e8f-84a1-4bcf-887c-93b49b6a6dc3",
    "deepnote_cell_type": "markdown",
    "slideshow": {
     "slide_type": "slide"
    }
   },
   "source": [
    "### A program állapota\n",
    "\n",
    "$\\textit{Minden, a program által adott pontban elérhető és általa tárolt információ.}$"
   ]
  },
  {
   "cell_type": "markdown",
   "metadata": {
    "cell_id": "00036-5bdd0e8f-84a1-4bcf-887c-93b49b6a6dc3",
    "deepnote_cell_type": "markdown",
    "slideshow": {
     "slide_type": "fragment"
    }
   },
   "source": [
    "### A Turing-gép állása\n",
    "\n",
    "$\\textit{Meghatározza, hogy a gép a beolvasott jel alapján mit írjon,}$\n",
    "\n",
    "$\\textit{melyik legyen a következő jel, amit beolvas és milyen következő állásba menjen.}$"
   ]
  },
  {
   "cell_type": "markdown",
   "metadata": {
    "cell_id": "00039-fcecf55f-5e4d-4541-8b0b-204373171994",
    "deepnote_cell_type": "markdown",
    "slideshow": {
     "slide_type": "slide"
    }
   },
   "source": [
    "### Az univerzális Turing-gép\n",
    "\n",
    "- bármely tetszőleges Turing-gépet képes szimulálni tetszőleges inputtal\n",
    "- ez a számítógépek által elvégezhető algoritmusok absztrakt definíciója"
   ]
  },
  {
   "cell_type": "markdown",
   "metadata": {
    "cell_id": "00041-c437d0e3-d5b9-4b0b-bb76-9c0927f27baf",
    "deepnote_cell_type": "markdown",
    "slideshow": {
     "slide_type": "subslide"
    }
   },
   "source": [
    "### Turing-teljesség\n",
    "\n",
    "- egy eszköz Turing-teljes, ha elméletben ekvivalens az univerzális Turing-géppel\n",
    "- a mi paradigmánkban (imperatív OOP), egy programnyelv akkor Turing-teljes, ha van benne **értékadás** és **iteráció**"
   ]
  },
  {
   "cell_type": "markdown",
   "metadata": {
    "slideshow": {
     "slide_type": "subslide"
    }
   },
   "source": [
    "### Turing-teljes nyelvek\n",
    "\n",
    "- lényegében az összes programnyelv, ami használatban van\n",
    "- nem Turing-teljes pl. a html és a json"
   ]
  },
  {
   "cell_type": "markdown",
   "metadata": {
    "slideshow": {
     "slide_type": "subslide"
    }
   },
   "source": [
    "### Turing-teljes nyelvek\n",
    "\n",
    "- véletlenül turing teljes:\n",
    "\n",
    "<img src=\"../lecture_materials/t_complete.png\"  width=\"500 px\">"
   ]
  },
  {
   "cell_type": "markdown",
   "metadata": {
    "cell_id": "00045-63eb11e7-95d7-46d2-a3c7-70ba9119f3c4",
    "deepnote_cell_type": "markdown",
    "slideshow": {
     "slide_type": "slide"
    }
   },
   "source": [
    "### Halting problem\n",
    "Probléma: honnan tudjuk, hogy egy Turing-gép valaha eléri a halting state-jét?"
   ]
  },
  {
   "cell_type": "markdown",
   "metadata": {
    "cell_id": "00046-4e2f8c43-c513-439a-a554-276bcf5fccef",
    "deepnote_cell_type": "markdown",
    "slideshow": {
     "slide_type": "subslide"
    }
   },
   "source": [
    "### Halting problem - Példa\n",
    "\n",
    "- $Q = \\langle A, HALT \\rangle$\n",
    "- $\\Gamma = \\langle 0, 1 \\rangle$\n",
    "- $q_0 = A, q_f = HALT$\n",
    "- $\\delta$:\n",
    "\n",
    "| input | állás |\n",
    "|-------|-------|\n",
    "|   0   |  1RA  |\n",
    "|   1   |  1RH  |"
   ]
  },
  {
   "cell_type": "markdown",
   "metadata": {
    "cell_id": "00053-8e8e7f14-54d7-41ec-9f23-7c478f0360f1",
    "deepnote_cell_type": "markdown",
    "slideshow": {
     "slide_type": "subslide"
    }
   },
   "source": [
    "### Halting problem\n",
    "\n",
    "$\\textit{Az, hogy adott program adott inputtal eléri-e valaha a halting state-jét,}$\n",
    "\n",
    "$\\textit{általánosan nem bizonyítható.}$\n",
    "\n",
    "<img src=\"../lecture_materials/halting.png\" width=\"500\">"
   ]
  },
  {
   "cell_type": "markdown",
   "metadata": {},
   "source": [
    "----"
   ]
  },
  {
   "cell_type": "markdown",
   "metadata": {
    "cell_id": "00058-a931ceab-6284-4836-a651-0e12147d49a4",
    "deepnote_cell_type": "markdown",
    "slideshow": {
     "slide_type": "slide"
    }
   },
   "source": [
    "### A mi paradigmánk\n",
    "\n",
    "- ***imperatív***: utasításonként változtatom a program állapotát, amíg el nem érek a kívánt állapotba\n",
    "- ***procedurális***: meghívható utasítássorozatok, procedúrák (függvények)\n",
    "- ***strukturált***: blokkok, elágazások, for/while struktúrák (iterációk)\n",
    "- ***objektumorientált***: függvényeket, adatot, speciális típusokat egységesen objektumként tároljuk az állapotban\n",
    "- ***generikus***: típusok tekintetében általánosítható függvények"
   ]
  },
  {
   "cell_type": "markdown",
   "metadata": {
    "cell_id": "00063-ae9f7e70-dce6-459f-91db-6b0540ddd079",
    "deepnote_cell_type": "markdown",
    "slideshow": {
     "slide_type": "slide"
    }
   },
   "source": [
    "### Struktúrák példákkal\n",
    "\n",
    "- elágazás\n",
    "    - if\n",
    "    - else-if\n",
    "    - switch/case\n",
    "- iteráció\n",
    "    - while\n",
    "    - for\n",
    "    - do-while/until\n",
    "- blokk\n",
    "    - függvény\n",
    "    - procedúra"
   ]
  },
  {
   "cell_type": "markdown",
   "metadata": {
    "cell_id": "00074-8882969b-801c-4bae-89b9-5afa0689d12d",
    "deepnote_cell_type": "markdown",
    "slideshow": {
     "slide_type": "slide"
    }
   },
   "source": [
    "### Struktúrák tulajdonságai\n",
    "\n",
    "- elágazás\n",
    "    - feltétel\n",
    "    - ág\n",
    "- iteráció\n",
    "    - feltétel\n",
    "    - ciklusmag\n",
    "- blokk\n",
    "    - utasítássorozat"
   ]
  },
  {
   "cell_type": "code",
   "execution_count": null,
   "metadata": {},
   "outputs": [],
   "source": []
  }
 ],
 "metadata": {
  "celltoolbar": "Slideshow",
  "deepnote": {},
  "deepnote_execution_queue": [],
  "deepnote_notebook_id": "02628d6b-0b85-40aa-ada9-8613b6c894db",
  "kernelspec": {
   "display_name": "Python 3 (ipykernel)",
   "language": "python",
   "name": "python3"
  },
  "language_info": {
   "codemirror_mode": {
    "name": "ipython",
    "version": 3
   },
   "file_extension": ".py",
   "mimetype": "text/x-python",
   "name": "python",
   "nbconvert_exporter": "python",
   "pygments_lexer": "ipython3",
   "version": "3.9.5"
  }
 },
 "nbformat": 4,
 "nbformat_minor": 4
}
