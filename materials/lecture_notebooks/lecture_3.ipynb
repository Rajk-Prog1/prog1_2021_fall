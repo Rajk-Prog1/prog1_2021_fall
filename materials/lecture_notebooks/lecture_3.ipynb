{
 "cells": [
  {
   "cell_type": "markdown",
   "source": "# Számítógép felépítése",
   "metadata": {
    "slideshow": {
     "slide_type": "slide"
    },
    "cell_id": "00000-7e325083-4686-407c-8a7b-c078e5ff6a9b",
    "deepnote_cell_type": "markdown"
   }
  },
  {
   "cell_type": "markdown",
   "source": "[![Számítógép architektúra](http://itl7.elte.hu/pc/Image136.gif)](http://itl7.elte.hu/pc/index.htm)",
   "metadata": {
    "slideshow": {
     "slide_type": "fragment"
    },
    "cell_id": "00001-699d3dbe-144b-4287-838f-70f7ebcdf1dd",
    "deepnote_cell_type": "markdown"
   }
  },
  {
   "cell_type": "markdown",
   "source": "**A számítógép fizikai elemei (Hardware)**:",
   "metadata": {
    "slideshow": {
     "slide_type": "subslide"
    },
    "cell_id": "00002-7bd6bcb1-23de-45e2-b5bd-3851c6f4188d",
    "deepnote_cell_type": "markdown"
   }
  },
  {
   "cell_type": "markdown",
   "source": "- CPU $\\Rightarrow$ ALU",
   "metadata": {
    "slideshow": {
     "slide_type": "fragment"
    },
    "cell_id": "00003-18581711-0124-44e7-807b-2c56c9f1332e",
    "deepnote_cell_type": "markdown"
   }
  },
  {
   "cell_type": "markdown",
   "source": "- RAM (Memória)",
   "metadata": {
    "slideshow": {
     "slide_type": "fragment"
    },
    "cell_id": "00004-276905dc-7235-4f7d-b672-46664212ada1",
    "deepnote_cell_type": "markdown"
   }
  },
  {
   "cell_type": "markdown",
   "source": "- Adattároló (HDD, SSD, stb.)",
   "metadata": {
    "slideshow": {
     "slide_type": "fragment"
    },
    "cell_id": "00005-af258fbd-d80f-48fb-98ab-6ab7d48b448e",
    "deepnote_cell_type": "markdown"
   }
  },
  {
   "cell_type": "markdown",
   "source": "- Perifériák (bemenet/kimenet)",
   "metadata": {
    "slideshow": {
     "slide_type": "fragment"
    },
    "cell_id": "00006-e5f9d960-79d8-45e7-8631-5e8a9478cd82",
    "deepnote_cell_type": "markdown"
   }
  },
  {
   "cell_type": "markdown",
   "source": "       \n*Csak egy rakat fémdarab?*",
   "metadata": {
    "slideshow": {
     "slide_type": "fragment"
    },
    "cell_id": "00007-8ad830fb-109f-4b49-93c4-25943b18e773",
    "deepnote_cell_type": "markdown"
   }
  },
  {
   "cell_type": "markdown",
   "source": "# Opercáiós rendszer",
   "metadata": {
    "slideshow": {
     "slide_type": "slide"
    },
    "cell_id": "00008-45d054a1-537b-4f02-a7f5-f06f769e727c",
    "deepnote_cell_type": "markdown"
   }
  },
  {
   "cell_type": "markdown",
   "source": "[![Operációs rendszer](https://upload.wikimedia.org/wikipedia/commons/thumb/0/05/Operating_system_placement-hu.svg/200px-Operating_system_placement-hu.svg.png)](https://hu.wikipedia.org/wiki/Oper%C3%A1ci%C3%B3s_rendszer)",
   "metadata": {
    "slideshow": {
     "slide_type": "fragment"
    },
    "cell_id": "00009-588fafa2-9b1c-425d-9059-27c141e8a2a4",
    "deepnote_cell_type": "markdown"
   }
  },
  {
   "cell_type": "markdown",
   "source": "**Feladata:**",
   "metadata": {
    "slideshow": {
     "slide_type": "subslide"
    },
    "cell_id": "00010-1a7da721-82e4-43b3-8a96-ec8d8ec6ce17",
    "deepnote_cell_type": "markdown"
   }
  },
  {
   "cell_type": "markdown",
   "source": "- közvetlenül kezeli a hardvert",
   "metadata": {
    "slideshow": {
     "slide_type": "fragment"
    },
    "cell_id": "00011-dd3c42b1-7ea7-4229-932c-55ecfdc1ceed",
    "deepnote_cell_type": "markdown"
   }
  },
  {
   "cell_type": "markdown",
   "source": "- egységes környezetet biztosít",
   "metadata": {
    "slideshow": {
     "slide_type": "fragment"
    },
    "cell_id": "00012-00ded757-eb32-4738-9ed0-c263b0f7106b",
    "deepnote_cell_type": "markdown"
   }
  },
  {
   "cell_type": "markdown",
   "source": "**Gyakori megjelenése:**",
   "metadata": {
    "slideshow": {
     "slide_type": "fragment"
    },
    "cell_id": "00013-21af1814-eff4-47b1-8857-4db4620cbbf0",
    "deepnote_cell_type": "markdown"
   }
  },
  {
   "cell_type": "markdown",
   "source": "- Windows",
   "metadata": {
    "slideshow": {
     "slide_type": "fragment"
    },
    "cell_id": "00014-31b0e4e4-05c1-4edc-84c0-2ecf66663020",
    "deepnote_cell_type": "markdown"
   }
  },
  {
   "cell_type": "markdown",
   "source": "- macOS",
   "metadata": {
    "slideshow": {
     "slide_type": "fragment"
    },
    "cell_id": "00015-028375e0-0b3f-45ff-974d-e776b611b0a3",
    "deepnote_cell_type": "markdown"
   }
  },
  {
   "cell_type": "markdown",
   "source": "- Linux",
   "metadata": {
    "slideshow": {
     "slide_type": "fragment"
    },
    "cell_id": "00016-baadbadf-54dc-494c-b9f9-aef046b96d57",
    "deepnote_cell_type": "markdown"
   }
  },
  {
   "cell_type": "markdown",
   "source": "# [**Machine Code**](https://en.wikipedia.org/wiki/Machine_code)",
   "metadata": {
    "slideshow": {
     "slide_type": "slide"
    },
    "cell_id": "00017-1a719fdd-f16f-4daa-b5b3-bc12c7581ebe",
    "deepnote_cell_type": "markdown"
   }
  },
  {
   "cell_type": "markdown",
   "source": "Processzora számára **közvetlen utasításként értelmezhető**",
   "metadata": {
    "slideshow": {
     "slide_type": "fragment"
    },
    "cell_id": "00018-3f143726-36bd-4a43-b7fe-8d468f085256",
    "deepnote_cell_type": "markdown"
   }
  },
  {
   "cell_type": "markdown",
   "source": "**Gépi nyelvi utasítások** (*CPU műveletek*):",
   "metadata": {
    "slideshow": {
     "slide_type": "fragment"
    },
    "cell_id": "00019-a042666a-e522-4c87-a42c-c7895a3533c9",
    "deepnote_cell_type": "markdown"
   }
  },
  {
   "cell_type": "markdown",
   "source": "- Betöltés",
   "metadata": {
    "slideshow": {
     "slide_type": "fragment"
    },
    "cell_id": "00020-24cf4158-15be-4ee7-bd5d-e65bff17994e",
    "deepnote_cell_type": "markdown"
   }
  },
  {
   "cell_type": "markdown",
   "source": "- Tárolás",
   "metadata": {
    "slideshow": {
     "slide_type": "fragment"
    },
    "cell_id": "00021-da81b1da-1702-490a-b6b9-1ec128c123f2",
    "deepnote_cell_type": "markdown"
   }
  },
  {
   "cell_type": "markdown",
   "source": "- Ugrás",
   "metadata": {
    "slideshow": {
     "slide_type": "fragment"
    },
    "cell_id": "00022-6272c11a-6f8f-48de-8cdc-4a68371f0f6e",
    "deepnote_cell_type": "markdown"
   }
  },
  {
   "cell_type": "markdown",
   "source": "- ALU művelet",
   "metadata": {
    "slideshow": {
     "slide_type": "fragment"
    },
    "cell_id": "00023-8fddd000-a5ca-467a-ba58-654724f233d1",
    "deepnote_cell_type": "markdown"
   }
  },
  {
   "cell_type": "markdown",
   "source": "A **gyors feldolgozás** a cél",
   "metadata": {
    "ExecuteTime": {
     "end_time": "2021-09-30T07:07:52.427634Z",
     "start_time": "2021-09-30T07:07:52.414639Z"
    },
    "slideshow": {
     "slide_type": "fragment"
    },
    "cell_id": "00024-4a291bf7-6d51-45e0-8c98-497bde7e51e9",
    "deepnote_cell_type": "markdown"
   }
  },
  {
   "cell_type": "markdown",
   "source": "**Alacsony szintű** programozási nyelv",
   "metadata": {
    "slideshow": {
     "slide_type": "fragment"
    },
    "cell_id": "00025-768e6820-406f-4b76-a9bc-77984999bc56",
    "deepnote_cell_type": "markdown"
   }
  },
  {
   "cell_type": "markdown",
   "source": "**Példa**:",
   "metadata": {
    "slideshow": {
     "slide_type": "subslide"
    },
    "cell_id": "00026-f3a173b2-c2b0-4d77-85d3-a343ba033fe1",
    "deepnote_cell_type": "markdown"
   }
  },
  {
   "cell_type": "markdown",
   "source": "```\nB8 D4 07 00 00 90 48 75 FC C3\n```",
   "metadata": {
    "slideshow": {
     "slide_type": "fragment"
    },
    "cell_id": "00027-2d291582-4716-4d61-ab2c-493a6625c1bd",
    "deepnote_cell_type": "markdown"
   }
  },
  {
   "cell_type": "markdown",
   "source": "*Mi a fészkes fenét jelent ez?*",
   "metadata": {
    "slideshow": {
     "slide_type": "fragment"
    },
    "cell_id": "00028-32c3eeb3-3b0f-46e5-9722-1ad0bc338da7",
    "deepnote_cell_type": "markdown"
   }
  },
  {
   "cell_type": "markdown",
   "source": "# [Assembly](https://hu.wikipedia.org/wiki/Assembly)",
   "metadata": {
    "slideshow": {
     "slide_type": "slide"
    },
    "cell_id": "00029-4d7e9086-7ed9-4d9f-9267-a0cbf2258aae",
    "deepnote_cell_type": "markdown"
   }
  },
  {
   "cell_type": "markdown",
   "source": "**Szimbolikus gépi kód**",
   "metadata": {
    "slideshow": {
     "slide_type": "fragment"
    },
    "cell_id": "00030-57d6a23f-d70c-4b10-a817-d67b21279e3e",
    "deepnote_cell_type": "markdown"
   }
  },
  {
   "cell_type": "markdown",
   "source": "A **leghatékonyabb** általános célú **programozási nyelv**:",
   "metadata": {
    "slideshow": {
     "slide_type": "fragment"
    },
    "cell_id": "00031-47f6e7e6-6f84-4013-95d7-ba6a51ee8bb2",
    "deepnote_cell_type": "markdown"
   }
  },
  {
   "cell_type": "markdown",
   "source": "- A gépi kódhoz ez áll a legközelebb",
   "metadata": {
    "slideshow": {
     "slide_type": "fragment"
    },
    "cell_id": "00032-263b691b-c1b3-4f35-bacb-73371a1169e1",
    "deepnote_cell_type": "markdown"
   }
  },
  {
   "cell_type": "markdown",
   "source": "- Hatékony helykihasználás",
   "metadata": {
    "slideshow": {
     "slide_type": "fragment"
    },
    "cell_id": "00033-fc2b5be9-a76e-4409-ae4b-be06fb852b35",
    "deepnote_cell_type": "markdown"
   }
  },
  {
   "cell_type": "markdown",
   "source": "- Gyors futási idő",
   "metadata": {
    "slideshow": {
     "slide_type": "fragment"
    },
    "cell_id": "00034-60cbb1e6-25cd-40f3-ae7b-25a28504c457",
    "deepnote_cell_type": "markdown"
   }
  },
  {
   "cell_type": "markdown",
   "source": "**Példa**:",
   "metadata": {
    "slideshow": {
     "slide_type": "subslide"
    },
    "cell_id": "00035-38d6da03-db36-4a8f-8175-bd9f61e9ed8e",
    "deepnote_cell_type": "markdown"
   }
  },
  {
   "cell_type": "markdown",
   "source": "|Operation|Opcode|Meaning of other bytes|||\n|--- |--- |--- |--- |--- |\n|ADD|0x20|Dest. reg.|Reg. 1|Reg. 2|\n|IMM|0x60|Dest. reg.|Unused|Value|\n|BNE|0x11|Dest. address|Reg. 1|Reg. 2|\n|LOAD|0xA4|Dest. reg.|Reg. with address|Unused|\n|STORE|0x08|Unused|Reg. with dest. address|Source reg.|\n",
   "metadata": {
    "ExecuteTime": {
     "end_time": "2021-09-30T07:09:09.192165Z",
     "start_time": "2021-09-30T07:09:09.182155Z"
    },
    "slideshow": {
     "slide_type": "fragment"
    },
    "cell_id": "00036-807b94cd-c214-4de0-95f1-fcaf50b3a69b",
    "deepnote_cell_type": "markdown"
   }
  },
  {
   "cell_type": "markdown",
   "source": "0x 60 00 00 80  \n0x A4 00 00 00  \n0x 60 01 00 84  \n0x A4 01 01 00  \n0x 60 02 00 00  \n0x 60 03 00 04  \n0x 60 04 00 00  \n0x 60 05 00 01  \n0x 08 00 00 02  \n0x 20 00 00 03  \n0x 20 04 04 05  \n0x 11 20 04 01  ",
   "metadata": {
    "slideshow": {
     "slide_type": "fragment"
    },
    "cell_id": "00037-3e055287-bb06-4d0e-8741-df47de93e8a4",
    "deepnote_cell_type": "markdown"
   }
  },
  {
   "cell_type": "markdown",
   "source": "1. R0 = 0x80              (address of start address)\n2. R0 = memory[R0]        (current address)\n3. R1 = 0x84              (address of number of words)\n4. R1 = memory[R1]        (number of words)\n5. R2 = 0x0               (constant 0)\n6. R3 = 0x4               (constant 4)\n7. R4 = 0x0               (number of words written to)\n8. R5 = 0x1               (constant 1)\n9. store R2 in memory[R0]\n10. R0 = R0 + R3\n11. R4 = R4 + R5\n12. if (R4 != R1) branch to the store instruction (address 0x20)",
   "metadata": {
    "ExecuteTime": {
     "end_time": "2021-09-30T18:25:55.815010Z",
     "start_time": "2021-09-30T18:25:55.786006Z"
    },
    "slideshow": {
     "slide_type": "fragment"
    },
    "cell_id": "00038-7f7e202c-7d5b-4733-9d2b-00f8e35a3d24",
    "deepnote_cell_type": "markdown"
   }
  },
  {
   "cell_type": "markdown",
   "source": "# [Programozási nyelvek](https://en.wikipedia.org/wiki/Programming_language)",
   "metadata": {
    "slideshow": {
     "slide_type": "slide"
    },
    "cell_id": "00039-fdf242a5-5ca4-4c25-92b8-386233922536",
    "deepnote_cell_type": "markdown"
   }
  },
  {
   "cell_type": "markdown",
   "source": "**Algoritmus implementálás**:",
   "metadata": {
    "slideshow": {
     "slide_type": "fragment"
    },
    "cell_id": "00040-7c04c887-151f-4ca9-af73-fc1101315387",
    "deepnote_cell_type": "markdown"
   }
  },
  {
   "cell_type": "markdown",
   "source": "- Kód megírása valamilyen nyelven",
   "metadata": {
    "slideshow": {
     "slide_type": "fragment"
    },
    "cell_id": "00041-466fc732-0551-4a71-9cf4-195fabd05de9",
    "deepnote_cell_type": "markdown"
   }
  },
  {
   "cell_type": "markdown",
   "source": "- Futtatás",
   "metadata": {
    "slideshow": {
     "slide_type": "fragment"
    },
    "cell_id": "00042-acf40235-b037-4f96-986f-e07936c2c77f",
    "deepnote_cell_type": "markdown"
   }
  },
  {
   "cell_type": "markdown",
   "source": "**Nyelvek Fajtái:**",
   "metadata": {
    "slideshow": {
     "slide_type": "fragment"
    },
    "cell_id": "00043-d8e5a3f0-958c-42ef-8632-885f2bdf774c",
    "deepnote_cell_type": "markdown"
   }
  },
  {
   "cell_type": "markdown",
   "source": "- **Compiler nyelvek**:\n    - Az output hardveren keresztül futtatható\n    - Forrásprogram $\\Rightarrow$ Tárgyprogram\n    - Gyors futási idő",
   "metadata": {
    "slideshow": {
     "slide_type": "fragment"
    },
    "cell_id": "00044-0c59f074-5842-42df-adf7-361af03915cf",
    "deepnote_cell_type": "markdown"
   }
  },
  {
   "cell_type": "markdown",
   "source": "- **Interpreter nyelvek**:\n    - Az output programon keresztül futtatható\n    - Soronként történik a fordítás\n    - Lassabb futási idő",
   "metadata": {
    "slideshow": {
     "slide_type": "fragment"
    },
    "cell_id": "00045-065f91b7-a2b9-480d-a4aa-37beb0ecae4f",
    "deepnote_cell_type": "markdown"
   }
  },
  {
   "cell_type": "markdown",
   "source": "*Ezek mind magas szintű programozási nyelvek*",
   "metadata": {
    "ExecuteTime": {
     "end_time": "2021-09-30T16:55:17.535906Z",
     "start_time": "2021-09-30T16:55:17.492931Z"
    },
    "slideshow": {
     "slide_type": "fragment"
    },
    "cell_id": "00046-db8083d7-9f84-4862-9047-1a507e8db279",
    "deepnote_cell_type": "markdown"
   }
  },
  {
   "cell_type": "markdown",
   "source": "# [Command Line Interface (CLI)](https://hu.wikipedia.org/wiki/Parancssoros_felhaszn%C3%A1l%C3%B3i_fel%C3%BClet)",
   "metadata": {
    "slideshow": {
     "slide_type": "slide"
    },
    "cell_id": "00047-f5b2c082-a88b-4668-916d-1ca22d1d86a6",
    "deepnote_cell_type": "markdown"
   }
  },
  {
   "cell_type": "markdown",
   "source": "Felhasználói felület",
   "metadata": {
    "slideshow": {
     "slide_type": "fragment"
    },
    "cell_id": "00048-13fa058c-3d4f-4c8f-b9b4-41899ac13d49",
    "deepnote_cell_type": "markdown"
   }
  },
  {
   "cell_type": "markdown",
   "source": "Kapcsolattartás parancsokkal",
   "metadata": {
    "slideshow": {
     "slide_type": "fragment"
    },
    "cell_id": "00049-6a841fcb-0cc2-40e7-a40a-f88d98cf0b1f",
    "deepnote_cell_type": "markdown"
   }
  },
  {
   "cell_type": "markdown",
   "source": "Minden operációs rendszer rendelkezik vele",
   "metadata": {
    "slideshow": {
     "slide_type": "fragment"
    },
    "cell_id": "00050-02c603f1-8132-467e-b534-4ad005708002",
    "deepnote_cell_type": "markdown"
   }
  },
  {
   "cell_type": "markdown",
   "source": "**Előnyei:**",
   "metadata": {
    "slideshow": {
     "slide_type": "fragment"
    },
    "cell_id": "00051-12c4a9a6-126d-451b-b345-9110481cafe3",
    "deepnote_cell_type": "markdown"
   }
  },
  {
   "cell_type": "markdown",
   "source": "- gyors",
   "metadata": {
    "slideshow": {
     "slide_type": "fragment"
    },
    "cell_id": "00052-1389ac87-8567-4b37-a640-83424bcd9718",
    "deepnote_cell_type": "markdown"
   }
  },
  {
   "cell_type": "markdown",
   "source": "- rugalmas parancsbevitel",
   "metadata": {
    "slideshow": {
     "slide_type": "fragment"
    },
    "cell_id": "00053-134a3fde-3e4a-4cb5-8852-ef3745d91b41",
    "deepnote_cell_type": "markdown"
   }
  },
  {
   "cell_type": "markdown",
   "source": "- automatizálás",
   "metadata": {
    "slideshow": {
     "slide_type": "fragment"
    },
    "cell_id": "00054-0f63ee89-c058-4410-838d-d9c45ebb5f78",
    "deepnote_cell_type": "markdown"
   }
  },
  {
   "cell_type": "markdown",
   "source": "**Hátrányai:**",
   "metadata": {
    "slideshow": {
     "slide_type": "fragment"
    },
    "cell_id": "00055-561a39d9-cc9b-49db-b601-c29711de6b45",
    "deepnote_cell_type": "markdown"
   }
  },
  {
   "cell_type": "markdown",
   "source": "- nem szemléletes",
   "metadata": {
    "slideshow": {
     "slide_type": "fragment"
    },
    "cell_id": "00056-01a89adb-0ea0-47ae-a091-405203f74744",
    "deepnote_cell_type": "markdown"
   }
  },
  {
   "cell_type": "markdown",
   "source": "- időbe telik az elsajátítása",
   "metadata": {
    "slideshow": {
     "slide_type": "fragment"
    },
    "cell_id": "00057-7b64b645-be37-4fc6-b881-6a1db7221226",
    "deepnote_cell_type": "markdown"
   }
  },
  {
   "cell_type": "markdown",
   "source": "**Gyakori CLI nyelvek:**\n- DOS batch language\n- Batch file\n- Bash\n- Shell script\n- PowerShell",
   "metadata": {
    "slideshow": {
     "slide_type": "subslide"
    },
    "cell_id": "00058-19ae5c1d-e452-44c5-a01d-11de29538515",
    "deepnote_cell_type": "markdown"
   }
  },
  {
   "cell_type": "markdown",
   "source": "**Kapcsolódo fogalmak:**",
   "metadata": {
    "slideshow": {
     "slide_type": "subslide"
    },
    "cell_id": "00059-4c5fd502-1c17-4888-bf81-d3019594ce1e",
    "deepnote_cell_type": "markdown"
   }
  },
  {
   "cell_type": "markdown",
   "source": "- PATH változó",
   "metadata": {
    "slideshow": {
     "slide_type": "fragment"
    },
    "cell_id": "00060-578d0a6f-0a7d-4677-b86c-a61579d320bc",
    "deepnote_cell_type": "markdown"
   }
  },
  {
   "cell_type": "markdown",
   "source": "- Parancsikonok",
   "metadata": {
    "slideshow": {
     "slide_type": "fragment"
    },
    "cell_id": "00061-95dd8e98-3672-4eea-b89b-2f7990038bfc",
    "deepnote_cell_type": "markdown"
   }
  },
  {
   "cell_type": "markdown",
   "source": "## PROGRAMOZÁSI PARADIGMÁK",
   "metadata": {
    "slideshow": {
     "slide_type": "slide"
    },
    "cell_id": "00062-82e3404b-a86d-4fbe-a34f-295a28f67f86",
    "deepnote_cell_type": "markdown"
   }
  },
  {
   "cell_type": "markdown",
   "source": "**Objektumorientált Programozás:**  \nNem tevékenység vagy logika, hanem objektumok, illetve adat köré építjük a programot.",
   "metadata": {
    "ExecuteTime": {
     "end_time": "2021-09-29T19:11:15.411247Z",
     "start_time": "2021-09-29T19:11:15.401248Z"
    },
    "slideshow": {
     "slide_type": "fragment"
    },
    "cell_id": "00063-ceba2f46-bc50-48ea-b431-f1e2ae009386",
    "deepnote_cell_type": "markdown"
   }
  },
  {
   "cell_type": "markdown",
   "source": "**Imperatív programozási paradigma:**  \nLépésenként adunk választ a Hogyan kérdésre.",
   "metadata": {
    "slideshow": {
     "slide_type": "fragment"
    },
    "cell_id": "00064-0cb62a8c-71f8-4f4e-b6ba-86ba6a99e5e1",
    "deepnote_cell_type": "markdown"
   }
  },
  {
   "cell_type": "markdown",
   "source": "**Imperatív OOP:**  ",
   "metadata": {
    "slideshow": {
     "slide_type": "fragment"
    },
    "cell_id": "00065-d038c668-687c-4de8-88ad-a86ac00735f4",
    "deepnote_cell_type": "markdown"
   }
  },
  {
   "cell_type": "markdown",
   "source": "- Lépésenként adunk utasításokat a programnak arra, hogy egyes objektumokat hogyan manipuláljon/kezeljen.",
   "metadata": {
    "slideshow": {
     "slide_type": "fragment"
    },
    "cell_id": "00066-0f299f45-3be8-418a-87b7-9c50a7bd4891",
    "deepnote_cell_type": "markdown"
   }
  },
  {
   "cell_type": "markdown",
   "source": "- A programnak ebben a megközelítésben bármely pillanatban van állapota, ami meghatározza a program számára elérhető objektumok tulajdonságait és értékét.",
   "metadata": {
    "slideshow": {
     "slide_type": "fragment"
    },
    "cell_id": "00067-afd8cee1-97c1-4f76-b4b4-a85d1db120e3",
    "deepnote_cell_type": "markdown"
   }
  },
  {
   "cell_type": "markdown",
   "source": "- A legtöbb népszerű nyelv így közelíti meg a programokat. Pl: C++, Java, C, PHP, Python...",
   "metadata": {
    "slideshow": {
     "slide_type": "fragment"
    },
    "cell_id": "00068-9b0d1a68-3218-4a53-9e56-a42ec171b3c8",
    "deepnote_cell_type": "markdown"
   }
  },
  {
   "cell_type": "markdown",
   "source": "<a style='text-decoration:none;line-height:16px;display:flex;color:#5B5B62;padding:10px;justify-content:end;' href='https://deepnote.com?utm_source=created-in-deepnote-cell&projectId=978e47b7-a961-4dca-a945-499e8b781a34' target=\"_blank\">\n<img alt='Created in deepnote.com' style='display:inline;max-height:16px;margin:0px;margin-right:7.5px;' src='data:image/svg+xml;base64,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' > </img>\nCreated in <span style='font-weight:600;margin-left:4px;'>Deepnote</span></a>",
   "metadata": {
    "tags": [],
    "created_in_deepnote_cell": true,
    "deepnote_cell_type": "markdown"
   }
  }
 ],
 "nbformat": 4,
 "nbformat_minor": 5,
 "metadata": {
  "celltoolbar": "Slideshow",
  "kernelspec": {
   "display_name": "Python 3 (ipykernel)",
   "language": "python",
   "name": "python3"
  },
  "language_info": {
   "codemirror_mode": {
    "name": "ipython",
    "version": 3
   },
   "file_extension": ".py",
   "mimetype": "text/x-python",
   "name": "python",
   "nbconvert_exporter": "python",
   "pygments_lexer": "ipython3",
   "version": "3.9.6"
  },
  "latex_envs": {
   "LaTeX_envs_menu_present": true,
   "autoclose": false,
   "autocomplete": true,
   "bibliofile": "biblio.bib",
   "cite_by": "apalike",
   "current_citInitial": 1,
   "eqLabelWithNumbers": true,
   "eqNumInitial": 1,
   "hotkeys": {
    "equation": "Ctrl-E",
    "itemize": "Ctrl-I"
   },
   "labels_anchors": false,
   "latex_user_defs": false,
   "report_style_numbering": false,
   "user_envs_cfg": false
  },
  "toc": {
   "base_numbering": 1,
   "nav_menu": {},
   "number_sections": true,
   "sideBar": true,
   "skip_h1_title": false,
   "title_cell": "Table of Contents",
   "title_sidebar": "Contents",
   "toc_cell": false,
   "toc_position": {},
   "toc_section_display": true,
   "toc_window_display": false
  },
  "deepnote_notebook_id": "e0f8e115-49fd-42b2-bc1f-0f6f47328528",
  "deepnote": {},
  "deepnote_execution_queue": []
 }
}