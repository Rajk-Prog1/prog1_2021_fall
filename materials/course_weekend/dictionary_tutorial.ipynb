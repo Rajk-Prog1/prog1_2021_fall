{
 "cells": [
  {
   "cell_type": "markdown",
   "source": "## Dictionaries\n\nA Python dictionary consists of a key and then an associated value. That value can be almost any Python object.",
   "metadata": {
    "tags": [],
    "cell_id": "00001-5a2a6bca-a67e-4abc-a38b-cff636b8a44a",
    "deepnote_cell_type": "markdown"
   }
  },
  {
   "cell_type": "code",
   "metadata": {
    "tags": [],
    "cell_id": "00001-7179f9a4-dec7-48f6-abb9-3329a111834c",
    "deepnote_to_be_reexecuted": false,
    "source_hash": "c955aaeb",
    "execution_start": 1637356943440,
    "execution_millis": 1,
    "deepnote_cell_type": "code"
   },
   "source": "# Make a dictionary with {} and : to signify a key and a value\nmy_dict = {'key1':'value1','key2':'value2'}",
   "execution_count": null,
   "outputs": []
  },
  {
   "cell_type": "code",
   "metadata": {
    "tags": [],
    "cell_id": "00002-f9824297-d160-42b4-9632-ed3436c92720",
    "deepnote_to_be_reexecuted": false,
    "source_hash": "dc30cfee",
    "execution_start": 1637357066692,
    "execution_millis": 4,
    "deepnote_output_heights": [
     21.1875
    ],
    "deepnote_cell_type": "code"
   },
   "source": "# Call values by their key\nmy_dict['key2']",
   "execution_count": null,
   "outputs": [
    {
     "output_type": "execute_result",
     "execution_count": 2,
     "data": {
      "text/plain": "'value2'"
     },
     "metadata": {}
    }
   ]
  },
  {
   "cell_type": "code",
   "metadata": {
    "tags": [],
    "cell_id": "00003-a0b79d7a-fba6-454f-8721-804a360eab00",
    "deepnote_to_be_reexecuted": false,
    "source_hash": "9dfe9ea4",
    "execution_start": 1637337278305,
    "execution_millis": 2,
    "deepnote_cell_type": "code"
   },
   "source": "# Its important to note that dictionaries are very flexible in the data types they can hold.\nmy_dict = {'key1':123,'key2':[12,23,33],'key3':['item0','item1','item2']}",
   "execution_count": null,
   "outputs": []
  },
  {
   "cell_type": "code",
   "metadata": {
    "tags": [],
    "cell_id": "00004-43d32343-87e5-4e7a-aa18-ab601a74d250",
    "deepnote_to_be_reexecuted": false,
    "source_hash": "3359952f",
    "execution_start": 1637357328534,
    "execution_millis": 2,
    "deepnote_cell_type": "code"
   },
   "source": "# Create a new dictionary\nd = {}\nd = dict()",
   "execution_count": null,
   "outputs": []
  },
  {
   "cell_type": "code",
   "metadata": {
    "tags": [],
    "cell_id": "00005-f4340a30-469c-4d7d-aa0a-537a26c9b6ee",
    "deepnote_to_be_reexecuted": false,
    "source_hash": "ac6d243d",
    "execution_start": 1637357333711,
    "execution_millis": 2,
    "deepnote_cell_type": "code"
   },
   "source": "# Create a new key through assignment\nd['animal'] = 'Dog'",
   "execution_count": null,
   "outputs": []
  },
  {
   "cell_type": "code",
   "metadata": {
    "tags": [],
    "cell_id": "00006-dccadfeb-bb44-4130-9d56-6283a3d4fc70",
    "deepnote_to_be_reexecuted": false,
    "source_hash": "714ef6e3",
    "execution_start": 1637357340181,
    "execution_millis": 208,
    "deepnote_cell_type": "code"
   },
   "source": "# Can do this with any object\nd['answer'] = 42\nprint(d)",
   "execution_count": null,
   "outputs": [
    {
     "name": "stdout",
     "text": "{'animal': 'Dog', 'answer': 42}\n",
     "output_type": "stream"
    }
   ]
  },
  {
   "cell_type": "code",
   "metadata": {
    "tags": [],
    "cell_id": "00007-34390204-8913-4a6e-a692-dcde64040956",
    "deepnote_to_be_reexecuted": false,
    "source_hash": "6ba15b39",
    "execution_start": 1637357582572,
    "execution_millis": 4,
    "deepnote_cell_type": "code"
   },
   "source": "# You can use .items() to iterate through the keys and values of a dictionary.\nfor key, value in d.items():\n    print(f\"key: {key} value: {value}\")",
   "execution_count": null,
   "outputs": [
    {
     "name": "stdout",
     "text": "key: animal value: Dog\nkey: answer value: 42\n",
     "output_type": "stream"
    }
   ]
  },
  {
   "cell_type": "code",
   "metadata": {
    "tags": [],
    "cell_id": "00008-df314729-4fc7-4cfc-9287-b4b492d372fa",
    "deepnote_to_be_reexecuted": false,
    "source_hash": "e6512ba9",
    "execution_start": 1637357603072,
    "execution_millis": 1,
    "deepnote_cell_type": "code"
   },
   "source": "dic_in_dic = {\"a\": {\"b\": 10, 2: \"asd\"}}",
   "execution_count": null,
   "outputs": []
  },
  {
   "cell_type": "code",
   "metadata": {
    "tags": [],
    "cell_id": "00009-3ff71134-407e-4e70-8381-1fee0fdf6f5f",
    "deepnote_to_be_reexecuted": false,
    "source_hash": "d40e2ae4",
    "execution_start": 1637357664265,
    "execution_millis": 2,
    "deepnote_output_heights": [
     20.734375
    ],
    "deepnote_cell_type": "code"
   },
   "source": "emberek = [\"Bela\", \"Feri\"]\nkor = [18, 19]\nuj_dic = {}\nfor i in range(len(emberek)):\n    uj_dic[emberek[i]] = kor[i]\n\nprint(uj_dic)",
   "execution_count": null,
   "outputs": [
    {
     "name": "stdout",
     "text": "{'Bela': 18, 'Feri': 19}\n",
     "output_type": "stream"
    }
   ]
  },
  {
   "cell_type": "code",
   "metadata": {
    "tags": [],
    "cell_id": "00010-7214ea73-4e55-487f-b299-81100004b377",
    "deepnote_to_be_reexecuted": false,
    "source_hash": "775056ff",
    "execution_start": 1637357695695,
    "execution_millis": 4,
    "deepnote_output_heights": [
     21.1875
    ],
    "deepnote_cell_type": "code"
   },
   "source": "\"Bela\" in uj_dic",
   "execution_count": null,
   "outputs": [
    {
     "output_type": "execute_result",
     "execution_count": 13,
     "data": {
      "text/plain": "True"
     },
     "metadata": {}
    }
   ]
  },
  {
   "cell_type": "code",
   "metadata": {
    "tags": [],
    "cell_id": "00011-da3fb7c4-3b4b-4d83-a976-e9d0ff01dce3",
    "deepnote_to_be_reexecuted": false,
    "source_hash": "7d4a28ff",
    "execution_start": 1637357705080,
    "execution_millis": 11,
    "deepnote_output_heights": [
     21.1875
    ],
    "deepnote_cell_type": "code"
   },
   "source": "18 in uj_dic ",
   "execution_count": null,
   "outputs": [
    {
     "output_type": "execute_result",
     "execution_count": 14,
     "data": {
      "text/plain": "False"
     },
     "metadata": {}
    }
   ]
  },
  {
   "cell_type": "code",
   "metadata": {
    "tags": [],
    "cell_id": "00012-9130ee87-de8f-47cb-a5ca-5fa66fc9171e",
    "deepnote_cell_type": "code"
   },
   "source": "",
   "execution_count": null,
   "outputs": []
  },
  {
   "cell_type": "markdown",
   "source": "<a style='text-decoration:none;line-height:16px;display:flex;color:#5B5B62;padding:10px;justify-content:end;' href='https://deepnote.com?utm_source=created-in-deepnote-cell&projectId=978e47b7-a961-4dca-a945-499e8b781a34' target=\"_blank\">\n<img alt='Created in deepnote.com' style='display:inline;max-height:16px;margin:0px;margin-right:7.5px;' src='data:image/svg+xml;base64,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' > </img>\nCreated in <span style='font-weight:600;margin-left:4px;'>Deepnote</span></a>",
   "metadata": {
    "tags": [],
    "created_in_deepnote_cell": true,
    "deepnote_cell_type": "markdown"
   }
  }
 ],
 "nbformat": 4,
 "nbformat_minor": 2,
 "metadata": {
  "orig_nbformat": 2,
  "deepnote": {
   "is_reactive": false
  },
  "deepnote_notebook_id": "3f6df822-0bf8-4a0e-8b7a-b37758854f1c",
  "deepnote_execution_queue": []
 }
}