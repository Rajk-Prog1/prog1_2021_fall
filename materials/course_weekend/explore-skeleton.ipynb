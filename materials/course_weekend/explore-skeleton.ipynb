{
 "cells": [
  {
   "cell_type": "markdown",
   "source": "### adatleírás\n\nAz adat **Sebi** saját teljes facebook messenger history-ja, **2010-től 2021.11.17-ig.** Azért nem láttok belőle mindent, a következők a korlátok:\n\n- az üzeneteket nem látjátok, csak a hosszukat, karakterben\n- mindenkinek a nevét véletlenszerűen kicseréltük egy híres emberével (a forbes celebrity top100-ból, oszkárdíjas/oszkár jelölt színészek és a top 100 kitalált karakter + magyar dolgok közül válogatva)\n- a névcsere konziztens, így egy híresség mindig ugyanazt az embert jelöli (akkor is, ha a csetben esetleg valaki megváltoztatta a nevét)\n- fotók, videók, stickerek és gifek sincsenek meg, csak az, hogy adott üzenetben a küldő hány ilyet küldött\n\n### forma\n\nAz adat *json* formátumban van, amit a pythonba úgy fogunk beolvasni, hogy egy listát kapunk, amiben dictionary-k vannak. Minden dictionary egy csetben történt eseményt jelöl, ezek a következőek lehetnek:\n- valaki üzenetet küldött\n- valaki megosztott valamilyen tartalmat\n- valakit felvettek a beszélgetésbe vagy kirakták/kirakta magát\n\nMinden dictionaryben 19 key van, amik a következőket jelentik:\n\n- ```type```: ez négy féle dolog lehet\n    - *Generic*: ez azt jelenti, hogy a dictionary egy sima üzenetet jelöl\n    - *Share*: ez valamilyen tartalom megosztását jelenti\n    - *Subscribe*: ez azt jelenti, hogy valaki hozzáadott valakit a beszélgetéshez\n    - *Unsubscribe*: ez azt jelenti, hogy valaki levett valakit a beszélgetésről\n- ```sender_name```: *string*, a küldő, megosztó, vagy beszélgetésbe felvevő/leszedő álneve\n- ```datetime```/```year```/```month```/```day```/```hour```/```minute```: ezek az esemény idejét jelzik\n- ```timestamp_ms```: az 1970 január 1. óta eltelt miliszekundumok számát jelzi (arra pl. elég jó, hogy nagyon könnyen ki lehet vele számolni két esemény között eltelt időt, meg összehasonlításra is szuper)\n- ```content_l```: *float*, ez mindig az üzenetben elküldött karakterek számát jelöli\n- ```gifs```/```videos```/```photos```/```sticker```: ezek a nevükben megfogalmazott tartalomtípus darabszámát jelölik az üzenetben\n- ```reactions```: ez egy lista azokról az emberekről, akik reactokat nyomkodtak az üzenetre\n- ```users```: ez egy lista azokról az emberekről, akik a beszélgetéshez hozzá lettek adva, vagy el lettek távolítva (csak akkor aktuális, ha a ```type``` *Subscribe* vagy *Unsubscribe* értéket vesz fel)\n- ```thread_path```: ez annak a threadnek (beszélgetésnek) az azonosítója, amiben az adott esemény történt\n- ```thread_type```: ez a thread fajtáját jelöli, lehet *RegularGroup* (csoportos) vagy *Regular* (egyéni)\n- ```index```: ez az adott esemény indexe, évenként egyedi\n\n### figyelmeztetések\n\n- **Az adat nincs időrendi sorrendben!** Ha olyan feladatot szeretnétek megoldani, amihez ez hasznos, nektek kell sorbarakni.\n- Vigyázzatok arra is, hogy **az index nem egyedi, még évente sem!**\n\n### beolvasás\n\nAz adat évenként van külön fájlokba szedve. Az alábbi egy elegáns megoldás, hogy beolvassátok ezeket egy python listába. A `glob` package listázza az adott path sémán található összes fájlt (a `*` jelzi, hogy annak a helyén bármilyen karakterek állhatnak). A `with open(path, \"r\") as fp` struktúra pedig megnyitja az adott path-tal rendelkező fájlt, beolvassa egy változóba, és utána be is csukja. Tehát a `get_data` függvénynek paraméteresen lehet megadni, hogy melyik fájlt olvassa be.",
   "metadata": {
    "cell_id": "00000-f387d966-944b-420e-98ce-4055e387e594",
    "deepnote_cell_type": "markdown"
   }
  },
  {
   "cell_type": "code",
   "metadata": {
    "cell_id": "00001-3315451a-883f-42e9-aeda-e10debc99562",
    "deepnote_cell_type": "code"
   },
   "source": "import glob\nimport json",
   "execution_count": null,
   "outputs": []
  },
  {
   "cell_type": "code",
   "metadata": {
    "cell_id": "00002-9b6a420c-6347-4e88-8edb-c04baca0c030",
    "deepnote_cell_type": "code"
   },
   "source": "message_files = sorted(glob.glob(\"data/*-msg.json\"))",
   "execution_count": null,
   "outputs": []
  },
  {
   "cell_type": "code",
   "metadata": {
    "cell_id": "00003-c539d7d6-fb65-429d-9dec-f551c7e8190a",
    "deepnote_output_heights": [
     213.0625
    ],
    "deepnote_cell_type": "code"
   },
   "source": "message_files",
   "execution_count": null,
   "outputs": [
    {
     "data": {
      "text/plain": "['data/2010-msg.json',\n 'data/2011-msg.json',\n 'data/2012-msg.json',\n 'data/2013-msg.json',\n 'data/2014-msg.json',\n 'data/2015-msg.json',\n 'data/2016-msg.json',\n 'data/2017-msg.json',\n 'data/2018-msg.json',\n 'data/2019-msg.json',\n 'data/2020-msg.json']"
     },
     "execution_count": 9,
     "metadata": {},
     "output_type": "execute_result"
    }
   ]
  },
  {
   "cell_type": "code",
   "metadata": {
    "cell_id": "00004-4d67ecaa-ecd3-41cb-8315-b6d7363db32a",
    "deepnote_cell_type": "code"
   },
   "source": "def get_data(path):\n\n    with open(path, \"r\") as fp:\n        file = json.load(fp)\n\n    return file",
   "execution_count": null,
   "outputs": []
  },
  {
   "cell_type": "code",
   "metadata": {
    "cell_id": "00005-4d83c839-4113-435c-b169-6b12cd950c91",
    "deepnote_cell_type": "code"
   },
   "source": "list_of_dicts_2010 = get_data(message_files[0])",
   "execution_count": null,
   "outputs": []
  },
  {
   "cell_type": "code",
   "metadata": {
    "scrolled": true,
    "cell_id": "00006-7ea3f6a8-c87a-48bc-8c77-94346c50e22f",
    "deepnote_output_heights": [
     386
    ],
    "deepnote_cell_type": "code"
   },
   "source": "list_of_dicts_2010[0]",
   "execution_count": null,
   "outputs": [
    {
     "data": {
      "text/plain": "{'index': 1797,\n 'sender_name': 'Colin Firth',\n 'timestamp_ms': 1289492566000,\n 'type': 'Generic',\n 'thread_path': 622,\n 'thread_type': 'Regular',\n 'reactions': [],\n 'sticker': None,\n 'ip': None,\n 'photos': 0,\n 'users': [],\n 'gifs': 0,\n 'videos': 0,\n 'content_l': 8,\n 'datetime': '2010-11-11T17:22:46.000Z',\n 'year': 2010,\n 'month': 11,\n 'day': 11,\n 'hour': 17,\n 'minute': 22}"
     },
     "execution_count": 8,
     "metadata": {},
     "output_type": "execute_result"
    }
   ]
  },
  {
   "cell_type": "markdown",
   "source": "------",
   "metadata": {
    "cell_id": "00007-339f7212-0842-4feb-bd10-bfff84363587",
    "deepnote_cell_type": "markdown"
   }
  },
  {
   "cell_type": "markdown",
   "source": "### ábrázolás\n\n- ha esetleg szeretnétek valamit ábrázolni, javasoljuk hozzá a `matplotlib`, vagy a `seaborn` package-et\n\n#### [matplotlib dokumentáció](https://matplotlib.org/3.3.3/contents.html)\n#### [csinos ábrák seaborn-nal: Python Graph Gallery](https://python-graph-gallery.com/)",
   "metadata": {
    "cell_id": "00008-a219dced-7f02-4d52-8ffb-147eb2173941",
    "deepnote_cell_type": "markdown"
   }
  },
  {
   "cell_type": "markdown",
   "source": "-------------",
   "metadata": {
    "cell_id": "00009-1d78dd72-38ac-45ec-9330-6c964bd4ccb0",
    "deepnote_cell_type": "markdown"
   }
  },
  {
   "cell_type": "markdown",
   "source": "#### !!! Általános policy: abban az esetben, ha valamiből az elsőt kell megtalálni (vagy top5-öt a bónusz esetén), és több első is van, akkor az abc-sorrendben legelsőt adjátok meg megoldásként !!!\n\n### explore feladatok\n\n1. Mi Sebi álneve? (1 pont)\n2. Mi a jeszk-moments azonosítója? (2 pont)\n3. Ki írja átlagosan a leghosszabb üzeneteket? (2 pont)\n4. Ki unscubsribeolt legtöbbször a jeszk momentsből (2 pont)\n5. Ki küldte legtöbb képet a jeszk momentsbe? (2 pont)\n6. Hányan vannak, akik minden évben küldtek üzenetet? (3 pont)\n7. Hányan vannak, akik pontosan n évben küldtek üzenetet ($ n = 1, ... 11 $) (2 pont, ábrázolásért +1)\n8. Ki van bent a második legtöbb csetben? (unsubscribe-ot ne vegyétek figyelembe) (3 pont)\n9. Melyik a mostani SZMT-cset? (5 pont)\n10. Ki írta a legkevesebb üzenetet a mostani SZMT-chatbe? (3 pont)\n11. Melyik az a cset, ahol a legtöbb idő telt el két ÜZENET között, és mennyi ez az idő? (4 pont)\n12. Hány emberrel beszél Sebi 2018 óta minden évben, és hánnyal 2019 óta minden évben (rajkba kerülésének éve óta), és ez alapján kik a rajkosok ebből a listából? (4 pont)\n13. Ki érte el a legtöbb reakciót átlagosan a jeszk momentsben? (4 pont)\n\n### függvény feladatok\n\n14. Megadok egy timestamp-et, ki az eddig az időpontig írt leghosszabb üzenet szerzője? (1 pont)\n15. Megadok egy timestamp-et, melyik óra eddig az időpontig a legkevésbé aktív, amiben legalább egy interakció lezajlott? (tehát nem 0 az aktivitás) (1 pont)\n16. Megadok egy timestamp-et és egy embert, mondd meg, hány karaktert küldött eddig az időpontig (2 pont)\n17. Megadok egy timestamp-et, hányan írtak eddig az időpontig legalább 10 üzenetet? (3 pont)\n18. Megadok egy timestamp-et, melyik volt a top5 legaktívabb cset eddig az időpontig (4 pont)\n19. Megadok egy timestamp-et és egy csetet (thread_path), összesen hány különböző ember írt, összesen hány üzenetet és hány karaktert írtak eddig az időpontig? (4 pont)\n    - +2 pontért: emberenként csoportosítva hány üzenetet és hány karaktert küldtek\n20. Megadok egy órát, átlagosan hány üzenetet küldtek ebben az órában az összes olyan napra átlagolva, amikor küldtek üzenetet abban az órában? (5 pont)\n21. Megadok egy timestamp-et, melyik csetbe és kicsoda írta  eddig az időpontig a legtöbb karaktert (5 pont)\n22. Megadok egy timestamp-et, mi volt a leghosszabb periódus eddig az időpontig üzenet nélkül (7 pont)\n\n### kötelező plusz\n\n- mindegyik csapatnak kötelező bedobni legalább 2 új feladatot\n\n### bónusz\n\n- bárhol ahol top1-et keresünk, megadni top5öt (+1 pont)\n- bármelyik csapat dobhat be a kettőn felül plusz feladatokat a megbeszélt időkorlátig publikusan, amiről mi megmondjuk, hogy hány pontot ér\n- ha olyan feladatot csinálsz meg, amit egyik másik csapat sem tudott (+1 pont)",
   "metadata": {
    "cell_id": "00010-2ce84b8b-ab79-4ac2-ac1f-9486605a25db",
    "deepnote_cell_type": "markdown"
   }
  },
  {
   "cell_type": "markdown",
   "source": "## TQDM \nhasznos package, ami egy iterációnál megjelenít egy progress bart.",
   "metadata": {
    "tags": [],
    "cell_id": "00012-7a4859ea-46d0-46ea-a193-9000596f642f",
    "deepnote_cell_type": "markdown"
   }
  },
  {
   "cell_type": "code",
   "metadata": {
    "tags": [],
    "cell_id": "00014-f18015e9-3361-496d-bc6a-039e78a7a427",
    "deepnote_to_be_reexecuted": false,
    "source_hash": "c0634863",
    "execution_start": 1637406917317,
    "execution_millis": 4581,
    "deepnote_cell_type": "code"
   },
   "source": "!pip install tqdm #ezzel tudjátok telepíteni a package-t notebookon belül,\n# vagy parancssor és ! nélkül ugyan ez a parancs\ndfrom tqdm import tqdm",
   "execution_count": null,
   "outputs": [
    {
     "name": "stdout",
     "text": "Requirement already satisfied: tqdm in /shared-libs/python3.7/py/lib/python3.7/site-packages (4.62.3)\n\u001b[33mWARNING: You are using pip version 20.1.1; however, version 21.3.1 is available.\nYou should consider upgrading via the '/root/venv/bin/python -m pip install --upgrade pip' command.\u001b[0m\n",
     "output_type": "stream"
    }
   ]
  },
  {
   "cell_type": "code",
   "metadata": {
    "tags": [],
    "cell_id": "00013-b99d2964-62a9-4fea-8b81-d54cad7c8eb5",
    "deepnote_to_be_reexecuted": false,
    "source_hash": "8f12024e",
    "execution_start": 1637406925046,
    "execution_millis": 59,
    "deepnote_cell_type": "code"
   },
   "source": "#Annyit kell csinálnotok, hogy az iterációban meghívjátok a tqdm függvényt,\n#aminek a paramétereként a végigiterálandó függvényt adjátok meg. \nfor i in tqdm(range(100000)):\n    pass",
   "execution_count": null,
   "outputs": [
    {
     "name": "stderr",
     "text": "100%|██████████| 100000/100000 [00:00<00:00, 1744755.09it/s]\n",
     "output_type": "stream"
    }
   ]
  },
  {
   "cell_type": "markdown",
   "source": "## Teszt értékek",
   "metadata": {
    "tags": [],
    "cell_id": "00015-41ea1919-ee80-491d-b279-1b47054494e0",
    "deepnote_cell_type": "markdown"
   }
  },
  {
   "cell_type": "code",
   "metadata": {
    "tags": [],
    "cell_id": "00015-d4f1179e-84e0-4e0a-8294-31653fc4b625",
    "deepnote_to_be_reexecuted": false,
    "source_hash": "37a2b3d6",
    "execution_start": 1637445026333,
    "deepnote_cell_type": "code"
   },
   "source": "TEST_TIMESTAMP = 1321799105000\nTEST_HOUR = 17\nTEST_THREAD = 570\nTEST_PERSON = 'Spiderman'",
   "execution_count": null,
   "outputs": []
  },
  {
   "cell_type": "markdown",
   "source": "<a style='text-decoration:none;line-height:16px;display:flex;color:#5B5B62;padding:10px;justify-content:end;' href='https://deepnote.com?utm_source=created-in-deepnote-cell&projectId=978e47b7-a961-4dca-a945-499e8b781a34' target=\"_blank\">\n<img alt='Created in deepnote.com' style='display:inline;max-height:16px;margin:0px;margin-right:7.5px;' src='data:image/svg+xml;base64,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' > </img>\nCreated in <span style='font-weight:600;margin-left:4px;'>Deepnote</span></a>",
   "metadata": {
    "tags": [],
    "created_in_deepnote_cell": true,
    "deepnote_cell_type": "markdown"
   }
  }
 ],
 "nbformat": 4,
 "nbformat_minor": 2,
 "metadata": {
  "kernelspec": {
   "display_name": "Python 3",
   "language": "python",
   "name": "python3"
  },
  "language_info": {
   "codemirror_mode": {
    "name": "ipython",
    "version": 3
   },
   "file_extension": ".py",
   "mimetype": "text/x-python",
   "name": "python",
   "nbconvert_exporter": "python",
   "pygments_lexer": "ipython3",
   "version": "3.7.5"
  },
  "deepnote_notebook_id": "ea29366d-749d-4f74-be1a-5cef52e3cab2",
  "deepnote": {},
  "deepnote_execution_queue": []
 }
}