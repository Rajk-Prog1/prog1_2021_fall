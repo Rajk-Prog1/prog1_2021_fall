{
 "cells": [
  {
   "cell_type": "code",
   "metadata": {
    "cell_id": "00000-145fb69b-97a8-446e-8844-4a4fc3b3e8a4",
    "deepnote_cell_type": "code"
   },
   "source": "import glob\nimport json\nmessage_files = sorted(glob.glob(\"data/*-msg.json\"))",
   "outputs": [],
   "execution_count": null
  },
  {
   "cell_type": "code",
   "metadata": {
    "cell_id": "00001-405f6a66-f70c-40c7-8174-026b8607e242",
    "deepnote_output_heights": [
     232.328125
    ],
    "deepnote_cell_type": "code"
   },
   "source": "message_files",
   "outputs": [
    {
     "data": {
      "text/plain": "['data\\\\2010-msg.json',\n 'data\\\\2011-msg.json',\n 'data\\\\2012-msg.json',\n 'data\\\\2013-msg.json',\n 'data\\\\2014-msg.json',\n 'data\\\\2015-msg.json',\n 'data\\\\2016-msg.json',\n 'data\\\\2017-msg.json',\n 'data\\\\2018-msg.json',\n 'data\\\\2019-msg.json',\n 'data\\\\2020-msg.json',\n 'data\\\\2021-msg.json']"
     },
     "execution_count": 2,
     "metadata": {},
     "output_type": "execute_result"
    }
   ],
   "execution_count": null
  },
  {
   "cell_type": "code",
   "metadata": {
    "cell_id": "00002-9de9147a-5a71-4dc0-9a87-8bae1efbfde2",
    "deepnote_cell_type": "code"
   },
   "source": "def get_data(path):\n\n    with open(path, \"r\") as fp:\n        file = json.load(fp)\n\n    return file",
   "outputs": [],
   "execution_count": null
  },
  {
   "cell_type": "code",
   "metadata": {
    "cell_id": "00003-393f4836-dcf9-42af-ae1d-732ef8853798",
    "deepnote_cell_type": "code"
   },
   "source": "list_of_dicts_2010 = get_data(message_files[0])\nlist_of_dicts_2011 = get_data(message_files[1])\nlist_of_dicts_2012 = get_data(message_files[2])\nlist_of_dicts_2013 = get_data(message_files[3])\nlist_of_dicts_2014 = get_data(message_files[4])\nlist_of_dicts_2015 = get_data(message_files[5])\nlist_of_dicts_2016 = get_data(message_files[6])\nlist_of_dicts_2017 = get_data(message_files[7])\nlist_of_dicts_2018 = get_data(message_files[8])\nlist_of_dicts_2019 = get_data(message_files[9])\nlist_of_dicts_2020 = get_data(message_files[10])\nlist_of_dicts_2021 = get_data(message_files[11])",
   "outputs": [],
   "execution_count": null
  },
  {
   "cell_type": "code",
   "metadata": {
    "cell_id": "00004-b5ace7e3-82ca-4758-ae00-f03130d488a5",
    "deepnote_cell_type": "code"
   },
   "source": "list_of_dicts_all=list_of_dicts_2010\nlist_of_dicts_all.extend(list_of_dicts_2011)\nlist_of_dicts_all.extend(list_of_dicts_2012)\nlist_of_dicts_all.extend(list_of_dicts_2013)\nlist_of_dicts_all.extend(list_of_dicts_2014)\nlist_of_dicts_all.extend(list_of_dicts_2015)\nlist_of_dicts_all.extend(list_of_dicts_2016)\nlist_of_dicts_all.extend(list_of_dicts_2017)\nlist_of_dicts_all.extend(list_of_dicts_2018)\nlist_of_dicts_all.extend(list_of_dicts_2019)\nlist_of_dicts_all.extend(list_of_dicts_2020)\nlist_of_dicts_all.extend(list_of_dicts_2021)",
   "outputs": [],
   "execution_count": null
  },
  {
   "cell_type": "code",
   "metadata": {
    "cell_id": "00005-3106b157-158b-4f9d-8c76-77522a37049d",
    "deepnote_output_heights": [
     610.984375
    ],
    "deepnote_cell_type": "code"
   },
   "source": "#1.\nlista = {}\nfor i in list_of_dicts_all:\n    if 'sender_name' in i:\n        lista[i['sender_name']] = lista.get(i['sender_name'],0) + 1\nlista",
   "outputs": [
    {
     "data": {
      "text/plain": "{'Sandra Bullock': 319897,\n 'William Ralph Inge': 7576,\n 'Kirk Douglas': 1369,\n 'Anne Bancroft': 73,\n 'Mary J. Blige': 158,\n 'Leo Buscaglia': 40,\n 'Clarence Darrow': 849,\n 'Jim Morrison': 2,\n 'Friedrich von Schiller': 50,\n 'Joschka Fischer': 4,\n 'Dan Quisenberry': 1,\n 'Ed Sheeran': 2668,\n 'John Gay': 14,\n 'Gene Hackman': 2,\n 'Mel Brooks': 1396,\n 'C. S. Lewis': 1,\n 'Jay Miner': 3,\n 'Poul Schlüter': 1148,\n 'Timothée Chalamet': 33,\n 'Arthur Fonzarelli ': 1,\n 'Stephen Grellet': 1,\n 'Stan Lee': 2,\n 'Doris Lessing': 4,\n 'Kalidas': 1,\n 'John Mitchell': 2,\n 'Brian Clough': 1,\n 'Max Heindel': 29318,\n 'Garry Kasparov': 226,\n 'René Moawad': 1459,\n 'John Braine': 478,\n 'Fred Hoyle': 4183,\n 'Olivia Colman': 2247,\n 'Richard Naidu': 96,\n 'Dr. Frank Crane': 245,\n 'Sandra Jordan': 10186,\n 'William Marcy Tweed': 11532,\n 'Frederic Jueneman': 28,\n 'J. L. Austin': 148,\n 'Pierre Trudeau': 283,\n 'Michelle Williams': 213,\n 'Alfred North Whitehead': 5,\n 'Jonathan Swift': 1,\n 'Dolly Parton': 796,\n 'Marie Dressler': 1107,\n 'George Santayana': 157,\n 'Howard Dean': 73,\n 'Evans': 1346,\n 'Buffy Summers': 13,\n 'Ray Romano': 423,\n 'Charles Darwin': 28,\n 'James Dean': 24,\n 'Charlize Theron': 161,\n 'Lewis Mumford': 92,\n 'Nayla Moawad': 221,\n 'William \"Bull\" Halsey': 103,\n 'Christopher Reeve': 606,\n 'E. E. Cummings': 5,\n 'John Gielgud': 16,\n 'Forrest Gump ': 371,\n 'Thomas Nagel': 6,\n 'Michelle Pfeiffer': 1,\n 'Octavia Spencer': 22,\n 'Gary Oldman': 1,\n 'J. McV. Hunt': 15,\n 'Soong May-ling': 3,\n 'David Ortiz': 1,\n 'Adolf Ogi': 1,\n 'Abbie Hoffman': 2,\n 'Tom Joad ': 222,\n 'Thomas Jefferson': 659,\n 'Ayn Rand': 2,\n 'Maurice Wilkes': 3,\n 'Friedrich Holderlin': 1,\n 'Phil Hendrie': 1,\n 'Kim Stanley Robinson': 3,\n 'Eric Idle': 135,\n 'Sojourner Truth': 1,\n 'Mixmaster Morris': 33,\n 'Julian': 1,\n 'Franciszek Fiszer': 1,\n 'Richard Brautigan': 2,\n 'Robinson Jeffers': 1,\n 'Francis Bacon': 2,\n 'John Ralston Saul': 1,\n 'Alice James': 2,\n 'Janet Gaynor': 1,\n 'Alexander von Humboldt': 1,\n 'Alois Hába': 18,\n 'Peter Cook': 1,\n 'Brian Wilson': 276,\n 'Shintaro Ishihara': 2,\n 'Andra Day': 1,\n 'Tommy Douglas': 2,\n 'Ahmad': 6,\n 'Tom Wilkinson': 3,\n 'Herbert Spencer': 1,\n 'David Foster Wallace': 1,\n 'Forest Whitaker': 2,\n 'Gloria Stuart': 3,\n 'Ang Lee': 69,\n 'Charles Manson': 46,\n 'Kin Hubbard': 11,\n 'Saint Patrick': 1,\n 'Joan of Arc': 1,\n 'Thomas Sowell': 27,\n 'Daniel Kaluuya': 117,\n 'Minnie Driver': 70,\n 'Michelangelo Buonarroti': 2,\n 'David Myatt': 1,\n 'Carl Sagan': 1,\n 'Frank Biondo': 1,\n 'Cliff Huxtable': 1,\n 'Waldo/Wally': 1,\n 'Robert G. Ingersoll': 3,\n 'Frances Gerety': 116,\n 'Pablo Picasso': 1,\n 'Robert F. Kennedy': 1,\n 'Don Draper ': 1,\n 'Joan Cusack': 1,\n 'Leopoldo Galtieri': 1,\n 'Roy O. Disney': 2,\n 'Paul Desmond': 1,\n 'Stephen Crane': 2,\n 'Robert Byrd': 1,\n 'Faye Dunaway': 1,\n 'Kurt Cobain': 1,\n 'Heraclitus': 26,\n 'Helena Bonham Carter': 202,\n 'Steve Purcell': 1100,\n 'Anne Frank': 1346,\n 'Áder János': 762,\n 'Ruhollah Khomeini': 3314,\n 'Steven Erikson': 912,\n 'Abba Eban': 660,\n 'Marcelle Ferron': 1077,\n 'Jeremy Renner': 990,\n 'Fan Noli': 90,\n 'Ambrose Bierce': 139,\n 'Jane Darwell': 31073,\n 'Jade Puget': 602,\n 'James P. Cannon': 139,\n 'Arthur Stanley Eddington': 1277,\n 'Sacha Baron Cohen': 45,\n 'John Muir': 19,\n 'G. Gordon Liddy': 323,\n 'Robert T. Oliver': 50,\n 'Dan Owsen': 8566,\n 'Floyd Mayweather': 32,\n 'Pet Shop Boys': 241,\n 'Katina Paxinou': 315,\n 'Roger Ebert': 38,\n 'Heinz Guderian': 64,\n 'Gregory Peck': 6757,\n 'Milton Berle': 130,\n 'Charles Evans Hughes': 116,\n 'Linda McQuaig': 3814,\n 'Ted Williams': 48,\n 'Socrates': 73,\n 'Joseph Fétis': 46,\n 'U.S. Lieutenant General William Looney': 34,\n 'King Kong': 6285,\n 'Alexander Haig': 208,\n 'Aiven Andrians': 643,\n 'Emir Kusturica': 17,\n 'Robert Kennedy': 6,\n 'James Ah Koy': 49,\n 'Zane Grey': 78,\n 'Garth Brooks': 289,\n 'Margaret Mead': 13,\n 'Anthony Robbins': 88,\n 'Chris Collison': 8182,\n 'George E. Bergman': 12603,\n 'Jane Wyman': 180,\n 'Ed Begley': 20,\n 'John F. Kennedy': 51,\n 'Ellen Burstyn': 6,\n 'Beaumont and Fletcher': 525,\n 'Jessica Simpson': 324,\n 'Alexander Vasilyevich Suvorov': 78,\n 'Peggy Ashcroft': 5,\n 'Mahendra Chaudhry': 6165,\n 'John Dean': 349,\n 'Scott Adams': 5,\n 'Tristan J. Loo': 307,\n 'Rachel Weisz': 18,\n 'Barack Obama': 3,\n 'Ann Landers': 61,\n 'Elisabeth Kübler-Ross': 8,\n 'William Cowper': 19,\n 'Richard Perle': 68,\n 'Emmanuelle Riva': 354,\n 'Tupeni Baba': 4,\n 'Mary Hirsch': 1,\n 'Hilary Swank': 6,\n 'Joshua A. Norton': 60,\n 'Melissa Leo': 1,\n 'Michael Fish': 40,\n 'Mariella Frostrup': 2785,\n 'Charles Algernon Swinburne': 1,\n 'Catherine Deneuve': 3,\n 'Logan Pearsall Smith': 221,\n 'Ray Charles': 1,\n 'Thomas Edward Lawrence': 1,\n 'Joseph Addison': 1,\n 'Lemmy Kilmister': 1,\n 'Frasier Crane ': 158,\n 'Geraldine Page': 573,\n 'Sacha Guitry': 129,\n 'Leonardo DiCaprio': 2412,\n 'Samuel Daniel': 3386,\n 'Ric Berger': 940,\n 'Lu Xun': 57,\n 'Chris Cooper': 745,\n 'Hans Arp': 692,\n 'Jonas Salk': 89,\n 'Steven Spielberg': 610,\n 'Percy Bysshe Shelley': 499,\n 'Fred Allen': 1730,\n 'Johnny Cash': 240,\n 'David Strathairn': 894,\n \"Sean 'Diddy' Combs\": 95,\n 'Edward Abbey': 593,\n 'Zbigniew Herbert': 252,\n 'Florence Pugh': 371,\n 'Werner Heisenberg': 6,\n 'Alexander Pope': 3757,\n 'Charles A. Beard': 1001,\n 'Rollo May': 3066,\n 'Jennifer Tilly': 17,\n 'Cher': 4202,\n 'Celine Dion': 124,\n 'Ralph Waldo Emerson': 80,\n 'Carrie Snow': 1857,\n 'J. D. Salinger': 66,\n 'Earl Long': 96,\n 'Simon Travaglia': 55,\n \"Conan O'Brien\": 1,\n 'Lucy Ricardo ': 29,\n 'Courtney Love': 22,\n 'Hugh Hewitt': 793,\n 'Richard E. Grant': 460,\n 'Luciano Berio': 1,\n 'Ferdinand Foch': 3,\n 'Philip K. Dick': 90,\n 'George Fox': 2,\n 'Eugene V. Debs': 70,\n 'Neil Young': 159,\n 'Robert Sidney Foster': 114,\n 'Glenn Close': 114,\n 'William Saroyan': 4,\n 'Alexander Men': 46,\n \"Rosie O'Donnell\": 1602,\n 'Walter M. Miller, Jr.': 6,\n 'Herman Melville': 14,\n 'Karl Malden': 322,\n 'Milton Friedman': 34,\n 'Lucius Cornelius Sulla': 1,\n 'Kabir': 10,\n 'Stevie Nicks': 58,\n 'Holly Hunter': 795,\n 'Roberto Bolano': 71,\n 'Robert M. Pirsig': 39,\n 'Shahrukh Khan': 2,\n 'Rinko Kikuchi': 41,\n 'Tim Moore': 14,\n 'Sallust': 26,\n 'Dale Dauten': 24,\n 'William H. Macy': 630,\n 'Hugo Ball': 2,\n 'Colin Powell': 51,\n 'George E. P. Box': 249,\n 'Steve Martin': 58,\n 'Budd Schulberg': 16,\n 'John C. Reilly': 13,\n 'Elizabeth Taylor': 4667,\n 'Julie Brown': 17,\n 'Jacki Weaver': 1,\n 'Charles Handy': 1,\n 'Wilbur Wright': 1,\n 'Richard J. Daley': 1,\n 'Jack Kerouac': 46,\n 'Hayley Jensen': 1,\n 'Mrs Patrick Campbell': 1,\n 'Kim Basinger': 1,\n 'Allison Janney': 1,\n 'George V of the United Kingdom': 1361,\n 'Patrick Henry': 8,\n 'Peg Bracken': 11,\n 'John Cheever': 29,\n 'Charlie Chaplin': 1,\n 'Jack Barnes': 1,\n 'Edward Scissorhands ': 1,\n 'Joan Plowright': 3,\n 'Rocky Balboa': 1,\n 'Upton Sinclair': 1,\n 'John Milton': 2,\n 'Lionel Barrymore': 2,\n 'Huey P. Long': 2,\n 'Wolverine': 1,\n 'Steve Biko': 1,\n 'Frank Buckles': 1,\n 'James Cameron': 8,\n 'Patañjali': 1,\n 'Jack Albertson': 409,\n 'Howard Zinn': 85,\n 'Dave Mustaine': 1,\n 'Jane Ace': 1,\n 'Cliff Robertson': 4,\n 'Don Cheadle': 5,\n 'Josh Brolin': 1,\n 'George III of the United Kingdom': 1,\n 'Eduard Shevardnadze': 1,\n 'Lee Iacocca': 1,\n 'Hyman G. Rickover': 1,\n 'The Joker ': 6,\n 'H. L. Mencken': 2,\n 'Donald Douglas': 1,\n 'Jacques Attali': 76,\n 'Karl Hess': 13,\n 'Holden Caulfield ': 3,\n 'Baruch Spinoza': 1,\n 'Anna Kendrick': 1,\n 'Mahavira': 1,\n 'Wallace Beery': 1,\n 'Tzvetan Todorov': 1,\n 'Hailey Anne Nelson': 2,\n 'Thomas Haynes Bayly': 2,\n 'Avenue D': 45,\n 'Benjamin Franklin': 2,\n 'Bernie Ecclestone': 1,\n 'Indira Gandhi': 1,\n 'Walter Brennan': 1,\n 'Jaye Davidson': 1,\n 'Frank Tyger': 2,\n 'Laurence Fishburne': 41,\n 'Diana, Princess of Wales': 5,\n 'Massimo Troisi': 1,\n 'Jolene Blalock': 1,\n 'Eugene Ionesco': 1,\n 'Archimedes': 1,\n 'Friedrich Hayek': 1,\n 'William Butler Yeats': 1,\n 'Lloyd Bentsen': 1,\n 'Snoop Dogg': 86,\n 'Taraji P. Henson': 1,\n 'Tenzin Gyatso': 18,\n 'E. B. White': 2,\n 'C. L. R. James': 1,\n 'Peter Kay': 1,\n 'Thomas Hobbes': 1,\n 'Jan L. A. van de Snepscheut': 1,\n 'Julian Barnes': 1,\n 'Laurence Olivier': 1,\n 'Chiwetel Ejiofor': 1,\n 'John Edwards': 1,\n 'Epeli Ganilau': 1,\n 'Donald James': 1,\n 'Thornton Wilder': 1,\n 'Tecumseh': 1,\n 'John Gilmore': 1,\n 'Paul Harvey': 1,\n 'Eddie Redmayne': 1,\n 'Sidiq Koya': 1,\n 'Benjamin Spock': 1495,\n 'Nat King Cole': 354,\n 'Oprah Winfrey': 685,\n 'David Deutsch': 3349,\n 'Sun Tzu': 24,\n 'Max Payne': 68,\n 'Irving Fiske': 763,\n 'Wayne Rosing': 59,\n 'Harry Browne': 85,\n 'Mira Sorvino': 316,\n 'Shunryu Suzuka': 735,\n 'Mark Twain': 557,\n 'Leslie Odom Jr.': 261,\n 'Hilaire Belloc': 179,\n 'Adrien Brody': 322,\n 'Edward de Bono': 433,\n 'Roger D Herzler': 242,\n 'Burt Lancaster': 31,\n 'Joel Spolsky': 236,\n 'John Holt': 81,\n 'John Sedgwick': 268,\n 'Jason Robards': 2251,\n 'Arthur Rimbaud': 115,\n 'Larry Niven': 37,\n 'Hermann Goering': 68,\n 'Rena Mero': 113,\n 'Jean de La Bruyère': 12,\n 'Barry Crimmins': 30,\n 'Stanislaw Jerzy Lec': 1,\n 'Mary McDonnell': 321,\n 'Charles Coburn': 51,\n 'Jean-Jacques Roussequ': 17,\n 'Niles Eldredge': 86,\n 'Mason Cooley': 11,\n 'James Abourezk': 114,\n 'Andrei Codrescu': 10,\n 'Leonard H. Courtney': 9,\n 'Anne Revere': 92,\n 'Charles Keeping': 1,\n 'Bryan Cranston': 22,\n 'Shirley MacLaine': 12,\n 'Porky Pig ': 47,\n 'Albert Camus': 21,\n 'Ben Kingsley': 46,\n 'Malcolm Forbes': 1,\n 'James Coburn': 8,\n 'Algirdas Brazauskas': 35,\n 'Andy Grove': 20,\n 'Francis Hutcheson': 272,\n 'Pompey the Great': 7,\n 'Robert X. Cringely': 1745,\n 'Mick Beddoes': 36,\n 'Mečys Laurinkus': 10,\n 'Dave Barry': 5,\n 'Richard M. Stallman': 3,\n 'Alfred Austin': 23,\n 'Ammon Hennessey': 26,\n 'Estelle Parsons': 7,\n 'John Tudor': 12,\n 'Baltasar Gracián': 17,\n 'Philip Wylie': 171,\n 'Kylie Jenner': 11,\n 'Subhash Chandra Bose': 1221,\n 'Robert H. Jackson': 1,\n 'Jim Horning': 2,\n 'Thomas Aquinas': 16,\n 'Confucius': 22,\n 'Flip Wilson': 20,\n 'Maximilien Robespierre': 1,\n 'Jules de Gaultier': 13,\n 'Jascha Heifetz': 14,\n 'Robert Burns': 7,\n 'Bill Cosby': 25,\n 'Paul Raci': 4,\n 'David Sedaris': 1,\n 'Penélope Cruz': 1255,\n 'Gore Vidal': 1,\n 'Arundhati Roy': 1,\n 'Julia Ward Howe': 1,\n 'Rod Serling': 79,\n 'Jean-Luc Godard': 38,\n 'Jimbo Wales': 1,\n 'Coretta Scott King': 13,\n 'Ateca Ganilau': 7,\n 'Elizabeth I of England': 7,\n 'Bruce Sterling': 1,\n 'Madeleine Stowe': 1,\n 'Ron Karenga': 1,\n 'William Somerset Maugham': 4,\n 'Alberto Giacometti': 2,\n 'Peter Gabriel': 9,\n 'Aneurin Bevan': 9,\n 'Miriam A. Ferguson': 4,\n 'Gerry Spence': 1,\n 'Andrew Jackson': 698,\n 'Dean Koontz': 1,\n 'Chester Bennington': 1,\n 'Edward Young': 1,\n 'Ken Bevel': 6,\n 'John Lehman': 1,\n 'Lech Walesa': 1,\n \"P.J. O'Rourke\": 3,\n 'Julie Christie': 2,\n 'Rosie Perez': 4,\n 'Chester Bowles': 1,\n 'Anthony Quinn': 1,\n 'Rudyard Kipling': 12,\n 'Robert Browning': 67,\n 'Victor Hugo': 64,\n 'Genghis Khan': 3,\n 'Rabindranath Tagore': 4,\n 'Linus Torvalds': 1,\n 'Simon Cowell': 1,\n 'Paul McCartney': 79,\n 'Norman Angell': 1,\n 'William Shakespeare': 1,\n 'Norman Bates': 1,\n 'Alain Badiou': 2,\n 'Stewart Copeland': 1,\n 'Vincent Starrett': 12,\n 'Michael Scott': 1,\n 'Hesiod': 1,\n 'Elizabeth Barrett Browning': 1,\n 'Cato the Elder': 1,\n 'Bjarne Stroustrup': 1,\n 'Maureen Stapleton': 1,\n 'Duke Ellington': 152,\n 'Erich Fromm': 49,\n 'Catalina Sandino Moreno': 1,\n 'Joan Crawford': 1,\n 'Carol Burnett': 1,\n 'Augustine of Hippo': 1,\n 'Harlan Ellison': 1,\n 'Elliott Carter': 1,\n 'William Jennings Bryan': 1,\n 'Bill Hicks': 1,\n 'Harry Reid': 1,\n 'André Malraux': 2,\n 'Stephen Rea': 2,\n 'Madonna Ciccone': 3,\n 'Joseph Brodsky': 1,\n 'Günter Grass': 1835,\n 'Lee Marvin': 1,\n 'Pope Paul VI': 1,\n 'Eileen Heckart': 2,\n 'Simón Bolívar': 1,\n 'Abraham Maslow': 2,\n 'Bill Maher': 1,\n 'Thomas Nash': 27,\n 'James Callaghan': 1,\n 'Reuben Abel': 1,\n 'Isabel Paterson': 1,\n 'Walker Percy': 1,\n 'Neil Armstrong': 1,\n 'Carl Jung': 1,\n 'Eric Gill': 1,\n 'Djimon Hounsou': 1,\n 'Joe Haldeman': 1,\n 'Ron Miller (politician)': 1,\n 'Niels Bohr': 1,\n 'Helen Hunt': 1,\n 'Mel Lastman': 1,\n 'Mercedes McCambridge': 1,\n 'Yehuda Ashlag': 1,\n 'Johnnie Cochran': 1,\n 'Vince McMahon': 2,\n 'George Arliss': 1,\n 'Benito Juárez': 1,\n 'Amory Lovins': 1,\n 'Katharine Hepburn': 325,\n 'Nathaniel Branden': 41,\n 'David Weinberger': 210,\n 'Oliver Goldsmith': 69,\n 'Fred Conlon': 101,\n 'Laurence J. Peter': 148,\n 'Rosaland Russell': 43,\n 'Frank Lloyd Wright': 68,\n 'Kalki Krishnamurthy': 243,\n 'Jennifer Jason Leigh': 209,\n 'Moe, Larry, and Curly ': 360,\n 'Ozzy Osbourne': 14,\n 'Abraham Joshua Heschel': 24,\n 'Grace Slick': 1,\n 'James Howell': 39,\n 'Le Corbusier': 59,\n 'Martin Luther King': 40,\n 'Abigail Breslin': 7,\n 'Lily Tomlin': 68,\n 'Rachel McAdams': 37,\n 'Kevin James': 21,\n 'Larry Wall': 99,\n 'Zora Neale Hurston': 77,\n 'Nick Cohen': 39,\n 'Louis Gossett Jr.': 122,\n 'Colette': 16,\n 'Theodore Sturgeon': 62,\n 'Greer Garson': 27,\n 'Jean Cocteau': 152,\n 'Friedensreich Hundertwasser': 15,\n 'Thomas V. Bartholin': 5,\n 'C. J. Cherryh': 4,\n 'Laura Linney': 3,\n 'Rachel Carson': 39,\n 'Zorba The Greek': 31,\n 'Antonio Machado': 2,\n 'Seymour Cray': 9,\n 'Angelina Jolie': 507,\n 'Paul Dirac': 46,\n 'Meryl Streep': 47,\n 'Richard Hofstadter': 29,\n 'John Keats': 8,\n 'Everett, Carl': 86,\n 'W. H. Auden': 17,\n 'Ingmar Bergman': 10,\n 'J. K. Simmons': 19,\n 'Jake Gyllenhaal': 14,\n 'Charles de Montesquieu': 39,\n 'William Winter': 13,\n 'Menachem Begin': 35,\n 'Ludwig von Mises': 8,\n 'Sam Rockwell': 2,\n 'Jinnah House': 3,\n 'Pramod Rae': 17,\n 'Laura Antoniou': 4,\n 'Anneli Jäätteenmäki': 10,\n 'Robert Duvall': 9,\n 'Horace': 11,\n 'Judith Martin': 3,\n 'Errol Morris': 30,\n 'Ulysses S. Grant': 27,\n 'Chick Corea': 22,\n 'Francis of Assisi': 670,\n 'Roger Williams (theologian)': 18,\n 'Dan Hicks (sportscaster)': 5,\n 'George Orwell': 27,\n 'Edward Lear': 25,\n 'Arthur Miller': 1,\n 'Timothy Hutton': 1,\n 'Franz Kafka': 9,\n 'Sonic the Hedgehog': 3,\n 'Karl Mannheim': 12,\n 'Sidney Poitier': 155,\n 'Jay Leno': 21,\n 'Joseph Heller': 19,\n 'Peter Doherty': 1,\n 'Brie Larson': 2,\n 'Reese Witherspoon': 1,\n 'Friedrich Kellner': 2,\n 'Czar Nicholas II': 10,\n 'Lorenz Hart': 15,\n 'Sri Sri Ravi Shankar': 6,\n 'Mariah Carey': 12,\n 'Rooster Cogburn ': 4,\n 'Johnny Damon': 36,\n 'Simon Schama': 8,\n 'Nigel Hawthorne': 7,\n 'Mark Ruffalo': 6,\n 'Joyce Kilmer': 2,\n 'Burton Rascoe': 1,\n 'Christopher Walken': 14,\n 'Spiro Agnew': 38,\n 'Frank Zappa': 4,\n 'Rodney Dangerfield': 1,\n 'Margaret Thatcher': 2,\n 'Pope Benedict XVI': 4,\n 'Jenny Lewis': 1,\n 'George Soros': 4,\n 'Terry Pratchett': 1,\n 'Salvador Dalí': 12,\n 'Bill Gates': 8,\n 'Thomas Alva Edison': 2,\n 'Aaron Sorkin': 1,\n 'Josefa Iloilo': 1,\n 'Arnold M. Ludwig': 6,\n 'Charles Colson': 1,\n 'Honoré de Balzac': 1,\n 'Norah Jones': 1,\n 'Frank Hague': 3,\n 'Richard Cohen (therapist)': 2,\n 'Ken Olson': 3,\n 'Tevita Momoedonu': 2,\n 'José de San Martín': 1,\n 'Black Elk': 2,\n 'Burl Ives': 1,\n 'Arnold Toynbee': 1,\n 'Kate Nelligan': 3,\n 'Anne Hathaway': 194,\n 'George C. Scott §': 6,\n 'Ralph Fiennes': 3,\n 'Pete Postlethwaite': 1,\n 'Buzz Aldrin': 2,\n 'Paul Newman': 1,\n 'June Squibb': 2,\n 'Juliette Lewis': 1,\n 'Jack La Lanne': 4,\n 'Ronald Colman': 4,\n 'Henry Clay': 1,\n 'Melvyn Douglas': 2,\n 'Mustafa Kemal Atatürk': 42,\n 'Eleanor Farjeon': 1,\n 'Roy Hattersley': 2,\n 'John McCain': 1,\n 'Shigeru Miyamoto': 1,\n 'Tony Halme': 1,\n 'Li Bai': 1,\n 'Michael Palin': 1,\n 'Keisha Castle-Hughes': 1,\n 'James Boswell': 1,\n \"Mo'Nique\": 1,\n 'William Ewart Gladstone': 2,\n 'Carl Becker': 1,\n 'Jack London': 1,\n 'Sharon Tate': 1,\n 'Eden Ahbez': 1048,\n 'Michael Lerner': 135,\n 'Rick Warren': 27,\n 'Joan Rivers': 4546,\n 'Immanuel Kant': 497,\n 'Robert Cecil, 1st Viscount Cecil of Chelwood': 274,\n 'Mahershala Ali': 2,\n 'António Lobo Antunes': 887,\n 'William Thomson': 2426,\n 'Margaret Fuller': 73,\n 'Alan Moore': 118,\n 'Ringo Starr': 27,\n 'Willie Rushton': 3712,\n 'Aaron Copland': 132,\n 'Dorothy Gale': 195,\n 'William Holden': 148,\n 'Georg Friedrich Wilhelm Hegel': 397,\n 'Antoine de Saint-Exupéry': 471,\n \"Bill O'Reilly (commentator)\": 778,\n 'Jules Winfield': 343,\n 'Edward Kennedy': 93,\n 'Coldplay': 427,\n 'Tariq Ali': 33,\n 'Davey Havok': 27,\n 'Naomie Harris': 193,\n 'H. G. Wells': 66,\n 'Christian Wolff': 66,\n 'Sophia Loren': 1646,\n 'Sharon Stone': 434,\n 'Mark Wahlberg': 437,\n 'Colin Chapman': 250,\n 'William Ellery Channing': 43,\n 'Susie Mumpfield': 119,\n 'Alexander Solzhenitsyn': 16,\n 'Jef Raskin': 526,\n 'Philip Johnson': 75,\n 'Katherine Mansfield': 173,\n 'Mary Astor': 127,\n 'Richard Rumbold': 13,\n 'Simon Conway Morris': 492,\n 'John Travolta': 158,\n 'Mohamed ElBaradei': 306,\n 'Thomas Henry Huxley': 232,\n 'Jeremy Collier': 4,\n 'Haley Joel Osment': 150,\n 'Adam Carolla': 205,\n 'Richard Nixon': 26,\n 'Fred Gallagher': 71,\n 'Epicurus': 39,\n 'Emily Dickinson': 25,\n 'Orlando Jones': 37,\n 'William Golding': 51,\n 'Yul Brynner': 66,\n 'Vladimir Putin': 12,\n 'Adam Ferguson': 238,\n 'Patricia Arquette': 99,\n 'Koila Nailatikau': 114,\n 'Dinah Craik': 52,\n 'Ben Jonson': 37,\n 'Thomas Pynchon': 29,\n 'Crowfoot': 13,\n 'Earle Brown': 38,\n 'Ethan Hawke': 600,\n 'Elvis Presley': 24,\n 'Hilary Duff': 26,\n 'Pearl Buck': 53,\n 'Margaret Rutherford': 25,\n 'John H. Martin': 5,\n 'Sarah Churchill, Duchess of Marlborough': 27,\n 'Ignacy Domeyko': 28,\n 'Frances Farmer': 140,\n 'Morihei Ueshiba': 22,\n 'Walt Kelly': 10,\n 'Meister Eckhart': 29,\n 'Horace Greeley': 11,\n 'Elizabeth Brown': 21,\n 'Emile Zola': 8,\n 'Taleb, Nassim Nicholas': 519,\n 'Armin Mueller-Stahl': 11,\n 'Elmore Leonard': 2,\n 'Lois McMaster Bujold': 14,\n 'James Hutton': 1,\n 'Melissa McCarthy': 14,\n 'Scarlett O’Hara': 3,\n 'Irving Caesar': 5,\n 'Mother Teresa': 34,\n 'Paul Martin': 30,\n 'Saul Kripke': 59,\n 'Garrison Keillor': 23,\n 'Maggie Smith': 2,\n 'James Michener': 155,\n 'John Kerry': 16,\n 'Mary Steenburgen': 251,\n 'Michael Laitman': 42,\n 'Katherine Hepburn': 118,\n 'Yitzhak Rabin': 20,\n 'Steven Seagal': 36,\n 'Steven Wright': 8,\n 'Antonio Banderas': 294,\n 'Enrico Fermi': 10,\n 'Reinhold Niebuhr': 57,\n 'Sherman Alexie': 16,\n 'John Adams': 23,\n 'Peter Lynch': 67,\n 'David Bohm': 45,\n 'Margaret Sanger': 26,\n 'Ken Kay': 15,\n 'Amitrajit Raajan': 1,\n 'Ernie Kovacs': 6,\n 'Anne, Princess Royal': 19,\n 'Ron Paul': 20,\n 'Miguel de Cervantes Saavedra': 8,\n 'Isaac Asimov': 1,\n 'Matt Malley': 8,\n 'Rufus Wainwright': 14,\n 'Mataji Nirmala Shrivastava': 11,\n 'L. Ron Hubbard': 42,\n 'Virginia Woolf': 39,\n 'Cuba Gooding Jr.': 18,\n 'Lon Chaney, Sr.': 9,\n 'Don Ameche': 9,\n 'Christian Bale': 7,\n 'Jon Stewart': 11,\n 'Bill Murray': 4,\n 'Graeme Leung': 8,\n 'Louis E. Boone': 8,\n 'Daniel Daly': 16,\n 'Bob Dylan': 11,\n 'Daniel Day-Lewis': 12,\n 'Jean Dujardin': 1,\n 'Pikachu': 11,\n 'Wesley Clark': 1,\n 'Tom Hardy': 3,\n 'Vanessa Redgrave': 6,\n 'Roger Federer': 5,\n 'Jeremy Seabrook': 7,\n 'Paul Wolfowitz': 12,\n 'Cloris Leachman': 6,\n 'Rod Steiger': 84,\n 'Henri Poincaré': 3,\n 'Charles de Gaulle': 4,\n 'Gerard Manley Hopkins': 23,\n 'Emil Jannings': 9,\n 'Lucas Hedges': 4,\n 'L. Frank Baum': 8,\n 'Denis Diderot': 30,\n 'Ludwig Wittgenstein': 7,\n 'Koichi Tohei': 6,\n 'Terry Francona': 13,\n 'Pierre Boutroux': 6,\n 'Sathya Sai Baba': 16,\n 'Al Sharpton': 1,\n 'James I of England': 2,\n 'Heinz Barwich': 4,\n 'Friedrich Gottlieb Klopstock': 3,\n 'Dylan Moran': 10,\n 'Matt Groening': 5,\n 'Judy Davis': 6,\n 'William Lloyd Garrison': 1,\n 'Ramsey Clark': 2,\n 'Phil McGraw': 2,\n 'Penn Jillette': 4,\n 'Sappho': 2,\n 'Anne Conway': 10,\n 'Che Guevara': 4,\n 'Humphrey Bogart': 4,\n 'Henry Wadsworth Longfellow': 12,\n 'Dennis Fakes': 25,\n 'William Tecumseh Sherman': 45,\n 'Edwin W. Edwards': 7,\n 'Roger Knapman': 3,\n 'Joseph Brackett': 4,\n 'Robert McNamara': 6,\n 'William Penn': 11,\n 'Edmund Hillary': 7,\n 'Buckminster Fuller': 11,\n 'Napoleon Hill': 11,\n 'John Maynard Keynes': 7,\n 'Nikita Khrushchev': 2,\n 'Carey Mulligan': 5,\n 'Matthew Henry': 3,\n 'Karl Marx': 4,\n 'George Macdonald': 8,\n 'Cyrano de Bergerac': 1,\n 'Celeste Holm': 4,\n 'Frank A. Clark': 2,\n 'Raymond Blanc': 2,\n 'Edgar Allan Poe': 6,\n 'Germaine Greer': 2,\n 'William McFee': 6,\n 'Ella Wheeler Wilcox': 1,\n 'Sandra Carey': 3,\n 'J. R. R. Tolkien': 1,\n 'Vijay R. Singh': 360,\n 'John Held': 1,\n 'Carson Daly': 1,\n 'Stan Laurel': 1,\n 'Christoph Waltz': 7,\n 'Michael Douglas': 2,\n 'Bill Gothard': 2,\n 'Bernard Baruch': 5,\n 'Teresa Wright': 3,\n 'Orson Scott Card': 4,\n 'Vincent Van Gogh': 16,\n 'Tacitus': 5,\n 'William Rehnquist': 1,\n 'Lewis Carroll': 1,\n 'Baruch Ashlag': 4,\n 'Joe Bob Briggs': 1,\n 'Alton Brown': 6,\n 'Fritiof Nilsson Piraten': 14,\n 'Bob Woodward': 1,\n \"Tatum O'Neal\": 2,\n 'Carlos Castaneda': 4,\n 'Tucker Carlson': 2,\n 'Jean Giraudoux': 1,\n 'Bruce Dern': 4,\n 'Ovini Bokini': 2,\n 'Avril Lavigne': 2,\n 'Jorge Luis Borges': 2,\n 'Linus Pauling': 1,\n 'Nikos Kazantzakis': 312,\n 'Marilyn Monroe': 1,\n 'Richard E. Byrd': 2,\n 'Federico Fellini': 2,\n 'Lord Byron': 10,\n 'Eugene McCarthy': 1,\n 'Ted Kulongoski': 1,\n 'Jerry Lawler': 2,\n 'Douglas Hofstadter': 1,\n 'Richard Feynman': 7,\n 'Henry David Thoreau': 1,\n 'Barbara Hershey': 3,\n 'Lesley Manville': 1,\n 'Warren Beatty': 1,\n 'Lila Kedrova': 1,\n 'Donald Trump': 1,\n 'Ring Lardner': 1,\n 'April Winchell': 1,\n 'Kim Hunter': 1,\n 'Nostradamus': 1,\n 'Dwight D. Eisenhower': 1,\n 'Kenneth Rexroth': 1,\n 'Rush Limbaugh': 10,\n 'Bertolt Brecht': 1,\n 'Ernest Rutherford': 1,\n 'Castro Fidel': 1,\n 'Joni Madraiwiwi': 1,\n 'Erica Jong': 1,\n 'Erma Bombeck': 1,\n 'Mark-Jason Dominus': 1,\n 'William F. Ondrick': 79,\n 'George Reisman': 1,\n 'James Patterson': 1901,\n 'Leone Battista Alberti': 27826,\n 'Jack Welch': 3891,\n 'Martin Amis': 79,\n 'Poseci Bune': 468,\n 'Hari Punja': 34,\n 'Paul Wellstone': 131,\n 'Rebecca Blood': 4310,\n 'Frederick II of Prussia': 474,\n 'Harold Russell': 79,\n 'Tertullian': 71,\n 'Henry James': 2455,\n 'Julio Cortázar': 2580,\n 'Mel Gibson': 13,\n 'John Keel': 29,\n 'Max Sparber': 66,\n 'Steve Jobs': 175,\n 'Johann Wolfgang von Goethe': 31,\n 'Ralph Kramden ': 1699,\n 'Richard Strauss': 148,\n \"Edmond O'Brien\": 1014,\n 'José Martí': 107,\n 'Bradley Cooper': 934,\n 'John Ruskin': 1799,\n 'APJ Abdul Kalam': 20,\n 'Edgard Varese': 97,\n 'Charles Swindoll': 21,\n 'Edsger Dijkstra': 70,\n 'Eli Noam': 37,\n 'Willy Wonka ': 111,\n 'Willa Cather': 304,\n 'Tom Zé': 134,\n 'Eddie Irvine': 29,\n 'Charles McKay': 77,\n 'Marilyn Manson': 24,\n 'George W. Bush': 117,\n 'Marcia Gay Harden': 424,\n 'Joseph Merrick': 11,\n 'Jeff Koons': 6,\n 'Kossuth Lajos': 3113,\n 'Michael Jackson': 74,\n 'Bruce Schneier': 148,\n 'Arnold J. Toynbee': 6,\n 'Susan Ruth Johnson': 112,\n 'Anthony Trollope': 163,\n 'Szent-Györgyi Albert': 1263,\n 'Kenneth Zinck': 74,\n 'Leoš Janácek': 119,\n 'Bob Newhart': 13,\n 'Jimmy Carter': 585,\n 'John Peel': 278,\n 'Jessica Alba': 26,\n 'Zack de la Rocha': 152,\n 'Janet McTeer': 71,\n 'Zhuang Zi': 31,\n 'Sangeeta Niranjan': 95,\n 'Rita Moreno': 47,\n 'Milton Babbitt': 147,\n 'Will Ferrell': 36,\n 'Steve McNair': 100,\n 'Zig Ziglar': 43,\n 'Salma Hayek': 195,\n 'Brad Pitt': 3983,\n 'Josephine Hull': 194,\n 'Julián Hernández': 22,\n 'The Beatles': 64,\n 'Leonardo Chiariglione': 400,\n 'Taylor Swift': 838,\n 'Alexander Hamilton': 21,\n 'Elena Bonner': 64,\n 'Bajnai Gordon': 422,\n ...}"
     },
     "execution_count": 9,
     "metadata": {},
     "output_type": "execute_result"
    }
   ],
   "execution_count": null
  },
  {
   "cell_type": "code",
   "metadata": {
    "cell_id": "00006-439dd2ad-a060-4d81-868c-029c334f1e26",
    "deepnote_cell_type": "code"
   },
   "source": "#2.Jeszk moments\njunius=[]\nfor dic in list_of_dicts_2019:\n    if dic['month']==6:\n        if dic['day']==10:\n            if dic['hour']==14: \n                    junius.append(dic)\ncsoport_junius=[]\nfor dic in junius:\n    if dic['type']=='Subscribe':\n        csoport_junius.append(dic)\nprint(csoport_junius)",
   "outputs": [
    {
     "name": "stdout",
     "output_type": "stream",
     "text": "[{'index': 8756, 'sender_name': 'Superman ', 'timestamp_ms': 1560170562523, 'type': 'Subscribe', 'users': ['Homer Simpson ', 'David Beckham', 'Dwayne Johnson', 'Hevesy György', 'Sandra Bullock', 'Dr. Benkő Tibor', 'Bruce Willis', 'Elton John', 'Fred Flintstone ', 'Jared Leto', 'Kövér László', 'Mario ', 'Boross Péter', 'Kertész Imre', 'The Grinch ', 'Eric Cartman', 'Jennifer Lopez', 'Angelina Jolie', 'George Lucas', 'John Malkovich', 'Szent István', 'Varga Mihály'], 'sticker': None, 'reactions': [], 'thread_path': 814, 'thread_type': 'RegularGroup', 'photos': 0, 'gifs': 0, 'videos': 0, 'content_l': 73, 'datetime': '2019-06-10T14:42:42.523Z', 'year': 2019, 'month': 6, 'day': 10, 'hour': 14, 'minute': 42}]\n"
    }
   ],
   "execution_count": null
  },
  {
   "cell_type": "code",
   "metadata": {
    "cell_id": "00007-8d2a30b0-3492-4d07-a93e-143ee4746f06",
    "deepnote_output_heights": [
     610.984375
    ],
    "deepnote_cell_type": "code"
   },
   "source": "#3.Leghosszabb üzenet\nemberek={}\nfor dic in list_of_dicts_all:\n    if 'sender_name' in dic:\n        emberek[dic['sender_name']]=emberek.get(dic['sender_name'],0)+1\ndict(sorted(emberek.items(), key=lambda item: item[1], reverse = True))\n",
   "outputs": [
    {
     "data": {
      "text/plain": "{'Sandra Bullock': 319897,\n 'Jane Darwell': 31073,\n 'Max Heindel': 29318,\n 'Leone Battista Alberti': 27826,\n 'George E. Bergman': 12603,\n 'William Marcy Tweed': 11532,\n 'Sandra Jordan': 10186,\n 'Dan Owsen': 8566,\n 'Chris Collison': 8182,\n 'William Ralph Inge': 7576,\n 'Kertész Imre': 7484,\n 'Gregory Peck': 6757,\n 'Oláh György': 6475,\n 'Jared Leto': 6469,\n 'King Kong': 6285,\n 'Mahendra Chaudhry': 6165,\n 'Boross Péter': 6076,\n 'Elizabeth Taylor': 4667,\n 'Joan Rivers': 4546,\n 'Rebecca Blood': 4310,\n 'Michael Jordan': 4283,\n 'Cher': 4202,\n 'Fred Hoyle': 4183,\n 'Brad Pitt': 3983,\n 'Jack Welch': 3891,\n 'Linda McQuaig': 3814,\n 'Alexander Pope': 3757,\n 'Willie Rushton': 3712,\n 'Samuel Daniel': 3386,\n 'David Deutsch': 3349,\n 'Ruhollah Khomeini': 3314,\n 'Kossuth Lajos': 3113,\n 'Rollo May': 3066,\n 'Mario ': 2828,\n 'Mariella Frostrup': 2785,\n 'Ed Sheeran': 2668,\n 'Julio Cortázar': 2580,\n 'Edward Norton': 2468,\n 'Henry James': 2455,\n 'William Thomson': 2426,\n 'Leonardo DiCaprio': 2412,\n 'Robert De Niro': 2345,\n 'Clint Eastwood': 2329,\n 'Joaquin Phoenix': 2307,\n 'Varga Mihály': 2268,\n 'Jason Robards': 2251,\n 'Olivia Colman': 2247,\n 'Michael Caine': 2100,\n 'James Patterson': 1901,\n 'Carrie Snow': 1857,\n 'Günter Grass': 1835,\n 'John Ruskin': 1799,\n 'Robert X. Cringely': 1745,\n 'Fred Allen': 1730,\n 'Ralph Kramden ': 1699,\n 'Rogán Antal': 1699,\n 'The Terminator ': 1683,\n 'Sophia Loren': 1646,\n 'Robert Downey Jr.': 1645,\n 'Dwayne Johnson': 1632,\n \"Rosie O'Donnell\": 1602,\n 'Anthony Hopkins': 1562,\n 'Bilbo Baggins': 1536,\n 'Benjamin Spock': 1495,\n 'René Moawad': 1459,\n 'Mel Brooks': 1396,\n 'Kirk Douglas': 1369,\n 'George V of the United Kingdom': 1361,\n 'Mel Blanc': 1356,\n 'Evans': 1346,\n 'Anne Frank': 1346,\n 'dr. Varga Judit': 1319,\n 'Casey Affleck': 1286,\n 'Herbert Stein': 1285,\n 'Arthur Stanley Eddington': 1277,\n 'Szent-Györgyi Albert': 1263,\n 'Penélope Cruz': 1255,\n 'Göncz Árpád': 1253,\n 'Subhash Chandra Bose': 1221,\n 'James Carville': 1219,\n 'Will Rogers': 1202,\n 'Kövér László': 1154,\n 'Poul Schlüter': 1148,\n 'Peter Hain': 1138,\n 'Marie Dressler': 1107,\n 'Steve Purcell': 1100,\n 'Elton John': 1096,\n 'Marcelle Ferron': 1077,\n 'Eden Ahbez': 1048,\n \"Edmond O'Brien\": 1014,\n 'Charles A. Beard': 1001,\n 'Jeremy Renner': 990,\n 'Justin Bieber': 977,\n 'Erzsébet királyné': 976,\n 'Superman ': 972,\n 'Hevesy György': 968,\n 'Dan Brown': 968,\n 'Winona Ryder': 948,\n 'Ric Berger': 940,\n 'Bradley Cooper': 934,\n 'Dr. Benkő Tibor': 933,\n 'Steven Erikson': 912,\n 'Renée Zellweger': 895,\n 'David Strathairn': 894,\n 'António Lobo Antunes': 887,\n 'Clarence Darrow': 849,\n 'Taylor Swift': 838,\n 'Adam Driver': 815,\n 'Dolly Parton': 796,\n 'Holly Hunter': 795,\n 'Hugh Hewitt': 793,\n 'Spice Girls': 789,\n 'David Beckham': 783,\n \"Bill O'Reilly (commentator)\": 778,\n 'Jennifer Lawrence': 774,\n 'Irving Fiske': 763,\n 'Áder János': 762,\n 'George Lucas': 759,\n 'Fred Flintstone ': 751,\n 'Gyurcsány Ferenc': 746,\n 'Chris Cooper': 745,\n 'Shunryu Suzuka': 735,\n 'Chuck Palahniuk': 729,\n 'Gábor Dénes': 715,\n 'Andrew Jackson': 698,\n 'Szent István': 694,\n 'Hans Arp': 692,\n 'Oprah Winfrey': 685,\n 'Francis of Assisi': 670,\n 'Harrison Ford': 667,\n 'Tony Stark (Iron Man) ': 661,\n 'Abba Eban': 660,\n 'Thomas Jefferson': 659,\n 'Aiven Andrians': 643,\n 'Han Solo ': 642,\n 'William H. Macy': 630,\n 'Steven Spielberg': 610,\n 'Christopher Reeve': 606,\n 'Jade Puget': 602,\n 'Ethan Hawke': 600,\n 'Edward Abbey': 593,\n 'Marlon Brando': 589,\n 'Jimmy Carter': 585,\n 'Petőfi Sándor': 585,\n 'Ryan Gosling': 585,\n 'Optimus Prime ': 581,\n 'Geraldine Page': 573,\n 'Mark Twain': 557,\n 'Tommy Lee Jones': 536,\n 'Tony Montana': 532,\n 'Michael Keaton': 528,\n 'Jef Raskin': 526,\n 'Beaumont and Fletcher': 525,\n 'Novák Katalin': 522,\n 'Taleb, Nassim Nicholas': 519,\n 'The Grinch ': 513,\n 'Rami Malek': 508,\n 'Angelina Jolie': 507,\n 'Percy Bysshe Shelley': 499,\n 'Immanuel Kant': 497,\n 'Simon Conway Morris': 492,\n 'Szűrös Mátyás': 488,\n 'Maximilian Schell': 486,\n 'John Braine': 478,\n 'Frederick II of Prussia': 474,\n 'Antoine de Saint-Exupéry': 471,\n 'Poseci Bune': 468,\n 'Richard E. Grant': 460,\n 'Aleksandr Pushkin': 442,\n 'Mark Wahlberg': 437,\n 'Sharon Stone': 434,\n 'Edward de Bono': 433,\n 'Spiderman': 433,\n 'Nicole Kidman': 431,\n 'Coldplay': 427,\n 'Marcia Gay Harden': 424,\n 'Andrew Dickson White': 424,\n 'Ray Romano': 423,\n 'Al Pacino': 423,\n 'Bajnai Gordon': 422,\n 'Omar Bradley': 421,\n 'Alan Wallace': 416,\n 'Vito Corleone ': 412,\n 'Liam Neeson': 410,\n 'Jack Albertson': 409,\n 'Daniel Webster': 403,\n 'Leonardo Chiariglione': 400,\n 'Georg Friedrich Wilhelm Hegel': 397,\n 'Denzel Washington': 393,\n 'Békésy György': 384,\n 'Frank Sinatra': 377,\n 'dr. Orbán Viktor': 373,\n 'Forrest Gump ': 371,\n 'Florence Pugh': 371,\n 'Moe, Larry, and Curly ': 360,\n 'Vijay R. Singh': 360,\n 'Emmanuelle Riva': 354,\n 'Nat King Cole': 354,\n 'Drake': 350,\n 'John Dean': 349,\n 'Eric Cartman': 344,\n 'Jules Winfield': 343,\n 'Kanye West': 334,\n 'Peter Pan ': 331,\n 'Katharine Hepburn': 325,\n 'Wigner Jenő': 325,\n 'Jessica Simpson': 324,\n 'G. Gordon Liddy': 323,\n 'Matolcsy György': 323,\n 'Karl Malden': 322,\n 'Adrien Brody': 322,\n 'Mary McDonnell': 321,\n 'Mira Sorvino': 316,\n 'Katina Paxinou': 315,\n 'Nikos Kazantzakis': 312,\n 'Tristan J. Loo': 307,\n 'Mohamed ElBaradei': 306,\n 'Man With No Name ': 306,\n 'Willa Cather': 304,\n 'Jodie Foster': 303,\n 'Antonio Banderas': 294,\n 'James Bond ': 290,\n 'Garth Brooks': 289,\n 'Bruce Willis': 285,\n 'Pierre Trudeau': 283,\n 'John Peel': 278,\n 'Brian Wilson': 276,\n 'Robert Cecil, 1st Viscount Cecil of Chelwood': 274,\n 'Francis Hutcheson': 272,\n 'John Sedgwick': 268,\n 'Leslie Odom Jr.': 261,\n 'Jamie Foxx': 261,\n 'Zbigniew Herbert': 252,\n 'Mary Steenburgen': 251,\n 'Kevin Spacey': 251,\n 'Colin Chapman': 250,\n 'George E. P. Box': 249,\n 'Matthew McConaughey': 247,\n 'Dr. Frank Crane': 245,\n 'Kalki Krishnamurthy': 243,\n 'Roger D Herzler': 242,\n 'Pet Shop Boys': 241,\n 'Johnny Cash': 240,\n 'Adam Ferguson': 238,\n 'Joel Spolsky': 236,\n 'Julia Roberts': 235,\n 'Thomas Henry Huxley': 232,\n 'James Franco': 232,\n 'Armand Jean du Plessis': 231,\n 'Warner Baxter': 231,\n 'Puskás Ferenc': 227,\n 'Garry Kasparov': 226,\n 'Tom Joad ': 222,\n 'Ferdinand Eisenstein': 222,\n 'Nayla Moawad': 221,\n 'Logan Pearsall Smith': 221,\n 'Dr. Semjén Zsolt': 216,\n 'Charlie Brown ': 216,\n 'Michelle Williams': 213,\n 'Jennifer Aniston': 212,\n 'David Weinberger': 210,\n 'Jennifer Jason Leigh': 209,\n 'Alexander Haig': 208,\n 'Adam Carolla': 205,\n 'Helena Bonham Carter': 202,\n 'Dorothy Gale': 195,\n 'Salma Hayek': 195,\n 'Ron Burgundy': 195,\n 'Anne Hathaway': 194,\n 'Josephine Hull': 194,\n 'Naomie Harris': 193,\n 'U2': 192,\n 'Neymar': 190,\n 'Andrew Garfield': 189,\n 'Ronald McDonald': 184,\n 'Jane Wyman': 180,\n 'Hilaire Belloc': 179,\n 'Elisabeth Shue': 178,\n 'Steve Jobs': 175,\n 'Katherine Mansfield': 173,\n 'Philip Wylie': 171,\n 'Ali ibn Abi Talib': 169,\n 'Dr. Nagy István': 164,\n 'Anthony Trollope': 163,\n 'Paul Scofield': 162,\n 'Charlize Theron': 161,\n 'Lassie ': 160,\n 'Neil Young': 159,\n 'Mary J. Blige': 158,\n 'Frasier Crane ': 158,\n 'John Travolta': 158,\n 'George Santayana': 157,\n 'Sidney Poitier': 155,\n 'James Michener': 155,\n 'John Malkovich': 155,\n 'Duke Ellington': 152,\n 'Jean Cocteau': 152,\n 'Zack de la Rocha': 152,\n 'Haley Joel Osment': 150,\n 'J. L. Austin': 148,\n 'Laurence J. Peter': 148,\n 'William Holden': 148,\n 'Richard Strauss': 148,\n 'Bruce Schneier': 148,\n 'John Burroughs': 148,\n 'Milton Babbitt': 147,\n 'Audrey Hepburn ': 144,\n 'Frances Farmer': 140,\n 'Ambrose Bierce': 139,\n 'James P. Cannon': 139,\n 'Anthony McAuliffe': 139,\n 'Dr. Palkovics László': 139,\n 'Eric Idle': 135,\n 'Michael Lerner': 135,\n 'Richard Bach': 135,\n 'Tom Zé': 134,\n 'Aaron Copland': 132,\n 'Amanda Seyfried': 132,\n 'Paul Wellstone': 131,\n 'Yoda ': 131,\n 'Milton Berle': 130,\n 'Edward Hopper': 130,\n 'Brian Aldiss': 130,\n 'Sacha Guitry': 129,\n 'Charles Spurgeon': 129,\n 'Shrek': 128,\n 'Mary Astor': 127,\n 'Celine Dion': 124,\n 'Cristiano Ronaldo': 124,\n 'Schmitt Pál': 123,\n 'Louis Gossett Jr.': 122,\n 'Stephen Hawking': 120,\n 'Susie Mumpfield': 119,\n 'Leoš Janácek': 119,\n 'Woodrow Wilson': 119,\n 'Robert Benchley': 119,\n 'Alan Moore': 118,\n 'Katherine Hepburn': 118,\n 'Pratap Singh': 118,\n 'Captain America ': 118,\n 'Daniel Kaluuya': 117,\n 'George W. Bush': 117,\n 'Frances Gerety': 116,\n 'Charles Evans Hughes': 116,\n 'Arthur Rimbaud': 115,\n 'Robert Sidney Foster': 114,\n 'Glenn Close': 114,\n 'James Abourezk': 114,\n 'Koila Nailatikau': 114,\n 'Rena Mero': 113,\n 'Susan Ruth Johnson': 112,\n 'Willy Wonka ': 111,\n 'Stephen Leacock': 110,\n 'Semmelweis Ignác Fülöp': 109,\n 'Kamisese Mara': 108,\n 'José Martí': 107,\n 'Gwanghae-gun of Joseon': 107,\n 'André Gide': 104,\n 'William \"Bull\" Halsey': 103,\n 'Darth Vader ': 102,\n 'Fred Conlon': 101,\n 'Steve McNair': 100,\n 'Miyoshi Umeki': 100,\n 'Larry Wall': 99,\n 'Patricia Arquette': 99,\n 'Homer Simpson ': 99,\n 'Edgard Varese': 97,\n 'Kermit the Frog ': 97,\n 'Richard Naidu': 96,\n 'Earl Long': 96,\n \"Sean 'Diddy' Combs\": 95,\n 'Sangeeta Niranjan': 95,\n 'Edward Kennedy': 93,\n 'Lewis Mumford': 92,\n 'Anne Revere': 92,\n 'Carolyn Heilbrun': 92,\n 'Fan Noli': 90,\n 'Philip K. Dick': 90,\n 'Szijjártó Péter': 90,\n 'Jonas Salk': 89,\n 'Anthony Robbins': 88,\n 'Marie Curie': 88,\n 'Hannibal Lector': 87,\n 'Snoop Dogg': 86,\n 'Niles Eldredge': 86,\n 'Everett, Carl': 86,\n 'Michael Franti': 86,\n 'Howard Zinn': 85,\n 'Harry Browne': 85,\n 'Rod Steiger': 84,\n 'Mickey Mouse': 83,\n 'John Holt': 81,\n 'Ralph Waldo Emerson': 80,\n 'Ashley Judd': 80,\n 'Rod Serling': 79,\n 'Paul McCartney': 79,\n 'William F. Ondrick': 79,\n 'Martin Amis': 79,\n 'Harold Russell': 79,\n 'Zane Grey': 78,\n 'Alexander Vasilyevich Suvorov': 78,\n 'Zora Neale Hurston': 77,\n 'Charles McKay': 77,\n 'Jacques Attali': 76,\n 'Philip Johnson': 75,\n 'Matt Damon': 75,\n 'Herskó Ferenc': 75,\n 'Michael Jackson': 74,\n 'Kenneth Zinck': 74,\n 'Takeo Yoshida': 74,\n 'Harvey Keitel': 74,\n 'Anne Bancroft': 73,\n 'Howard Dean': 73,\n 'Socrates': 73,\n 'Margaret Fuller': 73,\n 'Christian Morgenstern': 72,\n 'Roberto Bolano': 71,\n 'Fred Gallagher': 71,\n 'Tertullian': 71,\n 'Janet McTeer': 71,\n 'Katniss Everdeen': 71,\n 'Minnie Driver': 70,\n 'Eugene V. Debs': 70,\n 'Edsger Dijkstra': 70,\n 'Ang Lee': 69,\n 'Oliver Goldsmith': 69,\n 'Donna Reed': 69,\n 'Richard Perle': 68,\n 'Max Payne': 68,\n 'Hermann Goering': 68,\n 'Frank Lloyd Wright': 68,\n 'Lily Tomlin': 68,\n 'Robert Browning': 67,\n 'Peter Lynch': 67,\n 'Brenda Fricker': 67,\n 'J. D. Salinger': 66,\n 'H. G. Wells': 66,\n 'Christian Wolff': 66,\n 'Yul Brynner': 66,\n 'Max Sparber': 66,\n 'Jack Hyles': 66,\n 'James Cagney': 66,\n 'Lala Sukuna': 65,\n 'Heinz Guderian': 64,\n 'Victor Hugo': 64,\n 'The Beatles': 64,\n 'Elena Bonner': 64,\n 'Cate Blanchett': 64,\n 'Britney Spears': 63,\n 'Theodore Sturgeon': 62,\n 'Will Lang Jr.': 62,\n 'Ann Landers': 61,\n 'Paul JJ Payack': 61,\n 'Joshua A. Norton': 60,\n 'Wayne Rosing': 59,\n 'Le Corbusier': 59,\n 'Saul Kripke': 59,\n 'Kate Winslet': 59,\n 'Stevie Nicks': 58,\n 'Steve Martin': 58,\n 'Tarzan': 58,\n 'Ralston Bowles': 58,\n 'Robbie Krieger': 58,\n 'Lu Xun': 57,\n 'Reinhold Niebuhr': 57,\n 'Goku ': 56,\n 'Charles II of England': 56,\n 'Simon Travaglia': 55,\n 'Sam Harris': 55,\n 'H. P. Lovecraft': 54,\n 'Pearl Buck': 53,\n 'Robin Williams': 53,\n 'Roberto Benigni': 53,\n 'Catherine Keener': 53,\n 'Dinah Craik': 52,\n 'William of Occam': 52,\n 'John F. Kennedy': 51,\n 'Colin Powell': 51,\n 'Charles Coburn': 51,\n 'William Golding': 51,\n 'Jane Monheit': 51,\n 'Friedrich von Schiller': 50,\n 'Robert T. Oliver': 50,\n 'John McClane ': 50,\n 'Adolf Hitler': 50,\n 'Dr. Phil McGraw': 50,\n 'James Ah Koy': 49,\n 'Erich Fromm': 49,\n 'Samuel Taylor Coleridge': 49,\n 'Evo Morales': 49,\n 'Anna Nicole Smith': 49,\n 'Ted Williams': 48,\n 'Nicolas Cage': 48,\n 'Horatio Nelson': 48,\n 'Walter Winchell': 48,\n 'Porky Pig ': 47,\n 'Meryl Streep': 47,\n 'Rita Moreno': 47,\n 'Charles Manson': 46,\n 'Joseph Fétis': 46,\n 'Alexander Men': 46,\n 'Jack Kerouac': 46,\n 'Ben Kingsley': 46,\n 'Paul Dirac': 46,\n 'Sean Connery': 46,\n 'O. Henry': 46,\n 'David Byrne': 46,\n 'Sacha Baron Cohen': 45,\n 'Avenue D': 45,\n 'David Bohm': 45,\n 'William Tecumseh Sherman': 45,\n 'Josefa Vosanibola': 45,\n 'Alice Brady': 45,\n 'Gandalf ': 45,\n 'Eugène Delacroix': 44,\n 'Alfred Kinsey': 44,\n 'Rosaland Russell': 43,\n 'William Ellery Channing': 43,\n 'Zig Ziglar': 43,\n 'Camilla Collett': 43,\n 'Mustafa Kemal Atatürk': 42,\n 'Michael Laitman': 42,\n 'L. Ron Hubbard': 42,\n 'Aesop': 42,\n 'Katy Perry': 42,\n 'Rinko Kikuchi': 41,\n 'Laurence Fishburne': 41,\n 'Nathaniel Branden': 41,\n 'Hugh Jackman': 41,\n 'Leo Buscaglia': 40,\n 'Michael Fish': 40,\n 'Martin Luther King': 40,\n 'One Direction': 40,\n 'George Marshall': 40,\n 'E.T. ': 40,\n 'Tyler Shell Young': 40,\n 'Robert M. Pirsig': 39,\n 'James Howell': 39,\n 'Nick Cohen': 39,\n 'Rachel Carson': 39,\n 'Charles de Montesquieu': 39,\n 'Epicurus': 39,\n 'Virginia Woolf': 39,\n 'Wolfgang Amadeus Mozart': 39,\n 'Colin Wilson': 39,\n 'Muhammad': 39,\n 'Anna Letitia Barbauld': 39,\n 'Dan Quayle': 39,\n 'Roger Ebert': 38,\n 'Jean-Luc Godard': 38,\n 'Spiro Agnew': 38,\n 'Earle Brown': 38,\n 'Jerry Siegel': 38,\n 'Richard Halliburton': 38,\n 'A. A. Milne': 38,\n 'Rolim Amaro': 38,\n 'Larry Niven': 37,\n 'Rachel McAdams': 37,\n 'Orlando Jones': 37,\n 'Ben Jonson': 37,\n 'Eli Noam': 37,\n 'Guy Fawkes': 37,\n 'Travis Bickle ': 37,\n 'Haim Ginott': 37,\n 'Robert Fulghum': 37,\n 'Mick Beddoes': 36,\n 'Johnny Damon': 36,\n 'Steven Seagal': 36,\n 'Will Ferrell': 36,\n 'Swami Vivekananda': 36,\n 'Paul Simon': 36,\n 'Emma Thompson': 36,\n 'Algirdas Brazauskas': 35,\n 'Menachem Begin': 35,\n 'Han Shan': 35,\n 'Isabelle Huppert': 35,\n 'U.S. Lieutenant General William Looney': 34,\n 'Milton Friedman': 34,\n 'Mother Teresa': 34,\n 'Hari Punja': 34,\n 'Mary Poppins': 34,\n 'Nigel Rees': 34,\n 'Guy de Maupassant': 34,\n 'Timothée Chalamet': 33,\n 'Mixmaster Morris': 33,\n 'Tariq Ali': 33,\n 'Süli János': 33,\n 'Alec Baldwin': 33,\n 'Peter Guber': 33,\n 'Jesse Lauriston Livermore': 33,\n 'Richard Porson': 33,\n 'Mary McCarthy': 33,\n 'Rick Blaine ': 33,\n 'Floyd Mayweather': 32,\n 'Dr. Dre': 32,\n 'Ernst Kruth': 32,\n 'Miguel Serrano': 32,\n 'Nicholas Negroponte': 32,\n 'Burt Lancaster': 31,\n 'Zorba The Greek': 31,\n 'Johann Wolfgang von Goethe': 31,\n 'Zhuang Zi': 31,\n 'Jonathan Katz': 31,\n 'Antonio Gramsci': 31,\n 'Barry Crimmins': 30,\n 'Errol Morris': 30,\n 'Paul Martin': 30,\n 'Denis Diderot': 30,\n 'Harold II of England': 30,\n 'Thomas Browne': 30,\n 'Douglas Coupland': 30,\n 'Bill Bryson': 30,\n 'Lucy Ricardo ': 29,\n 'John Cheever': 29,\n 'Richard Hofstadter': 29,\n 'Thomas Pynchon': 29,\n 'Meister Eckhart': 29,\n 'John Keel': 29,\n 'Eddie Irvine': 29,\n 'Tim Collins': 29,\n 'Viola Davis': 29,\n 'Alcuin': 29,\n 'Regina King': 29,\n 'Nick Nolte': 29,\n 'U Thant': 29,\n 'John Coltrane': 29,\n 'Peter Corey': 29,\n 'Woody Allen': 29,\n 'Frederic Jueneman': 28,\n 'Charles Darwin': 28,\n 'Ignacy Domeyko': 28,\n 'Joan Didion': 28,\n 'Billy Bob Thornton': 28,\n 'Malcolm X': 28,\n 'Hossein Elahi Ghomshei': 28,\n 'Shirin Ebadi': 28,\n 'Thomas Sowell': 27,\n 'Thomas Nash': 27,\n 'Greer Garson': 27,\n 'Ulysses S. Grant': 27,\n 'George Orwell': 27,\n 'Rick Warren': 27,\n 'Ringo Starr': 27,\n 'Davey Havok': 27,\n 'Sarah Churchill, Duchess of Marlborough': 27,\n 'Imelda Staunton': 27,\n 'Pope Leo X': 27,\n 'Jacques Ninio': 27,\n 'Jay Gatsby ': 27,\n 'Ron Wyden': 27,\n 'Steve Carell': 27,\n 'Natalie Portman': 27,\n 'Heraclitus': 26,\n 'Sallust': 26,\n 'Ammon Hennessey': 26,\n 'Richard Nixon': 26,\n 'Hilary Duff': 26,\n 'Margaret Sanger': 26,\n 'Jessica Alba': 26,\n 'Roman Polański': 26,\n 'Muqtada al-Sadr': 26,\n 'Stanislaw Lem': 26,\n 'Theodore Zeldin': 26,\n 'Tony Buzan': 26,\n 'Bill Cosby': 25,\n 'Edward Lear': 25,\n 'Emily Dickinson': 25,\n 'Margaret Rutherford': 25,\n 'Dennis Fakes': 25,\n 'Theo de Raadt': 25,\n 'William Cullen Bryant': 25,\n 'Lionel Messi': 25,\n 'James Dean': 24,\n 'Dale Dauten': 24,\n 'Sun Tzu': 24,\n 'Abraham Joshua Heschel': 24,\n 'Elvis Presley': 24,\n 'Marilyn Manson': 24,\n 'P. L. Travers': 24,\n 'Halle Berry': 24,\n 'Paul Bowles': 24,\n 'Ernest Hemingway': 24,\n 'Teresa Heinz Kerry': 24,\n 'Ben Affleck': 24,\n 'Paul Lukas': 24,\n 'Alfred Austin': 23,\n 'Garrison Keillor': 23,\n 'John Adams': 23,\n 'Gerard Manley Hopkins': 23,\n 'Michael Johns': 23,\n 'John Lubbock': 23,\n 'Caroline Dhavernas': 23,\n 'Mádl Ferenc': 23,\n 'Conor Oberst': 23,\n 'Steve Ballmer': 23,\n 'Fran Lebowitz': 23,\n 'Timoci Bavadra': 23,\n 'Theodor Adorno': 23,\n 'Octavia Spencer': 22,\n 'Courtney Love': 22,\n 'Bryan Cranston': 22,\n 'Confucius': 22,\n 'Chick Corea': 22,\n 'Morihei Ueshiba': 22,\n 'Julián Hernández': 22,\n 'Emily Watson': 22,\n 'William S. Burroughs': 22,\n 'Hatshepsut': 22,\n 'Jon Snow': 22,\n 'Philip Zimmermann': 22,\n 'George Harrison': 22,\n 'Lillian Hellman': 22,\n 'Albert Camus': 21,\n 'Kevin James': 21,\n 'Jay Leno': 21,\n 'Elizabeth Brown': 21,\n 'Charles Swindoll': 21,\n 'Alexander Hamilton': 21,\n 'Mitch Albom': 21,\n 'A. E. Housman': 21,\n 'Lindsey Graham': 21,\n 'Piet Hein': 21,\n 'Ed Begley': 20,\n 'Andy Grove': 20,\n 'Flip Wilson': 20,\n 'Yitzhak Rabin': 20,\n 'Ron Paul': 20,\n 'APJ Abdul Kalam': 20,\n 'Barry Goldwater': 20,\n 'Edwin Armstrong': 20,\n 'Jane Fonda': 20,\n 'Deborah Bräutigam': 20,\n 'Tim Huelskamp': 20,\n 'Todd Friel': 20,\n 'Donald Rumsfeld': 20,\n 'Eminem/ Dr. Dre': 20,\n 'John Muir': 19,\n 'William Cowper': 19,\n 'J. K. Simmons': 19,\n 'Joseph Heller': 19,\n 'Anne, Princess Royal': 19,\n 'Lindsay Lohan': 19,\n 'Grace Kelly': 19,\n 'Bill Bowerman': 19,\n 'Dean Jagger': 19,\n 'Indiana Jones ': 19,\n 'Lyndon Johnson': 19,\n 'Dr John Arbuthnot': 19,\n 'Alois Hába': 18,\n 'Rachel Weisz': 18,\n 'Tenzin Gyatso': 18,\n 'Roger Williams (theologian)': 18,\n 'Cuba Gooding Jr.': 18,\n 'Henri Matisse': 18,\n 'Ben Johnson': 18,\n 'Carol Moseley Braun': 18,\n 'Gwyneth Paltrow': 18,\n 'Tony Kornheiser': 18,\n 'Emir Kusturica': 17,\n 'Jennifer Tilly': 17,\n 'Julie Brown': 17,\n 'Jean-Jacques Roussequ': 17,\n 'Baltasar Gracián': 17,\n 'W. H. Auden': 17,\n 'Pramod Rae': 17,\n 'Samuel L. Jackson': 17,\n 'Harry Chapin': 17,\n 'Molière': 17,\n 'Khalil Gibran': 17,\n 'Teimumu Kepa': 17,\n 'Isaac Newton': 17,\n 'Jalal al-Din Muhammad Rumi': 17,\n 'Alan Watts': 17,\n 'Christopher Plummer': 17,\n 'Sylvester Stallone': 17,\n 'John Gielgud': 16,\n 'Budd Schulberg': 16,\n 'Thomas Aquinas': 16,\n 'Colette': 16,\n 'Alexander Solzhenitsyn': 16,\n 'John Kerry': 16,\n 'Sherman Alexie': 16,\n 'Daniel Daly': 16,\n 'Sathya Sai Baba': 16,\n 'Vincent Van Gogh': 16,\n 'Viggo Mortensen': 16,\n 'Napoleon Bonaparte': 16,\n 'Rihanna': 16,\n 'Francis Quarles': 16,\n 'Bertrand Russell': 16,\n 'Mickey Rourke': 16,\n 'Chloë Sevigny': 16,\n 'J. McV. Hunt': 15,\n 'Friedensreich Hundertwasser': 15,\n 'Lorenz Hart': 15,\n 'Ken Kay': 15,\n 'Emma Stone': 15,\n 'Margaret Atwood': 15,\n 'Desmond Tutu': 15,\n 'Gabourey Sidibe': 15,\n 'Adele': 15,\n 'Harry Potter ': 15,\n 'John Gay': 14,\n 'Herman Melville': 14,\n 'Tim Moore': 14,\n 'Jascha Heifetz': 14,\n 'Ozzy Osbourne': 14,\n 'Jake Gyllenhaal': 14,\n 'Christopher Walken': 14,\n 'Lois McMaster Bujold': 14,\n 'Melissa McCarthy': 14,\n 'Rufus Wainwright': 14,\n 'Fritiof Nilsson Piraten': 14,\n 'Miyamoto Musashi': 14,\n 'Denise Levertov': 14,\n 'Peter Cain': 14,\n 'Dr. Joyce Brothers': 14,\n 'Henry Adams': 14,\n 'James Woods': 14,\n 'Edith Cavell': 14,\n 'Buffy Summers': 13,\n 'Margaret Mead': 13,\n 'John C. Reilly': 13,\n 'Karl Hess': 13,\n 'Jules de Gaultier': 13,\n 'Coretta Scott King': 13,\n 'William Winter': 13,\n 'Richard Rumbold': 13,\n 'Crowfoot': 13,\n 'Terry Francona': 13,\n 'Mel Gibson': 13,\n 'Bob Newhart': 13,\n 'Philip Seymour Hoffman': 13,\n 'Vannevar Bush': 13,\n 'Geronimo': 13,\n 'Kurt Kawohl': 13,\n 'Jennifer Lopez': 13,\n 'Leopold von Ranke': 13,\n 'Tilda Swinton': 13,\n 'Judge Judy Sheindlin': 13,\n 'Ian McKellen': 13,\n 'John Acton': 13,\n 'Whoopi Goldberg': 13,\n 'Jean de La Bruyère': 12,\n 'Shirley MacLaine': 12,\n 'John Tudor': 12,\n 'Rudyard Kipling': 12,\n 'Vincent Starrett': 12,\n 'Karl Mannheim': 12,\n 'Mariah Carey': 12,\n 'Salvador Dalí': 12,\n 'Vladimir Putin': 12,\n 'Daniel Day-Lewis': 12,\n 'Paul Wolfowitz': 12,\n 'Henry Wadsworth Longfellow': 12,\n 'Muhammad Ali': 12,\n 'Ted Nugent': 12,\n 'Carlos Gardel': 12,\n 'Tom Clancy': 12,\n 'Lech Kaczynski': 12,\n 'George Washington': 12,\n 'John Collins Bossidy': 12,\n 'Marshall McLuhan': 12,\n 'Russell Crowe': 12,\n 'Morris West': 12,\n 'Ken Wilber': 12,\n 'Shirley Jones': 12,\n 'Anatol Holt': 12,\n 'Charles Babbage': 12,\n 'Rosa Luxemburg': 12,\n 'Kevin Smith': 12,\n 'Larry Page': 12,\n 'Kin Hubbard': 11,\n 'Peg Bracken': 11,\n 'Mason Cooley': 11,\n 'Kylie Jenner': 11,\n 'Horace': 11,\n 'Horace Greeley': 11,\n 'Armin Mueller-Stahl': 11,\n 'Mataji Nirmala Shrivastava': 11,\n 'Jon Stewart': 11,\n 'Bob Dylan': 11,\n 'Pikachu': 11,\n 'William Penn': 11,\n 'Buckminster Fuller': 11,\n 'Napoleon Hill': 11,\n 'Joseph Merrick': 11,\n 'Christopher Columbus': 11,\n 'Zach Johnson': 11,\n 'Omar Little': 11,\n 'Kobe Bryant': 11,\n 'Navjot Singh Sidhu': 11,\n 'Thomas Paine': 11,\n 'Juliette Binoche': 11,\n 'Alfred Hitchcock': 11,\n 'Gustave Flaubert': 11,\n 'Laura Dern': 11,\n 'Benjamin Boretz': 11,\n 'Theodore Dreiser': 11,\n 'Frederick Douglass': 11,\n 'Joel Grey': 11,\n 'Henry van Dyke': 11,\n 'Glenn Beck': 11,\n 'John Quincy Adams': 11,\n 'Nathaniel Hawthorne': 11,\n 'Kabir': 10,\n 'Andrei Codrescu': 10,\n 'Mečys Laurinkus': 10,\n 'Ingmar Bergman': 10,\n 'Anneli Jäätteenmäki': 10,\n 'Czar Nicholas II': 10,\n 'Walt Kelly': 10,\n 'Enrico Fermi': 10,\n 'Dylan Moran': 10,\n 'Anne Conway': 10,\n 'Lord Byron': 10,\n 'Rush Limbaugh': 10,\n 'W. C. Handy': 10,\n 'Tony Banks': 10,\n 'Jack Lemmon': 10,\n 'Katherine Kurtz': 10,\n 'Edward VII of Great Britain': 10,\n 'Fiona Apple': 10,\n 'Tina Fey': 10,\n 'Leo Szilard': 10,\n 'Julian Huxley': 10,\n 'Denis Waitley': 10,\n 'Carl R. Day': 10,\n 'James Arthur Ray': 10,\n 'Oliver Wendell Holmes, Jr.': 10,\n 'George H. W. Bush': 10,\n 'Mark Rylance': 10,\n 'John Wayne': 10,\n 'David Ben-Gurion': 10,\n 'Leonard H. Courtney': 9,\n 'Peter Gabriel': 9,\n 'Aneurin Bevan': 9,\n 'Seymour Cray': 9,\n 'Robert Duvall': 9,\n 'Franz Kafka': 9,\n 'Lon Chaney, Sr.': 9,\n 'Don Ameche': 9,\n 'Emil Jannings': 9,\n 'Shirley Booth': 9,\n 'Aleister Crowley': 9,\n 'Joseph Biden': 9,\n 'Winnie-the-Pooh': 9,\n 'Plato': 9,\n 'Thomas R. Marshall': 9,\n 'Amir Butler': 9,\n 'Helen Hayes': 9,\n 'The Eagles': 9,\n 'Brad Delson': 9,\n 'Jean Ingelow': 9,\n 'Madonna': 9,\n 'Julius Caesar': 9,\n 'Harold Warner': 9,\n 'Hunter S. Thompson': 9,\n 'Burt Reynolds': 9,\n 'Max Brand': 9,\n 'Susan B. Anthony': 9,\n 'Elisabeth Kübler-Ross': 8,\n 'Patrick Henry': 8,\n 'James Cameron': 8,\n 'James Coburn': 8,\n 'John Keats': 8,\n 'Ludwig von Mises': 8,\n 'Simon Schama': 8,\n 'Bill Gates': 8,\n 'Emile Zola': 8,\n 'Steven Wright': 8,\n 'Miguel de Cervantes Saavedra': 8,\n 'Matt Malley': 8,\n 'Graeme Leung': 8,\n 'Louis E. Boone': 8,\n 'L. Frank Baum': 8,\n 'George Macdonald': 8,\n 'Václav Havel': 8,\n 'Yuri Gagarin': 8,\n 'Carl Friedrich Gauss': 8,\n 'Peter Finch': 8,\n 'Jack Palance': 8,\n 'Akira Kurosawa': 8,\n 'Jackie DeShannon': 8,\n 'John Houseman': 8,\n 'Kinky Friedman': 8,\n 'Jane Addams': 8,\n 'Jessica Lange': 8,\n 'Matthew Green': 8,\n 'Teresa of Avila': 8,\n 'George Seldes': 8,\n 'Ray Milland': 8,\n 'Rael Dornfest': 8,\n 'Paul Keating': 8,\n 'Elliott Smith': 8,\n 'Ruth Negga': 8,\n 'Keira Knightley': 8,\n 'Robert Kilroy-Silk': 8,\n 'Sir Walter Raleigh': 8,\n 'Horace Mann': 8,\n ...}"
     },
     "execution_count": 10,
     "metadata": {},
     "output_type": "execute_result"
    }
   ],
   "execution_count": null
  },
  {
   "cell_type": "code",
   "metadata": {
    "cell_id": "00008-1165e79e-e215-4a5a-ac63-f96759b95166",
    "deepnote_output_heights": [
     501.0625
    ],
    "deepnote_cell_type": "code"
   },
   "source": "#4.Unsubscribe jeszk\nkilepes=[]\nfor dic in list_of_dicts_all:\n    if dic['type']=='Unsubscribe':\n        if dic['thread_path']==814:\n            kilepes.append(dic)\nkilepes_legtobb={}\nfor dic in kilepes:\n    if 'sender_name' in dic:\n        kilepes_legtobb[dic['sender_name']]=kilepes_legtobb.get(dic['sender_name'],0)+1\ndict(sorted(kilepes_legtobb.items(), key=lambda item: item[1], reverse = True))",
   "outputs": [
    {
     "data": {
      "text/plain": "{'Spiderman': 4,\n 'Scarlett Johansson': 2,\n 'One Direction': 2,\n 'Jennifer Lopez': 2,\n 'Homer Simpson ': 2,\n 'The Rolling Stones': 2,\n 'Lénárd Fülöp': 2,\n 'Britney Spears': 2,\n 'Ronald McDonald': 2,\n 'Ben Affleck': 2,\n 'Sólyom László': 2,\n 'John Malkovich': 2,\n 'Katniss Everdeen': 2,\n 'Kate Winslet': 2,\n 'The Grinch ': 2,\n 'Kobe Bryant': 2,\n 'Angelina Jolie': 2,\n 'Kate Hudson': 2,\n 'Edward Norton': 2,\n 'Nicole Kidman': 2,\n 'Szent István': 2,\n 'Tommy Lee Jones': 2,\n 'Bajnai Gordon': 2,\n 'Indiana Jones ': 2,\n 'Fred Flintstone ': 2,\n 'Robert Downey Jr.': 2}"
     },
     "execution_count": 92,
     "metadata": {},
     "output_type": "execute_result"
    }
   ],
   "execution_count": null
  },
  {
   "cell_type": "code",
   "metadata": {
    "cell_id": "00009-99752afe-acae-44f2-9721-bc7e60155017",
    "deepnote_output_heights": [
     610.984375
    ],
    "deepnote_cell_type": "code"
   },
   "source": "#5.Kép jeszk\njeszk = []\nfor dic in list_of_dicts_all:\n    if dic['thread_path'] == 814:\n        jeszk.append(dic)\nphotos_sent = []\nfor dic in jeszk:\n    if dic['photos'] > 0:\n        photos_sent.append(dic)\nphoto_senders = {}\nfor i in photos_sent:\n    if 'sender_name' in i:\n        photo_senders[i['sender_name']] = photo_senders.get(i['sender_name'], 0) + 1\ndict(sorted(photo_senders.items(), key=lambda item: item[1], reverse = True))",
   "outputs": [
    {
     "data": {
      "text/plain": "{'Szent-Györgyi Albert': 147,\n 'Harrison Ford': 81,\n 'Renée Zellweger': 65,\n 'Kossuth Lajos': 63,\n 'Clint Eastwood': 54,\n 'Rogán Antal': 52,\n 'Brad Pitt': 51,\n 'dr. Varga Judit': 48,\n 'Superman ': 46,\n 'Tony Montana': 46,\n 'Marlon Brando': 46,\n 'Spiderman': 40,\n 'Novák Katalin': 39,\n 'Bajnai Gordon': 35,\n 'Dan Brown': 33,\n 'Ryan Gosling': 32,\n 'Taylor Swift': 32,\n 'James Franco': 32,\n 'Edward Norton': 31,\n 'Michael Jordan': 31,\n 'Boross Péter': 29,\n 'Frank Sinatra': 29,\n 'Dr. Nagy István': 27,\n 'Varga Mihály': 25,\n 'Al Pacino': 24,\n 'Jared Leto': 24,\n 'Anthony Hopkins': 24,\n 'Joaquin Phoenix': 22,\n 'Steven Spielberg': 21,\n 'Kevin Spacey': 20,\n 'Michael Keaton': 18,\n 'James Bond ': 18,\n 'Matthew McConaughey': 18,\n 'Dr. Benkő Tibor': 17,\n 'Penélope Cruz': 17,\n 'Yoda ': 17,\n 'George Lucas': 16,\n 'Elton John': 16,\n 'Casey Affleck': 15,\n 'Tommy Lee Jones': 15,\n 'Hevesy György': 15,\n 'Schmitt Pál': 15,\n 'Matolcsy György': 14,\n 'Tony Stark (Iron Man) ': 14,\n 'The Terminator ': 14,\n 'Békésy György': 14,\n 'Denzel Washington': 14,\n 'Michael Caine': 13,\n 'Winona Ryder': 13,\n 'Puskás Ferenc': 12,\n 'Kanye West': 12,\n 'Man With No Name ': 12,\n 'The Grinch ': 12,\n 'Optimus Prime ': 12,\n 'Liam Neeson': 12,\n 'Erzsébet királyné': 12,\n 'Neymar': 11,\n 'Kertész Imre': 11,\n 'Petőfi Sándor': 10,\n 'Spice Girls': 10,\n 'Jennifer Aniston': 10,\n 'Bradley Cooper': 10,\n 'Göncz Árpád': 9,\n 'Kövér László': 9,\n 'Salma Hayek': 9,\n 'Dr. Semjén Zsolt': 9,\n 'Paul McCartney': 8,\n 'Szűrös Mátyás': 8,\n 'Nicole Kidman': 7,\n 'Mario ': 7,\n 'Willy Wonka ': 7,\n 'Han Solo ': 7,\n 'Dwayne Johnson': 7,\n 'Cristiano Ronaldo': 6,\n 'Gábor Dénes': 6,\n 'Lassie ': 6,\n 'Captain America ': 6,\n 'Katy Perry': 6,\n 'Oláh György': 6,\n 'E.T. ': 5,\n 'Sandra Bullock': 5,\n 'Gyurcsány Ferenc': 5,\n 'Jamie Foxx': 5,\n 'Bruce Willis': 5,\n 'Fred Flintstone ': 5,\n 'Matt Damon': 5,\n 'Shrek': 5,\n 'Angelina Jolie': 4,\n 'Darth Vader ': 4,\n 'Britney Spears': 4,\n 'Barbie': 4,\n 'Bilbo Baggins': 4,\n 'Justin Bieber': 4,\n 'Adam Driver': 4,\n 'The Eagles': 3,\n 'Alec Baldwin': 3,\n 'Katniss Everdeen': 3,\n 'Goku ': 3,\n 'Süli János': 3,\n 'Robert Downey Jr.': 3,\n 'Robert De Niro': 3,\n 'Charlie Brown ': 3,\n 'Drake': 2,\n 'Julia Roberts': 2,\n 'Nicolas Cage': 2,\n 'Sean Connery': 2,\n 'Ben Affleck': 2,\n 'Madonna': 2,\n 'Sharon Stone': 2,\n 'The Beatles': 2,\n 'Eric Cartman': 2,\n 'U2': 2,\n 'Dr. Palkovics László': 2,\n 'Áder János': 2,\n 'Szent István': 2,\n 'Andrew Garfield': 2,\n 'dr. Orbán Viktor': 2,\n 'Gandalf ': 2,\n 'Wigner Jenő': 2,\n 'Harry Potter ': 2,\n 'Semmelweis Ignác Fülöp': 2,\n 'Dr. Dre': 1,\n 'Mickey Mouse': 1,\n 'Kobe Bryant': 1,\n 'Viggo Mortensen': 1,\n 'Ronald McDonald': 1,\n 'Jon Snow': 1,\n 'Kate Winslet': 1,\n 'Hugh Jackman': 1,\n 'Jennifer Lawrence': 1,\n 'Philip Seymour Hoffman': 1,\n 'Vito Corleone ': 1,\n 'Szijjártó Péter': 1,\n 'Harsányi János': 1,\n 'Hannibal Lector': 1}"
     },
     "execution_count": 16,
     "metadata": {},
     "output_type": "execute_result"
    }
   ],
   "execution_count": null
  },
  {
   "cell_type": "code",
   "metadata": {
    "cell_id": "00010-36b8a8f9-cb03-4ec6-aa0c-4c51f182955e",
    "deepnote_cell_type": "code"
   },
   "source": "#6.minden év\nlist_a = []\nfor dic in list_of_dicts_2021:\n    if dic['sender_name']=='Sandra Bullock':\n        list_a.append('yes')\nif 'yes' in list_a:\n    print('yes')\nlist_a = []\nfor dic in list_of_dicts_2011:\n    if dic['sender_name']=='William Ralph Inge':\n        list_a.append('yes')\nif 'yes' in list_a:\n    print('yes')\nelse:\n    print('no')",
   "outputs": [
    {
     "name": "stdout",
     "output_type": "stream",
     "text": "yes\nyes\n"
    }
   ],
   "execution_count": null
  },
  {
   "cell_type": "code",
   "metadata": {
    "cell_id": "00011-8d03f67c-9b12-453b-8466-9c319c3e70dc",
    "deepnote_output_heights": [
     611
    ],
    "deepnote_cell_type": "code"
   },
   "source": "#8\nlist_of_dicts_csoport = list_of_dicts_all\noccurence_name = []\noccurence_path = []\nfor dic in list_of_dicts_csoport:\n    if 'sender_name' in dic:\n        occurence_name.append(dic['sender_name'])\n    if 'thread_path' in dic:\n        occurence_path.append(dic['thread_path'])\noccurence_parok = []\nfor i in range(len(occurence_name)):\n    occurence_parok.append(occurence_name[i] + \"-\" + str(occurence_path[i]))\noccurence_parok_jo = list(set(occurence_parok))\noccurence_nevek = []\nfor i in range(len(occurence_parok_jo)):\n    occurence_nevek.append(occurence_parok_jo[i].split(\"-\")[0])\n[[x,occurence_nevek.count(x)] for x in set(occurence_nevek)]\noccurence_vege = dict((x,occurence_nevek.count(x)) for x in set(occurence_nevek))\ndict(sorted(occurence_vege.items(), key=lambda item: item[1], reverse = True))",
   "outputs": [
    {
     "data": {
      "text/plain": "{'Sandra Bullock': 1412,\n 'William Ralph Inge': 110,\n 'Boross Péter': 59,\n 'Jared Leto': 44,\n 'Kertész Imre': 41,\n 'Brad Pitt': 38,\n 'Michael Jordan': 36,\n 'Varga Mihály': 29,\n 'Michael Caine': 27,\n 'Clint Eastwood': 26,\n 'dr. Varga Judit': 26,\n 'Mario ': 24,\n 'Kossuth Lajos': 24,\n 'Robert Downey Jr.': 24,\n 'Kövér László': 24,\n 'Linda McQuaig': 23,\n 'The Terminator ': 22,\n 'Sandra Jordan': 22,\n 'Anthony Hopkins': 20,\n 'George E. Bergman': 20,\n 'Hevesy György': 20,\n 'Chris Collison': 19,\n 'Joaquin Phoenix': 19,\n 'Edward Norton': 19,\n 'Adam Driver': 19,\n 'Dr. Benkő Tibor': 19,\n 'Winona Ryder': 17,\n 'Gyurcsány Ferenc': 17,\n 'Tommy Lee Jones': 17,\n 'Penélope Cruz': 17,\n 'Nicole Kidman': 17,\n 'Bradley Cooper': 17,\n 'Gábor Dénes': 16,\n 'King Kong': 16,\n 'Poul Schlüter': 16,\n 'Han Solo ': 16,\n 'Justin Bieber': 16,\n 'Holly Hunter': 16,\n 'Rogán Antal': 15,\n 'Man With No Name ': 15,\n 'Erzsébet királyné': 15,\n 'George Lucas': 15,\n 'Eric Cartman': 15,\n 'Szent': 15,\n 'Bilbo Baggins': 15,\n 'Jane Darwell': 14,\n 'Evans': 14,\n 'dr. Orbán Viktor': 14,\n 'Alexander Pope': 14,\n 'Carrie Snow': 14,\n 'Göncz Árpád': 14,\n 'Puskás Ferenc': 13,\n 'Mel Brooks': 13,\n 'Bruce Willis': 13,\n 'Jack Welch': 13,\n 'Casey Affleck': 13,\n 'Marcia Gay Harden': 13,\n 'Renée Zellweger': 13,\n 'Liam Neeson': 13,\n 'Al Pacino': 13,\n 'Taylor Swift': 12,\n 'Elton John': 12,\n 'Jennifer Lawrence': 12,\n 'Ruhollah Khomeini': 12,\n 'Rebecca Blood': 12,\n 'Novák Katalin': 12,\n 'Cher': 12,\n 'Edward Abbey': 12,\n 'Fred Flintstone ': 12,\n 'Charlie Brown ': 12,\n 'David Beckham': 11,\n 'Szent István': 11,\n 'Denzel Washington': 11,\n 'Petőfi Sándor': 11,\n 'Dwayne Johnson': 11,\n 'Bajnai Gordon': 11,\n 'Vito Corleone ': 11,\n 'Drake': 11,\n 'Ed Sheeran': 11,\n 'H. P. Lovecraft': 11,\n \"Bill O'Reilly (commentator)\": 11,\n 'Arthur Stanley Eddington': 11,\n 'Mahendra Chaudhry': 10,\n 'Matthew McConaughey': 10,\n 'David Strathairn': 10,\n 'Szűrös Mátyás': 10,\n 'James Franco': 10,\n 'Superman ': 10,\n 'Ralph Kramden ': 10,\n 'Tony Stark (Iron Man) ': 10,\n 'U2': 10,\n 'Beaumont and Fletcher': 9,\n 'Mariella Frostrup': 9,\n 'Rami Malek': 9,\n 'Békésy György': 9,\n 'Alexander Vasilyevich Suvorov': 9,\n 'Captain America ': 9,\n 'Frederick II of Prussia': 9,\n 'Goku ': 9,\n 'George V of the United Kingdom': 9,\n 'Willy Wonka ': 9,\n 'Andrew Jackson': 9,\n 'Matolcsy György': 9,\n 'Dr. Palkovics László': 9,\n 'Michael Keaton': 9,\n 'Fred Allen': 9,\n 'John Dean': 9,\n 'Spice Girls': 9,\n 'John Malkovich': 9,\n 'Irving Fiske': 8,\n 'Steven Spielberg': 8,\n 'Robert De Niro': 8,\n 'Angelina Jolie': 8,\n 'James Bond ': 8,\n 'Clarence Darrow': 8,\n 'Mel Gibson': 8,\n 'Rod Steiger': 8,\n 'Marcelle Ferron': 8,\n 'António Lobo Antunes': 8,\n 'Optimus Prime ': 8,\n 'Samuel Taylor Coleridge': 8,\n 'Ryan Gosling': 8,\n 'Charles A. Beard': 8,\n 'Mark Wahlberg': 8,\n 'Julia Roberts': 8,\n 'Anne Hathaway': 8,\n 'Wigner Jenő': 7,\n 'Dr. Semjén Zsolt': 7,\n 'Oláh György': 7,\n 'Marlon Brando': 7,\n 'Andrew Garfield': 7,\n 'Audrey Hepburn ': 7,\n 'Julio Cortázar': 7,\n 'Neymar': 7,\n 'Hannibal Lector': 7,\n 'Tony Montana': 7,\n 'Philip K. Dick': 7,\n 'Thomas Henry Huxley': 7,\n 'Gregory Peck': 7,\n 'Ben Johnson': 7,\n 'Colin Chapman': 7,\n 'Lassie ': 7,\n 'Paul Lukas': 7,\n 'Jacques Attali': 7,\n 'Dr. Nagy István': 7,\n 'Shrek': 7,\n 'Harrison Ford': 7,\n 'Timothée Chalamet': 6,\n 'William Tecumseh Sherman': 6,\n 'Ann Landers': 6,\n 'Jamie Foxx': 6,\n 'Frances Gerety': 6,\n 'Yoda ': 6,\n 'Schmitt Pál': 6,\n 'Christopher Reeve': 6,\n 'Salma Hayek': 6,\n 'Edward Hopper': 6,\n 'Jennifer Aniston': 6,\n 'Kirk Douglas': 6,\n 'Ethan Hawke': 6,\n 'Elizabeth Taylor': 6,\n 'Taleb, Nassim Nicholas': 6,\n 'Forrest Gump ': 6,\n 'Frank Sinatra': 6,\n 'William Marcy Tweed': 6,\n 'Eric Idle': 6,\n 'René Moawad': 6,\n 'Anne Frank': 6,\n 'Max Heindel': 6,\n 'Anne Bancroft': 6,\n 'Dan Brown': 6,\n 'James Patterson': 6,\n 'Marie Dressler': 6,\n 'Larry Wall': 6,\n 'Moe, Larry, and Curly ': 6,\n 'Steve Purcell': 6,\n 'Dr. Frank Crane': 6,\n 'David Weinberger': 6,\n 'Leone Battista Alberti': 6,\n 'Mohamed ElBaradei': 6,\n \"Rosie O'Donnell\": 6,\n 'Yul Brynner': 6,\n 'James Michener': 5,\n 'Áder János': 5,\n 'Homer Simpson ': 5,\n 'Shirley Booth': 5,\n 'Jacques Ninio': 5,\n 'Dorothy Gale': 5,\n 'Will Ferrell': 5,\n 'Carl Friedrich Gauss': 5,\n 'John Peel': 5,\n 'Jonas Salk': 5,\n 'Hugh Jackman': 5,\n 'Kanye West': 5,\n 'Alan Moore': 5,\n 'Katniss Everdeen': 5,\n 'James Abourezk': 5,\n 'Woodrow Wilson': 5,\n 'Sharon Stone': 5,\n 'Rush Limbaugh': 5,\n 'James P. Cannon': 5,\n 'Edwin Armstrong': 5,\n 'Garth Brooks': 5,\n 'Alan Watts': 5,\n 'Francis of Assisi': 5,\n 'Avenue D': 5,\n 'Aiven Andrians': 5,\n 'John F. Kennedy': 5,\n 'Darth Vader ': 5,\n 'Subhash Chandra Bose': 5,\n 'Georg Friedrich Wilhelm Hegel': 5,\n 'William of Occam': 5,\n 'Adele': 5,\n 'Rod Serling': 5,\n 'Howard Zinn': 4,\n 'Charles McKay': 4,\n 'O. Henry': 4,\n 'Harry Chapin': 4,\n 'Plato': 4,\n 'Jessica Alba': 4,\n 'Frasier Crane ': 4,\n 'Christopher Columbus': 4,\n 'Chuck Palahniuk': 4,\n 'Olivia Colman': 4,\n 'The Grinch ': 4,\n 'Paul Bowles': 4,\n 'Charlize Theron': 4,\n 'Gandalf ': 4,\n 'Semmelweis Ignác Fülöp': 4,\n 'Carlos Gardel': 4,\n 'Tarzan': 4,\n 'Henry James': 4,\n 'Daniel Kaluuya': 4,\n 'Jay Leno': 4,\n 'Adam Ferguson': 4,\n 'George Santayana': 4,\n 'Armand Jean du Plessis': 4,\n 'Nicolas Cage': 4,\n 'Victor Hugo': 4,\n 'George E. P. Box': 4,\n 'Dan Owsen': 4,\n 'Mickey Mouse': 4,\n 'Eugène Delacroix': 4,\n 'Natalie Portman': 4,\n 'Hans Arp': 4,\n 'Paul McCartney': 4,\n 'Logan Pearsall Smith': 4,\n 'Katherine Mansfield': 4,\n 'Szijjártó Péter': 4,\n 'Samuel Daniel': 4,\n 'Leonardo DiCaprio': 4,\n 'Jean': 4,\n 'Matt Damon': 4,\n 'Sidney Poitier': 4,\n '50 Cent': 4,\n 'The Beatles': 4,\n 'Charles Manson': 4,\n 'Robert X. Cringely': 4,\n 'Duke Ellington': 4,\n 'Johann Wolfgang von Goethe': 4,\n 'Joshua A. Norton': 4,\n 'Emily Watson': 4,\n 'Fred Gallagher': 4,\n 'Janet McTeer': 4,\n 'Yuri Gagarin': 4,\n 'Susie Mumpfield': 4,\n 'Robin Williams': 4,\n 'Ray Romano': 4,\n 'Kate Winslet': 4,\n 'Francis Parker Yockey': 4,\n 'José Martí': 3,\n 'Muhammad': 3,\n 'Spiderman': 3,\n 'Vincent Van Gogh': 3,\n 'Patricia Arquette': 3,\n 'Jean Cocteau': 3,\n 'James Carville': 3,\n 'William H. Macy': 3,\n \"Edmond O'Brien\": 3,\n 'Michael Fish': 3,\n 'Leopold von Ranke': 3,\n 'Kin Hubbard': 3,\n 'Carol Moseley Braun': 3,\n 'Roberto Benigni': 3,\n 'Earl Long': 3,\n 'Geraldine Page': 3,\n 'Zack de la Rocha': 3,\n 'Napoleon Bonaparte': 3,\n 'Amanda Seyfried': 3,\n 'Garry Kasparov': 3,\n 'Bertrand Russell': 3,\n 'Tilda Swinton': 3,\n 'Lionel Messi': 3,\n 'Peter Hain': 3,\n 'Günter Grass': 3,\n 'James Ah Koy': 3,\n 'Maximilian Schell': 3,\n 'Simon Conway Morris': 3,\n 'Antonio Gramsci': 3,\n 'Aneurin Bevan': 3,\n 'Paul Wellstone': 3,\n 'Philip Seymour Hoffman': 3,\n 'Fred Hoyle': 3,\n 'Eugene V. Debs': 3,\n 'Brian Wilson': 3,\n 'Desmond Tutu': 3,\n 'Mádl Ferenc': 3,\n 'Sophia Loren': 3,\n 'William Thomson': 3,\n 'Max Sparber': 3,\n 'Jeff Koons': 3,\n 'James Howell': 3,\n 'Edward Kennedy': 3,\n 'Mészáros Lőrinc ': 3,\n 'Gwanghae': 3,\n 'Dale Dauten': 3,\n 'Hugh Hewitt': 3,\n 'Britney Spears': 3,\n 'Jennifer Lopez': 3,\n 'Hilaire Belloc': 3,\n 'Michael Jackson': 3,\n 'Roman Polański': 3,\n 'Jason Robards': 3,\n 'Henri Matisse': 3,\n 'Sallust': 3,\n 'Thomas Babington Macaulay, 1st Baron Macaulay': 3,\n 'David Deutsch': 3,\n 'Robert Cecil, 1st Viscount Cecil of Chelwood': 3,\n 'Oprah Winfrey': 3,\n 'Frank Zappa': 3,\n 'Dean Jagger': 3,\n 'Minnie Driver': 3,\n 'William S. Burroughs': 3,\n 'Leslie Odom Jr.': 3,\n 'Alfred Hitchcock': 3,\n 'Miyoshi Umeki': 3,\n 'Joseph Fétis': 3,\n 'Rosa Luxemburg': 3,\n 'James Woods': 3,\n 'Spiro Agnew': 3,\n 'Sylvester Stallone': 3,\n 'Thomas Nash': 3,\n 'Glenn Close': 3,\n 'Kurt Kawohl': 3,\n 'Jimmy Carter': 3,\n 'Ronald McDonald': 3,\n 'Tim Huelskamp': 3,\n 'Robert Fulghum': 3,\n 'Anthony McAuliffe': 3,\n 'Dolly Parton': 3,\n 'E.T. ': 3,\n 'Peter Corey': 3,\n 'Cuba Gooding Jr.': 3,\n 'Katina Paxinou': 3,\n 'Bryan Cranston': 3,\n 'Robert Burns': 3,\n 'Cristiano Ronaldo': 3,\n 'John Chrysostom': 3,\n 'Ric Berger': 2,\n 'The Joker ': 2,\n 'John Sedgwick': 2,\n 'John Collins Bossidy': 2,\n 'Christopher Walken': 2,\n 'Guy Fawkes': 2,\n 'Lawrence Lessig': 2,\n 'Steve Jobs': 2,\n 'Robbie Krieger': 2,\n 'Socrates': 2,\n 'Tom Hanks': 2,\n 'William \"Bull\" Halsey': 2,\n 'Jesse Lauriston Livermore': 2,\n 'George W. Bush': 2,\n 'Colin Powell': 2,\n 'Gary Gygax': 2,\n 'William Cullen Bryant': 2,\n 'Jay Gatsby ': 2,\n 'Sacha Guitry': 2,\n 'Andrew Carnegie': 2,\n 'Kermit the Frog ': 2,\n 'Pikachu': 2,\n 'Hank Aaron': 2,\n 'Joseph McCarthy': 2,\n 'Jennifer Tilly': 2,\n 'John Heywood': 2,\n 'Harry Potter ': 2,\n 'Harold Russell': 2,\n 'Munshi Premchand': 2,\n 'Jon Stewart': 2,\n 'Sean Connery': 2,\n 'Steve McNair': 2,\n 'David Gergen': 2,\n 'Caroline Dhavernas': 2,\n 'Earle Brown': 2,\n 'John D. Rockefeller': 2,\n 'Peter Fonda': 2,\n 'Charles Swindoll': 2,\n 'Epicurus': 2,\n 'G. Gordon Liddy': 2,\n 'Nicholas Negroponte': 2,\n 'Elisabeth Shue': 2,\n 'Antoine de Saint': 2,\n 'Jascha Heifetz': 2,\n 'Bruce Dern': 2,\n 'Steven Yeun': 2,\n 'Grace Kelly': 2,\n 'Peter Ustinov': 2,\n 'David Baddiel': 2,\n 'Will Rogers': 2,\n 'Barkhad Abdi': 2,\n 'Andrew Dickson White': 2,\n 'Dinah Craik': 2,\n 'Alec Baldwin': 2,\n 'Corvin Mátyás': 2,\n 'Michael Laitman': 2,\n 'One Direction': 2,\n 'Paul JJ Payack': 2,\n 'Jonathan Katz': 2,\n 'Ernest Hemingway': 2,\n 'John Kerry': 2,\n 'Katy Perry': 2,\n 'Marisa Tomei': 2,\n 'Philip Wylie': 2,\n 'Adolf Hitler': 2,\n 'Gerard Manley Hopkins': 2,\n 'Walter M. Miller, Jr.': 2,\n 'Eddie Irvine': 2,\n 'Alfred Austin': 2,\n 'Doris Lessing': 2,\n 'Nicholas Kurti': 2,\n 'Daniel Webster': 2,\n 'Simon Travaglia': 2,\n 'John Wayne': 2,\n 'Kevin James': 2,\n 'Vijay R. Singh': 2,\n 'Bill Bowerman': 2,\n 'Richard Nixon': 2,\n 'Edward de Bono': 2,\n 'Viggo Mortensen': 2,\n 'Mustafa Kemal Atatürk': 2,\n 'Ron Reagan': 2,\n 'Winnie': 2,\n 'Robert Roy MacGregor': 2,\n 'Sam Harris': 2,\n 'Oliver Wendell Holmes, Jr.': 2,\n 'Johnny Damon': 2,\n 'Glenn Beck': 2,\n 'Charles Evans Hughes': 2,\n 'Jennifer Jason Leigh': 2,\n 'Christian Bale': 2,\n 'Richard Davisson': 2,\n 'Jack Kerouac': 2,\n 'Kevin Spacey': 2,\n 'Coldplay': 2,\n 'Mixmaster Morris': 2,\n 'Snoop Dogg': 2,\n 'Thomas Jefferson': 2,\n 'Rollo May': 2,\n 'Josephine Hull': 2,\n 'Conor Oberst': 2,\n 'Stevie Nicks': 2,\n 'Denis Waitley': 2,\n 'John Calvin': 2,\n 'Lindsay Lohan': 2,\n 'William Saroyan': 2,\n 'Edgard Varese': 2,\n 'Madonna Ciccone': 2,\n 'Denis Diderot': 2,\n 'Robert Browning': 2,\n 'Harsányi János': 2,\n 'William Hurt': 2,\n 'Roy O. Disney': 2,\n 'Tom Wilkinson': 2,\n 'Richard Rumbold': 2,\n 'Malcolm X': 2,\n 'Lénárd Fülöp': 2,\n 'Michael Lerner': 2,\n 'Susan Ruth Johnson': 2,\n 'Peter Pan ': 2,\n 'H. G. Wells': 2,\n 'Alan Arkin': 2,\n 'Dave Barry': 2,\n 'Ray Milland': 2,\n 'Kalki Krishnamurthy': 2,\n 'Fred Rogers': 2,\n 'Mary Steenburgen': 2,\n 'Steve Martin': 2,\n 'Rihanna': 2,\n 'Tenzin Gyatso': 2,\n 'John Cheever': 2,\n 'Nigel Hawthorne': 2,\n 'T. S. Eliot': 2,\n 'Ben Affleck': 2,\n 'Rick Warren': 2,\n 'Kobe Bryant': 2,\n 'Richard Naidu': 2,\n 'Jodie Foster': 2,\n 'Robert M. Pirsig': 2,\n 'Tom Joad ': 2,\n 'Soong May': 2,\n 'Yann Martell': 2,\n 'Joan Rivers': 2,\n 'Brad Delson': 2,\n 'Ashley Judd': 2,\n 'Ignacy Domeyko': 2,\n 'Thomas Aquinas': 2,\n 'Thomas More': 2,\n 'Morihei Ueshiba': 2,\n 'George Fox': 2,\n 'Colin Wilson': 2,\n 'Larry Flynt': 2,\n 'Barbara Hershey': 2,\n 'Leonardo Chiariglione': 2,\n 'Robert G. Ingersoll': 2,\n 'Gene Hackman': 2,\n 'Sólyom László': 2,\n 'Imelda Staunton': 2,\n 'Homer': 2,\n 'Louis Gossett Jr.': 2,\n 'Tertullian': 2,\n 'Meister Eckhart': 2,\n 'Flip Wilson': 2,\n 'Tony Banks': 2,\n 'Ralph Waldo Emerson': 2,\n 'Charles Spurgeon': 2,\n 'Scarlett Johansson': 2,\n 'Poseci Bune': 2,\n 'Patricia Neal': 2,\n 'Annie Dillard': 2,\n 'Samuel L. Jackson': 2,\n 'Ambrose Bierce': 2,\n 'Peter Gabriel': 2,\n 'Ken Wilber': 2,\n 'The Police': 2,\n 'Francis Bacon': 2,\n 'Josefa Vosanibola': 2,\n 'Swami Vivekananda': 2,\n 'Solange Gemayel': 2,\n 'Antonio Gaudi': 2,\n 'Dr. Dre': 2,\n 'Tom Clancy': 2,\n 'Aleksandr Pushkin': 2,\n 'Jack Lemmon': 2,\n 'Ulysses S. Grant': 2,\n 'Mariah Carey': 2,\n 'Nayla Moawad': 2,\n 'Yitzhak Rabin': 2,\n 'Heraclitus': 2,\n 'John Quincy Adams': 2,\n 'Neil Young': 2,\n 'Alan Wallace': 2,\n 'Heinz Guderian': 2,\n 'Elizabeth Brown': 2,\n 'Erich Fromm': 2,\n 'Julius Caesar': 2,\n 'Eileen Heckart': 2,\n 'Lewis Mumford': 2,\n 'Ang Lee': 2,\n 'Adrien Brody': 2,\n 'Rena Mero': 2,\n 'Alexander Haig': 2,\n 'Louis de Saint': 2,\n 'John Coltrane': 2,\n 'Teresa Wright': 2,\n 'Hamid Karzai': 2,\n 'Nigel Rees': 2,\n 'Willie Rushton': 2,\n 'Roger Federer': 2,\n 'George Marshall': 2,\n 'Bruce Schneier': 2,\n 'John McClane ': 2,\n 'Emma Thompson': 2,\n 'Robert Benchley': 2,\n 'Jack Albertson': 2,\n 'Stephen Crane': 2,\n 'Jane Monheit': 2,\n 'Andy Grove': 2,\n 'Karl Hess': 2,\n 'Halle Berry': 2,\n 'George Orwell': 2,\n 'A. A. Milne': 2,\n 'Kenneth Zinck': 2,\n 'Louis E. Boone': 2,\n 'L. Ron Hubbard': 2,\n 'Thomas Sowell': 2,\n 'Daniel Day': 2,\n 'Rex Stout': 2,\n 'Helen Hayes': 2,\n 'Zbigniew Herbert': 2,\n 'Koichi Tohei': 2,\n 'Richard Strauss': 2,\n 'Dr John Arbuthnot': 2,\n 'Mother Teresa': 2,\n 'Floyd Mayweather Jr.': 2,\n 'Omar Bradley': 2,\n 'Black Elk': 2,\n 'Lu Xun': 2,\n 'Paul Keating': 2,\n 'Anne Revere': 2,\n 'Theodore Sturgeon': 2,\n 'Kylie Jenner': 2,\n 'Donald Trump': 1,\n 'Virginia Madsen': 1,\n 'Elizabeth II': 1,\n 'Joseph Roux': 1,\n 'Johnny Cash': 1,\n 'Genghis Khan': 1,\n 'Jean Ingelow': 1,\n 'Nathaniel Hawthorne': 1,\n 'Ben Jonson': 1,\n 'Don Cheadle': 1,\n 'Charles Foster Kane': 1,\n 'Charles Colson': 1,\n 'Errol Morris': 1,\n 'Davy Crockett': 1,\n 'Alberto Giacometti': 1,\n 'Dorothy Malone': 1,\n 'Albert Einstein': 1,\n 'Vannevar Bush': 1,\n 'Nikola Tesla': 1,\n 'Robert Byrne': 1,\n 'La Rochefoucauld': 1,\n 'William Ewart Gladstone': 1,\n 'Lord Byron': 1,\n 'Frank Biondo': 1,\n 'Elagabalus': 1,\n 'Javier Bardem': 1,\n 'Sharon Tate': 1,\n 'G. I. Gurdjieff': 1,\n 'Alex Haley': 1,\n 'Eleanor Farjeon': 1,\n 'Kevin Smith': 1,\n 'The Dude ': 1,\n 'Pierre Trudeau': 1,\n 'J. K. Simmons': 1,\n 'Wayne Rosing': 1,\n 'Charlton Heston': 1,\n 'Thomas R. Marshall': 1,\n 'Asenaca Caucau': 1,\n 'Van Heflin': 1,\n 'Guglielmo Marconi': 1,\n 'Daniel J. Boorstin': 1,\n 'Rufus Wainwright': 1,\n 'Peg Bracken': 1,\n 'June Squibb': 1,\n 'Karl Mannheim': 1,\n 'Omar Little': 1,\n 'Benjamin Boretz': 1,\n 'Susan McClary': 1,\n 'Forest Whitaker': 1,\n 'Oliver Goldsmith': 1,\n 'John Mortimer': 1,\n 'Georges Braque': 1,\n 'Algirdas Brazauskas': 1,\n 'Thomas Hobbes': 1,\n 'John H. Martin': 1,\n 'Jim Hightower': 1,\n 'Buster Keaton': 1,\n 'Miguel de Cervantes Saavedra': 1,\n 'Ayn Rand': 1,\n 'Paul Martin': 1,\n 'Daniel Burnham': 1,\n 'Julia Cameron': 1,\n 'Paul Valéry': 1,\n 'Goldie Hawn': 1,\n 'Mark Twain': 1,\n 'Dr. Joyce Brothers': 1,\n 'Hailey Anne Nelson': 1,\n 'Galileo Galilei': 1,\n 'Ed Begley': 1,\n 'Phil Esposito': 1,\n 'Barry Sheck': 1,\n 'Alfred Jarry': 1,\n 'Rita Moreno': 1,\n 'Camilla Collett': 1,\n 'Emir Kusturica': 1,\n 'Porky Pig ': 1,\n 'Sathya Sai Baba': 1,\n 'Graeme Leung': 1,\n 'Gerald Durrell': 1,\n 'Luis Buñuel': 1,\n 'Arnold M. Ludwig': 1,\n 'Frances McDormand': 1,\n 'Vincent Gallo': 1,\n 'André Bazin': 1,\n 'Nipsey Russell': 1,\n 'Massimo Troisi': 1,\n 'Jim Crace': 1,\n 'James Dean': 1,\n 'Lakeith Stanfield': 1,\n 'Howard Stern': 1,\n 'Andy Goldsworthy': 1,\n 'Juvenal': 1,\n 'Kate Bush': 1,\n 'John Mills': 1,\n 'Muhammed Saeed al': 1,\n 'Ray Charles': 1,\n 'Tevita Momoedonu': 1,\n 'Ruth Negga': 1,\n 'Philip Johnson': 1,\n 'Werner Heisenberg': 1,\n 'Madeleine Stowe': 1,\n 'Frank Abagnale': 1,\n 'Samuel Butler (1835': 1,\n 'Joe Bob Briggs': 1,\n 'Lucius Cornelius Sulla': 1,\n 'Knute Rockne': 1,\n 'Werner Herzog': 1,\n 'Eduard Shevardnadze': 1,\n 'Brett Favre': 1,\n 'Allison Janney': 1,\n 'Hesiod': 1,\n 'Ted Williams': 1,\n 'Thomas Haden Church': 1,\n 'John Braine': 1,\n 'Peter Kay': 1,\n 'Ron Karenga': 1,\n 'Constantine Maroulis': 1,\n 'Rosamund Pike': 1,\n 'Melvyn Douglas': 1,\n 'Newton N. Minow': 1,\n 'Ellen Goodman': 1,\n 'Federico Fellini': 1,\n 'Paul Wolfowitz': 1,\n 'Booker T. Washington': 1,\n 'Barack Obama': 1,\n 'Friedrich Kellner': 1,\n 'Simone Weil': 1,\n 'Lucy Ricardo ': 1,\n 'Buffy Summers': 1,\n 'Gwyneth Paltrow': 1,\n 'Peter Benenson': 1,\n 'Kiefer Sutherland': 1,\n 'Deborah Bräutigam': 1,\n 'Budd Schulberg': 1,\n 'Raymond Blanc': 1,\n 'Pyotr Ilyich Tchaikovsky': 1,\n 'Elizabeth I of England': 1,\n 'Robert H. Jackson': 1,\n 'Sangeeta Niranjan': 1,\n 'Jimi Hendrix': 1,\n 'Ellen Burstyn': 1,\n 'Richard Jenkins': 1,\n 'David Ortiz': 1,\n 'Epeli Ganilau': 1,\n 'Mel Lastman': 1,\n 'Judy Garland': 1,\n 'Teresa Nielsen Hayden': 1,\n 'Tommy Franks': 1,\n 'Amory Lovins': 1,\n 'Indiana Jones ': 1,\n 'Pratap Singh': 1,\n 'Cate Blanchett': 1,\n 'John Houseman': 1,\n 'Agnes Allen': 1,\n 'Samuel Goldwyn': 1,\n 'Max Payne': 1,\n 'Christoph Waltz': 1,\n 'Nikos Kazantzakis': 1,\n 'Henry David Thoreau': 1,\n 'William Cowper': 1,\n 'Mick Beddoes': 1,\n 'Roger Williams (theologian)': 1,\n \"Mo'Nique\": 1,\n 'Kabir': 1,\n 'Broderick Crawford': 1,\n 'Duke Nukem': 1,\n 'Godwin, Earl of Wessex': 1,\n 'Bernard Baruch': 1,\n 'Virginia Woolf': 1,\n 'Adam Smith': 1,\n 'Morrissey': 1,\n 'Haing S. Ngor': 1,\n 'Rudyard Kipling': 1,\n 'Ken Kay': 1,\n 'Frida Kahlo': 1,\n 'Naomi Watts': 1,\n 'Jean Genet': 1,\n 'Leonard H. Courtney': 1,\n 'Tom Petty': 1,\n 'Josefa Iloilo': 1,\n 'Joseph Joubert': 1,\n 'Jeremy Collier': 1,\n 'David Byrne': 1,\n 'Laura Dern': 1,\n 'Teimumu Kepa': 1,\n 'Nikolai Vasilievich Gogol': 1,\n 'Hilary Swank': 1,\n 'P. L. Travers': 1,\n 'Eden Ahbez': 1,\n 'Robert McNamara': 1,\n 'Katherine Kurtz': 1,\n 'Margaret Rutherford': 1,\n 'Solomon': 1,\n 'Patrick Nunally': 1,\n 'Chloë Sevigny': 1,\n 'Eddie Murphy': 1,\n 'Madonna': 1,\n 'Antonio Machado': 1,\n \"Sean 'Diddy' Combs\": 1,\n 'Peter Akinola': 1,\n 'Gaston Bachelard': 1,\n 'Kevin Kline': 1,\n 'Shigesato Itoi': 1,\n 'Ben Kingsley': 1,\n 'Sidiq Koya': 1,\n 'Oscar Wilde': 1,\n 'Philip Roth': 1,\n 'Luciano Berio': 1,\n 'Lucy Seigle': 1,\n 'Jennifer Hudson': 1,\n 'Carl R. Day': 1,\n 'John Herschel': 1,\n 'Wolfgang Amadeus Mozart': 1,\n 'Horatio Nelson': 1,\n 'Maggie Gyllenhaal': 1,\n 'Michael Medved': 1,\n 'Norah Jones': 1,\n 'Angela Bassett': 1,\n 'Ring Lardner': 1,\n 'Colette': 1,\n 'Jane Ace': 1,\n 'Michael Douglas': 1,\n 'Sam Brown': 1,\n 'Dick Cavett': 1,\n 'Walter Winchell': 1,\n 'Tim Walberg': 1,\n 'Nancy Reagan': 1,\n 'Bjarne Stroustrup': 1,\n 'Edmund Burke': 1,\n 'Barbie': 1,\n 'Pete Postlethwaite': 1,\n 'Margaret Mead': 1,\n 'Michel de Montaigne': 1,\n 'Edward VII of Great Britain': 1,\n 'Shimon Peres': 1,\n 'Roy Hattersley': 1,\n 'Pramod Rae': 1,\n 'William Holden': 1,\n 'Greer Garson': 1,\n 'William Winter': 1,\n 'Clay Aiken': 1,\n 'Robert Sidney Foster': 1,\n 'James Cameron': 1,\n 'Beatrice Straight': 1,\n 'Walter Savage Landor': 1,\n 'Edward Lear': 1,\n 'Kathy Najimy': 1,\n 'Lesley Manville': 1,\n 'Art Blakey': 1,\n 'Jim Morrison': 1,\n 'Margaret Cho': 1,\n 'Brenda Blethyn': 1,\n 'Hailee Steinfeld': 1,\n 'Andy Bathgate': 1,\n 'Paul Raci': 1,\n 'Chauncey Depew': 1,\n 'Jinnah House': 1,\n 'René Descartes': 1,\n 'George Macdonald': 1,\n 'Ateca Ganilau': 1,\n 'Steven Wright': 1,\n 'Henry Ford': 1,\n 'Wolverine': 1,\n 'Muqtada al': 1,\n 'John Tudor': 1,\n 'Samuel Butler (1612': 1,\n 'Linda Hunt': 1,\n 'W. C. Handy': 1,\n 'Jerry Siegel': 1,\n 'Saddam Hussein': 1,\n 'Abbie Hoffman': 1,\n 'Satchel Paige': 1,\n 'Chiaki Kuriyama': 1,\n 'Michael Phelps': 1,\n 'Viola Davis': 1,\n 'Devendra Banhart': 1,\n 'Charles Darwin': 1,\n 'Peter Lynch': 1,\n 'Lily Tomlin': 1,\n 'Sonic the Hedgehog': 1,\n 'Heywood Broun': 1,\n 'Russell Crowe': 1,\n 'J. William Fulbright': 1,\n 'Eli Noam': 1,\n 'Shohreh Aghdashloo': 1,\n 'Henri Poincaré': 1,\n 'William McFee': 1,\n 'C. Everett Koop': 1,\n 'Henry Kissinger': 1,\n 'Carolyn Heilbrun': 1,\n 'Mary J. Blige': 1,\n 'Theo de Raadt': 1,\n 'Immanuel Kant': 1,\n 'John Maynard Keynes': 1,\n 'Jake Gyllenhaal': 1,\n 'Mike Huckabee': 1,\n 'Olivia de Havilland': 1,\n 'Shigeru Miyamoto': 1,\n 'Arthur Rimbaud': 1,\n 'Jan Smuts': 1,\n 'William Butler Yeats': 1,\n 'Geronimo': 1,\n 'Bobby Hull': 1,\n 'Quvenzhané Wallis': 1,\n 'Arthur Schopenhauer': 1,\n 'Dustin Hoffman': 1,\n 'Jeremy Renner': 1,\n 'Joan of Arc': 1,\n 'Eminem': 1,\n 'Bruce Baillie': 1,\n 'Billy Bob Thornton': 1,\n 'Rocky Balboa': 1,\n 'Cicero': 1,\n 'Juliette Lewis': 1,\n 'Emanuel Swedenborg': 1,\n 'Thornton Wilder': 1,\n 'Chiwetel Ejiofor': 1,\n 'Honoré de Balzac': 1,\n 'Joseph Merrick': 1,\n 'Jon Postel': 1,\n 'Orlando Jones': 1,\n 'Evo Morales': 1,\n 'Fritiof Nilsson Piraten': 1,\n 'Nellie McClung': 1,\n 'Pope Benedict XVI': 1,\n 'Edwin W. Edwards': 1,\n 'Isabelle Huppert': 1,\n 'Walter Brennan': 1,\n 'Janet Gaynor': 1,\n 'Ludwig Mies van der Rohe': 1,\n 'Anthony Daniels (psychiatrist)': 1,\n 'Eric Hoffer': 1,\n 'J. D. Salinger': 1,\n 'Alfred North Whitehead': 1,\n 'Carey Mulligan': 1,\n 'Jimbo Wales': 1,\n 'Zig Ziglar': 1,\n 'William Kapell': 1,\n 'Mary': 1,\n 'Rolim Amaro': 1,\n 'Charles Coburn': 1,\n 'Lynn Redgrave': 1,\n 'W. Clement Stone': 1,\n 'Beyoncé': 1,\n 'Walter Bagehot': 1,\n 'Estelle Parsons': 1,\n 'Germaine Greer': 1,\n 'John Mitchell': 1,\n 'Richard Bach': 1,\n 'Helen Keller': 1,\n 'Lemmy Kilmister': 1,\n 'Frédéric Bastiat': 1,\n 'Ali ibn Abi Talib': 1,\n 'Jacki Weaver': 1,\n 'Jack Palance': 1,\n 'E. E. Cummings': 1,\n 'Archimedes': 1,\n 'Romeo LeBlanc': 1,\n 'Vanessa Kirby': 1,\n 'Rabindranath Tagore': 1,\n 'Ron Miller (politician)': 1,\n 'Thomas Alva Edison': 1,\n 'Meher Baba': 1,\n 'Norman Bates': 1,\n 'Antonio Banderas': 1,\n 'Confucius': 1,\n 'Charles Sanders Peirce': 1,\n 'Olof Palme': 1,\n 'Regina King': 1,\n '\"Weird Al\" Yankovic': 1,\n 'April Winchell': 1,\n 'Li Bai': 1,\n 'William Rehnquist': 1,\n 'Lala Sukuna': 1,\n 'Silas Bent': 1,\n 'Faye Dunaway': 1,\n 'Ludwig von Mises': 1,\n 'George Washington': 1,\n 'Spider Robinson': 1,\n 'Harlan Ellison': 1,\n 'Ozzy Osbourne': 1,\n 'Lisa Kennedy': 1,\n 'Burt Lancaster': 1,\n 'APJ Abdul Kalam': 1,\n 'Lech Kaczynski': 1,\n 'Freddie Mercury': 1,\n 'Ella Wheeler Wilcox': 1,\n 'Edward Scissorhands ': 1,\n 'Agatha Christie': 1,\n 'Mahavira': 1,\n 'André Malraux': 1,\n 'Simon Schama': 1,\n 'Guy de Maupassant': 1,\n 'Haim Ginott': 1,\n 'Robert Kennedy': 1,\n 'John Burroughs': 1,\n 'Harold Warner': 1,\n 'Margaret Sanger': 1,\n 'Andrei Codrescu': 1,\n 'Sherman Alexie': 1,\n ...}"
     },
     "execution_count": 15,
     "metadata": {},
     "output_type": "execute_result"
    }
   ],
   "execution_count": null
  },
  {
   "cell_type": "code",
   "metadata": {
    "cell_id": "00012-d4813819-ef03-413c-bce9-2c8c2c29802d",
    "deepnote_cell_type": "code"
   },
   "source": "#9.\njunius_2021 = []\nfor dic in list_of_dicts_2021:\n    if dic['month'] == 6:\n        junius_2021.append(dic)\nj30_2021 = []\nfor dic in junius_2021:\n    if dic['day'] == 30:\n        j30_2021.append(dic)\nkis_szmt = []\nfor dic in j30_2021:\n    if dic['hour'] >= 23:\n        kis_szmt.append(dic)\nkis_szmt_2021 = []\nfor dic in kis_szmt:\n    if dic['thread_type'] == 'RegularGroup':\n        kis_szmt_2021.append(dic)\nprint (kis_szmt_2021)",
   "outputs": [
    {
     "name": "stdout",
     "output_type": "stream",
     "text": "[{'index': 3389, 'sender_name': 'Jennifer Lawrence', 'timestamp_ms': 1625087154089, 'type': 'Generic', 'users': [], 'sticker': None, 'reactions': ['Michael Jordan', 'Jared Leto', 'Kövér László'], 'thread_path': 1367, 'thread_type': 'RegularGroup', 'photos': 0, 'gifs': 0, 'videos': 0, 'content_l': 49, 'datetime': '2021-06-30T23:05:54.089Z', 'year': 2021, 'month': 6, 'day': 30, 'hour': 23, 'minute': 5}, {'index': 3392, 'sender_name': 'Michael Jordan', 'timestamp_ms': 1625086907740, 'type': 'Generic', 'users': [], 'sticker': None, 'reactions': ['Kövér László'], 'thread_path': 1367, 'thread_type': 'RegularGroup', 'photos': 0, 'gifs': 0, 'videos': 0, 'content_l': 141, 'datetime': '2021-06-30T23:01:47.740Z', 'year': 2021, 'month': 6, 'day': 30, 'hour': 23, 'minute': 1}, {'index': 2849, 'sender_name': 'Edward Norton', 'timestamp_ms': 1625086946684, 'type': 'Generic', 'users': [], 'sticker': None, 'reactions': [], 'thread_path': 814, 'thread_type': 'RegularGroup', 'photos': 0, 'gifs': 0, 'videos': 0, 'content_l': 23, 'datetime': '2021-06-30T23:02:26.684Z', 'year': 2021, 'month': 6, 'day': 30, 'hour': 23, 'minute': 2}, {'index': 3391, 'sender_name': 'Michael Jordan', 'timestamp_ms': 1625086947003, 'type': 'Generic', 'users': [], 'sticker': None, 'reactions': ['Jared Leto'], 'thread_path': 1367, 'thread_type': 'RegularGroup', 'photos': 0, 'gifs': 0, 'videos': 0, 'content_l': 96, 'datetime': '2021-06-30T23:02:27.003Z', 'year': 2021, 'month': 6, 'day': 30, 'hour': 23, 'minute': 2}, {'index': 3388, 'sender_name': 'Kövér László', 'timestamp_ms': 1625089678952, 'type': 'Generic', 'users': [], 'sticker': None, 'reactions': [], 'thread_path': 1367, 'thread_type': 'RegularGroup', 'photos': 0, 'gifs': 0, 'videos': 0, 'content_l': 69, 'datetime': '2021-06-30T23:47:58.952Z', 'year': 2021, 'month': 6, 'day': 30, 'hour': 23, 'minute': 47}, {'index': 3395, 'sender_name': 'Michael Jordan', 'timestamp_ms': 1625086808489, 'type': 'Generic', 'users': [], 'sticker': None, 'reactions': [], 'thread_path': 1367, 'thread_type': 'RegularGroup', 'photos': 0, 'gifs': 0, 'videos': 0, 'content_l': 50, 'datetime': '2021-06-30T23:00:08.489Z', 'year': 2021, 'month': 6, 'day': 30, 'hour': 23, 'minute': 0}, {'index': 3394, 'sender_name': 'Jared Leto', 'timestamp_ms': 1625086858819, 'type': 'Generic', 'users': [], 'sticker': None, 'reactions': ['Michael Jordan'], 'thread_path': 1367, 'thread_type': 'RegularGroup', 'photos': 0, 'gifs': 0, 'videos': 0, 'content_l': 25, 'datetime': '2021-06-30T23:00:58.819Z', 'year': 2021, 'month': 6, 'day': 30, 'hour': 23, 'minute': 0}, {'index': 48, 'sender_name': 'The Terminator ', 'timestamp_ms': 1625089750533, 'type': 'Generic', 'users': [], 'sticker': None, 'reactions': [], 'thread_path': 767, 'thread_type': 'RegularGroup', 'photos': 0, 'gifs': 0, 'videos': 0, 'content_l': 6, 'datetime': '2021-06-30T23:49:10.533Z', 'year': 2021, 'month': 6, 'day': 30, 'hour': 23, 'minute': 49}, {'index': 2848, 'sender_name': 'dr. Orbán Viktor', 'timestamp_ms': 1625089828936, 'type': 'Generic', 'users': [], 'sticker': None, 'reactions': [], 'thread_path': 814, 'thread_type': 'RegularGroup', 'photos': 0, 'gifs': 0, 'videos': 0, 'content_l': 20, 'datetime': '2021-06-30T23:50:28.936Z', 'year': 2021, 'month': 6, 'day': 30, 'hour': 23, 'minute': 50}, {'index': 3390, 'sender_name': 'Michael Jordan', 'timestamp_ms': 1625087072364, 'type': 'Generic', 'users': [], 'sticker': None, 'reactions': ['Jennifer Lawrence', 'Jared Leto', 'Kövér László'], 'thread_path': 1367, 'thread_type': 'RegularGroup', 'photos': 0, 'gifs': 0, 'videos': 0, 'content_l': 34, 'datetime': '2021-06-30T23:04:32.364Z', 'year': 2021, 'month': 6, 'day': 30, 'hour': 23, 'minute': 4}, {'index': 46, 'sender_name': 'The Terminator ', 'timestamp_ms': 1625089830195, 'type': 'Generic', 'users': [], 'sticker': None, 'reactions': [], 'thread_path': 767, 'thread_type': 'RegularGroup', 'photos': 0, 'gifs': 0, 'videos': 0, 'content_l': 7, 'datetime': '2021-06-30T23:50:30.195Z', 'year': 2021, 'month': 6, 'day': 30, 'hour': 23, 'minute': 50}, {'index': 3393, 'sender_name': 'Michael Jordan', 'timestamp_ms': 1625086859140, 'type': 'Generic', 'users': [], 'sticker': None, 'reactions': [], 'thread_path': 1367, 'thread_type': 'RegularGroup', 'photos': 0, 'gifs': 0, 'videos': 0, 'content_l': 91, 'datetime': '2021-06-30T23:00:59.140Z', 'year': 2021, 'month': 6, 'day': 30, 'hour': 23, 'minute': 0}, {'index': 47, 'sender_name': 'Erzsébet királyné', 'timestamp_ms': 1625089811439, 'type': 'Generic', 'users': [], 'sticker': None, 'reactions': [], 'thread_path': 767, 'thread_type': 'RegularGroup', 'photos': 0, 'gifs': 0, 'videos': 0, 'content_l': 9, 'datetime': '2021-06-30T23:50:11.439Z', 'year': 2021, 'month': 6, 'day': 30, 'hour': 23, 'minute': 50}]\n"
    }
   ],
   "execution_count": null
  },
  {
   "cell_type": "code",
   "metadata": {
    "cell_id": "00013-1e513ee8-36f2-47e7-8857-7c907b054611",
    "deepnote_output_heights": [
     97.984375
    ],
    "deepnote_cell_type": "code"
   },
   "source": "#10.\nszmt_2021 = []\nfor dic in list_of_dicts_all:\n    if dic['thread_path'] == 1367:\n        szmt_2021.append(dic)\nszmt = {}\nfor i in szmt_2021:\n    if 'sender_name' in i:\n        szmt[i['sender_name']] = szmt.get(i['sender_name'], 0) + 1\nszmt",
   "outputs": [
    {
     "data": {
      "text/plain": "{'Michael Jordan': 1037,\n 'Jared Leto': 1384,\n 'Jennifer Lawrence': 407,\n 'Sandra Bullock': 104,\n 'Kövér László': 456}"
     },
     "execution_count": 12,
     "metadata": {},
     "output_type": "execute_result"
    }
   ],
   "execution_count": null
  },
  {
   "cell_type": "code",
   "metadata": {
    "cell_id": "00014-f335aa14-cdd3-437c-b4bf-2f9ea2abeddf",
    "deepnote_cell_type": "code"
   },
   "source": "#11.Nincs üzenet\nirott=[]\nfor dic in list_of_dicts_all:\n    if dic['type']=='Generic':\n        irott.append(dic)\nchatek_thread=[]\nfor dic in irott:\n    chatek_thread.append(dic['thread_path'])\nchatek_idok=[]\nfor dic in irott:\n    chatek_idok.append(str(dic['timestamp_ms']))\noccurence_parok = []\nfor i in range(len(chatek_idok)):\n    occurence_parok.append(chatek_idok[i] + \"-\" + str(chatek_thread[i]))\nthreadek_list=[]\nfor i in occurence_parok:\n    if \nprint (occurence_parok[0:20])",
   "outputs": [
    {
     "name": "stdout",
     "output_type": "stream",
     "text": "['1289245934000-570', '1289227334000-570', '1291991136000-570', '1290798930000-570', '1291900518000-570', '1290770952000-570', '1303056611184-332', '1308402162223-120', '1304358828842-570', '1303056577021-332', '1303057189752-332', '1308402020050-120', '1308475182806-120', '1307727390174-138', '1304270632573-570', '1303056547095-332', '1308474387071-120', '1308569111515-120', '1305307912362-332', '1305568031119-521']\n"
    }
   ],
   "execution_count": null
  },
  {
   "cell_type": "code",
   "metadata": {
    "cell_id": "00015-e1155a11-2bc7-4c00-bb98-2810f085ae8c",
    "deepnote_cell_type": "code"
   },
   "source": "#11.Nincs üzenet\nirott=[]\nfor dic in list_of_dicts_all:\n    if dic['type']=='Generic':\n        irott.append(dic)\nchatek={}\nfor i in irott:\n    if i['thread_path'] in chatek:\n        chatek[i['thread_path']].append(i['timestamp_ms'])\n    else:\n        chatek[i['thread_path']]=[i['timestamp_ms']]\nchatek_uj={}\nfor k,v in chatek.items():\n    chatek_uj[k]=sorted(v)\neltelt=0\nfor k,v in chatek_uj.items():\n    if len(v)>1:\n        kulonbsegek=[]\n        for i in range(len(v)-1):\n            kulonbsegek.append(v[i+1]-v[i])\n        if max(kulonbsegek)>eltelt:\n            eltelt=max(kulonbsegek)\n            key=k\nprint(key,eltelt)",
   "outputs": [
    {
     "name": "stdout",
     "output_type": "stream",
     "text": "346 146675170140\n"
    }
   ],
   "execution_count": null
  },
  {
   "cell_type": "code",
   "metadata": {
    "cell_id": "00016-b4c2cafa-65ac-431e-932d-3e5580801328",
    "deepnote_cell_type": "code"
   },
   "source": "#12.\nnevek2018 = []\nnevek2019 = []\nnevek2020 = []\nnevek2021 = []\n\nfor dic in list_of_dicts_2018:\n    nevek2018.append(dic['sender_name'])\n#print(len(set(nevek2018)))\n\nfor dic in list_of_dicts_2019:\n    nevek2019.append(dic['sender_name'])\n\nfor dic in list_of_dicts_2020:\n    nevek2020.append(dic['sender_name'])\n\nfor dic in list_of_dicts_2021:\n    nevek2021.append(dic['sender_name'])\n\nnev189 = set(nevek2018) & set(nevek2019)\n\nnev1892 = set(nev189) & set(nevek2020)\n\neredmeny1 = set(nev1892) & set(nevek2021)\n\nprint(len(set(eredmeny1)))\nprint(sorted((set(eredmeny1))))\n\nnev920 = set(nevek2019) & set(nevek2020)\n\neredmeny2 = set(nev920) & set(nevek2021)\n\nprint(len(set(eredmeny2)))\n\neredmeny3 = eredmeny2 - eredmeny1\n\nprint(set(eredmeny3))\nprint(len(set(eredmeny3)))",
   "outputs": [
    {
     "name": "stdout",
     "output_type": "stream",
     "text": "62\n['Alexander Pope', 'Alexander Vasilyevich Suvorov', 'Amanda Seyfried', 'Andrew Jackson', 'Anthony Hopkins', 'Bajnai Gordon', 'Brad Pitt', 'Bradley Cooper', 'Carrie Snow', 'Casey Affleck', 'Chris Collison', 'Dr. Dre', 'Edward Abbey', 'Evans', 'George E. Bergman', 'George Marshall', 'George V of the United Kingdom', 'Gyurcsány Ferenc', 'Holly Hunter', 'Jack Welch', 'James Cagney', 'James Franco', 'Jessica Simpson', 'Jimmy Carter', 'Joaquin Phoenix', 'John Dean', 'Justin Bieber', 'Kossuth Lajos', 'Leone Battista Alberti', 'Liam Neeson', 'Mahendra Chaudhry', 'Mariella Frostrup', 'Marlon Brando', 'Mary Poppins', 'Michael Fish', 'Michael Jackson', 'Michael Jordan', 'Michael Keaton', 'Nicole Kidman', 'One Direction', 'Oprah Winfrey', 'Penélope Cruz', 'Petőfi Sándor', 'Philip Seymour Hoffman', 'Rebecca Blood', 'Robert Downey Jr.', 'Salma Hayek', 'Samuel L. Jackson', 'Sandra Bullock', 'Sandra Jordan', 'Superman ', 'Szent-Györgyi Albert', 'Taleb, Nassim Nicholas', 'Taylor Swift', 'The Beatles', 'Tommy Lee Jones', 'William Marcy Tweed', 'William Ralph Inge', 'William Tecumseh Sherman', 'William of Occam', 'Willy Wonka ', 'Zack de la Rocha']\n164\n{'Drake', 'Herbert Stein', 'Áder János', 'Tony Montana', 'Maximilian Schell', 'Francis Hutcheson', 'Vito Corleone ', 'Dan Brown', 'Eric Cartman', 'Sharon Stone', 'Dr. Semjén Zsolt', 'Denis Diderot', 'Warner Baxter', 'Spiderman', 'Szent István', 'Rami Malek', 'Novák Katalin', 'Winona Ryder', 'Douglas Coupland', 'Clint Eastwood', 'Cate Blanchett', 'Dr. Benkő Tibor', 'Horatio Nelson', 'David Byrne', 'Puskás Ferenc', 'Guy de Maupassant', 'Aesop', 'James Bond ', 'Matolcsy György', 'Boross Péter', 'Göncz Árpád', 'Tony Stark (Iron Man) ', 'Will Rogers', 'Kövér László', 'The Terminator ', 'Kevin Spacey', 'Szűrös Mátyás', 'Mario ', 'Ferdinand Eisenstein', 'Tim Walberg', 'Evelyn Waugh', 'Edward Norton', 'Indiana Jones ', 'Békésy György', 'Lassie ', 'Christopher Reeve', 'Ben Affleck', 'Julia Roberts', 'Mickey Mouse', 'Philip Zimmermann', 'Optimus Prime ', 'Neymar', 'Fred Flintstone ', 'Haim Ginott', 'André Gide', 'Hevesy György', 'Gábor Dénes', 'Hugh Jackman', 'Travis Bickle ', 'Jackie DeShannon', 'Kertész Imre', 'Man With No Name ', 'Tina Fey', 'Dwayne Johnson', 'George Lucas', 'U2', 'Michael Caine', 'Elton John', 'Jennifer Lawrence', 'Paul McCartney', 'Dr. Nagy István', 'Bilbo Baggins', 'David Beckham', 'Dr. Palkovics László', 'Lyndon Johnson', 'Kanye West', 'Darth Vader ', 'Renée Zellweger', 'Gwyneth Paltrow', 'Jamie Foxx', 'Tilda Swinton', 'Jared Leto', 'dr. Varga Judit', 'John Burroughs', 'dr. Orbán Viktor', 'Albert Einstein', 'Bruce Willis', 'Spice Girls', 'Francis Quarles', 'Rogán Antal', 'Dr. Phil McGraw', 'Cristiano Ronaldo', 'Pope Leo X', 'Al Pacino', 'Peter Corey', 'Ronald McDonald', 'Harrison Ford', 'Ryan Gosling', 'Alec Baldwin', 'Varga Mihály', 'Charlie Brown ', 'Steven Spielberg'}\n102\n"
    }
   ],
   "execution_count": null
  },
  {
   "cell_type": "code",
   "metadata": {
    "cell_id": "00017-1b791b62-9cdc-43a9-86bc-543a02eb0670",
    "deepnote_cell_type": "code"
   },
   "source": "#14.leghosszabb\ndef hosszuuzenet (number):\n    korabbi=[]\n    for dic in list_of_dicts_all:\n        if dic['timestamp_ms']<int(number):\n            korabbi.append(dic)\n    hosszukorabbi = sorted(korabbi, key=lambda d: d['content_l'],reverse=True)\n    return(hosszukorabbi[0])",
   "outputs": [],
   "execution_count": null
  },
  {
   "cell_type": "code",
   "metadata": {
    "cell_id": "00018-5b84149a-b06f-419f-a4f8-5df7b9a97058",
    "deepnote_output_heights": [
     366.6875
    ],
    "deepnote_cell_type": "code"
   },
   "source": "hosszuuzenet(1321799105000)",
   "outputs": [
    {
     "data": {
      "text/plain": "{'index': 1,\n 'sender_name': 'William Ralph Inge',\n 'timestamp_ms': 1311936706573,\n 'type': 'Generic',\n 'users': [],\n 'sticker': None,\n 'reactions': [],\n 'thread_path': 832,\n 'thread_type': 'RegularGroup',\n 'photos': 0,\n 'gifs': 0,\n 'videos': 0,\n 'content_l': 949,\n 'datetime': '2011-07-29T12:51:46.573Z',\n 'year': 2011,\n 'month': 7,\n 'day': 29,\n 'hour': 12,\n 'minute': 51}"
     },
     "execution_count": 397,
     "metadata": {},
     "output_type": "execute_result"
    }
   ],
   "execution_count": null
  },
  {
   "cell_type": "code",
   "metadata": {
    "cell_id": "00019-cab3c860-e401-4a7a-bc6d-7ceb0758c451",
    "deepnote_cell_type": "code"
   },
   "source": "William Ralph Inge\nWilliam Ralph Inge\nSandra Bullock\nMary J. Blige\nMary J. Blige\n\n\nWilliam Ralph Inge\nSandra Bullock\nMary J. Blige\nAnne Bancroft\nKirk Douglas",
   "outputs": [],
   "execution_count": null
  },
  {
   "cell_type": "code",
   "metadata": {
    "cell_id": "00020-433d6a62-eb5f-47ad-80af-f20a77f5bf68",
    "deepnote_cell_type": "code"
   },
   "source": "#15.Legkevésbé aktív óra\ndef legkevesbeaktiv (number):\n    korabbi=[]\n    for dic in list_of_dicts_all:\n        if dic['timestamp_ms']<int(number):\n            korabbi.append(dic)\n    ora={}\n    for dic in korabbi:\n        if 'hour' in dic:\n            ora[dic['hour']]=ora.get(dic['hour'],0)+1\n    dict(sorted(ora.items(), key=lambda item: item[1]))\n    ora_keves = min(ora.keys(), key=(lambda time: ora[time]))\n    return(ora_keves)",
   "outputs": [],
   "execution_count": null
  },
  {
   "cell_type": "code",
   "metadata": {
    "cell_id": "00021-c2d77db5-4f59-41b4-b7bc-3401084aaa1d",
    "deepnote_output_heights": [
     21.1875
    ],
    "deepnote_cell_type": "code"
   },
   "source": "legkevesbeaktiv(1321799105000)",
   "outputs": [
    {
     "data": {
      "text/plain": "21"
     },
     "execution_count": 400,
     "metadata": {},
     "output_type": "execute_result"
    }
   ],
   "execution_count": null
  },
  {
   "cell_type": "code",
   "metadata": {
    "cell_id": "00022-f623dfc7-8c57-408a-a244-666a8d609735",
    "deepnote_cell_type": "code"
   },
   "source": "nevek=[]\nfor dic in list_of_dicts_all:\n    nevek.append(dic['sender_name'])\nprint(set(nevek[0:20]))",
   "outputs": [
    {
     "name": "stdout",
     "output_type": "stream",
     "text": "{'Leo Buscaglia', 'Mary J. Blige', 'Kirk Douglas', 'William Ralph Inge', 'Anne Bancroft', 'Sandra Bullock'}\n"
    }
   ],
   "execution_count": null
  },
  {
   "cell_type": "code",
   "metadata": {
    "cell_id": "00023-4cfdfb10-f072-47e2-8c70-6b2df2747c31",
    "deepnote_cell_type": "code"
   },
   "source": "#16.Ember, karakter\ndef karakter (name,number):\n    korabbi=[]\n    for dic in list_of_dicts_all:\n        if dic['timestamp_ms']<int(number):\n            korabbi.append(dic)\n    korabbi_nev=[]\n    for dic in korabbi:\n        if dic['sender_name']==name:\n            korabbi_nev.append(dic)\n    karakterek = sum(item['content_l'] for item in korabbi_nev)\n    return(karakterek)\n            ",
   "outputs": [],
   "execution_count": null
  },
  {
   "cell_type": "code",
   "metadata": {
    "cell_id": "00024-c48b66dd-59ff-4b13-8713-5ec3311038b0",
    "deepnote_output_heights": [
     21.1875
    ],
    "deepnote_cell_type": "code"
   },
   "source": "karakter('Sandra Bullock',1321799105000)",
   "outputs": [
    {
     "data": {
      "text/plain": "6745"
     },
     "execution_count": 403,
     "metadata": {},
     "output_type": "execute_result"
    }
   ],
   "execution_count": null
  },
  {
   "cell_type": "code",
   "metadata": {
    "cell_id": "00025-eacc4650-9d6e-4001-ad45-947c77da549a",
    "deepnote_cell_type": "code"
   },
   "source": "#17.Legalább 10 üzi\ndef legalabb10 (number):\n    korabbi=[]\n    for dic in list_of_dicts_all:\n        if dic['timestamp_ms']<int(number):\n            korabbi.append(dic)\n    irott=[]\n    for dic in korabbi:\n        if dic['type']=='Generic':\n            irott.append(dic)\n    sorrend={}\n    for dic in irott:\n        if 'sender_name' in dic:\n            sorrend[dic['sender_name']]=sorrend.get(dic['sender_name'],0)+1\n    sorrend_uj=dict(sorted(sorrend.items(), key=lambda item: item[1], reverse = True))\n    legalabbtiz=[]\n    for k,v in sorrend_uj.items():\n        if v>10:\n            legalabbtiz.append(k)\n    return(len(legalabbtiz))",
   "outputs": [],
   "execution_count": null
  },
  {
   "cell_type": "code",
   "metadata": {
    "cell_id": "00026-41d09360-947b-4595-bce3-b134c71defec",
    "deepnote_output_heights": [
     21.1875
    ],
    "deepnote_cell_type": "code"
   },
   "source": "legalabb10(1321799105000)",
   "outputs": [
    {
     "data": {
      "text/plain": "9"
     },
     "execution_count": 372,
     "metadata": {},
     "output_type": "execute_result"
    }
   ],
   "execution_count": null
  },
  {
   "cell_type": "code",
   "metadata": {
    "cell_id": "00027-c93006cb-5c7c-4519-bc3d-99f1120cce47",
    "deepnote_cell_type": "code"
   },
   "source": "#18.Legaktívabb chat\ndef legaktivabb (number):\n    korabbi=[]\n    for dic in list_of_dicts_all:\n        if dic['timestamp_ms']<int(number):\n            korabbi.append(dic)\n    chatek={}\n    for dic in korabbi:\n        chatek[dic['thread_path']]=chatek.get(dic['thread_path'],0)+1\n    chatek=sorted(chatek.items(), key=lambda item: item[1], reverse = True)\n    return (chatek[0:5])",
   "outputs": [],
   "execution_count": null
  },
  {
   "cell_type": "code",
   "metadata": {
    "cell_id": "00028-2c24548f-55aa-4026-a0de-e3130aac4e85",
    "deepnote_output_heights": [
     21.1875
    ],
    "deepnote_cell_type": "code"
   },
   "source": "legaktivabb(1321799105000)",
   "outputs": [
    {
     "data": {
      "text/plain": "[(120, 206), (570, 193), (332, 87), (594, 79), (138, 67)]"
     },
     "execution_count": 373,
     "metadata": {},
     "output_type": "execute_result"
    }
   ],
   "execution_count": null
  },
  {
   "cell_type": "code",
   "metadata": {
    "cell_id": "00029-7d0a8874-590f-4cae-b57b-19a6881ddcfc",
    "deepnote_cell_type": "code"
   },
   "source": "#19.Chatek, emberek, üzenetek, karakterek\ndef chatek (number,number_thread):\n    korabbi=[]\n    for dic in list_of_dicts_all:\n        if dic['timestamp_ms']<int(number):\n            korabbi.append(dic)\n    ezachat=[]\n    for dic in korabbi:\n        if dic['thread_path']==number_thread:\n            ezachat.append(dic)\n    irott=[]\n    for dic in ezachat:\n        if dic['type']=='Generic':\n            irott.append(dic)\n    karakterek = sum(item['content_l'] for item in irott)\n    nevek=[]\n    for dic in irott:\n        nevek.append(dic['sender_name'])\n    vegso=[]\n    vegso.append(sorted(nevek))\n    return('1.uzenetek:',len(irott),'2.karakterek:',karakterek,'3.emberek:',(len(vegso)))",
   "outputs": [],
   "execution_count": null
  },
  {
   "cell_type": "code",
   "metadata": {
    "cell_id": "00030-6c71a287-488d-4636-bb1f-dcd7a845e6a9",
    "deepnote_output_heights": [
     21.1875
    ],
    "deepnote_cell_type": "code"
   },
   "source": "chatek(1321799105000,570)",
   "outputs": [
    {
     "data": {
      "text/plain": "('1.uzenetek:', 192, '2.karakterek:', 4846, '3.emberek:', 1)"
     },
     "execution_count": 10,
     "metadata": {},
     "output_type": "execute_result"
    }
   ],
   "execution_count": null
  },
  {
   "cell_type": "code",
   "metadata": {
    "cell_id": "00031-3b8bfa8d-acfa-439e-b02c-c67b64a9d158",
    "deepnote_cell_type": "code"
   },
   "source": "#21.Legtobb karakter\ndef legtobbkar (number):\n    korabbi=[]\n    for dic in list_of_dicts_all:\n        if dic['timestamp_ms']<int(number):\n            korabbi.append(dic)\n    hosszukorabbi = sorted(korabbi, key=lambda d: d['content_l'],reverse=True)\n    return(hosszukorabbi[0])",
   "outputs": [],
   "execution_count": null
  },
  {
   "cell_type": "code",
   "metadata": {
    "cell_id": "00032-771e816e-0d38-4129-8d03-70e47f99ba49",
    "deepnote_output_heights": [
     366.6875
    ],
    "deepnote_cell_type": "code"
   },
   "source": "legtobbkar(1321799105000)",
   "outputs": [
    {
     "data": {
      "text/plain": "{'index': 1,\n 'sender_name': 'William Ralph Inge',\n 'timestamp_ms': 1311936706573,\n 'type': 'Generic',\n 'users': [],\n 'sticker': None,\n 'reactions': [],\n 'thread_path': 832,\n 'thread_type': 'RegularGroup',\n 'photos': 0,\n 'gifs': 0,\n 'videos': 0,\n 'content_l': 949,\n 'datetime': '2011-07-29T12:51:46.573Z',\n 'year': 2011,\n 'month': 7,\n 'day': 29,\n 'hour': 12,\n 'minute': 51}"
     },
     "execution_count": 411,
     "metadata": {},
     "output_type": "execute_result"
    }
   ],
   "execution_count": null
  },
  {
   "cell_type": "code",
   "metadata": {
    "cell_id": "00033-aced20af-ef90-411d-a5c7-744557340116",
    "deepnote_cell_type": "code"
   },
   "source": "#22.Periodus uzenet nelkul\ndef uzenet_nelkul(number):\n    korabbi=[]\n    for dic in list_of_dicts_all:\n        if dic['timestamp_ms']<int(number):\n            korabbi.append(dic)\n    irott=[]\n    for dic in korabbi:\n        if dic['type']=='Generic':\n            irott.append(dic)\n    chatek={}\n    for i in irott:\n        if i['thread_path'] in chatek:\n            chatek[i['thread_path']].append(i['timestamp_ms'])\n        else:\n            chatek[i['thread_path']]=[i['timestamp_ms']]\n    chatek_uj={}\n    for k,v in chatek.items():\n        chatek_uj[k]=sorted(v)\n    eltelt=0\n    for k,v in chatek_uj.items():\n        if len(v)>1:\n            kulonbsegek=[]\n            for i in range(len(v)-1):\n                kulonbsegek.append(v[i+1]-v[i])\n            if max(kulonbsegek)>eltelt:\n                eltelt=max(kulonbsegek)\n                key=k\n    return(key,eltelt)",
   "outputs": [],
   "execution_count": null
  },
  {
   "cell_type": "code",
   "metadata": {
    "cell_id": "00034-39c0d807-1514-48c0-ab09-327112f08743",
    "deepnote_output_heights": [
     21.1875
    ],
    "deepnote_cell_type": "code"
   },
   "source": "uzenet_nelkul(1321799105000)",
   "outputs": [
    {
     "data": {
      "text/plain": "(1467, 11999802559)"
     },
     "execution_count": 12,
     "metadata": {},
     "output_type": "execute_result"
    }
   ],
   "execution_count": null
  },
  {
   "cell_type": "code",
   "metadata": {
    "cell_id": "00035-20136695-69f5-4d24-aaf9-6cb191edc329",
    "deepnote_cell_type": "code"
   },
   "source": "#bónusz: szmt tagok Sebi évfolyamáról: Jared Leto és Kövér László\n\n",
   "outputs": [],
   "execution_count": null
  },
  {
   "cell_type": "code",
   "metadata": {
    "cell_id": "00036-c698608f-9c0f-40d9-b0f2-4c154d963e3c",
    "deepnote_output_heights": [
     610.984375
    ],
    "deepnote_cell_type": "code"
   },
   "source": "#Dani Captain America.\nen_honap = []\nfor dic in list_of_dicts_2021:\n    if dic['month'] == 11:\n        en_honap.append(dic)\nen_nap = []\nfor dic in en_honap:\n    if dic['day'] == 16:\n        en_nap.append(dic)\nen_ora = []\nfor dic in en_nap:\n    if dic['hour'] == 20:\n        en_ora.append(dic)\nen_majdnem = []\nfor dic in en_ora:\n    if dic['minute'] >= 24:\n        en_majdnem.append(dic)\nen_tenyleg_majdnem = []\nfor dic in en_majdnem:\n    if dic['thread_type'] == 'Regular':\n        en_tenyleg_majdnem.append(dic)\nen_tenyleg_majdnem",
   "outputs": [
    {
     "data": {
      "text/plain": "[{'index': 1,\n  'sender_name': 'Sandra Bullock',\n  'timestamp_ms': 1637090685358,\n  'type': 'Generic',\n  'users': [],\n  'sticker': None,\n  'reactions': [],\n  'thread_path': 382,\n  'thread_type': 'Regular',\n  'photos': 0,\n  'gifs': 0,\n  'videos': 0,\n  'content_l': 148,\n  'datetime': '2021-11-16T20:24:45.358Z',\n  'year': 2021,\n  'month': 11,\n  'day': 16,\n  'hour': 20,\n  'minute': 24},\n {'index': 2,\n  'sender_name': 'Sandra Bullock',\n  'timestamp_ms': 1637091193648,\n  'type': 'Generic',\n  'users': [],\n  'sticker': None,\n  'reactions': [],\n  'thread_path': 333,\n  'thread_type': 'Regular',\n  'photos': 0,\n  'gifs': 0,\n  'videos': 0,\n  'content_l': 18,\n  'datetime': '2021-11-16T20:33:13.648Z',\n  'year': 2021,\n  'month': 11,\n  'day': 16,\n  'hour': 20,\n  'minute': 33},\n {'index': 0,\n  'sender_name': 'Captain America ',\n  'timestamp_ms': 1637090746505,\n  'type': 'Generic',\n  'users': [],\n  'sticker': None,\n  'reactions': [],\n  'thread_path': 382,\n  'thread_type': 'Regular',\n  'photos': 0,\n  'gifs': 0,\n  'videos': 0,\n  'content_l': 10,\n  'datetime': '2021-11-16T20:25:46.505Z',\n  'year': 2021,\n  'month': 11,\n  'day': 16,\n  'hour': 20,\n  'minute': 25}]"
     },
     "execution_count": 25,
     "metadata": {},
     "output_type": "execute_result"
    }
   ],
   "execution_count": null
  },
  {
   "cell_type": "code",
   "metadata": {
    "cell_id": "00037-bcc5aa98-beca-455b-a2d4-227a98498fdf",
    "deepnote_output_heights": [
     610.984375
    ],
    "deepnote_cell_type": "code"
   },
   "source": "#Prog chat\nkl = []\nfor dic in list_of_dicts_2021:\n    if dic['sender_name'] == 'Kossuth Lajos':\n        kl.append(dic)\nfor dic in kl:\n    if dic['thread_type'] == 'RegularGroup' and dic['thread_path'] != 814 and dic['month'] == 11 and dic['day'] == 11 and dic['hour'] == 21 and dic['minute'] >= 15:\n        cs_kl.append(dic)\ncs_kl",
   "outputs": [
    {
     "data": {
      "text/plain": "[{'index': 3,\n  'sender_name': 'Kossuth Lajos',\n  'timestamp_ms': 1636661702327,\n  'type': 'Generic',\n  'users': [],\n  'sticker': None,\n  'reactions': ['Gábor Dénes'],\n  'thread_path': 1230,\n  'thread_type': 'RegularGroup',\n  'photos': 0,\n  'gifs': 0,\n  'videos': 0,\n  'content_l': 14,\n  'datetime': '2021-11-11T21:15:02.327Z',\n  'year': 2021,\n  'month': 11,\n  'day': 11,\n  'hour': 21,\n  'minute': 15},\n {'index': 2,\n  'sender_name': 'Kossuth Lajos',\n  'timestamp_ms': 1636661705216,\n  'type': 'Generic',\n  'users': [],\n  'sticker': None,\n  'reactions': [],\n  'thread_path': 1230,\n  'thread_type': 'RegularGroup',\n  'photos': 0,\n  'gifs': 0,\n  'videos': 0,\n  'content_l': 5,\n  'datetime': '2021-11-11T21:15:05.216Z',\n  'year': 2021,\n  'month': 11,\n  'day': 11,\n  'hour': 21,\n  'minute': 15}]"
     },
     "execution_count": 20,
     "metadata": {},
     "output_type": "execute_result"
    }
   ],
   "execution_count": null
  },
  {
   "cell_type": "code",
   "metadata": {
    "cell_id": "00038-b734fe26-8f02-4734-a5d5-be295d76504c",
    "deepnote_output_heights": [
     611
    ],
    "deepnote_cell_type": "code"
   },
   "source": "#Katinka Kövér László.\nkatinka = []\nfor dic in list_of_dicts_2021:\n    if dic['thread_path'] == 1230:\n        katinka.append(dic)\n\no_k = []\nfor dic in katinka:\n    if dic['sender_name'] == 'Kövér László':\n        o_k.append(dic)\no_k",
   "outputs": [
    {
     "data": {
      "text/plain": "[{'index': 41,\n  'sender_name': 'Kövér László',\n  'timestamp_ms': 1633889101082,\n  'type': 'Generic',\n  'users': [],\n  'sticker': None,\n  'reactions': ['Fred Flintstone ', 'Eric Cartman'],\n  'thread_path': 1230,\n  'thread_type': 'RegularGroup',\n  'photos': 0,\n  'gifs': 0,\n  'videos': 0,\n  'content_l': 15,\n  'datetime': '2021-10-10T20:05:01.082Z',\n  'year': 2021,\n  'month': 10,\n  'day': 10,\n  'hour': 20,\n  'minute': 5},\n {'index': 22,\n  'sender_name': 'Kövér László',\n  'timestamp_ms': 1635164091205,\n  'type': 'Generic',\n  'users': [],\n  'sticker': None,\n  'reactions': [],\n  'thread_path': 1230,\n  'thread_type': 'RegularGroup',\n  'photos': 0,\n  'gifs': 0,\n  'videos': 0,\n  'content_l': 27,\n  'datetime': '2021-10-25T14:14:51.205Z',\n  'year': 2021,\n  'month': 10,\n  'day': 25,\n  'hour': 14,\n  'minute': 14},\n {'index': 49,\n  'sender_name': 'Kövér László',\n  'timestamp_ms': 1633872494582,\n  'type': 'Generic',\n  'users': [],\n  'sticker': None,\n  'reactions': ['Captain America ', 'Nicole Kidman', 'Gábor Dénes'],\n  'thread_path': 1230,\n  'thread_type': 'RegularGroup',\n  'photos': 1,\n  'gifs': 0,\n  'videos': 0,\n  'content_l': 108,\n  'datetime': '2021-10-10T15:28:14.582Z',\n  'year': 2021,\n  'month': 10,\n  'day': 10,\n  'hour': 15,\n  'minute': 28},\n {'index': 71,\n  'sender_name': 'Kövér László',\n  'timestamp_ms': 1631634898296,\n  'type': 'Generic',\n  'users': [],\n  'sticker': None,\n  'reactions': ['Sandra Bullock'],\n  'thread_path': 1230,\n  'thread_type': 'RegularGroup',\n  'photos': 0,\n  'gifs': 0,\n  'videos': 0,\n  'content_l': 69,\n  'datetime': '2021-09-14T17:54:58.296Z',\n  'year': 2021,\n  'month': 9,\n  'day': 14,\n  'hour': 17,\n  'minute': 54},\n {'index': 61,\n  'sender_name': 'Kövér László',\n  'timestamp_ms': 1632822981094,\n  'type': 'Generic',\n  'users': [],\n  'sticker': None,\n  'reactions': [],\n  'thread_path': 1230,\n  'thread_type': 'RegularGroup',\n  'photos': 0,\n  'gifs': 0,\n  'videos': 0,\n  'content_l': 240,\n  'datetime': '2021-09-28T11:56:21.094Z',\n  'year': 2021,\n  'month': 9,\n  'day': 28,\n  'hour': 11,\n  'minute': 56},\n {'index': 75,\n  'sender_name': 'Kövér László',\n  'timestamp_ms': 1631177934037,\n  'type': 'Generic',\n  'users': [],\n  'sticker': None,\n  'reactions': ['Drake', 'Gábor Dénes'],\n  'thread_path': 1230,\n  'thread_type': 'RegularGroup',\n  'photos': 0,\n  'gifs': 0,\n  'videos': 0,\n  'content_l': 33,\n  'datetime': '2021-09-09T10:58:54.037Z',\n  'year': 2021,\n  'month': 9,\n  'day': 9,\n  'hour': 10,\n  'minute': 58},\n {'index': 45,\n  'sender_name': 'Kövér László',\n  'timestamp_ms': 1633885796370,\n  'type': 'Generic',\n  'users': [],\n  'sticker': None,\n  'reactions': ['Fred Flintstone '],\n  'thread_path': 1230,\n  'thread_type': 'RegularGroup',\n  'photos': 0,\n  'gifs': 0,\n  'videos': 0,\n  'content_l': 5,\n  'datetime': '2021-10-10T19:09:56.370Z',\n  'year': 2021,\n  'month': 10,\n  'day': 10,\n  'hour': 19,\n  'minute': 9}]"
     },
     "execution_count": 21,
     "metadata": {},
     "output_type": "execute_result"
    }
   ],
   "execution_count": null
  },
  {
   "cell_type": "code",
   "metadata": {
    "cell_id": "00039-b27283c0-d310-4382-841c-18f26f93894f",
    "deepnote_output_heights": [
     366.6875
    ],
    "deepnote_cell_type": "code"
   },
   "source": "#Ákos Fred Flinstone.\nakos = []\nfor dic in o_k:\n    if dic['hour'] == 19 and dic['minute'] >= 9:\n        akos.append(dic)\nakos",
   "outputs": [
    {
     "data": {
      "text/plain": "[{'index': 45,\n  'sender_name': 'Kövér László',\n  'timestamp_ms': 1633885796370,\n  'type': 'Generic',\n  'users': [],\n  'sticker': None,\n  'reactions': ['Fred Flintstone '],\n  'thread_path': 1230,\n  'thread_type': 'RegularGroup',\n  'photos': 0,\n  'gifs': 0,\n  'videos': 0,\n  'content_l': 5,\n  'datetime': '2021-10-10T19:09:56.370Z',\n  'year': 2021,\n  'month': 10,\n  'day': 10,\n  'hour': 19,\n  'minute': 9}]"
     },
     "execution_count": 22,
     "metadata": {},
     "output_type": "execute_result"
    }
   ],
   "execution_count": null
  },
  {
   "cell_type": "code",
   "metadata": {
    "cell_id": "00040-84ac564c-35e3-4211-95c4-02521c8faf57",
    "deepnote_output_heights": [
     366.6875
    ],
    "deepnote_cell_type": "code"
   },
   "source": "#Szabi Eric Cartman.\nszabi = []\nfor dic in o_k:\n    if dic['hour'] == 20 and dic['hour'] >= 5:\n        szabi.append(dic)\nszabi",
   "outputs": [
    {
     "data": {
      "text/plain": "[{'index': 41,\n  'sender_name': 'Kövér László',\n  'timestamp_ms': 1633889101082,\n  'type': 'Generic',\n  'users': [],\n  'sticker': None,\n  'reactions': ['Fred Flintstone ', 'Eric Cartman'],\n  'thread_path': 1230,\n  'thread_type': 'RegularGroup',\n  'photos': 0,\n  'gifs': 0,\n  'videos': 0,\n  'content_l': 15,\n  'datetime': '2021-10-10T20:05:01.082Z',\n  'year': 2021,\n  'month': 10,\n  'day': 10,\n  'hour': 20,\n  'minute': 5}]"
     },
     "execution_count": 23,
     "metadata": {},
     "output_type": "execute_result"
    }
   ],
   "execution_count": null
  },
  {
   "cell_type": "code",
   "metadata": {
    "cell_id": "00041-e6efbf1c-a3a6-4fb2-a595-f0e819434867",
    "deepnote_output_heights": [
     610.984375
    ],
    "deepnote_cell_type": "code"
   },
   "source": "#Keve George Lucas.\nkeve = []\nfor dic in list_of_dicts_all:\n    if dic['thread_path'] == 1230 and dic['hour'] == 20 and dic['minute'] == 59:\n        keve.append(dic)\nkeve",
   "outputs": [
    {
     "data": {
      "text/plain": "[{'index': 35,\n  'sender_name': 'Kossuth Lajos',\n  'timestamp_ms': 1633892367872,\n  'type': 'Generic',\n  'users': [],\n  'sticker': None,\n  'reactions': [],\n  'thread_path': 1230,\n  'thread_type': 'RegularGroup',\n  'photos': 0,\n  'gifs': 0,\n  'videos': 0,\n  'content_l': 74,\n  'datetime': '2021-10-10T20:59:27.872Z',\n  'year': 2021,\n  'month': 10,\n  'day': 10,\n  'hour': 20,\n  'minute': 59},\n {'index': 34,\n  'sender_name': 'Kossuth Lajos',\n  'timestamp_ms': 1633892373942,\n  'type': 'Generic',\n  'users': [],\n  'sticker': None,\n  'reactions': [],\n  'thread_path': 1230,\n  'thread_type': 'RegularGroup',\n  'photos': 0,\n  'gifs': 0,\n  'videos': 0,\n  'content_l': 26,\n  'datetime': '2021-10-10T20:59:33.942Z',\n  'year': 2021,\n  'month': 10,\n  'day': 10,\n  'hour': 20,\n  'minute': 59},\n {'index': 64,\n  'sender_name': 'Sandra Bullock',\n  'timestamp_ms': 1632423555544,\n  'type': 'Generic',\n  'users': [],\n  'sticker': None,\n  'reactions': [],\n  'thread_path': 1230,\n  'thread_type': 'RegularGroup',\n  'photos': 0,\n  'gifs': 0,\n  'videos': 0,\n  'content_l': 42,\n  'datetime': '2021-09-23T20:59:15.544Z',\n  'year': 2021,\n  'month': 9,\n  'day': 23,\n  'hour': 20,\n  'minute': 59},\n {'index': 65,\n  'sender_name': 'George Lucas',\n  'timestamp_ms': 1632423553891,\n  'type': 'Generic',\n  'users': [],\n  'sticker': None,\n  'reactions': [],\n  'thread_path': 1230,\n  'thread_type': 'RegularGroup',\n  'photos': 0,\n  'gifs': 0,\n  'videos': 0,\n  'content_l': 3,\n  'datetime': '2021-09-23T20:59:13.891Z',\n  'year': 2021,\n  'month': 9,\n  'day': 23,\n  'hour': 20,\n  'minute': 59}]"
     },
     "execution_count": 24,
     "metadata": {},
     "output_type": "execute_result"
    }
   ],
   "execution_count": null
  },
  {
   "cell_type": "markdown",
   "source": "<a style='text-decoration:none;line-height:16px;display:flex;color:#5B5B62;padding:10px;justify-content:end;' href='https://deepnote.com?utm_source=created-in-deepnote-cell&projectId=978e47b7-a961-4dca-a945-499e8b781a34' target=\"_blank\">\n<img alt='Created in deepnote.com' style='display:inline;max-height:16px;margin:0px;margin-right:7.5px;' src='data:image/svg+xml;base64,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' > </img>\nCreated in <span style='font-weight:600;margin-left:4px;'>Deepnote</span></a>",
   "metadata": {
    "tags": [],
    "created_in_deepnote_cell": true,
    "deepnote_cell_type": "markdown"
   }
  }
 ],
 "nbformat": 4,
 "nbformat_minor": 5,
 "metadata": {
  "kernelspec": {
   "display_name": "Python 3 (ipykernel)",
   "language": "python",
   "name": "python3"
  },
  "language_info": {
   "codemirror_mode": {
    "name": "ipython",
    "version": 3
   },
   "file_extension": ".py",
   "mimetype": "text/x-python",
   "name": "python",
   "nbconvert_exporter": "python",
   "pygments_lexer": "ipython3",
   "version": "3.10.0"
  },
  "deepnote_notebook_id": "0f7684d7-5d8c-409f-a0bd-ed1b30695344",
  "deepnote": {},
  "deepnote_execution_queue": []
 }
}