{
 "cells": [
  {
   "cell_type": "markdown",
   "source": "# **ADAT, KIFEJEZÉS, UTASÍTÁS, ÁLLAPOT**",
   "metadata": {
    "slideshow": {
     "slide_type": "slide"
    },
    "cell_id": "00000-600a84e0-efae-4c9c-8fb2-e9b6bf0c343d",
    "deepnote_cell_type": "markdown"
   }
  },
  {
   "cell_type": "markdown",
   "source": "##  <div align=\"center\"><b>SPECIFIKÁCIÓ ÚJRA</b></div>",
   "metadata": {
    "slideshow": {
     "slide_type": "slide"
    },
    "cell_id": "00001-a008cb70-4076-4e84-b936-0a93e84181c4",
    "deepnote_cell_type": "markdown"
   }
  },
  {
   "cell_type": "markdown",
   "source": "### **MIT ÍR LE EGY SPECIFIKÁCIÓ?**",
   "metadata": {
    "slideshow": {
     "slide_type": "fragment"
    },
    "cell_id": "00002-d607fc79-4e33-406d-9e58-0aa76cfac4ac",
    "deepnote_cell_type": "markdown"
   }
  },
  {
   "cell_type": "markdown",
   "source": "Egy probléma megoldását\n\nMi oldja meg a problémát? Az hagyján hogy hogyan...",
   "metadata": {
    "slideshow": {
     "slide_type": "fragment"
    },
    "cell_id": "00003-bca043de-2df5-4baa-8674-f55c31e9213e",
    "deepnote_cell_type": "markdown"
   }
  },
  {
   "cell_type": "markdown",
   "source": "### **MI ÉRTELME VOLT SPECIFIKÁCIÓNAK?**",
   "metadata": {
    "slideshow": {
     "slide_type": "subslide"
    },
    "cell_id": "00004-aa81ef97-1501-4eaf-8bab-dd86884563ea",
    "deepnote_cell_type": "markdown"
   }
  },
  {
   "cell_type": "markdown",
   "source": "Le tudjuk írni hogy mit várunk el.\n\n* teljesen\n* részletesen",
   "metadata": {
    "slideshow": {
     "slide_type": "fragment"
    },
    "cell_id": "00005-947f8bf2-0136-4ae7-9f82-3a461206dc26",
    "deepnote_cell_type": "markdown"
   }
  },
  {
   "cell_type": "markdown",
   "source": "## <div align=\"center\"><b>PROGRAMOZÁSI PROBLÉMA MEGOLDÁSI TERVE</b></div>\n\n* Mi oldja meg a problémát (Specifikáció)\n* Mire van ehhez szükség (Adat)\n* Hogyan használjuk ezeket a szükséges dolgokat (Algoritmus)",
   "metadata": {
    "slideshow": {
     "slide_type": "slide"
    },
    "cell_id": "00006-4508f1e0-95f3-498d-9caa-d8c69411e3cf",
    "deepnote_cell_type": "markdown"
   }
  },
  {
   "cell_type": "markdown",
   "source": "## <div align=\"center\"><b>ADAT</b></div>",
   "metadata": {
    "slideshow": {
     "slide_type": "slide"
    },
    "cell_id": "00007-ae96ea4c-d749-4b7b-8803-0223942050a8",
    "deepnote_cell_type": "markdown"
   }
  },
  {
   "cell_type": "markdown",
   "source": "### <div align=\"center\"><b>Minden amit külvilágból leképezve számítógépen tárolunk</b></div>\n\n* adatnak van:\n    * típusa\n    * értéke\n    * ha eltároljuk, van neve\n\n* típus meghatározza:\n    * értékkészletet\n    * elvégezhető műveleteket",
   "metadata": {
    "slideshow": {
     "slide_type": "fragment"
    },
    "cell_id": "00008-92c95372-9b61-49c1-a59e-217ea03eab32",
    "deepnote_cell_type": "markdown"
   }
  },
  {
   "cell_type": "markdown",
   "source": "## <div align=\"center\"><b>ADAT ELNEVEZÉSE</b></div>\n\nAttól függően, hogy egy programban hogyan használjuk az adatot, lehet\n\n* konstans\n    * értéke nem változhat a programban\n    * π -től fix szövegű hibaüzenetig lehet bármi\n    \n* változó\n    * nem feltétlen bemenet (de lehet bemenet)\n    * értéke változhat",
   "metadata": {
    "slideshow": {
     "slide_type": "slide"
    },
    "cell_id": "00009-0e818114-86f8-4952-bc9c-a197bcfcf084",
    "deepnote_cell_type": "markdown"
   }
  },
  {
   "cell_type": "markdown",
   "source": "## <div align=\"center\"><b>ELEMI ADATTÍPUSOK</b></div>\n\n* Szám\n    * Valós (féle) (float/double)\n    * Egész (integer)\n* Szöveg (string)\n    * nem mindenhol azonos string/char\n    * kódolás számíthat\n* Logikai (boolean)\n    \n",
   "metadata": {
    "slideshow": {
     "slide_type": "slide"
    },
    "cell_id": "00010-e39468e0-4d77-4d6a-8f3d-077de4345a22",
    "deepnote_cell_type": "markdown"
   }
  },
  {
   "cell_type": "markdown",
   "source": "## <div align=\"center\"><b>KIFEJEZÉS</b></div>\n\n* Kiértékelhető: ugyanúgy értéke és típusa van.\n* Konstansokon és/vagy változókon elvégzett műveletek (operációk) elvégzésével lehet kiértékelni\n* Rénézésre konstansok/változók és operátor(ok)",
   "metadata": {
    "slideshow": {
     "slide_type": "slide"
    },
    "cell_id": "00011-5edcd47f-20b6-4f05-8cff-dd065aa5a355",
    "deepnote_cell_type": "markdown"
   }
  },
  {
   "cell_type": "markdown",
   "source": "## <div align=\"center\"><b>KIFEJEZÉS</b></div>\n\n| Kifejezés   | Típus       | Érték       | Probléma    |\n| ----------- | ----------- | ----------- | ----------- | \n| 3 + 4       |             |             |             |\n| 2 + 2.5     |             |             |             |\n| 4 > 2       |             |             |             |\n| 4 = 2       |             |             |             |",
   "metadata": {
    "slideshow": {
     "slide_type": "slide"
    },
    "cell_id": "00012-6b757c60-ef8d-43a6-8a11-0126e140014e",
    "deepnote_cell_type": "markdown"
   }
  },
  {
   "cell_type": "markdown",
   "source": "## <div align=\"center\"><b>KIFEJEZÉS</b></div>\n\n| Kifejezés   | Típus       | Érték       | Probléma    |\n| ----------- | ----------- | ----------- | ----------- | \n| 3 + 4       | egész       | 7           |             |\n| 2 + 2.5     |             |             |             |\n| 4 > 2       |             |             |             |\n| 4 = 2       |             |             |             |",
   "metadata": {
    "slideshow": {
     "slide_type": "subslide"
    },
    "cell_id": "00013-a3f60ee2-1829-45cc-8736-51fec39b1ab1",
    "deepnote_cell_type": "markdown"
   }
  },
  {
   "cell_type": "markdown",
   "source": "## <div align=\"center\"><b>KIFEJEZÉS</b></div>\n\n| Kifejezés   | Típus       | Érték       | Probléma    |\n| ----------- | ----------- | ----------- | ----------- | \n| 3 + 4       |egész        | 7           |             |\n| 2 + 2.5     |float/hiba   |4.5/hiba     |különböző típusok!|\n| 4 > 2       |             |             |             |\n| 4 = 2       |             |             |             |",
   "metadata": {
    "slideshow": {
     "slide_type": "subslide"
    },
    "cell_id": "00014-fc87e8da-e65e-4baa-896c-e896cec2a5a9",
    "deepnote_cell_type": "markdown"
   }
  },
  {
   "cell_type": "markdown",
   "source": "## <div align=\"center\"><b>KIFEJEZÉS</b></div>\n\n| Kifejezés   | Típus       | Érték       | Probléma    |\n| ----------- | ----------- | ----------- | ----------- | \n| 3 + 4       | egész       | 7           |             |\n| 2 + 2.5     |float/hiba   |4.5/hiba     |különböző típusok!|\n| 4 > 2       |logikai      |IGAZ         |             |\n| 4 = 2       |             |             |             |",
   "metadata": {
    "slideshow": {
     "slide_type": "subslide"
    },
    "cell_id": "00015-7b7af52a-d63e-4fed-acdc-f103476cd43f",
    "deepnote_cell_type": "markdown"
   }
  },
  {
   "cell_type": "markdown",
   "source": "## <div align=\"center\"><b>KIFEJEZÉS</b></div>\n\n| Kifejezés   | Típus       | Érték       | Probléma    |\n| ----------- | ----------- | ----------- | ----------- | \n| 3 + 4       | egész       | 7           |             |\n| 2 + 2.5     |float/hiba   |4.5/hiba     |különböző típusok!|\n| 4 > 2       |logikai      |IGAZ         |             |\n| 4 = 2       |hiba         |hiba         |értékadás, nem összehasonlítás (==)|",
   "metadata": {
    "slideshow": {
     "slide_type": "subslide"
    },
    "cell_id": "00016-e7ab12ae-7809-4b6b-83fd-3634cfcfc7ec",
    "deepnote_cell_type": "markdown"
   }
  },
  {
   "cell_type": "markdown",
   "source": "## <div align=\"center\"><b>KIFEJEZÉS</b></div>\n\n| Kifejezés   | Típus       | Érték       | Probléma    |\n| ----------- | ----------- | ----------- | ----------- | \n| 3 + 4       | egész       | 7           |             |\n| 2 + 2.5     |float/hiba   |4.5/hiba     |különböző típusok!|\n| 4 > 2       |logikai      |IGAZ         |             |\n| 4 = 2       |hiba         |hiba         |értékadás, nem összehasonlítás (==)|\n| 4 == 2      |             |             |             |\n| 4 == \"négy\" |             |             |             |",
   "metadata": {
    "slideshow": {
     "slide_type": "subslide"
    },
    "cell_id": "00017-21c8c586-6bed-4e1d-953d-981a8becbd3c",
    "deepnote_cell_type": "markdown"
   }
  },
  {
   "cell_type": "markdown",
   "source": "## <div align=\"center\"><b>KIFEJEZÉS</b></div>\n\n| Kifejezés   | Típus       | Érték       | Probléma    |\n| ----------- | ----------- | ----------- | ----------- | \n| 3 + 4       | egész       | 7           |             |\n| 2 + 2.5     |float/hiba   |4.5/hiba     |különböző típusok!|\n| 4 > 2       |logikai      |IGAZ         |             |\n| 4 = 2       |hiba         |hiba         |értékadás, nem összehasonlítás (==)|\n| 4 == 2      |logikai      |Hamis        |             |\n| 4 == \"négy\" |             |             |             |",
   "metadata": {
    "slideshow": {
     "slide_type": "subslide"
    },
    "cell_id": "00018-facf2111-7472-4d65-ba35-f64a35ebc098",
    "deepnote_cell_type": "markdown"
   }
  },
  {
   "cell_type": "markdown",
   "source": "## <div align=\"center\"><b>KIFEJEZÉS</b></div>\n\n| Kifejezés   | Típus       | Érték       | Probléma    |\n| ----------- | ----------- | ----------- | ----------- | \n| 3 + 4       | egész       | 7           |             |\n| 2 + 2.5     |float/hiba   |4.5/hiba     |különböző típusok!|\n| 4 > 2       |logikai      |IGAZ         |             |\n| 4 = 2       |hiba         |hiba         |értékadás, nem összehasonlítás (==)|\n| 4 == 2      |logikai      |Hamis        |             |\n| 4 == \"négy\" |hiba/logikai |hiba/HAMIS   |programnyelve válogatja|",
   "metadata": {
    "slideshow": {
     "slide_type": "subslide"
    },
    "cell_id": "00019-ce601e41-388c-4310-aae9-5f68f49b91ab",
    "deepnote_cell_type": "markdown"
   }
  },
  {
   "cell_type": "markdown",
   "source": "## <div align=\"center\"><b>HOGYAN HOZUNK LÉTRE NÉVVEL, TÍPUSSAL ÉS ÉRTÉKKEL RENDELKEZŐ ADATOT?</b></div>\n\n1. Deklarálás\n    * adat nevét megadjuk\n    * egyes programnyelveknél típusát\n2. Értékadás\n    * egyenlőségjel jobb oldalán lévő kifejezést kiértékeljük\n    * értékét hozzárendeljük a deklarált névhez",
   "metadata": {
    "slideshow": {
     "slide_type": "slide"
    },
    "cell_id": "00020-6dbdbed3-0ae6-4134-a7c5-01c618da7b14",
    "deepnote_cell_type": "markdown"
   }
  },
  {
   "cell_type": "markdown",
   "source": "## <div align=\"center\"><b>ADAT ÉS KIFEJEZÉS GYORS ISMÉTLÉS</b></div>\n\n* Mivel jellemezzük az adatot?\n\n* Milyen adattípusokat ismerünk?\n\n* Hogyan hozunk létre változókat?",
   "metadata": {
    "slideshow": {
     "slide_type": "slide"
    },
    "cell_id": "00021-a10e8ab7-8c57-4762-9112-f8f652b0259f",
    "deepnote_cell_type": "markdown"
   }
  },
  {
   "cell_type": "markdown",
   "source": "### Mi lesz a típusa és értéke a következő változóknak?\n\na = 4 > 5",
   "metadata": {
    "slideshow": {
     "slide_type": "subslide"
    },
    "cell_id": "00022-1d6f11f7-d7e7-4dae-9a0e-f3a28add4031",
    "deepnote_cell_type": "markdown"
   }
  },
  {
   "cell_type": "markdown",
   "source": "b = 'alma' * 2",
   "metadata": {
    "slideshow": {
     "slide_type": "fragment"
    },
    "cell_id": "00023-ecaf4419-f244-48fc-9e21-cdb7904ca812",
    "deepnote_cell_type": "markdown"
   }
  },
  {
   "cell_type": "markdown",
   "source": "c = a + b",
   "metadata": {
    "slideshow": {
     "slide_type": "fragment"
    },
    "cell_id": "00024-1a926016-413d-4058-91a8-6fd543e52bf0",
    "deepnote_cell_type": "markdown"
   }
  },
  {
   "cell_type": "markdown",
   "source": "## <div align=\"center\"><b> STATEMENT (utasítás)</b></div>\n-   legkisebb imperatív programozási elem",
   "metadata": {
    "slideshow": {
     "slide_type": "slide"
    },
    "cell_id": "00025-08d4e643-3e23-41f9-98f9-25a542b9c24c",
    "deepnote_cell_type": "markdown"
   }
  },
  {
   "cell_type": "markdown",
   "source": "- program állapotát (state) változtatja",
   "metadata": {
    "slideshow": {
     "slide_type": "fragment"
    },
    "cell_id": "00026-b7f7ffc8-913c-4c85-ae4c-dfcc11b02385",
    "deepnote_cell_type": "markdown"
   }
  },
  {
   "cell_type": "markdown",
   "source": "- kategorizálható",
   "metadata": {
    "slideshow": {
     "slide_type": "fragment"
    },
    "cell_id": "00027-cfa7e3cf-4036-4cd1-a8fe-7f196645d694",
    "deepnote_cell_type": "markdown"
   }
  },
  {
   "cell_type": "markdown",
   "source": "- blokkosítható",
   "metadata": {
    "slideshow": {
     "slide_type": "fragment"
    },
    "cell_id": "00028-1455aec0-fa45-4696-989c-54e841180def",
    "deepnote_cell_type": "markdown"
   }
  },
  {
   "cell_type": "markdown",
   "source": "### Kifejezés vs Utasítás\n\n- a == 4 **vs.** a = 4",
   "metadata": {
    "slideshow": {
     "slide_type": "subslide"
    },
    "cell_id": "00029-70db7029-979f-4fe6-9d69-28be0b18d0d4",
    "deepnote_cell_type": "markdown"
   }
  },
  {
   "cell_type": "markdown",
   "source": "- **valami** vs **csinálj valamit**",
   "metadata": {
    "slideshow": {
     "slide_type": "fragment"
    },
    "cell_id": "00030-abc362df-6a16-4c17-94f0-0ee207ff8bcb",
    "deepnote_cell_type": "markdown"
   }
  },
  {
   "cell_type": "markdown",
   "source": "- a kifejezés **kiértékelhető** egy értékké, míg az utasítást végre kell hajtani, és az **változtat** a program állapotán",
   "metadata": {
    "slideshow": {
     "slide_type": "fragment"
    },
    "cell_id": "00031-3324eb58-cc12-4d69-b6ea-ee4a9cef518e",
    "deepnote_cell_type": "markdown"
   }
  },
  {
   "cell_type": "markdown",
   "source": "### Utasítás fajtái",
   "metadata": {
    "slideshow": {
     "slide_type": "subslide"
    },
    "cell_id": "00032-75c98106-7d44-42ab-8a05-6be7b7a86140",
    "deepnote_cell_type": "markdown"
   }
  },
  {
   "cell_type": "markdown",
   "source": "- deklaráció",
   "metadata": {
    "slideshow": {
     "slide_type": "fragment"
    },
    "cell_id": "00033-1b4df34e-b572-4386-8699-98657d60cd78",
    "deepnote_cell_type": "markdown"
   }
  },
  {
   "cell_type": "markdown",
   "source": "- értékadás",
   "metadata": {
    "slideshow": {
     "slide_type": "fragment"
    },
    "cell_id": "00034-8d2b11f3-ecb1-4564-bd55-72ff81f5fd0e",
    "deepnote_cell_type": "markdown"
   }
  },
  {
   "cell_type": "markdown",
   "source": "- függvénydefiníció",
   "metadata": {
    "slideshow": {
     "slide_type": "fragment"
    },
    "cell_id": "00035-2dd01cff-5b11-43e9-a658-249f5d127f85",
    "deepnote_cell_type": "markdown"
   }
  },
  {
   "cell_type": "markdown",
   "source": "- függvénymeghívás",
   "metadata": {
    "slideshow": {
     "slide_type": "fragment"
    },
    "cell_id": "00036-679e57ed-22e9-498a-832c-6dbb5afd0cea",
    "deepnote_cell_type": "markdown"
   }
  },
  {
   "cell_type": "markdown",
   "source": "## <div align=\"center\"><b> STATE (állapot)</b></div>\nMinden, a program által adott pontban elérhető és általa tárolt információ.",
   "metadata": {
    "slideshow": {
     "slide_type": "slide"
    },
    "cell_id": "00037-51a26f49-fef7-40b3-ab77-26ac265b4800",
    "deepnote_cell_type": "markdown"
   }
  },
  {
   "cell_type": "markdown",
   "source": "### Állapot keret\n\nAz általunk értelmezett állapotban egy **keret** jellemezhető egy három oszlopos táblázattal:",
   "metadata": {
    "slideshow": {
     "slide_type": "subslide"
    },
    "cell_id": "00038-6b889401-b9ee-4fa5-9458-9f89a820271d",
    "deepnote_cell_type": "markdown"
   }
  },
  {
   "cell_type": "markdown",
   "source": "| Név (azonosító) | Micsoda | Érték/tartalom |\n------------------|---------|----------------|\n       ...        |   ...   |      ...       |",
   "metadata": {
    "slideshow": {
     "slide_type": "fragment"
    },
    "cell_id": "00039-e802e603-d8e8-4ec0-8a31-c3d9787f672c",
    "deepnote_cell_type": "markdown"
   }
  },
  {
   "cell_type": "markdown",
   "source": "## <div align=\"center\"><b> PROGRAMOZÁSI PARADIGMÁK</b></div>",
   "metadata": {
    "slideshow": {
     "slide_type": "slide"
    },
    "cell_id": "00040-5d991113-fd16-41e3-b381-9a63ffa90af7",
    "deepnote_cell_type": "markdown"
   }
  },
  {
   "cell_type": "markdown",
   "source": "### Objektumorientált Programozás\n\nNem tevékenység vagy logika, hanem objektumok, illetve adat köré építjük a programot.",
   "metadata": {
    "slideshow": {
     "slide_type": "subslide"
    },
    "cell_id": "00041-4f5b6c08-b161-4395-aa59-7beabce27b0f",
    "deepnote_cell_type": "markdown"
   }
  },
  {
   "cell_type": "markdown",
   "source": "### Imperatív programozási paradigma\n\nLépésenként adunk választ a *Hogyan* kérdésre.",
   "metadata": {
    "slideshow": {
     "slide_type": "subslide"
    },
    "cell_id": "00042-71eedb52-8c6e-465f-8e04-8ffb156d8439",
    "deepnote_cell_type": "markdown"
   }
  },
  {
   "cell_type": "markdown",
   "source": "### Imperatív OOP\n\n- Lépésenként adunk utasításokat a programnak arra, hogy egyes objektumokat hogyan manipuláljon/kezeljen.\n\n- A programnak ebben a megközelítésben bármely pillanatban van állapota, ami meghatározza a program számára elérhető objektumok *tulajdonságait* és értékét.\n\n- A legtöbb népszerű nyelv így közelíti meg a programokat. Pl: C++, Java, C, PHP, Python...",
   "metadata": {
    "slideshow": {
     "slide_type": "subslide"
    },
    "cell_id": "00043-802801a0-0e33-4734-b579-3209833d9f80",
    "deepnote_cell_type": "markdown"
   }
  },
  {
   "cell_type": "markdown",
   "source": "## <div align=\"center\"><b> Adatlétrehozás példák</b></div>\n\n#### [PYTHONTUTOR](https://pythontutor.com/visualize.html#code=k%20%3D%202%0An%20%3D%20k%20%2B%204%0Am%20%3D%20k%20/%20n%0Al%20%3D%20m%20%3E%20k%0A%0Ahello%20%3D%20'HELLO'%0Aworld%20%3D%20'WORLD'%0A%0Aa%20%3D%20True%0Ab%20%3D%20a%20%7C%20%28hello%20%3E%20world%29%0Ac%20%3D%20%28not%20b%29%20%5E%20%28k%20%3C%20m%29%0Ad%20%3D%20hello%20%3D%3D%20world%0A%0Ax%20%3D%203.245%0Ay%20%3D%204.876%0Az%20%3D%20x%20*%20y%0Ay%20%3D%202%0A%0At%20%3D%20type%28y%29%20%3D%3D%20int&cumulative=false&heapPrimitives=nevernest&mode=edit&origin=opt-frontend.js&py=3&rawInputLstJSON=%5B%5D&textReferences=false)",
   "metadata": {
    "slideshow": {
     "slide_type": "slide"
    },
    "cell_id": "00044-8948d40f-fc37-41ac-b48a-406c77ba7952",
    "deepnote_cell_type": "markdown"
   }
  },
  {
   "cell_type": "markdown",
   "source": "### Változók létrehozása más nyelvekben\n[JAVASCRIPT TUTOR](https://pythontutor.com/javascript.html#code=var%20k%0Avar%20n%0Avar%20m%0A%0Ak%20%3D%202%0An%20%3D%20k%20%2B%204%0Am%20%3D%20k%20/%20n%0A%0Avar%20hello%20%3D%20'HELLO'%0Avar%20world%20%3D%20'WORLD'%0A%0Avar%20a%20%3D%20true%0Avar%20b%20%3D%20a%20%7C%20%28hello%20%3E%20world%29%0Avar%20c%20%3D%20!b%20%5E%20%28k%20%3C%20m%29%0Avar%20d%20%3D%20hello%20%3D%3D%20world%0A%0Avar%20x%20%3D%203.245%0Avar%20y%20%3D%204.876%0Avar%20z%20%3D%20x%20*%20y%0Ay%20%3D%202%0A%0At%20%3D%20typeof%28y%29&heapPrimitives=nevernest&mode=edit&origin=opt-frontend.js&py=js&rawInputLstJSON=%5B%5D)\n\n\n[C++ TUTOR](https://pythontutor.com/cpp.html#code=int%20main%28%29%20%7B%0A%0A%20%20int%20k%3B%0A%20%20int%20n%3B%0A%20%20int%20m%3B%0A%20%20k%20%3D%202%3B%0A%20%20n%20%3D%20k%20%2B%204%3B%0A%20%20m%20%3D%20k%20/%20n%3B%0A%20%20%0A%20%20char%20hello%20%3D%20'HELLO'%3B%0A%20%20char%20world%20%3D%20'WORLD'%3B%0A%20%20char%20hello_2%5B%5D%20%3D%20%22HELLO%22%3B%0A%20%20char%20world_2%5B%5D%20%3D%20%22WORLD%22%3B%0A%20%20%0A%20%20bool%20a%20%3D%201%3B%0A%20%20bool%20b%20%3D%20a%20%7C%20%28hello%20%3E%20world%29%3B%0A%20%20bool%20c%20%3D%20!b%20%5E%20%28k%20%3C%20m%29%3B%0A%20%20bool%20d%20%3D%20hello%20%3D%3D%20world%3B%0A%20%20bool%20e%20%3D%20hello_2%20%3D%3D%20world_2%3B%0A%20%20%0A%20%20float%20x%20%3D%203.245%3B%0A%20%20float%20y%20%3D%204.876%3B%0A%20%20float%20z%20%3D%20x%20*%20y%3B%0A%20%20y%20%3D%202%3B%0A%7D&mode=edit&origin=opt-frontend.js&py=cpp&rawInputLstJSON=%5B%5D)",
   "metadata": {
    "slideshow": {
     "slide_type": "subslide"
    },
    "cell_id": "00045-db777c87-1345-4b05-ba1f-cd0528d98587",
    "deepnote_cell_type": "markdown"
   }
  },
  {
   "cell_type": "markdown",
   "source": "<a style='text-decoration:none;line-height:16px;display:flex;color:#5B5B62;padding:10px;justify-content:end;' href='https://deepnote.com?utm_source=created-in-deepnote-cell&projectId=978e47b7-a961-4dca-a945-499e8b781a34' target=\"_blank\">\n<img alt='Created in deepnote.com' style='display:inline;max-height:16px;margin:0px;margin-right:7.5px;' src='data:image/svg+xml;base64,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' > </img>\nCreated in <span style='font-weight:600;margin-left:4px;'>Deepnote</span></a>",
   "metadata": {
    "tags": [],
    "created_in_deepnote_cell": true,
    "deepnote_cell_type": "markdown"
   }
  }
 ],
 "nbformat": 4,
 "nbformat_minor": 5,
 "metadata": {
  "celltoolbar": "Slideshow",
  "deepnote": {},
  "deepnote_execution_queue": [],
  "deepnote_notebook_id": "d021ef17-f174-4537-bf79-a5ea1f9866a3",
  "kernelspec": {
   "display_name": "Python 3 (ipykernel)",
   "language": "python",
   "name": "python3"
  },
  "language_info": {
   "codemirror_mode": {
    "name": "ipython",
    "version": 3
   },
   "file_extension": ".py",
   "mimetype": "text/x-python",
   "name": "python",
   "nbconvert_exporter": "python",
   "pygments_lexer": "ipython3",
   "version": "3.8.10"
  }
 }
}