{
 "cells": [
  {
   "cell_type": "markdown",
   "source": "# **ADAT, KIFEJEZÉS, UTASÍTÁS, ÁLLAPOT**",
   "metadata": {
    "slideshow": {
     "slide_type": "slide"
    },
    "cell_id": "00000-58f7463f-578d-43e9-a1f0-3cf0d1020e69",
    "deepnote_cell_type": "markdown"
   }
  },
  {
   "cell_type": "markdown",
   "source": "##  <div align=\"center\"><b>SPECIFIKÁCIÓ ÚJRA</b></div>",
   "metadata": {
    "slideshow": {
     "slide_type": "slide"
    },
    "cell_id": "00001-8ff31bec-03c7-4b3f-a03e-0c220fb1a192",
    "deepnote_cell_type": "markdown"
   }
  },
  {
   "cell_type": "markdown",
   "source": "### **MIT ÍR LE EGY SPECIFIKÁCIÓ?**",
   "metadata": {
    "slideshow": {
     "slide_type": "fragment"
    },
    "cell_id": "00002-61976889-ef10-4dcb-a6eb-66cf8623e138",
    "deepnote_cell_type": "markdown"
   }
  },
  {
   "cell_type": "markdown",
   "source": "Egy probléma megoldását\n\nMi oldja meg a problémát? Az hagyján hogy hogyan...",
   "metadata": {
    "slideshow": {
     "slide_type": "fragment"
    },
    "cell_id": "00003-cc8edb7c-22fd-4aea-9dc3-7b688376c05e",
    "deepnote_cell_type": "markdown"
   }
  },
  {
   "cell_type": "markdown",
   "source": "### **MI ÉRTELME VOLT SPECIFIKÁCIÓNAK?**",
   "metadata": {
    "slideshow": {
     "slide_type": "subslide"
    },
    "cell_id": "00004-8a7b6082-6f8e-4ef1-a367-f3247d88f8f1",
    "deepnote_cell_type": "markdown"
   }
  },
  {
   "cell_type": "markdown",
   "source": "Le tudjuk írni hogy mit várunk el.\n\n* teljesen\n* részletesen",
   "metadata": {
    "slideshow": {
     "slide_type": "fragment"
    },
    "cell_id": "00005-9be19fb3-55ae-4e4e-8a54-e1a9bb4178c8",
    "deepnote_cell_type": "markdown"
   }
  },
  {
   "cell_type": "markdown",
   "source": "## <div align=\"center\"><b>PROGRAMOZÁSI PROBLÉMA MEGOLDÁSI TERVE</b></div>\n\n* Mi oldja meg a problémát (Specifikáció)\n* Mire van ehhez szükség (Adat)\n* Hogyan használjuk ezeket a szükséges dolgokat (Algoritmus)",
   "metadata": {
    "slideshow": {
     "slide_type": "slide"
    },
    "cell_id": "00006-e4063a69-c1bc-48da-b869-e4caa5fa1622",
    "deepnote_cell_type": "markdown"
   }
  },
  {
   "cell_type": "markdown",
   "source": "## <div align=\"center\"><b>ADAT</b></div>",
   "metadata": {
    "slideshow": {
     "slide_type": "slide"
    },
    "cell_id": "00007-9b68c9ed-0711-4aa9-822a-fee3c26f9287",
    "deepnote_cell_type": "markdown"
   }
  },
  {
   "cell_type": "markdown",
   "source": "### <div align=\"center\"><b>Minden amit külvilágból leképezve számítógépen tárolunk</b></div>\n\n* adatnak van:\n    * típusa\n    * értéke\n    * ha eltároljuk, van neve\n\n* típus meghatározza:\n    * értékkészletet\n    * elvégezhető műveleteket",
   "metadata": {
    "slideshow": {
     "slide_type": "fragment"
    },
    "cell_id": "00008-76d4e726-96ee-4d49-86de-023267bc34e0",
    "deepnote_cell_type": "markdown"
   }
  },
  {
   "cell_type": "markdown",
   "source": "## <div align=\"center\"><b>ADAT ELNEVEZÉSE</b></div>\n\nAttól függően, hogy egy programban hogyan használjuk az adatot, lehet\n\n* konstans\n    * értéke nem változhat a programban\n    * π -től fix szövegű hibaüzenetig lehet bármi\n    \n* változó\n    * nem feltétlen bemenet (de lehet bemenet)\n    * értéke változhat",
   "metadata": {
    "slideshow": {
     "slide_type": "slide"
    },
    "cell_id": "00009-eef5a9b5-d3bd-41d7-ae74-ee35f7e1d59a",
    "deepnote_cell_type": "markdown"
   }
  },
  {
   "cell_type": "markdown",
   "source": "## <div align=\"center\"><b>ELEMI ADATTÍPUSOK</b></div>\n\n* Szám\n    * Valós (féle) (float/double)\n    * Egész (integer)\n* Szöveg (string)\n    * nem mindenhol azonos string/char\n    * kódolás számíthat\n* Logikai (boolean)\n    \n",
   "metadata": {
    "slideshow": {
     "slide_type": "slide"
    },
    "cell_id": "00010-108f0efc-14ff-4337-b773-b00a2f7fb113",
    "deepnote_cell_type": "markdown"
   }
  },
  {
   "cell_type": "markdown",
   "source": "## <div align=\"center\"><b>KIFEJEZÉS</b></div>\n\n* Kiértékelhető: ugyanúgy értéke és típusa van.\n* Konstansokon és/vagy változókon elvégzett műveletek (operációk) elvégzésével lehet kiértékelni\n* Rénézésre konstansok/változók és operátor(ok)",
   "metadata": {
    "slideshow": {
     "slide_type": "slide"
    },
    "cell_id": "00011-8c5a0649-c5a6-4e41-9b17-1c6f83d81715",
    "deepnote_cell_type": "markdown"
   }
  },
  {
   "cell_type": "markdown",
   "source": "## <div align=\"center\"><b>KIFEJEZÉS</b></div>\n\n| Kifejezés   | Típus       | Érték       | Probléma    |\n| ----------- | ----------- | ----------- | ----------- | \n| 3 + 4       |             |             |             |\n| 2 + 2.5     |             |             |             |\n| 4 > 2       |             |             |             |\n| 4 = 2       |             |             |             |",
   "metadata": {
    "slideshow": {
     "slide_type": "slide"
    },
    "cell_id": "00012-5e30b184-ab96-4a95-aa4a-f3f854091233",
    "deepnote_cell_type": "markdown"
   }
  },
  {
   "cell_type": "markdown",
   "source": "## <div align=\"center\"><b>KIFEJEZÉS</b></div>\n\n| Kifejezés   | Típus       | Érték       | Probléma    |\n| ----------- | ----------- | ----------- | ----------- | \n| 3 + 4       | egész       | 7           |             |\n| 2 + 2.5     |             |             |             |\n| 4 > 2       |             |             |             |\n| 4 = 2       |             |             |             |",
   "metadata": {
    "slideshow": {
     "slide_type": "subslide"
    },
    "cell_id": "00013-08a9a8f6-a1ae-4380-8684-2dd692a80a03",
    "deepnote_cell_type": "markdown"
   }
  },
  {
   "cell_type": "markdown",
   "source": "## <div align=\"center\"><b>KIFEJEZÉS</b></div>\n\n| Kifejezés   | Típus       | Érték       | Probléma    |\n| ----------- | ----------- | ----------- | ----------- | \n| 3 + 4       |egész        | 7           |             |\n| 2 + 2.5     |float/hiba   |4.5/hiba     |különböző típusok!|\n| 4 > 2       |             |             |             |\n| 4 = 2       |             |             |             |",
   "metadata": {
    "slideshow": {
     "slide_type": "subslide"
    },
    "cell_id": "00014-b69a06ff-2de7-4ae6-95aa-7e9ff4aeb178",
    "deepnote_cell_type": "markdown"
   }
  },
  {
   "cell_type": "markdown",
   "source": "## <div align=\"center\"><b>KIFEJEZÉS</b></div>\n\n| Kifejezés   | Típus       | Érték       | Probléma    |\n| ----------- | ----------- | ----------- | ----------- | \n| 3 + 4       | egész       | 7           |             |\n| 2 + 2.5     |float/hiba   |4.5/hiba     |különböző típusok!|\n| 4 > 2       |logikai      |IGAZ         |             |\n| 4 = 2       |             |             |             |",
   "metadata": {
    "slideshow": {
     "slide_type": "subslide"
    },
    "cell_id": "00015-a930937e-c400-4ae3-8d66-d4214f0e541e",
    "deepnote_cell_type": "markdown"
   }
  },
  {
   "cell_type": "markdown",
   "source": "## <div align=\"center\"><b>KIFEJEZÉS</b></div>\n\n| Kifejezés   | Típus       | Érték       | Probléma    |\n| ----------- | ----------- | ----------- | ----------- | \n| 3 + 4       | egész       | 7           |             |\n| 2 + 2.5     |float/hiba   |4.5/hiba     |különböző típusok!|\n| 4 > 2       |logikai      |IGAZ         |             |\n| 4 = 2       |hiba         |hiba         |értékadás, nem összehasonlítás (==)|",
   "metadata": {
    "slideshow": {
     "slide_type": "subslide"
    },
    "cell_id": "00016-a04f1dab-3773-46e5-9796-883a671f88bf",
    "deepnote_cell_type": "markdown"
   }
  },
  {
   "cell_type": "markdown",
   "source": "## <div align=\"center\"><b>KIFEJEZÉS</b></div>\n\n| Kifejezés   | Típus       | Érték       | Probléma    |\n| ----------- | ----------- | ----------- | ----------- | \n| 3 + 4       | egész       | 7           |             |\n| 2 + 2.5     |float/hiba   |4.5/hiba     |különböző típusok!|\n| 4 > 2       |logikai      |IGAZ         |             |\n| 4 = 2       |hiba         |hiba         |értékadás, nem összehasonlítás (==)|\n| 4 == 2      |             |             |             |\n| 4 == \"négy\" |             |             |             |",
   "metadata": {
    "slideshow": {
     "slide_type": "subslide"
    },
    "cell_id": "00017-e0522763-81ca-46f0-a5b0-fa2cee95b0dc",
    "deepnote_cell_type": "markdown"
   }
  },
  {
   "cell_type": "markdown",
   "source": "## <div align=\"center\"><b>KIFEJEZÉS</b></div>\n\n| Kifejezés   | Típus       | Érték       | Probléma    |\n| ----------- | ----------- | ----------- | ----------- | \n| 3 + 4       | egész       | 7           |             |\n| 2 + 2.5     |float/hiba   |4.5/hiba     |különböző típusok!|\n| 4 > 2       |logikai      |IGAZ         |             |\n| 4 = 2       |hiba         |hiba         |értékadás, nem összehasonlítás (==)|\n| 4 == 2      |logikai      |Hamis        |             |\n| 4 == \"négy\" |             |             |             |",
   "metadata": {
    "slideshow": {
     "slide_type": "subslide"
    },
    "cell_id": "00018-373a78d3-169b-4bc2-be3f-561fce24bcfb",
    "deepnote_cell_type": "markdown"
   }
  },
  {
   "cell_type": "markdown",
   "source": "## <div align=\"center\"><b>KIFEJEZÉS</b></div>\n\n| Kifejezés   | Típus       | Érték       | Probléma    |\n| ----------- | ----------- | ----------- | ----------- | \n| 3 + 4       | egész       | 7           |             |\n| 2 + 2.5     |float/hiba   |4.5/hiba     |különböző típusok!|\n| 4 > 2       |logikai      |IGAZ         |             |\n| 4 = 2       |hiba         |hiba         |értékadás, nem összehasonlítás (==)|\n| 4 == 2      |logikai      |Hamis        |             |\n| 4 == \"négy\" |hiba/logikai |hiba/HAMIS   |programnyelve válogatja|",
   "metadata": {
    "slideshow": {
     "slide_type": "subslide"
    },
    "cell_id": "00019-2f45eb8f-7558-4ab4-8dff-4d54ac63966a",
    "deepnote_cell_type": "markdown"
   }
  },
  {
   "cell_type": "markdown",
   "source": "## <div align=\"center\"><b>HOGYAN HOZUNK LÉTRE NÉVVEL, TÍPUSSAL ÉS ÉRTÉKKEL RENDELKEZŐ ADATOT?</b></div>\n\n1. Deklarálás\n    * adat nevét megadjuk\n    * egyes programnyelveknél típusát\n2. Értékadás\n    * egyenlőségjel jobb oldalán lévő kifejezést kiértékeljük\n    * értékét hozzárendeljük a deklarált névhez",
   "metadata": {
    "slideshow": {
     "slide_type": "slide"
    },
    "cell_id": "00020-60105bc2-bc73-4fdd-b3ff-b625270a6be7",
    "deepnote_cell_type": "markdown"
   }
  },
  {
   "cell_type": "markdown",
   "source": "## <div align=\"center\"><b>ADAT ÉS KIFEJEZÉS GYORS ISMÉTLÉS</b></div>\n\n* Mivel jellemezzük az adatot?\n\n* Milyen adattípusokat ismerünk?\n\n* Hogyan hozunk létre változókat?",
   "metadata": {
    "slideshow": {
     "slide_type": "slide"
    },
    "cell_id": "00021-89bbc424-8890-44a7-a994-810a4241e009",
    "deepnote_cell_type": "markdown"
   }
  },
  {
   "cell_type": "markdown",
   "source": "<a style='text-decoration:none;line-height:16px;display:flex;color:#5B5B62;padding:10px;justify-content:end;' href='https://deepnote.com?utm_source=created-in-deepnote-cell&projectId=978e47b7-a961-4dca-a945-499e8b781a34' target=\"_blank\">\n<img alt='Created in deepnote.com' style='display:inline;max-height:16px;margin:0px;margin-right:7.5px;' src='data:image/svg+xml;base64,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' > </img>\nCreated in <span style='font-weight:600;margin-left:4px;'>Deepnote</span></a>",
   "metadata": {
    "tags": [],
    "created_in_deepnote_cell": true,
    "deepnote_cell_type": "markdown"
   }
  }
 ],
 "nbformat": 4,
 "nbformat_minor": 5,
 "metadata": {
  "celltoolbar": "Slideshow",
  "kernelspec": {
   "display_name": "Python 3 (ipykernel)",
   "language": "python",
   "name": "python3"
  },
  "language_info": {
   "codemirror_mode": {
    "name": "ipython",
    "version": 3
   },
   "file_extension": ".py",
   "mimetype": "text/x-python",
   "name": "python",
   "nbconvert_exporter": "python",
   "pygments_lexer": "ipython3",
   "version": "3.9.6"
  },
  "deepnote_notebook_id": "323e1a3a-41f4-402d-868b-5333c776ae75",
  "deepnote": {},
  "deepnote_execution_queue": []
 }
}