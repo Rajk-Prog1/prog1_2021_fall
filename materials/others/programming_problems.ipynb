{
 "cells": [
  {
   "cell_type": "markdown",
   "source": "# Programozási problémák",
   "metadata": {
    "tags": [],
    "cell_id": "00001-9fd5d170-6843-45ea-bc02-3202e4c693e1",
    "deepnote_cell_type": "markdown"
   }
  },
  {
   "cell_type": "markdown",
   "source": "## Bogi\n\n1. Melyik termék a legolcsóbb?\n2. Melyik lakást vegyem ki ár-érték arány szerint?\n3. Szülinapi emlékeztetők.\n4. Vannak hozzávalóim, mit tudok főzni belőle?\n5. Van egy adott számhalmaz, keressen meg minden számot, ami 3-mal osztható.",
   "metadata": {
    "tags": [],
    "cell_id": "00001-293641d3-01ac-4e4b-9e86-41131b046a6a",
    "deepnote_cell_type": "markdown"
   }
  },
  {
   "cell_type": "markdown",
   "source": "## Dani\n\n1. Órák cseréje tárgyfelvétel után\n2. Anyukámnak napi beszámoló arról, hogy mit ettem\n3. Használt tulajdonok értékesítése\n4. Hivatkozások megfelelő használata egy beszámolóban\n5. SZKTP számára releváns iskolák kiválasztása",
   "metadata": {
    "tags": [],
    "cell_id": "00002-f84d291c-aac7-4923-8e50-dbcd9b6fe51f",
    "deepnote_cell_type": "markdown"
   }
  },
  {
   "cell_type": "markdown",
   "source": "## Dorka\n\n1. Melyik egyetemre jelentkezzen egy végzős diák.\n\n2. Órarend összeállítás a Neptunban.\n\n3. Egy osztályból kiválasztani a legidősebb embert.\n\n4. Bevásárló lista készítése.\n\n5. Bolognai spagetti készítés.",
   "metadata": {
    "tags": [],
    "cell_id": "00003-f5ab6ee6-d8a8-46fe-9fa9-9ea4c44c236b",
    "deepnote_cell_type": "markdown"
   }
  },
  {
   "cell_type": "markdown",
   "source": "## Eszter\n\n1. Adott halmazból a legnagyobb 2-vel osztható szám megtalálása.\n2. Egy startlistából a 2015 előtt született lovak kiszűrése.\n3. Kondi felpimpelése.\n4. Festékszín kikeverése.\n5. Derékszögű háromszög területének kiszámolása.",
   "metadata": {
    "tags": [],
    "cell_id": "00004-b8dd8167-8d98-4209-8b6e-6a5cd4af8940",
    "deepnote_cell_type": "markdown"
   }
  },
  {
   "cell_type": "markdown",
   "source": "## HAko\n\n1. lift optimalizáció (pl. telefonról jelezni, hogy 5 perc múlva földszintről 5-re akarok menni)\n2. hasonló bpm-ű zeneszámok válogatása\n3. ébredéstől, és napirendtől függően időpont ajánlás arra, hogy mikor jó edzeni\n4. növények öntözésére emlékeztető (pl. különböző növénytípusok beállítása, gomb az adott növények öntézésére)\n5. emlékeztető a kolis pályazatokról",
   "metadata": {
    "tags": [],
    "cell_id": "00005-a6d84f09-7f86-4f18-9500-f563b05cc12a",
    "deepnote_cell_type": "markdown"
   }
  },
  {
   "cell_type": "markdown",
   "source": "## Katinka\n\n1. szobaosztó\n2. reggeli kávéfőzés\n3. koszos edények elmosogatása\n4. kolidíj fizetése\n5. esetversenyek kigyűjtése egy spreadbe",
   "metadata": {
    "tags": [],
    "cell_id": "00006-f6a63f31-fc8a-462a-99c0-458abbdf37d9",
    "deepnote_cell_type": "markdown"
   }
  },
  {
   "cell_type": "markdown",
   "source": "## Keve\n\n1. Legkisebb közös többszörös.\n2. Egy szám négyzete.\n3. Születésnapja van-e valakinek.\n4. Hol van a labda.\n5. Eszünk túró rudit kövi kurzuson.",
   "metadata": {
    "tags": [],
    "cell_id": "00007-c30428a9-84c9-4853-abee-ca67d0c2f2f3",
    "deepnote_cell_type": "markdown"
   }
  },
  {
   "cell_type": "markdown",
   "source": "## MBence\n\n1.\n2.\n3.\n4.\n5.",
   "metadata": {
    "tags": [],
    "cell_id": "00008-5132ca66-05f5-47c7-b9a3-decd7c388305",
    "deepnote_cell_type": "markdown"
   }
  },
  {
   "cell_type": "markdown",
   "source": "## Szabi\n\n1. Mossuk ki a ruhákat\n2. Főzzünk virslit\n3. Szereljünk össze egy ikeás bútort\n4. Válasszuk ki egy számhalmazból a páratlan, 10-nél nagyobb számokat\n5. Egy tömbben szereplő számokhoz adjuk meg azok 10-szeresét, ha a szám páros, és osszuk el 17-tel ha páratlan.",
   "metadata": {
    "tags": [],
    "cell_id": "00009-57635f9e-0e4d-4b88-b856-da74307ee7f8",
    "deepnote_cell_type": "markdown"
   }
  },
  {
   "cell_type": "markdown",
   "source": "<a style='text-decoration:none;line-height:16px;display:flex;color:#5B5B62;padding:10px;justify-content:end;' href='https://deepnote.com?utm_source=created-in-deepnote-cell&projectId=978e47b7-a961-4dca-a945-499e8b781a34' target=\"_blank\">\n<img alt='Created in deepnote.com' style='display:inline;max-height:16px;margin:0px;margin-right:7.5px;' src='data:image/svg+xml;base64,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' > </img>\nCreated in <span style='font-weight:600;margin-left:4px;'>Deepnote</span></a>",
   "metadata": {
    "tags": [],
    "created_in_deepnote_cell": true,
    "deepnote_cell_type": "markdown"
   }
  }
 ],
 "nbformat": 4,
 "nbformat_minor": 2,
 "metadata": {
  "orig_nbformat": 2,
  "deepnote": {
   "is_reactive": false
  },
  "deepnote_notebook_id": "6cff194d-194b-4dc6-913c-2aa7fee20c7a",
  "deepnote_execution_queue": []
 }
}