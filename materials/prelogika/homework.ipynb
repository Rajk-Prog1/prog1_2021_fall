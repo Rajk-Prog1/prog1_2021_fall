{
 "cells": [
  {
   "cell_type": "markdown",
   "source": "# Házi",
   "metadata": {
    "cell_id": "00000-14151043-4856-4d09-9603-ba10df96bbcd",
    "deepnote_app_coordinates": {
     "h": 5,
     "w": 24,
     "x": 0,
     "y": 0
    },
    "deepnote_cell_type": "markdown"
   }
  },
  {
   "cell_type": "markdown",
   "source": "### 0. Operatív\n\nHozzatok létre a `members` mappán belül egy saját (bece-/fantázia-)nevetekkel (ékezetek, szóközök nélkül) ellátott almappát. Ide fogjátok tölteni majd a házikat.",
   "metadata": {
    "cell_id": "00001-8fde4534-f4b0-40f7-ba9b-8d39fc7597bd",
    "deepnote_app_coordinates": {
     "h": 5,
     "w": 24,
     "x": 0,
     "y": 6
    },
    "deepnote_cell_type": "markdown"
   }
  },
  {
   "cell_type": "markdown",
   "source": "-------",
   "metadata": {
    "cell_id": "00002-9de81efe-cc2d-432f-a70e-f460fe661aeb",
    "deepnote_app_coordinates": {
     "h": 5,
     "w": 24,
     "x": 0,
     "y": 12
    },
    "deepnote_cell_type": "markdown"
   }
  },
  {
   "cell_type": "markdown",
   "source": "## 1. Gyakorlat\n\nA következő állításokat fejezzétek ki paraméterek, kvantorok és logikai műveletek segítségével. A megoldásokat létrehozhatjátok elektronikusan, de befotózott, tollal írt jegyzetet is elfogadunk. A lényeg, hogy átlátható és olvasható legyen. A kész megoldást töltsétek fel **kedd (14.) éjfélig** a fent létrehozott mappába.\n\n**Predikátumok:**\n- F(x): *x férfi*\n- N(x): *x nő*\n- P(x, y): *y személy x személy gyereke*\n\n**Kifejezendő állítások:**\n- A) *k-nak és d-nek van közös lánya*\n- B) *csak a férfiak között vannak gyermektelenek*\n- C) *vannak egynemű testvérek*\n- D) *minden nőnek vagy gyereke*\n- E) *k-nak van lány és fiú unokája is*\n\n Segítségnek a ```symbols_exercise.pdf``` fájlban találjátok a kurzuson használt jelöléseket, és a szexuális feladatok megoldását.",
   "metadata": {
    "cell_id": "00003-ecacb31d-7699-45dd-ac95-9dd01f7ee8ae",
    "deepnote_app_coordinates": {
     "h": 18,
     "w": 24,
     "x": 0,
     "y": 54
    },
    "deepnote_cell_type": "markdown"
   }
  },
  {
   "cell_type": "markdown",
   "source": "-------",
   "metadata": {
    "cell_id": "00004-e6def71e-1bdd-421a-8a1d-171e54875b3d",
    "deepnote_app_coordinates": {
     "h": 5,
     "w": 24,
     "x": 0,
     "y": 24
    },
    "deepnote_cell_type": "markdown"
   }
  },
  {
   "cell_type": "markdown",
   "source": "## 2. Elmélet\n\n- Olvassátok el ezt a cikket: [How Aristotle created the computer](https://www.theatlantic.com/technology/archive/2017/03/aristotle-computer/518697/)\n- Nézzétek meg ezt a videót: [Learn how computers add numbers and build a 4 bit adder circuit](https://www.youtube.com/watch?v=wvJc9CZcvBc&feature=share&fbclid=IwAR1hnwQuJA0fN8JhTg2CDeI-2woN3xIBzKuXtIzeVdVHzfE46cfc05H3XDM), amiben a faszi bemutatja, hogyan áll össze egy bonyolultabb összeadó, és ténylegesen meg is építi a gépet.\n\nAz alábbi kérdések közül mindegyikőtöknek **tetszőlegesen választott kettőt (egyet a videóhoz, és egyet a cikkhez) meg kell válaszolnia a következő kurzusig**, komment formájában. Ez first come, first served alapon megy, tehát ha valaki már elvitte a kedvenc kérdéseteket, kénytelenek lesztek másikat választani. Kommentelni úgy tudtok, hogy az adott kérdés cellájára álltok, és jobb oldalt felajánlja az \"Add comment\" opciót. (Ez után nem jeleníti meg folyamatosan a kommentet, csak ha rákattintotok.)",
   "metadata": {
    "cell_id": "00005-a39e5f1c-4e21-4c48-8447-1a33f9740adf",
    "deepnote_app_coordinates": {
     "h": 5,
     "w": 24,
     "x": 0,
     "y": 30
    },
    "deepnote_cell_type": "markdown"
   }
  },
  {
   "cell_type": "markdown",
   "source": "#### A cikkhez\n(*Ezek angolul vannak, mert így egyszerűbb követni a cikk nyelvezetét.*)",
   "metadata": {
    "cell_id": "00006-6f130117-226d-41c8-b7d4-a520df45b168",
    "deepnote_cell_type": "markdown"
   }
  },
  {
   "cell_type": "markdown",
   "source": "(1) What was Aristotle's contibution to the development of formal logic?",
   "metadata": {
    "cell_id": "00007-86a3bf35-5d2f-479e-8ec9-4017eed24f7a",
    "deepnote_cell_type": "markdown"
   }
  },
  {
   "cell_type": "markdown",
   "source": "(2) How did Boole improve on Aristotle's system of logic?",
   "metadata": {
    "cell_id": "00008-2a919a35-d36a-42fa-b391-612cbb5a4f84",
    "deepnote_cell_type": "markdown"
   }
  },
  {
   "cell_type": "markdown",
   "source": "(3) In Shannon's table, which rows correspond to which logical operations we discussed?",
   "metadata": {
    "cell_id": "00009-e7d7244d-b091-4cbf-adfb-c68d57778397",
    "deepnote_cell_type": "markdown"
   }
  },
  {
   "cell_type": "markdown",
   "source": "(4) Explain the concept of the \"universal characteristic\" invented by Leibnitz!",
   "metadata": {
    "cell_id": "00010-21c41fc5-7b9c-4a6f-af17-9723e44091eb",
    "deepnote_cell_type": "markdown"
   }
  },
  {
   "cell_type": "markdown",
   "source": "(5)What's the difference between semantics and sytax, and why is it important to separate the two?",
   "metadata": {
    "cell_id": "00011-84ca84d0-9951-4b84-a629-f193f4768681",
    "deepnote_cell_type": "markdown"
   }
  },
  {
   "cell_type": "markdown",
   "source": "(6) What's the difference between completeness and decidability?",
   "metadata": {
    "cell_id": "00012-dd1df5d1-38ee-45db-b72a-b61dd25c13f8",
    "deepnote_cell_type": "markdown"
   }
  },
  {
   "cell_type": "markdown",
   "source": "(7) Explain Russel's paradox!",
   "metadata": {
    "cell_id": "00013-4d931be2-42b6-4070-abd6-95b0c149c72d",
    "deepnote_cell_type": "markdown"
   }
  },
  {
   "cell_type": "markdown",
   "source": "(8) Explain Gödel’s incompleteness theorem!",
   "metadata": {
    "cell_id": "00014-a7c5bdf9-8e2c-44a1-add1-62cd7a402538",
    "deepnote_cell_type": "markdown"
   }
  },
  {
   "cell_type": "markdown",
   "source": "(9) What were Turing's contributions to computer science?",
   "metadata": {
    "cell_id": "00015-d6ef78b5-4f10-4ff3-b23f-54e6d8eb03f1",
    "deepnote_cell_type": "markdown"
   }
  },
  {
   "cell_type": "markdown",
   "source": "(10) What's the difference between Turing's and Von Neumann's philosophy in constructing computers?",
   "metadata": {
    "cell_id": "00016-50001b85-8b31-4c99-a260-2dc4241a9640",
    "deepnote_cell_type": "markdown"
   }
  },
  {
   "cell_type": "markdown",
   "source": "(11) How does machine learning differ from traditional computing in terms of the applied logic?",
   "metadata": {
    "cell_id": "00017-3d6f3450-9d79-49ce-9087-78aa9d2ea816",
    "deepnote_cell_type": "markdown"
   }
  },
  {
   "cell_type": "markdown",
   "source": "#### A videóhoz",
   "metadata": {
    "cell_id": "00018-ca791019-59ae-4f04-a917-9d9c7e23b5ae",
    "deepnote_cell_type": "markdown"
   }
  },
  {
   "cell_type": "markdown",
   "source": "(1) Hogyan invertálható egy tetszőleges bit?",
   "metadata": {
    "cell_id": "00019-26498f9a-b4ac-470f-a169-e877b6787fa1",
    "deepnote_cell_type": "markdown"
   }
  },
  {
   "cell_type": "markdown",
   "source": "(2) Mi a különbség a half adder és a full adder között?",
   "metadata": {
    "cell_id": "00020-6902f423-bd48-49a0-93e9-18bc3ba33445",
    "deepnote_cell_type": "markdown"
   }
  },
  {
   "cell_type": "markdown",
   "source": "(3) Mekkora lehet a legnagyobb összeg, amit a 4 bites összeadó eredményül adhat?",
   "metadata": {
    "cell_id": "00021-21289845-af1c-4eb8-98fe-a40e419aa468",
    "deepnote_cell_type": "markdown"
   }
  },
  {
   "cell_type": "markdown",
   "source": "(4) Hány full adder összekapcsolására van szükség ahhoz, hogy összeadd a 134-et és a 937-et?",
   "metadata": {
    "cell_id": "00022-abc17e35-c256-40cc-8600-36a3ebde5a52",
    "deepnote_cell_type": "markdown"
   }
  },
  {
   "cell_type": "markdown",
   "source": "(5) Elméletben lehetséges két olyan számot megadni, amelyet semmilyen összeadó áramkör nem tud összeadni?",
   "metadata": {
    "cell_id": "00023-06922528-f90c-4586-8027-5377089d415b",
    "deepnote_cell_type": "markdown"
   }
  },
  {
   "cell_type": "markdown",
   "source": "(6)Hány művelet (konjukció, negáció stb.) elvégzése szükséges a 34 és a 13 összeadásához?",
   "metadata": {
    "cell_id": "00024-ad647bf5-465c-4e45-967f-f426548ab7a0",
    "deepnote_cell_type": "markdown"
   }
  },
  {
   "cell_type": "markdown",
   "source": "(7) Mit jelent az, ha egy összeadó áramkör utolsó egységének carry kimenete 1-et ad eredményül?",
   "metadata": {
    "cell_id": "00025-0f7da89e-d5c8-4539-8d78-57a31fd40907",
    "deepnote_cell_type": "markdown"
   }
  },
  {
   "cell_type": "markdown",
   "source": "(8) Egy 4 bites összeadó áramkörben maximum hány carry output vehet fel 1-et?",
   "metadata": {
    "cell_id": "00026-c5359bbe-51ef-40c3-b84f-5d1bc0144e85",
    "deepnote_cell_type": "markdown"
   }
  },
  {
   "cell_type": "markdown",
   "source": "(9) Mi lesz a 3. egység carry bemenetének értéke egy olyan összeadó áramkörben, ami a 123-at és a 321-et adja össze?",
   "metadata": {
    "cell_id": "00027-f2848d1c-bf9f-4635-a090-a8c4173419b6",
    "deepnote_cell_type": "markdown"
   }
  },
  {
   "cell_type": "markdown",
   "source": "-------",
   "metadata": {
    "cell_id": "00006-d0eb5475-bfa6-4266-9c25-5ccbef343df9",
    "deepnote_app_coordinates": {
     "h": 5,
     "w": 24,
     "x": 0,
     "y": 36
    },
    "deepnote_cell_type": "markdown"
   }
  },
  {
   "cell_type": "markdown",
   "source": "### +1 Érdekességnek\n\nHa mélyebben érdekel a bináris összeadós téma, érdemes megnézni ezt a kétrészes videósorozatot is:\n- [első](https://www.youtube.com/watch?time_continue=738&v=l7rce6IQDWs&feature=emb_logo&fbclid=IwAR2gdCGpGMqVgul2H6PUMcpmJGR3Zq-3zvka-qWTwoFcoEgR56IKRoNjQIA)\n- [második](https://www.youtube.com/watch?v=uqY3FMuMuRo&feature=youtu.be&fbclid=IwAR3I1DtZ5T_X8mFlfBGPiF_UAgGnrNGYDqjw9GmJWc1e8wug5rU8Ag8tpyA),\nahol bináris összeadók segítségével létrejön az alábbi kép egy madárról.\n\n![bird.png](bird.png)",
   "metadata": {
    "cell_id": "00007-4de308db-c98c-4ab3-a732-62652d364e9b",
    "deepnote_app_coordinates": {
     "h": 5,
     "w": 24,
     "x": 0,
     "y": 42
    },
    "deepnote_cell_type": "markdown"
   }
  },
  {
   "cell_type": "markdown",
   "source": "<a style='text-decoration:none;line-height:16px;display:flex;color:#5B5B62;padding:10px;justify-content:end;' href='https://deepnote.com?utm_source=created-in-deepnote-cell&projectId=978e47b7-a961-4dca-a945-499e8b781a34' target=\"_blank\">\n<img alt='Created in deepnote.com' style='display:inline;max-height:16px;margin:0px;margin-right:7.5px;' src='data:image/svg+xml;base64,PD94bWwgdmVyc2lvbj0iMS4wIiBlbmNvZGluZz0iVVRGLTgiPz4KPHN2ZyB3aWR0aD0iODBweCIgaGVpZ2h0PSI4MHB4IiB2aWV3Qm94PSIwIDAgODAgODAiIHZlcnNpb249IjEuMSIgeG1sbnM9Imh0dHA6Ly93d3cudzMub3JnLzIwMDAvc3ZnIiB4bWxuczp4bGluaz0iaHR0cDovL3d3dy53My5vcmcvMTk5OS94bGluayI+CiAgICA8IS0tIEdlbmVyYXRvcjogU2tldGNoIDU0LjEgKDc2NDkwKSAtIGh0dHBzOi8vc2tldGNoYXBwLmNvbSAtLT4KICAgIDx0aXRsZT5Hcm91cCAzPC90aXRsZT4KICAgIDxkZXNjPkNyZWF0ZWQgd2l0aCBTa2V0Y2guPC9kZXNjPgogICAgPGcgaWQ9IkxhbmRpbmciIHN0cm9rZT0ibm9uZSIgc3Ryb2tlLXdpZHRoPSIxIiBmaWxsPSJub25lIiBmaWxsLXJ1bGU9ImV2ZW5vZGQiPgogICAgICAgIDxnIGlkPSJBcnRib2FyZCIgdHJhbnNmb3JtPSJ0cmFuc2xhdGUoLTEyMzUuMDAwMDAwLCAtNzkuMDAwMDAwKSI+CiAgICAgICAgICAgIDxnIGlkPSJHcm91cC0zIiB0cmFuc2Zvcm09InRyYW5zbGF0ZSgxMjM1LjAwMDAwMCwgNzkuMDAwMDAwKSI+CiAgICAgICAgICAgICAgICA8cG9seWdvbiBpZD0iUGF0aC0yMCIgZmlsbD0iIzAyNjVCNCIgcG9pbnRzPSIyLjM3NjIzNzYyIDgwIDM4LjA0NzY2NjcgODAgNTcuODIxNzgyMiA3My44MDU3NTkyIDU3LjgyMTc4MjIgMzIuNzU5MjczOSAzOS4xNDAyMjc4IDMxLjY4MzE2ODMiPjwvcG9seWdvbj4KICAgICAgICAgICAgICAgIDxwYXRoIGQ9Ik0zNS4wMDc3MTgsODAgQzQyLjkwNjIwMDcsNzYuNDU0OTM1OCA0Ny41NjQ5MTY3LDcxLjU0MjI2NzEgNDguOTgzODY2LDY1LjI2MTk5MzkgQzUxLjExMjI4OTksNTUuODQxNTg0MiA0MS42NzcxNzk1LDQ5LjIxMjIyODQgMjUuNjIzOTg0Niw0OS4yMTIyMjg0IEMyNS40ODQ5Mjg5LDQ5LjEyNjg0NDggMjkuODI2MTI5Niw0My4yODM4MjQ4IDM4LjY0NzU4NjksMzEuNjgzMTY4MyBMNzIuODcxMjg3MSwzMi41NTQ0MjUgTDY1LjI4MDk3Myw2Ny42NzYzNDIxIEw1MS4xMTIyODk5LDc3LjM3NjE0NCBMMzUuMDA3NzE4LDgwIFoiIGlkPSJQYXRoLTIyIiBmaWxsPSIjMDAyODY4Ij48L3BhdGg+CiAgICAgICAgICAgICAgICA8cGF0aCBkPSJNMCwzNy43MzA0NDA1IEwyNy4xMTQ1MzcsMC4yNTcxMTE0MzYgQzYyLjM3MTUxMjMsLTEuOTkwNzE3MDEgODAsMTAuNTAwMzkyNyA4MCwzNy43MzA0NDA1IEM4MCw2NC45NjA0ODgyIDY0Ljc3NjUwMzgsNzkuMDUwMzQxNCAzNC4zMjk1MTEzLDgwIEM0Ny4wNTUzNDg5LDc3LjU2NzA4MDggNTMuNDE4MjY3Nyw3MC4zMTM2MTAzIDUzLjQxODI2NzcsNTguMjM5NTg4NSBDNTMuNDE4MjY3Nyw0MC4xMjg1NTU3IDM2LjMwMzk1NDQsMzcuNzMwNDQwNSAyNS4yMjc0MTcsMzcuNzMwNDQwNSBDMTcuODQzMDU4NiwzNy43MzA0NDA1IDkuNDMzOTE5NjYsMzcuNzMwNDQwNSAwLDM3LjczMDQ0MDUgWiIgaWQ9IlBhdGgtMTkiIGZpbGw9IiMzNzkzRUYiPjwvcGF0aD4KICAgICAgICAgICAgPC9nPgogICAgICAgIDwvZz4KICAgIDwvZz4KPC9zdmc+' > </img>\nCreated in <span style='font-weight:600;margin-left:4px;'>Deepnote</span></a>",
   "metadata": {
    "tags": [],
    "created_in_deepnote_cell": true,
    "deepnote_cell_type": "markdown"
   }
  }
 ],
 "nbformat": 4,
 "nbformat_minor": 4,
 "metadata": {
  "deepnote": {},
  "deepnote_app_layout": "article",
  "deepnote_execution_queue": [],
  "deepnote_notebook_id": "8d5383cb-a18b-444f-83ad-b8b8c9f6a649",
  "kernelspec": {
   "display_name": "Python 3",
   "language": "python",
   "name": "python3"
  },
  "language_info": {
   "codemirror_mode": {
    "name": "ipython",
    "version": 3
   },
   "file_extension": ".py",
   "mimetype": "text/x-python",
   "name": "python",
   "nbconvert_exporter": "python",
   "pygments_lexer": "ipython3",
   "version": "3.8.10"
  }
 }
}