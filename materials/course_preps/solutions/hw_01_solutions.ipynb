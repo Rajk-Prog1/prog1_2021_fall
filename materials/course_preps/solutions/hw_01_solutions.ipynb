{
 "cells": [
  {
   "cell_type": "markdown",
   "source": "# 1. Házi feladat\n\nA következő állításokat fejezzétek ki paraméterek, kvantorok és logikai műveletek segítségével.\n\n**Predikátumok:**\n- F(x): *x férfi*\n- N(x): *x nő*\n- P(x, y): *y személy x személy gyereke*\n\n**Kifejezendő állítások:**\n- A) *k-nak és d-nek van közös lánya*\n- B) *csak a férfiak között vannak gyermektelenek*\n- C) *vannak egynemű testvérek*\n- D) *minden nőnek vagy gyereke*\n- E) *k-nak van lány és fiú unokája is*",
   "metadata": {
    "tags": [],
    "cell_id": "00000-0fef7a98-3fa6-4a7f-9a73-18174d38412f",
    "deepnote_cell_type": "markdown"
   }
  },
  {
   "cell_type": "markdown",
   "source": "# Megoldások\nTöbbféle megoldás van mindegyik feladatra, ezeket bulletpoint-okban gyűjtjük",
   "metadata": {
    "tags": [],
    "cell_id": "00001-dc7f2c31-8133-4606-93df-3cba67a10e0b",
    "deepnote_cell_type": "markdown"
   }
  },
  {
   "cell_type": "markdown",
   "source": "### A) k-nak és d-nek van közös lánya",
   "metadata": {
    "tags": [],
    "cell_id": "00002-ae1e10cf-905c-4508-b451-f5f1ec19e2d8",
    "deepnote_cell_type": "markdown"
   }
  },
  {
   "cell_type": "markdown",
   "source": "- $ \\exists x (N(x) \\land P(k,x) \\land P(d,x))$",
   "metadata": {
    "tags": [],
    "cell_id": "00003-b43b65ed-1710-4382-8465-7a729e20922e",
    "deepnote_cell_type": "markdown"
   }
  },
  {
   "cell_type": "markdown",
   "source": "### B) Csak a férfiak között vannak gyermektelenek",
   "metadata": {
    "tags": [],
    "cell_id": "00004-7038af62-32c7-4b8b-a4d5-b93f65abcf79",
    "deepnote_cell_type": "markdown"
   }
  },
  {
   "cell_type": "markdown",
   "source": "- $\\exists x(F(x) \\land \\nexists y(P(x,y))) \\land \\nexists z(N(z) \\land \\nexists w(P(z,w)))$\n\n- $\\exists x(F(x) \\land \\nexists y(P(x, y))) \\land \\forall z(N(z) \\Rightarrow \\exists w(P(x, w)))$",
   "metadata": {
    "tags": [],
    "cell_id": "00005-1ffa5746-1c94-46a5-8b15-30e73c93de4a",
    "deepnote_cell_type": "markdown"
   }
  },
  {
   "cell_type": "markdown",
   "source": "### C) Vannak egynemű testvérek",
   "metadata": {
    "tags": [],
    "cell_id": "00006-470f5065-d3cb-450c-84c5-7f112e203413",
    "deepnote_cell_type": "markdown"
   }
  },
  {
   "cell_type": "markdown",
   "source": "- $\\exists x, y (x \\neq y \\land N(x) \\Leftrightarrow N(y) \\land \\forall z (P(z, x) \\Leftrightarrow P(z, y)))$\n\n- $\\exists x, y, z (x \\neq y \\land P(z, x) \\land P(z, y) \\land ((F(x) \\land F(y)) \\lor (N(x) \\land N(y))))$",
   "metadata": {
    "tags": [],
    "cell_id": "00007-e927dd4a-4fb5-4509-9865-af4447514487",
    "deepnote_cell_type": "markdown"
   }
  },
  {
   "cell_type": "markdown",
   "source": "### D) Minden nőnek van gyereke",
   "metadata": {
    "tags": [],
    "cell_id": "00008-4dae12d6-07a5-458a-befc-1ac74b7aaa3c",
    "deepnote_cell_type": "markdown"
   }
  },
  {
   "cell_type": "markdown",
   "source": "- $\\forall x (N(x) \\Rightarrow \\exists y(P(x, y)))$\n- $\\nexists x(N(x) \\land \\nexists y(P(x,y))$",
   "metadata": {
    "tags": [],
    "cell_id": "00009-564ddb14-8656-4002-9364-d0423e04c709",
    "deepnote_cell_type": "markdown"
   }
  },
  {
   "cell_type": "markdown",
   "source": "### E) k-nak van lány és fiú unokája is",
   "metadata": {
    "tags": [],
    "cell_id": "00010-71ffa8a6-8470-4917-bc3f-a8c85c7ee6a6",
    "deepnote_cell_type": "markdown"
   }
  },
  {
   "cell_type": "markdown",
   "source": "- $\\exists x (N(x) \\land \\exists y(P(y, x) \\land P(k, y))) \\land \\exists z (F(z) \\land \\exists w(P(w, z) \\land P(k, w)))$\n\n- $\\exists x(P(k,x) \\land \\exists a(P(x,a) \\land N(a))) \\land \\exists y(P(k,y) \\land \\exists b(P(y,b) \\land F(b)))$",
   "metadata": {
    "tags": [],
    "cell_id": "00011-76627a50-91ba-4f6d-baca-50c1f8524029",
    "deepnote_cell_type": "markdown"
   }
  },
  {
   "cell_type": "markdown",
   "source": "<a style='text-decoration:none;line-height:16px;display:flex;color:#5B5B62;padding:10px;justify-content:end;' href='https://deepnote.com?utm_source=created-in-deepnote-cell&projectId=978e47b7-a961-4dca-a945-499e8b781a34' target=\"_blank\">\n<img alt='Created in deepnote.com' style='display:inline;max-height:16px;margin:0px;margin-right:7.5px;' src='data:image/svg+xml;base64,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' > </img>\nCreated in <span style='font-weight:600;margin-left:4px;'>Deepnote</span></a>",
   "metadata": {
    "tags": [],
    "created_in_deepnote_cell": true,
    "deepnote_cell_type": "markdown"
   }
  }
 ],
 "nbformat": 4,
 "nbformat_minor": 2,
 "metadata": {
  "orig_nbformat": 2,
  "deepnote": {
   "is_reactive": false
  },
  "deepnote_notebook_id": "8098da06-85c5-41dd-a74e-02deedb6c8cd",
  "deepnote_execution_queue": []
 }
}