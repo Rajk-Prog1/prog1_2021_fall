{
 "cells": [
  {
   "cell_type": "markdown",
   "source": "# Module",
   "metadata": {
    "tags": [],
    "cell_id": "00000-7a4796bc-651f-4a09-a191-dec9d73c2b1f",
    "deepnote_cell_type": "markdown"
   }
  },
  {
   "cell_type": "code",
   "metadata": {
    "tags": [],
    "cell_id": "00000-91193d50-0cce-44fe-813c-b8cbcbe0661d",
    "deepnote_to_be_reexecuted": false,
    "source_hash": "e7a7f73",
    "execution_start": 1637259560363,
    "execution_millis": 37,
    "deepnote_cell_type": "code"
   },
   "source": "import print_things_module\nprint_things_module.print_upper(\"alma\")\n",
   "outputs": [
    {
     "name": "stdout",
     "text": "ALMA\n",
     "output_type": "stream"
    }
   ],
   "execution_count": null
  },
  {
   "cell_type": "code",
   "source": "print_upper(\"alma\")",
   "metadata": {
    "tags": [],
    "cell_id": "00002-149f20f9-c831-4208-9c68-c4bfa4939388",
    "deepnote_to_be_reexecuted": false,
    "source_hash": "3af8d6a6",
    "execution_start": 1637259566979,
    "execution_millis": 224,
    "deepnote_cell_type": "code"
   },
   "outputs": [
    {
     "output_type": "error",
     "ename": "NameError",
     "evalue": "name 'print_upper' is not defined",
     "traceback": [
      "\u001b[0;31m---------------------------------------------------------------------------\u001b[0m",
      "\u001b[0;31mNameError\u001b[0m                                 Traceback (most recent call last)",
      "\u001b[0;32m<ipython-input-5-b5e5f0610640>\u001b[0m in \u001b[0;36m<module>\u001b[0;34m\u001b[0m\n\u001b[0;32m----> 1\u001b[0;31m \u001b[0mprint_upper\u001b[0m\u001b[0;34m(\u001b[0m\u001b[0;34m\"alma\"\u001b[0m\u001b[0;34m)\u001b[0m\u001b[0;34m\u001b[0m\u001b[0;34m\u001b[0m\u001b[0m\n\u001b[0m",
      "\u001b[0;31mNameError\u001b[0m: name 'print_upper' is not defined"
     ]
    }
   ],
   "execution_count": null
  },
  {
   "cell_type": "code",
   "source": "from print_things_module import print_name\nprint_name(\"Bence\")",
   "metadata": {
    "tags": [],
    "cell_id": "00002-d4d8ee6b-8b30-4f8b-8034-d94b8554c769",
    "deepnote_to_be_reexecuted": false,
    "source_hash": "19cd31e0",
    "execution_start": 1637259642115,
    "execution_millis": 142,
    "deepnote_cell_type": "code"
   },
   "outputs": [
    {
     "name": "stdout",
     "text": "Bence\n",
     "output_type": "stream"
    }
   ],
   "execution_count": null
  },
  {
   "cell_type": "code",
   "source": "import print_things_module as ptm\nptm.print_upper(\"körte\")",
   "metadata": {
    "tags": [],
    "cell_id": "00005-c71040d7-61d4-46aa-ab0a-a10897025c3c",
    "deepnote_to_be_reexecuted": false,
    "source_hash": "7608419e",
    "execution_start": 1637259745911,
    "execution_millis": 9,
    "output_cleared": false,
    "deepnote_cell_type": "code"
   },
   "outputs": [
    {
     "name": "stdout",
     "text": "KÖRTE\n",
     "output_type": "stream"
    }
   ],
   "execution_count": null
  },
  {
   "cell_type": "markdown",
   "source": "# Beépített modulok",
   "metadata": {
    "tags": [],
    "cell_id": "00005-f173931e-aeff-40d5-8a75-2265493aae80",
    "deepnote_cell_type": "markdown"
   }
  },
  {
   "cell_type": "code",
   "source": "\nimport sys\nsys.builtin_module_names",
   "metadata": {
    "tags": [],
    "cell_id": "00004-01112fab-7254-457f-843d-55cc0a985645",
    "deepnote_to_be_reexecuted": false,
    "source_hash": "adffd66b",
    "execution_start": 1637259779215,
    "execution_millis": 6,
    "deepnote_output_heights": [
     596.8125
    ],
    "output_cleared": false,
    "deepnote_cell_type": "code"
   },
   "outputs": [
    {
     "output_type": "execute_result",
     "execution_count": 8,
     "data": {
      "text/plain": "('_abc',\n '_ast',\n '_codecs',\n '_collections',\n '_functools',\n '_imp',\n '_io',\n '_locale',\n '_operator',\n '_signal',\n '_sre',\n '_stat',\n '_string',\n '_symtable',\n '_thread',\n '_tracemalloc',\n '_warnings',\n '_weakref',\n 'atexit',\n 'builtins',\n 'errno',\n 'faulthandler',\n 'gc',\n 'itertools',\n 'marshal',\n 'posix',\n 'pwd',\n 'sys',\n 'time',\n 'xxsubtype',\n 'zipimport')"
     },
     "metadata": {}
    }
   ],
   "execution_count": null
  },
  {
   "cell_type": "code",
   "source": "print(sys.path)",
   "metadata": {
    "tags": [],
    "cell_id": "00007-60f9682c-86fe-40bf-be27-5a5b9a38bbb6",
    "deepnote_to_be_reexecuted": false,
    "source_hash": "b6091ec9",
    "execution_start": 1637259810567,
    "execution_millis": 12,
    "output_cleared": false,
    "deepnote_cell_type": "code"
   },
   "outputs": [
    {
     "name": "stdout",
     "text": "['/', '', '/shared-libs/python3.7/py-core/lib/python3.7/site-packages', '/', '/usr/local/lib/python37.zip', '/usr/local/lib/python3.7', '/usr/local/lib/python3.7/lib-dynload', '/root/venv/lib/python3.7/site-packages', '/usr/local/lib/python3.7/site-packages', '/shared-libs/python3.7/py/lib/python3.7/site-packages', '/shared-libs/python3.7/py-core/lib/python3.7/site-packages/IPython/extensions', '/deepnote-config/ipython', '/root/work/prog1_2021_fall/materials/tutorials/package']\n",
     "output_type": "stream"
    }
   ],
   "execution_count": null
  },
  {
   "cell_type": "markdown",
   "source": "# Package",
   "metadata": {
    "tags": [],
    "cell_id": "00007-e3891c1a-b942-4acd-a2b4-f6ea2aa29b6d",
    "deepnote_cell_type": "markdown"
   }
  },
  {
   "cell_type": "code",
   "source": "import print_things_package as ptp\n\nptp.print_hw()",
   "metadata": {
    "tags": [],
    "cell_id": "00009-986f640a-7b29-4748-b53a-0acf649f50f6",
    "deepnote_to_be_reexecuted": false,
    "source_hash": "d3aaf7e",
    "execution_start": 1637260185506,
    "execution_millis": 611,
    "output_cleared": false,
    "deepnote_cell_type": "code"
   },
   "outputs": [
    {
     "name": "stdout",
     "text": "Hello World!\n",
     "output_type": "stream"
    }
   ],
   "execution_count": null
  },
  {
   "cell_type": "code",
   "source": "ptp.print_upper_p(\"banán\")",
   "metadata": {
    "tags": [],
    "cell_id": "00009-34d3a55e-5b68-4693-a6f4-bccf3f1181f2",
    "deepnote_to_be_reexecuted": false,
    "source_hash": "5361b6f1",
    "execution_start": 1637260202148,
    "execution_millis": 19,
    "output_cleared": false,
    "deepnote_cell_type": "code"
   },
   "outputs": [
    {
     "name": "stdout",
     "text": "BANÁN\n",
     "output_type": "stream"
    }
   ],
   "execution_count": null
  },
  {
   "cell_type": "markdown",
   "source": "<a style='text-decoration:none;line-height:16px;display:flex;color:#5B5B62;padding:10px;justify-content:end;' href='https://deepnote.com?utm_source=created-in-deepnote-cell&projectId=978e47b7-a961-4dca-a945-499e8b781a34' target=\"_blank\">\n<img alt='Created in deepnote.com' style='display:inline;max-height:16px;margin:0px;margin-right:7.5px;' src='data:image/svg+xml;base64,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' > </img>\nCreated in <span style='font-weight:600;margin-left:4px;'>Deepnote</span></a>",
   "metadata": {
    "tags": [],
    "created_in_deepnote_cell": true,
    "deepnote_cell_type": "markdown"
   }
  }
 ],
 "nbformat": 4,
 "nbformat_minor": 2,
 "metadata": {
  "orig_nbformat": 2,
  "deepnote": {
   "is_reactive": false
  },
  "deepnote_notebook_id": "3a016f69-3e38-4471-a265-f09811f0783b",
  "deepnote_execution_queue": []
 }
}