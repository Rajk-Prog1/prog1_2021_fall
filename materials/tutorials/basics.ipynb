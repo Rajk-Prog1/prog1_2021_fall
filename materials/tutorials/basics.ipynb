{
 "cells": [
  {
   "cell_type": "markdown",
   "source": "# Python Basics for Prog1",
   "metadata": {
    "tags": [],
    "cell_id": "00000-8bbeb36d-265b-4207-b615-db33c5a380e5",
    "deepnote_cell_type": "markdown"
   }
  },
  {
   "cell_type": "markdown",
   "source": "## Content:\n1. Variable Assignments\n2. Basic Data type\n    1. Boolean\n    2. Integer\n    3. Float\n    4. String\n\n3. Basic Arithmetic\n4. Complex Data Types\n    1. List",
   "metadata": {
    "cell_id": "00000-2fca37e2-de09-4274-86fc-d49ff8f834a7",
    "deepnote_cell_type": "markdown"
   }
  },
  {
   "cell_type": "markdown",
   "source": "## Optional materials\n\n[Offical Documentation](https://docs.python.org/3/)\n\n[Python tutorials](https://www.w3schools.com/python)",
   "metadata": {
    "tags": [],
    "cell_id": "00001-0d8fd8a7-0165-4f87-b446-8a3319fd7eea",
    "deepnote_cell_type": "markdown"
   }
  },
  {
   "cell_type": "markdown",
   "source": "**Python is so heavily driven by code indentation and whitespace. This means that code readability is a core part of the design of the Python language.**",
   "metadata": {
    "cell_id": "00001-30e26c4e-d3b3-4897-b541-0fe77b6a358d",
    "deepnote_cell_type": "markdown"
   }
  },
  {
   "cell_type": "markdown",
   "source": "## 1. Variable Assignments",
   "metadata": {
    "cell_id": "00024-4c355d4f-e935-4fcc-a34c-f82977814058",
    "deepnote_cell_type": "markdown"
   }
  },
  {
   "cell_type": "code",
   "metadata": {
    "cell_id": "00025-7c46fee4-5587-4839-b543-897d2bad6368",
    "deepnote_cell_type": "code"
   },
   "source": "# Let's create an object called \"a\" and assign it the number 5\na = 5",
   "execution_count": null,
   "outputs": []
  },
  {
   "cell_type": "code",
   "metadata": {
    "cell_id": "00026-fd39b00c-d908-4751-a4be-df8e33cc9438",
    "deepnote_cell_type": "code"
   },
   "source": "# Check\na",
   "execution_count": null,
   "outputs": []
  },
  {
   "cell_type": "code",
   "metadata": {
    "cell_id": "00027-61c082b2-914f-4b34-b2b8-2da1d6ed55d7",
    "deepnote_cell_type": "code"
   },
   "source": "# Use A to redefine A\na = a + a",
   "execution_count": null,
   "outputs": []
  },
  {
   "cell_type": "code",
   "metadata": {
    "cell_id": "00028-12c92425-6b88-414e-bcfc-c313bf0def63",
    "deepnote_cell_type": "code"
   },
   "source": "# Check \na",
   "execution_count": null,
   "outputs": []
  },
  {
   "cell_type": "markdown",
   "source": "## 2. Basic Data Types",
   "metadata": {
    "cell_id": "00002-8b8fdeb2-9a8f-483e-9a6e-0b928714a094",
    "deepnote_cell_type": "markdown"
   }
  },
  {
   "cell_type": "markdown",
   "source": "### 1. Boolean",
   "metadata": {
    "tags": [],
    "cell_id": "00008-a6bbf21f-c72a-4899-9b57-513daafc7b58",
    "deepnote_cell_type": "markdown"
   }
  },
  {
   "cell_type": "code",
   "metadata": {
    "cell_id": "00003-ad1fff4c-a4d2-486a-9fdd-4aaba80d79c7",
    "deepnote_cell_type": "code"
   },
   "source": "True",
   "execution_count": null,
   "outputs": []
  },
  {
   "cell_type": "code",
   "metadata": {
    "cell_id": "00004-827f8c71-cb3f-41d6-b822-24043855a6a0",
    "deepnote_cell_type": "code"
   },
   "source": "False",
   "execution_count": null,
   "outputs": []
  },
  {
   "cell_type": "markdown",
   "source": "### 2. Integer",
   "metadata": {
    "tags": [],
    "cell_id": "00011-57d15f24-21cd-4002-9e0d-b9ed9d606c1e",
    "deepnote_cell_type": "markdown"
   }
  },
  {
   "cell_type": "code",
   "metadata": {
    "cell_id": "00005-6ab0a0d6-ca88-42f0-afee-ba33728b1113",
    "deepnote_cell_type": "code"
   },
   "source": "2",
   "execution_count": null,
   "outputs": []
  },
  {
   "cell_type": "markdown",
   "source": "### 3. Float",
   "metadata": {
    "tags": [],
    "cell_id": "00013-97dbba50-7006-4ca3-82dd-6c64b1232858",
    "deepnote_cell_type": "markdown"
   }
  },
  {
   "cell_type": "code",
   "metadata": {
    "cell_id": "00006-830fc4bc-aaa8-4b57-9bfd-c2aa29bf4e99",
    "deepnote_cell_type": "code"
   },
   "source": "2.5",
   "execution_count": null,
   "outputs": []
  },
  {
   "cell_type": "markdown",
   "source": "### 4. String",
   "metadata": {
    "tags": [],
    "cell_id": "00015-16ab8d8b-517b-4786-b2e9-44444445a1a3",
    "deepnote_cell_type": "markdown"
   }
  },
  {
   "cell_type": "code",
   "metadata": {
    "cell_id": "00007-f8697d1c-cfed-4afa-9ace-b3d70eee9f7f",
    "deepnote_cell_type": "code"
   },
   "source": "# You can comment using #.\n# To create a string in Python you need to use either single quotes or double quotes.\n\"Hello World\"",
   "execution_count": null,
   "outputs": []
  },
  {
   "cell_type": "code",
   "metadata": {
    "cell_id": "00008-513d1e4a-21a6-45da-927f-ee39d2696e07",
    "deepnote_cell_type": "code"
   },
   "source": "'Hello World'",
   "execution_count": null,
   "outputs": []
  },
  {
   "cell_type": "code",
   "metadata": {
    "cell_id": "00009-d87c7662-b832-4fa0-a2f7-8de784f857ad",
    "deepnote_cell_type": "code"
   },
   "source": "#We can also use a built in function called len() to check the length of a string!\nlen(\"Hello World\")",
   "execution_count": null,
   "outputs": []
  },
  {
   "cell_type": "markdown",
   "source": "**Strings are used in Python to record text information, such as name. Strings in Python are actually a sequence, which basically means Python keeps track of every element in the string as a sequence. For example, Python understands the string \"hello' to be a sequence of letters in a specific order. This means we will be able to use indexing to grab particular letters (like the first letter, or the last letter).**\n\n**This idea of a sequence is an important one in Python.**",
   "metadata": {
    "cell_id": "00010-4701e893-f92a-4bf6-aa5f-4705ec355901",
    "deepnote_cell_type": "markdown"
   }
  },
  {
   "cell_type": "code",
   "metadata": {
    "cell_id": "00011-1c6cdc75-370c-492f-a049-ede00f1be28a",
    "deepnote_cell_type": "code"
   },
   "source": "s = \"Hello World!\"\n# Show first element (in this case a letter)\ns[0]",
   "execution_count": null,
   "outputs": []
  },
  {
   "cell_type": "code",
   "metadata": {
    "cell_id": "00012-e645ea29-355c-4969-a60a-b1160f5153cf",
    "deepnote_cell_type": "code"
   },
   "source": "# Show second element\ns[1]",
   "execution_count": null,
   "outputs": []
  },
  {
   "cell_type": "code",
   "metadata": {
    "cell_id": "00013-28efce0c-597a-4b79-a6f9-3cdc795495e3",
    "deepnote_cell_type": "code"
   },
   "source": "# Show last element\ns[-1]",
   "execution_count": null,
   "outputs": []
  },
  {
   "cell_type": "code",
   "metadata": {
    "cell_id": "00014-c95c4449-619a-4d6f-8460-279021fb3f56",
    "deepnote_cell_type": "code"
   },
   "source": "# Grab everything past the first term all the way to the length of s which is len(s)\ns[1:]",
   "execution_count": null,
   "outputs": []
  },
  {
   "cell_type": "code",
   "metadata": {
    "cell_id": "00015-f09c9323-904c-4bb9-92f8-3fbd5a64b592",
    "deepnote_cell_type": "code"
   },
   "source": "# Grab everything UP TO the 3rd index\ns[:3]",
   "execution_count": null,
   "outputs": []
  },
  {
   "cell_type": "markdown",
   "source": "## 3. Basic Arithmetic",
   "metadata": {
    "cell_id": "00016-991dabd0-9632-40d6-8d86-34d08fca3463",
    "deepnote_cell_type": "markdown"
   }
  },
  {
   "cell_type": "code",
   "metadata": {
    "cell_id": "00017-9289793c-d7c6-4cf9-a6c8-3720d3c8499b",
    "deepnote_cell_type": "code"
   },
   "source": "# Addition\n2+1",
   "execution_count": null,
   "outputs": []
  },
  {
   "cell_type": "code",
   "metadata": {
    "cell_id": "00018-780a11d8-4857-447d-9095-a73c810a71b5",
    "deepnote_cell_type": "code"
   },
   "source": "# Subtraction\n2-1",
   "execution_count": null,
   "outputs": []
  },
  {
   "cell_type": "code",
   "metadata": {
    "cell_id": "00019-d472ca49-0cea-4f9d-acbd-097b2df66a03",
    "deepnote_cell_type": "code"
   },
   "source": "# Multiplication\n2*2",
   "execution_count": null,
   "outputs": []
  },
  {
   "cell_type": "code",
   "metadata": {
    "cell_id": "00020-c75a513c-f356-4b61-9f77-fe52701e53da",
    "deepnote_cell_type": "code"
   },
   "source": "# Division\n3/2",
   "execution_count": null,
   "outputs": []
  },
  {
   "cell_type": "code",
   "metadata": {
    "cell_id": "00021-46d7b56b-0c14-4178-9f9b-3d49538f3b0c",
    "deepnote_cell_type": "code"
   },
   "source": "# Whole Division\n3//2",
   "execution_count": null,
   "outputs": []
  },
  {
   "cell_type": "code",
   "metadata": {
    "cell_id": "00022-ab4bf32b-733f-4c5a-a8c4-767e6cf3cef7",
    "deepnote_cell_type": "code"
   },
   "source": "# Modulo\n5 % 3",
   "execution_count": null,
   "outputs": []
  },
  {
   "cell_type": "code",
   "metadata": {
    "cell_id": "00023-ccf433ed-af6b-4f62-a0da-e0405621a61d",
    "deepnote_cell_type": "code"
   },
   "source": "# Exponentiation\n2 ** 3",
   "execution_count": null,
   "outputs": []
  },
  {
   "cell_type": "markdown",
   "source": "The order of operations (also called precedence) of Python math operators is similar to that of mathematics. The ** operator is evaluated first; the *, /, //, and % operators are evaluated next, from left to right; and the + and - operators are evaluated last (also from left to right). You can use parentheses to override the usual precedence if you need to. Whitespace in between the operators and values doesn’t matter for Python (except for the indentation at the beginning of the line), but a single space is convention.",
   "metadata": {
    "tags": [],
    "cell_id": "00026-e9177967-7ddf-4c07-a5d4-4d775168936d",
    "deepnote_cell_type": "markdown"
   }
  },
  {
   "cell_type": "markdown",
   "source": "### Jupyter notebook automatically outputs the last line, but the correct way to display something in your output is by using a print function.",
   "metadata": {
    "cell_id": "00029-66ac5dfd-7bc3-41bb-b6c0-99c0cec51f62",
    "deepnote_cell_type": "markdown"
   }
  },
  {
   "cell_type": "code",
   "metadata": {
    "cell_id": "00030-8cc9813e-42e2-45be-a6a5-e650f1e8fe44",
    "deepnote_cell_type": "code"
   },
   "source": "print(a)",
   "execution_count": null,
   "outputs": []
  },
  {
   "cell_type": "code",
   "metadata": {
    "cell_id": "00031-c4c08ef9-7552-46ca-9d86-23b539edaa03",
    "deepnote_cell_type": "code"
   },
   "source": "# You can check a variable's type by using the built in function type\ntype(a)",
   "execution_count": null,
   "outputs": []
  },
  {
   "cell_type": "code",
   "metadata": {
    "cell_id": "00032-db494bc0-45af-4bf2-82d4-278105e3f43c",
    "deepnote_cell_type": "code"
   },
   "source": "type(\"String\")",
   "execution_count": null,
   "outputs": []
  },
  {
   "cell_type": "code",
   "metadata": {
    "cell_id": "00033-ddb5f918-4596-4eba-8955-0ed58adad879",
    "deepnote_cell_type": "code"
   },
   "source": "type(True)",
   "execution_count": null,
   "outputs": []
  },
  {
   "cell_type": "code",
   "metadata": {
    "cell_id": "00034-631110b7-c469-4ad7-8842-27b2ea0c2caa",
    "deepnote_cell_type": "code"
   },
   "source": "# You can also change a variable's type by using built in functions\na = float(a)\nprint(a)\ntype(a)",
   "execution_count": null,
   "outputs": []
  },
  {
   "cell_type": "code",
   "metadata": {
    "cell_id": "00035-a5128494-a808-4330-9010-55dbfa7330c8",
    "deepnote_cell_type": "code"
   },
   "source": "a = int(a)\nprint(a)\ntype(a)",
   "execution_count": null,
   "outputs": []
  },
  {
   "cell_type": "code",
   "metadata": {
    "cell_id": "00036-b9e61789-b342-4990-88bc-5e9f5eb98e4c",
    "deepnote_cell_type": "code"
   },
   "source": "a = str(a)\nprint(a)\ntype(a)",
   "execution_count": null,
   "outputs": []
  },
  {
   "cell_type": "code",
   "metadata": {
    "cell_id": "00037-034670fa-99d1-45c4-ba2f-450eecd594e4",
    "deepnote_cell_type": "code"
   },
   "source": "a = \"5\"\nb = \"6\"\na + b",
   "execution_count": null,
   "outputs": []
  },
  {
   "cell_type": "markdown",
   "source": "## 4. Complex Data Types",
   "metadata": {
    "cell_id": "00054-a0762a42-14ea-4fa1-b38e-1e454041de77",
    "deepnote_cell_type": "markdown"
   }
  },
  {
   "cell_type": "markdown",
   "source": "### 1. List",
   "metadata": {
    "tags": [],
    "cell_id": "00039-da393d30-f96c-4e39-aefd-d5e30e6ed7c6",
    "deepnote_cell_type": "markdown"
   }
  },
  {
   "cell_type": "markdown",
   "source": "#### Earlier when discussing strings we introduced the concept of a sequence in Python. Lists can be thought of the most general version of a sequence in Python. \n\n#### Lists are constructed with brackets [] and commas separating every element in the list.",
   "metadata": {
    "cell_id": "00055-6b795cab-7ea6-4a28-a540-e9d7a3b727c7",
    "deepnote_cell_type": "markdown"
   }
  },
  {
   "cell_type": "code",
   "metadata": {
    "cell_id": "00056-db86fcfc-0339-4aaa-ba0b-8bbe0ac3a06c",
    "deepnote_cell_type": "code"
   },
   "source": "# Assign a list to an variable named my_list\nmy_list = [1, 2, 3]\nprint (my_list)\n",
   "execution_count": null,
   "outputs": []
  },
  {
   "cell_type": "code",
   "metadata": {
    "cell_id": "00057-fd940b60-4e36-4056-8c47-9cb01a28384f",
    "deepnote_cell_type": "code"
   },
   "source": "# We just created a list of integers, but lists can actually hold different object types.\n\nmy_list = ['A string',23,100.232,'o']\nprint(my_list)",
   "execution_count": null,
   "outputs": []
  },
  {
   "cell_type": "code",
   "metadata": {
    "cell_id": "00058-891663ae-47e2-436a-8c04-ce7cedf0ba64",
    "deepnote_cell_type": "code"
   },
   "source": "# Just like strings, the len() function will tell you how many items are in the sequence of the list\nlen(my_list)",
   "execution_count": null,
   "outputs": []
  },
  {
   "cell_type": "markdown",
   "source": "### Indexing and slicing works just like in strings!",
   "metadata": {
    "cell_id": "00059-3da31296-8b15-48d9-923a-a1d2b9bc7c69",
    "deepnote_cell_type": "markdown"
   }
  },
  {
   "cell_type": "code",
   "metadata": {
    "tags": [],
    "cell_id": "00049-9a244686-edfd-4409-8527-775207b995eb",
    "deepnote_to_be_reexecuted": false,
    "source_hash": "5e1d5a53",
    "execution_start": 1633369523628,
    "execution_millis": 583,
    "deepnote_output_heights": [
     21.1875
    ],
    "deepnote_cell_type": "code"
   },
   "source": "l = [1, 2, 3, 4, 5]\n# Show first element (in this case a letter)\nl[0]",
   "execution_count": null,
   "outputs": [
    {
     "output_type": "execute_result",
     "execution_count": 1,
     "data": {
      "text/plain": "1"
     },
     "metadata": {}
    }
   ]
  },
  {
   "cell_type": "code",
   "metadata": {
    "tags": [],
    "cell_id": "00050-9ef43597-6423-4a08-91b6-3607ee93f3cf",
    "deepnote_to_be_reexecuted": false,
    "source_hash": "bcf8a9cf",
    "execution_start": 1633369542563,
    "execution_millis": 704,
    "deepnote_output_heights": [
     21.1875
    ],
    "deepnote_cell_type": "code"
   },
   "source": "# Show second element\nl[1]",
   "execution_count": null,
   "outputs": [
    {
     "output_type": "execute_result",
     "execution_count": 2,
     "data": {
      "text/plain": "2"
     },
     "metadata": {}
    }
   ]
  },
  {
   "cell_type": "code",
   "metadata": {
    "tags": [],
    "cell_id": "00051-d4a8da82-414b-45ea-9570-022e2a82bc21",
    "deepnote_to_be_reexecuted": false,
    "source_hash": "e8c511e1",
    "execution_start": 1633369542887,
    "execution_millis": 568,
    "deepnote_output_heights": [
     21.1875
    ],
    "deepnote_cell_type": "code"
   },
   "source": "# Show last element\nl[-1]",
   "execution_count": null,
   "outputs": [
    {
     "output_type": "execute_result",
     "execution_count": 3,
     "data": {
      "text/plain": "5"
     },
     "metadata": {}
    }
   ]
  },
  {
   "cell_type": "code",
   "metadata": {
    "tags": [],
    "cell_id": "00052-3be6cfb0-e5a7-4ee1-ab18-672d05aabef0",
    "deepnote_to_be_reexecuted": false,
    "source_hash": "9dd30701",
    "execution_start": 1633369543895,
    "execution_millis": 424,
    "deepnote_output_heights": [
     21.1875
    ],
    "deepnote_cell_type": "code"
   },
   "source": "# Grab everything past the first term all the way to the length of s which is len(s)\nl[1:]",
   "execution_count": null,
   "outputs": [
    {
     "output_type": "execute_result",
     "execution_count": 4,
     "data": {
      "text/plain": "[2, 3, 4, 5]"
     },
     "metadata": {}
    }
   ]
  },
  {
   "cell_type": "code",
   "metadata": {
    "tags": [],
    "cell_id": "00053-e2b31a96-a800-4003-a6d6-56603f1a758e",
    "deepnote_to_be_reexecuted": false,
    "source_hash": "e4ce9e5b",
    "execution_start": 1633369557119,
    "execution_millis": 10,
    "deepnote_output_heights": [
     21.1875
    ],
    "deepnote_cell_type": "code"
   },
   "source": "# Grab everything UP TO the 3rd index\nl[:3]",
   "execution_count": null,
   "outputs": [
    {
     "output_type": "execute_result",
     "execution_count": 5,
     "data": {
      "text/plain": "[1, 2, 3]"
     },
     "metadata": {}
    }
   ]
  },
  {
   "cell_type": "markdown",
   "source": "#### Unlike strings, they are mutable, meaning the elements inside a list can be changed!",
   "metadata": {
    "cell_id": "00060-44612c48-de99-4e05-8113-e6eaad754904",
    "deepnote_cell_type": "markdown"
   }
  },
  {
   "cell_type": "code",
   "metadata": {
    "cell_id": "00061-dc7dbbe5-29eb-4996-8d14-e71cc6983aac",
    "deepnote_cell_type": "code"
   },
   "source": "s = \"Deloitte\"\nprint(s)\ns[0] = \"K\"\nprint(s)",
   "execution_count": null,
   "outputs": []
  },
  {
   "cell_type": "code",
   "metadata": {
    "cell_id": "00062-5e9e6d1d-2d37-4550-a12c-ef72fb4a98e4",
    "deepnote_cell_type": "code"
   },
   "source": "print(my_list)\nmy_list[0] = 'Another string'\nprint(my_list)",
   "execution_count": null,
   "outputs": []
  },
  {
   "cell_type": "markdown",
   "source": "<a style='text-decoration:none;line-height:16px;display:flex;color:#5B5B62;padding:10px;justify-content:end;' href='https://deepnote.com?utm_source=created-in-deepnote-cell&projectId=978e47b7-a961-4dca-a945-499e8b781a34' target=\"_blank\">\n<img alt='Created in deepnote.com' style='display:inline;max-height:16px;margin:0px;margin-right:7.5px;' src='data:image/svg+xml;base64,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' > </img>\nCreated in <span style='font-weight:600;margin-left:4px;'>Deepnote</span></a>",
   "metadata": {
    "tags": [],
    "created_in_deepnote_cell": true,
    "deepnote_cell_type": "markdown"
   }
  }
 ],
 "nbformat": 4,
 "nbformat_minor": 2,
 "metadata": {
  "kernelspec": {
   "display_name": "Python 3",
   "language": "python",
   "name": "python3"
  },
  "language_info": {
   "codemirror_mode": {
    "name": "ipython",
    "version": 3
   },
   "file_extension": ".py",
   "mimetype": "text/x-python",
   "name": "python",
   "nbconvert_exporter": "python",
   "pygments_lexer": "ipython3",
   "version": "3.9.0"
  },
  "deepnote_notebook_id": "8bc12f20-e338-49bf-994e-78c50664788f",
  "deepnote": {},
  "deepnote_execution_queue": []
 }
}