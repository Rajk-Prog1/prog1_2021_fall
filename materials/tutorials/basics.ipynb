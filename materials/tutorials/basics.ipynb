{
 "cells": [
  {
   "cell_type": "markdown",
   "source": "## Content:\n\n1. Basic Data type\n2. Basic Arithmetic\n3. Variable Assignments\n4. if,elif,else Statements\n5. Lists\n6. Dictionaries\n7. for Loops\n8. while Loops\n9. Functions",
   "metadata": {
    "cell_id": "00000-2fca37e2-de09-4274-86fc-d49ff8f834a7",
    "deepnote_cell_type": "markdown"
   }
  },
  {
   "cell_type": "markdown",
   "source": "### Python is so heavily driven by code indentation and whitespace. This means that code readability is a core part of the design of the Python language.",
   "metadata": {
    "cell_id": "00001-30e26c4e-d3b3-4897-b541-0fe77b6a358d",
    "deepnote_cell_type": "markdown"
   }
  },
  {
   "cell_type": "markdown",
   "source": "## 1. Basic Data types",
   "metadata": {
    "cell_id": "00002-8b8fdeb2-9a8f-483e-9a6e-0b928714a094",
    "deepnote_cell_type": "markdown"
   }
  },
  {
   "cell_type": "code",
   "metadata": {
    "cell_id": "00003-ad1fff4c-a4d2-486a-9fdd-4aaba80d79c7",
    "deepnote_cell_type": "code"
   },
   "source": "# Boolean\nTrue",
   "outputs": [],
   "execution_count": null
  },
  {
   "cell_type": "code",
   "metadata": {
    "cell_id": "00004-827f8c71-cb3f-41d6-b822-24043855a6a0",
    "deepnote_cell_type": "code"
   },
   "source": "False",
   "outputs": [],
   "execution_count": null
  },
  {
   "cell_type": "code",
   "metadata": {
    "cell_id": "00005-6ab0a0d6-ca88-42f0-afee-ba33728b1113",
    "deepnote_cell_type": "code"
   },
   "source": "# You can comment using #\n# Integer\n2",
   "outputs": [],
   "execution_count": null
  },
  {
   "cell_type": "code",
   "metadata": {
    "cell_id": "00006-830fc4bc-aaa8-4b57-9bfd-c2aa29bf4e99",
    "deepnote_cell_type": "code"
   },
   "source": "# Float\n2.5",
   "outputs": [],
   "execution_count": null
  },
  {
   "cell_type": "code",
   "metadata": {
    "cell_id": "00007-f8697d1c-cfed-4afa-9ace-b3d70eee9f7f",
    "deepnote_cell_type": "code"
   },
   "source": "# String\n# To create a string in Python you need to use either single quotes or double quotes.\n\"Hello World\"",
   "outputs": [],
   "execution_count": null
  },
  {
   "cell_type": "code",
   "metadata": {
    "cell_id": "00008-513d1e4a-21a6-45da-927f-ee39d2696e07",
    "deepnote_cell_type": "code"
   },
   "source": "'Hello World'",
   "outputs": [],
   "execution_count": null
  },
  {
   "cell_type": "code",
   "metadata": {
    "cell_id": "00009-d87c7662-b832-4fa0-a2f7-8de784f857ad",
    "deepnote_cell_type": "code"
   },
   "source": "#We can also use a built in function called len() to check the length of a string!\nlen(\"Hello World\")",
   "outputs": [],
   "execution_count": null
  },
  {
   "cell_type": "markdown",
   "source": "### Strings are used in Python to record text information, such as name. Strings in Python are actually a sequence, which basically means Python keeps track of every element in the string as a sequence. For example, Python understands the string \"hello' to be a sequence of letters in a specific order. This means we will be able to use indexing to grab particular letters (like the first letter, or the last letter).\n\n### This idea of a sequence is an important one in Python.",
   "metadata": {
    "cell_id": "00010-4701e893-f92a-4bf6-aa5f-4705ec355901",
    "deepnote_cell_type": "markdown"
   }
  },
  {
   "cell_type": "code",
   "metadata": {
    "cell_id": "00011-1c6cdc75-370c-492f-a049-ede00f1be28a",
    "deepnote_cell_type": "code"
   },
   "source": "s = \"Hello World!\"\n# Show first element (in this case a letter)\ns[0]",
   "outputs": [],
   "execution_count": null
  },
  {
   "cell_type": "code",
   "metadata": {
    "cell_id": "00012-e645ea29-355c-4969-a60a-b1160f5153cf",
    "deepnote_cell_type": "code"
   },
   "source": "# Show second element\ns[1]",
   "outputs": [],
   "execution_count": null
  },
  {
   "cell_type": "code",
   "metadata": {
    "cell_id": "00013-28efce0c-597a-4b79-a6f9-3cdc795495e3",
    "deepnote_cell_type": "code"
   },
   "source": "# Show last element\ns[-1]",
   "outputs": [],
   "execution_count": null
  },
  {
   "cell_type": "code",
   "metadata": {
    "cell_id": "00014-c95c4449-619a-4d6f-8460-279021fb3f56",
    "deepnote_cell_type": "code"
   },
   "source": "# Grab everything past the first term all the way to the length of s which is len(s)\ns[1:]",
   "outputs": [],
   "execution_count": null
  },
  {
   "cell_type": "code",
   "metadata": {
    "cell_id": "00015-f09c9323-904c-4bb9-92f8-3fbd5a64b592",
    "deepnote_cell_type": "code"
   },
   "source": "# Grab everything UP TO the 3rd index\ns[:3]",
   "outputs": [],
   "execution_count": null
  },
  {
   "cell_type": "markdown",
   "source": "## 2. Basic Arithmetic",
   "metadata": {
    "cell_id": "00016-991dabd0-9632-40d6-8d86-34d08fca3463",
    "deepnote_cell_type": "markdown"
   }
  },
  {
   "cell_type": "code",
   "metadata": {
    "cell_id": "00017-9289793c-d7c6-4cf9-a6c8-3720d3c8499b",
    "deepnote_cell_type": "code"
   },
   "source": "# Addition\n2+1",
   "outputs": [],
   "execution_count": null
  },
  {
   "cell_type": "code",
   "metadata": {
    "cell_id": "00018-780a11d8-4857-447d-9095-a73c810a71b5",
    "deepnote_cell_type": "code"
   },
   "source": "# Subtraction\n2-1",
   "outputs": [],
   "execution_count": null
  },
  {
   "cell_type": "code",
   "metadata": {
    "cell_id": "00019-d472ca49-0cea-4f9d-acbd-097b2df66a03",
    "deepnote_cell_type": "code"
   },
   "source": "# Multiplication\n2*2",
   "outputs": [],
   "execution_count": null
  },
  {
   "cell_type": "code",
   "metadata": {
    "cell_id": "00020-c75a513c-f356-4b61-9f77-fe52701e53da",
    "deepnote_cell_type": "code"
   },
   "source": "# Division\n3/2",
   "outputs": [],
   "execution_count": null
  },
  {
   "cell_type": "code",
   "metadata": {
    "cell_id": "00021-46d7b56b-0c14-4178-9f9b-3d49538f3b0c",
    "deepnote_cell_type": "code"
   },
   "source": "# Whole Division\n3//2",
   "outputs": [],
   "execution_count": null
  },
  {
   "cell_type": "code",
   "metadata": {
    "cell_id": "00022-ab4bf32b-733f-4c5a-a8c4-767e6cf3cef7",
    "deepnote_cell_type": "code"
   },
   "source": "# Modulo\n5 % 3",
   "outputs": [],
   "execution_count": null
  },
  {
   "cell_type": "code",
   "metadata": {
    "cell_id": "00023-ccf433ed-af6b-4f62-a0da-e0405621a61d",
    "deepnote_cell_type": "code"
   },
   "source": "# Exponentiation\n2 ** 3",
   "outputs": [],
   "execution_count": null
  },
  {
   "cell_type": "markdown",
   "source": "## 3. Variable Assignments",
   "metadata": {
    "cell_id": "00024-4c355d4f-e935-4fcc-a34c-f82977814058",
    "deepnote_cell_type": "markdown"
   }
  },
  {
   "cell_type": "code",
   "metadata": {
    "cell_id": "00025-7c46fee4-5587-4839-b543-897d2bad6368",
    "deepnote_cell_type": "code"
   },
   "source": "# Let's create an object called \"a\" and assign it the number 5\na = 5",
   "outputs": [],
   "execution_count": null
  },
  {
   "cell_type": "code",
   "metadata": {
    "cell_id": "00026-fd39b00c-d908-4751-a4be-df8e33cc9438",
    "deepnote_cell_type": "code"
   },
   "source": "# Check\na",
   "outputs": [],
   "execution_count": null
  },
  {
   "cell_type": "code",
   "metadata": {
    "cell_id": "00027-61c082b2-914f-4b34-b2b8-2da1d6ed55d7",
    "deepnote_cell_type": "code"
   },
   "source": "# Use A to redefine A\na = a + a",
   "outputs": [],
   "execution_count": null
  },
  {
   "cell_type": "code",
   "metadata": {
    "cell_id": "00028-12c92425-6b88-414e-bcfc-c313bf0def63",
    "deepnote_cell_type": "code"
   },
   "source": "# Check \na",
   "outputs": [],
   "execution_count": null
  },
  {
   "cell_type": "markdown",
   "source": "### Jupyter notebook automatically outputs the last line, but the correct way to display something in your output is by using a print function.",
   "metadata": {
    "cell_id": "00029-66ac5dfd-7bc3-41bb-b6c0-99c0cec51f62",
    "deepnote_cell_type": "markdown"
   }
  },
  {
   "cell_type": "code",
   "metadata": {
    "cell_id": "00030-8cc9813e-42e2-45be-a6a5-e650f1e8fe44",
    "deepnote_cell_type": "code"
   },
   "source": "print(a)",
   "outputs": [],
   "execution_count": null
  },
  {
   "cell_type": "code",
   "metadata": {
    "cell_id": "00031-c4c08ef9-7552-46ca-9d86-23b539edaa03",
    "deepnote_cell_type": "code"
   },
   "source": "# You can check a variable's type by using the built in function type\ntype(a)",
   "outputs": [],
   "execution_count": null
  },
  {
   "cell_type": "code",
   "metadata": {
    "cell_id": "00032-db494bc0-45af-4bf2-82d4-278105e3f43c",
    "deepnote_cell_type": "code"
   },
   "source": "type(\"String\")",
   "outputs": [],
   "execution_count": null
  },
  {
   "cell_type": "code",
   "metadata": {
    "cell_id": "00033-ddb5f918-4596-4eba-8955-0ed58adad879",
    "deepnote_cell_type": "code"
   },
   "source": "type(True)",
   "outputs": [],
   "execution_count": null
  },
  {
   "cell_type": "code",
   "metadata": {
    "cell_id": "00034-631110b7-c469-4ad7-8842-27b2ea0c2caa",
    "deepnote_cell_type": "code"
   },
   "source": "# You can also change a variable's type by using built in functions\na = float(a)\nprint(a)\ntype(a)",
   "outputs": [],
   "execution_count": null
  },
  {
   "cell_type": "code",
   "metadata": {
    "cell_id": "00035-a5128494-a808-4330-9010-55dbfa7330c8",
    "deepnote_cell_type": "code"
   },
   "source": "a = int(a)\nprint(a)\ntype(a)",
   "outputs": [],
   "execution_count": null
  },
  {
   "cell_type": "code",
   "metadata": {
    "cell_id": "00036-b9e61789-b342-4990-88bc-5e9f5eb98e4c",
    "deepnote_cell_type": "code"
   },
   "source": "a = str(a)\nprint(a)\ntype(a)",
   "outputs": [],
   "execution_count": null
  },
  {
   "cell_type": "code",
   "metadata": {
    "cell_id": "00037-034670fa-99d1-45c4-ba2f-450eecd594e4",
    "deepnote_cell_type": "code"
   },
   "source": "a = \"5\"\nb = \"6\"\na + b",
   "outputs": [],
   "execution_count": null
  },
  {
   "cell_type": "markdown",
   "source": "## 4. if,elif,else Statements",
   "metadata": {
    "cell_id": "00038-532cd0b5-405a-4dad-88c9-0401b2872af5",
    "deepnote_cell_type": "markdown"
   }
  },
  {
   "cell_type": "code",
   "metadata": {
    "cell_id": "00039-f0d71536-105a-4052-a09d-b8abcf7b3d80",
    "deepnote_cell_type": "code"
   },
   "source": "if True:\n    print ('It was true!')",
   "outputs": [],
   "execution_count": null
  },
  {
   "cell_type": "code",
   "metadata": {
    "cell_id": "00040-276634f4-78a8-4c55-994d-02e52c7f49aa",
    "deepnote_cell_type": "code"
   },
   "source": "x = False\n\nif x:\n    print ('x was True!')\nelse:\n    print ('I will be printed in any case where x is not true')",
   "outputs": [],
   "execution_count": null
  },
  {
   "cell_type": "markdown",
   "source": "### Multiple Branches\n\n#### Let's get a fuller picture of how far if, elif, and else can take us!\n\n#### We write this out in a nested structure. Take note of how the if,elif,and else line up in the code. This can help you see what if is related to what elif or else statements.\n\n#### We'll reintroduce a comparison syntax for Python.",
   "metadata": {
    "cell_id": "00041-06962e25-ecd3-47ca-9bb2-704f748e3e90",
    "deepnote_cell_type": "markdown"
   }
  },
  {
   "cell_type": "code",
   "metadata": {
    "cell_id": "00042-06913a6b-41ac-4a98-bc6b-3de7105b1bb8",
    "deepnote_cell_type": "code"
   },
   "source": "loc = 'Jupyter'\n\nif loc == 'Deloitte':\n    print ('Welcome to the Deloitte!')\nelif loc == 'Jupyter':\n    print ('Welcome to Jupyter!')\nelse:\n    print (\"Where are you?\")",
   "outputs": [],
   "execution_count": null
  },
  {
   "cell_type": "markdown",
   "source": "#### Note how the nested if statements are each checked until a True boolean causes the nested code below it to run. You should also note that you can put in as many elif statements as you want before you close off with an else.",
   "metadata": {
    "cell_id": "00043-31b5f3ca-6ccf-4805-aecb-fd84500f7cd8",
    "deepnote_cell_type": "markdown"
   }
  },
  {
   "cell_type": "markdown",
   "source": "## Comparison Operators",
   "metadata": {
    "cell_id": "00044-a634ae2f-c527-4d00-98f9-2410d8434950",
    "deepnote_cell_type": "markdown"
   }
  },
  {
   "cell_type": "code",
   "metadata": {
    "cell_id": "00045-1339518a-392a-4f88-b39d-e71836e7952e",
    "deepnote_cell_type": "code"
   },
   "source": "#If the values of two operands are equal, then the condition becomes true.\n1 == 1",
   "outputs": [],
   "execution_count": null
  },
  {
   "cell_type": "code",
   "metadata": {
    "cell_id": "00046-d3ef8446-f1ae-4dd9-a7a8-dd6ee63e0841",
    "deepnote_cell_type": "code"
   },
   "source": "#If the value of left operand is greater than the value of right operand, then condition becomes true.\n2 > 1",
   "outputs": [],
   "execution_count": null
  },
  {
   "cell_type": "code",
   "metadata": {
    "cell_id": "00047-de3e2f05-f034-4e78-9c72-0f67ef0419b4",
    "deepnote_cell_type": "code"
   },
   "source": "#If the value of left operand is greater than or equal to the value of right operand, then condition becomes true.\n2 >= 1",
   "outputs": [],
   "execution_count": null
  },
  {
   "cell_type": "code",
   "metadata": {
    "cell_id": "00048-1de5db26-f470-47ea-aae6-527b147ef03c",
    "deepnote_cell_type": "code"
   },
   "source": "#If the value of left operand is less than or equal to the value of right operand, then condition becomes true.\n2 <= 1",
   "outputs": [],
   "execution_count": null
  },
  {
   "cell_type": "code",
   "metadata": {
    "cell_id": "00049-cf1c3d4e-c51b-40ac-a0ec-f9a3333ce7b9",
    "deepnote_cell_type": "code"
   },
   "source": "#If values of two operands are not equal, then condition becomes true.\n2 != 1",
   "outputs": [],
   "execution_count": null
  },
  {
   "cell_type": "code",
   "metadata": {
    "cell_id": "00050-005bc838-d979-4b94-abed-f9db59a55381",
    "deepnote_cell_type": "code"
   },
   "source": "#Logical and. If both logical expressions are true, then the condition becomes true.\n2 == 2 and 2 > 0",
   "outputs": [],
   "execution_count": null
  },
  {
   "cell_type": "code",
   "metadata": {
    "cell_id": "00051-f926628e-8947-420e-b0e8-0fc01a2ecd3c",
    "deepnote_cell_type": "code"
   },
   "source": "#Logical or. If one of the logical expressions are true, then the condition becomes true.\n2 == 0 or 2 > 0",
   "outputs": [],
   "execution_count": null
  },
  {
   "cell_type": "code",
   "metadata": {
    "cell_id": "00052-620f3bd4-a0e2-469f-9b5c-5d28471f9437",
    "deepnote_cell_type": "code"
   },
   "source": "\"a\" in \"asd\"",
   "outputs": [],
   "execution_count": null
  },
  {
   "cell_type": "code",
   "metadata": {
    "cell_id": "00053-0a0dbd16-a3f7-4229-bc2f-1a9429e3c501",
    "deepnote_cell_type": "code"
   },
   "source": "\"a\" not in \"asd\"",
   "outputs": [],
   "execution_count": null
  },
  {
   "cell_type": "markdown",
   "source": "## 5. Lists",
   "metadata": {
    "cell_id": "00054-a0762a42-14ea-4fa1-b38e-1e454041de77",
    "deepnote_cell_type": "markdown"
   }
  },
  {
   "cell_type": "markdown",
   "source": "#### Earlier when discussing strings we introduced the concept of a sequence in Python. Lists can be thought of the most general version of a sequence in Python. \n\n#### Lists are constructed with brackets [] and commas separating every element in the list.",
   "metadata": {
    "cell_id": "00055-6b795cab-7ea6-4a28-a540-e9d7a3b727c7",
    "deepnote_cell_type": "markdown"
   }
  },
  {
   "cell_type": "code",
   "metadata": {
    "cell_id": "00056-db86fcfc-0339-4aaa-ba0b-8bbe0ac3a06c",
    "deepnote_cell_type": "code"
   },
   "source": "# Assign a list to an variable named my_list\nmy_list = [1,2,3]\nprint (my_list)\n",
   "outputs": [],
   "execution_count": null
  },
  {
   "cell_type": "code",
   "metadata": {
    "cell_id": "00057-fd940b60-4e36-4056-8c47-9cb01a28384f",
    "deepnote_cell_type": "code"
   },
   "source": "# We just created a list of integers, but lists can actually hold different object types.\n\nmy_list = ['A string',23,100.232,'o']\nprint(my_list)",
   "outputs": [],
   "execution_count": null
  },
  {
   "cell_type": "code",
   "metadata": {
    "cell_id": "00058-891663ae-47e2-436a-8c04-ce7cedf0ba64",
    "deepnote_cell_type": "code"
   },
   "source": "# Just like strings, the len() function will tell you how many items are in the sequence of the list\nlen(my_list)",
   "outputs": [],
   "execution_count": null
  },
  {
   "cell_type": "markdown",
   "source": "### Indexing and slicing works just like in strings!",
   "metadata": {
    "cell_id": "00059-3da31296-8b15-48d9-923a-a1d2b9bc7c69",
    "deepnote_cell_type": "markdown"
   }
  },
  {
   "cell_type": "markdown",
   "source": "#### Unlike strings, they are mutable, meaning the elements inside a list can be changed!",
   "metadata": {
    "cell_id": "00060-44612c48-de99-4e05-8113-e6eaad754904",
    "deepnote_cell_type": "markdown"
   }
  },
  {
   "cell_type": "code",
   "metadata": {
    "cell_id": "00061-dc7dbbe5-29eb-4996-8d14-e71cc6983aac",
    "deepnote_cell_type": "code"
   },
   "source": "s = \"Deloitte\"\nprint(s)\ns[0] = \"K\"",
   "outputs": [],
   "execution_count": null
  },
  {
   "cell_type": "code",
   "metadata": {
    "cell_id": "00062-5e9e6d1d-2d37-4550-a12c-ef72fb4a98e4",
    "deepnote_cell_type": "code"
   },
   "source": "print(my_list)\nmy_list[0] = 'Another string'\nprint(my_list)",
   "outputs": [],
   "execution_count": null
  },
  {
   "cell_type": "markdown",
   "source": "### For further information check:\nhttps://www.hackerrank.com/challenges/python-lists/problem",
   "metadata": {
    "cell_id": "00063-78f79b70-7696-4604-bc62-76af3514b89a",
    "deepnote_cell_type": "markdown"
   }
  },
  {
   "cell_type": "markdown",
   "source": "## 6. Dictionaries",
   "metadata": {
    "cell_id": "00064-ca42dbdb-7781-4ef5-b30f-7cd079b3a30c",
    "deepnote_cell_type": "markdown"
   }
  },
  {
   "cell_type": "markdown",
   "source": "### We've been learning about sequences in Python, now we're going to learn about mappings in Python. If you're familiar with other languages you can think of these Dictionaries as hash tables.\n\n### Mappings are a collection of objects that are stored by a key, unlike a sequence that stored objects by their relative position. This is an important distinction, since mappings won't retain order since they have objects defined by a key.\n\n### A Python dictionary consists of a key and then an associated value. That value can be almost any Python object.",
   "metadata": {
    "cell_id": "00065-04e3f85e-c8f9-451a-b176-4449675c191d",
    "deepnote_cell_type": "markdown"
   }
  },
  {
   "cell_type": "code",
   "metadata": {
    "cell_id": "00066-bbe49a37-9e8a-423e-9a47-5c36164a2b57",
    "deepnote_cell_type": "code"
   },
   "source": "# Make a dictionary with {} and : to signify a key and a value\nmy_dict = {'key1':'value1','key2':'value2'}",
   "outputs": [],
   "execution_count": null
  },
  {
   "cell_type": "code",
   "metadata": {
    "cell_id": "00067-dfc4e15d-bc7f-4399-b288-0621d8a7e158",
    "deepnote_cell_type": "code"
   },
   "source": "# Call values by their key\nmy_dict['key2']",
   "outputs": [],
   "execution_count": null
  },
  {
   "cell_type": "code",
   "metadata": {
    "cell_id": "00068-60ab54b5-ed55-4bbc-a322-edf8660b445c",
    "deepnote_cell_type": "code"
   },
   "source": "# Its important to note that dictionaries are very flexible in the data types they can hold.\nmy_dict = {'key1':123,'key2':[12,23,33],'key3':['item0','item1','item2']}",
   "outputs": [],
   "execution_count": null
  },
  {
   "cell_type": "code",
   "metadata": {
    "cell_id": "00069-91b29997-a6af-40be-8bba-c62dc25ecb25",
    "deepnote_cell_type": "code"
   },
   "source": "# Create a new dictionary\nd = {}\nd = dict()",
   "outputs": [],
   "execution_count": 2
  },
  {
   "cell_type": "code",
   "metadata": {
    "cell_id": "00070-22658013-18de-4647-ad3f-776694b32fba",
    "deepnote_cell_type": "code"
   },
   "source": "# Create a new key through assignment\nd['animal'] = 'Dog'",
   "outputs": [],
   "execution_count": null
  },
  {
   "cell_type": "code",
   "metadata": {
    "cell_id": "00071-780b090c-9044-43e0-ba8d-d9174557914e",
    "deepnote_cell_type": "code"
   },
   "source": "# Can do this with any object\nd['answer'] = 42\nprint(d)",
   "outputs": [],
   "execution_count": null
  },
  {
   "cell_type": "markdown",
   "source": "## 7. for Loops",
   "metadata": {
    "cell_id": "00072-2c866055-876e-459a-a6e1-2f091e3557a9",
    "deepnote_cell_type": "markdown"
   }
  },
  {
   "cell_type": "markdown",
   "source": "### A for loop acts as an iterator in Python, it goes through items that are in a sequence or any other iterable item. Objects that we've learned about that we can iterate over include strings,lists and even built in iterables for dictionaries, such as the keys or values.\n",
   "metadata": {
    "cell_id": "00073-3ada4ba4-1683-404a-902c-ffbd707d7cc8",
    "deepnote_cell_type": "markdown"
   }
  },
  {
   "cell_type": "code",
   "metadata": {
    "cell_id": "00074-c98248f8-9f8f-4c86-be07-86c5cfa12278",
    "deepnote_cell_type": "code"
   },
   "source": "l = [1,2,3,4,5,6,7,8,9,10]\nfor num in l:\n    print (num)",
   "outputs": [],
   "execution_count": null
  },
  {
   "cell_type": "markdown",
   "source": "### The variable name used for the item is completely up to the coder, so use your best judgment for choosing a name that makes sense and you will be able to understand when revisiting your code. This item name can then be referenced inside you loop, for example if you wanted to use if statements to perform checks.",
   "metadata": {
    "cell_id": "00075-1fb9b01d-f0b8-4a66-af00-a42f3398d757",
    "deepnote_cell_type": "markdown"
   }
  },
  {
   "cell_type": "code",
   "metadata": {
    "cell_id": "00076-d8c4cc43-afd8-4d36-9a20-c54f986bd082",
    "deepnote_cell_type": "code"
   },
   "source": "for letter in 'This is a string.':\n    print (letter)",
   "outputs": [],
   "execution_count": null
  },
  {
   "cell_type": "code",
   "metadata": {
    "cell_id": "00077-bbcd20fb-dc5a-451a-a5c0-2ecc6c84924c",
    "deepnote_cell_type": "code"
   },
   "source": "d = {'k1':1,'k2':2,'k3':3}\nfor item in d:\n    print (item)",
   "outputs": [],
   "execution_count": null
  },
  {
   "cell_type": "code",
   "metadata": {
    "cell_id": "00078-e37d214d-ab5a-4dd4-9ff7-0bf8ba9092ca",
    "deepnote_cell_type": "code"
   },
   "source": "# You can use .items() to iterate through the keys and values of a dictionary.\nfor k,v in d.items():\n    print(k)\n    print(v)",
   "outputs": [],
   "execution_count": null
  },
  {
   "cell_type": "markdown",
   "source": "### range()\n#### Built in function range() allows us to create a (something like a) list of numbers ranging from a starting point up to an ending point. We can also specify step size. ",
   "metadata": {
    "cell_id": "00079-747c0c6e-ce0e-4a98-a526-9a87cba97a10",
    "deepnote_cell_type": "markdown"
   }
  },
  {
   "cell_type": "code",
   "metadata": {
    "cell_id": "00080-3e3f23ed-6606-485d-ac1a-2c5cacb8fcc0",
    "deepnote_cell_type": "code"
   },
   "source": "x =range(0,10)\nprint(type(x))\nprint(x)",
   "outputs": [],
   "execution_count": null
  },
  {
   "cell_type": "code",
   "metadata": {
    "cell_id": "00081-fdecdff6-07b4-46fd-9be5-2d3997ecfaeb",
    "deepnote_cell_type": "code"
   },
   "source": "list(x)",
   "outputs": [],
   "execution_count": null
  },
  {
   "cell_type": "code",
   "metadata": {
    "cell_id": "00082-49975ca4-d806-4e59-819c-fc14b2fde1b6",
    "deepnote_cell_type": "code"
   },
   "source": "# Is is very common to use range in for loops.\nstart = 2\nstop = 10\nstep = 2\nfor i in range(stop):\n    print(i)",
   "outputs": [],
   "execution_count": null
  },
  {
   "cell_type": "code",
   "metadata": {
    "cell_id": "00083-8e586dc7-2fa8-4c93-8acc-24bac0a14719",
    "deepnote_cell_type": "code"
   },
   "source": "# You can set the starting \nfor i in range(start, stop):\n    print(i)",
   "outputs": [],
   "execution_count": null
  },
  {
   "cell_type": "code",
   "metadata": {
    "cell_id": "00084-f564d319-8971-47b4-95f5-44a7cd8ea692",
    "deepnote_cell_type": "code"
   },
   "source": "for i in range(start, stop, step):\n    print(i)",
   "outputs": [],
   "execution_count": null
  },
  {
   "cell_type": "code",
   "metadata": {
    "cell_id": "00085-1d7f6ce4-5adb-4033-9883-585b54bf41e3",
    "deepnote_cell_type": "code"
   },
   "source": "range()",
   "outputs": [],
   "execution_count": null
  },
  {
   "cell_type": "code",
   "metadata": {
    "cell_id": "00086-6cef11a4-939c-4890-bdf2-3dfaa2b2d120",
    "deepnote_cell_type": "code"
   },
   "source": "help()",
   "outputs": [],
   "execution_count": null
  },
  {
   "cell_type": "markdown",
   "source": "## 8. while Loops",
   "metadata": {
    "cell_id": "00087-747f88d1-e42c-4508-92f6-89f90a349e59",
    "deepnote_cell_type": "markdown"
   }
  },
  {
   "cell_type": "markdown",
   "source": "### The while statement in Python is one of most general ways to perform iteration. A while statement will repeatedly execute a single statement or group of statements as long as the condition is true. The reason it is called a 'loop' is because the code statements are looped through over and over again until the condition is no longer met.",
   "metadata": {
    "cell_id": "00088-161b0f16-c4d2-47cb-99d3-3229d15092ba",
    "deepnote_cell_type": "markdown"
   }
  },
  {
   "cell_type": "code",
   "metadata": {
    "cell_id": "00089-872119ce-f49f-4757-ad07-9e970a3dc31a",
    "deepnote_cell_type": "code"
   },
   "source": "x = 0\n\nwhile x < 10:\n    print ('x is currently: ', x)\n    print ('x is still less than 10, adding 1 to x')\n    x+=1\n",
   "outputs": [],
   "execution_count": null
  },
  {
   "cell_type": "markdown",
   "source": "## 9. Functions",
   "metadata": {
    "cell_id": "00090-d1612df0-7de2-49a4-83c7-d3590f8760f5",
    "deepnote_cell_type": "markdown"
   }
  },
  {
   "cell_type": "markdown",
   "source": "### Formally, a function is a useful device that groups together a set of statements so they can be run more than once. They can also let us specify parameters that can serve as inputs to the functions.\n\n### On a more fundamental level, functions allow us to not have to repeatedly write the same code again and again. If you remember back to the lessons on strings and lists, remember that we used a function len() to get the length of a string. Since checking the length of a sequence is a common task you would want to write a function that can do this repeatedly at command.\n\n### Functions will be one of most basic levels of reusing code in Python, and it will also allow us to start thinking of program design.",
   "metadata": {
    "cell_id": "00091-88ddf94a-0019-4d11-8f2b-cbc64843cd57",
    "deepnote_cell_type": "markdown"
   }
  },
  {
   "cell_type": "code",
   "metadata": {
    "cell_id": "00092-da47948f-8d1a-49ed-a70b-3e2803cc8321",
    "deepnote_cell_type": "code"
   },
   "source": "def name_of_function(arg1,arg2):\n    '''\n    This is where the function's Document String (doc-string) goes\n    '''\n    # Do stuff here\n    #return desired result",
   "outputs": [],
   "execution_count": null
  },
  {
   "cell_type": "markdown",
   "source": "#### We begin with def then a space followed by the name of the function. Try to keep names relevant, for example len() is a good name for a length() function. Also be careful with names, you wouldn't want to call a function the same name as a built-in function in Python (such as len).\n\n#### Next come a pair of parenthesis with a number of arguments separated by a comma. These arguments are the inputs for your function. You'll be able to use these inputs in your function and reference them. After this you put a colon.\n\n#### Now here is the important step, you must indent to begin the code inside your function correctly. Python makes use of whitespace to organize code. Lots of other programing languages do not do this, so keep that in mind.\n\n#### Next you'll see the doc-string, this is where you write a basic description of the function. Using iPython and iPython Notebooks, you'll be ab;e to read these doc-strings by pressing Shift+Tab after a function name. Doc strings are not necessary for simple functions, but its good practice to put them in so you or other people can easily understand the code you write.\n\n#### After all this you begin writing the code you wish to execute.",
   "metadata": {
    "cell_id": "00093-7a267421-ab09-4b50-8fa8-e0f0b8fe0049",
    "deepnote_cell_type": "markdown"
   }
  },
  {
   "cell_type": "code",
   "metadata": {
    "cell_id": "00094-138295ab-c33b-4a02-a03f-519eca7fedf2",
    "deepnote_cell_type": "code"
   },
   "source": "def say_hello():\n    print ('hello')",
   "outputs": [],
   "execution_count": null
  },
  {
   "cell_type": "code",
   "metadata": {
    "cell_id": "00095-f3914d06-9cf3-40dd-819c-f5d8424cd944",
    "deepnote_cell_type": "code"
   },
   "source": "# Call function\na = say_hello()",
   "outputs": [],
   "execution_count": null
  },
  {
   "cell_type": "code",
   "metadata": {
    "cell_id": "00096-2f20dfe9-c4cb-4815-9152-03163014daa6",
    "deepnote_cell_type": "code"
   },
   "source": "a",
   "outputs": [],
   "execution_count": null
  },
  {
   "cell_type": "code",
   "metadata": {
    "cell_id": "00097-dd263585-b663-4b48-9756-20a1722e1d0a",
    "deepnote_cell_type": "code"
   },
   "source": "# return allows a function to return a result that can then be stored as a variable, or used in whatever manner a user wants.\ndef add_num(num1,num2):\n    return num1+num2",
   "outputs": [],
   "execution_count": null
  },
  {
   "cell_type": "code",
   "metadata": {
    "cell_id": "00098-80939e9b-f94e-4e5c-8b8a-8081f9abefd4",
    "deepnote_cell_type": "code"
   },
   "source": "a = add_num(2,3)",
   "outputs": [],
   "execution_count": null
  },
  {
   "cell_type": "markdown",
   "source": "### Input - Built in function input allows user input.",
   "metadata": {
    "cell_id": "00099-bfefae82-5bc3-4c63-9ef7-52376791a52a",
    "deepnote_cell_type": "markdown"
   }
  },
  {
   "cell_type": "code",
   "metadata": {
    "cell_id": "00100-e8c32c4b-ee20-497f-a4ff-9d1bdc91cebf",
    "deepnote_cell_type": "code"
   },
   "source": "def ask_name():\n    name = input()\n    print(name)",
   "outputs": [],
   "execution_count": null
  },
  {
   "cell_type": "code",
   "metadata": {
    "cell_id": "00101-8c215d4f-b9e8-49d7-8ddd-0173d5150334",
    "deepnote_cell_type": "code"
   },
   "source": "ask_name()",
   "outputs": [],
   "execution_count": null
  },
  {
   "cell_type": "code",
   "metadata": {
    "cell_id": "00102-d7fe938b-1e99-4127-ae58-99fa006261d1",
    "deepnote_cell_type": "code"
   },
   "source": "def ask_name_2():\n    name = input(\"What is your name? \")\n    print(type(name))\n    print(name)",
   "outputs": [],
   "execution_count": null
  },
  {
   "cell_type": "code",
   "metadata": {
    "cell_id": "00103-eff1d145-0e22-4b72-9919-cba362c6c5de",
    "deepnote_cell_type": "code"
   },
   "source": "ask_name_2()",
   "outputs": [],
   "execution_count": null
  },
  {
   "cell_type": "code",
   "metadata": {
    "cell_id": "00104-585fe04a-7866-4829-84a5-55d58c0fb568",
    "deepnote_cell_type": "code"
   },
   "source": "#List all variables of a global scope\n%who",
   "outputs": [],
   "execution_count": null
  },
  {
   "cell_type": "code",
   "metadata": {
    "cell_id": "00105-e04977aa-4907-4fed-b14d-f5412d70ba90",
    "deepnote_cell_type": "code"
   },
   "source": "",
   "outputs": [],
   "execution_count": null
  },
  {
   "cell_type": "markdown",
   "source": "<a style='text-decoration:none;line-height:16px;display:flex;color:#5B5B62;padding:10px;justify-content:end;' href='https://deepnote.com?utm_source=created-in-deepnote-cell&projectId=978e47b7-a961-4dca-a945-499e8b781a34' target=\"_blank\">\n<img alt='Created in deepnote.com' style='display:inline;max-height:16px;margin:0px;margin-right:7.5px;' src='data:image/svg+xml;base64,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' > </img>\nCreated in <span style='font-weight:600;margin-left:4px;'>Deepnote</span></a>",
   "metadata": {
    "tags": [],
    "created_in_deepnote_cell": true,
    "deepnote_cell_type": "markdown"
   }
  }
 ],
 "nbformat": 4,
 "nbformat_minor": 2,
 "metadata": {
  "kernelspec": {
   "display_name": "Python 3",
   "language": "python",
   "name": "python3"
  },
  "language_info": {
   "codemirror_mode": {
    "name": "ipython",
    "version": 3
   },
   "file_extension": ".py",
   "mimetype": "text/x-python",
   "name": "python",
   "nbconvert_exporter": "python",
   "pygments_lexer": "ipython3",
   "version": "3.9.0"
  },
  "deepnote_notebook_id": "8bc12f20-e338-49bf-994e-78c50664788f",
  "deepnote": {},
  "deepnote_execution_queue": []
 }
}