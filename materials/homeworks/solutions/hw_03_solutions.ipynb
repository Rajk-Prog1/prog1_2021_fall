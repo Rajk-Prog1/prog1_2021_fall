{
 "cells": [
  {
   "cell_type": "markdown",
   "source": "# Megoldások",
   "metadata": {
    "tags": [],
    "cell_id": "00001-43c24f1d-9450-44ea-b873-2c171a75881d",
    "deepnote_cell_type": "markdown"
   }
  },
  {
   "cell_type": "markdown",
   "source": "##### 1: Harmadfokú egyenlet megoldása\nÁ: $(a,b,c,d\\in \\mathbb{R} \\land x_1,x_2,x_3 \\in \\mathbb{C})$  \nEf: $(a = a', b=b', c=c', d=d', a \\neq 0)$  \nUf: $(Ef \\land \\forall i(ax_i^3 + bx_i^2 + cx_i + d = 0) \\land (x_1+x_2+x_3 = -\\frac{b}{a}) \\land (x_1x_2 + x_1x_3 + x_2x_3 = \\frac{c}{a}) \\land (x_1x_2x_3 = -\\frac{d}{a}))$  \nAz utolsó három tag a Viète-formulákból áll. (ez nem kötelező, de mindenképp igaz rájuk)",
   "metadata": {
    "tags": [],
    "cell_id": "00000-b6563a5c-0e18-4cc4-8f8d-9eba7fe75185",
    "deepnote_cell_type": "markdown"
   }
  },
  {
   "cell_type": "markdown",
   "source": "##### 2: Egy tíz számból álló tömbben ha van páros, számoljuk ki a 10 szám szorzatát, ha nincs közte páros szám, adjuk meg a legkisebb számot.\nÁ: $(x\\in \\mathbb{Z}^{n},s\\in \\mathbb{Z})$  \nEf: $(x=x'\\land n=10)$  \nUf: $(Ef\\land (\\exists y(y \\in x\\land 2\\mid y)\\Rightarrow (s=\\prod_{y \\in x} y)) \\land (\\nexists z(z\\in x\\land 2\\mid z)\\Rightarrow (s\\in x \\land \\nexists k(k\\in x \\land k<s))))$",
   "metadata": {
    "tags": [],
    "cell_id": "00002-97eba3db-b939-4272-913a-a62bcbed3317",
    "deepnote_cell_type": "markdown"
   }
  },
  {
   "cell_type": "markdown",
   "source": "##### 3: Két természetes szám legkisebb közös többszörösének megtalálása.\nÁ: $(x,y,z \\in \\mathbb{N}^+)$  \nEf: $(x=x', y=y')$  \nUf: $(Ef \\land x \\mid z \\land y \\mid z \\land \\nexists a(x \\mid a \\land y \\mid a \\land a<z))$",
   "metadata": {
    "tags": [],
    "cell_id": "00003-994801a1-8653-42e3-b4e9-28e796b5c95a",
    "deepnote_cell_type": "markdown"
   }
  },
  {
   "cell_type": "markdown",
   "source": "##### 4: Két számhoz keresünk egyet ami a két szám összege és különbsége között van.\nÁ: $(a,b,c \\in \\mathbb{R})$  \nEf: $(a=a' \\land b=b')$  \nUf: $(Ef \\land ((a-b)<c<(a+b)) \\lor ((b-a)<c<(a+b)) \\lor ((a+b)<c<(a-b)) \\lor ((a+b)<c<(b-a)))$",
   "metadata": {
    "tags": [],
    "cell_id": "00004-7678ef5a-886d-4ccf-9fa9-c6cb422058fd",
    "deepnote_cell_type": "markdown"
   }
  },
  {
   "cell_type": "markdown",
   "source": "##### Nehéz: Adott egy tetszőleges predikátum, ami egy logikai értéket számol ki két természetes számból és adott hozzá két természetes szám, amire ki lehet számolni. Ha van olyan szám amire ki lehetne cserélni valamelyiket a két szám közül, úgy hogy a predikátum igazságértéke változatlan maradjon, számolja ki a program ezt a számot.\nÁ: $(x,y \\in \\mathbb{N} \\land P: \\mathbb{N} \\to \\mathbb{B} \\land z \\in \\mathbb{N})$  \nEf: $(x=x', y=y', P=P')$  \nUf: $(Ef \\land \\exists n(((P(x, y) \\Leftrightarrow P(n, y)) V (P(x, y) \\Leftrightarrow P(x, n))) \\Leftrightarrow (z=n)))$",
   "metadata": {
    "tags": [],
    "cell_id": "00005-36f68eae-31aa-4d0c-ae61-864aa81cc0e7",
    "deepnote_cell_type": "markdown"
   }
  },
  {
   "cell_type": "markdown",
   "source": "<a style='text-decoration:none;line-height:16px;display:flex;color:#5B5B62;padding:10px;justify-content:end;' href='https://deepnote.com?utm_source=created-in-deepnote-cell&projectId=978e47b7-a961-4dca-a945-499e8b781a34' target=\"_blank\">\n<img alt='Created in deepnote.com' style='display:inline;max-height:16px;margin:0px;margin-right:7.5px;' src='data:image/svg+xml;base64,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' > </img>\nCreated in <span style='font-weight:600;margin-left:4px;'>Deepnote</span></a>",
   "metadata": {
    "tags": [],
    "created_in_deepnote_cell": true,
    "deepnote_cell_type": "markdown"
   }
  }
 ],
 "nbformat": 4,
 "nbformat_minor": 2,
 "metadata": {
  "orig_nbformat": 2,
  "deepnote": {
   "is_reactive": false
  },
  "deepnote_notebook_id": "7877a333-1141-446e-b801-f5a78ac5a953",
  "deepnote_execution_queue": []
 }
}