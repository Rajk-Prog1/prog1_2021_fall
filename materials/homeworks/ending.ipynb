{
 "cells": [
  {
   "cell_type": "markdown",
   "source": "# I. Projekt leadása és helyzetjelentés\n\nA projekt leadási határideje a megbeszéltek szerint **január 23 vasárnap éjfél**. A leadás után átnézzük a projekteket és értékeljük őket. Teszünk majd javítása javaslatokat, de hacsak valami nagy hibát nem vétettetek akkor ezeket nem lesz kötelező kijavítanotok a kurzus zárása előtt (azt követően sem ha nem akarjátok)). \n\n**Január 16. vasárnap éjfélig** pedig töltsetek fel a saját mappátokba egy helyzetjelentést a projektről. Ebben azt fogalmazzátok meg a projekt célját néhány mondatban. Milyen eszközöket használtok a megvalósításhoz, jelenleg hogyan álltok és mik a tervek még az utolsó hétre. Ebbe is írhattok olyan kérdéseket, amire szeretnétek, hogy válaszoljunk. Illetve amúgy is nyugodtan kereshettek minket, ha segítségre lenne szükségetek.",
   "metadata": {
    "tags": [],
    "cell_id": "00001-e2f7c842-8b18-4ede-8ebb-6466a20b438f",
    "deepnote_cell_type": "markdown"
   }
  },
  {
   "cell_type": "markdown",
   "source": "## II. Késésért járó AoC\n\nA késésért elkészítendő AoC csillagok leadási határideje **január 30 vasárnap éjfél**. Mindenki válasszon a 2021 előtti évekből egyet és abban minden büntetésért csináljon meg egy AoC napot (mind a két csillag ugyan azon a napon belül). A kurzus keretén belül háziként eddig megcsinált feladatok ebbe nem számítanak bele.\n\n- https://adventofcode.com/2015\n- https://adventofcode.com/2016\n- https://adventofcode.com/2017\n- https://adventofcode.com/2018\n- https://adventofcode.com/2019\n- https://adventofcode.com/2020\n\nBüntető pontok:\n\n- Misi 5\n- Keve 3\n- Ákos 4\n- Katinka 2\n- Szabi 0\n- Eszti 3\n- Dani 2\n- Dorka 3\n\nItt ha szerintetek valamit elszámoltunk akkor nyugodtan reklamáljatok.",
   "metadata": {
    "tags": [],
    "cell_id": "00001-e84ba6b8-3680-476a-a076-1be5b5c73d91",
    "deepnote_cell_type": "markdown"
   }
  },
  {
   "cell_type": "markdown",
   "source": "## III. AoC a kivállóan megfeleltért\n\nHa valaki megcsinál 40 csillagot a 2021-es AoC-ból, akkor ha miden más alap követelményt teljesített akkor kap egy kiválóan megfeleltet. Illetve [innen](https://advent-of-code.creator-spring.com/?) választhat valamit magának. Minden büntetésként elkészített egy AoC nap (2 csillag) csökkenti a 40 csillagot egyel.\n\n- https://adventofcode.com/2021",
   "metadata": {
    "tags": [],
    "cell_id": "00002-835b58ed-7b92-4adb-ac87-b87cca3f696f",
    "deepnote_cell_type": "markdown"
   }
  },
  {
   "cell_type": "markdown",
   "source": "",
   "metadata": {
    "tags": [],
    "cell_id": "00003-8cdc4d81-2ebd-4f0f-905d-5203af0cc23d",
    "deepnote_cell_type": "markdown"
   }
  },
  {
   "cell_type": "markdown",
   "source": "<a style='text-decoration:none;line-height:16px;display:flex;color:#5B5B62;padding:10px;justify-content:end;' href='https://deepnote.com?utm_source=created-in-deepnote-cell&projectId=978e47b7-a961-4dca-a945-499e8b781a34' target=\"_blank\">\n<img alt='Created in deepnote.com' style='display:inline;max-height:16px;margin:0px;margin-right:7.5px;' src='data:image/svg+xml;base64,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' > </img>\nCreated in <span style='font-weight:600;margin-left:4px;'>Deepnote</span></a>",
   "metadata": {
    "tags": [],
    "created_in_deepnote_cell": true,
    "deepnote_cell_type": "markdown"
   }
  }
 ],
 "nbformat": 4,
 "nbformat_minor": 2,
 "metadata": {
  "orig_nbformat": 2,
  "deepnote": {
   "is_reactive": false
  },
  "deepnote_notebook_id": "0f1d6d9e-ccbf-47ed-ac86-1ec0f910b74d",
  "deepnote_execution_queue": []
 }
}