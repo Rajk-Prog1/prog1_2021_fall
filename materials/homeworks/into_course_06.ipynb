{
 "cells": [
  {
   "cell_type": "markdown",
   "source": "# I. HackerRank feladatok\n\nA már sokat emlegetett Advent of Code mellett a Hackerrank nevű oldalon található programozási porblémákat is használjuk majd a kurzuson. Ezek nehézségében átláthatóbban differenciált gyakorlási lehetőségek, mint az AoC.\nItt van külön egy [python](https://www.hackerrank.com/domains/python) feladatokat tömörítő aloldal. \nIlletve ezen belül is csoportokba vannak rendezve a feladatok. \n\nNektek most az Introduction alá tartozó hét feladatot, a String alá tartozó String Split and Join feladatot (ez hasznos lesz a Lists feladathoz) és a Basic Data Types Lists és Nested Lists feladatait kell megoldanotok. Ez összesen 10 feladat. Ha valakinek nagyon egyszerűek ezek a feladatok az szóljon és megpróbálunk jobban szinthezillőt adni.\n\nA hackerrankon a feladatok kódjait a saját beépített felületükön tudjátok megírni.\nA legtöbb esetben a kódotokat az \"if __name__ == '__main__':\" elágazáson belül kell megírnotok.\nIlletve a nektek kijelölt feladatoknál egy tutorial fület is találtok ami hasznos magyarázatokat tartalmaz.\nEzek a tutorialok viszont python2-ben lettem megírva ez ha jól emlékszem annyi problémát okozhat, hogy a print után nektek zárójelet () kell raknotok pluszban.\n\nHa készen vagytok készítsetek egy képet arról, hogy megoldottátok a feladatokat és azt töltsétek fel **vasárnap (10.24) éjfélig**. ",
   "metadata": {
    "tags": [],
    "cell_id": "00001-ccc9b719-5275-4f60-bc2c-18f4a7448721",
    "deepnote_cell_type": "markdown"
   }
  },
  {
   "cell_type": "markdown",
   "source": "# II. Docstring Gyakorlás\nTöltsétek ki azokat a docstringeket amiket az órán nem tudtatok befejezni a doc_gyak jupyter notebookban **vasárnap (10.24) éjfélig**. Mindenki a saját mappájában találja a fájlt.",
   "metadata": {
    "tags": [],
    "cell_id": "00001-56387dbf-2244-4a71-85f5-ac5b522457ce",
    "deepnote_cell_type": "markdown"
   }
  },
  {
   "cell_type": "markdown",
   "source": "# III. [Nyílthelyi](https://docs.google.com/forms/d/e/1FAIpQLSeOWTZbJUrvUzYnHqi4HJFhD3q0m8t3dblG9XgqT4Xbrkp6Aw/viewform?usp=sf_link)\nEzzel a nyílthelyivel az elmélet átismétlésére szeretnénk ösztönözni titeket. Kitöltési határideje **11.04. a kurzus kezdete**.",
   "metadata": {
    "tags": [],
    "cell_id": "00002-ec722773-2eb2-450a-809a-7481bc3c2c32",
    "deepnote_cell_type": "markdown"
   }
  },
  {
   "cell_type": "markdown",
   "source": "# IV. [Advent of Code](https://adventofcode.com) (AoC)\n\nItt van csomó érdekes programozási feladat amire le is tudod ellenőrizni a megoldásod. \n\nAz alábbi hat linken találtok feladatokat, \nmegkérnék mindenkit, hogy keressen ezeken a linkeken egy feladatot,\naminek mindkét alrészét (egy napon belül egy csillag számít egy alrésznek) megoldja és el tudja magyarázni hogyan:\n\nha már megoldott esetleg korábban bármilyen okból egyet, keressen újat.\n\n- https://adventofcode.com/2015\n- https://adventofcode.com/2016\n- https://adventofcode.com/2017\n- https://adventofcode.com/2018\n- https://adventofcode.com/2019\n- https://adventofcode.com/2020\n\n\n**Kritériumok a csillag megszerzésének mikéntjéhez:**\n- Az inputot egy fájlból kell beolvasnia, erre van egy példa a repoban [itt](../tutorials/read_file.ipynb).\nA legegyszerűbben úgy tudjátok letölteni az inputotokat, ha rákattintotok a zöld színű \"get your puzzle input\" szövegrészre a AoC oldalán, majd jobb klikk a megnyitott új weboldalon és \"Save as...\"-re kattintva máris le tudjátok menteni egy input.txt fájlként.  Ha nincs ilyen típusú inputja az adott feladatnak akkor ezt a lépést nyilván kihagyhatjátok.\n- Lehet nézegetni mások megoldásait, akár kollégistákét, akár az interneten,\n  van egy csomó ilyen erőforrás, lehet találni githubon \n  [pythonosokat](https://github.com/madacoo/advent_of_code_2017),\n  van saját [subredditje](https://www.reddit.com/r/adventofcode/) az AoC-nak,\n  mindent szabad. viszont **kettő csillagot önállóan kell megszerezni**\n  szóval ezeket inspirációnak és mintának lehet használni.\n- A megoldást tartalmazó jupyter notebookot vagy sima python fájlt\n  és az inputot tartalmazó fájlt fel kell deepnotera a **kurzusig (10.28.)**.",
   "metadata": {
    "tags": [],
    "cell_id": "00003-f5bc02f9-7790-4c5d-8cbb-c8e7a4afc56b",
    "deepnote_cell_type": "markdown"
   }
  },
  {
   "cell_type": "markdown",
   "source": "<a style='text-decoration:none;line-height:16px;display:flex;color:#5B5B62;padding:10px;justify-content:end;' href='https://deepnote.com?utm_source=created-in-deepnote-cell&projectId=978e47b7-a961-4dca-a945-499e8b781a34' target=\"_blank\">\n<img alt='Created in deepnote.com' style='display:inline;max-height:16px;margin:0px;margin-right:7.5px;' src='data:image/svg+xml;base64,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' > </img>\nCreated in <span style='font-weight:600;margin-left:4px;'>Deepnote</span></a>",
   "metadata": {
    "tags": [],
    "created_in_deepnote_cell": true,
    "deepnote_cell_type": "markdown"
   }
  }
 ],
 "nbformat": 4,
 "nbformat_minor": 2,
 "metadata": {
  "orig_nbformat": 2,
  "deepnote": {
   "is_reactive": false
  },
  "deepnote_notebook_id": "668fd01c-1003-475b-9a83-d0a5b7914a96",
  "deepnote_execution_queue": []
 }
}