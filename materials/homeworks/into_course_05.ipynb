{
 "cells": [
  {
   "cell_type": "code",
   "metadata": {
    "tags": [],
    "cell_id": "00000-f2bd3235-ae54-42b9-a48e-6ff7f9db15d5",
    "deepnote_cell_type": "code"
   },
   "source": "# Start writing code here...",
   "execution_count": null,
   "outputs": []
  },
  {
   "cell_type": "markdown",
   "source": "# I. Python és Jupyter\n\nOlvassátok el ezeket a bevezetőket a kurzusig:\n- [**Python Basic Syntax**](https://www.tutorialspoint.com/python3/python_basic_syntax.htm)\n- [**Python Operators**](https://www.programiz.com/python-programming/operators)\n- [**Jupyter Notebook: An Introduction**](https://realpython.com/jupyter-notebook-introduction/)",
   "metadata": {
    "tags": [],
    "cell_id": "00001-19f83869-8cb1-4bf5-8747-f3c5199644c8",
    "deepnote_cell_type": "markdown"
   }
  },
  {
   "cell_type": "markdown",
   "source": "# II. [Typegame 2](http://rajk.uni-corvinus.hu:5047/)\nA linkre kattintva eljuttok a typegame felületére, majd válasszátok ki a Second_game Quizt. A kurzusig adjatok le egy hibátlan megoldást a nevetekkel. Annyiszor próbálkozhattok ahányszor csak akartok. Ha valamiért valamikor nem működik a link akkor szóljatok és újraélesztjük.",
   "metadata": {
    "tags": [],
    "cell_id": "00002-29735b60-4111-41db-b34f-707949155a42",
    "deepnote_cell_type": "markdown"
   }
  },
  {
   "cell_type": "markdown",
   "source": "# Bónusz HackerRank feladatok\n\nA már sokat emlegetett Advent of Code mellett a Hackerrank nevű oldalon található programozási porblémákat is használjuk majd a kurzuson. Ezek nehézségében átláthatóbban differenciált gyakorlási lehetőségek, mint az AoC.\nItt van külön egy [python](https://www.hackerrank.com/domains/python) feladatokat tömörítő aloldal. \nIlletve ezen belül is csoportokba vannak rendezve a feladatok. \n\nKiválasztottam néhány HackerRank feladatot, amit 3 szintre soroltam be. **Ezek nem kötelező feladatok.** \nHa van kedvetek és időtök akkor nyugodtan elkezdhetitek megoldani őket. Ez főleg annak lehet hasznos aki már programozott valamennyit, mert ha ezzel foglalkoztok, akkor a kövi heti házikat jobban személyre tudjuk szabni majd nektek.\nA nekikezdési javaslatom az lenne, hogy mindenki kezdje az 1.1-el, ha az nagyon simán megy akkor ugorj a 2.1-re és ha az is egyszerű akkor a 3.1-re.\nHa megvan, hogy melyik szint az, ahol meg tudod oldani a feladatokat és nem is veszi el vészesen sok idődet akkor ott old meg a 2-es és 3-as feladatokat is.\n\n## 1.\n\n1.1 [Python If-Else](https://www.hackerrank.com/challenges/py-if-else/problem)\n\n1.2 [Loops](https://www.hackerrank.com/challenges/python-loops/problem)\n\n1.3 [Find the Runner-Up Score!](https://www.hackerrank.com/challenges/find-second-maximum-number-in-a-list/problem)\n\n## 2.\n\n2.1 [Write a function](https://www.hackerrank.com/challenges/write-a-function/problem)\n\n2.2 [The Minion Game](https://www.hackerrank.com/challenges/the-minion-game/problem)\n\n2.3 [Merge the Tools!](https://www.hackerrank.com/challenges/merge-the-tools/problem)\n\n## 3. \n\n3.1 [Forming a Magic Square](https://www.hackerrank.com/challenges/magic-square-forming)\n\n3.2 [Queen's Attack II](https://www.hackerrank.com/challenges/queens-attack-2/problem)\n\n3.3 [Organizing Containers of Balls](https://www.hackerrank.com/challenges/organizing-containers-of-balls/problem)\n\nA hackerrankon a feladatok kódjait a saját beépített felületükön tudjátok megírni.\nA legtöbb esetben a kódotokat az \"if __name__ == '__main__':\" elágazáson belül kell megírnotok.\nIlletve a nektek kijelölt feladatoknál egy tutorial fület is találtok ami hasznos magyarázatokat tartalmaz.\nEzek a tutorialok viszont python2-ben lettem megírva ez ha jól emlékszem annyi problémát okozhat, hogy a print után nektek zárójelet () kell raknotok pluszban.\n\nHa készen vagytok készítsetek egy képet arról, hogy megoldottátok a feladatokat és azt töltsétek fel a kurzusik.",
   "metadata": {
    "tags": [],
    "cell_id": "00003-7b01246f-19ad-44bb-832a-e2e2855e7ca0",
    "deepnote_cell_type": "markdown"
   }
  },
  {
   "cell_type": "markdown",
   "source": "<a style='text-decoration:none;line-height:16px;display:flex;color:#5B5B62;padding:10px;justify-content:end;' href='https://deepnote.com?utm_source=created-in-deepnote-cell&projectId=978e47b7-a961-4dca-a945-499e8b781a34' target=\"_blank\">\n<img alt='Created in deepnote.com' style='display:inline;max-height:16px;margin:0px;margin-right:7.5px;' src='data:image/svg+xml;base64,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' > </img>\nCreated in <span style='font-weight:600;margin-left:4px;'>Deepnote</span></a>",
   "metadata": {
    "tags": [],
    "created_in_deepnote_cell": true,
    "deepnote_cell_type": "markdown"
   }
  }
 ],
 "nbformat": 4,
 "nbformat_minor": 2,
 "metadata": {
  "orig_nbformat": 2,
  "deepnote": {
   "is_reactive": false
  },
  "deepnote_notebook_id": "fb0b805c-7c90-4833-a1a9-b431bd2e7235",
  "deepnote_execution_queue": []
 }
}