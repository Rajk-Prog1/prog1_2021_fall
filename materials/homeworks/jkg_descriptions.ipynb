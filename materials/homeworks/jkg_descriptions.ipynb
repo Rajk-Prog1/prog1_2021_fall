{
 "cells": [
  {
   "cell_type": "markdown",
   "source": "### Katinka\n\n* Definiálok egy függvényt, melynek egy integer lista típusú paramétere van.\n* Az első utasítás során a bemeneti értékeket/listát sorrendbe rendezi a program, csökkenő sorrendben.\n* Ezután definiálok egy új változót (\"a\"), melynek a 0 értéket adom.\n* Definiálok ezt követően egy újabb változót (\"b\"), mely meghívja a rendezett lista \"a\"-dik elemét, majd egy listát csinál a ennek az elemnek a számjegyeiből azon feltétel mellett, hogy az integer nem negatív (nem tartalmazza a \"-\" jelet).\n* Ezután egy olyan ciklust hozok létre, mely azt vizsgálja, hogy a \"b\" lista nem egyenlő-e a \"b\" lista növekvő sorrendbe állított változatával. A \"True\" elágazás mentén továbbhaladva a függvényt utasítom, hogy növelje eggyel az \"a\" értékét, azonban ha már a növelt érték nagyobb lenne, mint az eredeti listám elemszáma, a visszatérési érték 0. Ha még nem nagyobb, akkor módosítsa a \"b\" listát az \"a\" elemszámainak megfelelő listává a már korábbiak szerint. A \"False\" elágazás mentén pedig a visszatérési érték a legutóbbi \"a\".",
   "metadata": {
    "tags": [],
    "cell_id": "00001-61e0704d-cb31-4607-8fa1-e790988d9b17",
    "deepnote_cell_type": "markdown"
   }
  },
  {
   "cell_type": "markdown",
   "source": "### Bogi\n\nÚgy indulunk, hogy van egy list_of_numbers nevű listám. Először deklarálom a result változót és 0 értéket adok neki. Aztán a list_of_numbers listából halmazt alakítok, majd ezt vissza alakítom listává. Ezután írok egy for ciklust: a ciklus végigiterál a lista elemein azon feltételek szerint, hogy a lista eleme páratlan és pozitív. Amely elemeknél ezek a feltételek teljesülnek, azokat hozzáadom a result változóhoz. Végül meghívom a result visszatérési értékét",
   "metadata": {
    "tags": [],
    "cell_id": "00001-0b632c37-f7dc-427b-8a6e-eae39f0ff2e9",
    "deepnote_cell_type": "markdown"
   }
  },
  {
   "cell_type": "markdown",
   "source": "### Dani\n\nA függvényem paramétere egy lista, ami egész számokból áll.\nLegelőször a listában található elemeket integerekké alakítottam. \nEzután növekvő sorrendbe rendeztem a listát.\nMiután sorba rendeztem a számokat, kiválasztottam a sorrend elején és a végén álló két-két számot.\nKiszámoltam mindkét véglet szorzatát, végül megadtam a két szám közül a nagyobbat.",
   "metadata": {
    "tags": [],
    "cell_id": "00002-f39d1037-e421-4e10-b46e-1093cd6d3bdd",
    "deepnote_cell_type": "markdown"
   }
  },
  {
   "cell_type": "markdown",
   "source": "### Eszti\n\nA függvényem a következő képpen épül fel: először is definiálom a függvényt: 2 paramétere van, egy lista adat és egy integer. Ez után értéket adok egy új listának, amin belül indítok egy for ciklust, ami a a függvény paraméterei között deklarált lista elemein iterál végig elemről elemre és itt van egy if elágazás, ami az egyes elemeket és a paraméterként deklarált integerrel számít. Ismét van egy if elágazás, ami a második listát vizsgálja, majd van egy else ág, hogy visszakapjam a megfelelő értékeket.",
   "metadata": {
    "tags": [],
    "cell_id": "00003-5f1203ae-7d42-4931-8e1f-ffece5544697",
    "deepnote_cell_type": "markdown"
   }
  },
  {
   "cell_type": "markdown",
   "source": "### Misi\n\nDefiniálunk egy függvényt amely egy stringekből álló tömböt vár paraméterként, és visszatérési értéke egész szám, azaz integer.\nDeklarálunk 2 változót. amelyeket kezdőértékkel látunk el.\nEgy for ciklus segítségével 0-tól a paraméterként kapott lista hosszáig iterálunk.\nA ciklusmagon belül deklarálunk egy további változót, amit ugyancsak kezdőértékkel látunk el.\nMindezek után egy másik for ciklussal amellyel a tömb egyes stringjeit járjuk be. \nA beágyazott ciklusban egy elágazást manifesztálunk, amely egy VAGY logikai kapcsolattal ellátott feltételt ellenőriz.\nA feltétel teljesülése esetén egy értékadás történik, a külső ciklusmagban deklarált (2. mondat) változón.\nA belső ciklus lefutása után egy elágazás feltételeként összehasonlítjuk a függvénytörzsben létrehozott változót a beágyazott ciklusban módosított változóval.\nMinden esetben a nagyobb értékű változó ad értéket a függvénytörzsben lévő változónak.\nA függvénytörzsben létrehozott másik változóban, eltároljuk a külső ciklus jelenlegi indexét. \nA folyamat végén az eltárolt pozíciót visszaadjuk.",
   "metadata": {
    "tags": [],
    "cell_id": "00004-49ee1ab7-8d20-4de3-9263-90e72b61ef30",
    "deepnote_cell_type": "markdown"
   }
  },
  {
   "cell_type": "markdown",
   "source": "### Dorka",
   "metadata": {
    "tags": [],
    "cell_id": "00005-2bca4c54-2bda-45b9-baf4-9ea632745927",
    "deepnote_cell_type": "markdown"
   }
  },
  {
   "cell_type": "markdown",
   "source": "### Ákos",
   "metadata": {
    "tags": [],
    "cell_id": "00006-1d16c812-72e3-4454-bc40-be03117b0a05",
    "deepnote_cell_type": "markdown"
   }
  },
  {
   "cell_type": "markdown",
   "source": "<a style='text-decoration:none;line-height:16px;display:flex;color:#5B5B62;padding:10px;justify-content:end;' href='https://deepnote.com?utm_source=created-in-deepnote-cell&projectId=978e47b7-a961-4dca-a945-499e8b781a34' target=\"_blank\">\n<img alt='Created in deepnote.com' style='display:inline;max-height:16px;margin:0px;margin-right:7.5px;' src='data:image/svg+xml;base64,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' > </img>\nCreated in <span style='font-weight:600;margin-left:4px;'>Deepnote</span></a>",
   "metadata": {
    "tags": [],
    "created_in_deepnote_cell": true,
    "deepnote_cell_type": "markdown"
   }
  }
 ],
 "nbformat": 4,
 "nbformat_minor": 2,
 "metadata": {
  "orig_nbformat": 2,
  "deepnote": {
   "is_reactive": false
  },
  "deepnote_notebook_id": "46615e79-e3d3-4d80-8c36-f3a0985d23e7",
  "deepnote_execution_queue": []
 }
}