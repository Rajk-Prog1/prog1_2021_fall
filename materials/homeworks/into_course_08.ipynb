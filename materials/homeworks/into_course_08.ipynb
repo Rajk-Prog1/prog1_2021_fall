{
 "cells": [
  {
   "cell_type": "markdown",
   "source": "# I. Csoportmunka lezárás\n\nFejezzétek be csapatként azokat a feladatokat, amiket nem tudtatok az órán. Nem elég, ha minden tesztelő függvény sikeresen lefut, hanem akkor végeztetek, ha a feladatok az eredetileg kiírt inputokra is jó outputot adnak (az 5. feladat végén egyértelmű lesz a számotokra, ha jól futott le minden). Ezeket aztán megbeszéljük az órán, szóval még mindig mindenkinek értenie kell minden feladatot.  **Leadási határidő a kurzus kezdete csütörtökön (11.11)**\n\nÁkos te a Szabi_Keve csapat tagjának számítasz. Ha még nem fejeztétek be az összes feladatot, akkor azt lehetőleg hárman csináljátok meg. Illetve a már kész feladatokat is nézd át Ákos!",
   "metadata": {
    "tags": [],
    "cell_id": "00001-f82453a1-26c1-482e-9a54-8970ff75cc15",
    "deepnote_cell_type": "markdown"
   }
  },
  {
   "cell_type": "markdown",
   "source": "# II. JKG 2.\n\nAz előző házihoz készített leírásaitok alapján meg kell írnotok az összes többi függvényt. A leírásokat [itt](jkg_descriptions.ipynb) találjátok. Van akié még hiányzik. Ez azért van, mert ott még módosítást várunk a leírásban. Amint megjön ferakjuk, viszont ez nem módosít a leadási határidőn.\n\nNagyon szépen megkérek mindenkit, hogy kizárólag itt kommentben kommunikáljatok ne \"menjetek\" oda egymáshoz és mutogassatok egymásnak kódot, vagy beszéljetek bármi más fórumon. Mindenki szépen tanulja meg értelmesen leírni mit nem ért a leírásban.\n\nEzért ugye az is fontos hogy sűrűn ellenőrizzétek, kommentelt-e valaki a ti részetekhez.\n\nA \"rájöttem hogy mit akart de szarul írta le\" észrevételeket is be lehet kommentelni egymásnak.\n\nA keretet, amiben kipróbálhatjátok a megoldásaitokat a saját mappátokban, a 7_hazihoz tartozó almappában találjátok round2 néven. Itt találjátok azt a feladatot is ami Kevéé lett volna, ezt is meg kell oldanotok.\n\nHatáridő a **11.16. kedd éjfél**. Érdemes időben elkezdeni, hogy legyen időtök kérdezni és választ kapni.",
   "metadata": {
    "tags": [],
    "cell_id": "00001-830cdeb4-4099-44c1-aa9d-9e29b0474403",
    "deepnote_cell_type": "markdown"
   }
  },
  {
   "cell_type": "markdown",
   "source": "# III. Hiányzó házik pótlása kurzusig",
   "metadata": {
    "tags": [],
    "cell_id": "00002-cf330579-c7e4-4364-b944-c428740e03fa",
    "deepnote_cell_type": "markdown"
   }
  },
  {
   "cell_type": "markdown",
   "source": "<a style='text-decoration:none;line-height:16px;display:flex;color:#5B5B62;padding:10px;justify-content:end;' href='https://deepnote.com?utm_source=created-in-deepnote-cell&projectId=978e47b7-a961-4dca-a945-499e8b781a34' target=\"_blank\">\n<img alt='Created in deepnote.com' style='display:inline;max-height:16px;margin:0px;margin-right:7.5px;' src='data:image/svg+xml;base64,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' > </img>\nCreated in <span style='font-weight:600;margin-left:4px;'>Deepnote</span></a>",
   "metadata": {
    "tags": [],
    "created_in_deepnote_cell": true,
    "deepnote_cell_type": "markdown"
   }
  }
 ],
 "nbformat": 4,
 "nbformat_minor": 2,
 "metadata": {
  "orig_nbformat": 2,
  "deepnote": {
   "is_reactive": false
  },
  "deepnote_notebook_id": "8d44f701-8f43-489a-ac7e-630952f4ee12",
  "deepnote_execution_queue": []
 }
}