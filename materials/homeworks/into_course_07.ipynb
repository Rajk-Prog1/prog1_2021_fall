{
 "cells": [
  {
   "cell_type": "code",
   "metadata": {
    "tags": [],
    "cell_id": "00000-55b53bf5-0b29-4b1f-990f-6cf0cd4ff303",
    "deepnote_cell_type": "code"
   },
   "source": "# Start writing code here...",
   "execution_count": null,
   "outputs": []
  },
  {
   "cell_type": "markdown",
   "source": "# I. Sárkány \nA bineáris keresés átsimétlése a sárkányos feladaton keresztül. Mindenki talál a mappájában ennél a hétnél egy dragon\nnevű notebookot, amiben ki kell javítani a listából számoló sárkánymegtalálós függvényt. Ezt követően pedig megoldani ugyanezt, a jkg_evaluators nevű package tesztelésével:\n    - itt a package [dokumentációja](https://jkg-evaluators.readthedocs.io/en/latest/), \nazon belül [itt](https://jkg-evaluators.readthedocs.io/en/latest/notebooks/001-dragonfind.html)\n\nMindkét házi esetében ezt a package-t használjuk a megoldások ellenőrzésére. Azt még nem kell tudnotok, hogy mi is egy package, erről majd következő órán beszélünk. Egyenlőre elég annyi, hogy ha meghívjátok a dragonfind_10_to_500.evaluate(**ide_kerul_a_sajat_fuggvenyetek_neve**) függvényt, akkor kiírja a teszt, hogy az összes teszt közül mely esetekben jó a tiétek. Itt kell 100%-ot mutatni a success rate-nek. \n\nAz elején az a cél, hogy az órai felépítéshez hasonlóan írjatok egy jó megoldást. Ez azt jelenti, hogy vegyétek úgy, hogy van egy listátok amiben False van, ha halott a tehén és True, ha még él. Illetve a tehenek súly szerint csökkenő sorrendben szerepelnek ebben a listában.\n\nEzt követően viszont át kell alakítanotok úgy ezt a függvényt, hogy megfeleljen a jkg-evaluators sémájának. Itt már nem egy lista lesz a függvényetek paramétere, hanem egy is_dead függvény, amit nem nektek kell megírnotok. Ezt majd a tesztelő függvény adja meg. Nektek csak annyira kell használnotok, hogyha meghíjátok ezt a függvényt egy adott számmal, akkor az visszaadja, hogy az adott számú tehén halott e. **Figyeljetek, hogy itt fordul a logika az előzőhöz képest! Akkor kaptok igaz értéket visszatérési értékként, ha a tehén halott.** A másik paraméteretek pedig a tehenek száma. Nyugodtan keressetek minket, ha nem megy valami! **Leadási határidő kedd (11.02) éjfél.**",
   "metadata": {
    "tags": [],
    "cell_id": "00001-33a9e028-7291-47c1-b46f-0448f73b1ed4",
    "deepnote_cell_type": "markdown"
   }
  },
  {
   "cell_type": "markdown",
   "source": "# II. JKG 1:\n\nMindenki talál egy elég egyértelmű, és remélhetőleg viszonylag\negyszerű feladatot a névreszóló mappájában course_7_initial_task néven. \n\nItt egy függvényt kell definiálni, úgy hogy aztán az kielégítse a tesztet ami utána ott\nszerepel, ami jelen esetben azt jelenti, hogy minden teszt sikeresen lefutott.\n\nMiután kész a tökéletes megoldás, ír egy levelet hármunknak címezve, amiben leírja\nemberi nyelven, a tanult fogalmak használatával, hogy mit is csinál a függvénye. \nMost jó lenne, ha senki sem csúszna a házival, mert az ezt követő házi erre fog épülni. **Határidő kedd (11.02.) éjfél.**\n\nAmit ebben a leírásban **szabad és ajánlott**:\n- használni fogalmakat a következő területekről:\n  - struktúrális programozás\n    - elágazás, iteráció, ciklusmag, feltétel, stb\n  - adat\n    - értékadás, deklarálás, típus, integer lista, string, stb\n  - függvények\n    - paraméter, visszatérési érték, definiálás, meghívás\n  - imperatív programozás\n    - állapot, utasítás\n  - stb.\n- leírni olyan részletességgel az algoritmust, hogy abból egy másik ember megértse, \nés akár reprodukálni tudja\n\nAmit ebben a leírásban **tilos**:\n- bármivel utalni arra mi volt a feladat\n- kódot beilleszteni\n- összetett problémát leírni\n  - pl kiválasztom a legnagyobbat, megkeresem a valamilyet...",
   "metadata": {
    "tags": [],
    "cell_id": "00002-7dea51df-e6c8-49cf-bcb4-9b9c2df6e125",
    "deepnote_cell_type": "markdown"
   }
  },
  {
   "cell_type": "markdown",
   "source": "<a style='text-decoration:none;line-height:16px;display:flex;color:#5B5B62;padding:10px;justify-content:end;' href='https://deepnote.com?utm_source=created-in-deepnote-cell&projectId=978e47b7-a961-4dca-a945-499e8b781a34' target=\"_blank\">\n<img alt='Created in deepnote.com' style='display:inline;max-height:16px;margin:0px;margin-right:7.5px;' src='data:image/svg+xml;base64,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' > </img>\nCreated in <span style='font-weight:600;margin-left:4px;'>Deepnote</span></a>",
   "metadata": {
    "tags": [],
    "created_in_deepnote_cell": true,
    "deepnote_cell_type": "markdown"
   }
  }
 ],
 "nbformat": 4,
 "nbformat_minor": 2,
 "metadata": {
  "orig_nbformat": 2,
  "deepnote": {
   "is_reactive": false
  },
  "deepnote_notebook_id": "1a90d6e7-a616-4c9b-a456-fae7a52582bc",
  "deepnote_execution_queue": []
 }
}