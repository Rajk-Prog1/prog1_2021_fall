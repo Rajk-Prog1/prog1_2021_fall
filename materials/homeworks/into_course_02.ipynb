{
 "cells": [
  {
   "cell_type": "markdown",
   "source": "# I.\nMindenki írjon össze 5 olyan dolgot \namit ő jelenlegi tudásával programozási problémának hívna, \nés az egyikhez írjon egy specifikációt. \nA probléma természetétől függően a specifikáció \nlehet mesélős mondatos, vagy kvantoros logikai műveletes. \nLeadási határidő **csütörtök kurzus kezdete**.\n",
   "metadata": {
    "cell_id": "00000-edb7b64f-ad15-40e4-a9f1-e6fb9db73533",
    "deepnote_cell_type": "markdown"
   }
  },
  {
   "cell_type": "markdown",
   "source": "# II.\nEbben a háziban programok leírását és ezekhez tartozó specifikációkat találtok. \n\nA házi ezeket összepárosítani, amihez nem találsz párt, ahhoz pedig írni egy sajátot.\n\nEzen kívül előfordulhat hogy valamelyik specifikációban van valami hiba, valami nem teljes. Ha ilyet találtok, jelezzétek és írjátok le részletesen miért gondoljátok hogy baj van a specifikációval. \n\nEnnek a leadási határideje is **csütörtök kurzus kezdete**.",
   "metadata": {
    "cell_id": "00001-07379758-148b-4458-b290-236b771beade",
    "deepnote_cell_type": "markdown"
   }
  },
  {
   "cell_type": "markdown",
   "source": "## Jelölés beli segítség:\n\n- $\\mathbb{B}$ a logikai értékek halmaza.\n  - $l \\in \\mathbb{B}$ azt jelenti hogy $l$ egy logikai változó\n  - $P: \\mathbb{R} \\to \\mathbb{B}$ pedig azt, hogy $P$ egy valós számból logikai értékbe képző függvény (más néven predikátum)\n- $\\mathbb{N}^n$ az $n$ elemű tömböket jelöli amikben $\\mathbb{N}$ típusú elemek vannak\n  - $v \\in \\mathbb{N}^n$ azt jelenti, hogy $v$ egy $n$ elemszámú tömb és mindegyik elem természetes szám, amiket lehet $(v_1,v_2 ... v_n)$-el jelölni\n  - Ha az előző módon kikötöttük micsoda $v$, használhatjuk az $x \\in v$ jelölést arra, hogy $v$ egyik eleme $x$ (ez ugye nem alap, mivel $\\in$ egy halmazművelet és $v$ nem egy halmaz hanem tömb, de most megengedjük)\n- $a = a'$ ami jellemzően az előfeltételben szerepel, annyit jelent, hogy a egy konkrét értékkel rendelkezik a program futása elején",
   "metadata": {
    "cell_id": "00002-375e02f3-d44c-4094-a364-7c667410ae36",
    "deepnote_cell_type": "markdown"
   }
  },
  {
   "cell_type": "markdown",
   "source": "## Specifikációk",
   "metadata": {
    "cell_id": "00003-28df73c6-82ec-4968-951e-5559bf5494f2",
    "deepnote_cell_type": "markdown"
   }
  },
  {
   "cell_type": "markdown",
   "source": "### 1.\n#### A: $(v \\in \\mathbb{N}^n, a,b  \\in \\mathbb{N})$\n#### Ef:   $(v=v' \\land n \\geq 2)$\n#### Uf: $(Ef \\land \\exists c,d(c,d \\in v \\land (\\nexists k ( k \\in \\mathbb{N} \\land k \\neq 1 \\land \\frac{c}{k} \\in \\mathbb{N} \\land \\frac{d}{k} \\in \\mathbb{N} )) \\Rightarrow a,b \\in v \\land (\\nexists k ( k \\in \\mathbb{N} \\land k \\neq 1 \\land \\frac{a}{k} \\in \\mathbb{N} \\land \\frac{b}{k} \\in \\mathbb{N} ) $",
   "metadata": {
    "cell_id": "00004-38c5a111-52ec-45ad-abbc-ed1caf6699fd",
    "deepnote_cell_type": "markdown"
   }
  },
  {
   "cell_type": "markdown",
   "source": "### 2. \n#### A: $(a,b,c \\in \\mathbb{R}, l \\in \\mathbb{B})$\n#### Ef: $(a=a' \\land b=b'\\land c=c' \\land a > 0 \\land b > 0 \\land c > 0 \\land c < a + b \\land a < b + c \\land b < a + c)$\n#### Uf: $(Ef \\land l \\Leftrightarrow (a^2 + b^2 = c^2 \\lor a^2 + c^2 = b^2 \\lor b^2 + c^2 = a ^2) ) $",
   "metadata": {
    "cell_id": "00005-5d31b444-3fe1-4c93-9919-6dc45b146c75",
    "deepnote_cell_type": "markdown"
   }
  },
  {
   "cell_type": "markdown",
   "source": "### 3.\n#### A: $(t \\in \\mathbb{N}^n , x \\in \\mathbb{N})$\n#### Ef: $(x=x')$\n#### Uf: $(Ef \\land (x / t_i \\in \\mathbb{N} \\land t_i \\in \\mathbb{N}) \\Leftrightarrow (t_i \\in t)) $",
   "metadata": {
    "cell_id": "00006-46a0ddf9-ac77-4e49-ba54-71fd0a5f7c14",
    "deepnote_cell_type": "markdown"
   }
  },
  {
   "cell_type": "markdown",
   "source": "### 4.\n#### A: $(a,b,x \\in \\mathbb{N})$\n#### Ef: $(a=a',b=b')$\n#### Uf: $(Ef \\land x/a \\in \\mathbb{N} \\land \\frac{x}{b} \\in \\mathbb{N} \\land \\nexists y ( y < x \\land y/a \\in \\mathbb{N} \\land y/b \\in \\mathbb{N} ) $",
   "metadata": {
    "cell_id": "00007-3bca9629-6bb7-47a2-9651-a60a1bec17c5",
    "deepnote_cell_type": "markdown"
   }
  },
  {
   "cell_type": "markdown",
   "source": "### 5.\n#### A: $(t \\in \\mathbb{N}^n , x,y \\in \\mathbb{N})$\n#### Ef: $(x=x' \\land y=y')$\n#### Uf: $(Ef \\land (t_i \\in t) \\Leftrightarrow (\\forall m (m \\in \\mathbb{N} \\land t_i / m \\in \\mathbb{N} \\Rightarrow (m = 1 \\lor m = t_i) ) \\land t_i \\geq x \\land t_i \\leq y) )$",
   "metadata": {
    "cell_id": "00008-c652842b-07c8-449e-91f7-9ceb4811f839",
    "deepnote_cell_type": "markdown"
   }
  },
  {
   "cell_type": "markdown",
   "source": "### 6.\n#### A: $(a \\in \\mathbb{N}^+, b \\in \\mathbb{N})$\n#### Ef: $(a=a' \\land a \\geq 3)$\n#### Uf: $(Ef \\land b = \\frac{a (a-3)}{2} )  $",
   "metadata": {
    "cell_id": "00009-a29c1bda-3e59-459f-929c-bd49c223833e",
    "deepnote_cell_type": "markdown"
   }
  },
  {
   "cell_type": "markdown",
   "source": "### 7.\n#### A: $(v \\in \\mathbb{N}^n, b \\in \\mathbb{N})$\n#### Ef: $(v=v' \\land n = 10)$\n#### Uf: $(Ef \\land \\exists p (p \\in v \\land 2 \\mid p) \\Rightarrow (b = \\prod_{t \\in v} t ) \\land \\nexists p (p \\in v \\land 2 \\mid p) \\Rightarrow (b \\in v \\land \\nexists k (k \\in v \\land k < b))  )  $",
   "metadata": {
    "cell_id": "00010-82f7d210-ef05-431d-8043-188f9e4b1d03",
    "deepnote_cell_type": "markdown"
   }
  },
  {
   "cell_type": "markdown",
   "source": "### 8.\n#### A: $(v \\in \\mathbb{R}^{n}, x \\in \\mathbb{R})$\n#### Ef: $(v=v')$\n#### Uf: $(Ef \\land x \\in v \\land \\nexists y(y \\in v \\land y > x))$",
   "metadata": {
    "cell_id": "00011-855f0ba0-e297-471c-af27-10f4623033b4",
    "deepnote_cell_type": "markdown"
   }
  },
  {
   "cell_type": "markdown",
   "source": "### 9.\n#### A: $(a,b,c \\in \\mathbb{R}^+)$\n#### Ef: $(a=a', b=b')$\n#### Uf: $(Ef \\land a^2+b^2 = c^2 )  $",
   "metadata": {
    "cell_id": "00012-6311a114-365e-4499-84cb-fb4292c93310",
    "deepnote_cell_type": "markdown"
   }
  },
  {
   "cell_type": "markdown",
   "source": "## Leírások",
   "metadata": {
    "cell_id": "00013-7e2d2d17-169a-453c-b1e4-04fce530609d",
    "deepnote_cell_type": "markdown"
   }
  },
  {
   "cell_type": "markdown",
   "source": "### A \nVálassza ki a megadott számok közül a legnagyobbat   ",
   "metadata": {
    "cell_id": "00014-00620826-7dcb-4ac1-a936-16f003e41cbc",
    "deepnote_cell_type": "markdown"
   }
  },
  {
   "cell_type": "markdown",
   "source": "### B \ntaláljuk meg az összes prím számot két adott természetes szám között",
   "metadata": {
    "cell_id": "00015-e8bac3a4-d160-487f-a02c-4e4fcd0f4a69",
    "deepnote_cell_type": "markdown"
   }
  },
  {
   "cell_type": "markdown",
   "source": "### C \nEgy természetes számokat tartalmazó halmazból válasszunk ki két relatív prímet (ha van)!",
   "metadata": {
    "cell_id": "00016-3c760f81-03fd-4897-9916-0509a1d1eb9c",
    "deepnote_cell_type": "markdown"
   }
  },
  {
   "cell_type": "markdown",
   "source": "### D \nAdott három szám ami egy háromszög 3 oldalának hossza. Döntsük el, hogy derékszögű-e a háromszög",
   "metadata": {
    "cell_id": "00017-e51db406-c0a6-44e5-b462-8210a95e9723",
    "deepnote_cell_type": "markdown"
   }
  },
  {
   "cell_type": "markdown",
   "source": "### E \nEgy tíz számból álló tömbben ha van páros, számoljuk ki a 10 szám szorzatát, ha nincs közte páros szám, adjuk meg a legkisebb számot",
   "metadata": {
    "cell_id": "00018-7c039591-c04e-4768-a54b-588240b50549",
    "deepnote_cell_type": "markdown"
   }
  },
  {
   "cell_type": "markdown",
   "source": "### F \nTaláljuk meg két természetes szám legkisebb közös többszörösét",
   "metadata": {
    "cell_id": "00019-14ca37c8-24ab-4329-999c-d0f599b259a2",
    "deepnote_cell_type": "markdown"
   }
  },
  {
   "cell_type": "markdown",
   "source": "### G \nSzámoljunk ki egy tömböt amiben szerepel egy adott szám minden egész osztója",
   "metadata": {
    "cell_id": "00020-ccc14c7b-ed31-4c9f-9cff-14043fc525d9",
    "deepnote_cell_type": "markdown"
   }
  },
  {
   "cell_type": "markdown",
   "source": "### H \nAdott egy tömb, amihez számoljunk ki egy olyan tömböt amiben az eredeti tömbben szereplő négyzetszámok gyöke szerepel, a nem négyzetszámok pedig önmaguk",
   "metadata": {
    "cell_id": "00021-1d7d0a4c-2812-42fd-8af7-a3f126c439a4",
    "deepnote_cell_type": "markdown"
   }
  },
  {
   "cell_type": "markdown",
   "source": "### I \nÁllapítsd meg hogy \"a\" oldalszámú sokszögnek hány darab átlója van!",
   "metadata": {
    "cell_id": "00022-7e2b5be0-39eb-4c15-8456-09ff7895dfc8",
    "deepnote_cell_type": "markdown"
   }
  },
  {
   "cell_type": "markdown",
   "source": "# III.\n\n## Videók:\n\nSzámítógép architektúrákról is lesz szó a következő alkalmon, \nehhez kapcsolódóan nézzétek meg a következő videókat!\n\n[Kedves storyzgatás neumannról](https://www.youtube.com/watch?v=Ml3-kVYLNr8), \nitt esik pár szó az első modellről \nami működő számítógépet ír le, \negy olyan youtube channelről amit szintén érdemes böngészni\n\nEgy [részletesebb és aktuálisabb](https://www.youtube.com/watch?v=cNN_tTXABUA) \nkibontása egy specifikus alkotóelemnek.\n\nIlletve még nézzétek meg ezt a videót (9 perc), amiből igazából az az \nfontos hogy hogyan tárol változókat a számítógép, \nde eközben egy érdekes problémát is bemutat:\n\n- https://www.youtube.com/watch?v=PZRI1IfStY0\n\n## Kérdések:",
   "metadata": {
    "cell_id": "00023-3c2cee57-ba6b-42c2-95c8-5fbbe9027392",
    "deepnote_cell_type": "markdown"
   }
  },
  {
   "cell_type": "markdown",
   "source": "### 1. How is Neumann related to computing?",
   "metadata": {
    "tags": [],
    "cell_id": "00024-cd4cebe2-d9f4-411d-a095-12c108ef1399",
    "deepnote_cell_type": "markdown"
   }
  },
  {
   "cell_type": "markdown",
   "source": "### 2. Explain the Von Neumann architecture!",
   "metadata": {
    "tags": [],
    "cell_id": "00025-63a823ec-aa7a-42fc-ad04-16a37c22bd32",
    "deepnote_cell_type": "markdown"
   }
  },
  {
   "cell_type": "markdown",
   "source": "### 3. Neumann was the antithesis of what?",
   "metadata": {
    "tags": [],
    "cell_id": "00026-b3996055-45bc-4eeb-b5eb-9e30feca5d5b",
    "deepnote_cell_type": "markdown"
   }
  },
  {
   "cell_type": "markdown",
   "source": "### 4. Explain GHz!",
   "metadata": {
    "tags": [],
    "cell_id": "00027-dd3ecad9-c02e-42d0-abc2-e762b3c8931b",
    "deepnote_cell_type": "markdown"
   }
  },
  {
   "cell_type": "markdown",
   "source": "### 5. What is RAM, and what does it do?",
   "metadata": {
    "tags": [],
    "cell_id": "00028-fd4d4122-75e1-486f-9cd6-e9c7fdd67aea",
    "deepnote_cell_type": "markdown"
   }
  },
  {
   "cell_type": "markdown",
   "source": "### 6. Explain Bus, its advantage, and disadvantage! (preferably in connection with computers)",
   "metadata": {
    "tags": [],
    "cell_id": "00029-7e382daf-6df7-4408-9fc5-e340a222f1d6",
    "deepnote_cell_type": "markdown"
   }
  },
  {
   "cell_type": "markdown",
   "source": "### 7. How many significant digits do 32-bit computers store?",
   "metadata": {
    "tags": [],
    "cell_id": "00030-5ea0cde7-384f-4467-81f3-5750cb956af3",
    "deepnote_cell_type": "markdown"
   }
  },
  {
   "cell_type": "markdown",
   "source": "### 8. What are floating-point numbers?",
   "metadata": {
    "tags": [],
    "cell_id": "00031-bdfe05cc-73cf-48f8-8722-05b953fb4003",
    "deepnote_cell_type": "markdown"
   }
  },
  {
   "cell_type": "markdown",
   "source": "### 9. What is the problem with floating-point numbers?",
   "metadata": {
    "tags": [],
    "cell_id": "00032-d2a4fae5-0e2b-40d6-8e63-19dcaee0b615",
    "deepnote_cell_type": "markdown"
   }
  },
  {
   "cell_type": "markdown",
   "source": "<a style='text-decoration:none;line-height:16px;display:flex;color:#5B5B62;padding:10px;justify-content:end;' href='https://deepnote.com?utm_source=created-in-deepnote-cell&projectId=978e47b7-a961-4dca-a945-499e8b781a34' target=\"_blank\">\n<img alt='Created in deepnote.com' style='display:inline;max-height:16px;margin:0px;margin-right:7.5px;' src='data:image/svg+xml;base64,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' > </img>\nCreated in <span style='font-weight:600;margin-left:4px;'>Deepnote</span></a>",
   "metadata": {
    "tags": [],
    "created_in_deepnote_cell": true,
    "deepnote_cell_type": "markdown"
   }
  }
 ],
 "nbformat": 4,
 "nbformat_minor": 2,
 "metadata": {
  "kernelspec": {
   "display_name": "Python 3",
   "language": "python",
   "name": "python3"
  },
  "language_info": {
   "codemirror_mode": {
    "name": "ipython",
    "version": 3
   },
   "file_extension": ".py",
   "mimetype": "text/x-python",
   "name": "python",
   "nbconvert_exporter": "python",
   "pygments_lexer": "ipython3",
   "version": "3.8.2"
  },
  "deepnote_notebook_id": "e48f9cbf-a0ca-4447-96bd-e6e163f82770",
  "deepnote": {},
  "deepnote_execution_queue": []
 }
}