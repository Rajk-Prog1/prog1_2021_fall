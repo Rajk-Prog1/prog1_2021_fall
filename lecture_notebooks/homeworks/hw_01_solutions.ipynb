{
 "cells": [
  {
   "cell_type": "markdown",
   "source": "# 1. Házi feladat\n\nA következő állításokat fejezzétek ki paraméterek, kvantorok és logikai műveletek segítségével.\n\n**Predikátumok:**\n- F(x): *x férfi*\n- N(x): *x nő*\n- P(x, y): *y személy x személy gyereke*\n\n**Kifejezendő állítások:**\n- A) *k-nak és d-nek van közös lánya*\n- B) *csak a férfiak között vannak gyermektelenek*\n- C) *vannak egynemű testvérek*\n- D) *minden nőnek vagy gyereke*\n- E) *k-nak van lány és fiú unokája is*",
   "metadata": {
    "tags": [],
    "cell_id": "00000-f90e49ef-04aa-4413-a7fa-ca10928e8d98",
    "deepnote_cell_type": "markdown"
   }
  },
  {
   "cell_type": "markdown",
   "source": "# Megoldások\nTöbbféle megoldás van mindegyik feladatra, ezeket bulletpoint-okban gyűjtjük",
   "metadata": {
    "tags": [],
    "cell_id": "00001-e61107b8-3db4-414b-9b77-88de3a4ec259",
    "deepnote_cell_type": "markdown"
   }
  },
  {
   "cell_type": "markdown",
   "source": "### A) k-nak és d-nek van közös lánya",
   "metadata": {
    "tags": [],
    "cell_id": "00002-f6141970-8901-485e-84a5-98ebbf8c6f8e",
    "deepnote_cell_type": "markdown"
   }
  },
  {
   "cell_type": "markdown",
   "source": "- $ \\exists x (N(x) \\land P(k,x) \\land P(d,x))$",
   "metadata": {
    "tags": [],
    "cell_id": "00003-d2781bdc-2cf4-43d9-86f1-566a447ddc4c",
    "deepnote_cell_type": "markdown"
   }
  },
  {
   "cell_type": "markdown",
   "source": "### B) Csak a férfiak között vannak gyermektelenek",
   "metadata": {
    "tags": [],
    "cell_id": "00003-ffd285db-102b-4288-90f1-00958b94c797",
    "deepnote_cell_type": "markdown"
   }
  },
  {
   "cell_type": "markdown",
   "source": "- $\\exists x(F(x) \\land \\nexists y(P(x,y))) \\land \\nexists z(N(z) \\land \\nexists w(P(z,w)))$\n\n- $\\exists x(F(x) \\land \\nexists y(P(x, y))) \\land \\forall z(N(z) \\Rightarrow \\exists w(P(x, w)))$",
   "metadata": {
    "tags": [],
    "cell_id": "00005-48696b37-0165-4bbd-9ce0-b8a4d81203f2",
    "deepnote_cell_type": "markdown"
   }
  },
  {
   "cell_type": "markdown",
   "source": "### C) Vannak egynemű testvérek",
   "metadata": {
    "tags": [],
    "cell_id": "00004-8f187a2d-8dec-4143-85b9-5d147d914fb8",
    "deepnote_cell_type": "markdown"
   }
  },
  {
   "cell_type": "markdown",
   "source": "- $\\exists x, y (x \\neq y \\land N(x) \\Leftrightarrow N(y) \\land \\forall z (P(z, x) \\Leftrightarrow P(z, y)))$\n\n- $\\exists x, y, z (x \\neq y \\land P(z, x) \\land P(z, y) \\land ((F(x) \\land F(y)) \\lor (N(x) \\land N(y))))$",
   "metadata": {
    "tags": [],
    "cell_id": "00007-3e62da6d-ae07-4b12-b4b6-2adf5606c4d4",
    "deepnote_cell_type": "markdown"
   }
  },
  {
   "cell_type": "markdown",
   "source": "### D) Minden nőnek van gyereke",
   "metadata": {
    "tags": [],
    "cell_id": "00005-6dc82937-51e4-4f86-b44e-560a1f3ea543",
    "deepnote_cell_type": "markdown"
   }
  },
  {
   "cell_type": "markdown",
   "source": "- $\\forall x (N(x) \\Rightarrow \\exists y(P(x, y)))$\n- $\\nexists x(N(x) \\land \\nexists y(P(x,y))$",
   "metadata": {
    "tags": [],
    "cell_id": "00009-73bca3f6-da0c-44fd-afc0-9b5cc1294258",
    "deepnote_cell_type": "markdown"
   }
  },
  {
   "cell_type": "markdown",
   "source": "### E) k-nak van lány és fiú unokája is",
   "metadata": {
    "tags": [],
    "cell_id": "00006-32fe45aa-8051-4d48-863a-ca13f4e89070",
    "deepnote_cell_type": "markdown"
   }
  },
  {
   "cell_type": "markdown",
   "source": "- $\\exists x (N(x) \\land \\exists y(P(y, x) \\land P(k, y))) \\land \\exists z (F(z) \\land \\exists w(P(w, z) \\land P(k, w)))$\n\n- $\\exists x(P(k,x) \\land \\exists a(P(x,a) \\land N(a))) \\land \\exists y(P(k,y) \\land \\exists b(P(y,b) \\land F(b)))$",
   "metadata": {
    "tags": [],
    "cell_id": "00011-f6de70a2-a6b3-43bd-a799-8dd0b4d62a61",
    "deepnote_cell_type": "markdown"
   }
  },
  {
   "cell_type": "markdown",
   "source": "<a style='text-decoration:none;line-height:16px;display:flex;color:#5B5B62;padding:10px;justify-content:end;' href='https://deepnote.com?utm_source=created-in-deepnote-cell&projectId=978e47b7-a961-4dca-a945-499e8b781a34' target=\"_blank\">\n<img alt='Created in deepnote.com' style='display:inline;max-height:16px;margin:0px;margin-right:7.5px;' src='data:image/svg+xml;base64,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' > </img>\nCreated in <span style='font-weight:600;margin-left:4px;'>Deepnote</span></a>",
   "metadata": {
    "tags": [],
    "created_in_deepnote_cell": true,
    "deepnote_cell_type": "markdown"
   }
  }
 ],
 "nbformat": 4,
 "nbformat_minor": 2,
 "metadata": {
  "orig_nbformat": 2,
  "deepnote": {
   "is_reactive": false
  },
  "deepnote_notebook_id": "996af32d-7f8d-4600-ba48-492bedf8749a",
  "deepnote_execution_queue": []
 }
}