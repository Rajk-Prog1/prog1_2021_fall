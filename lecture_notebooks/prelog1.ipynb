{
 "cells": [
  {
   "cell_type": "markdown",
   "metadata": {
    "slideshow": {
     "slide_type": "slide"
    }
   },
   "source": [
    "### Mi a formális logika?\n",
    "Szimbólumok szabályos összefűzésével formált, jelentéssel bíró kifejezések rendszere."
   ]
  },
  {
   "cell_type": "markdown",
   "metadata": {
    "slideshow": {
     "slide_type": "fragment"
    }
   },
   "source": [
    "$\\Rightarrow$ **NYELV**"
   ]
  },
  {
   "cell_type": "markdown",
   "metadata": {
    "slideshow": {
     "slide_type": "fragment"
    }
   },
   "source": [
    "A szimbólumok sorrendjét egyfajta nyelvtan, míg a keletkező kifejezések igazságtartalmát a logikai következtetés szabályai rögzítik."
   ]
  },
  {
   "cell_type": "markdown",
   "metadata": {
    "slideshow": {
     "slide_type": "slide"
    }
   },
   "source": [
    "### Ítéletlogika\n",
    "- logikai változókkal és a velük elvégezhető műveletekkel foglalkozik\n"
   ]
  },
  {
   "cell_type": "markdown",
   "metadata": {
    "slideshow": {
     "slide_type": "fragment"
    }
   },
   "source": [
    "- **logikai változó**: csak az IGAZ és HAMIS értékeket veheti fel\n"
   ]
  },
  {
   "cell_type": "markdown",
   "metadata": {
    "slideshow": {
     "slide_type": "fragment"
    }
   },
   "source": [
    "- ilyen pl. egy állítás vagy egy matematikai kifejezés igazságértéke\n"
   ]
  },
  {
   "cell_type": "markdown",
   "metadata": {
    "slideshow": {
     "slide_type": "fragment"
    }
   },
   "source": [
    "- a logikai változók között - más típusú változókhoz hasonlóan - létezhetnek *logikai műveletek*"
   ]
  },
  {
   "cell_type": "markdown",
   "metadata": {
    "slideshow": {
     "slide_type": "slide"
    }
   },
   "source": [
    "### Milyen értéke nem lehet logikai változónak?\n",
    "- 3"
   ]
  },
  {
   "cell_type": "markdown",
   "metadata": {
    "slideshow": {
     "slide_type": "fragment"
    }
   },
   "source": [
    "- \"malac\""
   ]
  },
  {
   "cell_type": "markdown",
   "metadata": {
    "slideshow": {
     "slide_type": "fragment"
    }
   },
   "source": [
    "- \"nem tudom\""
   ]
  },
  {
   "cell_type": "markdown",
   "metadata": {
    "slideshow": {
     "slide_type": "fragment"
    }
   },
   "source": [
    "- \"attól függ\""
   ]
  },
  {
   "cell_type": "markdown",
   "metadata": {
    "slideshow": {
     "slide_type": "slide"
    }
   },
   "source": [
    "### Alakítsd át logikai változóvá!\n",
    "*Nem logikai változó*: Az eső valószínűsége (0%-tól 100%-ig bármi lehet az értéke)\n"
   ]
  },
  {
   "cell_type": "markdown",
   "metadata": {
    "slideshow": {
     "slide_type": "fragment"
    }
   },
   "source": [
    "A fentiből képzett *logikai változó*, amely igaz, ha...\n"
   ]
  },
  {
   "cell_type": "markdown",
   "metadata": {
    "slideshow": {
     "slide_type": "fragment"
    }
   },
   "source": [
    "#### 1. Az eső valószínűsége nagyobb, mint 50%:\n"
   ]
  },
  {
   "cell_type": "markdown",
   "metadata": {
    "slideshow": {
     "slide_type": "fragment"
    }
   },
   "source": [
    "- Valószínűbb, hogy esni fog, mint hogy nem fog esni?"
   ]
  },
  {
   "cell_type": "markdown",
   "metadata": {
    "slideshow": {
     "slide_type": "fragment"
    }
   },
   "source": [
    "#### 2. Az eső valószínűsége 100%, különben hamis:\n"
   ]
  },
  {
   "cell_type": "markdown",
   "metadata": {
    "slideshow": {
     "slide_type": "fragment"
    }
   },
   "source": [
    "- Biztosan esni fog?"
   ]
  },
  {
   "cell_type": "markdown",
   "metadata": {
    "slideshow": {
     "slide_type": "slide"
    }
   },
   "source": [
    "### Alakítsd át logikai változóvá!\n",
    "*Nem logikai változó*: a vizsgajegyem (egész szám 1 és 5 között)\n"
   ]
  },
  {
   "cell_type": "markdown",
   "metadata": {
    "slideshow": {
     "slide_type": "fragment"
    }
   },
   "source": [
    "A fentiből képzett *logikai változó*: ..."
   ]
  },
  {
   "cell_type": "markdown",
   "metadata": {
    "slideshow": {
     "slide_type": "slide"
    }
   },
   "source": [
    "### Műveletek\n",
    "- $\\neg$: tagadás\n"
   ]
  },
  {
   "cell_type": "markdown",
   "metadata": {
    "slideshow": {
     "slide_type": "fragment"
    }
   },
   "source": [
    "- $\\land$: és (konjukció)\n"
   ]
  },
  {
   "cell_type": "markdown",
   "metadata": {
    "slideshow": {
     "slide_type": "fragment"
    }
   },
   "source": [
    "- $\\lor$: vagy (diszjunkció)\n"
   ]
  },
  {
   "cell_type": "markdown",
   "metadata": {
    "slideshow": {
     "slide_type": "fragment"
    }
   },
   "source": [
    "- $\\oplus$: kizáró vagy\n"
   ]
  },
  {
   "cell_type": "markdown",
   "metadata": {
    "slideshow": {
     "slide_type": "fragment"
    }
   },
   "source": [
    "- $\\Rightarrow$: implikáció\n"
   ]
  },
  {
   "cell_type": "markdown",
   "metadata": {
    "slideshow": {
     "slide_type": "fragment"
    }
   },
   "source": [
    "- $\\Leftrightarrow$: ekvivalencia"
   ]
  },
  {
   "cell_type": "markdown",
   "metadata": {
    "slideshow": {
     "slide_type": "slide"
    }
   },
   "source": [
    "### Kijelentések:\n",
    "A: Misi szereti a kevertet, B: Misi részt vesz az Ábel kupán, C: Misi rajkos, D: kevesen szeretik a kevertet"
   ]
  },
  {
   "cell_type": "markdown",
   "metadata": {
    "slideshow": {
     "slide_type": "slide"
    }
   },
   "source": [
    "#### 1. Misi szereti a kevertet és részt vesz az Ábel kupán\n"
   ]
  },
  {
   "cell_type": "markdown",
   "metadata": {
    "slideshow": {
     "slide_type": "fragment"
    }
   },
   "source": [
    "- A $\\land$ B"
   ]
  },
  {
   "cell_type": "markdown",
   "metadata": {
    "slideshow": {
     "slide_type": "fragment"
    }
   },
   "source": [
    "#### 2.  Misi nem szereti a kevertet, de részt vesz az Ábel kupán\n"
   ]
  },
  {
   "cell_type": "markdown",
   "metadata": {
    "slideshow": {
     "slide_type": "fragment"
    }
   },
   "source": [
    "- $\\neg$ A $\\land$ B"
   ]
  },
  {
   "cell_type": "markdown",
   "metadata": {
    "slideshow": {
     "slide_type": "fragment"
    }
   },
   "source": [
    "#### 3.  Ha kevesen szeretik a kevertet és Misi szereti, akkor Misi rajkos\n"
   ]
  },
  {
   "cell_type": "markdown",
   "metadata": {
    "slideshow": {
     "slide_type": "fragment"
    }
   },
   "source": [
    "- (D $\\land$ A) $\\Rightarrow$ C"
   ]
  },
  {
   "cell_type": "markdown",
   "metadata": {
    "slideshow": {
     "slide_type": "fragment"
    }
   },
   "source": [
    "#### 4.  Misi vagy nem rajkos, vagy szereti a kevertet és részt vesz az Ábel kupán\n"
   ]
  },
  {
   "cell_type": "markdown",
   "metadata": {
    "slideshow": {
     "slide_type": "fragment"
    }
   },
   "source": [
    "- $\\neg$ C $\\oplus$ (A $\\land$ B) VAGY $\\neg$ C $\\lor$ (A $\\land$ B)"
   ]
  },
  {
   "cell_type": "markdown",
   "metadata": {
    "slideshow": {
     "slide_type": "fragment"
    }
   },
   "source": [
    "#### 5.  Misi akkor és csak akkor vesz részt az Ábel kupán, ha vagy szereti a kevertet, vagy rajkos\n"
   ]
  },
  {
   "cell_type": "markdown",
   "metadata": {
    "slideshow": {
     "slide_type": "fragment"
    }
   },
   "source": [
    "- B $\\Leftrightarrow$ (A $\\lor$ C)"
   ]
  },
  {
   "cell_type": "markdown",
   "metadata": {
    "slideshow": {
     "slide_type": "slide"
    }
   },
   "source": [
    "### Igazságtábla\n",
    "\n",
    "| A | B | $\\neg$A | A$\\land$B | A$\\lor$B | A$\\oplus$B | A$\\Rightarrow$B | A$\\Leftrightarrow$B |\n",
    "| -- | -- | -- | -- | -- | -- | -- | -- |\n",
    "| I | I |  |  |  |  |  |  |\n",
    "| I | H |  |  |  |  |  |  |\n",
    "| H | I |  |  |  |  |  |  |\n",
    "| H | H |  |  |  |  |  |  |"
   ]
  },
  {
   "cell_type": "markdown",
   "metadata": {
    "slideshow": {
     "slide_type": "subslide"
    }
   },
   "source": [
    "### Igazságtábla\n",
    "\n",
    "\n",
    "| A | B | $\\neg$A | A$\\land$B | A$\\lor$B | A$\\oplus$B | A$\\Rightarrow$B | A$\\Leftrightarrow$B |\n",
    "| -- | -- | -- | -- | -- | -- | -- | -- |\n",
    "| I | I | H |  |  |  |  |  |\n",
    "| I | H | H |  |  |  |  |  |\n",
    "| H | I | I |  |  |  |  |  |\n",
    "| H | H | I |  |  |  |  |  |"
   ]
  },
  {
   "cell_type": "markdown",
   "metadata": {
    "slideshow": {
     "slide_type": "subslide"
    }
   },
   "source": [
    "### Igazságtábla\n",
    "\n",
    "\n",
    "|A | B | $\\neg$A | A$\\land$B | A$\\lor$B | A$\\oplus$B | A$\\Rightarrow$B | A$\\Leftrightarrow$B |\n",
    "| -- | -- | -- | -- | -- | -- | -- | -- |\n",
    "| I | I | H | I |  |  |  |  |\n",
    "| I | H | H | H |  |  |  |  |\n",
    "| H | I | I | H |  |  |  |  |\n",
    "| H | H | I | H |  |  |  |  |"
   ]
  },
  {
   "cell_type": "markdown",
   "metadata": {
    "slideshow": {
     "slide_type": "subslide"
    }
   },
   "source": [
    "### Igazságtábla\n",
    "\n",
    "\n",
    "| A | B | $\\neg$A | A$\\land$B | A$\\lor$B | A$\\oplus$B | A$\\Rightarrow$B | A$\\Leftrightarrow$B |\n",
    "| -- | -- | -- | -- | -- | -- | -- | -- |\n",
    "| I | I | H | I | I |  |  |  |\n",
    "| I | H | H | H | I |  |  |  |\n",
    "| H | I | I | H | I |  |  |  |\n",
    "| H | H | I | H | H |  |  |  |"
   ]
  },
  {
   "cell_type": "markdown",
   "metadata": {
    "slideshow": {
     "slide_type": "subslide"
    }
   },
   "source": [
    "### Igazságtábla\n",
    "\n",
    "\n",
    "| A | B | $\\neg$A | A$\\land$B | A$\\lor$B | A$\\oplus$B | A$\\Rightarrow$B | A$\\Leftrightarrow$B |\n",
    "| -- | -- | -- | -- | -- | -- | -- | -- |\n",
    "| I | I | H | I | I | H |  |  |\n",
    "| I | H | H | H | I | I |  |  |\n",
    "| H | I | I | H | I | I |  |  |\n",
    "| H | H | I | H | H | H |  |  |"
   ]
  },
  {
   "cell_type": "markdown",
   "metadata": {
    "slideshow": {
     "slide_type": "subslide"
    }
   },
   "source": [
    "### Igazságtábla\n",
    "\n",
    "\n",
    "| A | B | $\\neg$A | A$\\land$B | A$\\lor$B | A$\\oplus$B | A$\\Rightarrow$B | A$\\Leftrightarrow$B |\n",
    "| -- | -- | -- | -- | -- | -- | -- | -- |\n",
    "| I | I | H | I | I | H | I |  |\n",
    "| I | H | H | H | I | I | H |  |\n",
    "| H | I | I | H | I | I | I |  |\n",
    "| H | H | I | H | H | H | I |  |"
   ]
  },
  {
   "cell_type": "markdown",
   "metadata": {
    "slideshow": {
     "slide_type": "slide"
    }
   },
   "source": [
    "### Igazságtábla\n",
    "\n",
    "\n",
    "| A | B | $\\neg$A | A$\\land$B | A$\\lor$B | A$\\oplus$B | A$\\Rightarrow$B | A$\\Leftrightarrow$B |\n",
    "| -- | -- | -- | -- | -- | -- | -- | -- |\n",
    "| I | I | H | I | I | H | I | I |\n",
    "| I | H | H | H | I | I | H | H |\n",
    "| H | I | I | H | I | I | I | H |\n",
    "| H | H | I | H | H | H | I | I |"
   ]
  },
  {
   "cell_type": "markdown",
   "metadata": {
    "slideshow": {
     "slide_type": "slide"
    }
   },
   "source": [
    "### Félösszeadó\n",
    "Az ALU (*arithmetic processing unit*) egyszerű számításokat végző áramkör, a számítógépek processzorának alapköve. Ennek egyik komponense a félösszeadó, ami bináris számokat ad össze.\n"
   ]
  },
  {
   "cell_type": "markdown",
   "metadata": {
    "slideshow": {
     "slide_type": "fragment"
    }
   },
   "source": [
    "<img src=\"halfadder_1.png\">\n"
   ]
  },
  {
   "cell_type": "markdown",
   "metadata": {
    "slideshow": {
     "slide_type": "subslide"
    }
   },
   "source": [
    "<img src=\"halfadder_2.png\">"
   ]
  },
  {
   "cell_type": "markdown",
   "metadata": {
    "slideshow": {
     "slide_type": "slide"
    }
   },
   "source": [
    "### Mire hasonlít mindez?\n",
    "- változók\n"
   ]
  },
  {
   "cell_type": "markdown",
   "metadata": {
    "slideshow": {
     "slide_type": "fragment"
    }
   },
   "source": [
    "- meghatározott lehetséges értékek amiket változó felvehet\n"
   ]
  },
  {
   "cell_type": "markdown",
   "metadata": {
    "slideshow": {
     "slide_type": "fragment"
    }
   },
   "source": [
    "- változók közötti műveletek\n"
   ]
  },
  {
   "cell_type": "markdown",
   "metadata": {
    "slideshow": {
     "slide_type": "fragment"
    }
   },
   "source": [
    "### algebra! <!-- .element: class=\"fragment\" data-fragment-index=\"1\" -->"
   ]
  },
  {
   "cell_type": "markdown",
   "metadata": {
    "slideshow": {
     "slide_type": "slide"
    }
   },
   "source": [
    "### Mik ezek?\n",
    "- $ x \\times 0 = 0 $"
   ]
  },
  {
   "cell_type": "markdown",
   "metadata": {
    "slideshow": {
     "slide_type": "fragment"
    }
   },
   "source": [
    "- $ y ^ 0 = 1 $"
   ]
  },
  {
   "cell_type": "markdown",
   "metadata": {
    "slideshow": {
     "slide_type": "fragment"
    }
   },
   "source": [
    "- $ (a + b)^2 = a^2 + 2ab + b^2 $"
   ]
  },
  {
   "cell_type": "markdown",
   "metadata": {
    "slideshow": {
     "slide_type": "fragment"
    }
   },
   "source": [
    "### tételek"
   ]
  },
  {
   "cell_type": "markdown",
   "metadata": {
    "slideshow": {
     "slide_type": "fragment"
    }
   },
   "source": [
    "olyan formulák, melyek a bennük szereplő változók értékétől függetlenül igazak"
   ]
  },
  {
   "cell_type": "markdown",
   "metadata": {
    "slideshow": {
     "slide_type": "slide"
    }
   },
   "source": [
    "### Tételek\n",
    "#### 1. asszociativitás:\n",
    "- $A \\lor (B \\lor C) \\Leftrightarrow (A \\lor B) \\lor C$"
   ]
  },
  {
   "cell_type": "markdown",
   "metadata": {
    "slideshow": {
     "slide_type": "fragment"
    }
   },
   "source": [
    "#### 2. disztributivitás:\n",
    "- $A \\land (B \\lor C) \\Leftrightarrow (A \\land B) \\lor (A \\land C)$"
   ]
  },
  {
   "cell_type": "markdown",
   "metadata": {
    "slideshow": {
     "slide_type": "fragment"
    }
   },
   "source": [
    "#### 3. De Morgan szabály:\n",
    "- $\\neg (A \\lor B) \\Leftrightarrow \\neg A \\land \\neg B$"
   ]
  },
  {
   "cell_type": "markdown",
   "metadata": {
    "slideshow": {
     "slide_type": "fragment"
    }
   },
   "source": [
    "#### 4. szillogizmus:\n",
    "- $(A \\Rightarrow B) \\land (B \\Rightarrow C) \\Rightarrow (A \\Rightarrow C)$"
   ]
  },
  {
   "cell_type": "markdown",
   "metadata": {
    "slideshow": {
     "slide_type": "slide"
    }
   },
   "source": [
    "### Tétel-e?\n",
    "#### 1.  $A \\Rightarrow B \\Leftrightarrow \\neg A \\lor B$\n"
   ]
  },
  {
   "cell_type": "markdown",
   "metadata": {
    "slideshow": {
     "slide_type": "fragment"
    }
   },
   "source": [
    "#### 2.  $(A \\Rightarrow B) \\lor (B \\Rightarrow A)$"
   ]
  },
  {
   "cell_type": "markdown",
   "metadata": {
    "slideshow": {
     "slide_type": "slide"
    }
   },
   "source": [
    "### Elsőrendű logika\n",
    "#### 1.  Predikátumok\n",
    "\n",
    "- paraméter(eke)t tartalmazó kifejezések\n",
    "- igazságértékük a bennük szereplő paraméter(ek)től függ"
   ]
  },
  {
   "cell_type": "markdown",
   "metadata": {
    "slideshow": {
     "slide_type": "fragment"
    }
   },
   "source": [
    "#### 2.  Kvantorok\n",
    "\n",
    "- $\\forall$: \"mindegyik\"\n",
    "- $\\exists$: \"létezik\""
   ]
  },
  {
   "cell_type": "markdown",
   "metadata": {
    "slideshow": {
     "slide_type": "slide"
    }
   },
   "source": [
    "### Predikátumok\n",
    "#### 1. egyváltozós\n",
    "\n",
    "- $P$: \"páros szám\"\n",
    "- $P(x)$ akkor (és csak akkor) igaz, ha $x$ páros"
   ]
  },
  {
   "cell_type": "markdown",
   "metadata": {
    "slideshow": {
     "slide_type": "fragment"
    }
   },
   "source": [
    "#### 2. többváltozós\n",
    "\n",
    "- $NE$: \"nagyobb egyenlő\"\n",
    "- $NE(x,y)$ akkor (és csak akkor) igaz, ha $x \\geq y$"
   ]
  },
  {
   "cell_type": "markdown",
   "metadata": {
    "slideshow": {
     "slide_type": "fragment"
    }
   },
   "source": [
    "#### 3. formulában\n",
    "\n",
    "- $NE(x,y) \\land P(y)$\n",
    "- $NE(x,y) \\Rightarrow NE(y,x)$"
   ]
  },
  {
   "cell_type": "markdown",
   "metadata": {
    "slideshow": {
     "slide_type": "slide"
    }
   },
   "source": [
    "### Kvantorok\n",
    "\n",
    "- $\\forall$: \"mindegyik\"\n",
    "- $\\exists$: \"létezik\""
   ]
  },
  {
   "cell_type": "markdown",
   "metadata": {
    "slideshow": {
     "slide_type": "fragment"
    }
   },
   "source": [
    "Formulában:\n",
    "\n",
    "#### 1.  $\\forall x (P(x))$: bármely $x$-re a $P(x)$ kifejezés igazságértéke IGAZ\n",
    "\n",
    "#### 2.  $\\exists x (P(x))$: létezik legalább egy $x$, melyre a $P(x)$ kifejezés igazságértéke IGAZ"
   ]
  },
  {
   "cell_type": "markdown",
   "metadata": {
    "slideshow": {
     "slide_type": "fragment"
    }
   },
   "source": [
    "#### 3.  $\\forall x ( P(2x) )$"
   ]
  },
  {
   "cell_type": "markdown",
   "metadata": {
    "slideshow": {
     "slide_type": "fragment"
    }
   },
   "source": [
    "#### 4.  $\\forall x ( \\exists y (NE(x,y)))$"
   ]
  },
  {
   "cell_type": "markdown",
   "metadata": {
    "slideshow": {
     "slide_type": "fragment"
    }
   },
   "source": [
    "#### 5.  $\\nexists x (\\neg NE(x,x))$"
   ]
  },
  {
   "cell_type": "markdown",
   "metadata": {
    "slideshow": {
     "slide_type": "slide"
    }
   },
   "source": [
    "### Kötött paraméter\n",
    "Ha egy kijelentésben egy paraméter minden előfordulása valamilyen kvantor hatáskörében van, akkor azt mondjuk, hogy a paraméter **kötött**, különben **szabad**.\n",
    "\n",
    "### Zárt formula\n",
    "Az a formula, aminek nincs szabad paramétere, **zárt formula**. Máskülönben **nyitott formula**."
   ]
  },
  {
   "cell_type": "markdown",
   "metadata": {
    "slideshow": {
     "slide_type": "slide"
    }
   },
   "source": [
    "### Predikátumok:\n",
    "$F(x)$: $x$ férfi, $N(x)$: $x$ nő, $V(x,y)$: $x$ vonzónak tartja $y$-t\n",
    "\n",
    "### Kifejezni predikátumokkal\n",
    "#### 1.  $d$-nek minden nő tetszik"
   ]
  },
  {
   "cell_type": "markdown",
   "metadata": {
    "slideshow": {
     "slide_type": "fragment"
    }
   },
   "source": [
    "#### 2.  $k$ egy biszexuális nő"
   ]
  },
  {
   "cell_type": "markdown",
   "metadata": {
    "slideshow": {
     "slide_type": "fragment"
    }
   },
   "source": [
    "#### 3.  léteznek aszexuális emberek"
   ]
  },
  {
   "cell_type": "markdown",
   "metadata": {
    "slideshow": {
     "slide_type": "fragment"
    }
   },
   "source": [
    "#### 4.  mindenki biszexuális"
   ]
  },
  {
   "cell_type": "markdown",
   "metadata": {
    "slideshow": {
     "slide_type": "fragment"
    }
   },
   "source": [
    "#### 5.  csak a férfiak között vannak melegek"
   ]
  }
 ],
 "metadata": {
  "celltoolbar": "Slideshow",
  "kernelspec": {
   "display_name": "Python 3",
   "language": "python",
   "name": "python3"
  },
  "language_info": {
   "codemirror_mode": {
    "name": "ipython",
    "version": 3
   },
   "file_extension": ".py",
   "mimetype": "text/x-python",
   "name": "python",
   "nbconvert_exporter": "python",
   "pygments_lexer": "ipython3",
   "version": "3.8.10"
  }
 },
 "nbformat": 4,
 "nbformat_minor": 4
}
