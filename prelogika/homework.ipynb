{
 "cells": [
  {
   "cell_type": "markdown",
   "metadata": {},
   "source": [
    "# Házi"
   ]
  },
  {
   "cell_type": "markdown",
   "metadata": {},
   "source": [
    "### 0. Operatív\n",
    "\n",
    "Hozzatok létre a `members` mappán belül egy saját (bece-/fantázia-)nevetekkel (ékezetek, szóközök nélkül) ellátott almappát. Ide fogjátok tölteni majd a házikat."
   ]
  },
  {
   "cell_type": "markdown",
   "metadata": {},
   "source": [
    "-------"
   ]
  },
  {
   "cell_type": "markdown",
   "metadata": {},
   "source": [
    "## 1. Gyakorlat\n",
    "\n",
    "A következő állításokat fejezzétek ki paraméterek, kvantorok és logikai műveletek segítségével. A megoldásokat létrehozhatjátok elektronikusan, de befotózott, tollal írt jegyzetet is elfogadunk. A lényeg, hogy átlátható és olvasható legyen. A kész megoldást töltsétek fel **kedd (14.) éjfélig** a fent létrehozott mappába.\n",
    "\n",
    "**Predikátumok:**\n",
    "- F(x): *x férfi*\n",
    "- N(x): *x nő*\n",
    "- P(x, y): *y személy x személy gyereke*\n",
    "\n",
    "**Kifejezendő állítások:**\n",
    "- A) *k-nak és d-nek van közös lánya*\n",
    "- B) *csak a férfiak között vannak gyermektelenek*\n",
    "- C) *vannak egynemű testvérek*\n",
    "- D) *minden nőnek vagy gyereke*\n",
    "- E) *k-nak van lány és fiú unokája is*\n",
    "\n",
    " Segítségnek a ```symbols_exercise.pdf``` fájlban találjátok a kurzuson használt jelöléseket, és a szexuális feladatok megoldását."
   ]
  },
  {
   "cell_type": "markdown",
   "metadata": {},
   "source": [
    "-------"
   ]
  },
  {
   "cell_type": "markdown",
   "metadata": {},
   "source": [
    "## 2. Elmélet\n",
    "\n",
    "- Olvassátok el ezt a cikket: [How Aristotle created the computer](https://www.theatlantic.com/technology/archive/2017/03/aristotle-computer/518697/)\n",
    "- Nézzétek meg ezt a videót: [Learn how computers add numbers and build a 4 bit adder circuit](https://www.youtube.com/watch?v=wvJc9CZcvBc&feature=share&fbclid=IwAR1hnwQuJA0fN8JhTg2CDeI-2woN3xIBzKuXtIzeVdVHzfE46cfc05H3XDM), amiben a faszi bemutatja, hogyan áll össze egy bonyolultabb összeadó, és ténylegesen meg is építi a gépet.\n",
    "\n",
    "Ezekkel kapcsolatban fel fogunk tenni kérdéseket Deepnote-on, amelyek közül mindegyikőtöknek **tetszőlegesen választott kettőt meg kell válaszolnia a következő kurzusig**, komment formájában. Ez first come, first served alapon megy, tehát ha valaki már elvitte a kedvenc kérdéseteket, kénytelenek lesztek másikat választani."
   ]
  },
  {
   "cell_type": "markdown",
   "metadata": {},
   "source": [
    "-------"
   ]
  },
  {
   "cell_type": "markdown",
   "metadata": {},
   "source": [
    "### +1 Érdekességnek\n",
    "\n",
    "Ha mélyebben érdekel a bináris összeadós téma, érdemes megnézni ezt a kétrészes videósorozatot is:\n",
    "- [első](https://www.youtube.com/watch?time_continue=738&v=l7rce6IQDWs&feature=emb_logo&fbclid=IwAR2gdCGpGMqVgul2H6PUMcpmJGR3Zq-3zvka-qWTwoFcoEgR56IKRoNjQIA)\n",
    "- [második](https://www.youtube.com/watch?v=uqY3FMuMuRo&feature=youtu.be&fbclid=IwAR3I1DtZ5T_X8mFlfBGPiF_UAgGnrNGYDqjw9GmJWc1e8wug5rU8Ag8tpyA),\n",
    "ahol bináris összeadók segítségével létrejön az alábbi kép egy madárról.\n",
    "\n",
    "![bird.png](bird.png)"
   ]
  },
  {
   "cell_type": "code",
   "execution_count": null,
   "metadata": {},
   "outputs": [],
   "source": []
  }
 ],
 "metadata": {
  "kernelspec": {
   "display_name": "Python 3",
   "language": "python",
   "name": "python3"
  },
  "language_info": {
   "codemirror_mode": {
    "name": "ipython",
    "version": 3
   },
   "file_extension": ".py",
   "mimetype": "text/x-python",
   "name": "python",
   "nbconvert_exporter": "python",
   "pygments_lexer": "ipython3",
   "version": "3.8.10"
  }
 },
 "nbformat": 4,
 "nbformat_minor": 4
}
