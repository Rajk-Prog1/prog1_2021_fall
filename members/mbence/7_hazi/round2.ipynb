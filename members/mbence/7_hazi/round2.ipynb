{
 "cells": [
  {
   "cell_type": "code",
   "metadata": {
    "cell_id": "00000-cfc01811-4591-4951-ae56-3001a9ae21e9",
    "deepnote_to_be_reexecuted": false,
    "source_hash": "35fd486b",
    "execution_start": 1638467448126,
    "execution_millis": 44,
    "deepnote_cell_type": "code"
   },
   "source": "import sys\nsys.path.insert(0, '/work/prog1_2021_fall/materials/others/')\nfrom __import_file__ import mbence\nfrom __import_file__ import dani\nfrom __import_file__ import bogi\nfrom __import_file__ import katinka\nfrom __import_file__ import keve\nfrom __import_file__ import dorka\nfrom __import_file__ import eszter\nfrom __import_file__ import szabi\nfrom __import_file__ import hako",
   "outputs": [],
   "execution_count": null
  },
  {
   "cell_type": "markdown",
   "source": "## mbence",
   "metadata": {
    "cell_id": "00001-3051c38b-d25c-40c9-9802-fd6d94e04d25",
    "deepnote_cell_type": "markdown"
   }
  },
  {
   "cell_type": "code",
   "metadata": {
    "cell_id": "00002-66fb46af-f818-4d32-a182-81017cd6d440",
    "deepnote_to_be_reexecuted": false,
    "source_hash": "214a17c2",
    "execution_start": 1638467448170,
    "execution_millis": 1,
    "deepnote_cell_type": "code"
   },
   "source": "def mbence_solution():\n    # modify this function\n    # return value and parameters and all\n    return 0",
   "outputs": [],
   "execution_count": null
  },
  {
   "cell_type": "code",
   "metadata": {
    "cell_id": "00003-c7496764-482b-4fbb-8049-6bbcd704364e",
    "deepnote_to_be_reexecuted": false,
    "source_hash": "8d319ea3",
    "execution_start": 1638467448217,
    "execution_millis": 3438,
    "deepnote_cell_type": "code"
   },
   "source": "mbence.evaluate(mbence_solution)",
   "outputs": [
    {
     "name": "stdout",
     "text": "- success rate: 0/495 (0.0%)\n- error count: 495\n\n\n ERROR at: \n {'list_of_words': ['b', 'bb', 'bBb']} \n - TypeError (mbence_solution() takes 0 positional arguments but 1 was given)\n\n\n ERROR at: \n {'list_of_words': ['aa', 'aaa', 'aa', 'a']} \n - TypeError (mbence_solution() takes 0 positional arguments but 1 was given)\n\n\n ERROR at: \n {'list_of_words': ['ba', 'babab', 'AaAaA', 'Ahha']} \n - TypeError (mbence_solution() takes 0 positional arguments but 1 was given)\n\n\n ERROR at: \n {'list_of_words': ['123', 'lala', '', '', '', 'aA']} \n - TypeError (mbence_solution() takes 0 positional arguments but 1 was given)\n\n\n ERROR at: \n {'list_of_words': ['fOtZQri2u4xi7LjDoiI6quJCr5w5qvnmBHeTMrbOSwQtdAy4JXIFSq3TAfQpUSHOkFAmXMETrW5Cd26UGBRZkdSuz9AoGv7YkTXeQw67zr6', 'i9uOMLWnLn7zJ6giOfVnLbeagPQw2guwSaCwLsrpSsg10Gdcgj9WXUnYwRZzkrIIyz49oXH97Y', 'cNDVVPIrVCZy72A5AbuXzfEMWJHPNbwPvR41fHAebxSFIcKTh9HzgXfqd2tXAsG9AIhzVGAameIc886MMbWQCDblJ6WOjizJ9xIUSn1mf868sWwY895h', 'eWaGgby2RlRVODA502DkJigcpWGotNROxI2fk3Gzjls5HaLTnA4zwaJ4amTs4m0e9JzKVLjpIqg', 'VMQ2eaF7Dn2m59jEwanek8xBUrP08TNV4oCH1eC3TEQ9Z8eaeyeafRUppH2UhfKpmgLpLFsku34emivoCDPHQgDZ7ypVUC6uxjk8CZDNontccSzqYJqfOsU', 'm08AaNKSDUqIaAUKL9WXkfjWoRe2miQoLvcCoOqj6BSwTdtP2YU3IU3U6IwVsMkCVfYP6jnrxh2Gf', 'Uk7CP', 'raCpR7pQsbi9t29wBuB99qAweISYZYEWL4vzSCMrmvnjgkHB9CJZMNRALly1uDpBdnWavumWpFOazekqRCcjpxkmpaYYyDl', 'sEZryuBLyWslae5rwHwLC8QqFd09V45tOhwYL', 'jTAdlXhhemY0ClxdrlSVHRecTnuL82t6hBvbntbsmInzmFi5Ggd9JVrJCJtsQxue8ij36HA6aqUuudlEH7LWkJkhAeVY8AgfH']} \n - TypeError (mbence_solution() takes 0 positional arguments but 1 was given)\n\n\n ERROR at: \n {'list_of_words': ['Ljo9A2pufaQC6EKrD9osam0TMxFfikqRih0j61poyP0BmjGHljcHySqfcoHNUhCJT0ANJ6JBj', 'hVJQ0RzIuv3iENncJ2o0ciuPTd7YtwUQCIjlCb3EDwpHULpqKLqtjj59ES6dvC6FXfF6boPc5njv5Q3SWCBJ3cWm0AYBgPP0IcQVYqRnYrsmr0MK0MPtnFpR', 'pRy0PxkLgIkGkp', 'ZDaHdnC29YvkTWZvU34AJmfNL3vug2ul2tFsXpvgkOgEZ', 'yZJ5', '7uUTABLfox87DwsdVC1MscG5UEMwPraKk96IJOp5LceA', '9cnlVuU4ykwhWILJHCeXAUwDW1V7UW7LNDeZ3tvsr4', 'SHfqsBsNddx078zLVOh2yZy0mb', 'sbcnNqzU4rz4Mh8WUQzR3nYj7QK0J4', 'hHOVeefFZJs', '1Mu8IPrCiXF2l1HekJ9wxtMAS9ewWXYfuGgp2a2ijzN8']} \n - TypeError (mbence_solution() takes 0 positional arguments but 1 was given)\n\n\n ERROR at: \n {'list_of_words': ['hyGwtN4H1Dn', 'RHyOfLP8rL5GWmOlI8N0b3vxAealyvrfkkxd8v3TApe6Ebe7O4cipk34u7Y7eQbKJjbq9OxrQPkk6hkocuTtLYFmoaeW5iEzice65Hl8mEiHPe0kuYGlW', 'oPYSwSXuMt7la82aS6aUdAL3dsOj', 'hb3TtIweZyKNWBnnVchFJPBqCW86w5AfdmJqr1kG2lBm8ARYheqTfoX', 'Tpegh2Gm48uH6Btm', 'Q3pdZv2FAr2', '', 'BsoZ7y5BVYyO45LLK5nYKshcvBU8xVH94ZE9HM9eCMuGgYUkQM8yE7AvSle5o7x9Nke7uYHHhqfbhSPBWd8Lb6UWkitWCfpnhpKCxqvxAioBuEZdW60', 'i9Y174gqWFGiCXO543OTpTyhkxrDUCDvIyz49QMkv36CC3YihhPXvxHuGkd3uNkp6N1e6DYFnRdIJTLQhnzGdq0SyZ6z7tCU42sKRCGyoASyXKiqiJ5bKV1', 'RdeMzKOGxkYDCpcodtByXcKoB9H', 'prTBu', 'rLpZIfvfcEcutBZD2c6MbozQIEfKlki4XNl74xoOyNfzqp0iB4NDKbSqfXU']} \n - TypeError (mbence_solution() takes 0 positional arguments but 1 was given)\n\n\n ERROR at: \n {'list_of_words': ['Y0csC0eyvYDeYC0k73t6jhRH4KAHpk', 'LDqg19tJBon0wNdoqGvnnoYaIPq6cP3xNlS3Hh3KsEK8AOExg9tWIwksJXKIihY6DzFXF89wqVlw78WW', 'ZxHGFxpzkFX5Bx8e6DqcL9WrOmfguSq5DFp1WKZ3am4LSraZOist9dFG770niSdyFhtpRQAVF3', 'Awk', 'XN4d9E725StASECUq1T2UJAXlPfXm7tTdBvELEuUdIet1JVIX9uWHDFybpKXCGcAnAFXvcSPfRmf0qORxfs', '9zwiF05pk263qCuUaNyMhdApIpvIIWEzzffVln4XcI0QK1vAHkcrJpogaxmphCIRkY56dq13Qvg2b3Ho24oAOOe6P1RFDexWDB6wnRoO3YcV2q3dUdnL2BG', '8rhV7yXdOS3ngLfWQJK3Z0FolLtA8KhU0R', 'JSZGl81SOgdnEBuWMxhsipXjgqZdOE1ZT7mafysOvswuQONACKgA36IyQwOQ9KNfLsef3MCZvAxFQat8wWWMsi0GTIktEFiJTXaSzTy3Bt89X', 'lsGUMZY0ySFzfI18c9uW9I4UiWr9eVYMthCSmeQj7pBghYwcEDssekO2WkcejRXRuPJtkVTJNXJnJUqMGiCiGeuWVdbHo8', 'aX8TQ7uSBLB01Ce9WfP829KhQqXc6ZQvqQ4gzDT7nVw2fKCN0QpBGEHIEeQvuBJ5s0hwG4wB9ZosJ4qFbPtS8jt8L4y4N6kSi1aK75XjGaDJnEHK', 'rtLZLoM8P9V7kgVWEY92HAR9JrCyARsA7MVRhKJ6ypgH9R7kYLmZmDi9PnP', 'U6hQXid9Vw7cL8aqv2yGS0mZi3E4UHhY8hPy1UunXlue45CfoMsDn8YUwrzTgeS8pwosS4gLq', 'L5ZalYNtfANQv5AXRIhhQOPewKnDD0lFUajRRa']} \n - TypeError (mbence_solution() takes 0 positional arguments but 1 was given)\n\n\n ERROR at: \n {'list_of_words': ['N9VP4vHq', 'eQc86RU2r59Wd7UufiXOovCCCT8Lmf7uE7eytR8eHEI9TONF2NKGDUtVuZfL4Zmj5bm', '7QGwAzah4arWehFLJQ9GvdqwVtvxxpY7xdE8tIdM5QQlBgLNoEcqhOejXWcUCSrzDX8hDKphipuo4hz8h2POx1lF2Gm5rUVWFv47lC9EljshlUgi6byNaP', 'D59nzfk6wNqM8CoQoTtHadSHM661hk18p7sC', 'geUWWna5ss8gxbOfyC', 'wAICI9f62CilpieR8', 'IOkctl4PMYzm6q3UFBBWlEVSY0q0LBpfldZY22qRcZh4fICEYKvRrFbSw0mnT7xHFIKsi', 'll2Z4fJKflwyFhuM3PLJV3t7YqqpytajNKNb6BgfFGdWnRUYkOEyS5btwXfM95lVD5R96ylYFRzn3WIsPmcrqWiP1Tc8GpoHxIs0gZWDR7', 'coRrMq56xHlJM0xJ51vpROSLGpTi4BjWDohNnOZ', 'SbQjfZaDStWdRiBmuBLHwYWHhQZ0IjDC1XxQ67r4PEHp3MfR4A0TMm05HW58gqP1oqkHLZjnxT6ghFjOoGWjtc3AX17osLeAZsSMTjqS0kBBzTOTi', '11C', 'lHKWTDyLNfl2S', 'MTHUIpMduSN6TLwZRFMcS81IWiwbZYzx28UKrlGvtQgTbNlLNjWFuSOenz1g718191sxLpX3PJugo7', 'qLssvUYq1Y1iMB2vldkAezGR5']} \n - TypeError (mbence_solution() takes 0 positional arguments but 1 was given)\n\n\n ERROR at: \n {'list_of_words': ['mfe9iuOTsK2pwTtgWPrYCZn90fWj8gqJyqgnPnwuUHWlP6A6npRauEkBwJb4Of6b1RdfsTa3epbSoWe2Wf7mxXS6Bb', 'ZPIImp9wL8uOeCEktwOHFhglGWaDdHgMZs8K5xzrpiNg', 'bs5WQcLBK6GOX21n', 'XlYUg72k7TbpGbnKmlNtmul8gWvnOrRIhtTJhpXHiCqRYFYNlHjrmf1Lwa2OEtg6SFYdiwj8dGJbtUNS5bxZd8q6boZN', 'tFZBYmZ39AoJN63kuQkt5KY0ZLZsSQ9ggGOf4QOY07rV9ll8N8dh8m5QA9t3QWwlGiQdl5GYCPiInLYKNg6jwygy3GQ', 'dZ3YM8uShR2AC3wBSCr5zK7lze57qzQQUumv3IbAHvRbsruEqjeSlAiPWZFp0ueKj3IU5CI8OEMVeLwfmT7wDLh1rzrOkIFaFqOGGSDj2KgTDVj', 'DI5RjvPr5Cn2', 'q70iphYxyp9F5oPAf7WnD776H3yiAeGURWr9QMOIBTZBFjnSME7x7dc8', 'rZIosMJbHle5DfGrbsOs12jihwHS4GkaFy2D5nGaEdKnCip', 'PGHEu4weG5a1RSvR35Yu8SQPxf7yuv4MxA8IP8sRjxuNWpDwzdkkHgeRtnjzKyFOvaz9tr56ypXlqGFjZYN9zObunfvRWCWpMmRhS98P8Zp4XT', 'OCi6Zypreazj389xl31iHqlykxsm5eJu6HdxtDIPCDbSeifpx81H6OTq2o15be00IMaX3VmbdSTWk', 'WyNu2uFb5pYe8rz5ruOWc6gVltATVFZoBlVsR6CVuwukcdgHdgKVChNvHxX2pHOHortdLzkyK3evCRwJXO0U0ndMGJWBJEiPGho6o1zOPWfEZckUVV', 'mFBl1rxHOb5WDqui', 'sQoJf5dzcqmZXvSpVlg7FairYUuOILMT9RrtQHDJgvCPRkbmIM0U8lWL6iCpX8VHkBdrfqtR2XSD8XI6is5EcbVJeemR', 'PwM61uIpufyfwzOllt9ER5NvJszbpyX9heG9jqQk3we8UVxxGlUJ8QxqrMlsoenF0hm2fLrWyA']} \n - TypeError (mbence_solution() takes 0 positional arguments but 1 was given)\n",
     "output_type": "stream"
    }
   ],
   "execution_count": null
  },
  {
   "cell_type": "markdown",
   "source": "## dani",
   "metadata": {
    "cell_id": "00004-8e52a25d-64f3-46e6-9b5b-f2ed583f6eb4",
    "deepnote_cell_type": "markdown"
   }
  },
  {
   "cell_type": "code",
   "metadata": {
    "cell_id": "00005-963394ad-217e-46ca-8505-55c3356baea1",
    "deepnote_to_be_reexecuted": false,
    "source_hash": "cf97a1eb",
    "execution_start": 1638467451660,
    "execution_millis": 41,
    "deepnote_cell_type": "code"
   },
   "source": "def dani_solution(list_of_numbers):\n    for i in range(len(list_of_numbers)):\n        list_of_numbers[i] = int(list_of_numbers[i])\n    list_of_numbers.sort()\n    a = list_of_numbers[0] * list_of_numbers[1]\n    b = list_of_numbers[-1] * list_of_numbers[-2]\n    if a > b:\n        return a  \n    return b",
   "outputs": [],
   "execution_count": null
  },
  {
   "cell_type": "code",
   "metadata": {
    "cell_id": "00006-0818493d-5dac-4561-8f98-69defc9708e5",
    "deepnote_to_be_reexecuted": false,
    "source_hash": "cadcf404",
    "execution_start": 1638467451702,
    "execution_millis": 256,
    "deepnote_cell_type": "code"
   },
   "source": "dani.evaluate(dani_solution)",
   "outputs": [
    {
     "name": "stdout",
     "text": "- success rate: 497/497 (100.0%)\n- error count: 0\n- best performance: 1\n- worst performance: 1\n- mean performance: 1.0\n",
     "output_type": "stream"
    }
   ],
   "execution_count": null
  },
  {
   "cell_type": "markdown",
   "source": "## bogi",
   "metadata": {
    "cell_id": "00007-08ab925d-1595-4b6e-9c84-422560093925",
    "deepnote_cell_type": "markdown"
   }
  },
  {
   "cell_type": "code",
   "metadata": {
    "cell_id": "00008-7f7aecc8-83fc-4d11-875a-c0b5d5f32f13",
    "deepnote_to_be_reexecuted": false,
    "source_hash": "9803c749",
    "execution_start": 1638467451958,
    "execution_millis": 4,
    "deepnote_cell_type": "code"
   },
   "source": "def bogi_solution(list_of_numbers):\n    list_of_numbers=list(set(list_of_numbers))\n    result = 0\n    for i in list_of_numbers:\n        if i >= 0 and i % 2 == 1:\n            result += i    \n    return result",
   "outputs": [],
   "execution_count": null
  },
  {
   "cell_type": "code",
   "metadata": {
    "cell_id": "00009-732470f6-03ee-4a86-ae83-46d001449520",
    "deepnote_to_be_reexecuted": false,
    "source_hash": "77f6887",
    "execution_start": 1638467451991,
    "execution_millis": 550,
    "deepnote_cell_type": "code"
   },
   "source": "bogi.evaluate(bogi_solution)",
   "outputs": [
    {
     "output_type": "error",
     "ename": "KeyboardInterrupt",
     "evalue": "",
     "traceback": [
      "\u001b[0;31m---------------------------------------------------------------------------\u001b[0m",
      "\u001b[0;31mKeyboardInterrupt\u001b[0m                         Traceback (most recent call last)",
      "\u001b[0;32m<ipython-input-7-eff5b269a09b>\u001b[0m in \u001b[0;36m<module>\u001b[0;34m\u001b[0m\n\u001b[0;32m----> 1\u001b[0;31m \u001b[0mbogi\u001b[0m\u001b[0;34m.\u001b[0m\u001b[0mevaluate\u001b[0m\u001b[0;34m(\u001b[0m\u001b[0mbogi_solution\u001b[0m\u001b[0;34m)\u001b[0m\u001b[0;34m\u001b[0m\u001b[0;34m\u001b[0m\u001b[0m\n\u001b[0m",
      "\u001b[0;32m~/venv/lib/python3.7/site-packages/jkg_evaluators/core/core_classes.py\u001b[0m in \u001b[0;36mevaluate\u001b[0;34m(self, solution)\u001b[0m\n\u001b[1;32m    204\u001b[0m     \u001b[0;32mdef\u001b[0m \u001b[0mevaluate\u001b[0m\u001b[0;34m(\u001b[0m\u001b[0mself\u001b[0m\u001b[0;34m,\u001b[0m \u001b[0msolution\u001b[0m\u001b[0;34m:\u001b[0m \u001b[0mCallable\u001b[0m\u001b[0;34m)\u001b[0m\u001b[0;34m:\u001b[0m\u001b[0;34m\u001b[0m\u001b[0;34m\u001b[0m\u001b[0m\n\u001b[1;32m    205\u001b[0m         \u001b[0;32mif\u001b[0m \u001b[0;32mnot\u001b[0m \u001b[0mself\u001b[0m\u001b[0;34m.\u001b[0m\u001b[0mcase_kwarg_list\u001b[0m\u001b[0;34m:\u001b[0m\u001b[0;34m\u001b[0m\u001b[0;34m\u001b[0m\u001b[0m\n\u001b[0;32m--> 206\u001b[0;31m             \u001b[0mself\u001b[0m\u001b[0;34m.\u001b[0m\u001b[0m_load\u001b[0m\u001b[0;34m(\u001b[0m\u001b[0;34m)\u001b[0m\u001b[0;34m\u001b[0m\u001b[0;34m\u001b[0m\u001b[0m\n\u001b[0m\u001b[1;32m    207\u001b[0m         \u001b[0mself\u001b[0m\u001b[0;34m.\u001b[0m\u001b[0m_run_all\u001b[0m\u001b[0;34m(\u001b[0m\u001b[0msolution\u001b[0m\u001b[0;34m)\u001b[0m\u001b[0;34m\u001b[0m\u001b[0;34m\u001b[0m\u001b[0m\n\u001b[1;32m    208\u001b[0m         \u001b[0mprint\u001b[0m\u001b[0;34m(\u001b[0m\u001b[0mself\u001b[0m\u001b[0;34m)\u001b[0m\u001b[0;34m\u001b[0m\u001b[0;34m\u001b[0m\u001b[0m\n",
      "\u001b[0;32m~/venv/lib/python3.7/site-packages/jkg_evaluators/core/core_classes.py\u001b[0m in \u001b[0;36m_load\u001b[0;34m(self)\u001b[0m\n\u001b[1;32m     66\u001b[0m \u001b[0;34m\u001b[0m\u001b[0m\n\u001b[1;32m     67\u001b[0m     \u001b[0;32mdef\u001b[0m \u001b[0m_load\u001b[0m\u001b[0;34m(\u001b[0m\u001b[0mself\u001b[0m\u001b[0;34m)\u001b[0m\u001b[0;34m:\u001b[0m\u001b[0;34m\u001b[0m\u001b[0;34m\u001b[0m\u001b[0m\n\u001b[0;32m---> 68\u001b[0;31m         \u001b[0mself\u001b[0m\u001b[0;34m.\u001b[0m\u001b[0mcase_kwarg_list\u001b[0m \u001b[0;34m=\u001b[0m \u001b[0mself\u001b[0m\u001b[0;34m.\u001b[0m\u001b[0mcase_kwarg_list_getter\u001b[0m\u001b[0;34m(\u001b[0m\u001b[0;34m)\u001b[0m\u001b[0;34m\u001b[0m\u001b[0;34m\u001b[0m\u001b[0m\n\u001b[0m\u001b[1;32m     69\u001b[0m         self.case_results_list = [EvaluationCaseResult()] * len(\n\u001b[1;32m     70\u001b[0m             \u001b[0mself\u001b[0m\u001b[0;34m.\u001b[0m\u001b[0mcase_kwarg_list\u001b[0m\u001b[0;34m\u001b[0m\u001b[0;34m\u001b[0m\u001b[0m\n",
      "\u001b[0;32m~/venv/lib/python3.7/site-packages/jkg_evaluators/input_kwarg_generators.py\u001b[0m in \u001b[0;36mget_num_lists\u001b[0;34m()\u001b[0m\n\u001b[1;32m     46\u001b[0m             {\n\u001b[1;32m     47\u001b[0m                 \"list_of_numbers\": [\n\u001b[0;32m---> 48\u001b[0;31m                     \u001b[0mrandom\u001b[0m\u001b[0;34m.\u001b[0m\u001b[0mrandint\u001b[0m\u001b[0;34m(\u001b[0m\u001b[0;34m-\u001b[0m\u001b[0;36m1000\u001b[0m\u001b[0;34m,\u001b[0m \u001b[0;36m1000\u001b[0m\u001b[0;34m)\u001b[0m \u001b[0;32mfor\u001b[0m \u001b[0m_\u001b[0m \u001b[0;32min\u001b[0m \u001b[0mrange\u001b[0m\u001b[0;34m(\u001b[0m\u001b[0m_r\u001b[0m\u001b[0;34m)\u001b[0m\u001b[0;34m\u001b[0m\u001b[0;34m\u001b[0m\u001b[0m\n\u001b[0m\u001b[1;32m     49\u001b[0m                 ]\n\u001b[1;32m     50\u001b[0m             }\n",
      "\u001b[0;32m~/venv/lib/python3.7/site-packages/jkg_evaluators/input_kwarg_generators.py\u001b[0m in \u001b[0;36m<listcomp>\u001b[0;34m(.0)\u001b[0m\n\u001b[1;32m     46\u001b[0m             {\n\u001b[1;32m     47\u001b[0m                 \"list_of_numbers\": [\n\u001b[0;32m---> 48\u001b[0;31m                     \u001b[0mrandom\u001b[0m\u001b[0;34m.\u001b[0m\u001b[0mrandint\u001b[0m\u001b[0;34m(\u001b[0m\u001b[0;34m-\u001b[0m\u001b[0;36m1000\u001b[0m\u001b[0;34m,\u001b[0m \u001b[0;36m1000\u001b[0m\u001b[0;34m)\u001b[0m \u001b[0;32mfor\u001b[0m \u001b[0m_\u001b[0m \u001b[0;32min\u001b[0m \u001b[0mrange\u001b[0m\u001b[0;34m(\u001b[0m\u001b[0m_r\u001b[0m\u001b[0;34m)\u001b[0m\u001b[0;34m\u001b[0m\u001b[0;34m\u001b[0m\u001b[0m\n\u001b[0m\u001b[1;32m     49\u001b[0m                 ]\n\u001b[1;32m     50\u001b[0m             }\n",
      "\u001b[0;31mKeyboardInterrupt\u001b[0m: "
     ]
    }
   ],
   "execution_count": null
  },
  {
   "cell_type": "markdown",
   "source": "## katinka",
   "metadata": {
    "cell_id": "00010-0973df0e-1272-4c9d-a600-c56fbecdc35b",
    "deepnote_cell_type": "markdown"
   }
  },
  {
   "cell_type": "code",
   "metadata": {
    "cell_id": "00011-75bf4dc3-2fa5-463d-9f39-3e60e5980119",
    "deepnote_to_be_reexecuted": false,
    "source_hash": "d06fe829",
    "execution_start": 1638469377013,
    "execution_millis": 0,
    "deepnote_cell_type": "code"
   },
   "source": "#from a list of integers, find the one that is the largest among the ones where the digits are \n#in ascending order, \n#if there is no such number, return 0\ndef katinka_solution(list_of_szamok):\n    largestNumber=0\n    list_of_szamok.sort(reverse=True)\n\n    digits=[int(digit) for digit in str(list_of_szamok[largestNumber]) if digit != '-']\n    \n    while digits != sorted(digits):\n        largestNumber = largestNumber + 1\n        if largestNumber == len(list_of_szamok) -1:\n            return 0\n        digits = [int(digit) for digit in str(list_of_szamok[largestNumber]) if digit != '-']\n        \n    return list_of_szamok[largestNumber]",
   "outputs": [],
   "execution_count": null
  },
  {
   "cell_type": "code",
   "metadata": {
    "cell_id": "00012-ccb7e251-c168-4b63-8fbe-0a9be337903f",
    "deepnote_to_be_reexecuted": false,
    "source_hash": "23aa5959",
    "execution_start": 1638469380986,
    "execution_millis": 167,
    "deepnote_cell_type": "code"
   },
   "source": "katinka.evaluate(katinka_solution)",
   "outputs": [
    {
     "name": "stdout",
     "text": "- success rate: 497/497 (100.0%)\n- error count: 0\n- best performance: 1\n- worst performance: 1\n- mean performance: 1.0\n",
     "output_type": "stream"
    }
   ],
   "execution_count": null
  },
  {
   "cell_type": "markdown",
   "source": "## keve\n#### find the number of strings in a list of strings that contain a given letter\n\nupper or lower case\n\n> ```[\"abfg\", \"Bcd\", \"Ijk\"], \"b\" -> 2```",
   "metadata": {
    "cell_id": "00013-cd44e84a-c4e9-41d2-84c8-5915214fbab8",
    "deepnote_cell_type": "markdown"
   }
  },
  {
   "cell_type": "code",
   "metadata": {
    "cell_id": "00014-64d30123-6dd2-4f18-a816-8e81a042b408",
    "deepnote_to_be_reexecuted": false,
    "source_hash": "89099ca2",
    "execution_start": 1638468130896,
    "execution_millis": 1,
    "deepnote_cell_type": "code"
   },
   "source": "def keve_solution(list_of_strings, letter):\n    count = 0\n    for word in list_of_strings:\n        if word.lower().count(letter.lower()) > 0:\n            count += 1\n    return count",
   "outputs": [],
   "execution_count": null
  },
  {
   "cell_type": "code",
   "metadata": {
    "cell_id": "00015-68ad6bba-5eba-44f4-9949-d11190f76ce7",
    "deepnote_to_be_reexecuted": false,
    "source_hash": "28a30326",
    "execution_start": 1638468133092,
    "execution_millis": 144,
    "deepnote_cell_type": "code"
   },
   "source": "keve.evaluate(keve_solution)",
   "outputs": [
    {
     "name": "stdout",
     "text": "- success rate: 495/495 (100.0%)\n- error count: 0\n- best performance: 1\n- worst performance: 1\n- mean performance: 1.0\n",
     "output_type": "stream"
    }
   ],
   "execution_count": null
  },
  {
   "cell_type": "markdown",
   "source": "## dorka",
   "metadata": {
    "cell_id": "00016-7c76e877-fe10-4770-9c63-cc7ee895b111",
    "deepnote_cell_type": "markdown"
   }
  },
  {
   "cell_type": "code",
   "metadata": {
    "cell_id": "00017-1a4b09c4-591e-45fd-993d-55d4bfb26a3d",
    "deepnote_to_be_reexecuted": true,
    "source_hash": "ac2e2f53",
    "execution_start": 1637104809212,
    "execution_millis": 3,
    "deepnote_cell_type": "code"
   },
   "source": "def dorka_solution(list_of_words,letter):\n    a = \"\"\n    b = 0\n    letter = letter.lower()\n    for i in list_of_words:\n        if i.lower().count(letter) > b:\n            b = i.lower().count(letter)\n            a = i\n    return a",
   "execution_count": null,
   "outputs": []
  },
  {
   "cell_type": "code",
   "metadata": {
    "cell_id": "00018-06d66b57-4575-4455-b315-0bfeead57faa",
    "deepnote_to_be_reexecuted": true,
    "source_hash": "f51746bb",
    "execution_start": 1637104811507,
    "execution_millis": 1290,
    "deepnote_cell_type": "code"
   },
   "source": "dorka.evaluate(dorka_solution)",
   "execution_count": null,
   "outputs": [
    {
     "name": "stdout",
     "text": "- success rate: 495/495 (100.0%)\n- error count: 0\n- best performance: 1\n- worst performance: 1\n- mean performance: 1.0\n",
     "output_type": "stream"
    }
   ]
  },
  {
   "cell_type": "markdown",
   "source": "## eszter",
   "metadata": {
    "cell_id": "00019-703fc409-1265-41ca-9c11-f2f9fde9a2f3",
    "deepnote_cell_type": "markdown"
   }
  },
  {
   "cell_type": "code",
   "metadata": {
    "cell_id": "00020-6b679b7e-9fef-448d-953f-c8b849e0ad6c",
    "deepnote_to_be_reexecuted": true,
    "source_hash": "eec2dd74",
    "execution_start": 1637106662746,
    "execution_millis": 2,
    "deepnote_cell_type": "code"
   },
   "source": "def eszter_solution(list_of_numeri, canzone):\n    lista3 = []\n    for i in list_of_numeri:\n        if (i / canzone) % 2 == 0:\n            lista3.append(i)\n    if len(lista3) == 0:\n        return 0\n    lista3.sort()\n    return lista3[-1]       \n    ",
   "execution_count": null,
   "outputs": []
  },
  {
   "cell_type": "code",
   "metadata": {
    "cell_id": "00021-60845b66-e185-4c9a-a95d-4dca2018da50",
    "deepnote_to_be_reexecuted": true,
    "source_hash": "e6e77655",
    "execution_start": 1637106665903,
    "execution_millis": 61,
    "deepnote_cell_type": "code"
   },
   "source": "eszter.evaluate(eszter_solution)",
   "execution_count": null,
   "outputs": [
    {
     "name": "stdout",
     "text": "- success rate: 497/497 (100.0%)\n- error count: 0\n- best performance: 1\n- worst performance: 1\n- mean performance: 1.0\n",
     "output_type": "stream"
    }
   ]
  },
  {
   "cell_type": "markdown",
   "source": "## szabi",
   "metadata": {
    "cell_id": "00022-ed78c17d-f1b6-4784-a63a-fc80ca5d5d2a",
    "deepnote_cell_type": "markdown"
   }
  },
  {
   "cell_type": "code",
   "metadata": {
    "cell_id": "00023-30eecf18-2189-4a49-8d4c-6768e2cc8b8b",
    "deepnote_to_be_reexecuted": true,
    "source_hash": "a7d2581e",
    "execution_start": 1637103757719,
    "execution_millis": 1,
    "deepnote_cell_type": "code"
   },
   "source": "def szabi_solution(list_of_die_nummer):\n    lista2 = []\n    for i in list_of_die_nummer:\n        if i * 2 in list_of_die_nummer:\n            lista2.append(i)\n    if len(lista2) == 0:\n        return 0\n    else:\n        lista2.sort() \n        return lista2[0]\n    ",
   "execution_count": null,
   "outputs": []
  },
  {
   "cell_type": "code",
   "metadata": {
    "cell_id": "00024-db16c8a1-07e9-4929-904c-64a0275b7bd4",
    "deepnote_to_be_reexecuted": true,
    "source_hash": "8a2282b",
    "execution_start": 1637103761726,
    "execution_millis": 1632,
    "deepnote_cell_type": "code"
   },
   "source": "szabi.evaluate(szabi_solution)",
   "execution_count": null,
   "outputs": [
    {
     "name": "stdout",
     "text": "- success rate: 497/497 (100.0%)\n- error count: 0\n- best performance: 1\n- worst performance: 1\n- mean performance: 1.0\n",
     "output_type": "stream"
    }
   ]
  },
  {
   "cell_type": "markdown",
   "source": "## hako",
   "metadata": {
    "cell_id": "00025-e2137814-8b9d-4bbe-a5c7-b23389cdf4a6",
    "deepnote_cell_type": "markdown"
   }
  },
  {
   "cell_type": "code",
   "metadata": {
    "cell_id": "00026-59b4b8fd-2516-44f7-95f0-29e7f6df03de",
    "deepnote_to_be_reexecuted": true,
    "source_hash": "20f59547",
    "deepnote_cell_type": "code"
   },
   "source": "def hako_solution():\n    # modify this function\n    # return value and parameters and all\n    return 0",
   "execution_count": null,
   "outputs": []
  },
  {
   "cell_type": "code",
   "metadata": {
    "cell_id": "00027-859d5eed-621b-4bd8-9af9-1899dfaf88ac",
    "deepnote_to_be_reexecuted": true,
    "source_hash": "a106adb3",
    "deepnote_cell_type": "code"
   },
   "source": "hako.evaluate(hako_solution)",
   "execution_count": null,
   "outputs": []
  },
  {
   "cell_type": "markdown",
   "source": "<a style='text-decoration:none;line-height:16px;display:flex;color:#5B5B62;padding:10px;justify-content:end;' href='https://deepnote.com?utm_source=created-in-deepnote-cell&projectId=978e47b7-a961-4dca-a945-499e8b781a34' target=\"_blank\">\n<img alt='Created in deepnote.com' style='display:inline;max-height:16px;margin:0px;margin-right:7.5px;' src='data:image/svg+xml;base64,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' > </img>\nCreated in <span style='font-weight:600;margin-left:4px;'>Deepnote</span></a>",
   "metadata": {
    "tags": [],
    "created_in_deepnote_cell": true,
    "deepnote_cell_type": "markdown"
   }
  }
 ],
 "nbformat": 4,
 "nbformat_minor": 2,
 "metadata": {
  "kernelspec": {
   "display_name": "Python 3",
   "language": "python",
   "name": "python3"
  },
  "language_info": {
   "codemirror_mode": {
    "name": "ipython",
    "version": 3
   },
   "file_extension": ".py",
   "mimetype": "text/x-python",
   "name": "python",
   "nbconvert_exporter": "python",
   "pygments_lexer": "ipython3",
   "version": "3.9.0"
  },
  "deepnote_notebook_id": "d755425d-60ee-4b95-959d-a5421ced5931",
  "deepnote": {},
  "deepnote_execution_queue": []
 }
}