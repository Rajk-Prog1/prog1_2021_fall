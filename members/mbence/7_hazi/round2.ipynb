{
 "cells": [
  {
   "cell_type": "code",
   "metadata": {
    "cell_id": "00000-cfc01811-4591-4951-ae56-3001a9ae21e9",
    "deepnote_to_be_reexecuted": false,
    "source_hash": "35fd486b",
    "execution_start": 1637108092487,
    "execution_millis": 6,
    "deepnote_cell_type": "code"
   },
   "source": "import sys\nsys.path.insert(0, '/work/prog1_2021_fall/materials/others/')\nfrom __import_file__ import mbence\nfrom __import_file__ import dani\nfrom __import_file__ import bogi\nfrom __import_file__ import katinka\nfrom __import_file__ import keve\nfrom __import_file__ import dorka\nfrom __import_file__ import eszter\nfrom __import_file__ import szabi\nfrom __import_file__ import hako",
   "execution_count": null,
   "outputs": []
  },
  {
   "cell_type": "markdown",
   "source": "## mbence",
   "metadata": {
    "cell_id": "00001-3051c38b-d25c-40c9-9802-fd6d94e04d25",
    "deepnote_cell_type": "markdown"
   }
  },
  {
   "cell_type": "code",
   "metadata": {
    "cell_id": "00002-66fb46af-f818-4d32-a182-81017cd6d440",
    "deepnote_cell_type": "code"
   },
   "source": "def mbence_solution():\n    # modify this function\n    # return value and parameters and all\n    return 0",
   "execution_count": null,
   "outputs": []
  },
  {
   "cell_type": "code",
   "metadata": {
    "cell_id": "00003-c7496764-482b-4fbb-8049-6bbcd704364e",
    "deepnote_cell_type": "code"
   },
   "source": "mbence.evaluate(mbence_solution)",
   "execution_count": null,
   "outputs": []
  },
  {
   "cell_type": "markdown",
   "source": "## dani",
   "metadata": {
    "cell_id": "00004-8e52a25d-64f3-46e6-9b5b-f2ed583f6eb4",
    "deepnote_cell_type": "markdown"
   }
  },
  {
   "cell_type": "code",
   "metadata": {
    "cell_id": "00005-963394ad-217e-46ca-8505-55c3356baea1",
    "deepnote_to_be_reexecuted": false,
    "source_hash": "cf97a1eb",
    "execution_start": 1637100264121,
    "execution_millis": 1,
    "deepnote_cell_type": "code"
   },
   "source": "def dani_solution(list_of_numbers):\n    for i in range(len(list_of_numbers)):\n        list_of_numbers[i] = int(list_of_numbers[i])\n    list_of_numbers.sort()\n    a = list_of_numbers[0] * list_of_numbers[1]\n    b = list_of_numbers[-1] * list_of_numbers[-2]\n    if a > b:\n        return a  \n    return b",
   "execution_count": null,
   "outputs": []
  },
  {
   "cell_type": "code",
   "metadata": {
    "cell_id": "00006-0818493d-5dac-4561-8f98-69defc9708e5",
    "deepnote_to_be_reexecuted": false,
    "source_hash": "cadcf404",
    "execution_start": 1637100269302,
    "execution_millis": 101,
    "deepnote_cell_type": "code"
   },
   "source": "dani.evaluate(dani_solution)",
   "execution_count": null,
   "outputs": [
    {
     "name": "stdout",
     "text": "- success rate: 497/497 (100.0%)\n- error count: 0\n- best performance: 1\n- worst performance: 1\n- mean performance: 1.0\n",
     "output_type": "stream"
    }
   ]
  },
  {
   "cell_type": "markdown",
   "source": "## bogi",
   "metadata": {
    "cell_id": "00007-08ab925d-1595-4b6e-9c84-422560093925",
    "deepnote_cell_type": "markdown"
   }
  },
  {
   "cell_type": "code",
   "metadata": {
    "cell_id": "00008-7f7aecc8-83fc-4d11-875a-c0b5d5f32f13",
    "deepnote_to_be_reexecuted": false,
    "source_hash": "9803c749",
    "execution_start": 1637102086770,
    "execution_millis": 1,
    "deepnote_cell_type": "code"
   },
   "source": "def bogi_solution(list_of_numbers):\n    list_of_numbers=list(set(list_of_numbers))\n    result = 0\n    for i in list_of_numbers:\n        if i >= 0 and i % 2 == 1:\n            result += i    \n    return result",
   "execution_count": null,
   "outputs": []
  },
  {
   "cell_type": "code",
   "metadata": {
    "cell_id": "00009-732470f6-03ee-4a86-ae83-46d001449520",
    "deepnote_to_be_reexecuted": false,
    "source_hash": "77f6887",
    "execution_start": 1637102088455,
    "execution_millis": 55,
    "deepnote_cell_type": "code"
   },
   "source": "bogi.evaluate(bogi_solution)",
   "execution_count": null,
   "outputs": [
    {
     "name": "stdout",
     "text": "- success rate: 497/497 (100.0%)\n- error count: 0\n- best performance: 1\n- worst performance: 1\n- mean performance: 1.0\n",
     "output_type": "stream"
    }
   ]
  },
  {
   "cell_type": "markdown",
   "source": "## katinka",
   "metadata": {
    "cell_id": "00010-0973df0e-1272-4c9d-a600-c56fbecdc35b",
    "deepnote_cell_type": "markdown"
   }
  },
  {
   "cell_type": "code",
   "metadata": {
    "cell_id": "00011-75bf4dc3-2fa5-463d-9f39-3e60e5980119",
    "deepnote_to_be_reexecuted": false,
    "source_hash": "abc70f1b",
    "execution_start": 1637108841011,
    "execution_millis": 0,
    "deepnote_cell_type": "code"
   },
   "source": "#from a list of integers, find the one that is the largest among the ones where the digits are \n#in ascending order, \n#if there is no such number, return 0\ndef katinka_solution(list_of_szamok):\n    \n    return list_of_szamok[-1]",
   "execution_count": null,
   "outputs": []
  },
  {
   "cell_type": "code",
   "metadata": {
    "cell_id": "00012-ccb7e251-c168-4b63-8fbe-0a9be337903f",
    "deepnote_to_be_reexecuted": false,
    "source_hash": "23aa5959",
    "execution_start": 1637108844010,
    "execution_millis": 148,
    "deepnote_cell_type": "code"
   },
   "source": "katinka.evaluate(katinka_solution)",
   "execution_count": null,
   "outputs": [
    {
     "name": "stdout",
     "text": "- success rate: 3/497 (1.0%)\n- error count: 0\n- best performance: 1\n- worst performance: 0\n- mean performance: 0.006036217303822937\n\n\n BAD SOLUTION at: \n {'list_of_numbers': [0, 0, 10, 3, 10]}\n\n\n BAD SOLUTION at: \n {'list_of_numbers': [-20, -40, 0, 1, 2, 3, 40]}\n\n\n BAD SOLUTION at: \n {'list_of_numbers': [21, 120, 220]}\n\n\n BAD SOLUTION at: \n {'list_of_numbers': [720, -816, 764, 327, -818, -351, -220, 699, -633, 413]}\n\n\n BAD SOLUTION at: \n {'list_of_numbers': [844, -424, 6, -713, 167, 794, -328, -331, 999, 874, 914]}\n\n\n BAD SOLUTION at: \n {'list_of_numbers': [-230, -248, -708, -606, 952, 949, 233, -89, -683, -30, -19, 598]}\n\n\n BAD SOLUTION at: \n {'list_of_numbers': [-521, 11, -707, 614, 151, -415, 923, 775, -446, 402, -339, -614, 180]}\n\n\n BAD SOLUTION at: \n {'list_of_numbers': [460, -69, -241, -426, -557, 912, 75, -270, 146, 884, -89, -458, -355, -302]}\n\n\n BAD SOLUTION at: \n {'list_of_numbers': [85, -545, -748, -582, -579, -95, 265, 110, -311, -837, 506, -958, 266, -892, -409]}\n\n\n BAD SOLUTION at: \n {'list_of_numbers': [-60, -946, -5, 346, 2, 472, -723, -243, 325, 418, 921, -367, -591, -880, -24, -136]}\n",
     "output_type": "stream"
    }
   ]
  },
  {
   "cell_type": "markdown",
   "source": "## keve\n#### find the number of strings in a list of strings that contain a given letter\n\nupper or lower case\n\n> ```[\"abfg\", \"Bcd\", \"Ijk\"], \"b\" -> 2```",
   "metadata": {
    "cell_id": "00013-cd44e84a-c4e9-41d2-84c8-5915214fbab8",
    "deepnote_cell_type": "markdown"
   }
  },
  {
   "cell_type": "code",
   "metadata": {
    "cell_id": "00014-64d30123-6dd2-4f18-a816-8e81a042b408",
    "deepnote_cell_type": "code"
   },
   "source": "def keve_solution(list_of_strings, letter):\n    # modify this function\n    # return value and parameters and all\n    return 0",
   "execution_count": null,
   "outputs": []
  },
  {
   "cell_type": "code",
   "metadata": {
    "cell_id": "00015-68ad6bba-5eba-44f4-9949-d11190f76ce7",
    "deepnote_cell_type": "code"
   },
   "source": "keve.evaluate(keve_solution)",
   "execution_count": null,
   "outputs": []
  },
  {
   "cell_type": "markdown",
   "source": "## dorka",
   "metadata": {
    "cell_id": "00016-7c76e877-fe10-4770-9c63-cc7ee895b111",
    "deepnote_cell_type": "markdown"
   }
  },
  {
   "cell_type": "code",
   "metadata": {
    "cell_id": "00017-1a4b09c4-591e-45fd-993d-55d4bfb26a3d",
    "deepnote_to_be_reexecuted": false,
    "source_hash": "ac2e2f53",
    "execution_start": 1637104809212,
    "execution_millis": 3,
    "deepnote_cell_type": "code"
   },
   "source": "def dorka_solution(list_of_words,letter):\n    a = \"\"\n    b = 0\n    letter = letter.lower()\n    for i in list_of_words:\n        i.lower().count(letter)\n        if i.lower().count(letter) > b:\n            b = i.lower().count(letter)\n            a = i\n    return a",
   "execution_count": null,
   "outputs": []
  },
  {
   "cell_type": "code",
   "metadata": {
    "cell_id": "00018-06d66b57-4575-4455-b315-0bfeead57faa",
    "deepnote_to_be_reexecuted": false,
    "source_hash": "f51746bb",
    "execution_start": 1637104811507,
    "execution_millis": 1290,
    "deepnote_cell_type": "code"
   },
   "source": "dorka.evaluate(dorka_solution)",
   "execution_count": null,
   "outputs": [
    {
     "name": "stdout",
     "text": "- success rate: 495/495 (100.0%)\n- error count: 0\n- best performance: 1\n- worst performance: 1\n- mean performance: 1.0\n",
     "output_type": "stream"
    }
   ]
  },
  {
   "cell_type": "markdown",
   "source": "## eszter",
   "metadata": {
    "cell_id": "00019-703fc409-1265-41ca-9c11-f2f9fde9a2f3",
    "deepnote_cell_type": "markdown"
   }
  },
  {
   "cell_type": "code",
   "metadata": {
    "cell_id": "00020-6b679b7e-9fef-448d-953f-c8b849e0ad6c",
    "deepnote_to_be_reexecuted": false,
    "source_hash": "eec2dd74",
    "execution_start": 1637106662746,
    "execution_millis": 2,
    "deepnote_cell_type": "code"
   },
   "source": "def eszter_solution(list_of_numeri, canzone):\n    lista3 = []\n    for i in list_of_numeri:\n        if (i / canzone) % 2 == 0:\n            lista3.append(i)\n    if len(lista3) == 0:\n        return 0\n    lista3.sort()\n    return lista3[-1]       \n    ",
   "execution_count": null,
   "outputs": []
  },
  {
   "cell_type": "code",
   "metadata": {
    "cell_id": "00021-60845b66-e185-4c9a-a95d-4dca2018da50",
    "deepnote_to_be_reexecuted": false,
    "source_hash": "e6e77655",
    "execution_start": 1637106665903,
    "execution_millis": 61,
    "deepnote_cell_type": "code"
   },
   "source": "eszter.evaluate(eszter_solution)",
   "execution_count": null,
   "outputs": [
    {
     "name": "stdout",
     "text": "- success rate: 497/497 (100.0%)\n- error count: 0\n- best performance: 1\n- worst performance: 1\n- mean performance: 1.0\n",
     "output_type": "stream"
    }
   ]
  },
  {
   "cell_type": "markdown",
   "source": "## szabi",
   "metadata": {
    "cell_id": "00022-ed78c17d-f1b6-4784-a63a-fc80ca5d5d2a",
    "deepnote_cell_type": "markdown"
   }
  },
  {
   "cell_type": "code",
   "metadata": {
    "cell_id": "00023-30eecf18-2189-4a49-8d4c-6768e2cc8b8b",
    "deepnote_to_be_reexecuted": false,
    "source_hash": "a7d2581e",
    "execution_start": 1637103757719,
    "execution_millis": 1,
    "deepnote_cell_type": "code"
   },
   "source": "def szabi_solution(list_of_die_nummer):\n    lista2 = []\n    for i in list_of_die_nummer:\n        if i * 2 in list_of_die_nummer:\n            lista2.append(i)\n    if len(lista2) == 0:\n        return 0\n    else:\n        lista2.sort() \n        return lista2[0]\n    ",
   "execution_count": null,
   "outputs": []
  },
  {
   "cell_type": "code",
   "metadata": {
    "cell_id": "00024-db16c8a1-07e9-4929-904c-64a0275b7bd4",
    "deepnote_to_be_reexecuted": false,
    "source_hash": "8a2282b",
    "execution_start": 1637103761726,
    "execution_millis": 1632,
    "deepnote_cell_type": "code"
   },
   "source": "szabi.evaluate(szabi_solution)",
   "execution_count": null,
   "outputs": [
    {
     "name": "stdout",
     "text": "- success rate: 497/497 (100.0%)\n- error count: 0\n- best performance: 1\n- worst performance: 1\n- mean performance: 1.0\n",
     "output_type": "stream"
    }
   ]
  },
  {
   "cell_type": "markdown",
   "source": "## hako",
   "metadata": {
    "cell_id": "00025-e2137814-8b9d-4bbe-a5c7-b23389cdf4a6",
    "deepnote_cell_type": "markdown"
   }
  },
  {
   "cell_type": "code",
   "metadata": {
    "cell_id": "00026-59b4b8fd-2516-44f7-95f0-29e7f6df03de",
    "deepnote_cell_type": "code"
   },
   "source": "def hako_solution():\n    # modify this function\n    # return value and parameters and all\n    return 0",
   "execution_count": null,
   "outputs": []
  },
  {
   "cell_type": "code",
   "metadata": {
    "cell_id": "00027-859d5eed-621b-4bd8-9af9-1899dfaf88ac",
    "deepnote_cell_type": "code"
   },
   "source": "hako.evaluate(hako_solution)",
   "execution_count": null,
   "outputs": []
  },
  {
   "cell_type": "markdown",
   "source": "<a style='text-decoration:none;line-height:16px;display:flex;color:#5B5B62;padding:10px;justify-content:end;' href='https://deepnote.com?utm_source=created-in-deepnote-cell&projectId=978e47b7-a961-4dca-a945-499e8b781a34' target=\"_blank\">\n<img alt='Created in deepnote.com' style='display:inline;max-height:16px;margin:0px;margin-right:7.5px;' src='data:image/svg+xml;base64,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' > </img>\nCreated in <span style='font-weight:600;margin-left:4px;'>Deepnote</span></a>",
   "metadata": {
    "tags": [],
    "created_in_deepnote_cell": true,
    "deepnote_cell_type": "markdown"
   }
  }
 ],
 "nbformat": 4,
 "nbformat_minor": 2,
 "metadata": {
  "kernelspec": {
   "display_name": "Python 3",
   "language": "python",
   "name": "python3"
  },
  "language_info": {
   "codemirror_mode": {
    "name": "ipython",
    "version": 3
   },
   "file_extension": ".py",
   "mimetype": "text/x-python",
   "name": "python",
   "nbconvert_exporter": "python",
   "pygments_lexer": "ipython3",
   "version": "3.9.0"
  },
  "deepnote_notebook_id": "d755425d-60ee-4b95-959d-a5421ced5931",
  "deepnote": {},
  "deepnote_execution_queue": []
 }
}