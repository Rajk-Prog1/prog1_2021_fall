{
 "cells": [
  {
   "cell_type": "markdown",
   "source": "#### A\nTe megoldásod: $\\exists (F(x) \\land N(x)) \\land \\exists (P(f, y) \\Leftrightarrow P(n, y)) \\land N(p)$",
   "metadata": {
    "cell_id": "00000-964c276a-8215-46a6-bc02-0334ff6767e5",
    "deepnote_cell_type": "markdown"
   }
  },
  {
   "cell_type": "markdown",
   "source": "Visszajelzés:\n- A kvantorok után közvetlenül szükség van egy kötött paraméterre, majd egy zárójelre, amelyen belülre kerül az összes arra a paraméterre vonatkozó állítás, tehát $\\exists x (\\textit{ide jönnek az állítások, amikben  x szerepel})$, és ezt a paramétert konzisztensen kell használni.\n- Te a kvantorok után lehagytad a paramétert, a továbbiakban odaképzeljük.\n- A kifejezés első tagja (helyesen $\\exists x (F(x) \\land N(x))$) azt jelenti, hogy van olyan $x$, aki nő is, és férfi is. Ez a rész nincs benne az állításban és felesleges.\n- A második tagjával (helyesen $\\exists y(P(f, y) \\Leftrightarrow P(n, y))$) két tartalmi probléma van:\n    - $f$ és $n$ helyett $k$-t és $d$-t kell írni, mert az állítás úgy szólt, hogy nekik van közös lányuk (ezek konstansok, mint az algebrában pl. a 2 és a 3, azokat sem lehetne kicserélni mondjuk 4-re és 5-re)\n    - az ekvivalencia itt nem jó, mert az akkor is igaz, ha egyik állítás sem igaz külön-külön, helyette $\\land$-t kell használni\n- Az utolsó tagnak ($N(p)$) az előző zárójelen belül, és $p$ helyett $y$ paraméterrel kell szerepelnie, hiszen a ugyanúgy az $\\exists y$ hatáskörében van (*van olyan személy, aki $k$ és $d$ közös gyereke **és** nő.*)",
   "metadata": {
    "cell_id": "00001-982487b8-bba1-411b-80d6-6063c301ae79",
    "deepnote_cell_type": "markdown"
   }
  },
  {
   "cell_type": "markdown",
   "source": "#### B\nTe megoldásod: $\\nexists (F(x) \\land P(f, y)) \\land \\exists (N(x) \\land P(n, z))$",
   "metadata": {
    "cell_id": "00002-6c2d6f21-c13e-4018-bce1-fb81168bc86b",
    "deepnote_cell_type": "markdown"
   }
  },
  {
   "cell_type": "markdown",
   "source": "Visszajelzés:\n- Megint lehagytad a kvantorok után a paramétert.\n- Az $y$-hoz és $z$-hez is kell egy $\\exists$ kvantor, mert különben nyitott marad a formula, tehát az igazságértéke attól függ, mit helyettesítünk $y$ és $z$ helyére.\n- Ezeknek a kijavítása után a kifejezés azt jelentené, hogy \"*egy férfinak sincs gyereke, és van olyan nő, akinek van gyereke*\", ami nem felel meg a B állításnak.",
   "metadata": {
    "cell_id": "00003-4c69ccd5-7a72-4838-b987-7c90784d3088",
    "deepnote_cell_type": "markdown"
   }
  },
  {
   "cell_type": "markdown",
   "source": "#### C\nTe megoldásod: $\\exists (F(x) \\land N(x)) \\land \\exists (P(f, y) \\Leftrightarrow P(n, y)) \\land \\exists (F(x) \\land N(x)) \\land \\exists (P(f, z) \\Leftrightarrow P(n, z)) \\land N(y) \\land N(z)$",
   "metadata": {
    "cell_id": "00004-86d7a52e-d115-4f56-8ac5-73a7309741e0",
    "deepnote_cell_type": "markdown"
   }
  },
  {
   "cell_type": "markdown",
   "source": "Visszajelzés:\n- A $\\exists (F(x) \\land N(x))$ továbbra is felesleges.\n- A kvantorok után itt is lehagytad a paramétereket ($\\exists y (...)$ és $\\exists z (...)$).\n- Az ekvivalencia helyett itt is $\\land$-t kell használni az A-ban leírtak miatt.\n- $f$-hez és $n$-hez is kell a $\\exists$ kvantor a B-ben leírtak miatt.\n- A végén $N(y)$-nek és $N(z)$-nek a $\\exists y$, illetve $\\exists z$-hez tartozó zárójelen belül kell szerepelniük, mert ezekre a paraméterekre vonatkozik az állítás.\n- A C állítás csak azt mondja ki, hogy *egynemű* testvérekről van szó, akik nem feltétlenül nők. Tehát itt az $\\land$ helyett $\\Leftrightarrow$-t kell használni, vagy kibontani, hogy *vagy mindkettő nő, vagy mindkettő férfi*.",
   "metadata": {
    "cell_id": "00005-efedb23f-5886-465d-92f7-ea8c074a0cc8",
    "deepnote_cell_type": "markdown"
   }
  },
  {
   "cell_type": "markdown",
   "source": "#### D\nTe megoldásod: $\\forall (N(x) \\land P(n, y))$",
   "metadata": {
    "cell_id": "00006-e4094447-8e7a-4d8a-a9d9-630a5cb39656",
    "deepnote_cell_type": "markdown"
   }
  },
  {
   "cell_type": "markdown",
   "source": "Visszajelzés:\n- Továbbra is kell a paraméter a kvantor után ($\\forall x (...)$).\n- A $P()$ predikátumban $x$-et felcserélted $n$-re.\n- $y$-hoz kell a $\\exists$ kvantor a korábban leírtak miatt.\n- Ezeknek a kijavítása után pedig azt jelenti a kifejezés, hogy \"*mindenki nő, és van gyereke*\", ami nem felel meg a D állításnak.",
   "metadata": {
    "cell_id": "00007-10d0b116-e293-48b1-a16f-10b36597f972",
    "deepnote_cell_type": "markdown"
   }
  },
  {
   "cell_type": "markdown",
   "source": "#### E\nTe megoldásod: $\\exists (F(x) \\land P(x, y) \\land P(y, m) \\land P(y, n)) F(m) \\land N(n)$",
   "metadata": {
    "cell_id": "00008-cb72879b-52c0-4005-a55f-7cba86fd6734",
    "deepnote_cell_type": "markdown"
   }
  },
  {
   "cell_type": "markdown",
   "source": "Visszajelzés:\n- Az E állítás szerint $k$-nak vannak unokái. Itt $k$ egy konstans, mint az A-ban, tehát ezt a betűt kell használni, és nem kell hozzá kvantor (egy konkrét személyről mondunk valamit, lehetne *Kati* is).\n- Az $F(x)$ fölösleges és téves is, nem állítottuk, hogy $k$ férfi.\n- $y$-hoz, $m$-hez és $n$-hez is kell a $\\exists$ kvantor.\n- A végén az $F(m) \\land N(n)$ állítást a zárójelen belül, $\\land$-sel össze kell kötni a kifejezés többi részével.",
   "metadata": {
    "cell_id": "00009-7f301c77-d7de-48a3-bd9b-92a7a8db4a69",
    "deepnote_cell_type": "markdown"
   }
  },
  {
   "cell_type": "markdown",
   "source": "<a style='text-decoration:none;line-height:16px;display:flex;color:#5B5B62;padding:10px;justify-content:end;' href='https://deepnote.com?utm_source=created-in-deepnote-cell&projectId=978e47b7-a961-4dca-a945-499e8b781a34' target=\"_blank\">\n<img alt='Created in deepnote.com' style='display:inline;max-height:16px;margin:0px;margin-right:7.5px;' src='data:image/svg+xml;base64,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' > </img>\nCreated in <span style='font-weight:600;margin-left:4px;'>Deepnote</span></a>",
   "metadata": {
    "tags": [],
    "created_in_deepnote_cell": true,
    "deepnote_cell_type": "markdown"
   }
  }
 ],
 "nbformat": 4,
 "nbformat_minor": 4,
 "metadata": {
  "kernelspec": {
   "display_name": "Python 3 (ipykernel)",
   "language": "python",
   "name": "python3"
  },
  "language_info": {
   "codemirror_mode": {
    "name": "ipython",
    "version": 3
   },
   "file_extension": ".py",
   "mimetype": "text/x-python",
   "name": "python",
   "nbconvert_exporter": "python",
   "pygments_lexer": "ipython3",
   "version": "3.8.10"
  },
  "deepnote_notebook_id": "ad4f72ec-b727-41ed-97f0-ce2c13c5bf05",
  "deepnote": {},
  "deepnote_execution_queue": []
 }
}