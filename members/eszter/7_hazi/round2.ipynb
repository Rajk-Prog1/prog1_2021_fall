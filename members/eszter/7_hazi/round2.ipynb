{
 "cells": [
  {
   "cell_type": "code",
   "metadata": {
    "cell_id": "00000-998a9836-050d-4656-9d77-5328997c146e",
    "deepnote_to_be_reexecuted": false,
    "source_hash": "35fd486b",
    "execution_start": 1637249729811,
    "execution_millis": 11080495,
    "deepnote_cell_type": "code"
   },
   "source": "import sys\nsys.path.insert(0, '/work/prog1_2021_fall/materials/others/')\nfrom __import_file__ import mbence\nfrom __import_file__ import dani\nfrom __import_file__ import bogi\nfrom __import_file__ import katinka\nfrom __import_file__ import keve\nfrom __import_file__ import dorka\nfrom __import_file__ import eszter\nfrom __import_file__ import szabi\nfrom __import_file__ import hako",
   "outputs": [],
   "execution_count": null
  },
  {
   "cell_type": "markdown",
   "source": "## mbence",
   "metadata": {
    "cell_id": "00001-d145fd8c-aeb2-45d6-8a8a-3e6c90118176",
    "deepnote_cell_type": "markdown"
   }
  },
  {
   "cell_type": "code",
   "metadata": {
    "cell_id": "00002-af3aa8e7-ac11-4eca-bd28-31cd1ef5bffb",
    "deepnote_to_be_reexecuted": false,
    "source_hash": "a0793098",
    "execution_start": 1637249737926,
    "execution_millis": 549,
    "deepnote_cell_type": "code"
   },
   "source": "def mbence_solution(list_of_strings; number):\n    # modify this function\n    # return value and parameters and all\n    elso=0\n    masodik=1\n    for szo in list_of_strings:\n        harmadik=2\n        for elem in list_of_strings:\n            if \n    return 0",
   "outputs": [
    {
     "output_type": "error",
     "ename": "SyntaxError",
     "evalue": "invalid syntax (<ipython-input-2-5bf671b7eaa4>, line 1)",
     "traceback": [
      "\u001b[0;36m  File \u001b[0;32m\"<ipython-input-2-5bf671b7eaa4>\"\u001b[0;36m, line \u001b[0;32m1\u001b[0m\n\u001b[0;31m    def mbence_solution(list_of_strings; number):\u001b[0m\n\u001b[0m                                       ^\u001b[0m\n\u001b[0;31mSyntaxError\u001b[0m\u001b[0;31m:\u001b[0m invalid syntax\n"
     ]
    }
   ],
   "execution_count": null
  },
  {
   "cell_type": "code",
   "metadata": {
    "cell_id": "00003-84909046-b408-4c92-aec7-fc3d3dab4262",
    "deepnote_to_be_reexecuted": false,
    "source_hash": "8d319ea3",
    "execution_start": 1637249738555,
    "execution_millis": 94,
    "deepnote_cell_type": "code"
   },
   "source": "mbence.evaluate(mbence_solution)",
   "outputs": [
    {
     "output_type": "error",
     "ename": "NameError",
     "evalue": "name 'mbence_solution' is not defined",
     "traceback": [
      "\u001b[0;31m---------------------------------------------------------------------------\u001b[0m",
      "\u001b[0;31mNameError\u001b[0m                                 Traceback (most recent call last)",
      "\u001b[0;32m<ipython-input-3-436661386fda>\u001b[0m in \u001b[0;36m<module>\u001b[0;34m\u001b[0m\n\u001b[0;32m----> 1\u001b[0;31m \u001b[0mmbence\u001b[0m\u001b[0;34m.\u001b[0m\u001b[0mevaluate\u001b[0m\u001b[0;34m(\u001b[0m\u001b[0mmbence_solution\u001b[0m\u001b[0;34m)\u001b[0m\u001b[0;34m\u001b[0m\u001b[0;34m\u001b[0m\u001b[0m\n\u001b[0m",
      "\u001b[0;31mNameError\u001b[0m: name 'mbence_solution' is not defined"
     ]
    }
   ],
   "execution_count": null
  },
  {
   "cell_type": "markdown",
   "source": "## dani",
   "metadata": {
    "cell_id": "00004-e75f3cd8-37b5-45cf-9538-7554e8027617",
    "deepnote_cell_type": "markdown"
   }
  },
  {
   "cell_type": "code",
   "metadata": {
    "cell_id": "00005-937e9de6-4193-4599-bbd9-e42a7e548a5a",
    "deepnote_to_be_reexecuted": false,
    "source_hash": "ed48849b",
    "execution_start": 1637239050242,
    "execution_millis": 3,
    "deepnote_cell_type": "code"
   },
   "source": "def dani_solution(list_of_int):\n    # modify this function\n    # return value and parameters and all\n    new_list=[]\n    for i in (list_of_int):\n        new_list.append(int(i))\n    new_list.sort()\n    elso=(int(new_list[:1]))*(int(new_list[:2]))\n    masodik=(int(new_list[-1]))*(int(new_list[-2]))\n    return (max(elso, masodik))",
   "outputs": [],
   "execution_count": null
  },
  {
   "cell_type": "code",
   "source": "dani.evaluate(dani_solution)",
   "metadata": {
    "tags": [],
    "cell_id": "00006-0b2fea5f-5de0-4e56-b58c-dfca979c3984",
    "deepnote_to_be_reexecuted": false,
    "source_hash": "cadcf404",
    "execution_start": 1637239050951,
    "execution_millis": 153,
    "deepnote_cell_type": "code"
   },
   "outputs": [
    {
     "name": "stdout",
     "text": "- success rate: 0/497 (0.0%)\n- error count: 497\n\n\n ERROR at: \n {'list_of_numbers': [0, 1, 2, 3, 4]} \n - TypeError (int() argument must be a string, a bytes-like object or a number, not 'list')\n\n\n ERROR at: \n {'list_of_numbers': [0, 0, 10, 3, 10]} \n - TypeError (int() argument must be a string, a bytes-like object or a number, not 'list')\n\n\n ERROR at: \n {'list_of_numbers': [-20, -40, 0, 1, 2, 3, 40]} \n - TypeError (int() argument must be a string, a bytes-like object or a number, not 'list')\n\n\n ERROR at: \n {'list_of_numbers': [-1100, 100, 20]} \n - TypeError (int() argument must be a string, a bytes-like object or a number, not 'list')\n\n\n ERROR at: \n {'list_of_numbers': [0, 1]} \n - TypeError (int() argument must be a string, a bytes-like object or a number, not 'list')\n\n\n ERROR at: \n {'list_of_numbers': [21, 120, 220]} \n - TypeError (int() argument must be a string, a bytes-like object or a number, not 'list')\n\n\n ERROR at: \n {'list_of_numbers': [720, -816, 764, 327, -818, -351, -220, 699, -633, 413]} \n - TypeError (int() argument must be a string, a bytes-like object or a number, not 'list')\n\n\n ERROR at: \n {'list_of_numbers': [844, -424, 6, -713, 167, 794, -328, -331, 999, 874, 914]} \n - TypeError (int() argument must be a string, a bytes-like object or a number, not 'list')\n\n\n ERROR at: \n {'list_of_numbers': [-230, -248, -708, -606, 952, 949, 233, -89, -683, -30, -19, 598]} \n - TypeError (int() argument must be a string, a bytes-like object or a number, not 'list')\n\n\n ERROR at: \n {'list_of_numbers': [-521, 11, -707, 614, 151, -415, 923, 775, -446, 402, -339, -614, 180]} \n - TypeError (int() argument must be a string, a bytes-like object or a number, not 'list')\n",
     "output_type": "stream"
    }
   ],
   "execution_count": null
  },
  {
   "cell_type": "markdown",
   "source": "## bogi",
   "metadata": {
    "cell_id": "00007-60d1673f-85f9-42af-a96d-022dd822f91e",
    "deepnote_cell_type": "markdown"
   }
  },
  {
   "cell_type": "code",
   "metadata": {
    "cell_id": "00008-d6d3c08f-9c71-47e9-b4a1-c442ce0095db",
    "deepnote_to_be_reexecuted": false,
    "source_hash": "35ecf6cf",
    "execution_start": 1636503321841,
    "execution_millis": 2,
    "deepnote_cell_type": "code"
   },
   "source": "def bogi_solution(list_of_numbers):\n    # modify this function\n    # return value and parameters and all\n    result=0\n    for i in list_of_numbers:\n        if i>0 and i%2==1:\n            result=result+i\n    return result",
   "execution_count": null,
   "outputs": []
  },
  {
   "cell_type": "code",
   "metadata": {
    "cell_id": "00009-cdae3862-3767-48f9-93b7-408115d0e232",
    "deepnote_to_be_reexecuted": false,
    "source_hash": "77f6887",
    "execution_start": 1636503332293,
    "execution_millis": 183,
    "deepnote_cell_type": "code"
   },
   "source": "bogi.evaluate(bogi_solution)",
   "execution_count": null,
   "outputs": [
    {
     "name": "stdout",
     "text": "- success rate: 102/497 (21.0%)\n- error count: 0\n- best performance: 1\n- worst performance: 0\n- mean performance: 0.2052313883299799\n\n\n BAD SOLUTION at: \n {'list_of_numbers': [846, 113, 501, 528, -118, -860, -816, 891, 389, -137, -489, 697, 548, 515, 474, 697, 116, 88]}\n\n\n BAD SOLUTION at: \n {'list_of_numbers': [976, -473, 679, -558, -666, -356, 500, -778, 623, 167, -853, -738, 410, -526, -258, 928, 417, 973, -590, -150, 167, -418]}\n\n\n BAD SOLUTION at: \n {'list_of_numbers': [-860, -387, -976, 209, -781, 301, 362, 695, 415, 485, -255, 815, 793, -925, -786, -308, -324, -968, -250, -375, 485, 962, -968, -477, -71]}\n\n\n BAD SOLUTION at: \n {'list_of_numbers': [-572, -190, -839, -501, 486, 553, 675, 543, 161, -64, 497, 947, -893, -332, 614, -231, -428, -695, 543, -644, -932, -394, -71, -351, 704, -44, -25, 926, 294, -586, -520, 540, -542, 57, -366, -420, -904, 307, -909, 483, -710, -144, -354, -464]}\n\n\n BAD SOLUTION at: \n {'list_of_numbers': [-763, -929, -493, 90, 376, -185, -674, 470, 537, -446, -495, -818, -375, -902, 814, -517, 82, 103, 214, 293, -614, 530, 465, -756, 110, -57, 7, 184, 466, 507, -41, 748, -972, -119, 239, 293, 189, 165, -808, 939, 259, 185, -905, -100, -114, -697, 320, 920, -739, -367, 557, 856, 167, -390, 414, 941, 737, -144, 432]}\n\n\n BAD SOLUTION at: \n {'list_of_numbers': [-71, -778, -950, 490, 832, -96, -3, 757, -29, 706, -266, -926, -483, -235, 100, -151, 521, 734, 237, 539, -493, -533, -447, 188, 211, 985, 231, -129, -450, 434, -343, -646, -684, 421, -689, -514, 915, 326, -681, 13, 82, 480, -400, 939, -168, -900, 642, -288, 478, -76, -667, 939, 275, 26, 917, 647, -563, -803, -120, 46, 160]}\n\n\n BAD SOLUTION at: \n {'list_of_numbers': [387, 108, 572, 645, 676, -470, -462, -326, 452, -562, -547, 99, 675, -690, -412, -190, -396, -130, -576, -352, -416, 15, 729, -777, 287, -629, 191, 454, 722, -159, 259, -241, 381, 958, -348, -377, -552, 84, 56, -694, -490, 727, 427, -402, -771, -503, -355, 437, 473, -179, 30, 727, -309, 377, -7, -214, -859, -637, 175, 247, 605, -794, 138]}\n\n\n BAD SOLUTION at: \n {'list_of_numbers': [-903, -580, -544, -769, -606, -937, 553, -513, -310, -679, 527, 776, 852, 745, -204, -8, -665, -345, -248, -948, -746, 121, 589, -415, 130, -587, 247, 222, 187, -937, 121, 252, -71, 72, -835, 786, 651, -152, -112, 464, 522, 321, -263, 209, -24, -797, 602, 95, 766, 661, 577, -625, 957, -813, 540, 847, 600, 690, 975, 622, 238, -713, 307, 915, -24, 415, -868]}\n\n\n BAD SOLUTION at: \n {'list_of_numbers': [-402, 756, -966, 708, -930, 549, -569, -487, 319, -935, -453, 342, -168, -286, 523, 742, 857, 211, -431, 85, -165, -392, 874, 713, 276, -998, -742, 85, 1000, -950, 606, -160, 527, 260, 389, 229, -165, 582, 450, -672, 847, 939, -566, 21, 654, 106, -675, -112, 970, 446, 405, 594, 208, 113, 738, 890, 158, -229, 881, -683, -822, -754, 332, 107, -703, 334, -31, 563, -620]}\n\n\n BAD SOLUTION at: \n {'list_of_numbers': [468, -204, -251, -588, 468, 113, 626, -195, -314, 375, 281, 381, -356, 121, 949, -837, -610, -813, -980, 221, 984, -80, 808, -658, -989, -158, 467, 122, 934, -529, -985, 519, 551, -874, -97, -111, 563, 242, -75, 828, 577, -895, -420, -395, -901, 333, -183, -688, -518, -114, -754, -141, -949, -745, 849, -779, 498, 290, -350, -217, 128, -885, -265, -865, -858, -323, 687, -240, -201, -404, 221, 696, 317, 955, 616]}\n",
     "output_type": "stream"
    }
   ]
  },
  {
   "cell_type": "markdown",
   "source": "## katinka",
   "metadata": {
    "cell_id": "00010-f566bc4f-f4f9-44af-b482-581874a80b9d",
    "deepnote_cell_type": "markdown"
   }
  },
  {
   "cell_type": "code",
   "metadata": {
    "cell_id": "00011-a5896766-4e91-4638-aa0e-3b235fc488c0",
    "deepnote_to_be_reexecuted": false,
    "source_hash": "77cba79c",
    "execution_start": 1636503341893,
    "execution_millis": 253,
    "deepnote_cell_type": "code"
   },
   "source": "def katinka_solution(list_of_int):\n    # modify this function\n    # return value and parameters and all\n    list_of_int=list_of_int.sort(reverse=True)\n    a=0\n    b=(list_of_int[a-1])\n    if b>0:\n        new_list=[list_of_int[a-1]]\n    if b\n    return 0",
   "execution_count": null,
   "outputs": [
    {
     "output_type": "error",
     "ename": "SyntaxError",
     "evalue": "invalid syntax (<ipython-input-11-6df4921b2664>, line 9)",
     "traceback": [
      "\u001b[0;36m  File \u001b[0;32m\"<ipython-input-11-6df4921b2664>\"\u001b[0;36m, line \u001b[0;32m9\u001b[0m\n\u001b[0;31m    if b\u001b[0m\n\u001b[0m        ^\u001b[0m\n\u001b[0;31mSyntaxError\u001b[0m\u001b[0;31m:\u001b[0m invalid syntax\n"
     ]
    }
   ]
  },
  {
   "cell_type": "code",
   "metadata": {
    "cell_id": "00012-27786e53-cab8-4a71-ae35-909c54917d07",
    "deepnote_cell_type": "code"
   },
   "source": "katinka.evaluate(katinka_solution)",
   "execution_count": null,
   "outputs": []
  },
  {
   "cell_type": "markdown",
   "source": "## keve\n#### find the number of strings in a list of strings that contain a given letter\n\nupper or lower case\n\n> ```[\"abfg\", \"Bcd\", \"Ijk\"], \"b\" -> 2```",
   "metadata": {
    "cell_id": "00013-7fc418c7-d341-4ff5-b659-62ff4f088676",
    "deepnote_cell_type": "markdown"
   }
  },
  {
   "cell_type": "code",
   "metadata": {
    "cell_id": "00014-9f83eb8d-1bf4-4e85-a92c-3f3acf9bdf75",
    "deepnote_cell_type": "code"
   },
   "source": "def keve_solution(list_of_strings, letter):\n    # modify this function\n    # return value and parameters and all\n    return 0",
   "execution_count": null,
   "outputs": []
  },
  {
   "cell_type": "code",
   "metadata": {
    "cell_id": "00015-100c0441-475e-4dd1-a521-64917cf80110",
    "deepnote_cell_type": "code"
   },
   "source": "keve.evaluate(keve_solution)",
   "execution_count": null,
   "outputs": []
  },
  {
   "cell_type": "markdown",
   "source": "## dorka",
   "metadata": {
    "cell_id": "00016-9f79a9a0-e717-4911-b32c-d506876566f9",
    "deepnote_cell_type": "markdown"
   }
  },
  {
   "cell_type": "code",
   "metadata": {
    "cell_id": "00017-b1536535-c861-44a9-94b5-b86ce806bdaa",
    "deepnote_cell_type": "code"
   },
   "source": "def dorka_solution():\n    # modify this function\n    # return value and parameters and all\n    return 0",
   "execution_count": null,
   "outputs": []
  },
  {
   "cell_type": "code",
   "metadata": {
    "cell_id": "00018-494c72c9-7bb9-440a-8783-e7e098b6979b",
    "deepnote_cell_type": "code"
   },
   "source": "dorka.evaluate(dorka_solution)",
   "execution_count": null,
   "outputs": []
  },
  {
   "cell_type": "markdown",
   "source": "## eszter",
   "metadata": {
    "cell_id": "00019-f23d8bfe-0fce-452f-bb39-5513fe75d293",
    "deepnote_cell_type": "markdown"
   }
  },
  {
   "cell_type": "code",
   "metadata": {
    "cell_id": "00020-6383429e-454e-43db-bfd6-da0cac49a3a7",
    "deepnote_cell_type": "code"
   },
   "source": "def eszter_solution():\n    # modify this function\n    # return value and parameters and all\n    return 0",
   "execution_count": null,
   "outputs": []
  },
  {
   "cell_type": "code",
   "metadata": {
    "cell_id": "00021-900a34fd-735e-49cb-acf9-6a4c68067919",
    "deepnote_cell_type": "code"
   },
   "source": "eszter.evaluate(eszter_solution)",
   "execution_count": null,
   "outputs": []
  },
  {
   "cell_type": "markdown",
   "source": "## szabi",
   "metadata": {
    "cell_id": "00022-63d79192-33fa-44d4-998d-8458cbf63b7e",
    "deepnote_cell_type": "markdown"
   }
  },
  {
   "cell_type": "code",
   "metadata": {
    "cell_id": "00023-478d0647-d4f5-448e-8a43-d5a31f858ce0",
    "deepnote_cell_type": "code"
   },
   "source": "def szabi_solution():\n    # modify this function\n    # return value and parameters and all\n    return 0",
   "execution_count": null,
   "outputs": []
  },
  {
   "cell_type": "code",
   "metadata": {
    "cell_id": "00024-6128126a-e640-4ccb-9b24-768426793560",
    "deepnote_cell_type": "code"
   },
   "source": "szabi.evaluate(szabi_solution)",
   "execution_count": null,
   "outputs": []
  },
  {
   "cell_type": "markdown",
   "source": "## hako",
   "metadata": {
    "cell_id": "00025-c8db5771-833b-4ce9-b714-a4d25f425966",
    "deepnote_cell_type": "markdown"
   }
  },
  {
   "cell_type": "code",
   "metadata": {
    "cell_id": "00026-e8731086-812b-42ec-b010-2958561cddc8",
    "deepnote_cell_type": "code"
   },
   "source": "def hako_solution():\n    # modify this function\n    # return value and parameters and all\n    return 0",
   "execution_count": null,
   "outputs": []
  },
  {
   "cell_type": "code",
   "metadata": {
    "cell_id": "00027-9192006a-cdd1-4ee8-a0c7-522a27feb777",
    "deepnote_cell_type": "code"
   },
   "source": "hako.evaluate(hako_solution)",
   "execution_count": null,
   "outputs": []
  },
  {
   "cell_type": "markdown",
   "source": "<a style='text-decoration:none;line-height:16px;display:flex;color:#5B5B62;padding:10px;justify-content:end;' href='https://deepnote.com?utm_source=created-in-deepnote-cell&projectId=978e47b7-a961-4dca-a945-499e8b781a34' target=\"_blank\">\n<img alt='Created in deepnote.com' style='display:inline;max-height:16px;margin:0px;margin-right:7.5px;' src='data:image/svg+xml;base64,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' > </img>\nCreated in <span style='font-weight:600;margin-left:4px;'>Deepnote</span></a>",
   "metadata": {
    "tags": [],
    "created_in_deepnote_cell": true,
    "deepnote_cell_type": "markdown"
   }
  }
 ],
 "nbformat": 4,
 "nbformat_minor": 2,
 "metadata": {
  "kernelspec": {
   "display_name": "Python 3",
   "language": "python",
   "name": "python3"
  },
  "language_info": {
   "codemirror_mode": {
    "name": "ipython",
    "version": 3
   },
   "file_extension": ".py",
   "mimetype": "text/x-python",
   "name": "python",
   "nbconvert_exporter": "python",
   "pygments_lexer": "ipython3",
   "version": "3.9.0"
  },
  "deepnote_notebook_id": "263f6573-99bf-4654-8189-e8c209ffaff8",
  "deepnote": {},
  "deepnote_execution_queue": []
 }
}