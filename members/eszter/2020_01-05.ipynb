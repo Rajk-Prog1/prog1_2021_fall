{
 "cells": [
  {
   "cell_type": "code",
   "execution_count": 8,
   "id": "b629314d",
   "metadata": {},
   "outputs": [
    {
     "name": "stdout",
     "output_type": "stream",
     "text": [
      "111605670\n",
      "111605670\n",
      "111605670\n",
      "111605670\n",
      "111605670\n",
      "111605670\n"
     ]
    }
   ],
   "source": [
    "with open('2020_01.txt', 'r') as fp:\n",
    "    data = fp.read()\n",
    "adat=list(data.split(\"\\n\"))\n",
    "for i in range(len(adat)):\n",
    "    adat[i] = int(adat[i])\n",
    "for i in adat:\n",
    "    for e in adat:\n",
    "        for a in adat:\n",
    "            if i+e+a==2020:\n",
    "                print (i*e*a)"
   ]
  },
  {
   "cell_type": "code",
   "execution_count": 25,
   "id": "76513a4d",
   "metadata": {},
   "outputs": [
    {
     "name": "stdout",
     "output_type": "stream",
     "text": [
      "708\n"
     ]
    }
   ],
   "source": [
    "data = open(\"2020_02.txt\", \"r\")\n",
    "lines = data.read()\n",
    "adat = lines.splitlines()\n",
    "data.close()\n",
    "jo = []\n",
    "for i in adat:\n",
    "    key, value = i.split(\": \")\n",
    "    k1, k2 = key.split(\" \")[0].split(\"-\")\n",
    "    k = key.split(\" \")[1]\n",
    "    if (value[int(k1)-1]==k) ^ (value[int(k2)-1]==k):\n",
    "        jo.append(value)\n",
    "print (len(jo))\n"
   ]
  },
  {
   "cell_type": "code",
   "execution_count": 37,
   "id": "ae002b24",
   "metadata": {},
   "outputs": [
    {
     "name": "stdout",
     "output_type": "stream",
     "text": [
      "167\n",
      "736527114\n"
     ]
    }
   ],
   "source": [
    "with open(\"2020_03.txt\", 'r') as fp:\n",
    "    adat = fp.read().splitlines() \n",
    "\n",
    "utak = ((1, 1), (3, 1), (5, 1), (7, 1), (1, 2))\n",
    "\n",
    "tree_counter = []\n",
    "for ut in utak:\n",
    "    c = 0\n",
    "    for v in range(0, len(adat), ut[1]):\n",
    "        h = int(divmod((v / ut[1]) * ut[0], len(adat[v]))[1])\n",
    "        value = adat[v][h]\n",
    "        if value == \"#\":\n",
    "            c += 1\n",
    "    tree_counter.append(c)\n",
    "\n",
    "print(tree_counter[1])\n",
    "print(math.prod(tree_counter))"
   ]
  },
  {
   "cell_type": "code",
   "execution_count": 79,
   "id": "53981872",
   "metadata": {},
   "outputs": [
    {
     "name": "stdout",
     "output_type": "stream",
     "text": [
      "[]\n",
      "147\n"
     ]
    }
   ],
   "source": [
    "with open(\"2020_04.txt\", 'r') as fp:\n",
    "    data = fp.read()\n",
    "adat_sima=list(data.split(\"\\n\\n\"))\n",
    "adat = [string.replace(\"\\n\", \" \") for string in adat_sima]\n",
    "adat_jo = [string.split() for string in adat]\n",
    "def convert_to_dictionary(password):\n",
    "    dictionary = {}\n",
    "    for item in password:\n",
    "        item_parts = item.split(\":\")\n",
    "        key = item_parts[0]\n",
    "        value = item_parts[1]\n",
    "        dictionary[key] = value\n",
    "        \n",
    "    return dictionary\n",
    "passports = [convert_to_dictionary(item) for item in adat_jo]\n",
    "byr=[]\n",
    "for i in adat_jo:\n",
    "    if \"byr\" in i:\n",
    "        byr.append(i)\n",
    "iyr=[]\n",
    "for i in byr:\n",
    "    if \"iyr\" in i:\n",
    "        iyr.append(i)\n",
    "eyr=[]\n",
    "for i in iyr:\n",
    "    if \"eyr\" in i:\n",
    "        eyr.append(i)\n",
    "hgt=[]\n",
    "for i in eyr:\n",
    "    if \"hgt\" in i:\n",
    "        hgt.append(i)\n",
    "hcl=[]\n",
    "for i in hgt:\n",
    "    if \"hcl\" in i:\n",
    "        hcl.append(i)\n",
    "ecl=[]\n",
    "for i in hcl:\n",
    "    if \"ecl\" in i:\n",
    "        ecl.append(i)\n",
    "pid=[]\n",
    "for i in ecl:\n",
    "    if \"pid\" in i:\n",
    "        pid.append(i)\n",
    "print (pid)\n",
    "byr_jo=[]\n",
    "for i in pid:\n",
    "    if 1920<=int(passport[\"byr\"])<=2002:\n",
    "        byr_jo.append(i)\n",
    "iyr_jo=[]\n",
    "for i in byr_jo:\n",
    "    if 2010 <= int(passport[\"iyr\"]) <= 2020:\n",
    "        iyr_jo.append(i)\n",
    "eyr_jo=[]\n",
    "for i in iyr_jo:\n",
    "    if 2020 <= int(passport[\"eyr\"]) <= 2030:\n",
    "        eyr_jo.append(i)\n",
    "def valid_passport(passport):\n",
    "    has_valid_height = False\n",
    "    height_units = passport[\"hgt\"][-2:]\n",
    "    if height_units == \"cm\":\n",
    "        height = int(passport[\"hgt\"][:-2])\n",
    "        has_valid_height = 150 <= height <= 193\n",
    "    elif height_units == \"in\":\n",
    "        height = int(passport[\"hgt\"][:-2])\n",
    "        has_valid_height = 59 <= height <= 76\n",
    "        \n",
    "    def is_valid_hex_string(string):\n",
    "        test_value = string.lower()\n",
    "        is_valid = True\n",
    "\n",
    "        for character in string:\n",
    "            if character not in \"0123456789abcdef\":\n",
    "                is_valid = False\n",
    "                break\n",
    "\n",
    "        return is_valid\n",
    "        \n",
    "    has_valid_hair_color = False\n",
    "    if len(passport[\"hcl\"]) == 7:\n",
    "        digits = passport[\"hcl\"][1:]\n",
    "        has_valid_hair_color = is_valid_hex_string(digits)\n",
    "            \n",
    "    has_valid_eye_color = passport[\"ecl\"] in [\"amb\", \"blu\", \"brn\", \"gry\", \"grn\", \"hzl\", \"oth\"]\n",
    "    \n",
    "    def is_valid_passport_id(value):\n",
    "        is_valid = False\n",
    "        \n",
    "        if len(value) == 9:\n",
    "            is_valid = True\n",
    "\n",
    "            for character in value:\n",
    "                if character not in \"0123456789\":\n",
    "                    is_valid = False\n",
    "                    break\n",
    "        \n",
    "        return is_valid\n",
    "    \n",
    "    has_valid_passport_id = is_valid_passport_id(passport[\"pid\"])\n",
    "                \n",
    "        \n",
    "    return (has_valid_height and has_valid_hair_color and has_valid_eye_color and has_valid_passport_id)\n",
    "truly_valid_passports = [passport for passport in valid_passports if has_valid_values(passport)]\n",
    "print(len(truly_valid_passports))"
   ]
  },
  {
   "cell_type": "code",
   "execution_count": 95,
   "id": "63e1dc38",
   "metadata": {},
   "outputs": [
    {
     "name": "stdout",
     "output_type": "stream",
     "text": [
      "838\n"
     ]
    }
   ],
   "source": [
    "with open(\"2020_05.txt\", 'r') as fp:\n",
    "    data = fp.read()\n",
    "adat = data.split(\"\\n\")\n",
    "seats = [int(x.replace('F','0').replace('B','1').replace('L','0').replace('R','1'),2) for x in adat]\n",
    "seats.sort()\n",
    "print(seats[-1])"
   ]
  }
 ],
 "metadata": {
  "kernelspec": {
   "display_name": "Python 3 (ipykernel)",
   "language": "python",
   "name": "python3"
  },
  "language_info": {
   "codemirror_mode": {
    "name": "ipython",
    "version": 3
   },
   "file_extension": ".py",
   "mimetype": "text/x-python",
   "name": "python",
   "nbconvert_exporter": "python",
   "pygments_lexer": "ipython3",
   "version": "3.10.0"
  }
 },
 "nbformat": 4,
 "nbformat_minor": 5
}
