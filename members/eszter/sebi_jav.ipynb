{
 "cells": [
  {
   "cell_type": "markdown",
   "source": "**A) k-nak és d-nek van közös lánya:**  \n$\\exists y(N(y) \\land P(k,y) \\land P(d,y))$\n\n> Jó megoldás!",
   "metadata": {
    "tags": [],
    "cell_id": "00000-fd9595a5-a918-41cc-973b-6e28115dca91",
    "deepnote_cell_type": "markdown"
   }
  },
  {
   "cell_type": "markdown",
   "source": "**B) Csak a férfiak között vannak gyermektelenek:**  \n$\\forall x(\\exists y(N(x) \\land P(y,z))) \\land \\exists z(\\nexists u(F(z) \\land P(u,z)))$\n\n> * Az első részben így azt mondod, hogy mindeki nő és van gyereke.\n> * A predikátumon belül megcserélted a két paramétert.<br>`P(x,y): y személy x személy gyereke`\n> * Ha azt írod hogy $\\exists z(\\nexists u(F(z) \\land P(u,z)))$, akkor a $F(z)$-t nem kell a $\\nexists u(\\dots )$-n belül írnod. Ez segíti az értelmezést is.",
   "metadata": {
    "tags": [],
    "cell_id": "00001-a2b2e8f4-7c2c-437c-9066-6666eaced61b",
    "deepnote_cell_type": "markdown"
   }
  },
  {
   "cell_type": "markdown",
   "source": "**C) Vannak egynemű testvérek:**  \n$\\exists x(N(x) \\land P(a,x) \\land P(b,x)) \\exists y(N(y) \\land P(a,y) \\land P(b,y)) \\lor \\exists z(F(z) \\land P(c,z) \\land P(d,z)) \\exists u(F(u) \\land P(c,u) \\land P(d,u))$\n\n> * Szintaktikai hiba. A kvantorok között nincs semmilyen logikai művelet. Tehát nem írhatod azt, hogy $\\exists x(\\dots )\\exists y(\\dots )$\n> * $a$, $b$ , $c$ és $d$ paraméterek sehol sincsenek definiálva.\n> * Ki kell azt kötni, hogy a testvérpárok (tehát $x$ és $y$, valamint $z$ és $u$) nem ugyanazok a személyek. Tehát $x \\neq y$ és $z \\neq u$.",
   "metadata": {
    "tags": [],
    "cell_id": "00002-49146728-0bad-420d-b9e1-f9b3eb1f454a",
    "deepnote_cell_type": "markdown"
   }
  },
  {
   "cell_type": "markdown",
   "source": "**D) Minden nőnek van gyereke:**  \n$\\forall x(\\exists y(N(x) \\land P(y,x)))$\n\n> Így azt mondod, hogy mindenki nő és van gyereke.",
   "metadata": {
    "tags": [],
    "cell_id": "00003-c42142ac-20ad-49c1-ba7c-2d853309896e",
    "deepnote_cell_type": "markdown"
   }
  },
  {
   "cell_type": "markdown",
   "source": "**E) k-nak van lány és fiú unokája is:**  \n$\\exists l(N(l) \\land P(l,x)) \\exists f(F(f) \\land P(f,x)) \\land P(x,k) \\lor\n\\exists n(N(n) \\land P(n,y)) \\exists b(F(b) \\land P(b,z)) \\land P(y,k) \\land P(z,k)$\n\n> * Szintaktikai hiba. A kvantorok között nincs semmilyen logikai művelet. Tehát nem írhatod azt, hogy $\\exists x(\\dots )\\exists y(\\dots )$\n> * $x$, $y$ és $z$ paraméterek nincsenek definiálva.\n> * A predikátumon belül megcserélted a két paramétert.<br>`P(x,y): y személy x személy gyereke`",
   "metadata": {
    "tags": [],
    "cell_id": "00004-4f1fdd0d-9e05-4678-8c53-8b5e3822c2fc",
    "deepnote_cell_type": "markdown"
   }
  },
  {
   "cell_type": "markdown",
   "source": "<a style='text-decoration:none;line-height:16px;display:flex;color:#5B5B62;padding:10px;justify-content:end;' href='https://deepnote.com?utm_source=created-in-deepnote-cell&projectId=978e47b7-a961-4dca-a945-499e8b781a34' target=\"_blank\">\n<img alt='Created in deepnote.com' style='display:inline;max-height:16px;margin:0px;margin-right:7.5px;' src='data:image/svg+xml;base64,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' > </img>\nCreated in <span style='font-weight:600;margin-left:4px;'>Deepnote</span></a>",
   "metadata": {
    "tags": [],
    "created_in_deepnote_cell": true,
    "deepnote_cell_type": "markdown"
   }
  }
 ],
 "nbformat": 4,
 "nbformat_minor": 2,
 "metadata": {
  "orig_nbformat": 2,
  "deepnote": {
   "is_reactive": false
  },
  "deepnote_notebook_id": "2339f8d6-3f8c-494a-b72d-8afcc830dc78",
  "deepnote_execution_queue": []
 }
}