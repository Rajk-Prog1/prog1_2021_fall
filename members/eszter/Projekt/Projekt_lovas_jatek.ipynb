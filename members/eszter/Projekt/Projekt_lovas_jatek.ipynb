{
 "cells": [
  {
   "cell_type": "code",
   "metadata": {
    "cell_id": "af931648-c71a-4970-ba59-6fdbf382f7e7",
    "deepnote_to_be_reexecuted": false,
    "source_hash": "eb6f3ee7",
    "execution_start": 1643407013610,
    "execution_millis": 2572,
    "deepnote_cell_type": "code"
   },
   "source": "!pip install pygame",
   "execution_count": null,
   "outputs": [
    {
     "name": "stdout",
     "text": "Requirement already satisfied: pygame in /root/venv/lib/python3.7/site-packages (2.1.2)\n\u001b[33mWARNING: You are using pip version 20.1.1; however, version 21.3.1 is available.\nYou should consider upgrading via the '/root/venv/bin/python -m pip install --upgrade pip' command.\u001b[0m\n",
     "output_type": "stream"
    }
   ]
  },
  {
   "cell_type": "code",
   "metadata": {
    "cell_id": "00001-41f4cb0f-9932-4a5a-aa77-06a94b062167",
    "deepnote_to_be_reexecuted": false,
    "source_hash": "c87c4b1f",
    "execution_start": 1643407016196,
    "execution_millis": 6,
    "deepnote_cell_type": "code"
   },
   "source": "import pygame\nimport pygame.gfxdraw\nimport sys\nimport time\nimport random\nfrom pygame.locals import *\n\npygame.init()\nsize = width, height = 1152, 648\nblack = 0, 0, 0\nscreen = pygame.display.set_mode(size)\npygame.display.set_caption(\"A lovak világa\")\nbetu = pygame.font.Font(None,30)\nclock = pygame.time.Clock()\n\ndef jatek_1():\n    class Button:\n        def __init__(self,text,width,height,pos,elevation,action=None):\n            self.pressed = False\n            self.elevation = elevation\n            self.dynamic_elecation = elevation\n            self.original_y_pos = pos[1]\n\n            self.top_rect = pygame.Rect(pos,(width,height))\n            self.top_color = '#FEC879'\n\n            self.bottom_rect = pygame.Rect(pos,(width,height))\n            self.bottom_color = '#F9A61A'\n            self.text_surf = gui_font.render(text,True,'#FFFFFF')\n            self.text_rect = self.text_surf.get_rect(center = self.top_rect.center)\n        def open_game(self,action=None):\n            \n        def draw(self):\n            self.top_rect.y = self.original_y_pos - self.dynamic_elecation\n            self.text_rect.center = self.top_rect.center \n\n            self.bottom_rect.midtop = self.top_rect.midtop\n            self.bottom_rect.height = self.top_rect.height + self.dynamic_elecation\n\n            pygame.draw.rect(screen,self.bottom_color, self.bottom_rect,border_radius = 12)\n            pygame.draw.rect(screen,self.top_color, self.top_rect,border_radius = 12)\n            screen.blit(self.text_surf, self.text_rect)\n            self.check_click()\n        def check_click(self):\n            mouse_pos = pygame.mouse.get_pos()\n            if self.top_rect.collidepoint(mouse_pos):\n                self.top_color = '#AB4538'\n                if pygame.mouse.get_pressed()[0]:\n                    self.dynamic_elecation = 0\n                    self.pressed = True\n                else:\n                    self.dynamic_elecation = self.elevation\n                    if self.pressed == True:\n                        print('click')\n                        self.pressed = False\n            else:\n                self.dynamic_elecation = self.elevation\n                self.top_color = '#FEC879'\n    screen.fill((0,0,0))\n    button1 = Button('Lovaglás a pályán',200,40,(945,425),5)\n    button2 = Button('A ló testrészei',200,40,(740,560),5)\n    button3 = Button('A lótartás rejtelmei',200,40,(200,450),5)\n    button4 = Button('Kvíz',200,40,(255,150),5)\n    image_2 = pygame.image.load(r\"C:\\Users\\kaloe\\Pictures\\istálló.png\")\n    screen.blit(pygame.transform.scale(image_2, (1152, 648)), (0, 0))\n    while True:  \n        for event in pygame.event.get():\n            if event.type == pygame.QUIT:\n                pygame.quit()\n                sys.exit()\n        button1.draw()\n        button2.draw()\n        button3.draw()\n        button4.draw()\n        pygame.display.update()\n        clock.tick(60)\n\ndef jatek_0():\n    class Button:\n        def __init__(self,text,width,height,pos,elevation):\n            self.pressed = False\n            self.elevation = elevation\n            self.dynamic_elecation = elevation\n            self.original_y_pos = pos[1]\n\n            self.top_rect = pygame.Rect(pos,(width,height))\n            self.top_color = '#4E534C'\n\n            self.bottom_rect = pygame.Rect(pos,(width,height))\n            self.bottom_color = '#22484B'\n            self.text_surf = gui_font.render(text,True,'#FFFFFF')\n            self.text_rect = self.text_surf.get_rect(center = self.top_rect.center)\n        def draw(self):\n            self.top_rect.y = self.original_y_pos - self.dynamic_elecation\n            self.text_rect.center = self.top_rect.center \n\n            self.bottom_rect.midtop = self.top_rect.midtop\n            self.bottom_rect.height = self.top_rect.height + self.dynamic_elecation\n\n            pygame.draw.rect(screen,self.bottom_color, self.bottom_rect,border_radius = 12)\n            pygame.draw.rect(screen,self.top_color, self.top_rect,border_radius = 12)\n            screen.blit(self.text_surf, self.text_rect)\n            self.check_click()\n\n        def check_click(self):\n            mouse_pos = pygame.mouse.get_pos()\n            if self.top_rect.collidepoint(mouse_pos):\n                self.top_color = '#8A3413'\n                if pygame.mouse.get_pressed()[0]:\n                    self.dynamic_elecation = 0\n                    self.pressed = True\n                else:\n                    self.dynamic_elecation = self.elevation\n                    if self.pressed == True:\n                        jatek_1()==True\n                        print('click')\n                        self.pressed = False\n            else:\n                self.dynamic_elecation = self.elevation\n                self.top_color = '#4E534C'\n    button1 = Button('Irány a lovarda',200,40,(945,600),5)\n    image_1 = pygame.image.load(r\"C:\\Users\\kaloe\\Pictures\\a_lovak_vilaga.png\")\n    screen.blit(pygame.transform.scale(image_1, (1152, 648)), (0, 0))\n    while True:  \n        for event in pygame.event.get():\n            if event.type == pygame.QUIT:\n                pygame.quit()\n                sys.exit()\n        button1.draw()\n        pygame.display.update()\n        clock.tick(60)\njatek_0()",
   "execution_count": null,
   "outputs": [
    {
     "output_type": "error",
     "ename": "IndentationError",
     "evalue": "expected an indented block (<ipython-input-2-17d1c0a36969>, line 33)",
     "traceback": [
      "\u001b[0;36m  File \u001b[0;32m\"<ipython-input-2-17d1c0a36969>\"\u001b[0;36m, line \u001b[0;32m33\u001b[0m\n\u001b[0;31m    def draw(self):\u001b[0m\n\u001b[0m      ^\u001b[0m\n\u001b[0;31mIndentationError\u001b[0m\u001b[0;31m:\u001b[0m expected an indented block\n"
     ]
    }
   ]
  },
  {
   "cell_type": "code",
   "metadata": {
    "cell_id": "00002-31850648-8743-49a0-b0fb-d95a9e859e0a",
    "deepnote_to_be_reexecuted": true,
    "source_hash": "d0644ac3",
    "deepnote_cell_type": "code"
   },
   "source": "import pygame\nimport pygame.gfxdraw\nimport sys\nimport time\nimport random\nfrom pygame.locals import *\npygame.init()\n\ndef lovaglas_a_palyan():\n    size = width, height = 1152, 648\n    black = 0, 0, 0\n    screen = pygame.display.set_mode(size)\n    pygame.display.set_caption(\"A lovak világa\")\n    gui_font = pygame.font.Font(None,30)\n    clock = pygame.time.Clock()\n    field = pygame.image.load('field.jpg')\n\n    def load_image(sizex=-1, sizey=-1):\n        if sizex != -1 or sizey != -1:\n            image = pygame.transform.scale(image, (sizex, sizey))\n        return (image, image.get_rect())\n    def load_sprite_sheet(nx,ny,scalex = -1,scaley = -1):\n        sheet_rect = sheet.get_rect()\n\n        templates = []\n\n        sizex = sheet_rect.width/nx\n        sizey = sheet_rect.height/ny\n\n        for i in range(0,ny):\n            for j in range(0,nx):\n                rect = pygame.Rect((j*sizex,i*sizey,sizex,sizey))\n                image = pygame.Surface(rect.size)\n                image = image.convert()\n                image.blit(sheet,(0,0),rect)\n\n                if scalex != -1 or scaley != -1:\n                    image = pygame.transform.scale(image,(scalex,scaley))\n\n                templates.append(image)\n\n        sprite_rect = templates[0].get_rect()\n\n        return templates,sprite_rect\n\n    def disp_gameOver_msg(retbutton_image,gameover_image):\n        retbutton_rect = retbutton_image.get_rect()\n        retbutton_rect.centerx = width / 2\n        retbutton_rect.top = height*0.52\n\n        gameover_rect = gameover_image.get_rect()\n        gameover_rect.centerx = width / 2\n        gameover_rect.centery = height*0.35\n\n        screen.blit(retbutton_image, retbutton_rect)\n        screen.blit(gameover_image, gameover_rect)\n\n    class char():\n        def __init__(self,sizex=-1,sizey=-1):\n            char = pygame.image.load('gallop.png')\n            char = pygame.transform.scale(char, (315, 294))\n            self.image = self.images[0]\n            self.index = 0\n            self.counter = 0\n            self.score = 0\n            self.isJumping = False\n            self.isDead = False\n            self.movement = [0,0]\n            self.jumpSpeed = 10.0\n        def draw(self):\n            screen.blit(char, (self.image,self.rect))\n        def checkbounds(self):\n            if self.rect.bottom > int(0.98*height):\n                self.rect.bottom = int(0.98*height)\n                self.isJumping = False\n\n    class obstacle(pygame.sprite.Sprite):\n        def __init__(self,speed=5,sizex=-1,sizey=-1):\n            pygame.sprite.Sprite.__init__(self,self.containers)\n            self.images,self.rect = load_sprite_sheet('obstacle.png',3,1,sizex,sizey,-1)\n            self.rect.bottom = int(0.98*height)\n            self.rect.left = width + self.rect.width\n            self.image = self.images[random.randrange(0,3)]\n            self.movement = [-1*speed,0]\n\n        def draw(self):\n            screen.blit(self.image,self.rect)\n\n        def update(self):\n            self.rect = self.rect.move(self.movement)\n\n            if self.rect.right < 0:\n                self.kill()\n    class ground():\n        def __init__(self,speed=-5):\n            self.image,self.rect = load_image('ground.jpg',-1,-1,-1)\n            self.image1,self.rect1 = load_image('ground.jpg',-1,-1,-1)\n            self.rect.bottom = height\n            self.rect1.bottom = height\n            self.rect1.left = self.rect.right\n            self.speed = speed\n\n        def draw(self):\n            screen.blit(self.image,self.rect)\n            screen.blit(self.image1,self.rect1)\n\n        def update(self):\n            self.rect.left += self.speed\n            self.rect1.left += self.speed\n\n            if self.rect.right < 0:\n                self.rect.left = self.rect1.right\n\n            if self.rect1.right < 0:\n                self.rect1.left = self.rect.right\n    def gameplay():\n        gamespeed = 4\n        startMenu = False\n        gameOver = False\n        gameQuit = False\n        player = char (44,47)\n        new_ground = ground(-1*gamespeed)\n\n        obstacle_jump = pygame.sprite.Group()\n        last_obstacle = pygame.sprite.Group()\n\n        obstacle.containers = obstacle_jump\n\n        retbutton_image,retbutton_rect = load_image('replay.png',35,31,-1)\n        gameover_image,gameover_rect = load_image('game_over.png',190,11,-1)\n\n        HI_image = pygame.Surface((22,int(11*6/5)))\n        HI_rect = HI_image.get_rect()\n        HI_image.fill(background_col)\n        HI_image.blit(temp_images[10],temp_rect)\n        temp_rect.left += temp_rect.width\n        HI_image.blit(temp_images[11],temp_rect)\n        HI_rect.top = height*0.1\n        HI_rect.left = width*0.73\n        while not gameQuit:\n            while startMenu:\n                pass\n            while not gameOver:\n                if pygame.display.get_surface() == None:\n                    print(\"Nem sikerült betölteni a felüetet\")\n                    gameQuit = True\n                    gameOver = True\n                else:\n                    for event in pygame.event.get():\n                        if event.type == pygame.QUIT:\n                            gameQuit = True\n                            gameOver = True\n\n                        if event.type == pygame.KEYDOWN:\n                            if event.key == pygame.K_SPACE:\n                                if player.rect.bottom == int(0.98*height):\n                                    player.isJumping = True\n                                    player.movement[1] = -1*player.jumpSpeed\n\n                for o in obstacle_jump:\n                    o.movement[0] = -1*gamespeed\n                    if pygame.sprite.collide_mask(player,o):\n                        player.isDead = True\n\n                if len(obstacle_jump) < 2:\n                    if len(cacti) == 0:\n                        last_obstacle.empty()\n                        last_obstacle.add(obstacle(gamespeed,40,40))\n                    else:\n                        for l in last_obstacle:\n                            if l.rect.right < width*0.7 and random.randrange(0,50) == 10:\n                                last_obstacle.empty()\n                                last_obstacle.add(obstacle(gamespeed, 40, 40))\n\n                player.update()\n                obstacle_jump.update()\n                new_ground.update()\n\n                if pygame.display.get_surface() != None:\n                    screen.fill(background_col)\n                    new_ground.draw()\n                    obstacle_jump.draw(screen)\n                    player.draw()\n\n                    pygame.display.update()\n                clock.tick(FPS)\n\n                if player.isDead:\n                    gameOver = True\n\n                if counter%700 == 699:\n                    new_ground.speed -= 1\n                    gamespeed += 1\n\n                counter = (counter + 1)\n\n            if gameQuit:\n                break\n\n            while gameOver:\n                if pygame.display.get_surface() == None:\n                    print(\"Nem sikerült betölteni a felüetet\")\n                    gameQuit = True\n                    gameOver = False\n                else:\n                    for event in pygame.event.get():\n                        if event.type == pygame.QUIT:\n                            gameQuit = True\n                            gameOver = False\n                        if event.type == pygame.KEYDOWN:\n                            if event.key == pygame.K_ESCAPE:\n                                gameQuit = True\n                                gameOver = False\n\n                            if event.key == pygame.K_RETURN or event.key == pygame.K_SPACE:\n                                gameOver = False\n                                gameplay()\n                if pygame.display.get_surface() != None:\n                    disp_gameOver_msg(retbutton_image, gameover_image)\n                    pygame.display.update()\n                clock.tick(FPS)\n\n        pygame.quit()\n        quit()",
   "execution_count": null,
   "outputs": [
    {
     "name": "stdout",
     "output_type": "stream",
     "text": "pygame 2.1.2 (SDL 2.0.18, Python 3.10.0)\nHello from the pygame community. https://www.pygame.org/contribute.html\n"
    }
   ]
  },
  {
   "cell_type": "code",
   "metadata": {
    "cell_id": "00003-bea3dd95-a369-44e3-bff5-a074e0ae04b5",
    "deepnote_to_be_reexecuted": true,
    "source_hash": "41ff9ba9",
    "deepnote_cell_type": "code"
   },
   "source": "import pygame\nimport pygame.gfxdraw\nimport sys\nimport time\nimport random\nfrom pygame.locals import *\n\ndef testreszek():\n    buttons = []\n    class Button:\n        def __init__(self,text,translation,width,height,pos,elevation):\n            self.pressed = False\n            self.elevation = elevation\n            self.dynamic_elecation = elevation\n            self.original_y_pos = pos[1]\n\n            self.top_rect = pygame.Rect(pos,(width,height))\n            self.top_color = '#475F77'\n            self.translation = translation\n\n            self.bottom_rect = pygame.Rect(pos,(width,height))\n            self.bottom_color = '#354B5E'\n\n            self.text = text\n            self.text_surf = gui_font.render(text,True,'#FFFFFF')\n            self.text_rect = self.text_surf.get_rect(center = self.top_rect.center)\n            buttons.append(self)\n\n        def change_text(self, newtext):\n            self.text_surf = gui_font.render(newtext, True,'#FFFFFF')\n            self.text_rect = self.text_surf.get_rect(center = self.top_rect.center)\n\n        def draw(self):\n\n            self.top_rect.y = self.original_y_pos - self.dynamic_elecation\n            self.text_rect.center = self.top_rect.center \n\n            self.bottom_rect.midtop = self.top_rect.midtop\n            self.bottom_rect.height = self.top_rect.height + self.dynamic_elecation\n\n            pygame.draw.rect(screen,self.bottom_color, self.bottom_rect,border_radius = 12)\n            pygame.draw.rect(screen,self.top_color, self.top_rect,border_radius = 12)\n            screen.blit(self.text_surf, self.text_rect)\n            self.check_click()\n\n        def check_click(self):\n            mouse_pos = pygame.mouse.get_pos()\n            if self.top_rect.collidepoint(mouse_pos):\n                self.top_color = '#D74B4B'\n                if pygame.mouse.get_pressed()[0]:\n                    self.dynamic_elecation = 0\n                    self.pressed = True\n                    self.change_text(f\"{self.translation}\")\n                else:\n                    self.dynamic_elecation = self.elevation\n                    if self.pressed == True:\n                        print('click')\n                        self.pressed = False\n                        self.change_text(self.text)\n            else:\n                self.dynamic_elecation = self.elevation\n                self.top_color = '#475F77'\n\n    pygame.init()\n    screen = pygame.display.set_mode((1152,648))\n    pygame.display.set_caption('A ló testrészei')\n    clock = pygame.time.Clock()\n    gui_font = pygame.font.Font(None,30)\n\n    button1 = Button('Itt mérjük a ló magasságát:', \"mar\",300,40,(400,300),5)\n    button2 = Button('Boka és a pata közötti rész:', \"csüd\",300,40,(830,500),5)\n    button3 = Button('A ló mellkasa:',\"szügy\",300,40,(760,343),5)\n    button3 = Button('Bokaízület, csak a hátsó lábakon:',\"csánk\",400,40,(10,600),5)\n    button3 = Button('A lónak nem haja van, hanem:',\"sörénye\",300,40,(400,150),5)\n\n\n    def buttons_draw():\n        for b in buttons:\n            b.draw()\n\n    image_1 = pygame.image.load(r\"C:\\Users\\kaloe\\Desktop\\Prog_adat\\testresz.jpg\")\n    screen.blit(pygame.transform.scale(image_1, (1152, 648)), (0, 0))\n    while True:\n        for event in pygame.event.get():\n            if event.type == pygame.QUIT:\n                pygame.quit()\n                sys.exit()\n\n        buttons_draw()\n        pygame.display.update()\n        clock.tick(60)\ntestreszek()",
   "execution_count": null,
   "outputs": [
    {
     "ename": "SystemExit",
     "evalue": "",
     "output_type": "error",
     "traceback": [
      "An exception has occurred, use %tb to see the full traceback.\n",
      "\u001b[1;31mSystemExit\u001b[0m\n"
     ]
    }
   ]
  },
  {
   "cell_type": "markdown",
   "source": "<a style='text-decoration:none;line-height:16px;display:flex;color:#5B5B62;padding:10px;justify-content:end;' href='https://deepnote.com?utm_source=created-in-deepnote-cell&projectId=978e47b7-a961-4dca-a945-499e8b781a34' target=\"_blank\">\n<img alt='Created in deepnote.com' style='display:inline;max-height:16px;margin:0px;margin-right:7.5px;' src='data:image/svg+xml;base64,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' > </img>\nCreated in <span style='font-weight:600;margin-left:4px;'>Deepnote</span></a>",
   "metadata": {
    "tags": [],
    "created_in_deepnote_cell": true,
    "deepnote_cell_type": "markdown"
   }
  }
 ],
 "nbformat": 4,
 "nbformat_minor": 5,
 "metadata": {
  "kernelspec": {
   "display_name": "Python 3 (ipykernel)",
   "language": "python",
   "name": "python3"
  },
  "language_info": {
   "codemirror_mode": {
    "name": "ipython",
    "version": 3
   },
   "file_extension": ".py",
   "mimetype": "text/x-python",
   "name": "python",
   "nbconvert_exporter": "python",
   "pygments_lexer": "ipython3",
   "version": "3.10.0"
  },
  "deepnote_notebook_id": "58aff4b9-6ee0-457e-93f0-521648118516",
  "deepnote": {},
  "deepnote_execution_queue": []
 }
}