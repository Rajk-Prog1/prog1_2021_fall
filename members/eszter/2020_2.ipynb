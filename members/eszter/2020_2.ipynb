{
 "cells": [
  {
   "cell_type": "code",
   "execution_count": null,
   "id": "65b64801",
   "metadata": {},
   "outputs": [],
   "source": [
    "data = open(\"2020_02.txt\", \"r\")\n",
    "lines = data.read()\n",
    "adat = lines.splitlines()\n",
    "data.close()\n",
    "jo = []\n",
    "for i in adat:\n",
    "    key, value = i.split(\": \")\n",
    "    k1, k2 = key.split(\" \")[0].split(\"-\")\n",
    "    k = key.split(\" \")[1]\n",
    "    if (value[int(k1)-1]==k) ^ (value[int(k2)-1]==k):\n",
    "        jo.append(value)\n",
    "print (len(jo))"
   ]
  }
 ],
 "metadata": {
  "kernelspec": {
   "display_name": "Python 3 (ipykernel)",
   "language": "python",
   "name": "python3"
  },
  "language_info": {
   "codemirror_mode": {
    "name": "ipython",
    "version": 3
   },
   "file_extension": ".py",
   "mimetype": "text/x-python",
   "name": "python",
   "nbconvert_exporter": "python",
   "pygments_lexer": "ipython3",
   "version": "3.10.0"
  }
 },
 "nbformat": 4,
 "nbformat_minor": 5
}
