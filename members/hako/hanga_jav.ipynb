{
 "cells": [
  {
   "cell_type": "markdown",
   "source": "#### A\nTe megoldásod: $\\exists x [P(k, y) \\Leftarrow N(y)] \\Leftrightarrow [P(d, y) \\Leftarrow N(y)]$",
   "metadata": {
    "cell_id": "00000-346c4f24-deac-4b7f-8017-820b141700bf",
    "deepnote_cell_type": "markdown"
   }
  },
  {
   "cell_type": "markdown",
   "source": "Visszajelzés:\n- Az elején az $x$ helyett nem $y$-t akartál írni?\n- Mindennek, ami az adott kötött paraméterre vonatkozik, a hozzá tartozó zárójelen belül kell lenni, tehát helyesen az $\\exists y [...]$-on belül van a teljes kifejezés.\n- Az ekvivalencia azért nem jó, mert az megengedi, hogy mindkét állítás hamis legyen, helyette $\\land$-t kell használni.\n- Az implikáció helyett szintén $\\land$ kell, mert az implikáció megengedi, hogy ha $y$ nem nő, akkor a $P(k, y)$ és $P(d, y)$ állításoknak sem kell teljesülnie. (Tehát azt írtad, hogy \"*létezik valaki, aki, ha nő, akkor k (vagy d) gyereke.*\", ami igaz akkor is, ha létezik egy férfi, aki nem a gyerekük.)",
   "metadata": {
    "cell_id": "00001-f7643076-0e17-4a43-96d2-872d86468944",
    "deepnote_cell_type": "markdown"
   }
  },
  {
   "cell_type": "markdown",
   "source": "#### B\nTe megoldásod: $\\forall x [P(x, y) \\Leftarrow N(x)] \\land \\nexists [P(x, y) \\Leftarrow F(x)]$",
   "metadata": {
    "cell_id": "00002-e158240f-5f2a-4148-908e-2eedf4ab8a7e",
    "deepnote_cell_type": "markdown"
   }
  },
  {
   "cell_type": "markdown",
   "source": "Visszajelzés:\n- Nem biztos, hogy jól értem, hogy mi volt a gondolatmenet, két alternatív értelmezésem van, ezeket először tartalmilag értékelem:\n    - (1) $\\forall x [N(x) \\Rightarrow \\exists y(P(x, y)) \\land (\\nexists y (P(x, y)) \\Rightarrow F(x))]$. Ennek az $\\land$ előtt és utáni fele teljesen ekvivalens (tehát valamelyik fölösleges), és azt jelenti, hogy \"*minden nőnek van gyereke*\", ami helyes, de nem a teljes állítás.\n    - (2) $\\forall x [N(x) \\Rightarrow \\exists y(P(x, y)) \\land F(x) \\Rightarrow \\nexists y (P(x, y))]$. Ez viszont azt jelenti, hogy \"*minden nőnek van gyereke és egy férfinak sincs gyereke*\", ami nem felel meg a B állításnak.\n- Szintaktikai hibák.\n    - A kifejezés első felében az $y$-hoz is kell $\\exists$ kvantort rendelni, különben nyitott marad a formula, és az igazságértéke attól függ, mit helyettesítünk be az $y$ helyére.\n    - A második felében a $\\nexists$ kvantor után lehagytad az $y$ paramétert.\n    - A zárójelek rossz helyeken vannak.",
   "metadata": {
    "cell_id": "00003-b4c8fe6e-d089-420e-a14d-b26a8e27aa20",
    "deepnote_cell_type": "markdown"
   }
  },
  {
   "cell_type": "markdown",
   "source": "#### C\nTe megoldásod: $\\exists x [P(x, b) \\Leftarrow F(b)] \\land [P(x, c) \\Leftarrow F(c)] \\lor \\exists x [P(x, d) \\Leftarrow N(d)] \\land [P(x, e) \\Leftarrow N(e)]$\n\nVisszajelzés:\n- $b, c, d, e$-hez is kell $\\exists$ kvantor, ugyanabból az okból, amit leírtam a B-ben.\n- Az implikáció helyett $\\land$ kell ugyanabból az okból, amit leírtam az A-ban.\n- Abból, hogy különböző betűkkel jelölt paramétereket használsz, még nem következik, hogy két különböző személyről van szó, tehát ki kell kötni, hogy $b \\neq c$ és $d \\neq e$.",
   "metadata": {
    "cell_id": "00004-66bedc94-6568-4ecb-bf43-34e5e0b6804f",
    "deepnote_cell_type": "markdown"
   }
  },
  {
   "cell_type": "markdown",
   "source": "#### D\nTe megoldásod: $\\forall x [P(x, y) \\Leftarrow N(x)]$\n\nVisszajelzés:\n- $y$-hoz kell a $\\exists$ kvantor, ugyanabból az okból, amit leírtam a B-ben.",
   "metadata": {
    "cell_id": "00005-b874b675-1a6b-4b6c-bd81-654a642a86f6",
    "deepnote_cell_type": "markdown"
   }
  },
  {
   "cell_type": "markdown",
   "source": "#### E\nTe megoldásod: $\\exists x [N(x) \\Rightarrow P(j, x) \\Leftarrow P(k, j)] \\land \\exists x [F(x) \\Rightarrow P(j, x) \\Leftarrow P(k, j)]$\n\nVisszajelzés:\n- $j$-hez is kell a $\\exists$ kvantor, ugyanabból az okból, amit leírtam a B-ben.\n- Az implikáció helyett $\\land$ kell ugyanabból az okból, amit leírtam az A-ban.",
   "metadata": {
    "cell_id": "00006-a21cc53f-c7c7-4cae-8433-6eddcd45b560",
    "deepnote_cell_type": "markdown"
   }
  },
  {
   "cell_type": "markdown",
   "source": "<a style='text-decoration:none;line-height:16px;display:flex;color:#5B5B62;padding:10px;justify-content:end;' href='https://deepnote.com?utm_source=created-in-deepnote-cell&projectId=978e47b7-a961-4dca-a945-499e8b781a34' target=\"_blank\">\n<img alt='Created in deepnote.com' style='display:inline;max-height:16px;margin:0px;margin-right:7.5px;' src='data:image/svg+xml;base64,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' > </img>\nCreated in <span style='font-weight:600;margin-left:4px;'>Deepnote</span></a>",
   "metadata": {
    "tags": [],
    "created_in_deepnote_cell": true,
    "deepnote_cell_type": "markdown"
   }
  }
 ],
 "nbformat": 4,
 "nbformat_minor": 4,
 "metadata": {
  "kernelspec": {
   "display_name": "Python 3",
   "language": "python",
   "name": "python3"
  },
  "language_info": {
   "codemirror_mode": {
    "name": "ipython",
    "version": 3
   },
   "file_extension": ".py",
   "mimetype": "text/x-python",
   "name": "python",
   "nbconvert_exporter": "python",
   "pygments_lexer": "ipython3",
   "version": "3.8.10"
  },
  "deepnote_notebook_id": "aa81d12d-fe8b-41bb-bce5-15209b21709f",
  "deepnote": {},
  "deepnote_execution_queue": []
 }
}