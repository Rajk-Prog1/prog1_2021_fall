{
 "cells": [
  {
   "cell_type": "code",
   "metadata": {
    "cell_id": "00000-5093973e-d6db-400e-bb86-5f5623f83273",
    "deepnote_to_be_reexecuted": false,
    "source_hash": "3b5c1b7",
    "execution_start": 1635933338419,
    "execution_millis": 293,
    "deepnote_cell_type": "code"
   },
   "source": "from jkg_evaluators import dragonfind_10_to_500",
   "execution_count": null,
   "outputs": []
  },
  {
   "cell_type": "code",
   "metadata": {
    "cell_id": "00001-c921084d-dc3c-4347-af54-5abcf57db7ae",
    "deepnote_to_be_reexecuted": false,
    "source_hash": "ee3bbbe9",
    "execution_start": 1635934357427,
    "execution_millis": 2,
    "deepnote_cell_type": "code"
   },
   "source": "cow_alive_list_test_1 = [False, False, False, True, True]\nis_dead_test_1 = [True, True, True, False, False]",
   "execution_count": null,
   "outputs": []
  },
  {
   "cell_type": "code",
   "metadata": {
    "cell_id": "00002-51ddc0bf-07b6-457f-835c-0a2cdc5b4b4f",
    "deepnote_to_be_reexecuted": false,
    "source_hash": "d1f7567c",
    "execution_start": 1635933348127,
    "execution_millis": 1,
    "deepnote_cell_type": "code"
   },
   "source": "def my_solution2(cow_alive_list):\n    fat_alive_cow_index = 0\n    thin_alive_cow_index = len(cow_alive_list) - 1\n    \n    while (fat_alive_cow_index + 1) < thin_alive_cow_index:\n        middle_cow = int((fat_alive_cow_index + \n                          thin_alive_cow_index) / 2)\n        if cow_alive_list[middle_cow]:\n            thin_alive_cow_index = middle_cow\n        else:\n            fat_alive_cow_index = middle_cow\n    \n    if cow_alive_list[middle_cow]:\n        return(middle_cow)\n    else:\n        return(middle_cow + 1)",
   "execution_count": null,
   "outputs": []
  },
  {
   "cell_type": "code",
   "metadata": {
    "tags": [],
    "cell_id": "00004-a4698e53-729f-4e75-b088-5c53930c15d8",
    "deepnote_to_be_reexecuted": false,
    "source_hash": "9b67ee16",
    "execution_start": 1635894487519,
    "execution_millis": 0,
    "deepnote_output_heights": [
     21.1875
    ],
    "deepnote_cell_type": "code"
   },
   "source": "my_solution2(cow_alive_list_test_1)",
   "execution_count": null,
   "outputs": [
    {
     "output_type": "execute_result",
     "execution_count": 16,
     "data": {
      "text/plain": "2"
     },
     "metadata": {}
    }
   ]
  },
  {
   "cell_type": "code",
   "metadata": {
    "tags": [],
    "cell_id": "00003-b440890a-5618-4a7e-b717-88ade3a7237a",
    "deepnote_to_be_reexecuted": false,
    "source_hash": "2dc8cf88",
    "execution_start": 1635934185324,
    "execution_millis": 1,
    "deepnote_cell_type": "code"
   },
   "source": "def my_solution2_csecs(cow_alive_list):\n    fat_alive_cow_index = 0\n    thin_alive_cow_index = len(cow_alive_list) - 1\n    \n    while (fat_alive_cow_index + 1) < thin_alive_cow_index:\n        middle_cow = int((fat_alive_cow_index + \n                          thin_alive_cow_index) / 2)\n        if cow_alive_list[middle_cow]:\n            thin_alive_cow_index = middle_cow\n        else:\n            fat_alive_cow_index = middle_cow\n    \n    if cow_alive_list[middle_cow]:\n        return(middle_cow)\n    else:\n        return(middle_cow + 1)",
   "execution_count": null,
   "outputs": []
  },
  {
   "cell_type": "code",
   "metadata": {
    "tags": [],
    "cell_id": "00005-1f6db455-9205-4e88-949e-d0c02543a53e",
    "deepnote_to_be_reexecuted": false,
    "source_hash": "c4ff3088",
    "execution_start": 1635934365219,
    "execution_millis": 4,
    "deepnote_output_heights": [
     21.1875
    ],
    "deepnote_cell_type": "code"
   },
   "source": "my_solution2_csecs(cow_alive_list_test_1)",
   "execution_count": null,
   "outputs": [
    {
     "output_type": "execute_result",
     "execution_count": 37,
     "data": {
      "text/plain": "3"
     },
     "metadata": {}
    }
   ]
  },
  {
   "cell_type": "code",
   "metadata": {
    "tags": [],
    "cell_id": "00004-96387f59-f76f-4232-beb2-c1b9f1fa48c8",
    "deepnote_to_be_reexecuted": false,
    "source_hash": "fac2991b",
    "execution_start": 1635934190109,
    "execution_millis": 5373,
    "deepnote_cell_type": "code"
   },
   "source": "dragonfind_10_to_500.evaluate(my_solution2_csecs)",
   "execution_count": null,
   "outputs": [
    {
     "name": "stdout",
     "text": "- success rate: 0/124714 (0.0%)\n- error count: 124714\n\n\n ERROR at: \n {'number_of_cows': 10, 'dragon_coming_to': 1} \n - TypeError (my_solution2_csecs() takes 1 positional argument but 2 were given)\n\n\n ERROR at: \n {'number_of_cows': 10, 'dragon_coming_to': 2} \n - TypeError (my_solution2_csecs() takes 1 positional argument but 2 were given)\n\n\n ERROR at: \n {'number_of_cows': 10, 'dragon_coming_to': 3} \n - TypeError (my_solution2_csecs() takes 1 positional argument but 2 were given)\n\n\n ERROR at: \n {'number_of_cows': 10, 'dragon_coming_to': 4} \n - TypeError (my_solution2_csecs() takes 1 positional argument but 2 were given)\n\n\n ERROR at: \n {'number_of_cows': 10, 'dragon_coming_to': 5} \n - TypeError (my_solution2_csecs() takes 1 positional argument but 2 were given)\n\n\n ERROR at: \n {'number_of_cows': 10, 'dragon_coming_to': 6} \n - TypeError (my_solution2_csecs() takes 1 positional argument but 2 were given)\n\n\n ERROR at: \n {'number_of_cows': 10, 'dragon_coming_to': 7} \n - TypeError (my_solution2_csecs() takes 1 positional argument but 2 were given)\n\n\n ERROR at: \n {'number_of_cows': 10, 'dragon_coming_to': 8} \n - TypeError (my_solution2_csecs() takes 1 positional argument but 2 were given)\n\n\n ERROR at: \n {'number_of_cows': 10, 'dragon_coming_to': 9} \n - TypeError (my_solution2_csecs() takes 1 positional argument but 2 were given)\n\n\n ERROR at: \n {'number_of_cows': 11, 'dragon_coming_to': 1} \n - TypeError (my_solution2_csecs() takes 1 positional argument but 2 were given)\n",
     "output_type": "stream"
    }
   ]
  },
  {
   "cell_type": "code",
   "metadata": {
    "cell_id": "00003-a9e95ec8-17df-4fed-bdd1-ac35ce78ed8e",
    "deepnote_to_be_reexecuted": false,
    "source_hash": "20b908dc",
    "execution_start": 1635933350888,
    "execution_millis": 6668,
    "deepnote_cell_type": "code"
   },
   "source": "dragonfind_10_to_500.evaluate(my_solution2)",
   "execution_count": null,
   "outputs": [
    {
     "name": "stdout",
     "text": "- success rate: 0/124714 (0.0%)\n- error count: 124714\n\n\n ERROR at: \n {'number_of_cows': 10, 'dragon_coming_to': 1} \n - TypeError (my_solution2() takes 1 positional argument but 2 were given)\n\n\n ERROR at: \n {'number_of_cows': 10, 'dragon_coming_to': 2} \n - TypeError (my_solution2() takes 1 positional argument but 2 were given)\n\n\n ERROR at: \n {'number_of_cows': 10, 'dragon_coming_to': 3} \n - TypeError (my_solution2() takes 1 positional argument but 2 were given)\n\n\n ERROR at: \n {'number_of_cows': 10, 'dragon_coming_to': 4} \n - TypeError (my_solution2() takes 1 positional argument but 2 were given)\n\n\n ERROR at: \n {'number_of_cows': 10, 'dragon_coming_to': 5} \n - TypeError (my_solution2() takes 1 positional argument but 2 were given)\n\n\n ERROR at: \n {'number_of_cows': 10, 'dragon_coming_to': 6} \n - TypeError (my_solution2() takes 1 positional argument but 2 were given)\n\n\n ERROR at: \n {'number_of_cows': 10, 'dragon_coming_to': 7} \n - TypeError (my_solution2() takes 1 positional argument but 2 were given)\n\n\n ERROR at: \n {'number_of_cows': 10, 'dragon_coming_to': 8} \n - TypeError (my_solution2() takes 1 positional argument but 2 were given)\n\n\n ERROR at: \n {'number_of_cows': 10, 'dragon_coming_to': 9} \n - TypeError (my_solution2() takes 1 positional argument but 2 were given)\n\n\n ERROR at: \n {'number_of_cows': 11, 'dragon_coming_to': 1} \n - TypeError (my_solution2() takes 1 positional argument but 2 were given)\n",
     "output_type": "stream"
    }
   ]
  },
  {
   "cell_type": "code",
   "metadata": {
    "tags": [],
    "cell_id": "00005-19093fa7-9e6f-4c53-b9ea-2b4051b81dbb",
    "deepnote_to_be_reexecuted": false,
    "source_hash": "c61bd916",
    "execution_start": 1637401615361,
    "execution_millis": 1,
    "deepnote_cell_type": "code"
   },
   "source": "def my_solution1(is_dead,\n                 number_of_cows):\n    fat_alive_cow_index = 0\n    thin_alive_cow_index = number_of_cows - 1\n    \n    while (fat_alive_cow_index + 1) < thin_alive_cow_index:\n        middle_cow = int((fat_alive_cow_index + \n                          thin_alive_cow_index) / 2)\n        if is_dead(middle_cow)==0:\n            thin_alive_cow_index = middle_cow\n        else:\n            fat_alive_cow_index = middle_cow\n    \n    if is_dead(middle_cow)==0:\n        return(middle_cow)\n    else:\n        return(middle_cow + 1)",
   "execution_count": null,
   "outputs": []
  },
  {
   "cell_type": "code",
   "metadata": {
    "tags": [],
    "cell_id": "00006-0c0eb561-a695-44c7-8ff9-16bb31fe62b7",
    "deepnote_to_be_reexecuted": false,
    "source_hash": "1bc2d456",
    "execution_start": 1635933792444,
    "execution_millis": 10,
    "deepnote_output_heights": [
     21
    ],
    "deepnote_cell_type": "code"
   },
   "source": "my_solution1(is_dead_test_1,5)",
   "execution_count": null,
   "outputs": [
    {
     "output_type": "execute_result",
     "execution_count": 25,
     "data": {
      "text/plain": "3"
     },
     "metadata": {}
    }
   ]
  },
  {
   "cell_type": "code",
   "metadata": {
    "tags": [],
    "cell_id": "00007-d2c8bd76-3c7d-42a2-b6ef-a10e38618b80",
    "deepnote_to_be_reexecuted": false,
    "source_hash": "afd6f53b",
    "execution_start": 1635933559765,
    "execution_millis": 2,
    "deepnote_cell_type": "code"
   },
   "source": "def my_solution1_csicska(is_dead,\n                 number_of_cows):\n\n    for i in range(1, number_of_cows):\n        if not is_dead(i):\n            return i",
   "execution_count": null,
   "outputs": []
  },
  {
   "cell_type": "code",
   "metadata": {
    "tags": [],
    "cell_id": "00008-04d7e533-634c-4267-b9a8-4dcf70175fef",
    "deepnote_to_be_reexecuted": false,
    "source_hash": "62cc6030",
    "execution_start": 1635895802333,
    "execution_millis": 0,
    "deepnote_cell_type": "code"
   },
   "source": "import jkg_evaluators",
   "execution_count": null,
   "outputs": []
  },
  {
   "cell_type": "code",
   "metadata": {
    "tags": [],
    "cell_id": "00007-523d2c48-04c9-4b8e-bd3f-f227c2533e4d",
    "deepnote_to_be_reexecuted": false,
    "source_hash": "3b5c1b7",
    "execution_start": 1637401633155,
    "execution_millis": 18,
    "deepnote_cell_type": "code"
   },
   "source": "from jkg_evaluators import dragonfind_10_to_500",
   "execution_count": null,
   "outputs": []
  },
  {
   "cell_type": "code",
   "metadata": {
    "tags": [],
    "cell_id": "00010-4e31bd0a-a834-45a3-b5a5-e27179db6115",
    "deepnote_to_be_reexecuted": false,
    "source_hash": "aeac664d",
    "execution_start": 1635933482198,
    "execution_millis": 1,
    "deepnote_cell_type": "code"
   },
   "source": "from jkg_evaluators.core import CompleteEvaluation",
   "execution_count": null,
   "outputs": []
  },
  {
   "cell_type": "code",
   "metadata": {
    "tags": [],
    "cell_id": "00008-1191bcf0-2b1f-47f5-8e1e-6a8535e1e56f",
    "deepnote_to_be_reexecuted": false,
    "source_hash": "e4913b21",
    "execution_start": 1637401637338,
    "execution_millis": 2447,
    "deepnote_cell_type": "code"
   },
   "source": "dragonfind_10_to_500.evaluate(my_solution1)",
   "execution_count": null,
   "outputs": [
    {
     "name": "stdout",
     "text": "- success rate: 124714/124714 (100.0%)\n- error count: 0\n- best performance: 4\n- worst performance: 10\n- mean performance: 9.301874689289093\n",
     "output_type": "stream"
    }
   ]
  },
  {
   "cell_type": "markdown",
   "source": "<a style='text-decoration:none;line-height:16px;display:flex;color:#5B5B62;padding:10px;justify-content:end;' href='https://deepnote.com?utm_source=created-in-deepnote-cell&projectId=978e47b7-a961-4dca-a945-499e8b781a34' target=\"_blank\">\n<img alt='Created in deepnote.com' style='display:inline;max-height:16px;margin:0px;margin-right:7.5px;' src='data:image/svg+xml;base64,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' > </img>\nCreated in <span style='font-weight:600;margin-left:4px;'>Deepnote</span></a>",
   "metadata": {
    "tags": [],
    "created_in_deepnote_cell": true,
    "deepnote_cell_type": "markdown"
   }
  }
 ],
 "nbformat": 4,
 "nbformat_minor": 2,
 "metadata": {
  "kernelspec": {
   "display_name": "Python 3",
   "language": "python",
   "name": "python3"
  },
  "language_info": {
   "codemirror_mode": {
    "name": "ipython",
    "version": 3
   },
   "file_extension": ".py",
   "mimetype": "text/x-python",
   "name": "python",
   "nbconvert_exporter": "python",
   "pygments_lexer": "ipython3",
   "version": "3.7.5"
  },
  "deepnote_notebook_id": "986eedcc-acee-4141-91df-f9effc114ade",
  "deepnote": {},
  "deepnote_execution_queue": []
 }
}