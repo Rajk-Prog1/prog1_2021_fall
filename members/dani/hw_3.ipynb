{
 "cells": [
  {
   "cell_type": "markdown",
   "source": "# Házi feladat\n---",
   "metadata": {
    "tags": [],
    "cell_id": "00000-bb633775-f7ef-48b6-bc21-ea5f6abdce99",
    "deepnote_cell_type": "markdown"
   }
  },
  {
   "cell_type": "markdown",
   "source": "# I.",
   "metadata": {
    "tags": [],
    "cell_id": "00001-56e5aea6-53d0-4fcf-b22e-1ef3e7c7a72f",
    "deepnote_cell_type": "markdown"
   }
  },
  {
   "cell_type": "markdown",
   "source": "##### 1: Harmadfokú egyenlet megoldása\nÁ: $(a,b,c,d,x_1,x_2,x_3\\in \\mathbb{R})$<br>Ef: $(a \\neq0)$<br>Uf: $(Ef\\land(x_1+x_2+x_3=-\\frac{b}{a})\\land (x_1x_2+x_1x_3+x_2x_3=\\frac{c}{a})\\land (x_1x_2x_3=-\\frac{d}{a}))$",
   "metadata": {
    "tags": [],
    "cell_id": "00002-d5154bcf-a81f-4377-bd99-68309564cfad",
    "deepnote_cell_type": "markdown"
   }
  },
  {
   "cell_type": "markdown",
   "source": "##### 2: Egy tíz számból álló tömbben ha van páros, számoljuk ki a 10 szám szorzatát, ha nincs közte páros szám, adjuk meg a legkisebb számot.\nÁ: $(x\\in \\mathbb{N}^n,s\\in \\mathbb{R})$<br>Ef: $(x=x'\\land n=10\\land x_1)$<br>Uf: $((Ef\\land \\exists x_i(x_i\\in x\\land 2\\mid x_i)\\Rightarrow (s=\\prod_{x_i \\in x} x_i))\\oplus (\\nexists x_i(x_i\\in x\\land 2\\mid x_i)\\Rightarrow s\\in x, (\\nexists x_i(x_i\\in x \\land x_i<s))))$\n",
   "metadata": {
    "tags": [],
    "cell_id": "00003-84ace153-2219-4158-85c8-db263ca88e4f",
    "deepnote_cell_type": "markdown"
   }
  },
  {
   "cell_type": "markdown",
   "source": "##### 3: Két természetes szám legkisebb közös többszörösének megtalálása.\nÁ: $(a,b,c\\in \\mathbb N)$<br>Ef: $(a=a', b=b', c=c')$<br>Uf: $(Ef\\land a\\mid c\\land b\\mid c\\land \\nexists x(a\\mid x\\land b\\mid x\\land x<c))$",
   "metadata": {
    "tags": [],
    "cell_id": "00004-684f8239-de21-4d21-adfb-2895decf14ba",
    "deepnote_cell_type": "markdown"
   }
  },
  {
   "cell_type": "markdown",
   "source": "##### 4: Két számhoz keresünk egyet ami a két szám összege és különbsége között van.\nÁ: $(x,y,z \\in \\mathbb R)$<br>Ef: $(x=x',y=y',z=z')$<br>Uf: $(Ef\\land\\mid z\\mid <\\mid x+y\\mid \\land \\mid z\\mid >\\mid x-y\\mid)$",
   "metadata": {
    "tags": [],
    "cell_id": "00005-8fa45f89-b328-4e24-a69d-378a2522e39a",
    "deepnote_cell_type": "markdown"
   }
  },
  {
   "cell_type": "markdown",
   "source": "##### 5: Melyik termék a legolcsóbb? (Bogi)\nÁ: $(x\\in \\mathbb{N}^n, n\\in \\mathbb N^+)$<br>Ef: $(x=x')$<br>Uf: $(Ef\\land \\exists a(a\\in x \\land \\nexists b(b\\in x\\land b<a)))$",
   "metadata": {
    "tags": [],
    "cell_id": "00006-6f5a159a-a095-4bd2-8429-6aefd25bd3a8",
    "deepnote_cell_type": "markdown"
   }
  },
  {
   "cell_type": "markdown",
   "source": "##### 6: Adott halmazból a legnagyobb 2-vel osztható szám megtalálása. (Eszter)\nÁ: $(x\\in \\mathbb N^n)$<br>Ef: $(x=x')$<br>Uf: $(Ef\\land \\exists y(y\\in x\\land 2\\mid y \\land \\nexists z(z\\in x\\land 2\\mid z\\land z>y)))$",
   "metadata": {
    "tags": [],
    "cell_id": "00007-96d3d3f3-5987-499f-9ffa-66d39080b10c",
    "deepnote_cell_type": "markdown"
   }
  },
  {
   "cell_type": "markdown",
   "source": "##### 7: Egy szám négyzete. (Keve)\nÁ: $(x\\in \\mathbb N)$<br>Ef: $(x=x')$<br>Uf: $(Ef\\land \\exists y(y\\in  N\\land y=x^2))$",
   "metadata": {
    "tags": [],
    "cell_id": "00008-5d542e93-4047-4587-9daf-b2b4f516a297",
    "deepnote_cell_type": "markdown"
   }
  },
  {
   "cell_type": "markdown",
   "source": "##### 8: Válasszuk ki egy számhalmazból a páratlan, 10-nél nagyobb számokat. (Szabi)\nÁ: $(x\\in \\mathbb R^n)$<br>Ef: $(x=x')$<br>Uf: $(Ef\\land \\exists y(y\\in \\mathbb R^n\\land y \\in x\\land \\nexists y_i(y_i\\in y\\land 2\\mid y)\\land \\nexists y_i(y_i\\in y\\land y<10)))$",
   "metadata": {
    "tags": [],
    "cell_id": "00009-8a38de3f-66c6-477b-835f-b4273352e09f",
    "deepnote_cell_type": "markdown"
   }
  },
  {
   "cell_type": "markdown",
   "source": "<a style='text-decoration:none;line-height:16px;display:flex;color:#5B5B62;padding:10px;justify-content:end;' href='https://deepnote.com?utm_source=created-in-deepnote-cell&projectId=978e47b7-a961-4dca-a945-499e8b781a34' target=\"_blank\">\n<img alt='Created in deepnote.com' style='display:inline;max-height:16px;margin:0px;margin-right:7.5px;' src='data:image/svg+xml;base64,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' > </img>\nCreated in <span style='font-weight:600;margin-left:4px;'>Deepnote</span></a>",
   "metadata": {
    "tags": [],
    "created_in_deepnote_cell": true,
    "deepnote_cell_type": "markdown"
   }
  }
 ],
 "nbformat": 4,
 "nbformat_minor": 2,
 "metadata": {
  "orig_nbformat": 2,
  "deepnote": {
   "is_reactive": false
  },
  "deepnote_notebook_id": "b39880fb-a3fd-4c71-9eb8-e9a0981be3f8",
  "deepnote_execution_queue": []
 }
}