{
 "cells": [
  {
   "cell_type": "markdown",
   "source": "# Házi feladat\n---",
   "metadata": {
    "tags": [],
    "cell_id": "00000-a39a7c74-855c-4d75-9acd-39873477ea2f",
    "deepnote_cell_type": "markdown"
   }
  },
  {
   "cell_type": "markdown",
   "source": "## I. Programozási problémák",
   "metadata": {
    "tags": [],
    "cell_id": "00001-295f75f7-13e9-4ad9-aac2-ae5dea768298",
    "deepnote_cell_type": "markdown"
   }
  },
  {
   "cell_type": "markdown",
   "source": "###### 1. Órák cseréje tárgyfelvétel után",
   "metadata": {
    "tags": [],
    "cell_id": "00002-2bffc803-48d7-4eb5-973d-4c6b119e3a07",
    "deepnote_cell_type": "markdown"
   }
  },
  {
   "cell_type": "markdown",
   "source": "###### 2. Anyukámnak napi beszámoló arról, hogy mit ettem",
   "metadata": {
    "tags": [],
    "cell_id": "00003-dd2ff90f-9728-48e6-8e80-f2efd9ece40c",
    "deepnote_cell_type": "markdown"
   }
  },
  {
   "cell_type": "markdown",
   "source": "###### 3. Használt tulajdonok értékesítése",
   "metadata": {
    "tags": [],
    "cell_id": "00004-6947a337-0799-4401-823e-5e4b269e5c0a",
    "deepnote_cell_type": "markdown"
   }
  },
  {
   "cell_type": "markdown",
   "source": "###### 4. Hivatkozások megfelelő használata egy beszámolóban",
   "metadata": {
    "tags": [],
    "cell_id": "00005-28d2a67c-cb63-45b0-a04b-9e0108484638",
    "deepnote_cell_type": "markdown"
   }
  },
  {
   "cell_type": "markdown",
   "source": "##### 5. SZKTP számára releváns iskolák kiválasztása\n+ Á: (magyar iskolák, SZKTP számára releváns iskolák)\n+ Ef: (tudjuk a magyar iskolákról a szakirányokat, azt, hogy AJTP van-e, Corvinusra felvettek számát, a Programba jelentkezők számát, a Programba felvettek számát)\n+ Uf: (létezik egy adatbázis, melyben csak az SZKTP számára releváns iskolák vannak)",
   "metadata": {
    "tags": [],
    "cell_id": "00006-b7d6105c-30ab-4a11-88e2-b6f2452cac2a",
    "deepnote_cell_type": "markdown"
   }
  },
  {
   "cell_type": "markdown",
   "source": "## II. Párosítás",
   "metadata": {
    "tags": [],
    "cell_id": "00008-9044358d-4abc-4eec-8543-89c3ed3365ad",
    "deepnote_cell_type": "markdown"
   }
  },
  {
   "cell_type": "markdown",
   "source": "#### D-2\n",
   "metadata": {
    "tags": [],
    "cell_id": "00009-47db9190-09a8-41f6-8e95-d9711fcd606c",
    "deepnote_cell_type": "markdown"
   }
  },
  {
   "cell_type": "markdown",
   "source": "#### A-8\n",
   "metadata": {
    "tags": [],
    "cell_id": "00009-d8edf278-18d7-4e6d-ab50-02c08d1befcf",
    "deepnote_cell_type": "markdown"
   }
  },
  {
   "cell_type": "markdown",
   "source": "#### I-6",
   "metadata": {
    "tags": [],
    "cell_id": "00010-852d4cb0-0c5f-42f6-8879-a7fed1b46cfe",
    "deepnote_cell_type": "markdown"
   }
  },
  {
   "cell_type": "markdown",
   "source": "#### E-7\n",
   "metadata": {
    "tags": [],
    "cell_id": "00012-17f344a4-089c-400b-a0bf-01d653a7d0bd",
    "deepnote_cell_type": "markdown"
   }
  },
  {
   "cell_type": "markdown",
   "source": "#### B-1\nezzel lehet van valami, ami nem jó",
   "metadata": {
    "tags": [],
    "cell_id": "00012-df93cbad-df0f-4893-bffc-4f912d9f866a",
    "deepnote_cell_type": "markdown"
   }
  },
  {
   "cell_type": "markdown",
   "source": "#### C-5",
   "metadata": {
    "tags": [],
    "cell_id": "00013-a3875d7b-5bd2-424e-8677-c21a5d1bd8a6",
    "deepnote_cell_type": "markdown"
   }
  },
  {
   "cell_type": "markdown",
   "source": "#### G-3",
   "metadata": {
    "tags": [],
    "cell_id": "00014-ebeba5da-5d08-4a97-b279-713f212a669f",
    "deepnote_cell_type": "markdown"
   }
  },
  {
   "cell_type": "markdown",
   "source": "#### F-4",
   "metadata": {
    "tags": [],
    "cell_id": "00015-94d405e0-e759-4152-9c4b-9f3c37f51f9a",
    "deepnote_cell_type": "markdown"
   }
  },
  {
   "cell_type": "markdown",
   "source": "#### 9-Számítsuk ki azon háromszög átfogójának hosszát, melynek befogói a és b hosszúságúak.",
   "metadata": {
    "tags": [],
    "cell_id": "00016-c072c973-3aec-4e3e-b15f-e90c213093c0",
    "deepnote_cell_type": "markdown"
   }
  },
  {
   "cell_type": "markdown",
   "source": "#### H:\nÁ: $(a \\in \\mathbb{N}^n, b \\in \\mathbb{N}^n)$<br>Ef: $(a=a', b=b', a_i \\in a, b_i \\in b)$<br>Uf: $(Ef\\land \\exists b_i((b_i=\\sqrt{a_i})\\land(b_i=a_i)))$",
   "metadata": {
    "tags": [],
    "cell_id": "00017-7ef5cc88-a94a-4f83-8016-8e55de9703d5",
    "deepnote_cell_type": "markdown"
   }
  },
  {
   "cell_type": "markdown",
   "source": "<a style='text-decoration:none;line-height:16px;display:flex;color:#5B5B62;padding:10px;justify-content:end;' href='https://deepnote.com?utm_source=created-in-deepnote-cell&projectId=978e47b7-a961-4dca-a945-499e8b781a34' target=\"_blank\">\n<img alt='Created in deepnote.com' style='display:inline;max-height:16px;margin:0px;margin-right:7.5px;' src='data:image/svg+xml;base64,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' > </img>\nCreated in <span style='font-weight:600;margin-left:4px;'>Deepnote</span></a>",
   "metadata": {
    "tags": [],
    "created_in_deepnote_cell": true,
    "deepnote_cell_type": "markdown"
   }
  }
 ],
 "nbformat": 4,
 "nbformat_minor": 2,
 "metadata": {
  "orig_nbformat": 2,
  "deepnote": {
   "is_reactive": false
  },
  "deepnote_notebook_id": "64658168-cf9c-40d9-89dd-a8bc01ef8093",
  "deepnote_execution_queue": []
 }
}