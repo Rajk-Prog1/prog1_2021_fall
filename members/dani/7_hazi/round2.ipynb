{
 "cells": [
  {
   "cell_type": "code",
   "metadata": {
    "cell_id": "00000-cb0fff2c-3d08-4cc2-8bf9-8fb7a8838b75",
    "deepnote_to_be_reexecuted": false,
    "source_hash": "35fd486b",
    "execution_start": 1637256004148,
    "execution_millis": 6,
    "deepnote_cell_type": "code"
   },
   "source": "import sys\nsys.path.insert(0, '/work/prog1_2021_fall/materials/others/')\nfrom __import_file__ import mbence\nfrom __import_file__ import dani\nfrom __import_file__ import bogi\nfrom __import_file__ import katinka\nfrom __import_file__ import keve\nfrom __import_file__ import dorka\nfrom __import_file__ import eszter\nfrom __import_file__ import szabi\nfrom __import_file__ import hako",
   "outputs": [],
   "execution_count": null
  },
  {
   "cell_type": "markdown",
   "source": "## mbence",
   "metadata": {
    "cell_id": "00001-b4a395d9-ae24-4b04-a211-d43f407e3ab3",
    "deepnote_cell_type": "markdown"
   }
  },
  {
   "cell_type": "markdown",
   "source": "Definiálunk egy függvényt amely egy stringekből álló tömböt vár paraméterként, és visszatérési értéke egész szám, azaz integer. Deklarálunk 2 változót. amelyeket kezdőértékkel látunk el. Egy for ciklus segítségével 0-tól a paraméterként kapott lista hosszáig iterálunk. A ciklusmagon belül deklarálunk egy további változót, amit ugyancsak kezdőértékkel látunk el. Mindezek után egy másik for ciklussal amellyel a tömb egyes stringjeit járjuk be. A beágyazott ciklusban egy elágazást manifesztálunk, amely egy VAGY logikai kapcsolattal ellátott feltételt ellenőriz. A feltétel teljesülése esetén egy értékadás történik, a külső ciklusmagban deklarált (2. mondat) változón. A belső ciklus lefutása után egy elágazás feltételeként összehasonlítjuk a függvénytörzsben létrehozott változót a beágyazott ciklusban módosított változóval. Minden esetben a nagyobb értékű változó ad értéket a függvénytörzsben lévő változónak. A függvénytörzsben létrehozott másik változóban, eltároljuk a külső ciklus jelenlegi indexét. A folyamat végén az eltárolt pozíciót visszaadjuk.",
   "metadata": {
    "tags": [],
    "cell_id": "00002-4c357baf-a17f-4bcf-8b68-3c9aacce176e",
    "deepnote_cell_type": "markdown"
   }
  },
  {
   "cell_type": "code",
   "metadata": {
    "cell_id": "00002-fabba142-ea1c-4f30-adc4-dbf75dc61ac2",
    "deepnote_to_be_reexecuted": false,
    "source_hash": "8eb7f1d3",
    "execution_start": 1637249826032,
    "execution_millis": 7,
    "deepnote_cell_type": "code"
   },
   "source": "def mbence_solution(block_of_strings):\n    a = 0\n    b = 0\n    for i in range(len(block_of_strings)):\n        c = 0\n        for i in range(str in block_of_strings)\n    # modify this function\n    # return value and parameters and all\n    return 0",
   "outputs": [
    {
     "output_type": "error",
     "ename": "SyntaxError",
     "evalue": "invalid syntax (<ipython-input-2-efa9229988db>, line 6)",
     "traceback": [
      "\u001b[0;36m  File \u001b[0;32m\"<ipython-input-2-efa9229988db>\"\u001b[0;36m, line \u001b[0;32m6\u001b[0m\n\u001b[0;31m    for i in range(str in block_of_strings)\u001b[0m\n\u001b[0m                                           ^\u001b[0m\n\u001b[0;31mSyntaxError\u001b[0m\u001b[0;31m:\u001b[0m invalid syntax\n"
     ]
    }
   ],
   "execution_count": null
  },
  {
   "cell_type": "code",
   "metadata": {
    "cell_id": "00003-8bab5df3-8a08-4407-b79e-6cb3c56d19a4",
    "deepnote_to_be_reexecuted": false,
    "source_hash": "8d319ea3",
    "execution_start": 1637249826593,
    "execution_millis": 704,
    "deepnote_cell_type": "code"
   },
   "source": "mbence.evaluate(mbence_solution)",
   "outputs": [
    {
     "output_type": "error",
     "ename": "NameError",
     "evalue": "name 'mbence_solution' is not defined",
     "traceback": [
      "\u001b[0;31m---------------------------------------------------------------------------\u001b[0m",
      "\u001b[0;31mNameError\u001b[0m                                 Traceback (most recent call last)",
      "\u001b[0;32m<ipython-input-3-436661386fda>\u001b[0m in \u001b[0;36m<module>\u001b[0;34m\u001b[0m\n\u001b[0;32m----> 1\u001b[0;31m \u001b[0mmbence\u001b[0m\u001b[0;34m.\u001b[0m\u001b[0mevaluate\u001b[0m\u001b[0;34m(\u001b[0m\u001b[0mmbence_solution\u001b[0m\u001b[0;34m)\u001b[0m\u001b[0;34m\u001b[0m\u001b[0;34m\u001b[0m\u001b[0m\n\u001b[0m",
      "\u001b[0;31mNameError\u001b[0m: name 'mbence_solution' is not defined"
     ]
    }
   ],
   "execution_count": null
  },
  {
   "cell_type": "markdown",
   "source": "## dani",
   "metadata": {
    "cell_id": "00004-76bd00f5-ee32-4f24-acfe-3a018fae1bc2",
    "deepnote_cell_type": "markdown"
   }
  },
  {
   "cell_type": "code",
   "metadata": {
    "cell_id": "00005-1b2c0432-5a26-4767-916d-a75191acc296",
    "deepnote_cell_type": "code"
   },
   "source": "def dani_solution():\n    # modify this function\n    # return value and parameters and all\n    return 0",
   "execution_count": null,
   "outputs": []
  },
  {
   "cell_type": "code",
   "metadata": {
    "cell_id": "00006-3745916f-0cb3-45c7-9fa9-94e882e5d83c",
    "deepnote_cell_type": "code"
   },
   "source": "dani.evaluate(dani_solution)",
   "execution_count": null,
   "outputs": []
  },
  {
   "cell_type": "markdown",
   "source": "## bogi",
   "metadata": {
    "cell_id": "00007-b4aa893a-8db7-4ae2-b1e4-0dc5d2533724",
    "deepnote_cell_type": "markdown"
   }
  },
  {
   "cell_type": "markdown",
   "source": "Úgy indulunk, hogy van egy list_of_numbers nevű listám. Először deklarálom a result változót és 0 értéket adok neki. Aztán a list_of_numbers listából halmazt alakítok, majd ezt vissza alakítom listává. Ezután írok egy for ciklust: a ciklus végigiterál a lista elemein azon feltételek szerint, hogy a lista eleme páratlan és pozitív. Amely elemeknél ezek a feltételek teljesülnek, azokat hozzáadom a result változóhoz. Végül meghívom a result visszatérési értékét",
   "metadata": {
    "tags": [],
    "cell_id": "00008-5adc7955-8fbb-46c4-abfe-09c1818779dd",
    "deepnote_cell_type": "markdown"
   }
  },
  {
   "cell_type": "code",
   "metadata": {
    "cell_id": "00008-2c90e602-f89a-4fb2-8785-b0b9d3fcab03",
    "deepnote_to_be_reexecuted": false,
    "source_hash": "d920dbe5",
    "execution_start": 1637256038607,
    "execution_millis": 28,
    "deepnote_cell_type": "code"
   },
   "source": "def bogi_solution(list_of_numbers):\n    result = 0\n    set_of_numbers = set(list_of_numbers)\n    list_of_numbers2 = list(set_of_numbers)\n    for i in range(len(list_of_numbers2)):\n        if list_of_numbers2[i]%2==1 and list_of_numbers2[i] > 0:\n            result += list_of_numbers2[i]\n    return result\n    # modify this function\n    # return value and parameters and all",
   "outputs": [],
   "execution_count": null
  },
  {
   "cell_type": "code",
   "metadata": {
    "cell_id": "00009-4053139c-aa9c-4554-80e3-55a6acfea783",
    "deepnote_to_be_reexecuted": false,
    "source_hash": "77f6887",
    "execution_start": 1637256040720,
    "execution_millis": 185,
    "deepnote_cell_type": "code"
   },
   "source": "bogi.evaluate(bogi_solution)",
   "outputs": [
    {
     "name": "stdout",
     "text": "- success rate: 497/497 (100.0%)\n- error count: 0\n- best performance: 1\n- worst performance: 1\n- mean performance: 1.0\n",
     "output_type": "stream"
    }
   ],
   "execution_count": null
  },
  {
   "cell_type": "markdown",
   "source": "## katinka",
   "metadata": {
    "cell_id": "00010-52903e8b-c17c-4d00-887a-90349183ce9b",
    "deepnote_cell_type": "markdown"
   }
  },
  {
   "cell_type": "markdown",
   "source": "* Definiálok egy függvényt, melynek egy integer lista típusú paramétere van.\n* Az első utasítás során a bemeneti értékeket/listát sorrendbe rendezi a program, csökkenő sorrendben.\n* Ezután definiálok egy új változót (\"a\"), melynek a 0 értéket adom.\n* Definiálok ezt követően egy újabb változót (\"b\"), mely meghívja a rendezett lista \"a\"-dik elemét, majd egy listát csinál a ennek az elemnek a számjegyeiből azon feltétel mellett, hogy az integer nem negatív (nem tartalmazza a \"-\" jelet).\n* Ezután egy olyan ciklust hozok létre, mely azt vizsgálja, hogy a \"b\" lista nem egyenlő-e a \"b\" lista növekvő sorrendbe állított változatával. A \"True\" elágazás mentén továbbhaladva a függvényt utasítom, hogy növelje eggyel az \"a\" értékét, azonban ha már a növelt érték nagyobb lenne, mint az eredeti listám elemszáma, a visszatérési érték 0. Ha még nem nagyobb, akkor módosítsa a \"b\" listát az \"a\" elemszámainak megfelelő listává a már korábbiak szerint. A \"False\" elágazás mentén pedig a visszatérési érték a legutóbbi \"a\".",
   "metadata": {
    "tags": [],
    "cell_id": "00011-70ccab9f-55e0-40a6-a744-837510308f31",
    "deepnote_cell_type": "markdown"
   }
  },
  {
   "cell_type": "code",
   "metadata": {
    "cell_id": "00011-c6dd08aa-6d56-452f-942f-ba5fd0c10f83",
    "deepnote_to_be_reexecuted": false,
    "source_hash": "d7a84ea0",
    "execution_start": 1637075949333,
    "execution_millis": 2,
    "deepnote_cell_type": "code"
   },
   "source": "def katinka_solution(input_list):\n    # modify this function\n    # return value and parameters and all\n    list2 = sorted(input_list, reverse = True)\n    a = 0\n    if list2[a] >= 0:\n        b = list(str(list2[a]))\n    while sorted(b) != b:\n        a += 1\n        if a >= len(list2):\n            return 0\n        else:\n            b = list(str(list2[a]))\n    return list2[a]",
   "execution_count": null,
   "outputs": []
  },
  {
   "cell_type": "code",
   "metadata": {
    "cell_id": "00012-954b9125-38ef-46a7-a258-b534f973242f",
    "deepnote_to_be_reexecuted": false,
    "source_hash": "23aa5959",
    "execution_start": 1637075952649,
    "execution_millis": 409,
    "deepnote_cell_type": "code"
   },
   "source": "katinka.evaluate(katinka_solution)",
   "execution_count": null,
   "outputs": [
    {
     "name": "stdout",
     "text": "- success rate: 497/497 (100.0%)\n- error count: 0\n- best performance: 1\n- worst performance: 1\n- mean performance: 1.0\n",
     "output_type": "stream"
    }
   ]
  },
  {
   "cell_type": "markdown",
   "source": "## keve\n#### find the number of strings in a list of strings that contain a given letter\n\nupper or lower case\n\n> ```[\"abfg\", \"Bcd\", \"Ijk\"], \"b\" -> 2```",
   "metadata": {
    "cell_id": "00013-045d965b-ae1d-459e-8fe7-aa03984c4f1a",
    "deepnote_cell_type": "markdown"
   }
  },
  {
   "cell_type": "code",
   "metadata": {
    "cell_id": "00014-8235c3aa-8cfa-43a9-8fce-d1250ceaf207",
    "deepnote_cell_type": "code"
   },
   "source": "def keve_solution(list_of_strings, letter):\n    # modify this function\n    # return value and parameters and all\n    return 0",
   "execution_count": null,
   "outputs": []
  },
  {
   "cell_type": "code",
   "metadata": {
    "cell_id": "00015-be613e81-82d5-4c85-9f50-ddb36902f7fb",
    "deepnote_cell_type": "code"
   },
   "source": "keve.evaluate(keve_solution)",
   "execution_count": null,
   "outputs": []
  },
  {
   "cell_type": "markdown",
   "source": "## dorka",
   "metadata": {
    "cell_id": "00016-23319bab-f312-4220-9338-e528eb8a14cb",
    "deepnote_cell_type": "markdown"
   }
  },
  {
   "cell_type": "markdown",
   "source": "Először definiálom a függvényt, amelynek 2 paramétere van az egyik egy lista, amiben szavak vannak, a másik paramétere pedig egy betű. Utána a változóknak adok egy értéket, melyben azt mondom, hogy az első változó értéke üres szó, a második változó értéke pedig a 0. Ezután egy for ciklus segítségével végigmegyünk a szavak listáján az elejétől a végéig. A ciklusban a program megszámolja, hogy egy szóban egy betű hányszor szerepel, közben azt kiküszöbölve, hogy a szavakban vegyesen vannak kis és nagybetűk, mivel a függvényem minden betűt naggyá alakít. Itt következik egy if feltétel, mely szerint ha a kapott szám nagyobb, mint 0, akkor ez lesz az \"új\" legnagyobb szám és a következőkben már ehhez hasonlítja a többi szóban szereplő előfordulást. A végén a függvényem visszatérési értéke egy szó lesz, azaz egy string.",
   "metadata": {
    "tags": [],
    "cell_id": "00018-5ba610a3-4a58-4d04-8cc0-7114d114013b",
    "deepnote_cell_type": "markdown"
   }
  },
  {
   "cell_type": "code",
   "metadata": {
    "cell_id": "00017-6b0e4d6c-6e41-472f-9331-5eaf770cd1b1",
    "deepnote_cell_type": "code"
   },
   "source": "def dorka_solution(list_of_words, letter):\n    a = \"\"\n    b = 0\n    for i in range(len(list_of_words)):\n        list_of_words[i] == upper(list_of_words[i])\n\n\n    # modify this function\n    # return value and parameters and all\n    return 0",
   "execution_count": null,
   "outputs": []
  },
  {
   "cell_type": "code",
   "metadata": {
    "cell_id": "00018-4f4daa86-5d1b-48d0-9975-71eebbcfd523",
    "deepnote_cell_type": "code"
   },
   "source": "dorka.evaluate(dorka_solution)",
   "execution_count": null,
   "outputs": []
  },
  {
   "cell_type": "markdown",
   "source": "## eszter",
   "metadata": {
    "cell_id": "00019-047c5967-935d-4e8e-9ca4-605abff99c3f",
    "deepnote_cell_type": "markdown"
   }
  },
  {
   "cell_type": "markdown",
   "source": "A függvényem a következő képpen épül fel: először is definiálom a függvényt: 2 paramétere van, egy lista adat és egy integer. Ez után értéket adok egy új listának, amin belül indítok egy for ciklust, ami a a függvény paraméterei között deklarált lista elemein iterál végig elemről elemre és itt van egy if elágazás, ami az egyes elemeket és a paraméterként deklarált integerrel számít. Ismét van egy if elágazás, ami a második listát vizsgálja, majd van egy else ág, hogy visszakapjam a megfelelő értékeket.",
   "metadata": {
    "tags": [],
    "cell_id": "00021-f7bb39bd-851e-4b9d-a062-ddb0826d0023",
    "deepnote_cell_type": "markdown"
   }
  },
  {
   "cell_type": "code",
   "metadata": {
    "cell_id": "00020-cabbf94f-421d-4abf-af16-73928e9053e2",
    "deepnote_to_be_reexecuted": false,
    "source_hash": "83e93371",
    "execution_start": 1637173254957,
    "execution_millis": 3,
    "deepnote_cell_type": "code"
   },
   "source": "def eszter_solution(input_list, input_int):\n    list2 = []\n    for i in range(len(input_list)):\n        for i in range(input_list):\n            list2 = (input_list[i], input_int)\n        if\n    # modify this function\n    # return value and parameters and all\n    return 0",
   "execution_count": null,
   "outputs": [
    {
     "output_type": "error",
     "ename": "SyntaxError",
     "evalue": "invalid syntax (<ipython-input-6-d0bdbb31bb29>, line 6)",
     "traceback": [
      "\u001b[0;36m  File \u001b[0;32m\"<ipython-input-6-d0bdbb31bb29>\"\u001b[0;36m, line \u001b[0;32m6\u001b[0m\n\u001b[0;31m    if\u001b[0m\n\u001b[0m      ^\u001b[0m\n\u001b[0;31mSyntaxError\u001b[0m\u001b[0;31m:\u001b[0m invalid syntax\n"
     ]
    }
   ]
  },
  {
   "cell_type": "code",
   "metadata": {
    "cell_id": "00021-c8ca9b9a-eb6c-4ad3-9204-389c51dfeaa8",
    "deepnote_cell_type": "code"
   },
   "source": "eszter.evaluate(eszter_solution)",
   "execution_count": null,
   "outputs": []
  },
  {
   "cell_type": "markdown",
   "source": "## szabi",
   "metadata": {
    "cell_id": "00022-38306070-e061-4258-bf01-09fc450b77b6",
    "deepnote_cell_type": "markdown"
   }
  },
  {
   "cell_type": "markdown",
   "source": "A program a következő módon működik:\nElőször definiálok egy függvényt (egy paraméterrel, ami a bemenő számok listája), majd deklarálok egy üres listát.\nEzután létrehozok egy for ciklust, ami végighalad a bemenő számok listáján. A ciklusmagban\negy elágazással vizsgálom, hogy az adott szám (amit a bemenő listából épp vizsgálok) kétszerese szerepel-e a bemeneti listában.\nAmennyiben a feltétel teljesül, az adott számot hozzátoldom a korábban létrehozott üres listához.\nVégül egy újabb elágazás segítségével (már a cikluson kívül) határozom meg a visszatérési értéket. Ha annak a listának a hossza, amelyben az elemeket gyűjtöm \n0 (tehát nem volt olyan szám, amelynek szerepelne a kétszerese a bemeneti listában), akkor a visszatérési érték 0. \nHa a vizsgált lista hossza nem 0, akkor a visszatérési érték annak listának a legkisebb eleme, amelybe az elemeket gyűjtöttem.",
   "metadata": {
    "tags": [],
    "cell_id": "00025-da4c1289-119d-4773-b389-2b86200f49f3",
    "deepnote_cell_type": "markdown"
   }
  },
  {
   "cell_type": "code",
   "metadata": {
    "cell_id": "00023-e84c4923-9240-4e0a-9169-060c1c4bc649",
    "deepnote_to_be_reexecuted": false,
    "source_hash": "e6431208",
    "execution_start": 1637173312102,
    "execution_millis": 0,
    "deepnote_cell_type": "code"
   },
   "source": "def szabi_solution(list_of_numbers):\n    list2 = []\n    for i in range(len(list_of_numbers)):\n        if 2*list_of_numbers[i] in (list_of_numbers):\n            list2.append(list_of_numbers[i])\n    if len(list2) == 0:\n        return 0\n    else:\n        return min(list2)\n    # modify this function\n    # return value and parameters and all\n    return 0",
   "execution_count": null,
   "outputs": []
  },
  {
   "cell_type": "code",
   "metadata": {
    "cell_id": "00024-04939c27-5de0-4eef-97ee-6ca2f88f0c3a",
    "deepnote_to_be_reexecuted": false,
    "source_hash": "8a2282b",
    "execution_start": 1637173316431,
    "execution_millis": 1581,
    "deepnote_cell_type": "code"
   },
   "source": "szabi.evaluate(szabi_solution)",
   "execution_count": null,
   "outputs": [
    {
     "name": "stdout",
     "text": "- success rate: 497/497 (100.0%)\n- error count: 0\n- best performance: 1\n- worst performance: 1\n- mean performance: 1.0\n",
     "output_type": "stream"
    }
   ]
  },
  {
   "cell_type": "markdown",
   "source": "## hako",
   "metadata": {
    "cell_id": "00025-72f0d17e-a485-4527-a9a7-759c94bd341d",
    "deepnote_cell_type": "markdown"
   }
  },
  {
   "cell_type": "markdown",
   "source": "",
   "metadata": {
    "tags": [],
    "cell_id": "00029-566a763b-e597-4f83-bf38-30c109da8324",
    "deepnote_cell_type": "markdown"
   }
  },
  {
   "cell_type": "code",
   "metadata": {
    "cell_id": "00026-0714e6a6-7d52-42d1-ac1d-33fbf2001e7f",
    "deepnote_cell_type": "code"
   },
   "source": "def hako_solution():\n    # modify this function\n    # return value and parameters and all\n    return 0",
   "execution_count": null,
   "outputs": []
  },
  {
   "cell_type": "code",
   "metadata": {
    "cell_id": "00027-dd36d29e-f7fa-4025-b84f-0beb29324ff7",
    "deepnote_cell_type": "code"
   },
   "source": "hako.evaluate(hako_solution)",
   "execution_count": null,
   "outputs": []
  },
  {
   "cell_type": "markdown",
   "source": "<a style='text-decoration:none;line-height:16px;display:flex;color:#5B5B62;padding:10px;justify-content:end;' href='https://deepnote.com?utm_source=created-in-deepnote-cell&projectId=978e47b7-a961-4dca-a945-499e8b781a34' target=\"_blank\">\n<img alt='Created in deepnote.com' style='display:inline;max-height:16px;margin:0px;margin-right:7.5px;' src='data:image/svg+xml;base64,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' > </img>\nCreated in <span style='font-weight:600;margin-left:4px;'>Deepnote</span></a>",
   "metadata": {
    "tags": [],
    "created_in_deepnote_cell": true,
    "deepnote_cell_type": "markdown"
   }
  }
 ],
 "nbformat": 4,
 "nbformat_minor": 2,
 "metadata": {
  "kernelspec": {
   "display_name": "Python 3",
   "language": "python",
   "name": "python3"
  },
  "language_info": {
   "codemirror_mode": {
    "name": "ipython",
    "version": 3
   },
   "file_extension": ".py",
   "mimetype": "text/x-python",
   "name": "python",
   "nbconvert_exporter": "python",
   "pygments_lexer": "ipython3",
   "version": "3.9.0"
  },
  "deepnote_notebook_id": "da7fab74-1d21-4dd1-ac08-95f94d57ee2f",
  "deepnote": {},
  "deepnote_execution_queue": []
 }
}