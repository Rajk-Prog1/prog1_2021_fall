{
 "cells": [
  {
   "cell_type": "markdown",
   "source": "**A) k-nak és d-nek van közös lánya:**  \n$\\exists x(N(x)\\land P(k,x)\\land P(d,x))$\n\n> Jó megoldás!",
   "metadata": {
    "tags": [],
    "cell_id": "00001-a4b46aac-1fe9-49fe-99ff-c449f89c444e",
    "deepnote_cell_type": "markdown"
   }
  },
  {
   "cell_type": "markdown",
   "source": "**B) Csak a férfiak között vannak gyermektelenek:**  \n$\\exists x(\\nexists y(P(x,y))\\Leftrightarrow F(x))$\n\n> Így azt mondod, hogy létezik olyan személy, aki akkor és csak is akkor férfi, ha nincs gyereke.",
   "metadata": {
    "tags": [],
    "cell_id": "00002-1c5aeb1a-6f45-4a23-9f9e-49c6a83bb3cf",
    "deepnote_cell_type": "markdown"
   }
  },
  {
   "cell_type": "markdown",
   "source": "**C) Vannak egynemű testvérek:**  \n$\\exists x(P(y,x) \\land \\exists z(P(y,z)) \\land (F(x)\\Leftrightarrow F(z)) \\oplus (N(x) \\Leftrightarrow N(z)))$\n\n> * Használod az $y$ személyt, de ebben a kontextusban helytelenül. (Mivel nincs előre megadva)\n> * Ha azt írod hogy $F(x) \\Leftrightarrow F(z)$, akkor felesleges kikötni a másik oldalt is. Hisz a ha az egyikük nem férfi (tehát nő), akkor a másiknak is annak kell lennie.\n> * Ha úgy definiálsz valakit hogy $\\exists x(\\dots)$, akkor az $x$ csak a zárójelen belül értelmezhető.",
   "metadata": {
    "tags": [],
    "cell_id": "00003-4380f478-9ae3-4dda-b54d-52d5e29b4f8a",
    "deepnote_cell_type": "markdown"
   }
  },
  {
   "cell_type": "markdown",
   "source": "**D) Minden nőnek van gyereke:<br>$\\forall x(\\exists y(P(x,y))\\Leftrightarrow N(x))$**  \n\n> * Így azt mondod, hogy ha valakinek van gyereke az csak is akkor lehet, ha az illető nő. *(márpedig reméljük hogy a fogantatás után nem kaszaboltak le minden apukát)*\n> * Az eredeti állítás semmit nem mond a férfiakról.\n> * Implikációt érdemes használni, hisz azzal tehetsz megállapítást csak az egyik nemre is.",
   "metadata": {
    "tags": [],
    "cell_id": "00004-7d58979a-aaa9-4f07-9b3f-af8ba3b78046",
    "deepnote_cell_type": "markdown"
   }
  },
  {
   "cell_type": "markdown",
   "source": "**E) k-nak van lány és fiú unokája is:**  \n$\\exists x(P(y,x)\\Leftrightarrow P(k,y)\\land N(x))\\land \\exists a (P(z,a)\\Leftrightarrow P(k,z)\\land (F(a)))$\n\n> Használod az $y$ személyt, de ebben a kontextusban helytelenül. (Mivel nincs előre megadva)",
   "metadata": {
    "tags": [],
    "cell_id": "00005-1a11f64c-c5a7-4c69-a6a2-5f44adfd80e8",
    "deepnote_cell_type": "markdown"
   }
  },
  {
   "cell_type": "markdown",
   "source": "<a style='text-decoration:none;line-height:16px;display:flex;color:#5B5B62;padding:10px;justify-content:end;' href='https://deepnote.com?utm_source=created-in-deepnote-cell&projectId=978e47b7-a961-4dca-a945-499e8b781a34' target=\"_blank\">\n<img alt='Created in deepnote.com' style='display:inline;max-height:16px;margin:0px;margin-right:7.5px;' src='data:image/svg+xml;base64,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' > </img>\nCreated in <span style='font-weight:600;margin-left:4px;'>Deepnote</span></a>",
   "metadata": {
    "tags": [],
    "created_in_deepnote_cell": true,
    "deepnote_cell_type": "markdown"
   }
  }
 ],
 "nbformat": 4,
 "nbformat_minor": 2,
 "metadata": {
  "orig_nbformat": 2,
  "deepnote": {
   "is_reactive": false
  },
  "deepnote_notebook_id": "13efad05-90b6-48d4-95f0-1403f85b11ce",
  "deepnote_execution_queue": []
 }
}