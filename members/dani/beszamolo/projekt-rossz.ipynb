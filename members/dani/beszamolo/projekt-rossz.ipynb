{
 "cells": [
  {
   "cell_type": "code",
   "metadata": {
    "tags": [],
    "cell_id": "2438071c-e2f6-4ff1-abe4-50147f445341",
    "deepnote_to_be_reexecuted": false,
    "source_hash": "52866656",
    "execution_start": 1643315022077,
    "execution_millis": 22,
    "deepnote_cell_type": "code"
   },
   "source": "#Ide kell majd betenni az inputokat drága koordinátorok!:)\n#Na mondjuk nem ide, az első blokkba, ezek a listák lesznek feltöltve a végén.\n\n#Kurzustartók: Ebben a kódban közvetett érzékeny információ található, de nem tudtam máshogy megmutatni, hogy működik, úgy nézzétek légyszives\n\nhetfo = []\nkedd = []\nszerda = []\ncsutortok = []\npentek = []\nszombat = []\nvarialni_kell = []\n\n#Innentől dolgozzatok és formáljátok az inputok értékeit az évetekre!\n\n#FEB megbeszélése a napok hosszáról:\n\nalap_max = 12\nextra_max = 3\n\n#FEB ennyi embert szeretne a kategóriákból:\n\nhetfo_1 = 0\nhetfo_2 = 0\nhetfo_3 = 0\nhetfo_4 = 0\n\nkedd_1 = 0\nkedd_2 = 0\nkedd_3 = 0\nkedd_4 = 0\n\nszerda_1 = 7\nszerda_2 = 1\nszerda_3 = 1\nszerda_4 = 3\n\ncsutortok_1 = 4\ncsutortok_2 = 2\ncsutortok_3 = 2\ncsutortok_4 = 4\n\npentek_1 = 4\npentek_2 = 2\npentek_3 = 2\npentek_4 = 4 \n\nszombat_1 = 2\nszombat_2 = 1 \nszombat_3 = 0 \nszombat_4 = 0\n\n#Kedves koordinátorok, legszopóbb rész következik. Ezeket a listákat töltsétek fel:\n\ncat_1 = ['Szijártó Eszter Zsanett' , 'Vincze Dorka Éva' , 'Pál Anna' , 'Szuszky Gergő' , 'Fábián Fanni' , 'Pólik Ádám' , 'Németh Eszter' , 'Marits Regina Hajnalka' , 'Fónai Edina' , 'Szabó Ágoston' , 'Spinou Heléna Laura' , 'Szabó Bianka' , 'Keszey Tímea Ilona' , 'Nagy Tünde' , 'Sziládi Sára' , 'Balla Anita' , 'Kaló Gergely Boldizsár']\ncat_2 = ['Szalai Evelin' , 'Ráduly Kincső' , 'Gergácz Éva Emese' , 'Korcsok Rita' , 'Völgyi Dóra' , 'Kozma Virág Boglárka']\ncat_3 = ['Nagy Dalma' , 'Koncz Dorina' , 'Bagi Edina' , 'Le Pálma Anh-Dao' , 'Németh Regina' , 'Aranyos Hédi Andrea']\ncat_4 = ['Takács Levente' , 'Fábián Sándor' , 'Kádár Sarolta' , 'Czumbil Jasmin' , 'Rácz Odett' , 'Turóczi Boglárka' , 'Szilágyi Norbert' , 'Lamberg-Liszkay Zsófia' , 'Böde Ádám' , 'Kálmán Vivien']\n\nhetfo_jo_neki = ['Szijártó Eszter Zsanett' , 'Szalai Evelin' , 'Ráduly Kincső' , 'Pólik Ádám' , 'Németh Eszter' , 'Fábián Sándor' , 'Spinou Heléna Laura' , 'Keszey Tímea Viktória' , 'Nagy Tünde' , 'Sziládi Sára' , 'Balla Anita' , 'Böde Ádám' , 'Kaló Gergely Boldizsár' , 'Németh Regina' , 'Kozma Virág Boglárka']\nkedd_jo_neki = ['Vincze Dorka Éva' , 'Takács Levente' , 'Pál Anna' , 'Ráduly Kincső' , 'Pólik Ádám' , 'Marits Regina Hajnalka' , 'Fónai Edina' , 'Fábián Sándor' , 'Keszey Tímea Zsófia' , 'Sziládi Sára' , 'Szilágyi Norbert' , 'Balla Anita' , 'Kaló Gergely Boldizsár' , 'Németh Regina' , 'Kozma Virág Boglárka']\nszerda_jo_neki = ['Koncz Dorina' , 'Ráduly Kincső' , 'Fábián Sándor' , 'Szabó Bianka' , 'Keszey Tímea Zsófia' , 'Sziládi Sára' , 'Balla Anita' , 'Németh Regina' , 'Kozma Virág Boglárka']\ncsutortok_jo_neki = ['Ráduly Kincső' , 'Fábián Sándor' , 'Gergácz Éva Emese' , 'Korcsok Rita' , 'Szabó Ágoston' , 'Spinou Heléna Laura' , 'Szabó Bianka' , 'Keszey Tímea Laura' , 'Rácz Odett' , 'Sziládi Sára' , 'Balla Anita' , 'Németh Regina' , 'Kozma Virág Boglárka' , 'Kálmán Vivien']\npentek_jo_neki = ['Nagy Dalma' , 'Vincze Dorka Éva' , 'Takács Levente' , 'Pál Anna' , 'Ráduly Kincső' , 'Szuszky Gergő' , 'Fábián Fanni' , 'Bagi Edina' , 'Gergácz Éva Emese' , 'Szabó Ágoston' , 'Kádár Sarolta' , 'Völgyi Dóra' , 'Keszey Tímea Zsófia' , 'Czumbil Jasmin' , 'Rácz Odett' , 'Nagy Tünde' , 'Le Pálma Anh-Dao' , 'Turóczi Boglárka' , 'Sziládi Sára' , 'Szilágyi Norbert' , 'Lamberg-Liszkay Zsófia' , 'Balla Anita' , 'Németh Regina' , 'Kozma Virág Boglárka' , 'Aranyos Hédi Andrea']\nszombat_jo_neki = ['Pál Anna']\n\n#Innentől háváj dizsi, let the program fut.",
   "outputs": [],
   "execution_count": null
  },
  {
   "cell_type": "code",
   "metadata": {
    "cell_id": "f811a3f3-ef16-4130-8711-2e25670ad19d",
    "tags": [],
    "deepnote_to_be_reexecuted": false,
    "source_hash": "46b1fd0",
    "execution_start": 1643315022099,
    "execution_millis": 5,
    "deepnote_output_heights": [
     192
    ],
    "deepnote_cell_type": "code"
   },
   "source": "#Hétfő\n\nfor i in range(len(hetfo_jo_neki)):\n    if hetfo_jo_neki[i] in cat_1 and hetfo_1 > 0:\n        if len(hetfo) <= hetfo_1 and len(hetfo) <= alap_max:\n            hetfo.append(hetfo_jo_neki[i])\n        else:\n            break\n    if hetfo_jo_neki[i] in cat_2 and hetfo_2 > 0:\n        if len(hetfo) <= hetfo_1 + hetfo_2 and len(hetfo) <= alap_max:\n            hetfo.append(hetfo_jo_neki[i])\n        else:\n            break\n    if hetfo_jo_neki[i] in cat_3 and hetfo_3 > 0:\n        if len(hetfo) <= hetfo_1 + hetfo_2 + hetfo_3 and len(hetfo) <= alap_max:\n            hetfo.append(hetfo_jo_neki[i])\n        else:\n            break    \n    if hetfo_jo_neki[i] in cat_4 and hetfo_4 > 0:\n        if len(hetfo) <= hetfo_1 + hetfo_2 + hetfo_3 + hetfo_4 and len(hetfo) <= alap_max:\n            hetfo.append(hetfo_jo_neki[i])\n        else:\n            break\nprint(hetfo)\n",
   "outputs": [
    {
     "name": "stdout",
     "text": "[]\n",
     "output_type": "stream"
    }
   ],
   "execution_count": null
  },
  {
   "cell_type": "code",
   "metadata": {
    "cell_id": "cefddfbf-be29-4d24-8300-58561095731b",
    "tags": [],
    "deepnote_to_be_reexecuted": false,
    "source_hash": "e212c871",
    "execution_start": 1643315022101,
    "execution_millis": 7,
    "deepnote_cell_type": "code"
   },
   "source": "#Kedd\n\nfor i in range(len(kedd_jo_neki)):\n    if kedd_jo_neki[i] in cat_1 and kedd_1 > 0 and kedd_jo_neki[i] not in hetfo:\n        if len(kedd) <= kedd_1 and len(kedd) <= alap_max:\n            kedd.append(kedd_jo_neki[i])\n        else:\n            break\n    if kedd_jo_neki[i] in cat_2 and kedd_2 > 0  and kedd_jo_neki[i] not in hetfo:\n        if len(kedd) <= kedd_1 + kedd_2 and len(kedd) <= alap_max:\n            kedd.append(kedd_jo_neki[i])\n        else:\n            break\n    if kedd_jo_neki[i] in cat_3 and kedd_3 > 0  and kedd_jo_neki[i] not in hetfo:\n        if len(kedd) <= kedd_1 + kedd_2 + kedd_3 and len(kedd) <= alap_max:\n            kedd.append(hetfo_jo_neki[i])\n        else:\n            break    \n    if kedd_jo_neki[i] in cat_4 and kedd_4 > 0  and kedd_jo_neki[i] not in hetfo:\n        if len(kedd) <= kedd_1 + kedd_2 + kedd_3 + kedd_4 and len(kedd) <= alap_max:\n            kedd.append(kedd_jo_neki[i])\n        else:\n            break\nprint(kedd)\n",
   "outputs": [
    {
     "name": "stdout",
     "text": "[]\n",
     "output_type": "stream"
    }
   ],
   "execution_count": null
  },
  {
   "cell_type": "code",
   "metadata": {
    "cell_id": "1f295267-0ae4-4eba-803b-059daafe81e9",
    "tags": [],
    "deepnote_to_be_reexecuted": false,
    "source_hash": "b12f66ce",
    "execution_start": 1643315022107,
    "execution_millis": 5,
    "deepnote_cell_type": "code"
   },
   "source": "#Szerda\n\nfor i in range(len(szerda_jo_neki)):\n    if szerda_jo_neki[i] in cat_1 and szerda_1 > 0 and szerda_jo_neki[i] not in hetfo and szerda_jo_neki[i] not in kedd:\n        if len(szerda) <= szerda_1 and len(szerda) <= alap_max:\n            szerda.append(szerda_jo_neki[i])\n        else:\n            break\n    if szerda_jo_neki[i] in cat_2 and szerda_2 > 0 and szerda_jo_neki[i] not in hetfo and szerda_jo_neki[i] not in kedd:\n        if len(szerda) <= szerda_1 + szerda_2 and len(szerda) <= alap_max:\n            szerda.append(szerda_jo_neki[i])\n        else:\n            break\n    if szerda_jo_neki[i] in cat_3 and szerda_3 > 0 and szerda_jo_neki[i] not in hetfo and szerda_jo_neki[i] not in kedd:\n        if len(szerda) <= szerda_1 + szerda_2 + szerda_3 and len(szerda) <= alap_max:\n            szerda.append(szerda_jo_neki[i])\n        else:\n            break    \n    if szerda_jo_neki[i] in cat_4 and szerda_4 > 0 and szerda_jo_neki[i] not in hetfo and szerda_jo_neki[i] not in kedd:\n        if len(szerda) <= szerda_1 + szerda_2 + szerda_3 + szerda_4 and len(szerda) <= alap_max:\n            szerda.append(szerda_jo_neki[i])\n        else:\n            break\nprint(szerda)\n",
   "outputs": [
    {
     "name": "stdout",
     "text": "['Koncz Dorina', 'Ráduly Kincső', 'Fábián Sándor', 'Szabó Bianka', 'Sziládi Sára', 'Balla Anita', 'Németh Regina', 'Kozma Virág Boglárka']\n",
     "output_type": "stream"
    }
   ],
   "execution_count": null
  },
  {
   "cell_type": "code",
   "metadata": {
    "cell_id": "7216e0b3-c6ad-43ea-9544-419d166db425",
    "tags": [],
    "deepnote_to_be_reexecuted": false,
    "source_hash": "7501479",
    "execution_start": 1643315022116,
    "execution_millis": 3,
    "deepnote_cell_type": "code"
   },
   "source": "#Csütörtök\n\nfor i in range(len(csutortok_jo_neki)):\n    if csutortok_jo_neki[i] in cat_1 and csutortok_1 > 0 and csutortok_jo_neki[i] not in hetfo and csutortok_jo_neki[i] not in kedd and csutortok_jo_neki[i] not in szerda:\n        if len(csutortok) <= csutortok_1 and len(csutortok) <= alap_max:\n            csutortok.append(csutortok_jo_neki[i])\n        else:\n            break\n    if csutortok_jo_neki[i] in cat_2 and csutortok_2 > 0 and csutortok_jo_neki[i] not in hetfo and csutortok_jo_neki[i] not in kedd and csutortok_jo_neki[i] not in szerda:\n        if len(csutortok) <= csutortok_1 + csutortok_2 and len(csutortok) <= alap_max:\n            csutortok.append(csutortok_jo_neki[i])\n        else:\n            break\n    if csutortok_jo_neki[i] in cat_3 and csutortok_3 > 0 and csutortok_jo_neki[i] not in hetfo and csutortok_jo_neki[i] not in kedd and csutortok_jo_neki[i] not in szerda:\n        if len(csutortok) <= csutortok_1 + csutortok_2 + csutortok_3 and len(csutortok) <= alap_max:\n            csutortok.append(csutortok_jo_neki[i])\n        else:\n            break    \n    if csutortok_jo_neki[i] in cat_4 and csutortok_4 > 0 and csutortok_jo_neki[i] not in hetfo and csutortok_jo_neki[i] not in kedd and csutortok_jo_neki[i] not in szerda:\n        if len(csutortok) <= csutortok_1 + csutortok_2 + csutortok_3 + csutortok_4 and len(csutortok) <= alap_max:\n            csutortok.append(csutortok_jo_neki[i])\n        else:\n            break\n\nprint(csutortok)",
   "outputs": [
    {
     "name": "stdout",
     "text": "['Gergácz Éva Emese', 'Korcsok Rita', 'Szabó Ágoston', 'Spinou Heléna Laura', 'Rácz Odett', 'Kálmán Vivien']\n",
     "output_type": "stream"
    }
   ],
   "execution_count": null
  },
  {
   "cell_type": "code",
   "metadata": {
    "cell_id": "811e06b5-cbd0-45b5-b753-cf273d99b351",
    "tags": [],
    "deepnote_to_be_reexecuted": false,
    "source_hash": "de4192f6",
    "execution_start": 1643315022123,
    "execution_millis": 4,
    "deepnote_cell_type": "code"
   },
   "source": "#Péntek\n\nfor i in range(len(pentek_jo_neki)):\n    if pentek_jo_neki[i] in cat_1 and pentek_1 > 0 and pentek_jo_neki[i] not in hetfo and pentek_jo_neki[i] not in kedd and pentek_jo_neki[i] not in szerda and pentek_jo_neki[i] not in csutortok:\n        if len(pentek) <= pentek_1 and len(pentek) <= alap_max:\n            pentek.append(pentek_jo_neki[i])\n        else:\n            break\n    if pentek_jo_neki[i] in cat_2 and pentek_2 > 0 and pentek_jo_neki[i] not in hetfo and pentek_jo_neki[i] not in kedd and pentek_jo_neki[i] not in szerda and pentek_jo_neki[i] not in csutortok:\n        if len(pentek) <= pentek_1 + pentek_2 and len(pentek) <= alap_max:\n            pentek.append(pentek_jo_neki[i])\n        else:\n            break\n    if pentek_jo_neki[i] in cat_3 and pentek_3 > 0 and pentek_jo_neki[i] not in hetfo and pentek_jo_neki[i] not in kedd and pentek_jo_neki[i] not in szerda and pentek_jo_neki[i] not in csutortok:\n        if len(pentek) <= pentek_1 + pentek_2 + pentek_3 and len(pentek) <= alap_max:\n            pentek.append(pentek_jo_neki[i])\n        else:\n            break    \n    if pentek_jo_neki[i] in cat_4 and pentek_4 > 0 and pentek_jo_neki[i] not in hetfo and pentek_jo_neki[i] not in kedd and pentek_jo_neki[i] not in szerda and pentek_jo_neki[i] not in csutortok:\n        if len(pentek) <= pentek_1 + pentek_2 + pentek_3 + pentek_4 and len(pentek) <= alap_max:\n            pentek.append(pentek_jo_neki[i])\n        else:\n            break\n\nprint(pentek)",
   "outputs": [
    {
     "name": "stdout",
     "text": "['Nagy Dalma', 'Vincze Dorka Éva', 'Takács Levente', 'Pál Anna', 'Szuszky Gergő']\n",
     "output_type": "stream"
    }
   ],
   "execution_count": null
  },
  {
   "cell_type": "code",
   "metadata": {
    "cell_id": "099682e1-0129-46a6-98ff-34c207ecc92b",
    "tags": [],
    "deepnote_to_be_reexecuted": false,
    "source_hash": "5961d5f2",
    "execution_start": 1643315022175,
    "execution_millis": 9,
    "deepnote_cell_type": "code"
   },
   "source": "#Szombat\n\nfor i in range(len(szombat_jo_neki)):\n    if szombat_jo_neki[i] in cat_1 and szombat_1 > 0 and szombat_jo_neki[i] not in hetfo and szombat_jo_neki[i] not in kedd and szombat_jo_neki[i] not in szerda and szombat_jo_neki[i] not in csutortok and szombat_jo_neki[i] not in pentek:\n        if len(szombat) <= szombat_1 and len(szombat) <= extra_max:\n            szombat.append(szombat_jo_neki[i])\n        else:\n            break\n    if szombat_jo_neki[i] in cat_2 and szombat_2 > 0 and szombat_jo_neki[i] not in hetfo and szombat_jo_neki[i] not in kedd and szombat_jo_neki[i] not in szerda and szombat_jo_neki[i] not in csutortok and szombat_jo_neki[i] not in pentek:\n        if len(szombat) <= szombat_1 + szombat_2 and len(szombat) <= extra_max:\n            szombat.append(szombat_jo_neki[i])\n        else:\n            break\n    if szombat_jo_neki[i] in cat_3 and szombat_3 > 0 and szombat_jo_neki[i] not in hetfo and szombat_jo_neki[i] not in kedd and szombat_jo_neki[i] not in szerda and szombat_jo_neki[i] not in csutortok  and szombat_jo_neki[i] not in pentek:\n        if len(szombat) <= szombat_1 + szombat_2 + szombat_3 and len(szombat) <= extra_max:\n            szombat.append(szombat_jo_neki[i])\n        else:\n            break    \n    if szombat_jo_neki[i] in cat_4 and szombat_4 > 0 and szombat_jo_neki[i] not in hetfo and szombat_jo_neki[i] not in kedd and szombat_jo_neki[i] not in szerda and szombat_jo_neki[i] not in csutortok  and szombat_jo_neki[i] not in pentek:\n        if len(szombat) <= szombat_1 + szombat_2 + szombat_3 + szombat_4 and  len(szombat) <= extra_max:\n            szombat.append(szombat_jo_neki[i])\n        else:\n            break\n\nprint(szombat)",
   "outputs": [
    {
     "name": "stdout",
     "text": "[]\n",
     "output_type": "stream"
    }
   ],
   "execution_count": null
  },
  {
   "cell_type": "code",
   "metadata": {
    "cell_id": "6ff0256e-274d-43cc-8f94-548121e3265d",
    "tags": [],
    "deepnote_to_be_reexecuted": false,
    "source_hash": "7da45dc0",
    "execution_start": 1643315022176,
    "execution_millis": 8,
    "deepnote_cell_type": "code"
   },
   "source": "#Variálni kell\n#Ők sajnos nem felelnek meg minden feltételnek.\n\njelentkezok = cat_1 + cat_2 + cat_3 + cat_4\n\nfor i in range(len(jelentkezok)):\n    if jelentkezok[i] not in hetfo and jelentkezok[i] not in kedd and jelentkezok[i] not in szerda and jelentkezok[i] not in csutortok and jelentkezok[i] not in pentek and jelentkezok[i] not in szombat:\n        varialni_kell.append(jelentkezok[i])\n\nprint(varialni_kell)",
   "outputs": [
    {
     "name": "stdout",
     "text": "['Szijártó Eszter Zsanett', 'Fábián Fanni', 'Pólik Ádám', 'Németh Eszter', 'Marits Regina Hajnalka', 'Fónai Edina', 'Keszey Tímea Ilona', 'Nagy Tünde', 'Kaló Gergely Boldizsár', 'Szalai Evelin', 'Völgyi Dóra', 'Bagi Edina', 'Le Pálma Anh-Dao', 'Aranyos Hédi Andrea', 'Kádár Sarolta', 'Czumbil Jasmin', 'Turóczi Boglárka', 'Szilágyi Norbert', 'Lamberg-Liszkay Zsófia', 'Böde Ádám']\n",
     "output_type": "stream"
    }
   ],
   "execution_count": null
  },
  {
   "cell_type": "markdown",
   "source": "<a style='text-decoration:none;line-height:16px;display:flex;color:#5B5B62;padding:10px;justify-content:end;' href='https://deepnote.com?utm_source=created-in-deepnote-cell&projectId=978e47b7-a961-4dca-a945-499e8b781a34' target=\"_blank\">\n<img alt='Created in deepnote.com' style='display:inline;max-height:16px;margin:0px;margin-right:7.5px;' src='data:image/svg+xml;base64,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' > </img>\nCreated in <span style='font-weight:600;margin-left:4px;'>Deepnote</span></a>",
   "metadata": {
    "tags": [],
    "created_in_deepnote_cell": true,
    "deepnote_cell_type": "markdown"
   }
  }
 ],
 "nbformat": 4,
 "nbformat_minor": 2,
 "metadata": {
  "orig_nbformat": 2,
  "deepnote": {
   "is_reactive": false
  },
  "deepnote_notebook_id": "13d4dcc8-dcb4-4a42-bc32-b6798405d913",
  "deepnote_execution_queue": []
 }
}