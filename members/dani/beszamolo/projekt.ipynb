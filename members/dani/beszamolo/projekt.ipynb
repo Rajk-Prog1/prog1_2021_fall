{
 "cells": [
  {
   "cell_type": "code",
   "metadata": {
    "tags": [],
    "deepnote_to_be_reexecuted": false,
    "source_hash": "1517c66e",
    "execution_start": 1643398488777,
    "execution_millis": 33,
    "cell_id": "8dc0aa2c-dd65-49a0-9a29-e890aa9880a1",
    "deepnote_cell_type": "code"
   },
   "source": "#Ide kell majd betenni az inputokat drága koordinátorok!:)\n#Na mondjuk nem ide, az első blokkba, ezek a listák lesznek feltöltve a végén.\n\n#Kurzustartók: Ebben a kódban közvetett érzékeny információ található, de nem tudtam máshogy megmutatni, hogy működik, úgy nézzétek légyszives\n\nhetfo = []\nhetfo_cat1 = []\nhetfo_cat2 = []\nhetfo_cat3 = []\nhetfo_cat4 = []\nkedd = []\nkedd_cat1 = []\nkedd_cat2 = []\nkedd_cat3 = []\nkedd_cat4 = []\nszerda = []\nszerda_cat1 = []\nszerda_cat2 = []\nszerda_cat3 = []\nszerda_cat4 = []\ncsutortok = []\ncsutortok_cat1 = []\ncsutortok_cat2 = []\ncsutortok_cat3 = []\ncsutortok_cat4 = []\npentek = []\npentek_cat1 = []\npentek_cat2 = []\npentek_cat3 = []\npentek_cat4 = []\nszombat = []\nszombat_cat1 = []\nszombat_cat2 = []\nszombat_cat3 = []\nszombat_cat4 = []\nvarialni_kell = []\n\n#Innentől dolgozzatok és formáljátok az inputok értékeit az évetekre!\n\n#FEB ennyi embert szeretne a kategóriákból:\n\nhetfo_1 = 0\nhetfo_2 = 0\nhetfo_3 = 0\nhetfo_4 = 0\n\nkedd_1 = 0\nkedd_2 = 0\nkedd_3 = 0\nkedd_4 = 0\n\nszerda_1 = 7\nszerda_2 = 1\nszerda_3 = 1\nszerda_4 = 3\n\ncsutortok_1 = 4\ncsutortok_2 = 2\ncsutortok_3 = 2\ncsutortok_4 = 4\n\npentek_1 = 4\npentek_2 = 2\npentek_3 = 2\npentek_4 = 4 \n\nszombat_1 = 2\nszombat_2 = 1 \nszombat_3 = 0 \nszombat_4 = 0\n\n#Kedves koordinátorok, legszopóbb rész következik. Ezeket a listákat töltsétek fel:\n\ncat_1 = ['Szijártó Eszter Zsanett' , 'Vincze Dorka Éva' , 'Pál Anna' , 'Szuszky Gergő' , 'Fábián Fanni' , 'Pólik Ádám' , 'Németh Eszter' , 'Marits Regina Hajnalka' , 'Fónai Edina' , 'Szabó Ágoston' , 'Spinou Heléna Laura' , 'Szabó Bianka' , 'Keszey Tímea Ilona' , 'Nagy Tünde' , 'Sziládi Sára' , 'Balla Anita' , 'Kaló Gergely Boldizsár']\ncat_2 = ['Szalai Evelin' , 'Ráduly Kincső' , 'Gergácz Éva Emese' , 'Korcsok Rita' , 'Völgyi Dóra' , 'Kozma Virág Boglárka']\ncat_3 = ['Nagy Dalma' , 'Koncz Dorina' , 'Bagi Edina' , 'Le Pálma Anh-Dao' , 'Németh Regina' , 'Aranyos Hédi Andrea']\ncat_4 = ['Takács Levente' , 'Fábián Sándor' , 'Kádár Sarolta' , 'Czumbil Jasmin' , 'Rácz Odett' , 'Turóczi Boglárka' , 'Szilágyi Norbert' , 'Lamberg-Liszkay Zsófia' , 'Böde Ádám' , 'Kálmán Vivien']\n\nhetfo_jo_neki = ['Szijártó Eszter Zsanett' , 'Szalai Evelin' , 'Ráduly Kincső' , 'Pólik Ádám' , 'Németh Eszter' , 'Fábián Sándor' , 'Spinou Heléna Laura' , 'Keszey Tímea Viktória' , 'Nagy Tünde' , 'Sziládi Sára' , 'Balla Anita' , 'Böde Ádám' , 'Kaló Gergely Boldizsár' , 'Németh Regina' , 'Kozma Virág Boglárka']\nkedd_jo_neki = ['Vincze Dorka Éva' , 'Takács Levente' , 'Pál Anna' , 'Ráduly Kincső' , 'Pólik Ádám' , 'Marits Regina Hajnalka' , 'Fónai Edina' , 'Fábián Sándor' , 'Keszey Tímea Zsófia' , 'Sziládi Sára' , 'Szilágyi Norbert' , 'Balla Anita' , 'Kaló Gergely Boldizsár' , 'Németh Regina' , 'Kozma Virág Boglárka']\nszerda_jo_neki = ['Koncz Dorina' , 'Ráduly Kincső' , 'Fábián Sándor' , 'Szabó Bianka' , 'Keszey Tímea Zsófia' , 'Sziládi Sára' , 'Balla Anita' , 'Németh Regina' , 'Kozma Virág Boglárka']\ncsutortok_jo_neki = ['Ráduly Kincső' , 'Fábián Sándor' , 'Gergácz Éva Emese' , 'Korcsok Rita' , 'Szabó Ágoston' , 'Spinou Heléna Laura' , 'Szabó Bianka' , 'Keszey Tímea Laura' , 'Rácz Odett' , 'Sziládi Sára' , 'Balla Anita' , 'Németh Regina' , 'Kozma Virág Boglárka' , 'Kálmán Vivien']\npentek_jo_neki = ['Nagy Dalma' , 'Vincze Dorka Éva' , 'Takács Levente' , 'Pál Anna' , 'Ráduly Kincső' , 'Szuszky Gergő' , 'Fábián Fanni' , 'Bagi Edina' , 'Gergácz Éva Emese' , 'Szabó Ágoston' , 'Kádár Sarolta' , 'Völgyi Dóra' , 'Keszey Tímea Zsófia' , 'Czumbil Jasmin' , 'Rácz Odett' , 'Nagy Tünde' , 'Le Pálma Anh-Dao' , 'Turóczi Boglárka' , 'Sziládi Sára' , 'Szilágyi Norbert' , 'Lamberg-Liszkay Zsófia' , 'Balla Anita' , 'Németh Regina' , 'Kozma Virág Boglárka' , 'Aranyos Hédi Andrea']\nszombat_jo_neki = ['Pál Anna']\n\n#Innentől háváj dizsi, let the program fut.",
   "execution_count": null,
   "outputs": []
  },
  {
   "cell_type": "code",
   "metadata": {
    "tags": [],
    "deepnote_to_be_reexecuted": false,
    "source_hash": "f4205530",
    "execution_start": 1643398488811,
    "execution_millis": 220,
    "deepnote_output_heights": [
     78
    ],
    "cell_id": "00001-8742ea18-6760-4a7b-8400-53cc3ec69547",
    "deepnote_cell_type": "code"
   },
   "source": "#Hétfő\n\nfor i in range(len(hetfo_jo_neki)):\n    if len(hetfo_cat1) < hetfo_1:\n        if hetfo_jo_neki[i] in cat_1 and hetfo_1 > 0:\n            hetfo_cat1.append(hetfo_jo_neki[i])\n    if len(hetfo_cat2) < hetfo_2:\n        if hetfo_jo_neki[i] in cat_2 and hetfo_2 > 0:\n            hetfo_cat2.append(hetfo_jo_neki[i])\n    if len(hetfo_cat3) < hetfo_3:\n        if hetfo_jo_neki[i] in cat_3 and hetfo_3 > 0:\n            hetfo_cat3.append(hetfo_jo_neki[i])\n    if len(hetfo_cat4) < hetfo_4:\n        if hetfo_jo_neki[i] in cat_4 and hetfo_4 > 0:\n            hetfo_cat4.append(hetfo_jo_neki[i]) \nhetfo = hetfo_cat1 + hetfo_cat2 + hetfo_cat3 + hetfo_cat4\nprint(hetfo)\n",
   "execution_count": null,
   "outputs": [
    {
     "name": "stdout",
     "text": "[]\n",
     "output_type": "stream"
    }
   ]
  },
  {
   "cell_type": "code",
   "metadata": {
    "tags": [],
    "deepnote_to_be_reexecuted": false,
    "source_hash": "266199e1",
    "execution_start": 1643398488811,
    "execution_millis": 220,
    "cell_id": "00002-0a8b3fa1-e544-42e3-93c4-8112bdca8b9a",
    "deepnote_cell_type": "code"
   },
   "source": "#Kedd\n\nfor i in range(len(kedd_jo_neki)):\n    if len(kedd_cat1) < kedd_1:\n        if kedd_jo_neki[i] in cat_1 and kedd_1 > 0 and kedd_jo_neki[i] not in hetfo:\n            kedd_cat1.append(kedd_jo_neki[i])\n    if len(kedd_cat2) < kedd_2:\n        if kedd_jo_neki[i] in cat_2 and kedd_2 > 0 and kedd_jo_neki[i] not in hetfo:\n            kedd_cat2.append(kedd_jo_neki[i])\n    if len(kedd_cat3) < kedd_3:\n        if kedd_jo_neki[i] in cat_3 and kedd_3 > 0 and kedd_jo_neki[i] not in hetfo:\n            kedd_cat3.append(kedd_jo_neki[i])\n    if len(kedd_cat4) < kedd_4:\n        if kedd_jo_neki[i] in cat_4 and kedd_4 > 0 and kedd_jo_neki[i] not in hetfo:\n            kedd_cat4.append(kedd_jo_neki[i])     \nkedd = kedd_cat1 + kedd_cat2 + kedd_cat3 + kedd_cat4\nprint(kedd)\n",
   "execution_count": null,
   "outputs": [
    {
     "name": "stdout",
     "text": "[]\n",
     "output_type": "stream"
    }
   ]
  },
  {
   "cell_type": "code",
   "metadata": {
    "tags": [],
    "deepnote_to_be_reexecuted": false,
    "source_hash": "4141e8c6",
    "execution_start": 1643398488817,
    "execution_millis": 5,
    "cell_id": "00003-a4aa02b7-eb58-4199-b3e9-1d34a29b08ca",
    "deepnote_cell_type": "code"
   },
   "source": "#Szerda\n\nfor i in range(len(szerda_jo_neki)):\n    if len(szerda_cat1) < szerda_1:\n        if szerda_jo_neki[i] in cat_1 and szerda_1 > 0 and szerda_jo_neki[i] not in hetfo and szerda_jo_neki[i] not in kedd:\n            szerda_cat1.append(szerda_jo_neki[i])\n    if len(szerda_cat2) < szerda_2:\n        if szerda_jo_neki[i] in cat_2 and szerda_2 > 0 and szerda_jo_neki[i] not in hetfo and szerda_jo_neki[i] not in kedd:\n            szerda_cat2.append(szerda_jo_neki[i])\n    if len(szerda_cat3) < szerda_3:\n        if szerda_jo_neki[i] in cat_3 and szerda_3 > 0 and szerda_jo_neki[i] not in hetfo and szerda_jo_neki[i] not in kedd:\n            szerda_cat3.append(szerda_jo_neki[i])\n    if len(szerda_cat4) < szerda_4:\n        if szerda_jo_neki[i] in cat_4 and szerda_4 > 0 and szerda_jo_neki[i] not in hetfo and szerda_jo_neki[i] not in kedd:\n            szerda_cat4.append(szerda_jo_neki[i])     \nszerda = szerda_cat1 + szerda_cat2 + szerda_cat3 + szerda_cat4\nprint(szerda)\n",
   "execution_count": null,
   "outputs": [
    {
     "name": "stdout",
     "text": "['Szabó Bianka', 'Sziládi Sára', 'Balla Anita', 'Ráduly Kincső', 'Koncz Dorina', 'Fábián Sándor']\n",
     "output_type": "stream"
    }
   ]
  },
  {
   "cell_type": "code",
   "metadata": {
    "tags": [],
    "deepnote_to_be_reexecuted": false,
    "source_hash": "51dcb769",
    "execution_start": 1643398488827,
    "execution_millis": 206,
    "cell_id": "00004-74396d8a-0d7a-4733-b343-2242c5d8a395",
    "deepnote_cell_type": "code"
   },
   "source": "#Csütörtök\n\nfor i in range(len(csutortok_jo_neki)):\n    if len(csutortok_cat1) < csutortok_1:\n        if csutortok_jo_neki[i] in cat_1 and csutortok_1 > 0 and csutortok_jo_neki[i] not in hetfo and csutortok_jo_neki[i] not in kedd and csutortok_jo_neki[i] not in szerda:\n            csutortok_cat1.append(csutortok_jo_neki[i])\n    if len(csutortok_cat2) < csutortok_2:\n        if csutortok_jo_neki[i] in cat_2 and csutortok_2 > 0 and csutortok_jo_neki[i] not in hetfo and csutortok_jo_neki[i] not in kedd and csutortok_jo_neki[i] not in szerda:\n            csutortok_cat2.append(csutortok_jo_neki[i])\n    if len(csutortok_cat3) < csutortok_3:\n        if csutortok_jo_neki[i] in cat_3 and csutortok_3 > 0 and csutortok_jo_neki[i] not in hetfo and csutortok_jo_neki[i] not in kedd and csutortok_jo_neki[i] not in szerda:\n            csutortok_cat3.append(csutortok_jo_neki[i])\n    if len(csutortok_cat4) < csutortok_4:\n        if csutortok_jo_neki[i] in cat_4 and csutortok_4 > 0 and csutortok_jo_neki[i] not in hetfo and csutortok_jo_neki[i] not in kedd and csutortok_jo_neki[i] not in szerda:\n            csutortok_cat4.append(csutortok_jo_neki[i])     \ncsutortok = csutortok_cat1 + csutortok_cat2 + csutortok_cat3 + csutortok_cat4\n\nprint(csutortok)",
   "execution_count": null,
   "outputs": [
    {
     "name": "stdout",
     "text": "['Szabó Ágoston', 'Spinou Heléna Laura', 'Gergácz Éva Emese', 'Korcsok Rita', 'Németh Regina', 'Rácz Odett', 'Kálmán Vivien']\n",
     "output_type": "stream"
    }
   ]
  },
  {
   "cell_type": "code",
   "metadata": {
    "tags": [],
    "deepnote_to_be_reexecuted": false,
    "source_hash": "32945741",
    "execution_start": 1643398488852,
    "execution_millis": 182,
    "cell_id": "00005-70cc595c-69d5-4323-97dd-553c73b29d07",
    "deepnote_cell_type": "code"
   },
   "source": "#Péntek\n\nfor i in range(len(pentek_jo_neki)):\n    if len(pentek_cat1) < pentek_1:\n        if pentek_jo_neki[i] in cat_1 and pentek_1 > 0 and pentek_jo_neki[i] not in hetfo and pentek_jo_neki[i] not in kedd and pentek_jo_neki[i] not in szerda and pentek_jo_neki[i] not in csutortok:\n            pentek_cat1.append(pentek_jo_neki[i])\n    if len(pentek_cat2) < pentek_2:\n        if pentek_jo_neki[i] in cat_2 and pentek_2 > 0 and pentek_jo_neki[i] not in hetfo and pentek_jo_neki[i] not in kedd and pentek_jo_neki[i] not in szerda and pentek_jo_neki[i] not in csutortok:\n            pentek_cat2.append(pentek_jo_neki[i])\n    if len(pentek_cat3) < pentek_3:\n        if pentek_jo_neki[i] in cat_3 and pentek_3 > 0 and pentek_jo_neki[i] not in hetfo and pentek_jo_neki[i] not in kedd and pentek_jo_neki[i] not in szerda and pentek_jo_neki[i] not in csutortok:\n            pentek_cat3.append(pentek_jo_neki[i])\n    if len(pentek_cat4) < pentek_4:\n        if pentek_jo_neki[i] in cat_4 and pentek_4 > 0 and pentek_jo_neki[i] not in hetfo and pentek_jo_neki[i] not in kedd and pentek_jo_neki[i] not in szerda and pentek_jo_neki[i] not in csutortok:\n            pentek_cat4.append(pentek_jo_neki[i])     \npentek = pentek_cat1 + pentek_cat2 + pentek_cat3 + pentek_cat4\n\nprint(pentek)",
   "execution_count": null,
   "outputs": [
    {
     "name": "stdout",
     "text": "['Vincze Dorka Éva', 'Pál Anna', 'Szuszky Gergő', 'Fábián Fanni', 'Völgyi Dóra', 'Kozma Virág Boglárka', 'Nagy Dalma', 'Bagi Edina', 'Takács Levente', 'Kádár Sarolta', 'Czumbil Jasmin', 'Turóczi Boglárka']\n",
     "output_type": "stream"
    }
   ]
  },
  {
   "cell_type": "code",
   "metadata": {
    "tags": [],
    "deepnote_to_be_reexecuted": false,
    "source_hash": "9650eb39",
    "execution_start": 1643398488853,
    "execution_millis": 181,
    "cell_id": "00006-df3a091c-4f98-40d3-ac0f-088590f3d917",
    "deepnote_cell_type": "code"
   },
   "source": "#Szombat\n\nfor i in range(len(szombat_jo_neki)):\n    if len(szombat_cat1) < szombat_1:\n        if szombat_jo_neki[i] in cat_1 and szombat_1 > 0 and szombat_jo_neki[i] not in hetfo and szombat_jo_neki[i] not in kedd and szombat_jo_neki[i] not in szerda and szombat_jo_neki[i] not in csutortok and szombat_jo_neki[i] not in pentek:\n            szombat_cat1.append(szombat_jo_neki[i])\n    if len(szombat_cat2) < szombat_2:\n        if szombat_jo_neki[i] in cat_2 and szombat_2 > 0 and szombat_jo_neki[i] not in hetfo and szombat_jo_neki[i] not in kedd and szombat_jo_neki[i] not in szerda and szombat_jo_neki[i] not in csutortok and szombat_jo_neki[i] not in pentek:\n            szombat_cat2.append(szombat_jo_neki[i])\n    if len(szombat_cat3) < szombat_3:\n        if szombat_jo_neki[i] in cat_3 and szombat_3 > 0 and szombat_jo_neki[i] not in hetfo and szombat_jo_neki[i] not in kedd and szombat_jo_neki[i] not in szerda and szombat_jo_neki[i] not in csutortok and szombat_jo_neki[i] not in pentek:\n            szombat_cat3.append(szombat_jo_neki[i])\n    if len(szombat_cat4) < szombat_4:\n        if szombat_jo_neki[i] in cat_4 and szombat_4 > 0 and szombat_jo_neki[i] not in hetfo and szombat_jo_neki[i] not in kedd and szombat_jo_neki[i] not in szerda and szombat_jo_neki[i] not in csutortok and szombat_jo_neki[i] not in pentek:\n            szombat_cat4.append(szombat_jo_neki[i]) \nazombat = szombat_cat1 + szombat_cat2 + szombat_cat3 + szombat_cat4\n\nprint(szombat)",
   "execution_count": null,
   "outputs": [
    {
     "name": "stdout",
     "text": "[]\n",
     "output_type": "stream"
    }
   ]
  },
  {
   "cell_type": "code",
   "metadata": {
    "tags": [],
    "deepnote_to_be_reexecuted": false,
    "source_hash": "7da45dc0",
    "execution_start": 1643398488862,
    "execution_millis": 173,
    "cell_id": "00007-46264779-8078-4781-b6ac-fc2dc23d3118",
    "deepnote_cell_type": "code"
   },
   "source": "#Variálni kell\n#Ők sajnos nem felelnek meg minden feltételnek.\n\njelentkezok = cat_1 + cat_2 + cat_3 + cat_4\n\nfor i in range(len(jelentkezok)):\n    if jelentkezok[i] not in hetfo and jelentkezok[i] not in kedd and jelentkezok[i] not in szerda and jelentkezok[i] not in csutortok and jelentkezok[i] not in pentek and jelentkezok[i] not in szombat:\n        varialni_kell.append(jelentkezok[i])\n\nprint(varialni_kell)",
   "execution_count": null,
   "outputs": [
    {
     "name": "stdout",
     "text": "['Szijártó Eszter Zsanett', 'Pólik Ádám', 'Németh Eszter', 'Marits Regina Hajnalka', 'Fónai Edina', 'Keszey Tímea Ilona', 'Nagy Tünde', 'Kaló Gergely Boldizsár', 'Szalai Evelin', 'Le Pálma Anh-Dao', 'Aranyos Hédi Andrea', 'Szilágyi Norbert', 'Lamberg-Liszkay Zsófia', 'Böde Ádám']\n",
     "output_type": "stream"
    }
   ]
  },
  {
   "cell_type": "markdown",
   "source": "<a style='text-decoration:none;line-height:16px;display:flex;color:#5B5B62;padding:10px;justify-content:end;' href='https://deepnote.com?utm_source=created-in-deepnote-cell&projectId=978e47b7-a961-4dca-a945-499e8b781a34' target=\"_blank\">\n<img alt='Created in deepnote.com' style='display:inline;max-height:16px;margin:0px;margin-right:7.5px;' src='data:image/svg+xml;base64,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' > </img>\nCreated in <span style='font-weight:600;margin-left:4px;'>Deepnote</span></a>",
   "metadata": {
    "tags": [],
    "created_in_deepnote_cell": true,
    "deepnote_cell_type": "markdown"
   }
  }
 ],
 "nbformat": 4,
 "nbformat_minor": 2,
 "metadata": {
  "orig_nbformat": 2,
  "deepnote": {
   "is_reactive": false
  },
  "deepnote_notebook_id": "6330ccff-c123-4494-b50d-b2b3ff349161",
  "deepnote_execution_queue": []
 }
}