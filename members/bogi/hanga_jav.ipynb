{
 "cells": [
  {
   "cell_type": "markdown",
   "source": "### prelogika házi visszajelzés",
   "metadata": {
    "tags": [],
    "cell_id": "00001-47caaeed-a4a6-4fd5-b274-8a69dbc893c6",
    "deepnote_cell_type": "markdown"
   }
  },
  {
   "cell_type": "markdown",
   "source": "#### A\n\nTe megoldásod: $\\exists k \\land \\exists d \\land \\exists x (N(x)\\textbf{\\textcolor{red}{)}} \\land P(k, x) \\land P(d, x)$\n\nVisszajelzés:\n- Nem kell kikötni, hogy $k$ és $d$ léteznek, ezek konstansok, tehát olyan, mintha algebrában azt mondanád, hogy \"létezik 2\".\n- Egyébként is helytelen lenne szintaktikailag $\\land$-sel össszekötni ezeket, helyette így kéne írni: $\\exists k,d (\\exists x(...))$. De mint mondtam, a $\\exists k, d$ úgy, ahogy van elhagyható.\n- Egy zárójel elcsúszott (pirossal jelöltem), ezt a végére kell kitenni, mert a teljes predikátum a $\\exists x$ hatáskörében van.",
   "metadata": {
    "tags": [],
    "cell_id": "00002-87bf5249-3fda-444d-9f75-8c702aaacdd9",
    "deepnote_cell_type": "markdown"
   }
  },
  {
   "cell_type": "markdown",
   "source": "#### B\n\nTe megoldásod: $\\exists n (N(n) \\land \\exists x  \\land P(n, x)) \\land \\nexists f (F(f) \\land \\exists y \\land P(f, y))$\n\nVisszajelzés:\n- A $\\exists x$ után $\\land$-t tenni itt is szintaktikai hiba, helyesen így néz ki: $\\exists x (P(n, x))$ (ugyanez vonatkozik a kifejezés második felére).\n- Ennek a hibának a kijavítása után pedig a kifejezés ezt jelenti: *van olyan nő, akinek van gyereke, és nincs olyan férfi, akinek van gyereke*, ami nem felel meg a B állításnak.",
   "metadata": {
    "tags": [],
    "cell_id": "00002-1d4c7a66-c95f-4a5f-bfa8-a2857ec2c40b",
    "deepnote_cell_type": "markdown"
   }
  },
  {
   "cell_type": "markdown",
   "source": "#### C\n\nTe megoldásod: $\\exists x \\land \\exists w \\land P(w, x) \\land \\exists y \\land P(w, y) \\land ((F(x) \\land F(y)) \\lor (N(x) \\land N(y)))$\n\nVisszajelzés:\n- Ugyanaz a hiba itt is megvan, mint az előző kettő állításnál: kvantoros paramétert minden esetben zárójelnek kell követnie (nem lehet utána pl. $\\land$), és a zárójelen belülre kerül minden, ami az adott paraméterre vonatkozik.\n- Az egyneműséget és a testvéri kapcsolatot jól kifejezted, de abból, hogy különböző betűkkel jelölt paramétereket használsz, még nem következik, hogy két különböző személyről van szó, tehát ki kell kötni, hogy $x \\neq y$.",
   "metadata": {
    "tags": [],
    "cell_id": "00003-31ae4bfb-c2b0-4e5a-ac7c-494a9e0c03eb",
    "deepnote_cell_type": "markdown"
   }
  },
  {
   "cell_type": "markdown",
   "source": "#### D\nTe megoldásod: $\\forall x (N(x)\\textbf{\\textcolor{red}{)}} \\Rightarrow \\exists y \\land P(x, y)$\n\nVisszajelzés:\n- Kvantornál zárójel helyett $\\land$ megint hiba.\n- Pirossal jelölt zárójel a végére kell.\n- Egyébként jó ötlet az implikáció használata, és a kisebb szintaktikai hibáktól eltekintve szép megoldás.\n",
   "metadata": {
    "tags": [],
    "cell_id": "00004-ecf47c00-e617-4bed-b11b-af1ef052cabf",
    "deepnote_cell_type": "markdown"
   }
  },
  {
   "cell_type": "markdown",
   "source": "#### E\nTe megoldásod: $\\exists k \\land \\exists gy \\land P(k, gy) \\land \\exists x (N(x) \\land P(gy, x)) \\land \\exists y (F(y) \\land P(gy, y))$\n\nVisszajelzés:\n- Ahogy az A állítás esetén, itt sem kell kiktöni, hogy $\\exists k$.\n- A visszatérő kvantor-zárójel-$\\land$ hiba itt is megvan, a $\\exists gy (...)$-n belül kell lennie a teljes kifejezésnek.\n- Amúgy szép megoldás.",
   "metadata": {
    "tags": [],
    "cell_id": "00005-bf95d022-2bf6-4e2f-aff6-d939fb020405",
    "deepnote_cell_type": "markdown"
   }
  },
  {
   "cell_type": "markdown",
   "source": "<a style='text-decoration:none;line-height:16px;display:flex;color:#5B5B62;padding:10px;justify-content:end;' href='https://deepnote.com?utm_source=created-in-deepnote-cell&projectId=978e47b7-a961-4dca-a945-499e8b781a34' target=\"_blank\">\n<img alt='Created in deepnote.com' style='display:inline;max-height:16px;margin:0px;margin-right:7.5px;' src='data:image/svg+xml;base64,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' > </img>\nCreated in <span style='font-weight:600;margin-left:4px;'>Deepnote</span></a>",
   "metadata": {
    "tags": [],
    "created_in_deepnote_cell": true,
    "deepnote_cell_type": "markdown"
   }
  }
 ],
 "nbformat": 4,
 "nbformat_minor": 2,
 "metadata": {
  "orig_nbformat": 2,
  "deepnote": {
   "is_reactive": false
  },
  "deepnote_notebook_id": "4a76a270-b363-4c3d-8a95-dd496e452eb8",
  "deepnote_execution_queue": []
 }
}