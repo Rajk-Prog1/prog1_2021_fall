{
 "cells": [
  {
   "cell_type": "code",
   "metadata": {
    "cell_id": "00000-412bf5f2-eb76-42fd-98d2-1d28917d6a5c",
    "deepnote_to_be_reexecuted": false,
    "source_hash": "3b5c1b7",
    "execution_start": 1635887378216,
    "execution_millis": 46,
    "deepnote_cell_type": "code"
   },
   "source": "from jkg_evaluators import dragonfind_10_to_500",
   "execution_count": null,
   "outputs": []
  },
  {
   "cell_type": "code",
   "metadata": {
    "cell_id": "00001-0558d137-f632-49d4-a5ec-7ef7e4ed5e90",
    "deepnote_to_be_reexecuted": false,
    "source_hash": "167aee17",
    "execution_start": 1635887378262,
    "execution_millis": 1,
    "deepnote_cell_type": "code"
   },
   "source": "cow_alive_list_test_1 = [False, False, True, True, True]",
   "execution_count": null,
   "outputs": []
  },
  {
   "cell_type": "code",
   "metadata": {
    "cell_id": "00002-a29d3275-741d-4281-8422-f18a7d90e72a",
    "deepnote_to_be_reexecuted": false,
    "source_hash": "efa376d4",
    "execution_start": 1635889236364,
    "execution_millis": 1,
    "deepnote_cell_type": "code"
   },
   "source": "def my_solution2(cow_alive_list):\n    fat_alive_cow_index = 0\n    thin_alive_cow_index = len(cow_alive_list) - 1\n    \n    while (fat_alive_cow_index +1) < thin_alive_cow_index:\n        middle_cow = int((fat_alive_cow_index + \n                          thin_alive_cow_index) / 2)\n        if cow_alive_list[middle_cow]:\n            thin_alive_cow_index = middle_cow\n        else:\n            fat_alive_cow_index = middle_cow\n    \n    print(\"l: \",fat_alive_cow_index, \" u: \", thin_alive_cow_index)\n    return middle_cow + 1",
   "execution_count": null,
   "outputs": []
  },
  {
   "cell_type": "code",
   "metadata": {
    "tags": [],
    "cell_id": "00003-91db2d2d-a61e-4323-8ccf-9c538adce6e3",
    "deepnote_to_be_reexecuted": false,
    "source_hash": "5d6b96b",
    "execution_start": 1635889033696,
    "execution_millis": 0,
    "deepnote_cell_type": "code"
   },
   "source": "def my_solution3(is_dead,number_of_cows):\n    fat_alive_cow_index = 0\n    thin_alive_cow_index = number_of_cows - 1\n    \n    while (fat_alive_cow_index +1) < thin_alive_cow_index:\n        i= int((fat_alive_cow_index + \n                          thin_alive_cow_index) / 2)\n        if is_dead(i):\n            fat_alive_cow_index=i\n        else:\n            thin_alive_cow_index=i\n    return i + 2",
   "execution_count": null,
   "outputs": []
  },
  {
   "cell_type": "code",
   "metadata": {
    "cell_id": "00003-58739e74-53b1-411f-9f58-93debd595750",
    "deepnote_to_be_reexecuted": false,
    "source_hash": "c2c24307",
    "execution_start": 1635889036458,
    "execution_millis": 2398,
    "deepnote_cell_type": "code"
   },
   "source": "dragonfind_10_to_500.evaluate(my_solution3)",
   "execution_count": null,
   "outputs": [
    {
     "name": "stdout",
     "text": "- success rate: 0/124714 (0.0%)\n- error count: 0\n- best performance: 3\n- worst performance: 9\n- mean performance: 8.301874689289093\n\n\n BAD SOLUTION at: \n {'number_of_cows': 10, 'dragon_coming_to': 1}\n\n\n BAD SOLUTION at: \n {'number_of_cows': 10, 'dragon_coming_to': 2}\n\n\n BAD SOLUTION at: \n {'number_of_cows': 10, 'dragon_coming_to': 3}\n\n\n BAD SOLUTION at: \n {'number_of_cows': 10, 'dragon_coming_to': 4}\n\n\n BAD SOLUTION at: \n {'number_of_cows': 10, 'dragon_coming_to': 5}\n\n\n BAD SOLUTION at: \n {'number_of_cows': 10, 'dragon_coming_to': 6}\n\n\n BAD SOLUTION at: \n {'number_of_cows': 10, 'dragon_coming_to': 7}\n\n\n BAD SOLUTION at: \n {'number_of_cows': 10, 'dragon_coming_to': 8}\n\n\n BAD SOLUTION at: \n {'number_of_cows': 10, 'dragon_coming_to': 9}\n\n\n BAD SOLUTION at: \n {'number_of_cows': 11, 'dragon_coming_to': 1}\n",
     "output_type": "stream"
    }
   ]
  },
  {
   "cell_type": "code",
   "metadata": {
    "tags": [],
    "cell_id": "00004-27b4b25a-435c-44c8-b7b8-2e31ef7a40b1",
    "deepnote_to_be_reexecuted": false,
    "source_hash": "9b67ee16",
    "execution_start": 1635889245277,
    "execution_millis": 6,
    "deepnote_cell_type": "code"
   },
   "source": "my_solution2(cow_alive_list_test_1)",
   "execution_count": null,
   "outputs": [
    {
     "output_type": "error",
     "ename": "TypeError",
     "evalue": "list indices must be integers or slices, not float",
     "traceback": [
      "\u001b[0;31m---------------------------------------------------------------------------\u001b[0m",
      "\u001b[0;31mTypeError\u001b[0m                                 Traceback (most recent call last)",
      "\u001b[0;32m<ipython-input-38-f4e5699ff7a9>\u001b[0m in \u001b[0;36m<module>\u001b[0;34m\u001b[0m\n\u001b[0;32m----> 1\u001b[0;31m \u001b[0mmy_solution2\u001b[0m\u001b[0;34m(\u001b[0m\u001b[0mcow_alive_list_test_1\u001b[0m\u001b[0;34m)\u001b[0m\u001b[0;34m\u001b[0m\u001b[0;34m\u001b[0m\u001b[0m\n\u001b[0m",
      "\u001b[0;32m<ipython-input-37-d74e5be3170a>\u001b[0m in \u001b[0;36mmy_solution2\u001b[0;34m(cow_alive_list)\u001b[0m\n\u001b[1;32m      6\u001b[0m         middle_cow = round((fat_alive_cow_index + \n\u001b[1;32m      7\u001b[0m                           thin_alive_cow_index) / 2,0)\n\u001b[0;32m----> 8\u001b[0;31m         \u001b[0;32mif\u001b[0m \u001b[0mcow_alive_list\u001b[0m\u001b[0;34m[\u001b[0m\u001b[0mmiddle_cow\u001b[0m\u001b[0;34m]\u001b[0m\u001b[0;34m:\u001b[0m\u001b[0;34m\u001b[0m\u001b[0;34m\u001b[0m\u001b[0m\n\u001b[0m\u001b[1;32m      9\u001b[0m             \u001b[0mthin_alive_cow_index\u001b[0m \u001b[0;34m=\u001b[0m \u001b[0mmiddle_cow\u001b[0m\u001b[0;34m\u001b[0m\u001b[0;34m\u001b[0m\u001b[0m\n\u001b[1;32m     10\u001b[0m         \u001b[0;32melse\u001b[0m\u001b[0;34m:\u001b[0m\u001b[0;34m\u001b[0m\u001b[0;34m\u001b[0m\u001b[0m\n",
      "\u001b[0;31mTypeError\u001b[0m: list indices must be integers or slices, not float"
     ]
    }
   ]
  },
  {
   "cell_type": "markdown",
   "source": "<a style='text-decoration:none;line-height:16px;display:flex;color:#5B5B62;padding:10px;justify-content:end;' href='https://deepnote.com?utm_source=created-in-deepnote-cell&projectId=978e47b7-a961-4dca-a945-499e8b781a34' target=\"_blank\">\n<img alt='Created in deepnote.com' style='display:inline;max-height:16px;margin:0px;margin-right:7.5px;' src='data:image/svg+xml;base64,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' > </img>\nCreated in <span style='font-weight:600;margin-left:4px;'>Deepnote</span></a>",
   "metadata": {
    "tags": [],
    "created_in_deepnote_cell": true,
    "deepnote_cell_type": "markdown"
   }
  }
 ],
 "nbformat": 4,
 "nbformat_minor": 2,
 "metadata": {
  "kernelspec": {
   "display_name": "Python 3",
   "language": "python",
   "name": "python3"
  },
  "language_info": {
   "codemirror_mode": {
    "name": "ipython",
    "version": 3
   },
   "file_extension": ".py",
   "mimetype": "text/x-python",
   "name": "python",
   "nbconvert_exporter": "python",
   "pygments_lexer": "ipython3",
   "version": "3.7.5"
  },
  "deepnote_notebook_id": "66e948f8-801d-415e-93f0-e80a6d0b1b95",
  "deepnote": {},
  "deepnote_execution_queue": []
 }
}