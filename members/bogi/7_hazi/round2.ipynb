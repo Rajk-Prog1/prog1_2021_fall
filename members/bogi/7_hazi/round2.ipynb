{
 "cells": [
  {
   "cell_type": "code",
   "metadata": {
    "cell_id": "00000-122022bb-1cb0-4d4f-adc4-8c07d924c608",
    "deepnote_to_be_reexecuted": false,
    "source_hash": "35fd486b",
    "execution_start": 1636168544067,
    "execution_millis": 110,
    "deepnote_cell_type": "code"
   },
   "source": "import sys\nsys.path.insert(0, '/work/prog1_2021_fall/materials/others/')\nfrom __import_file__ import mbence\nfrom __import_file__ import dani\nfrom __import_file__ import bogi\nfrom __import_file__ import katinka\nfrom __import_file__ import keve\nfrom __import_file__ import dorka\nfrom __import_file__ import eszter\nfrom __import_file__ import szabi\nfrom __import_file__ import hako",
   "execution_count": null,
   "outputs": []
  },
  {
   "cell_type": "markdown",
   "source": "## mbence",
   "metadata": {
    "cell_id": "00001-191aee45-9669-4854-a928-5fb9a0c6fac9",
    "deepnote_cell_type": "markdown"
   }
  },
  {
   "cell_type": "code",
   "metadata": {
    "cell_id": "00002-66d90b25-9779-4284-95d3-032b53049755",
    "deepnote_cell_type": "code"
   },
   "source": "def mbence_solution():\n    # modify this function\n    # return value and parameters and all\n    return 0",
   "execution_count": null,
   "outputs": []
  },
  {
   "cell_type": "code",
   "metadata": {
    "cell_id": "00003-edc3395e-cc99-4184-aa4e-0306c8e9a5ce",
    "deepnote_cell_type": "code"
   },
   "source": "mbence.evaluate(mbence_solution)",
   "execution_count": null,
   "outputs": []
  },
  {
   "cell_type": "markdown",
   "source": "## dani",
   "metadata": {
    "cell_id": "00004-3db16ce0-21ae-4c94-9cfa-51586904b453",
    "deepnote_cell_type": "markdown"
   }
  },
  {
   "cell_type": "code",
   "metadata": {
    "cell_id": "00005-60e5cd2f-fae9-46ea-b397-9a015b7978e8",
    "deepnote_cell_type": "code"
   },
   "source": "def dani_solution():\n    # modify this function\n    # return value and parameters and all\n    return 0",
   "execution_count": null,
   "outputs": []
  },
  {
   "cell_type": "code",
   "metadata": {
    "cell_id": "00006-ce8f714a-16c8-4765-934d-b41e3c80a766",
    "deepnote_cell_type": "code"
   },
   "source": "dani.evaluate(dani_solution)",
   "execution_count": null,
   "outputs": []
  },
  {
   "cell_type": "markdown",
   "source": "## bogi",
   "metadata": {
    "cell_id": "00007-afbef684-632e-4796-83b9-17bed0f00a06",
    "deepnote_cell_type": "markdown"
   }
  },
  {
   "cell_type": "code",
   "metadata": {
    "cell_id": "00008-b6900497-33f5-4fa9-85ec-06cce192beda",
    "deepnote_cell_type": "code"
   },
   "source": "def bogi_solution():\n    # modify this function\n    # return value and parameters and all\n    return 0",
   "execution_count": null,
   "outputs": []
  },
  {
   "cell_type": "code",
   "metadata": {
    "cell_id": "00009-97873de9-e51e-4779-afa6-4cc26bbdf3ae",
    "deepnote_cell_type": "code"
   },
   "source": "bogi.evaluate(bogi_solution)",
   "execution_count": null,
   "outputs": []
  },
  {
   "cell_type": "markdown",
   "source": "## katinka",
   "metadata": {
    "cell_id": "00010-873fe30d-5e4a-4f89-b83e-8bcea0cb9261",
    "deepnote_cell_type": "markdown"
   }
  },
  {
   "cell_type": "code",
   "metadata": {
    "cell_id": "00011-56b1d102-b86e-4211-b898-25b059924fdc",
    "deepnote_cell_type": "code"
   },
   "source": "def katinka_solution():\n    # modify this function\n    # return value and parameters and all\n    return 0",
   "execution_count": null,
   "outputs": []
  },
  {
   "cell_type": "code",
   "metadata": {
    "cell_id": "00012-e3d296bf-4531-42fe-a241-0e7d8c0119a9",
    "deepnote_cell_type": "code"
   },
   "source": "katinka.evaluate(katinka_solution)",
   "execution_count": null,
   "outputs": []
  },
  {
   "cell_type": "markdown",
   "source": "## keve\n#### find the number of strings in a list of strings that contain a given letter\n\nupper or lower case\n\n> ```[\"abfg\", \"Bcd\", \"Ijk\"], \"b\" -> 2```",
   "metadata": {
    "cell_id": "00013-d74a81a7-fffe-493b-b11c-403ba5caba34",
    "deepnote_cell_type": "markdown"
   }
  },
  {
   "cell_type": "code",
   "metadata": {
    "cell_id": "00014-71dfee2b-66bb-412c-ba83-22122105d574",
    "deepnote_cell_type": "code"
   },
   "source": "def keve_solution(list_of_strings, letter):\n    # modify this function\n    # return value and parameters and all\n    return 0",
   "execution_count": null,
   "outputs": []
  },
  {
   "cell_type": "code",
   "metadata": {
    "cell_id": "00015-8a570834-bdbb-4483-96ff-88e85f3f2a83",
    "deepnote_cell_type": "code"
   },
   "source": "keve.evaluate(keve_solution)",
   "execution_count": null,
   "outputs": []
  },
  {
   "cell_type": "markdown",
   "source": "## dorka",
   "metadata": {
    "cell_id": "00016-b9606ca9-8308-44d2-b189-8b13902e27ae",
    "deepnote_cell_type": "markdown"
   }
  },
  {
   "cell_type": "code",
   "metadata": {
    "cell_id": "00017-16650098-73c3-4c33-b5bc-4e13ca3e4f49",
    "deepnote_cell_type": "code"
   },
   "source": "def dorka_solution():\n    # modify this function\n    # return value and parameters and all\n    return 0",
   "execution_count": null,
   "outputs": []
  },
  {
   "cell_type": "code",
   "metadata": {
    "cell_id": "00018-c77ebad1-539c-4bb8-a5c9-9e565baf2fee",
    "deepnote_cell_type": "code"
   },
   "source": "dorka.evaluate(dorka_solution)",
   "execution_count": null,
   "outputs": []
  },
  {
   "cell_type": "markdown",
   "source": "## eszter",
   "metadata": {
    "cell_id": "00019-023590fd-9495-416f-bb05-30ea845bba68",
    "deepnote_cell_type": "markdown"
   }
  },
  {
   "cell_type": "code",
   "metadata": {
    "cell_id": "00020-21d9268e-a572-4cb8-8c20-a4d09a3ee8e8",
    "deepnote_cell_type": "code"
   },
   "source": "def eszter_solution():\n    # modify this function\n    # return value and parameters and all\n    return 0",
   "execution_count": null,
   "outputs": []
  },
  {
   "cell_type": "code",
   "metadata": {
    "cell_id": "00021-d199cfc6-b09e-4de5-b3c8-277fc900265f",
    "deepnote_cell_type": "code"
   },
   "source": "eszter.evaluate(eszter_solution)",
   "execution_count": null,
   "outputs": []
  },
  {
   "cell_type": "markdown",
   "source": "## szabi",
   "metadata": {
    "cell_id": "00022-3a65d27f-5621-4d72-9115-e9df1721ab6f",
    "deepnote_cell_type": "markdown"
   }
  },
  {
   "cell_type": "code",
   "metadata": {
    "cell_id": "00023-2d005f90-6c6b-4aa0-a08e-82059d378186",
    "deepnote_cell_type": "code"
   },
   "source": "def szabi_solution():\n    # modify this function\n    # return value and parameters and all\n    return 0",
   "execution_count": null,
   "outputs": []
  },
  {
   "cell_type": "code",
   "metadata": {
    "cell_id": "00024-6431d1dd-3d88-45be-9744-9d2f0f27c599",
    "deepnote_cell_type": "code"
   },
   "source": "szabi.evaluate(szabi_solution)",
   "execution_count": null,
   "outputs": []
  },
  {
   "cell_type": "markdown",
   "source": "## hako",
   "metadata": {
    "cell_id": "00025-ab2522e1-cb97-42fa-ae97-c103bb882860",
    "deepnote_cell_type": "markdown"
   }
  },
  {
   "cell_type": "code",
   "metadata": {
    "cell_id": "00026-613c8052-9407-4de6-b456-7cfa397af767",
    "deepnote_cell_type": "code"
   },
   "source": "def hako_solution():\n    # modify this function\n    # return value and parameters and all\n    return 0",
   "execution_count": null,
   "outputs": []
  },
  {
   "cell_type": "code",
   "metadata": {
    "cell_id": "00027-272a9f37-deed-42a7-9a25-510075380aa1",
    "deepnote_cell_type": "code"
   },
   "source": "hako.evaluate(hako_solution)",
   "execution_count": null,
   "outputs": []
  },
  {
   "cell_type": "markdown",
   "source": "<a style='text-decoration:none;line-height:16px;display:flex;color:#5B5B62;padding:10px;justify-content:end;' href='https://deepnote.com?utm_source=created-in-deepnote-cell&projectId=978e47b7-a961-4dca-a945-499e8b781a34' target=\"_blank\">\n<img alt='Created in deepnote.com' style='display:inline;max-height:16px;margin:0px;margin-right:7.5px;' src='data:image/svg+xml;base64,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' > </img>\nCreated in <span style='font-weight:600;margin-left:4px;'>Deepnote</span></a>",
   "metadata": {
    "tags": [],
    "created_in_deepnote_cell": true,
    "deepnote_cell_type": "markdown"
   }
  }
 ],
 "nbformat": 4,
 "nbformat_minor": 2,
 "metadata": {
  "kernelspec": {
   "display_name": "Python 3",
   "language": "python",
   "name": "python3"
  },
  "language_info": {
   "codemirror_mode": {
    "name": "ipython",
    "version": 3
   },
   "file_extension": ".py",
   "mimetype": "text/x-python",
   "name": "python",
   "nbconvert_exporter": "python",
   "pygments_lexer": "ipython3",
   "version": "3.9.0"
  },
  "deepnote_notebook_id": "ebf890f7-657b-4fd7-9984-37c403fb705c",
  "deepnote": {},
  "deepnote_execution_queue": []
 }
}