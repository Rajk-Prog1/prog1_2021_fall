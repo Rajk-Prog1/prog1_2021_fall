{
 "cells": [
  {
   "cell_type": "code",
   "metadata": {
    "cell_id": "00000-f5b31441-1a04-491b-b821-3f3a5a563412",
    "deepnote_to_be_reexecuted": false,
    "source_hash": "35fd486b",
    "execution_start": 1637177811588,
    "execution_millis": 20,
    "deepnote_cell_type": "code"
   },
   "source": "import sys\nsys.path.insert(0, '/work/prog1_2021_fall/materials/others/')\nfrom __import_file__ import mbence\nfrom __import_file__ import dani\nfrom __import_file__ import bogi\nfrom __import_file__ import katinka\nfrom __import_file__ import keve\nfrom __import_file__ import dorka\nfrom __import_file__ import eszter\nfrom __import_file__ import szabi\nfrom __import_file__ import hako",
   "execution_count": null,
   "outputs": []
  },
  {
   "cell_type": "markdown",
   "source": "## mbence",
   "metadata": {
    "cell_id": "00001-e4840345-daa7-4232-bbe2-11578c06bfe8",
    "deepnote_cell_type": "markdown"
   }
  },
  {
   "cell_type": "code",
   "metadata": {
    "cell_id": "00002-af47e1a4-5912-4f94-abb8-5634e18e9629",
    "deepnote_to_be_reexecuted": false,
    "source_hash": "27e5ab3b",
    "execution_start": 1637178080851,
    "execution_millis": 0,
    "deepnote_cell_type": "code"
   },
   "source": "def mbence_solution(p):\n    x=0\n    y=-1\n    for i in range(len(p)):\n        a=0\n        for n in p[i]:\n            if n == 'a' or n == 'A': \n                a=a+1\n\n        if a > x:\n            x = a\n            y = i\n    # return value and parameters and all\n    return y",
   "execution_count": null,
   "outputs": []
  },
  {
   "cell_type": "code",
   "metadata": {
    "cell_id": "00003-d290fc09-3741-423c-8b42-38fcdfc2fbad",
    "deepnote_to_be_reexecuted": false,
    "source_hash": "8d319ea3",
    "execution_start": 1637178083616,
    "execution_millis": 1404,
    "deepnote_cell_type": "code"
   },
   "source": "mbence.evaluate(mbence_solution)",
   "execution_count": null,
   "outputs": [
    {
     "name": "stdout",
     "text": "- success rate: 495/495 (100.0%)\n- error count: 0\n- best performance: 1\n- worst performance: 1\n- mean performance: 1.0\n",
     "output_type": "stream"
    }
   ]
  },
  {
   "cell_type": "markdown",
   "source": "## dani",
   "metadata": {
    "cell_id": "00004-9632acb0-ac96-4bab-82c6-f8c74a61401d",
    "deepnote_cell_type": "markdown"
   }
  },
  {
   "cell_type": "code",
   "metadata": {
    "cell_id": "00005-db4a2ba0-d450-4005-ace1-c194513a9a02",
    "deepnote_to_be_reexecuted": false,
    "source_hash": "e704da85",
    "execution_start": 1636470251069,
    "execution_millis": 0,
    "deepnote_cell_type": "code"
   },
   "source": "def dani_solution(p):\n    p.sort()\n    x=p[0]*p[1]\n    y=p[len(p)-1]*p[len(p)-2]\n    if x>=y:\n        return x\n    else:\n        return y\n\n    # return value and parameters and all\n    return 0",
   "execution_count": null,
   "outputs": []
  },
  {
   "cell_type": "code",
   "metadata": {
    "cell_id": "00006-7039f4bf-64a0-45ff-9e5f-6fd44a10f96b",
    "deepnote_to_be_reexecuted": false,
    "source_hash": "cadcf404",
    "execution_start": 1636470253335,
    "execution_millis": 58,
    "deepnote_cell_type": "code"
   },
   "source": "dani.evaluate(dani_solution)",
   "execution_count": null,
   "outputs": [
    {
     "name": "stdout",
     "text": "- success rate: 497/497 (100.0%)\n- error count: 0\n- best performance: 1\n- worst performance: 1\n- mean performance: 1.0\n",
     "output_type": "stream"
    }
   ]
  },
  {
   "cell_type": "markdown",
   "source": "## bogi",
   "metadata": {
    "cell_id": "00007-f3de3cea-b409-4a39-a5cb-fbc5ab8b942e",
    "deepnote_cell_type": "markdown"
   }
  },
  {
   "cell_type": "code",
   "metadata": {
    "cell_id": "00008-06d81dc8-bb63-4d2e-be50-6e08198a4693",
    "deepnote_to_be_reexecuted": false,
    "source_hash": "7238387b",
    "execution_start": 1636473276191,
    "execution_millis": 0,
    "deepnote_cell_type": "code"
   },
   "source": "def bogi_solution(p):\n    result=0\n    p=list(set(p))\n    for i in p:\n        if i%2==1:\n            if i>0:\n                result=result+i\n    return result",
   "execution_count": null,
   "outputs": []
  },
  {
   "cell_type": "code",
   "metadata": {
    "cell_id": "00009-fe3354c2-dd3e-4632-99a6-6cdda62e7b6e",
    "deepnote_to_be_reexecuted": false,
    "source_hash": "77f6887",
    "execution_start": 1636473279049,
    "execution_millis": 269,
    "deepnote_cell_type": "code"
   },
   "source": "bogi.evaluate(bogi_solution)",
   "execution_count": null,
   "outputs": [
    {
     "name": "stdout",
     "text": "- success rate: 497/497 (100.0%)\n- error count: 0\n- best performance: 1\n- worst performance: 1\n- mean performance: 1.0\n",
     "output_type": "stream"
    }
   ]
  },
  {
   "cell_type": "markdown",
   "source": "## katinka",
   "metadata": {
    "cell_id": "00010-8e40a919-3961-4dc7-b4f8-9614e9fa4fe3",
    "deepnote_cell_type": "markdown"
   }
  },
  {
   "cell_type": "code",
   "metadata": {
    "cell_id": "00011-96e4daf5-1a6f-4777-9a02-d16d43e6b054",
    "deepnote_to_be_reexecuted": false,
    "source_hash": "33dc46f8",
    "execution_start": 1636643845069,
    "execution_millis": 2,
    "deepnote_cell_type": "code"
   },
   "source": "def katinka_solution(p):\n    p.sort(reverse=True)\n    a=0\n    b=[]\n    for c in str(p[a]):\n        if c != \"-\":\n            b.append(int(c))\n\n\n    while b != sorted(b):\n        a=a+1\n        b=[]\n        if a==len(p)-1:\n            return 0\n        for c in str(p[a]):\n            if c != \"-\":\n                b.append(int(c))\n        \n    return p[a]\n",
   "execution_count": null,
   "outputs": []
  },
  {
   "cell_type": "code",
   "metadata": {
    "cell_id": "00012-69f1aaa1-babd-4809-9d78-b7106808badc",
    "deepnote_to_be_reexecuted": false,
    "source_hash": "23aa5959",
    "execution_start": 1636643848393,
    "execution_millis": 172,
    "deepnote_cell_type": "code"
   },
   "source": "katinka.evaluate(katinka_solution)",
   "execution_count": null,
   "outputs": [
    {
     "name": "stdout",
     "text": "- success rate: 497/497 (100.0%)\n- error count: 0\n- best performance: 1\n- worst performance: 1\n- mean performance: 1.0\n",
     "output_type": "stream"
    }
   ]
  },
  {
   "cell_type": "markdown",
   "source": "## keve\n#### find the number of strings in a list of strings that contain a given letter\n\nupper or lower case\n\n> ```[\"abfg\", \"Bcd\", \"Ijk\"], \"b\" -> 2```",
   "metadata": {
    "cell_id": "00013-41fc19c6-554e-4f68-bfff-a73c10aec0e7",
    "deepnote_cell_type": "markdown"
   }
  },
  {
   "cell_type": "code",
   "metadata": {
    "cell_id": "00014-2186c2f3-6f11-4b52-a4ce-fa6bba92bad5",
    "deepnote_to_be_reexecuted": false,
    "source_hash": "2f1ccf91",
    "execution_start": 1636470169931,
    "execution_millis": 4,
    "deepnote_cell_type": "code"
   },
   "source": "def keve_solution(list_of_strings, letter):\n    u=letter.lower()\n    l=letter.upper()\n    z=0\n    for i in list_of_strings:\n        a=i.count(u)\n        b=i.count(l)\n        if a>0:\n            a=1\n        if b>0:\n            b=1\n        if a+b>1:\n            a=1\n            b=0\n        z=z+a+b\n    return z",
   "execution_count": null,
   "outputs": []
  },
  {
   "cell_type": "code",
   "metadata": {
    "cell_id": "00015-59d2b9eb-2bdd-4ceb-8d78-19d0f2f4b032",
    "deepnote_to_be_reexecuted": false,
    "source_hash": "28a30326",
    "execution_start": 1636470174213,
    "execution_millis": 114,
    "deepnote_cell_type": "code"
   },
   "source": "keve.evaluate(keve_solution)",
   "execution_count": null,
   "outputs": [
    {
     "name": "stdout",
     "text": "- success rate: 495/495 (100.0%)\n- error count: 0\n- best performance: 1\n- worst performance: 1\n- mean performance: 1.0\n",
     "output_type": "stream"
    }
   ]
  },
  {
   "cell_type": "markdown",
   "source": "## dorka",
   "metadata": {
    "cell_id": "00016-2a25af91-18d3-44df-b7cc-9e44013be43d",
    "deepnote_cell_type": "markdown"
   }
  },
  {
   "cell_type": "code",
   "metadata": {
    "cell_id": "00017-95821660-2fb2-4a31-b2d3-9020df01cf42",
    "deepnote_to_be_reexecuted": false,
    "source_hash": "a8742fb0",
    "execution_start": 1637017756158,
    "execution_millis": 1,
    "deepnote_cell_type": "code"
   },
   "source": "def dorka_solution(p1, p2):\n    a=\"\"\n    p2=p2.upper()\n    b=0\n    c=0\n    szo=\"\"\n    for i in p1:\n        j=i.upper()\n        b=j.count(p2)\n        if b>c:\n            c=b\n            szo=i\n    return szo",
   "execution_count": null,
   "outputs": []
  },
  {
   "cell_type": "code",
   "metadata": {
    "cell_id": "00018-a57b1a27-f3d1-4e85-916c-b454bb0f0919",
    "deepnote_to_be_reexecuted": false,
    "source_hash": "f51746bb",
    "execution_start": 1637017759152,
    "execution_millis": 1250,
    "deepnote_cell_type": "code"
   },
   "source": "dorka.evaluate(dorka_solution)",
   "execution_count": null,
   "outputs": [
    {
     "name": "stdout",
     "text": "- success rate: 495/495 (100.0%)\n- error count: 0\n- best performance: 1\n- worst performance: 1\n- mean performance: 1.0\n",
     "output_type": "stream"
    }
   ]
  },
  {
   "cell_type": "markdown",
   "source": "## eszter",
   "metadata": {
    "cell_id": "00019-fa18f83e-6883-429c-b76c-081271c0155a",
    "deepnote_cell_type": "markdown"
   }
  },
  {
   "cell_type": "code",
   "metadata": {
    "cell_id": "00020-36b10cdf-6587-43dc-a797-4c98ecde7aa1",
    "deepnote_to_be_reexecuted": false,
    "source_hash": "6ea463f7",
    "execution_start": 1637016430205,
    "execution_millis": 2,
    "deepnote_cell_type": "code"
   },
   "source": "def eszter_solution(p1, p2):\n    a=[]\n    for i in p1:\n        if (i/p2)%2==0:\n            a.append(i)\n    for j in a:\n        if len(a)>0:\n            return max(a)\n        else: \n            return 0\n    # modify this function\n    # return value and parameters and all\n    return 0",
   "execution_count": null,
   "outputs": []
  },
  {
   "cell_type": "code",
   "metadata": {
    "cell_id": "00021-e7e60bec-37f7-46b4-b4f5-96cedcc6d585",
    "deepnote_to_be_reexecuted": false,
    "source_hash": "e6e77655",
    "execution_start": 1637016433414,
    "execution_millis": 201,
    "deepnote_cell_type": "code"
   },
   "source": "eszter.evaluate(eszter_solution)",
   "execution_count": null,
   "outputs": [
    {
     "name": "stdout",
     "text": "- success rate: 497/497 (100.0%)\n- error count: 0\n- best performance: 1\n- worst performance: 1\n- mean performance: 1.0\n",
     "output_type": "stream"
    }
   ]
  },
  {
   "cell_type": "markdown",
   "source": "## szabi",
   "metadata": {
    "cell_id": "00022-a7b56ae1-afe5-4b4d-ba3d-0f456bf7f7f1",
    "deepnote_cell_type": "markdown"
   }
  },
  {
   "cell_type": "code",
   "metadata": {
    "cell_id": "00023-f3fbe245-702b-436f-94a2-c909abd4c9b4",
    "deepnote_to_be_reexecuted": false,
    "source_hash": "df6a224a",
    "execution_start": 1636646815244,
    "execution_millis": 1,
    "deepnote_cell_type": "code"
   },
   "source": "def szabi_solution(list_of_numbers):\n    output=[]\n    for e in list_of_numbers:\n        if 2*e in list_of_numbers:\n            output.append(e)\n    if len(output)==0:\n        return 0\n    else:\n         return min(output)",
   "execution_count": null,
   "outputs": []
  },
  {
   "cell_type": "code",
   "metadata": {
    "cell_id": "00024-e6650eb9-05dc-48d3-98b7-8f235f4ffa69",
    "deepnote_to_be_reexecuted": false,
    "source_hash": "8a2282b",
    "execution_start": 1636646829849,
    "execution_millis": 1658,
    "deepnote_cell_type": "code"
   },
   "source": "szabi.evaluate(szabi_solution)",
   "execution_count": null,
   "outputs": [
    {
     "name": "stdout",
     "text": "- success rate: 497/497 (100.0%)\n- error count: 0\n- best performance: 1\n- worst performance: 1\n- mean performance: 1.0\n",
     "output_type": "stream"
    }
   ]
  },
  {
   "cell_type": "markdown",
   "source": "## hako",
   "metadata": {
    "cell_id": "00025-67a5a24c-582e-4c25-8004-3f566b56be45",
    "deepnote_cell_type": "markdown"
   }
  },
  {
   "cell_type": "code",
   "metadata": {
    "cell_id": "00026-8482e3ae-60c8-424e-8835-7cc24d2c6952",
    "deepnote_to_be_reexecuted": true,
    "source_hash": "20f59547",
    "deepnote_cell_type": "code"
   },
   "source": "def hako_solution():\n    # modify this function\n    # return value and parameters and all\n    return 0",
   "execution_count": null,
   "outputs": []
  },
  {
   "cell_type": "code",
   "metadata": {
    "cell_id": "00027-5a8389aa-b3fb-48c4-8b55-2c236e23a26e",
    "deepnote_to_be_reexecuted": true,
    "source_hash": "a106adb3",
    "deepnote_cell_type": "code"
   },
   "source": "hako.evaluate(hako_solution)",
   "execution_count": null,
   "outputs": []
  },
  {
   "cell_type": "markdown",
   "source": "<a style='text-decoration:none;line-height:16px;display:flex;color:#5B5B62;padding:10px;justify-content:end;' href='https://deepnote.com?utm_source=created-in-deepnote-cell&projectId=978e47b7-a961-4dca-a945-499e8b781a34' target=\"_blank\">\n<img alt='Created in deepnote.com' style='display:inline;max-height:16px;margin:0px;margin-right:7.5px;' src='data:image/svg+xml;base64,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' > </img>\nCreated in <span style='font-weight:600;margin-left:4px;'>Deepnote</span></a>",
   "metadata": {
    "tags": [],
    "created_in_deepnote_cell": true,
    "deepnote_cell_type": "markdown"
   }
  }
 ],
 "nbformat": 4,
 "nbformat_minor": 2,
 "metadata": {
  "kernelspec": {
   "display_name": "Python 3",
   "language": "python",
   "name": "python3"
  },
  "language_info": {
   "codemirror_mode": {
    "name": "ipython",
    "version": 3
   },
   "file_extension": ".py",
   "mimetype": "text/x-python",
   "name": "python",
   "nbconvert_exporter": "python",
   "pygments_lexer": "ipython3",
   "version": "3.9.0"
  },
  "deepnote_notebook_id": "fd2ddd89-5c0c-4457-87ea-a5c9581537fe",
  "deepnote": {},
  "deepnote_execution_queue": []
 }
}