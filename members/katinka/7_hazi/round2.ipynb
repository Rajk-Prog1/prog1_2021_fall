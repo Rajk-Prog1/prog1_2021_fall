{
 "cells": [
  {
   "cell_type": "code",
   "metadata": {
    "cell_id": "00000-fba05ea6-d694-46cf-aeb2-8a023f24878b",
    "deepnote_to_be_reexecuted": false,
    "source_hash": "35fd486b",
    "execution_start": 1637239715408,
    "execution_millis": 17,
    "deepnote_cell_type": "code"
   },
   "source": "import sys\nsys.path.insert(0, '/work/prog1_2021_fall/materials/others/')\nfrom __import_file__ import mbence\nfrom __import_file__ import dani\nfrom __import_file__ import bogi\nfrom __import_file__ import katinka\nfrom __import_file__ import keve\nfrom __import_file__ import dorka\nfrom __import_file__ import eszter\nfrom __import_file__ import szabi\nfrom __import_file__ import hako",
   "execution_count": null,
   "outputs": []
  },
  {
   "cell_type": "markdown",
   "source": "## mbence",
   "metadata": {
    "cell_id": "00001-2c09ccee-ed31-4da0-a335-07ae3bc6df49",
    "deepnote_cell_type": "markdown"
   }
  },
  {
   "cell_type": "code",
   "metadata": {
    "cell_id": "00002-4f15910b-e5e7-4361-bcec-7ed592c9e943",
    "deepnote_to_be_reexecuted": false,
    "source_hash": "6813c414",
    "execution_start": 1637084508091,
    "execution_millis": 2,
    "deepnote_cell_type": "code"
   },
   "source": "def mbence_solution(tömb):\n    a=0\n    b=-1\n    for i in range(len(tömb)):\n        c=0\n        for letter in tömb[i]:\n            if letter==\"a\" or letter==\"A\":\n                c+=1\n        if (c>a):\n            a=c\n            b=i\n    return b",
   "execution_count": null,
   "outputs": []
  },
  {
   "cell_type": "code",
   "metadata": {
    "cell_id": "00003-91c41a04-9a5a-42ec-8cba-1dd565167b67",
    "deepnote_to_be_reexecuted": false,
    "source_hash": "8d319ea3",
    "execution_start": 1637084513110,
    "execution_millis": 1607,
    "deepnote_cell_type": "code"
   },
   "source": "mbence.evaluate(mbence_solution)",
   "execution_count": null,
   "outputs": [
    {
     "name": "stdout",
     "text": "- success rate: 495/495 (100.0%)\n- error count: 0\n- best performance: 1\n- worst performance: 1\n- mean performance: 1.0\n",
     "output_type": "stream"
    }
   ]
  },
  {
   "cell_type": "markdown",
   "source": "## dani",
   "metadata": {
    "cell_id": "00004-d6d04069-95a4-4bad-94cb-69391daad356",
    "deepnote_cell_type": "markdown"
   }
  },
  {
   "cell_type": "code",
   "metadata": {
    "cell_id": "00005-b37c08d0-c5db-48c8-91a1-faab18427b61",
    "deepnote_to_be_reexecuted": false,
    "source_hash": "27d4c80c",
    "execution_start": 1637014043280,
    "execution_millis": 6,
    "deepnote_cell_type": "code"
   },
   "source": "def dani_solution(számok):\n    for i in range(len(számok)):\n        számok[i]=int(számok[i])\n    print (számok)\n    rendezett=sorted(számok)\n    eleje=rendezett[0]*rendezett[1]\n    vége=rendezett[-1]*rendezett[-2]\n\n    if eleje > vége:\n        return eleje\n    return vége",
   "execution_count": null,
   "outputs": []
  },
  {
   "cell_type": "code",
   "metadata": {
    "tags": [],
    "cell_id": "00007-df6e466a-1415-449b-b9ed-502f69c3b66b",
    "deepnote_to_be_reexecuted": false,
    "source_hash": "bef03cee",
    "execution_start": 1637006835730,
    "execution_millis": 3,
    "deepnote_output_heights": [
     null,
     21.1875
    ],
    "deepnote_cell_type": "code"
   },
   "source": "test_list=[\"3\", \"5\", \"6\", \"4\"]\nfor i in range(0, len(test_list)):\n    test_list[i] = int(test_list[i])\n\nprint(test_list)\nsorted(test_list)",
   "execution_count": null,
   "outputs": [
    {
     "name": "stdout",
     "text": "[3, 5, 6, 4]\n",
     "output_type": "stream"
    },
    {
     "output_type": "execute_result",
     "execution_count": 3,
     "data": {
      "text/plain": "[3, 4, 5, 6]"
     },
     "metadata": {}
    }
   ]
  },
  {
   "cell_type": "code",
   "metadata": {
    "cell_id": "00006-fc2b8bf9-f886-4632-a9fa-7ec1373f9e22",
    "deepnote_to_be_reexecuted": false,
    "source_hash": "cadcf404",
    "execution_start": 1637239722118,
    "execution_millis": 355,
    "deepnote_cell_type": "code"
   },
   "source": "dani.evaluate(dani_solution)",
   "execution_count": null,
   "outputs": [
    {
     "name": "stdout",
     "text": "- success rate: 497/497 (100.0%)\n- error count: 0\n- best performance: 1\n- worst performance: 1\n- mean performance: 1.0\n",
     "output_type": "stream"
    }
   ]
  },
  {
   "cell_type": "markdown",
   "source": "## bogi",
   "metadata": {
    "cell_id": "00007-8e83175a-95de-4cef-9aaf-7e2e7f9b35b6",
    "deepnote_cell_type": "markdown"
   }
  },
  {
   "cell_type": "code",
   "metadata": {
    "cell_id": "00008-3545047e-4c0e-4297-83d8-ac932ffdadb1",
    "deepnote_to_be_reexecuted": false,
    "source_hash": "17185d41",
    "execution_start": 1636556248894,
    "execution_millis": 3,
    "deepnote_cell_type": "code"
   },
   "source": "def bogi_solution(list_of_numbers):\n    result=0\n    list_of_numbers=list(set(list_of_numbers))\n    for p in range(len(list_of_numbers)):\n        if list_of_numbers[p]>0 and list_of_numbers[p]%2 == 1:\n            result=result+list_of_numbers[p]\n    \n    return result",
   "execution_count": null,
   "outputs": []
  },
  {
   "cell_type": "code",
   "metadata": {
    "cell_id": "00009-02ef03d5-ed13-44d3-8859-44db9ca92f84",
    "deepnote_to_be_reexecuted": false,
    "source_hash": "77f6887",
    "execution_start": 1636556249526,
    "execution_millis": 24,
    "deepnote_cell_type": "code"
   },
   "source": "bogi.evaluate(bogi_solution)",
   "execution_count": null,
   "outputs": [
    {
     "name": "stdout",
     "text": "- success rate: 497/497 (100.0%)\n- error count: 0\n- best performance: 1\n- worst performance: 1\n- mean performance: 1.0\n",
     "output_type": "stream"
    }
   ]
  },
  {
   "cell_type": "markdown",
   "source": "## katinka",
   "metadata": {
    "cell_id": "00010-261204b5-9a03-41f4-93dc-e96aedf80ab7",
    "deepnote_cell_type": "markdown"
   }
  },
  {
   "cell_type": "code",
   "metadata": {
    "cell_id": "00011-eac07316-75f7-42d7-827a-b9a2ede6652d",
    "deepnote_to_be_reexecuted": false,
    "source_hash": "aca895f5",
    "execution_start": 1636556341020,
    "execution_millis": 3,
    "deepnote_cell_type": "code"
   },
   "source": "def katinka_solution(list_of_numbers):\n    list_of_numbers.sort(reverse=True)\n    a=0\n    digits=[int(digit) for digit in str(list_of_numbers[a]) if digit != '-']\n\n    while digits != sorted(digits):\n        a=a+1\n        if a==len(list_of_numbers)-1:\n            return 0\n        digits=[int(digit) for digit in str(list_of_numbers[a]) if digit != '-']\n        \n        \n    return list_of_numbers[a]\n    return 0",
   "execution_count": null,
   "outputs": []
  },
  {
   "cell_type": "code",
   "metadata": {
    "cell_id": "00012-553e3c8b-bdd4-42c3-b00c-806a97c2bfe8",
    "deepnote_to_be_reexecuted": false,
    "source_hash": "23aa5959",
    "execution_start": 1636556342914,
    "execution_millis": 317,
    "deepnote_cell_type": "code"
   },
   "source": "katinka.evaluate(katinka_solution)",
   "execution_count": null,
   "outputs": [
    {
     "name": "stdout",
     "text": "- success rate: 497/497 (100.0%)\n- error count: 0\n- best performance: 1\n- worst performance: 1\n- mean performance: 1.0\n",
     "output_type": "stream"
    }
   ]
  },
  {
   "cell_type": "markdown",
   "source": "## keve\n#### find the number of strings in a list of strings that contain a given letter\n\nupper or lower case\n\n> ```[\"abfg\", \"Bcd\", \"Ijk\"], \"b\" -> 2```",
   "metadata": {
    "cell_id": "00013-0e952771-4ff8-4500-8ade-8a39882ca0e5",
    "deepnote_cell_type": "markdown"
   }
  },
  {
   "cell_type": "code",
   "metadata": {
    "cell_id": "00014-85758ce0-fab3-4a9d-8f5e-8b8afeb0d018",
    "deepnote_to_be_reexecuted": false,
    "source_hash": "c6be7603",
    "execution_start": 1637085086372,
    "execution_millis": 2,
    "deepnote_cell_type": "code"
   },
   "source": "def keve_solution(list_of_strings, letter):\n    number=0\n    for elem in list_of_strings:\n        elem=elem.upper()\n        if letter.upper() in elem:\n            number=number+1   \n\n    return number\n",
   "execution_count": null,
   "outputs": []
  },
  {
   "cell_type": "code",
   "metadata": {
    "cell_id": "00015-e8d81e1a-9e6e-4819-a00e-9b2ebc23b315",
    "deepnote_to_be_reexecuted": false,
    "source_hash": "28a30326",
    "execution_start": 1637085088827,
    "execution_millis": 92,
    "deepnote_cell_type": "code"
   },
   "source": "keve.evaluate(keve_solution)",
   "execution_count": null,
   "outputs": [
    {
     "name": "stdout",
     "text": "- success rate: 495/495 (100.0%)\n- error count: 0\n- best performance: 1\n- worst performance: 1\n- mean performance: 1.0\n",
     "output_type": "stream"
    }
   ]
  },
  {
   "cell_type": "markdown",
   "source": "## dorka",
   "metadata": {
    "cell_id": "00016-fb4202c3-45f5-48f6-b86e-5cf20826edf8",
    "deepnote_cell_type": "markdown"
   }
  },
  {
   "cell_type": "code",
   "metadata": {
    "cell_id": "00017-0aa27030-743c-48b8-88f2-04db29abf6d7",
    "deepnote_to_be_reexecuted": false,
    "source_hash": "86234d6d",
    "execution_start": 1637011806481,
    "execution_millis": 0,
    "deepnote_cell_type": "code"
   },
   "source": "def dorka_solution(list_of_words, letter):\n    ures=\"\"\n    szam=0\n    for i in list_of_words:\n        x=i.upper().count(letter.upper())\n        if szam<x:\n            szam=x\n            ures=i\n    return ures",
   "execution_count": null,
   "outputs": []
  },
  {
   "cell_type": "code",
   "metadata": {
    "cell_id": "00018-30b24894-ec35-4b3d-8650-3166254c21dd",
    "deepnote_to_be_reexecuted": false,
    "source_hash": "f51746bb",
    "execution_start": 1637011809884,
    "execution_millis": 2190,
    "deepnote_cell_type": "code"
   },
   "source": "dorka.evaluate(dorka_solution)",
   "execution_count": null,
   "outputs": [
    {
     "name": "stdout",
     "text": "- success rate: 495/495 (100.0%)\n- error count: 0\n- best performance: 1\n- worst performance: 1\n- mean performance: 1.0\n",
     "output_type": "stream"
    }
   ]
  },
  {
   "cell_type": "markdown",
   "source": "## eszter",
   "metadata": {
    "cell_id": "00019-27e6a79a-800e-4cbe-9add-5484e6a901b5",
    "deepnote_cell_type": "markdown"
   }
  },
  {
   "cell_type": "code",
   "metadata": {
    "cell_id": "00020-a4a8e432-e65f-492b-9b5a-9629ddd62dec",
    "deepnote_to_be_reexecuted": false,
    "source_hash": "25a7f476",
    "execution_start": 1637086171287,
    "execution_millis": 1,
    "deepnote_cell_type": "code"
   },
   "source": "def eszter_solution(list_of_numbers, number):\n    new=[]\n    for i in list_of_numbers:\n        if i/number%2==0:\n            new.append(i)\n    if new==[]:\n        return 0\n    else:\n        return max(new)",
   "execution_count": null,
   "outputs": []
  },
  {
   "cell_type": "code",
   "metadata": {
    "cell_id": "00021-df0c5171-f5ff-4638-a459-48c3dc5660ae",
    "deepnote_to_be_reexecuted": false,
    "source_hash": "e6e77655",
    "execution_start": 1637086173469,
    "execution_millis": 53,
    "deepnote_cell_type": "code"
   },
   "source": "eszter.evaluate(eszter_solution)",
   "execution_count": null,
   "outputs": [
    {
     "name": "stdout",
     "text": "- success rate: 497/497 (100.0%)\n- error count: 0\n- best performance: 1\n- worst performance: 1\n- mean performance: 1.0\n",
     "output_type": "stream"
    }
   ]
  },
  {
   "cell_type": "markdown",
   "source": "## szabi",
   "metadata": {
    "cell_id": "00022-4a749a3f-109a-4cbe-993a-b4a77c1c4448",
    "deepnote_cell_type": "markdown"
   }
  },
  {
   "cell_type": "code",
   "metadata": {
    "cell_id": "00023-e98ebc19-524d-421f-8f8b-feb54fb4a764",
    "deepnote_to_be_reexecuted": false,
    "source_hash": "95248b0c",
    "execution_start": 1637013861536,
    "execution_millis": 6,
    "deepnote_cell_type": "code"
   },
   "source": "def szabi_solution(list_of_numbers_s):\n    ures_s=[]\n    for i in list_of_numbers_s:\n        dupla=2*i\n        if dupla in list_of_numbers_s:\n            ures_s.append(i)\n    if len(ures_s)!=0:\n        return min(ures_s)\n    else:\n        return 0",
   "execution_count": null,
   "outputs": []
  },
  {
   "cell_type": "code",
   "metadata": {
    "cell_id": "00024-bec2b3ad-bc8e-41f6-a1de-b0c0ed7001dc",
    "deepnote_to_be_reexecuted": false,
    "source_hash": "8a2282b",
    "execution_start": 1637013862795,
    "execution_millis": 2363,
    "deepnote_cell_type": "code"
   },
   "source": "szabi.evaluate(szabi_solution)",
   "execution_count": null,
   "outputs": [
    {
     "name": "stdout",
     "text": "- success rate: 497/497 (100.0%)\n- error count: 0\n- best performance: 1\n- worst performance: 1\n- mean performance: 1.0\n",
     "output_type": "stream"
    }
   ]
  },
  {
   "cell_type": "markdown",
   "source": "## hako",
   "metadata": {
    "cell_id": "00025-7fd815fd-22d1-4f67-a417-1f013b3c74e8",
    "deepnote_cell_type": "markdown"
   }
  },
  {
   "cell_type": "code",
   "metadata": {
    "cell_id": "00026-213e13e3-9e37-4ced-815d-9883e9c1da21",
    "deepnote_to_be_reexecuted": false,
    "source_hash": "2d890685",
    "execution_start": 1637086963357,
    "execution_millis": 1,
    "deepnote_cell_type": "code"
   },
   "source": "def hako_solution(list_of_numbers, number):\n    utolso=[]\n    for i in list_of_numbers:\n        if (number-i)%3==0:\n            utolso.append(i)\n    if utolso==[]:\n        return 0\n    else:\n        return utolso[-1]",
   "execution_count": null,
   "outputs": []
  },
  {
   "cell_type": "code",
   "metadata": {
    "cell_id": "00027-1f2655d5-aaa4-4b11-9c26-067f5301494d",
    "deepnote_to_be_reexecuted": false,
    "source_hash": "a106adb3",
    "execution_start": 1637086966499,
    "execution_millis": 191,
    "deepnote_cell_type": "code"
   },
   "source": "hako.evaluate(hako_solution)",
   "execution_count": null,
   "outputs": [
    {
     "name": "stdout",
     "text": "- success rate: 497/497 (100.0%)\n- error count: 0\n- best performance: 1\n- worst performance: 1\n- mean performance: 1.0\n",
     "output_type": "stream"
    }
   ]
  },
  {
   "cell_type": "code",
   "metadata": {
    "tags": [],
    "cell_id": "00029-a26938d3-5271-44c4-9f98-5cac551e16c8",
    "deepnote_cell_type": "code"
   },
   "source": "",
   "execution_count": null,
   "outputs": []
  },
  {
   "cell_type": "markdown",
   "source": "<a style='text-decoration:none;line-height:16px;display:flex;color:#5B5B62;padding:10px;justify-content:end;' href='https://deepnote.com?utm_source=created-in-deepnote-cell&projectId=978e47b7-a961-4dca-a945-499e8b781a34' target=\"_blank\">\n<img alt='Created in deepnote.com' style='display:inline;max-height:16px;margin:0px;margin-right:7.5px;' src='data:image/svg+xml;base64,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' > </img>\nCreated in <span style='font-weight:600;margin-left:4px;'>Deepnote</span></a>",
   "metadata": {
    "tags": [],
    "created_in_deepnote_cell": true,
    "deepnote_cell_type": "markdown"
   }
  }
 ],
 "nbformat": 4,
 "nbformat_minor": 2,
 "metadata": {
  "kernelspec": {
   "display_name": "Python 3",
   "language": "python",
   "name": "python3"
  },
  "language_info": {
   "codemirror_mode": {
    "name": "ipython",
    "version": 3
   },
   "file_extension": ".py",
   "mimetype": "text/x-python",
   "name": "python",
   "nbconvert_exporter": "python",
   "pygments_lexer": "ipython3",
   "version": "3.9.0"
  },
  "deepnote_notebook_id": "fde355cf-1abf-4550-8125-80117f721de4",
  "deepnote": {},
  "deepnote_execution_queue": []
 }
}