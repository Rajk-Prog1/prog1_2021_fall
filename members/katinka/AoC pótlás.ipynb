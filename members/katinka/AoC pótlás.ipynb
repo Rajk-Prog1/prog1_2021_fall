{
 "cells": [
  {
   "cell_type": "code",
   "metadata": {
    "tags": [],
    "cell_id": "00000-94d87b2a-2b53-4993-aa6d-39460325c1aa",
    "deepnote_to_be_reexecuted": false,
    "source_hash": "c7982db7",
    "execution_start": 1637189476715,
    "execution_millis": 3,
    "deepnote_cell_type": "code"
   },
   "source": "with open('input_2020_01.txt', 'r') as fp:\n    \n    file_contents = fp.read()",
   "execution_count": null,
   "outputs": []
  },
  {
   "cell_type": "code",
   "metadata": {
    "tags": [],
    "cell_id": "00001-c52bd66a-ff88-4c9e-82f1-e2ee647dd69e",
    "deepnote_to_be_reexecuted": false,
    "source_hash": "382a5370",
    "execution_start": 1637187372677,
    "execution_millis": 3,
    "deepnote_cell_type": "code"
   },
   "source": "print(file_contents)",
   "execution_count": null,
   "outputs": [
    {
     "name": "stdout",
     "text": "1895\n1602\n1592\n1714\n1403\n1766\n1654\n1771\n1957\n1533\n1661\n1761\n1711\n1869\n1541\n1595\n1819\n1735\n1894\n1316\n1777\n1450\n1526\n1888\n1968\n1877\n1972\n1988\n1655\n1369\n1636\n1453\n1969\n1239\n1717\n1444\n1907\n1682\n1358\n1706\n1482\n1852\n1689\n1905\n1262\n1956\n770\n1507\n1314\n1890\n784\n1710\n1418\n597\n1417\n1587\n2003\n1889\n879\n1534\n279\n1302\n1976\n1936\n1590\n1939\n1489\n1966\n1238\n1481\n1412\n1675\n2001\n1543\n1220\n1352\n1536\n1879\n1892\n2006\n1642\n1321\n1600\n1908\n2009\n1784\n1260\n1881\n1897\n1933\n1048\n1851\n2005\n1626\n1441\n1945\n1742\n1734\n1816\n1919\n1802\n1460\n1845\n1914\n1652\n1943\n1521\n1830\n1477\n1866\n1702\n1629\n1932\n1671\n1707\n1577\n1962\n1518\n1989\n1502\n61\n1546\n1264\n1651\n2000\n1443\n1931\n1882\n1583\n1597\n1487\n1255\n1779\n1782\n1540\n1580\n1294\n1691\n1337\n1743\n1632\n1348\n2010\n1794\n1876\n1808\n1647\n422\n1994\n1864\n1996\n1738\n1998\n1749\n1789\n1395\n1997\n1440\n1676\n1527\n1523\n1836\n1366\n1700\n1826\n1426\n1709\n166\n1958\n1909\n1428\n1984\n521\n1760\n156\n1296\n1475\n1566\n1573\n1696\n1471\n1788\n1809\n1942\n1461\n1559\n1699\n1504\n1465\n1658\n1973\n1679\n1376\n1985\n1503\n1517\n1825\n1847\n1528\n1246\n\n",
     "output_type": "stream"
    }
   ]
  },
  {
   "cell_type": "code",
   "metadata": {
    "tags": [],
    "cell_id": "00002-f62e7dec-e48a-42ea-9396-e37673405947",
    "deepnote_to_be_reexecuted": false,
    "source_hash": "26e759c9",
    "execution_start": 1637189486261,
    "execution_millis": 3,
    "deepnote_cell_type": "code"
   },
   "source": "t2 = file_contents.split()",
   "execution_count": null,
   "outputs": []
  },
  {
   "cell_type": "code",
   "metadata": {
    "tags": [],
    "cell_id": "00003-c532ebbf-8605-4772-a2fe-beb1044adc25",
    "deepnote_to_be_reexecuted": false,
    "source_hash": "959a69f1",
    "execution_start": 1637189513594,
    "execution_millis": 5,
    "deepnote_cell_type": "code"
   },
   "source": "print(t2)\nt2 = list(map(int, t2))",
   "execution_count": null,
   "outputs": [
    {
     "name": "stdout",
     "text": "[1895, 1602, 1592, 1714, 1403, 1766, 1654, 1771, 1957, 1533, 1661, 1761, 1711, 1869, 1541, 1595, 1819, 1735, 1894, 1316, 1777, 1450, 1526, 1888, 1968, 1877, 1972, 1988, 1655, 1369, 1636, 1453, 1969, 1239, 1717, 1444, 1907, 1682, 1358, 1706, 1482, 1852, 1689, 1905, 1262, 1956, 770, 1507, 1314, 1890, 784, 1710, 1418, 597, 1417, 1587, 2003, 1889, 879, 1534, 279, 1302, 1976, 1936, 1590, 1939, 1489, 1966, 1238, 1481, 1412, 1675, 2001, 1543, 1220, 1352, 1536, 1879, 1892, 2006, 1642, 1321, 1600, 1908, 2009, 1784, 1260, 1881, 1897, 1933, 1048, 1851, 2005, 1626, 1441, 1945, 1742, 1734, 1816, 1919, 1802, 1460, 1845, 1914, 1652, 1943, 1521, 1830, 1477, 1866, 1702, 1629, 1932, 1671, 1707, 1577, 1962, 1518, 1989, 1502, 61, 1546, 1264, 1651, 2000, 1443, 1931, 1882, 1583, 1597, 1487, 1255, 1779, 1782, 1540, 1580, 1294, 1691, 1337, 1743, 1632, 1348, 2010, 1794, 1876, 1808, 1647, 422, 1994, 1864, 1996, 1738, 1998, 1749, 1789, 1395, 1997, 1440, 1676, 1527, 1523, 1836, 1366, 1700, 1826, 1426, 1709, 166, 1958, 1909, 1428, 1984, 521, 1760, 156, 1296, 1475, 1566, 1573, 1696, 1471, 1788, 1809, 1942, 1461, 1559, 1699, 1504, 1465, 1658, 1973, 1679, 1376, 1985, 1503, 1517, 1825, 1847, 1528, 1246]\n",
     "output_type": "stream"
    }
   ]
  },
  {
   "cell_type": "code",
   "metadata": {
    "tags": [],
    "cell_id": "00004-133aa404-3828-4d2a-8187-24f68cdf8ce4",
    "deepnote_to_be_reexecuted": false,
    "source_hash": "de1340f0",
    "execution_start": 1637189901864,
    "execution_millis": 2,
    "deepnote_cell_type": "code"
   },
   "source": "def part1(t2):\n    for i in t2:\n        for e in t2:\n            if i+e == 2020:\n                return i*e\n\n",
   "execution_count": null,
   "outputs": []
  },
  {
   "cell_type": "code",
   "metadata": {
    "tags": [],
    "cell_id": "00006-7f92726e-0da4-4086-9a9c-4002f9244432",
    "deepnote_to_be_reexecuted": false,
    "source_hash": "667e9b77",
    "execution_start": 1637189903296,
    "execution_millis": 6,
    "deepnote_cell_type": "code"
   },
   "source": "print(part1(t2))",
   "execution_count": null,
   "outputs": [
    {
     "name": "stdout",
     "text": "290784\n",
     "output_type": "stream"
    }
   ]
  },
  {
   "cell_type": "code",
   "metadata": {
    "tags": [],
    "cell_id": "00006-5b0abf49-360e-410c-86b6-c5291d7c3f8f",
    "deepnote_to_be_reexecuted": false,
    "source_hash": "ee462a4e",
    "execution_start": 1637190011420,
    "execution_millis": 2,
    "deepnote_cell_type": "code"
   },
   "source": "def part2(t2):\n    for j in t2:\n        for k in t2:\n            for l in t2:\n                if j+k+l == 2020:\n                    return j*k*l",
   "execution_count": null,
   "outputs": []
  },
  {
   "cell_type": "code",
   "metadata": {
    "tags": [],
    "cell_id": "00007-016e3611-5da4-464b-a13f-5c8f5af16c8d",
    "deepnote_to_be_reexecuted": false,
    "source_hash": "b52e6c0a",
    "execution_start": 1637190020952,
    "execution_millis": 131,
    "deepnote_cell_type": "code"
   },
   "source": "print(part2(t2))",
   "execution_count": null,
   "outputs": [
    {
     "name": "stdout",
     "text": "177337980\n",
     "output_type": "stream"
    }
   ]
  },
  {
   "cell_type": "code",
   "metadata": {
    "tags": [],
    "cell_id": "00008-066e8e61-9502-477f-b266-8c0b2e7daeb7",
    "deepnote_cell_type": "code"
   },
   "source": "",
   "execution_count": null,
   "outputs": []
  },
  {
   "cell_type": "markdown",
   "source": "<a style='text-decoration:none;line-height:16px;display:flex;color:#5B5B62;padding:10px;justify-content:end;' href='https://deepnote.com?utm_source=created-in-deepnote-cell&projectId=978e47b7-a961-4dca-a945-499e8b781a34' target=\"_blank\">\n<img alt='Created in deepnote.com' style='display:inline;max-height:16px;margin:0px;margin-right:7.5px;' src='data:image/svg+xml;base64,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' > </img>\nCreated in <span style='font-weight:600;margin-left:4px;'>Deepnote</span></a>",
   "metadata": {
    "tags": [],
    "created_in_deepnote_cell": true,
    "deepnote_cell_type": "markdown"
   }
  }
 ],
 "nbformat": 4,
 "nbformat_minor": 2,
 "metadata": {
  "orig_nbformat": 2,
  "deepnote": {
   "is_reactive": false
  },
  "deepnote_notebook_id": "6859246e-e26f-447d-a4c0-6f1f48eda63f",
  "deepnote_execution_queue": []
 }
}