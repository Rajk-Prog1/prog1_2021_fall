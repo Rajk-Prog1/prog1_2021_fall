{
 "cells": [
  {
   "cell_type": "code",
   "metadata": {
    "deepnote_to_be_reexecuted": false,
    "source_hash": "3b5c1b7",
    "execution_start": 1635944206510,
    "cell_id": "00000-3c03285c-f1c1-4612-a352-6aeb67824f7a",
    "execution_millis": 42,
    "deepnote_cell_type": "code"
   },
   "source": "from jkg_evaluators import dragonfind_10_to_500",
   "execution_count": null,
   "outputs": []
  },
  {
   "cell_type": "code",
   "metadata": {
    "deepnote_to_be_reexecuted": false,
    "source_hash": "167aee17",
    "execution_start": 1635944206553,
    "cell_id": "00001-7654250e-b4e4-4227-b156-16e06fc79c98",
    "execution_millis": 0,
    "deepnote_cell_type": "code"
   },
   "source": "cow_alive_list_test_1 = [False, False, True, True, True]",
   "execution_count": null,
   "outputs": []
  },
  {
   "cell_type": "code",
   "metadata": {
    "deepnote_to_be_reexecuted": false,
    "source_hash": "7bc2e5ce",
    "execution_start": 1635944206554,
    "cell_id": "00002-a9ec9347-7a93-459f-81da-a6db36fb653d",
    "execution_millis": 0,
    "deepnote_cell_type": "code"
   },
   "source": "def solution_katinka(cow_alive_list):\n    fat_alive_cow_index = 0\n    thin_alive_cow_index = len(cow_alive_list)\n    \n    while (thin_alive_cow_index) < (fat_alive_cow_index):\n        middle_cow = int((fat_alive_cow_index + \n                          thin_alive_cow_index) / 2)\n        if cow_alive_list[middle_cow]:\n            thin_alive_cow_index = middle_cow\n        else:\n            fat_alive_cow_index = middle_cow\n            \n    return middle_cow",
   "execution_count": null,
   "outputs": []
  },
  {
   "cell_type": "code",
   "metadata": {
    "deepnote_to_be_reexecuted": false,
    "source_hash": "d618daa3",
    "execution_start": 1635944206596,
    "execution_millis": 3565,
    "cell_id": "00003-977edcaa-41d9-4919-8ac5-5e269c829447",
    "deepnote_cell_type": "code"
   },
   "source": "dragonfind_10_to_500.evaluate(solution_katinka)",
   "execution_count": null,
   "outputs": [
    {
     "name": "stdout",
     "text": "- success rate: 0/124714 (0.0%)\n- error count: 124714\n\n\n ERROR at: \n {'number_of_cows': 10, 'dragon_coming_to': 1} \n - TypeError (solution_katinka() takes 1 positional argument but 2 were given)\n\n\n ERROR at: \n {'number_of_cows': 10, 'dragon_coming_to': 2} \n - TypeError (solution_katinka() takes 1 positional argument but 2 were given)\n\n\n ERROR at: \n {'number_of_cows': 10, 'dragon_coming_to': 3} \n - TypeError (solution_katinka() takes 1 positional argument but 2 were given)\n\n\n ERROR at: \n {'number_of_cows': 10, 'dragon_coming_to': 4} \n - TypeError (solution_katinka() takes 1 positional argument but 2 were given)\n\n\n ERROR at: \n {'number_of_cows': 10, 'dragon_coming_to': 5} \n - TypeError (solution_katinka() takes 1 positional argument but 2 were given)\n\n\n ERROR at: \n {'number_of_cows': 10, 'dragon_coming_to': 6} \n - TypeError (solution_katinka() takes 1 positional argument but 2 were given)\n\n\n ERROR at: \n {'number_of_cows': 10, 'dragon_coming_to': 7} \n - TypeError (solution_katinka() takes 1 positional argument but 2 were given)\n\n\n ERROR at: \n {'number_of_cows': 10, 'dragon_coming_to': 8} \n - TypeError (solution_katinka() takes 1 positional argument but 2 were given)\n\n\n ERROR at: \n {'number_of_cows': 10, 'dragon_coming_to': 9} \n - TypeError (solution_katinka() takes 1 positional argument but 2 were given)\n\n\n ERROR at: \n {'number_of_cows': 11, 'dragon_coming_to': 1} \n - TypeError (solution_katinka() takes 1 positional argument but 2 were given)\n",
     "output_type": "stream"
    }
   ]
  },
  {
   "cell_type": "markdown",
   "source": "<a style='text-decoration:none;line-height:16px;display:flex;color:#5B5B62;padding:10px;justify-content:end;' href='https://deepnote.com?utm_source=created-in-deepnote-cell&projectId=978e47b7-a961-4dca-a945-499e8b781a34' target=\"_blank\">\n<img alt='Created in deepnote.com' style='display:inline;max-height:16px;margin:0px;margin-right:7.5px;' src='data:image/svg+xml;base64,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' > </img>\nCreated in <span style='font-weight:600;margin-left:4px;'>Deepnote</span></a>",
   "metadata": {
    "tags": [],
    "created_in_deepnote_cell": true,
    "deepnote_cell_type": "markdown"
   }
  }
 ],
 "nbformat": 4,
 "nbformat_minor": 2,
 "metadata": {
  "kernelspec": {
   "display_name": "Python 3",
   "language": "python",
   "name": "python3"
  },
  "language_info": {
   "codemirror_mode": {
    "name": "ipython",
    "version": 3
   },
   "file_extension": ".py",
   "mimetype": "text/x-python",
   "name": "python",
   "nbconvert_exporter": "python",
   "pygments_lexer": "ipython3",
   "version": "3.7.5"
  },
  "deepnote_notebook_id": "1737055f-26c4-4c04-8341-db215f5c52b4",
  "deepnote": {},
  "deepnote_execution_queue": []
 }
}