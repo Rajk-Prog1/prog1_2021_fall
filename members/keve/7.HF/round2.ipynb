{
 "cells": [
  {
   "cell_type": "code",
   "metadata": {
    "cell_id": "00000-f4ca504d-4125-4642-b2e7-8520040e69c0",
    "deepnote_to_be_reexecuted": false,
    "source_hash": "35fd486b",
    "execution_start": 1637236743126,
    "execution_millis": 0,
    "deepnote_cell_type": "code"
   },
   "source": "import sys\nsys.path.insert(0, '/work/prog1_2021_fall/materials/others/')\nfrom __import_file__ import mbence\nfrom __import_file__ import dani\nfrom __import_file__ import bogi\nfrom __import_file__ import katinka\nfrom __import_file__ import keve\nfrom __import_file__ import dorka\nfrom __import_file__ import eszter\nfrom __import_file__ import szabi\nfrom __import_file__ import hako",
   "outputs": [],
   "execution_count": null
  },
  {
   "cell_type": "markdown",
   "source": "## mbence",
   "metadata": {
    "cell_id": "00001-9ed8ca06-4df6-4b65-be8c-b8cf5f0da948",
    "deepnote_cell_type": "markdown"
   }
  },
  {
   "cell_type": "code",
   "metadata": {
    "cell_id": "00002-80a8e650-b6d7-4526-a95c-2be11d0414cd",
    "deepnote_cell_type": "code"
   },
   "source": "def mbence_solution():\n    # modify this function\n    # return value and parameters and all\n    return 0",
   "execution_count": null,
   "outputs": []
  },
  {
   "cell_type": "code",
   "metadata": {
    "cell_id": "00003-1e21870d-dba0-4073-a0e3-50bab2ca253d",
    "deepnote_cell_type": "code"
   },
   "source": "mbence.evaluate(mbence_solution)",
   "execution_count": null,
   "outputs": []
  },
  {
   "cell_type": "markdown",
   "source": "## dani",
   "metadata": {
    "cell_id": "00004-8533135d-c232-4241-8d48-ea31dde8bc60",
    "deepnote_cell_type": "markdown"
   }
  },
  {
   "cell_type": "code",
   "metadata": {
    "cell_id": "00005-0ee7cf47-a640-4f00-80ad-90421030e5c5",
    "deepnote_cell_type": "code"
   },
   "source": "def dani_solution():\n    # modify this function\n    # return value and parameters and all\n    return 0",
   "execution_count": null,
   "outputs": []
  },
  {
   "cell_type": "code",
   "metadata": {
    "cell_id": "00006-4fda40c7-98ce-4c39-aa39-78bb870cceac",
    "deepnote_cell_type": "code"
   },
   "source": "dani.evaluate(dani_solution)",
   "execution_count": null,
   "outputs": []
  },
  {
   "cell_type": "markdown",
   "source": "## bogi",
   "metadata": {
    "cell_id": "00007-aeda2080-171c-4dde-9cc6-a095660494d0",
    "deepnote_cell_type": "markdown"
   }
  },
  {
   "cell_type": "code",
   "metadata": {
    "cell_id": "00008-861b70a1-d614-447b-947c-8b4a2d948870",
    "deepnote_cell_type": "code"
   },
   "source": "def bogi_solution():\n    # modify this function\n    # return value and parameters and all\n    return 0",
   "execution_count": null,
   "outputs": []
  },
  {
   "cell_type": "code",
   "metadata": {
    "cell_id": "00009-28bf5e52-15fb-4040-91c7-7a7f79b7bb71",
    "deepnote_cell_type": "code"
   },
   "source": "bogi.evaluate(bogi_solution)",
   "execution_count": null,
   "outputs": []
  },
  {
   "cell_type": "markdown",
   "source": "## katinka",
   "metadata": {
    "cell_id": "00010-aadd32c1-c61b-4129-8014-80fc2277f2a7",
    "deepnote_cell_type": "markdown"
   }
  },
  {
   "cell_type": "code",
   "metadata": {
    "cell_id": "00011-20b28727-e291-4ee4-bf5e-f799f9942f67",
    "deepnote_to_be_reexecuted": false,
    "source_hash": "a0d4ecce",
    "execution_start": 1637252134726,
    "execution_millis": 3,
    "deepnote_cell_type": "code"
   },
   "source": "def katinka_solution(para):\n    rendezett=para.sort()\n    a=0\n    b=rendezett[a]\n    c=list()\n    for i in b:\n        if \"-\" not in b:\n            c.append(i)\n    for f \n    # modify this function\n    # return value and parameters and all\n    return 0",
   "outputs": [
    {
     "output_type": "error",
     "ename": "SyntaxError",
     "evalue": "invalid syntax (<ipython-input-1-d8d4b80bd46d>, line 9)",
     "traceback": [
      "\u001b[0;36m  File \u001b[0;32m\"<ipython-input-1-d8d4b80bd46d>\"\u001b[0;36m, line \u001b[0;32m9\u001b[0m\n\u001b[0;31m    for f\u001b[0m\n\u001b[0m          ^\u001b[0m\n\u001b[0;31mSyntaxError\u001b[0m\u001b[0;31m:\u001b[0m invalid syntax\n"
     ]
    }
   ],
   "execution_count": null
  },
  {
   "cell_type": "code",
   "metadata": {
    "cell_id": "00012-08d8dfa4-1bbf-4641-a7e1-f0f085b6d013",
    "deepnote_to_be_reexecuted": false,
    "source_hash": "23aa5959",
    "execution_start": 1637236761001,
    "execution_millis": 360,
    "deepnote_cell_type": "code"
   },
   "source": "katinka.evaluate(katinka_solution)",
   "outputs": [
    {
     "name": "stdout",
     "text": "- success rate: 0/497 (0.0%)\n- error count: 497\n\n\n ERROR at: \n {'list_of_numbers': [0, 1, 2, 3, 4]} \n - TypeError ('NoneType' object is not subscriptable)\n\n\n ERROR at: \n {'list_of_numbers': [0, 0, 10, 3, 10]} \n - TypeError ('NoneType' object is not subscriptable)\n\n\n ERROR at: \n {'list_of_numbers': [-20, -40, 0, 1, 2, 3, 40]} \n - TypeError ('NoneType' object is not subscriptable)\n\n\n ERROR at: \n {'list_of_numbers': [-1100, 100, 20]} \n - TypeError ('NoneType' object is not subscriptable)\n\n\n ERROR at: \n {'list_of_numbers': [0, 1]} \n - TypeError ('NoneType' object is not subscriptable)\n\n\n ERROR at: \n {'list_of_numbers': [21, 120, 220]} \n - TypeError ('NoneType' object is not subscriptable)\n\n\n ERROR at: \n {'list_of_numbers': [720, -816, 764, 327, -818, -351, -220, 699, -633, 413]} \n - TypeError ('NoneType' object is not subscriptable)\n\n\n ERROR at: \n {'list_of_numbers': [844, -424, 6, -713, 167, 794, -328, -331, 999, 874, 914]} \n - TypeError ('NoneType' object is not subscriptable)\n\n\n ERROR at: \n {'list_of_numbers': [-230, -248, -708, -606, 952, 949, 233, -89, -683, -30, -19, 598]} \n - TypeError ('NoneType' object is not subscriptable)\n\n\n ERROR at: \n {'list_of_numbers': [-521, 11, -707, 614, 151, -415, 923, 775, -446, 402, -339, -614, 180]} \n - TypeError ('NoneType' object is not subscriptable)\n",
     "output_type": "stream"
    }
   ],
   "execution_count": null
  },
  {
   "cell_type": "markdown",
   "source": "## keve\n#### find the number of strings in a list of strings that contain a given letter\n\nupper or lower case\n\n> ```[\"abfg\", \"Bcd\", \"Ijk\"], \"b\" -> 2```",
   "metadata": {
    "cell_id": "00013-1ec88fed-1dd3-47bc-95c8-95da74b31a31",
    "deepnote_cell_type": "markdown"
   }
  },
  {
   "cell_type": "code",
   "metadata": {
    "cell_id": "00014-a9db278c-eb06-4797-a6a9-c1dc7ed72c75",
    "deepnote_cell_type": "code"
   },
   "source": "def keve_solution(list_of_strings, letter):\n    # modify this function\n    # return value and parameters and all\n    return 0",
   "execution_count": null,
   "outputs": []
  },
  {
   "cell_type": "code",
   "metadata": {
    "cell_id": "00015-7cac82d2-306c-461a-95a0-248f14b1ef53",
    "deepnote_cell_type": "code"
   },
   "source": "keve.evaluate(keve_solution)",
   "execution_count": null,
   "outputs": []
  },
  {
   "cell_type": "markdown",
   "source": "## dorka",
   "metadata": {
    "cell_id": "00016-9220aff9-14e3-43fa-8e31-e7242757aa03",
    "deepnote_cell_type": "markdown"
   }
  },
  {
   "cell_type": "code",
   "metadata": {
    "cell_id": "00017-021665ec-f530-4cb0-92c3-08eaabe70d15",
    "deepnote_cell_type": "code"
   },
   "source": "def dorka_solution():\n    # modify this function\n    # return value and parameters and all\n    return 0",
   "execution_count": null,
   "outputs": []
  },
  {
   "cell_type": "code",
   "metadata": {
    "cell_id": "00018-c5bea5d2-7997-4b0b-94dc-9042119e3d98",
    "deepnote_cell_type": "code"
   },
   "source": "dorka.evaluate(dorka_solution)",
   "execution_count": null,
   "outputs": []
  },
  {
   "cell_type": "markdown",
   "source": "## eszter",
   "metadata": {
    "cell_id": "00019-267dd446-2b45-40b6-a93a-b57919218928",
    "deepnote_cell_type": "markdown"
   }
  },
  {
   "cell_type": "code",
   "metadata": {
    "cell_id": "00020-cf8065df-ba09-46b4-8fbe-82c5e1d20a46",
    "deepnote_cell_type": "code"
   },
   "source": "def eszter_solution():\n    # modify this function\n    # return value and parameters and all\n    return 0",
   "execution_count": null,
   "outputs": []
  },
  {
   "cell_type": "code",
   "metadata": {
    "cell_id": "00021-242b96be-9373-450f-9e90-bab67e6d2925",
    "deepnote_cell_type": "code"
   },
   "source": "eszter.evaluate(eszter_solution)",
   "execution_count": null,
   "outputs": []
  },
  {
   "cell_type": "markdown",
   "source": "## szabi",
   "metadata": {
    "cell_id": "00022-cc1a3866-62e1-435a-af87-70033bc76fe5",
    "deepnote_cell_type": "markdown"
   }
  },
  {
   "cell_type": "code",
   "metadata": {
    "cell_id": "00023-c7bbc494-309c-46a8-a04b-e0f0dc138753",
    "deepnote_cell_type": "code"
   },
   "source": "def szabi_solution():\n    # modify this function\n    # return value and parameters and all\n    return 0",
   "execution_count": null,
   "outputs": []
  },
  {
   "cell_type": "code",
   "metadata": {
    "cell_id": "00024-9d3ae2f2-d21f-44a7-9937-a9451b1517a7",
    "deepnote_cell_type": "code"
   },
   "source": "szabi.evaluate(szabi_solution)",
   "execution_count": null,
   "outputs": []
  },
  {
   "cell_type": "markdown",
   "source": "## hako",
   "metadata": {
    "cell_id": "00025-da110d75-c440-496d-86a5-75cdc904ec22",
    "deepnote_cell_type": "markdown"
   }
  },
  {
   "cell_type": "code",
   "metadata": {
    "cell_id": "00026-17b73893-026d-485f-8d8b-b03af8b2f7c3",
    "deepnote_cell_type": "code"
   },
   "source": "def hako_solution():\n    # modify this function\n    # return value and parameters and all\n    return 0",
   "execution_count": null,
   "outputs": []
  },
  {
   "cell_type": "code",
   "metadata": {
    "cell_id": "00027-50457d49-1b23-4d69-a263-8a2317faa22e",
    "deepnote_cell_type": "code"
   },
   "source": "hako.evaluate(hako_solution)",
   "execution_count": null,
   "outputs": []
  },
  {
   "cell_type": "markdown",
   "source": "<a style='text-decoration:none;line-height:16px;display:flex;color:#5B5B62;padding:10px;justify-content:end;' href='https://deepnote.com?utm_source=created-in-deepnote-cell&projectId=978e47b7-a961-4dca-a945-499e8b781a34' target=\"_blank\">\n<img alt='Created in deepnote.com' style='display:inline;max-height:16px;margin:0px;margin-right:7.5px;' src='data:image/svg+xml;base64,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' > </img>\nCreated in <span style='font-weight:600;margin-left:4px;'>Deepnote</span></a>",
   "metadata": {
    "tags": [],
    "created_in_deepnote_cell": true,
    "deepnote_cell_type": "markdown"
   }
  }
 ],
 "nbformat": 4,
 "nbformat_minor": 2,
 "metadata": {
  "kernelspec": {
   "display_name": "Python 3",
   "language": "python",
   "name": "python3"
  },
  "language_info": {
   "codemirror_mode": {
    "name": "ipython",
    "version": 3
   },
   "file_extension": ".py",
   "mimetype": "text/x-python",
   "name": "python",
   "nbconvert_exporter": "python",
   "pygments_lexer": "ipython3",
   "version": "3.9.0"
  },
  "deepnote_notebook_id": "fb297f79-d6c1-4ba3-991e-75c148a6b0c1",
  "deepnote": {},
  "deepnote_execution_queue": []
 }
}