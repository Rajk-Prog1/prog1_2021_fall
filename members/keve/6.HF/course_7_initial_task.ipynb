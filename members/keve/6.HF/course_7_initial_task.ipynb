{
 "cells": [
  {
   "cell_type": "markdown",
   "source": "#### find the number of strings in a list of strings that contain a given letter\n\nupper or lower case\n\n> ```[\"abfg\", \"Bcd\", \"Ijk\"], \"b\" -> 2```",
   "metadata": {
    "cell_id": "00000-9d3ea47a-d9e2-48e0-ae64-c80bd6edfdee",
    "deepnote_cell_type": "markdown"
   }
  },
  {
   "cell_type": "code",
   "metadata": {
    "cell_id": "00001-0dc10fcf-c5b2-4376-b4ac-cdb28f1315a5",
    "deepnote_to_be_reexecuted": false,
    "source_hash": "8af3f936",
    "execution_start": 1637233736242,
    "execution_millis": 341,
    "deepnote_cell_type": "code"
   },
   "source": "from jkg_evaluators import letter_occurrences",
   "outputs": [],
   "execution_count": null
  },
  {
   "cell_type": "code",
   "metadata": {
    "cell_id": "00002-b99a9628-df44-4352-9b99-0c61f4346e35",
    "deepnote_to_be_reexecuted": false,
    "source_hash": "1ad58f1b",
    "execution_start": 1637233740572,
    "execution_millis": 2,
    "deepnote_cell_type": "code"
   },
   "source": "list_of_strings=[\"abfg\", \"Bcd\", \"Ijk\"]\nletter=str(\"b\")\n\ndef find_letter_occurrences (list_of_strings,letter):\n    #deklarálok egy új list nevű változót, melynek típusa lista\n    list=[]\n    #a \"list_of_strings elemeinek számval megegyező számú csak nullákat tartalmazó listává alakítom a list változót\n    for q in list_of_strings:\n        list.append(0)\n    #az i felveszi a list_of_strings adott elemének elemszámát - majd ezt futtatom mindegyik elemre\n    for i in range (len(list_of_strings)):\n        # az i-edik elemének egyesével megnézem az összes karakterét iterációval, az aktuális karaktert mindig az f jelöli\n        for f in (list_of_strings[i]):\n            #egy elágazást tartalmaz a függvény, ha az adott f karakter megegyezik a keresett értékkel akkor teljesíti ami az elágazásban van, ha nem akkor nem\n            if f.upper()==letter.upper():\n                #a list nevű váltó esetén 1-es értéket ad azon elemeknek, amelyek esetén teljesült a feltétel\n                list[i]=1\n    #deklarlom a megoldas nevu változót\n    megoldas=0\n    #iterálom a lista elemeit\n    for l in list:\n        #a list nevű lista elemeit - mely 0-t tartalmaz, ha az adott értékre nem tejesül a feltétel és 1-et ha igen - egyesével hozzáadom a megoldashoz\n        megoldas+=l\n    #visszatérési értékként megadom a \"megoldas\" változó értékét\n    return (megoldas)\nprint (fgv(list_of_strings,letter))\n\n\nprint(find_letter_occurrences)",
   "outputs": [
    {
     "name": "stdout",
     "text": "([1, 1, 0], 2)\n<function find_letter_occurrences at 0x7f194b4410e0>\n",
     "output_type": "stream"
    }
   ],
   "execution_count": null
  },
  {
   "cell_type": "code",
   "metadata": {
    "cell_id": "00003-4c75862c-4a42-4821-9414-2e0f31484cfe",
    "deepnote_to_be_reexecuted": false,
    "source_hash": "6db4f87f",
    "execution_start": 1637233997533,
    "execution_millis": 1447,
    "deepnote_cell_type": "code"
   },
   "source": "letter_occurrences.evaluate(find_letter_occurrences)\n",
   "outputs": [
    {
     "name": "stdout",
     "text": "- success rate: 495/495 (100.0%)\n- error count: 0\n- best performance: 1\n- worst performance: 1\n- mean performance: 1.0\n",
     "output_type": "stream"
    }
   ],
   "execution_count": null
  },
  {
   "cell_type": "code",
   "source": "",
   "metadata": {
    "tags": [],
    "cell_id": "00004-85365bcd-cc0c-4630-a810-650ae76a0f7d",
    "deepnote_cell_type": "code"
   },
   "outputs": [],
   "execution_count": null
  },
  {
   "cell_type": "markdown",
   "source": "<a style='text-decoration:none;line-height:16px;display:flex;color:#5B5B62;padding:10px;justify-content:end;' href='https://deepnote.com?utm_source=created-in-deepnote-cell&projectId=978e47b7-a961-4dca-a945-499e8b781a34' target=\"_blank\">\n<img alt='Created in deepnote.com' style='display:inline;max-height:16px;margin:0px;margin-right:7.5px;' src='data:image/svg+xml;base64,PD94bWwgdmVyc2lvbj0iMS4wIiBlbmNvZGluZz0iVVRGLTgiPz4KPHN2ZyB3aWR0aD0iODBweCIgaGVpZ2h0PSI4MHB4IiB2aWV3Qm94PSIwIDAgODAgODAiIHZlcnNpb249IjEuMSIgeG1sbnM9Imh0dHA6Ly93d3cudzMub3JnLzIwMDAvc3ZnIiB4bWxuczp4bGluaz0iaHR0cDovL3d3dy53My5vcmcvMTk5OS94bGluayI+CiAgICA8IS0tIEdlbmVyYXRvcjogU2tldGNoIDU0LjEgKDc2NDkwKSAtIGh0dHBzOi8vc2tldGNoYXBwLmNvbSAtLT4KICAgIDx0aXRsZT5Hcm91cCAzPC90aXRsZT4KICAgIDxkZXNjPkNyZWF0ZWQgd2l0aCBTa2V0Y2guPC9kZXNjPgogICAgPGcgaWQ9IkxhbmRpbmciIHN0cm9rZT0ibm9uZSIgc3Ryb2tlLXdpZHRoPSIxIiBmaWxsPSJub25lIiBmaWxsLXJ1bGU9ImV2ZW5vZGQiPgogICAgICAgIDxnIGlkPSJBcnRib2FyZCIgdHJhbnNmb3JtPSJ0cmFuc2xhdGUoLTEyMzUuMDAwMDAwLCAtNzkuMDAwMDAwKSI+CiAgICAgICAgICAgIDxnIGlkPSJHcm91cC0zIiB0cmFuc2Zvcm09InRyYW5zbGF0ZSgxMjM1LjAwMDAwMCwgNzkuMDAwMDAwKSI+CiAgICAgICAgICAgICAgICA8cG9seWdvbiBpZD0iUGF0aC0yMCIgZmlsbD0iIzAyNjVCNCIgcG9pbnRzPSIyLjM3NjIzNzYyIDgwIDM4LjA0NzY2NjcgODAgNTcuODIxNzgyMiA3My44MDU3NTkyIDU3LjgyMTc4MjIgMzIuNzU5MjczOSAzOS4xNDAyMjc4IDMxLjY4MzE2ODMiPjwvcG9seWdvbj4KICAgICAgICAgICAgICAgIDxwYXRoIGQ9Ik0zNS4wMDc3MTgsODAgQzQyLjkwNjIwMDcsNzYuNDU0OTM1OCA0Ny41NjQ5MTY3LDcxLjU0MjI2NzEgNDguOTgzODY2LDY1LjI2MTk5MzkgQzUxLjExMjI4OTksNTUuODQxNTg0MiA0MS42NzcxNzk1LDQ5LjIxMjIyODQgMjUuNjIzOTg0Niw0OS4yMTIyMjg0IEMyNS40ODQ5Mjg5LDQ5LjEyNjg0NDggMjkuODI2MTI5Niw0My4yODM4MjQ4IDM4LjY0NzU4NjksMzEuNjgzMTY4MyBMNzIuODcxMjg3MSwzMi41NTQ0MjUgTDY1LjI4MDk3Myw2Ny42NzYzNDIxIEw1MS4xMTIyODk5LDc3LjM3NjE0NCBMMzUuMDA3NzE4LDgwIFoiIGlkPSJQYXRoLTIyIiBmaWxsPSIjMDAyODY4Ij48L3BhdGg+CiAgICAgICAgICAgICAgICA8cGF0aCBkPSJNMCwzNy43MzA0NDA1IEwyNy4xMTQ1MzcsMC4yNTcxMTE0MzYgQzYyLjM3MTUxMjMsLTEuOTkwNzE3MDEgODAsMTAuNTAwMzkyNyA4MCwzNy43MzA0NDA1IEM4MCw2NC45NjA0ODgyIDY0Ljc3NjUwMzgsNzkuMDUwMzQxNCAzNC4zMjk1MTEzLDgwIEM0Ny4wNTUzNDg5LDc3LjU2NzA4MDggNTMuNDE4MjY3Nyw3MC4zMTM2MTAzIDUzLjQxODI2NzcsNTguMjM5NTg4NSBDNTMuNDE4MjY3Nyw0MC4xMjg1NTU3IDM2LjMwMzk1NDQsMzcuNzMwNDQwNSAyNS4yMjc0MTcsMzcuNzMwNDQwNSBDMTcuODQzMDU4NiwzNy43MzA0NDA1IDkuNDMzOTE5NjYsMzcuNzMwNDQwNSAwLDM3LjczMDQ0MDUgWiIgaWQ9IlBhdGgtMTkiIGZpbGw9IiMzNzkzRUYiPjwvcGF0aD4KICAgICAgICAgICAgPC9nPgogICAgICAgIDwvZz4KICAgIDwvZz4KPC9zdmc+' > </img>\nCreated in <span style='font-weight:600;margin-left:4px;'>Deepnote</span></a>",
   "metadata": {
    "tags": [],
    "created_in_deepnote_cell": true,
    "deepnote_cell_type": "markdown"
   }
  }
 ],
 "nbformat": 4,
 "nbformat_minor": 2,
 "metadata": {
  "kernelspec": {
   "display_name": "Python 3",
   "language": "python",
   "name": "python3"
  },
  "language_info": {
   "codemirror_mode": {
    "name": "ipython",
    "version": 3
   },
   "file_extension": ".py",
   "mimetype": "text/x-python",
   "name": "python",
   "nbconvert_exporter": "python",
   "pygments_lexer": "ipython3",
   "version": "3.9.0"
  },
  "deepnote_notebook_id": "912e065c-b460-4709-97bf-5ce7232adbde",
  "deepnote": {},
  "deepnote_execution_queue": []
 }
}