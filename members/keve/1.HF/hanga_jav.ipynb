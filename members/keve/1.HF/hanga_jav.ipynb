{
 "cells": [
  {
   "cell_type": "markdown",
   "source": "### prelogika házi visszajelzés",
   "metadata": {
    "tags": [],
    "cell_id": "00000-7eec823c-9cfd-47f3-83c4-1cd1b097873e",
    "deepnote_cell_type": "markdown"
   }
  },
  {
   "cell_type": "markdown",
   "source": "#### A\n\nTökéletes megoldás! :)",
   "metadata": {
    "tags": [],
    "cell_id": "00001-64d3e40f-ef1d-498e-8fe8-d59e2de64b4e",
    "deepnote_cell_type": "markdown"
   }
  },
  {
   "cell_type": "markdown",
   "source": "#### B\n\nTe megoldásod: $\\nexists x (P(y, x) \\Rightarrow F(y)$\n\nVisszajelzés:\n- A végéről lemaradt egy zárójel.\n- Az $y$ nincs a $\\exists$ kvantor hatáskörében, így nyitott maradt a formula (igazságértéke attól függ, mit helyettesítünk be az $y$ helyére.)\n- Ezeknek a hibáknak a javítása után pedig ezt jelentené a kifejezés: \"*senkinek nincs apja*\", ami nem felel meg a B állításnak.",
   "metadata": {
    "tags": [],
    "cell_id": "00002-13115296-7224-49d9-be46-cdab3bd0d023",
    "deepnote_cell_type": "markdown"
   }
  },
  {
   "cell_type": "markdown",
   "source": "#### C\n\nTe megoldásod: $(\\exists x (F(x) \\land P(z, x)) \\land \\exists y (F(y) \\land P(z, y))) \\lor (\\exists x (N(x) \\land P(z, x)) \\land \\exists y (N(y) \\land P(z, y)))$\n\nVisszajelzés:\n- Ahogyan az előző megoldásban, a $z$-t szabad paraméternek hagytad, pedig ennek is a $\\exists$ kvantor hatáskörében kéne állnia.\n- Egyébként jó a megoldásod logikája, egy tartalmi dologtól eltekintve: abból, hogy különböző betűkkel jelölt paramétereket használsz, még nem következik, hogy két különböző személyről van szó, tehát ki kell kötni, hogy $x \\neq y$.\n",
   "metadata": {
    "tags": [],
    "cell_id": "00003-516bbe8a-4d9e-43e3-ae7d-12f9bbfe69ac",
    "deepnote_cell_type": "markdown"
   }
  },
  {
   "cell_type": "markdown",
   "source": "#### D\nMajdnem tökéletes megoldás, egy zárójel lemaradt a végéről. :)",
   "metadata": {
    "tags": [],
    "cell_id": "00004-7dd57114-bc94-48fc-8455-9338ae98651c",
    "deepnote_cell_type": "markdown"
   }
  },
  {
   "cell_type": "markdown",
   "source": "#### E\nTe megoldásod: $\\exists x (F(x) \\land \\exists z (P(z, x))) \\land \\exists y (N(y) \\land \\exists q (P(q, y))) \\land \\exists k (P(k, z) \\land P(k, q))$\n\nVisszajelzés:\n- $k$-ról nem kell kikötni, hogy létezik, mert az egy konstans.\n- Általánosan: mindennek, ami egy adott kvantorral kötött paraméterre vonatkozik, az utána lévő zárólejen belül kell lennie. Te itt állítást tettél z-ről és q-ról a hozzájuk tartozó zárójelen kívül, ami nem értelmezhető.",
   "metadata": {
    "tags": [],
    "cell_id": "00005-80783b9d-ea4d-4dc9-81bd-49aa48fad662",
    "deepnote_cell_type": "markdown"
   }
  },
  {
   "cell_type": "markdown",
   "source": "<a style='text-decoration:none;line-height:16px;display:flex;color:#5B5B62;padding:10px;justify-content:end;' href='https://deepnote.com?utm_source=created-in-deepnote-cell&projectId=978e47b7-a961-4dca-a945-499e8b781a34' target=\"_blank\">\n<img alt='Created in deepnote.com' style='display:inline;max-height:16px;margin:0px;margin-right:7.5px;' src='data:image/svg+xml;base64,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' > </img>\nCreated in <span style='font-weight:600;margin-left:4px;'>Deepnote</span></a>",
   "metadata": {
    "tags": [],
    "created_in_deepnote_cell": true,
    "deepnote_cell_type": "markdown"
   }
  }
 ],
 "nbformat": 4,
 "nbformat_minor": 2,
 "metadata": {
  "orig_nbformat": 2,
  "deepnote": {
   "is_reactive": false
  },
  "deepnote_notebook_id": "9879ae25-e66b-48c2-888c-6ca652485987",
  "deepnote_execution_queue": []
 }
}