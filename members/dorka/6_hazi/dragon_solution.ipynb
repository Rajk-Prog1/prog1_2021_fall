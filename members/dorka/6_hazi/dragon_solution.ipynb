{
 "cells": [
  {
   "cell_type": "code",
   "metadata": {
    "tags": [],
    "cell_id": "00000-db101c1a-1ad2-432c-b64a-5f238b899109",
    "deepnote_to_be_reexecuted": false,
    "source_hash": "3b5c1b7",
    "execution_start": 1636022066099,
    "execution_millis": 7,
    "deepnote_cell_type": "code"
   },
   "source": "from jkg_evaluators import dragonfind_10_to_500",
   "execution_count": null,
   "outputs": []
  },
  {
   "cell_type": "code",
   "metadata": {
    "tags": [],
    "cell_id": "00000-7f3baad3-b1ca-4bf5-892d-1f2c4c3286d1",
    "deepnote_to_be_reexecuted": false,
    "source_hash": "256a4ac5",
    "execution_start": 1636022066154,
    "execution_millis": 0,
    "deepnote_cell_type": "code"
   },
   "source": "# Hát ez valamiért nem jó\ndef my_solution3(cow_alive_list, number_of_cows):\n    fat_alive_cow_index = 0\n    thin_alive_cow_index = number_of_cows+1\n    \n    while (fat_alive_cow_index)+1 < thin_alive_cow_index:\n        middle_cow = int((fat_alive_cow_index + thin_alive_cow_index) / 2)\n        if number_of_cows[middle_cow]:\n            thin_alive_cow_index = middle_cow\n        else:\n            fat_alive_cow_index = middle_cow\n    \n    return middle_cow",
   "execution_count": null,
   "outputs": []
  },
  {
   "cell_type": "code",
   "metadata": {
    "tags": [],
    "cell_id": "00001-3692faae-b2d5-4c4e-bbf6-6d688371564f",
    "deepnote_to_be_reexecuted": false,
    "source_hash": "c2c24307",
    "execution_start": 1636022066154,
    "execution_millis": 5048,
    "deepnote_cell_type": "code"
   },
   "source": "dragonfind_10_to_500.evaluate(my_solution3)",
   "execution_count": null,
   "outputs": [
    {
     "name": "stdout",
     "text": "- success rate: 0/124714 (0.0%)\n- error count: 124714\n\n\n ERROR at: \n {'number_of_cows': 10, 'dragon_coming_to': 1} \n - TypeError ('int' object is not subscriptable)\n\n\n ERROR at: \n {'number_of_cows': 10, 'dragon_coming_to': 2} \n - TypeError ('int' object is not subscriptable)\n\n\n ERROR at: \n {'number_of_cows': 10, 'dragon_coming_to': 3} \n - TypeError ('int' object is not subscriptable)\n\n\n ERROR at: \n {'number_of_cows': 10, 'dragon_coming_to': 4} \n - TypeError ('int' object is not subscriptable)\n\n\n ERROR at: \n {'number_of_cows': 10, 'dragon_coming_to': 5} \n - TypeError ('int' object is not subscriptable)\n\n\n ERROR at: \n {'number_of_cows': 10, 'dragon_coming_to': 6} \n - TypeError ('int' object is not subscriptable)\n\n\n ERROR at: \n {'number_of_cows': 10, 'dragon_coming_to': 7} \n - TypeError ('int' object is not subscriptable)\n\n\n ERROR at: \n {'number_of_cows': 10, 'dragon_coming_to': 8} \n - TypeError ('int' object is not subscriptable)\n\n\n ERROR at: \n {'number_of_cows': 10, 'dragon_coming_to': 9} \n - TypeError ('int' object is not subscriptable)\n\n\n ERROR at: \n {'number_of_cows': 11, 'dragon_coming_to': 1} \n - TypeError ('int' object is not subscriptable)\n",
     "output_type": "stream"
    }
   ]
  },
  {
   "cell_type": "markdown",
   "source": "<a style='text-decoration:none;line-height:16px;display:flex;color:#5B5B62;padding:10px;justify-content:end;' href='https://deepnote.com?utm_source=created-in-deepnote-cell&projectId=978e47b7-a961-4dca-a945-499e8b781a34' target=\"_blank\">\n<img alt='Created in deepnote.com' style='display:inline;max-height:16px;margin:0px;margin-right:7.5px;' src='data:image/svg+xml;base64,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' > </img>\nCreated in <span style='font-weight:600;margin-left:4px;'>Deepnote</span></a>",
   "metadata": {
    "tags": [],
    "created_in_deepnote_cell": true,
    "deepnote_cell_type": "markdown"
   }
  }
 ],
 "nbformat": 4,
 "nbformat_minor": 2,
 "metadata": {
  "orig_nbformat": 2,
  "deepnote": {
   "is_reactive": false
  },
  "deepnote_notebook_id": "fdfc2b07-f869-4e46-8156-6b1a1e154a96",
  "deepnote_execution_queue": []
 }
}