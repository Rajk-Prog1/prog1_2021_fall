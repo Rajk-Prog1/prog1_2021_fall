{
 "cells": [
  {
   "cell_type": "code",
   "metadata": {
    "cell_id": "00000-41b307e2-63fd-4939-a437-f59d1cbd8c5e",
    "deepnote_to_be_reexecuted": false,
    "source_hash": "35fd486b",
    "execution_start": 1637256010321,
    "execution_millis": 59,
    "deepnote_cell_type": "code"
   },
   "source": "import sys\nsys.path.insert(0, '/work/prog1_2021_fall/materials/others/')\nfrom __import_file__ import mbence\nfrom __import_file__ import dani\nfrom __import_file__ import bogi\nfrom __import_file__ import katinka\nfrom __import_file__ import keve\nfrom __import_file__ import dorka\nfrom __import_file__ import eszter\nfrom __import_file__ import szabi\nfrom __import_file__ import hako",
   "outputs": [],
   "execution_count": null
  },
  {
   "cell_type": "markdown",
   "source": "## mbence\nDefiniálunk egy függvényt amely egy stringekből álló tömböt vár paraméterként, és visszatérési értéke egész szám, azaz integer. Deklarálunk 2 változót. amelyeket kezdőértékkel látunk el. Egy for ciklus segítségével 0-tól a paraméterként kapott lista hosszáig iterálunk. A ciklusmagon belül deklarálunk egy további változót, amit ugyancsak kezdőértékkel látunk el. Mindezek után egy másik for ciklussal amellyel a tömb egyes stringjeit járjuk be. A beágyazott ciklusban egy elágazást manifesztálunk, amely egy VAGY logikai kapcsolattal ellátott feltételt ellenőriz. A feltétel teljesülése esetén egy értékadás történik, a külső ciklusmagban deklarált (2. mondat) változón. A belső ciklus lefutása után egy elágazás feltételeként összehasonlítjuk a függvénytörzsben létrehozott változót a beágyazott ciklusban módosított változóval. Minden esetben a nagyobb értékű változó ad értéket a függvénytörzsben lévő változónak. A függvénytörzsben létrehozott másik változóban, eltároljuk a külső ciklus jelenlegi indexét. A folyamat végén az eltárolt pozíciót visszaadjuk.",
   "metadata": {
    "cell_id": "00001-e4ce296f-171a-4a14-a0f7-7d993a8ce954",
    "deepnote_cell_type": "markdown"
   }
  },
  {
   "cell_type": "code",
   "metadata": {
    "cell_id": "00002-d766c378-b86a-4c1a-adab-2e9339bb4954",
    "deepnote_to_be_reexecuted": false,
    "source_hash": "6d5245aa",
    "execution_start": 1637256010387,
    "execution_millis": 13,
    "deepnote_cell_type": "code"
   },
   "source": "def mbence_solution(block_of_strings):\n    first = 0\n    second = -1\n    for i in range(len(block_of_strings)):\n        third = 0\n        for string in block_of_strings[i]:\n            \n    return 0",
   "outputs": [
    {
     "output_type": "error",
     "ename": "IndentationError",
     "evalue": "expected an indented block (<ipython-input-2-fc7367318bc5>, line 8)",
     "traceback": [
      "\u001b[0;36m  File \u001b[0;32m\"<ipython-input-2-fc7367318bc5>\"\u001b[0;36m, line \u001b[0;32m8\u001b[0m\n\u001b[0;31m    return 0\u001b[0m\n\u001b[0m    ^\u001b[0m\n\u001b[0;31mIndentationError\u001b[0m\u001b[0;31m:\u001b[0m expected an indented block\n"
     ]
    }
   ],
   "execution_count": null
  },
  {
   "cell_type": "code",
   "metadata": {
    "cell_id": "00003-9395732a-2c12-4ae5-abba-c850f42a0fa4",
    "deepnote_to_be_reexecuted": true,
    "source_hash": "8d319ea3",
    "execution_start": 1637246413268,
    "execution_millis": 2834,
    "deepnote_cell_type": "code"
   },
   "source": "mbence.evaluate(mbence_solution)",
   "outputs": [
    {
     "name": "stdout",
     "text": "- success rate: 0/495 (0.0%)\n- error count: 495\n\n\n ERROR at: \n {'list_of_words': ['b', 'bb', 'bBb']} \n - TypeError (mbence_solution() takes 0 positional arguments but 1 was given)\n\n\n ERROR at: \n {'list_of_words': ['aa', 'aaa', 'aa', 'a']} \n - TypeError (mbence_solution() takes 0 positional arguments but 1 was given)\n\n\n ERROR at: \n {'list_of_words': ['ba', 'babab', 'AaAaA', 'Ahha']} \n - TypeError (mbence_solution() takes 0 positional arguments but 1 was given)\n\n\n ERROR at: \n {'list_of_words': ['123', 'lala', '', '', '', 'aA']} \n - TypeError (mbence_solution() takes 0 positional arguments but 1 was given)\n\n\n ERROR at: \n {'list_of_words': ['fOtZQri2u4xi7LjDoiI6quJCr5w5qvnmBHeTMrbOSwQtdAy4JXIFSq3TAfQpUSHOkFAmXMETrW5Cd26UGBRZkdSuz9AoGv7YkTXeQw67zr6', 'i9uOMLWnLn7zJ6giOfVnLbeagPQw2guwSaCwLsrpSsg10Gdcgj9WXUnYwRZzkrIIyz49oXH97Y', 'cNDVVPIrVCZy72A5AbuXzfEMWJHPNbwPvR41fHAebxSFIcKTh9HzgXfqd2tXAsG9AIhzVGAameIc886MMbWQCDblJ6WOjizJ9xIUSn1mf868sWwY895h', 'eWaGgby2RlRVODA502DkJigcpWGotNROxI2fk3Gzjls5HaLTnA4zwaJ4amTs4m0e9JzKVLjpIqg', 'VMQ2eaF7Dn2m59jEwanek8xBUrP08TNV4oCH1eC3TEQ9Z8eaeyeafRUppH2UhfKpmgLpLFsku34emivoCDPHQgDZ7ypVUC6uxjk8CZDNontccSzqYJqfOsU', 'm08AaNKSDUqIaAUKL9WXkfjWoRe2miQoLvcCoOqj6BSwTdtP2YU3IU3U6IwVsMkCVfYP6jnrxh2Gf', 'Uk7CP', 'raCpR7pQsbi9t29wBuB99qAweISYZYEWL4vzSCMrmvnjgkHB9CJZMNRALly1uDpBdnWavumWpFOazekqRCcjpxkmpaYYyDl', 'sEZryuBLyWslae5rwHwLC8QqFd09V45tOhwYL', 'jTAdlXhhemY0ClxdrlSVHRecTnuL82t6hBvbntbsmInzmFi5Ggd9JVrJCJtsQxue8ij36HA6aqUuudlEH7LWkJkhAeVY8AgfH']} \n - TypeError (mbence_solution() takes 0 positional arguments but 1 was given)\n\n\n ERROR at: \n {'list_of_words': ['Ljo9A2pufaQC6EKrD9osam0TMxFfikqRih0j61poyP0BmjGHljcHySqfcoHNUhCJT0ANJ6JBj', 'hVJQ0RzIuv3iENncJ2o0ciuPTd7YtwUQCIjlCb3EDwpHULpqKLqtjj59ES6dvC6FXfF6boPc5njv5Q3SWCBJ3cWm0AYBgPP0IcQVYqRnYrsmr0MK0MPtnFpR', 'pRy0PxkLgIkGkp', 'ZDaHdnC29YvkTWZvU34AJmfNL3vug2ul2tFsXpvgkOgEZ', 'yZJ5', '7uUTABLfox87DwsdVC1MscG5UEMwPraKk96IJOp5LceA', '9cnlVuU4ykwhWILJHCeXAUwDW1V7UW7LNDeZ3tvsr4', 'SHfqsBsNddx078zLVOh2yZy0mb', 'sbcnNqzU4rz4Mh8WUQzR3nYj7QK0J4', 'hHOVeefFZJs', '1Mu8IPrCiXF2l1HekJ9wxtMAS9ewWXYfuGgp2a2ijzN8']} \n - TypeError (mbence_solution() takes 0 positional arguments but 1 was given)\n\n\n ERROR at: \n {'list_of_words': ['hyGwtN4H1Dn', 'RHyOfLP8rL5GWmOlI8N0b3vxAealyvrfkkxd8v3TApe6Ebe7O4cipk34u7Y7eQbKJjbq9OxrQPkk6hkocuTtLYFmoaeW5iEzice65Hl8mEiHPe0kuYGlW', 'oPYSwSXuMt7la82aS6aUdAL3dsOj', 'hb3TtIweZyKNWBnnVchFJPBqCW86w5AfdmJqr1kG2lBm8ARYheqTfoX', 'Tpegh2Gm48uH6Btm', 'Q3pdZv2FAr2', '', 'BsoZ7y5BVYyO45LLK5nYKshcvBU8xVH94ZE9HM9eCMuGgYUkQM8yE7AvSle5o7x9Nke7uYHHhqfbhSPBWd8Lb6UWkitWCfpnhpKCxqvxAioBuEZdW60', 'i9Y174gqWFGiCXO543OTpTyhkxrDUCDvIyz49QMkv36CC3YihhPXvxHuGkd3uNkp6N1e6DYFnRdIJTLQhnzGdq0SyZ6z7tCU42sKRCGyoASyXKiqiJ5bKV1', 'RdeMzKOGxkYDCpcodtByXcKoB9H', 'prTBu', 'rLpZIfvfcEcutBZD2c6MbozQIEfKlki4XNl74xoOyNfzqp0iB4NDKbSqfXU']} \n - TypeError (mbence_solution() takes 0 positional arguments but 1 was given)\n\n\n ERROR at: \n {'list_of_words': ['Y0csC0eyvYDeYC0k73t6jhRH4KAHpk', 'LDqg19tJBon0wNdoqGvnnoYaIPq6cP3xNlS3Hh3KsEK8AOExg9tWIwksJXKIihY6DzFXF89wqVlw78WW', 'ZxHGFxpzkFX5Bx8e6DqcL9WrOmfguSq5DFp1WKZ3am4LSraZOist9dFG770niSdyFhtpRQAVF3', 'Awk', 'XN4d9E725StASECUq1T2UJAXlPfXm7tTdBvELEuUdIet1JVIX9uWHDFybpKXCGcAnAFXvcSPfRmf0qORxfs', '9zwiF05pk263qCuUaNyMhdApIpvIIWEzzffVln4XcI0QK1vAHkcrJpogaxmphCIRkY56dq13Qvg2b3Ho24oAOOe6P1RFDexWDB6wnRoO3YcV2q3dUdnL2BG', '8rhV7yXdOS3ngLfWQJK3Z0FolLtA8KhU0R', 'JSZGl81SOgdnEBuWMxhsipXjgqZdOE1ZT7mafysOvswuQONACKgA36IyQwOQ9KNfLsef3MCZvAxFQat8wWWMsi0GTIktEFiJTXaSzTy3Bt89X', 'lsGUMZY0ySFzfI18c9uW9I4UiWr9eVYMthCSmeQj7pBghYwcEDssekO2WkcejRXRuPJtkVTJNXJnJUqMGiCiGeuWVdbHo8', 'aX8TQ7uSBLB01Ce9WfP829KhQqXc6ZQvqQ4gzDT7nVw2fKCN0QpBGEHIEeQvuBJ5s0hwG4wB9ZosJ4qFbPtS8jt8L4y4N6kSi1aK75XjGaDJnEHK', 'rtLZLoM8P9V7kgVWEY92HAR9JrCyARsA7MVRhKJ6ypgH9R7kYLmZmDi9PnP', 'U6hQXid9Vw7cL8aqv2yGS0mZi3E4UHhY8hPy1UunXlue45CfoMsDn8YUwrzTgeS8pwosS4gLq', 'L5ZalYNtfANQv5AXRIhhQOPewKnDD0lFUajRRa']} \n - TypeError (mbence_solution() takes 0 positional arguments but 1 was given)\n\n\n ERROR at: \n {'list_of_words': ['N9VP4vHq', 'eQc86RU2r59Wd7UufiXOovCCCT8Lmf7uE7eytR8eHEI9TONF2NKGDUtVuZfL4Zmj5bm', '7QGwAzah4arWehFLJQ9GvdqwVtvxxpY7xdE8tIdM5QQlBgLNoEcqhOejXWcUCSrzDX8hDKphipuo4hz8h2POx1lF2Gm5rUVWFv47lC9EljshlUgi6byNaP', 'D59nzfk6wNqM8CoQoTtHadSHM661hk18p7sC', 'geUWWna5ss8gxbOfyC', 'wAICI9f62CilpieR8', 'IOkctl4PMYzm6q3UFBBWlEVSY0q0LBpfldZY22qRcZh4fICEYKvRrFbSw0mnT7xHFIKsi', 'll2Z4fJKflwyFhuM3PLJV3t7YqqpytajNKNb6BgfFGdWnRUYkOEyS5btwXfM95lVD5R96ylYFRzn3WIsPmcrqWiP1Tc8GpoHxIs0gZWDR7', 'coRrMq56xHlJM0xJ51vpROSLGpTi4BjWDohNnOZ', 'SbQjfZaDStWdRiBmuBLHwYWHhQZ0IjDC1XxQ67r4PEHp3MfR4A0TMm05HW58gqP1oqkHLZjnxT6ghFjOoGWjtc3AX17osLeAZsSMTjqS0kBBzTOTi', '11C', 'lHKWTDyLNfl2S', 'MTHUIpMduSN6TLwZRFMcS81IWiwbZYzx28UKrlGvtQgTbNlLNjWFuSOenz1g718191sxLpX3PJugo7', 'qLssvUYq1Y1iMB2vldkAezGR5']} \n - TypeError (mbence_solution() takes 0 positional arguments but 1 was given)\n\n\n ERROR at: \n {'list_of_words': ['mfe9iuOTsK2pwTtgWPrYCZn90fWj8gqJyqgnPnwuUHWlP6A6npRauEkBwJb4Of6b1RdfsTa3epbSoWe2Wf7mxXS6Bb', 'ZPIImp9wL8uOeCEktwOHFhglGWaDdHgMZs8K5xzrpiNg', 'bs5WQcLBK6GOX21n', 'XlYUg72k7TbpGbnKmlNtmul8gWvnOrRIhtTJhpXHiCqRYFYNlHjrmf1Lwa2OEtg6SFYdiwj8dGJbtUNS5bxZd8q6boZN', 'tFZBYmZ39AoJN63kuQkt5KY0ZLZsSQ9ggGOf4QOY07rV9ll8N8dh8m5QA9t3QWwlGiQdl5GYCPiInLYKNg6jwygy3GQ', 'dZ3YM8uShR2AC3wBSCr5zK7lze57qzQQUumv3IbAHvRbsruEqjeSlAiPWZFp0ueKj3IU5CI8OEMVeLwfmT7wDLh1rzrOkIFaFqOGGSDj2KgTDVj', 'DI5RjvPr5Cn2', 'q70iphYxyp9F5oPAf7WnD776H3yiAeGURWr9QMOIBTZBFjnSME7x7dc8', 'rZIosMJbHle5DfGrbsOs12jihwHS4GkaFy2D5nGaEdKnCip', 'PGHEu4weG5a1RSvR35Yu8SQPxf7yuv4MxA8IP8sRjxuNWpDwzdkkHgeRtnjzKyFOvaz9tr56ypXlqGFjZYN9zObunfvRWCWpMmRhS98P8Zp4XT', 'OCi6Zypreazj389xl31iHqlykxsm5eJu6HdxtDIPCDbSeifpx81H6OTq2o15be00IMaX3VmbdSTWk', 'WyNu2uFb5pYe8rz5ruOWc6gVltATVFZoBlVsR6CVuwukcdgHdgKVChNvHxX2pHOHortdLzkyK3evCRwJXO0U0ndMGJWBJEiPGho6o1zOPWfEZckUVV', 'mFBl1rxHOb5WDqui', 'sQoJf5dzcqmZXvSpVlg7FairYUuOILMT9RrtQHDJgvCPRkbmIM0U8lWL6iCpX8VHkBdrfqtR2XSD8XI6is5EcbVJeemR', 'PwM61uIpufyfwzOllt9ER5NvJszbpyX9heG9jqQk3we8UVxxGlUJ8QxqrMlsoenF0hm2fLrWyA']} \n - TypeError (mbence_solution() takes 0 positional arguments but 1 was given)\n",
     "output_type": "stream"
    }
   ],
   "execution_count": null
  },
  {
   "cell_type": "markdown",
   "source": "## dani\nA függvényem paramétere egy lista, ami egész számokból áll. Legelőször a listában található elemeket integerekké alakítottam. Ezután növekvő sorrendbe rendeztem a listát. Miután sorba rendeztem a számokat, kiválasztottam a sorrend elején és a végén álló két-két számot. Kiszámoltam mindkét véglet szorzatát, végül megadtam a két szám közül a nagyobbat.",
   "metadata": {
    "cell_id": "00004-b40aebb2-722d-4778-bd1f-f157c4300854",
    "deepnote_cell_type": "markdown"
   }
  },
  {
   "cell_type": "code",
   "metadata": {
    "cell_id": "00005-248d2d8c-e061-4a53-aeb5-358697efad99",
    "deepnote_to_be_reexecuted": true,
    "source_hash": "249b19de",
    "execution_start": 1637246416103,
    "execution_millis": 4,
    "deepnote_cell_type": "code"
   },
   "source": "def dani_solution(list_of_integer):\n    int ()\n\n    return 0",
   "outputs": [],
   "execution_count": null
  },
  {
   "cell_type": "code",
   "metadata": {
    "cell_id": "00006-7acfa14d-3301-49ea-b9af-6e17b60af2de",
    "deepnote_to_be_reexecuted": true,
    "source_hash": "cadcf404",
    "execution_start": 1637246416115,
    "execution_millis": 274,
    "deepnote_cell_type": "code"
   },
   "source": "dani.evaluate(dani_solution)",
   "outputs": [
    {
     "name": "stdout",
     "text": "- success rate: 0/497 (0.0%)\n- error count: 497\n\n\n ERROR at: \n {'list_of_numbers': [0, 1, 2, 3, 4]} \n - TypeError (dani_solution() takes 0 positional arguments but 1 was given)\n\n\n ERROR at: \n {'list_of_numbers': [0, 0, 10, 3, 10]} \n - TypeError (dani_solution() takes 0 positional arguments but 1 was given)\n\n\n ERROR at: \n {'list_of_numbers': [-20, -40, 0, 1, 2, 3, 40]} \n - TypeError (dani_solution() takes 0 positional arguments but 1 was given)\n\n\n ERROR at: \n {'list_of_numbers': [-1100, 100, 20]} \n - TypeError (dani_solution() takes 0 positional arguments but 1 was given)\n\n\n ERROR at: \n {'list_of_numbers': [0, 1]} \n - TypeError (dani_solution() takes 0 positional arguments but 1 was given)\n\n\n ERROR at: \n {'list_of_numbers': [21, 120, 220]} \n - TypeError (dani_solution() takes 0 positional arguments but 1 was given)\n\n\n ERROR at: \n {'list_of_numbers': [720, -816, 764, 327, -818, -351, -220, 699, -633, 413]} \n - TypeError (dani_solution() takes 0 positional arguments but 1 was given)\n\n\n ERROR at: \n {'list_of_numbers': [844, -424, 6, -713, 167, 794, -328, -331, 999, 874, 914]} \n - TypeError (dani_solution() takes 0 positional arguments but 1 was given)\n\n\n ERROR at: \n {'list_of_numbers': [-230, -248, -708, -606, 952, 949, 233, -89, -683, -30, -19, 598]} \n - TypeError (dani_solution() takes 0 positional arguments but 1 was given)\n\n\n ERROR at: \n {'list_of_numbers': [-521, 11, -707, 614, 151, -415, 923, 775, -446, 402, -339, -614, 180]} \n - TypeError (dani_solution() takes 0 positional arguments but 1 was given)\n",
     "output_type": "stream"
    }
   ],
   "execution_count": null
  },
  {
   "cell_type": "markdown",
   "source": "## bogi\nÚgy indulunk, hogy van egy list_of_numbers nevű listám. Először deklarálom a result változót és 0 értéket adok neki. Aztán a list_of_numbers listából halmazt alakítok, majd ezt vissza alakítom listává. Ezután írok egy for ciklust: a ciklus végigiterál a lista elemein azon feltételek szerint, hogy a lista eleme páratlan és pozitív. Amely elemeknél ezek a feltételek teljesülnek, azokat hozzáadom a result változóhoz. Végül meghívom a result visszatérési értékét.",
   "metadata": {
    "cell_id": "00007-f66c9995-4f9b-4672-b589-a6fe4b5f999e",
    "deepnote_cell_type": "markdown"
   }
  },
  {
   "cell_type": "code",
   "metadata": {
    "cell_id": "00008-1b46e02e-9aca-4dc9-a7fd-ffd885ede9c7",
    "deepnote_to_be_reexecuted": true,
    "source_hash": "28c14972",
    "execution_start": 1637251336370,
    "execution_millis": 1,
    "deepnote_output_heights": [
     78.796875
    ],
    "deepnote_cell_type": "code"
   },
   "source": "def bogi_solution(lis_of_numbers):\n    result = 0\n    list_of_numbers=list(set(list_of_numbers))\n    for i in list_of_numbers:\n        if i%2 and i>2:\n            result = result+i\n\n    return result\n    ",
   "outputs": [],
   "execution_count": null
  },
  {
   "cell_type": "code",
   "metadata": {
    "cell_id": "00009-1cc55241-33d6-46ef-b3f6-0b30dceca8f6",
    "deepnote_to_be_reexecuted": true,
    "source_hash": "77f6887",
    "execution_start": 1637251339608,
    "execution_millis": 435,
    "deepnote_cell_type": "code"
   },
   "source": "bogi.evaluate(bogi_solution)",
   "outputs": [
    {
     "name": "stdout",
     "text": "- success rate: 0/497 (0.0%)\n- error count: 497\n\n\n ERROR at: \n {'list_of_numbers': [0, 1, 2, 3, 4]} \n - UnboundLocalError (local variable 'list_of_numbers' referenced before assignment)\n\n\n ERROR at: \n {'list_of_numbers': [0, 0, 10, 3, 10]} \n - UnboundLocalError (local variable 'list_of_numbers' referenced before assignment)\n\n\n ERROR at: \n {'list_of_numbers': [-20, -40, 0, 1, 2, 3, 40]} \n - UnboundLocalError (local variable 'list_of_numbers' referenced before assignment)\n\n\n ERROR at: \n {'list_of_numbers': [-1100, 100, 20]} \n - UnboundLocalError (local variable 'list_of_numbers' referenced before assignment)\n\n\n ERROR at: \n {'list_of_numbers': [0, 1]} \n - UnboundLocalError (local variable 'list_of_numbers' referenced before assignment)\n\n\n ERROR at: \n {'list_of_numbers': [21, 120, 220]} \n - UnboundLocalError (local variable 'list_of_numbers' referenced before assignment)\n\n\n ERROR at: \n {'list_of_numbers': [720, -816, 764, 327, -818, -351, -220, 699, -633, 413]} \n - UnboundLocalError (local variable 'list_of_numbers' referenced before assignment)\n\n\n ERROR at: \n {'list_of_numbers': [844, -424, 6, -713, 167, 794, -328, -331, 999, 874, 914]} \n - UnboundLocalError (local variable 'list_of_numbers' referenced before assignment)\n\n\n ERROR at: \n {'list_of_numbers': [-230, -248, -708, -606, 952, 949, 233, -89, -683, -30, -19, 598]} \n - UnboundLocalError (local variable 'list_of_numbers' referenced before assignment)\n\n\n ERROR at: \n {'list_of_numbers': [-521, 11, -707, 614, 151, -415, 923, 775, -446, 402, -339, -614, 180]} \n - UnboundLocalError (local variable 'list_of_numbers' referenced before assignment)\n",
     "output_type": "stream"
    }
   ],
   "execution_count": null
  },
  {
   "cell_type": "markdown",
   "source": "## katinka\nDefiniálok egy függvényt, melynek egy integer lista típusú paramétere van.\nAz első utasítás során a bemeneti értékeket/listát sorrendbe rendezi a program, csökkenő sorrendben.\nEzután definiálok egy új változót (\"a\"), melynek a 0 értéket adom.\nDefiniálok ezt követően egy újabb változót (\"b\"), mely meghívja a rendezett lista \"a\"-dik elemét, majd egy listát csinál a ennek az elemnek a számjegyeiből azon feltétel mellett, hogy az integer nem negatív (nem tartalmazza a \"-\" jelet).\nEzután egy olyan ciklust hozok létre, mely azt vizsgálja, hogy a \"b\" lista nem egyenlő-e a \"b\" lista növekvő sorrendbe állított változatával. A \"True\" elágazás mentén továbbhaladva a függvényt utasítom, hogy növelje eggyel az \"a\" értékét, azonban ha már a növelt érték nagyobb lenne, mint az eredeti listám elemszáma, a visszatérési érték 0. Ha még nem nagyobb, akkor módosítsa a \"b\" listát az \"a\" elemszámainak megfelelő listává a már korábbiak szerint. A \"False\" elágazás mentén pedig a visszatérési érték a legutóbbi \"a\".",
   "metadata": {
    "cell_id": "00010-3e42a830-ae10-473f-84a5-3382b0a1e29c",
    "deepnote_cell_type": "markdown"
   }
  },
  {
   "cell_type": "code",
   "metadata": {
    "cell_id": "00011-b4ef4c3f-4f03-43f6-b0df-53a4d2829f5a",
    "deepnote_to_be_reexecuted": true,
    "source_hash": "d97643b",
    "execution_start": 1637246416653,
    "execution_millis": 10,
    "deepnote_cell_type": "code"
   },
   "source": "def katinka_solution():\n    \n    return 0",
   "outputs": [],
   "execution_count": null
  },
  {
   "cell_type": "code",
   "metadata": {
    "cell_id": "00012-3182439b-d217-4753-98bf-eaa3ef585787",
    "deepnote_to_be_reexecuted": true,
    "source_hash": "23aa5959",
    "execution_start": 1637246416680,
    "execution_millis": 323,
    "deepnote_cell_type": "code"
   },
   "source": "katinka.evaluate(katinka_solution)",
   "outputs": [
    {
     "name": "stdout",
     "text": "- success rate: 0/497 (0.0%)\n- error count: 497\n\n\n ERROR at: \n {'list_of_numbers': [0, 1, 2, 3, 4]} \n - TypeError (katinka_solution() takes 0 positional arguments but 1 was given)\n\n\n ERROR at: \n {'list_of_numbers': [0, 0, 10, 3, 10]} \n - TypeError (katinka_solution() takes 0 positional arguments but 1 was given)\n\n\n ERROR at: \n {'list_of_numbers': [-20, -40, 0, 1, 2, 3, 40]} \n - TypeError (katinka_solution() takes 0 positional arguments but 1 was given)\n\n\n ERROR at: \n {'list_of_numbers': [-1100, 100, 20]} \n - TypeError (katinka_solution() takes 0 positional arguments but 1 was given)\n\n\n ERROR at: \n {'list_of_numbers': [0, 1]} \n - TypeError (katinka_solution() takes 0 positional arguments but 1 was given)\n\n\n ERROR at: \n {'list_of_numbers': [21, 120, 220]} \n - TypeError (katinka_solution() takes 0 positional arguments but 1 was given)\n\n\n ERROR at: \n {'list_of_numbers': [720, -816, 764, 327, -818, -351, -220, 699, -633, 413]} \n - TypeError (katinka_solution() takes 0 positional arguments but 1 was given)\n\n\n ERROR at: \n {'list_of_numbers': [844, -424, 6, -713, 167, 794, -328, -331, 999, 874, 914]} \n - TypeError (katinka_solution() takes 0 positional arguments but 1 was given)\n\n\n ERROR at: \n {'list_of_numbers': [-230, -248, -708, -606, 952, 949, 233, -89, -683, -30, -19, 598]} \n - TypeError (katinka_solution() takes 0 positional arguments but 1 was given)\n\n\n ERROR at: \n {'list_of_numbers': [-521, 11, -707, 614, 151, -415, 923, 775, -446, 402, -339, -614, 180]} \n - TypeError (katinka_solution() takes 0 positional arguments but 1 was given)\n",
     "output_type": "stream"
    }
   ],
   "execution_count": null
  },
  {
   "cell_type": "markdown",
   "source": "## keve\n#### find the number of strings in a list of strings that contain a given letter\n\nupper or lower case\n\n> ```[\"abfg\", \"Bcd\", \"Ijk\"], \"b\" -> 2```",
   "metadata": {
    "cell_id": "00013-3b05a323-8f3a-460d-8484-71655dfaf0bf",
    "deepnote_cell_type": "markdown"
   }
  },
  {
   "cell_type": "code",
   "metadata": {
    "cell_id": "00014-402ca8fb-1d82-4ffb-b0ce-a418fba681e8",
    "deepnote_to_be_reexecuted": true,
    "source_hash": "8d1eef28",
    "execution_start": 1637246417003,
    "execution_millis": 3,
    "deepnote_cell_type": "code"
   },
   "source": "def keve_solution(list_of_strings, letter):\n    # modify this function\n    # return value and parameters and all\n    return 0",
   "outputs": [],
   "execution_count": null
  },
  {
   "cell_type": "code",
   "metadata": {
    "cell_id": "00015-4e2bc439-2e40-4769-999f-65c39a159147",
    "deepnote_to_be_reexecuted": true,
    "source_hash": "28a30326",
    "execution_start": 1637246417007,
    "execution_millis": 1948,
    "deepnote_cell_type": "code"
   },
   "source": "keve.evaluate(keve_solution)",
   "outputs": [
    {
     "name": "stdout",
     "text": "- success rate: 4/495 (1.0%)\n- error count: 0\n- best performance: 1\n- worst performance: 0\n- mean performance: 0.00808080808080808\n\n\n BAD SOLUTION at: \n {'letter': 'S', 'list_of_words': ['fOtZQri2u4xi7LjDoiI6quJCr5w5qvnmBHeTMrbOSwQtdAy4JXIFSq3TAfQpUSHOkFAmXMETrW5Cd26UGBRZkdSuz9AoGv7YkTXeQw67zr6', 'i9uOMLWnLn7zJ6giOfVnLbeagPQw2guwSaCwLsrpSsg10Gdcgj9WXUnYwRZzkrIIyz49oXH97Y', 'cNDVVPIrVCZy72A5AbuXzfEMWJHPNbwPvR41fHAebxSFIcKTh9HzgXfqd2tXAsG9AIhzVGAameIc886MMbWQCDblJ6WOjizJ9xIUSn1mf868sWwY895h', 'eWaGgby2RlRVODA502DkJigcpWGotNROxI2fk3Gzjls5HaLTnA4zwaJ4amTs4m0e9JzKVLjpIqg', 'VMQ2eaF7Dn2m59jEwanek8xBUrP08TNV4oCH1eC3TEQ9Z8eaeyeafRUppH2UhfKpmgLpLFsku34emivoCDPHQgDZ7ypVUC6uxjk8CZDNontccSzqYJqfOsU', 'm08AaNKSDUqIaAUKL9WXkfjWoRe2miQoLvcCoOqj6BSwTdtP2YU3IU3U6IwVsMkCVfYP6jnrxh2Gf', 'Uk7CP', 'raCpR7pQsbi9t29wBuB99qAweISYZYEWL4vzSCMrmvnjgkHB9CJZMNRALly1uDpBdnWavumWpFOazekqRCcjpxkmpaYYyDl', 'sEZryuBLyWslae5rwHwLC8QqFd09V45tOhwYL', 'jTAdlXhhemY0ClxdrlSVHRecTnuL82t6hBvbntbsmInzmFi5Ggd9JVrJCJtsQxue8ij36HA6aqUuudlEH7LWkJkhAeVY8AgfH']}\n\n\n BAD SOLUTION at: \n {'letter': 'S', 'list_of_words': ['Ljo9A2pufaQC6EKrD9osam0TMxFfikqRih0j61poyP0BmjGHljcHySqfcoHNUhCJT0ANJ6JBj', 'hVJQ0RzIuv3iENncJ2o0ciuPTd7YtwUQCIjlCb3EDwpHULpqKLqtjj59ES6dvC6FXfF6boPc5njv5Q3SWCBJ3cWm0AYBgPP0IcQVYqRnYrsmr0MK0MPtnFpR', 'pRy0PxkLgIkGkp', 'ZDaHdnC29YvkTWZvU34AJmfNL3vug2ul2tFsXpvgkOgEZ', 'yZJ5', '7uUTABLfox87DwsdVC1MscG5UEMwPraKk96IJOp5LceA', '9cnlVuU4ykwhWILJHCeXAUwDW1V7UW7LNDeZ3tvsr4', 'SHfqsBsNddx078zLVOh2yZy0mb', 'sbcnNqzU4rz4Mh8WUQzR3nYj7QK0J4', 'hHOVeefFZJs', '1Mu8IPrCiXF2l1HekJ9wxtMAS9ewWXYfuGgp2a2ijzN8']}\n\n\n BAD SOLUTION at: \n {'letter': 'L', 'list_of_words': ['hyGwtN4H1Dn', 'RHyOfLP8rL5GWmOlI8N0b3vxAealyvrfkkxd8v3TApe6Ebe7O4cipk34u7Y7eQbKJjbq9OxrQPkk6hkocuTtLYFmoaeW5iEzice65Hl8mEiHPe0kuYGlW', 'oPYSwSXuMt7la82aS6aUdAL3dsOj', 'hb3TtIweZyKNWBnnVchFJPBqCW86w5AfdmJqr1kG2lBm8ARYheqTfoX', 'Tpegh2Gm48uH6Btm', 'Q3pdZv2FAr2', '', 'BsoZ7y5BVYyO45LLK5nYKshcvBU8xVH94ZE9HM9eCMuGgYUkQM8yE7AvSle5o7x9Nke7uYHHhqfbhSPBWd8Lb6UWkitWCfpnhpKCxqvxAioBuEZdW60', 'i9Y174gqWFGiCXO543OTpTyhkxrDUCDvIyz49QMkv36CC3YihhPXvxHuGkd3uNkp6N1e6DYFnRdIJTLQhnzGdq0SyZ6z7tCU42sKRCGyoASyXKiqiJ5bKV1', 'RdeMzKOGxkYDCpcodtByXcKoB9H', 'prTBu', 'rLpZIfvfcEcutBZD2c6MbozQIEfKlki4XNl74xoOyNfzqp0iB4NDKbSqfXU']}\n\n\n BAD SOLUTION at: \n {'letter': 'k', 'list_of_words': ['Y0csC0eyvYDeYC0k73t6jhRH4KAHpk', 'LDqg19tJBon0wNdoqGvnnoYaIPq6cP3xNlS3Hh3KsEK8AOExg9tWIwksJXKIihY6DzFXF89wqVlw78WW', 'ZxHGFxpzkFX5Bx8e6DqcL9WrOmfguSq5DFp1WKZ3am4LSraZOist9dFG770niSdyFhtpRQAVF3', 'Awk', 'XN4d9E725StASECUq1T2UJAXlPfXm7tTdBvELEuUdIet1JVIX9uWHDFybpKXCGcAnAFXvcSPfRmf0qORxfs', '9zwiF05pk263qCuUaNyMhdApIpvIIWEzzffVln4XcI0QK1vAHkcrJpogaxmphCIRkY56dq13Qvg2b3Ho24oAOOe6P1RFDexWDB6wnRoO3YcV2q3dUdnL2BG', '8rhV7yXdOS3ngLfWQJK3Z0FolLtA8KhU0R', 'JSZGl81SOgdnEBuWMxhsipXjgqZdOE1ZT7mafysOvswuQONACKgA36IyQwOQ9KNfLsef3MCZvAxFQat8wWWMsi0GTIktEFiJTXaSzTy3Bt89X', 'lsGUMZY0ySFzfI18c9uW9I4UiWr9eVYMthCSmeQj7pBghYwcEDssekO2WkcejRXRuPJtkVTJNXJnJUqMGiCiGeuWVdbHo8', 'aX8TQ7uSBLB01Ce9WfP829KhQqXc6ZQvqQ4gzDT7nVw2fKCN0QpBGEHIEeQvuBJ5s0hwG4wB9ZosJ4qFbPtS8jt8L4y4N6kSi1aK75XjGaDJnEHK', 'rtLZLoM8P9V7kgVWEY92HAR9JrCyARsA7MVRhKJ6ypgH9R7kYLmZmDi9PnP', 'U6hQXid9Vw7cL8aqv2yGS0mZi3E4UHhY8hPy1UunXlue45CfoMsDn8YUwrzTgeS8pwosS4gLq', 'L5ZalYNtfANQv5AXRIhhQOPewKnDD0lFUajRRa']}\n\n\n BAD SOLUTION at: \n {'letter': 'Q', 'list_of_words': ['N9VP4vHq', 'eQc86RU2r59Wd7UufiXOovCCCT8Lmf7uE7eytR8eHEI9TONF2NKGDUtVuZfL4Zmj5bm', '7QGwAzah4arWehFLJQ9GvdqwVtvxxpY7xdE8tIdM5QQlBgLNoEcqhOejXWcUCSrzDX8hDKphipuo4hz8h2POx1lF2Gm5rUVWFv47lC9EljshlUgi6byNaP', 'D59nzfk6wNqM8CoQoTtHadSHM661hk18p7sC', 'geUWWna5ss8gxbOfyC', 'wAICI9f62CilpieR8', 'IOkctl4PMYzm6q3UFBBWlEVSY0q0LBpfldZY22qRcZh4fICEYKvRrFbSw0mnT7xHFIKsi', 'll2Z4fJKflwyFhuM3PLJV3t7YqqpytajNKNb6BgfFGdWnRUYkOEyS5btwXfM95lVD5R96ylYFRzn3WIsPmcrqWiP1Tc8GpoHxIs0gZWDR7', 'coRrMq56xHlJM0xJ51vpROSLGpTi4BjWDohNnOZ', 'SbQjfZaDStWdRiBmuBLHwYWHhQZ0IjDC1XxQ67r4PEHp3MfR4A0TMm05HW58gqP1oqkHLZjnxT6ghFjOoGWjtc3AX17osLeAZsSMTjqS0kBBzTOTi', '11C', 'lHKWTDyLNfl2S', 'MTHUIpMduSN6TLwZRFMcS81IWiwbZYzx28UKrlGvtQgTbNlLNjWFuSOenz1g718191sxLpX3PJugo7', 'qLssvUYq1Y1iMB2vldkAezGR5']}\n\n\n BAD SOLUTION at: \n {'letter': 'f', 'list_of_words': ['mfe9iuOTsK2pwTtgWPrYCZn90fWj8gqJyqgnPnwuUHWlP6A6npRauEkBwJb4Of6b1RdfsTa3epbSoWe2Wf7mxXS6Bb', 'ZPIImp9wL8uOeCEktwOHFhglGWaDdHgMZs8K5xzrpiNg', 'bs5WQcLBK6GOX21n', 'XlYUg72k7TbpGbnKmlNtmul8gWvnOrRIhtTJhpXHiCqRYFYNlHjrmf1Lwa2OEtg6SFYdiwj8dGJbtUNS5bxZd8q6boZN', 'tFZBYmZ39AoJN63kuQkt5KY0ZLZsSQ9ggGOf4QOY07rV9ll8N8dh8m5QA9t3QWwlGiQdl5GYCPiInLYKNg6jwygy3GQ', 'dZ3YM8uShR2AC3wBSCr5zK7lze57qzQQUumv3IbAHvRbsruEqjeSlAiPWZFp0ueKj3IU5CI8OEMVeLwfmT7wDLh1rzrOkIFaFqOGGSDj2KgTDVj', 'DI5RjvPr5Cn2', 'q70iphYxyp9F5oPAf7WnD776H3yiAeGURWr9QMOIBTZBFjnSME7x7dc8', 'rZIosMJbHle5DfGrbsOs12jihwHS4GkaFy2D5nGaEdKnCip', 'PGHEu4weG5a1RSvR35Yu8SQPxf7yuv4MxA8IP8sRjxuNWpDwzdkkHgeRtnjzKyFOvaz9tr56ypXlqGFjZYN9zObunfvRWCWpMmRhS98P8Zp4XT', 'OCi6Zypreazj389xl31iHqlykxsm5eJu6HdxtDIPCDbSeifpx81H6OTq2o15be00IMaX3VmbdSTWk', 'WyNu2uFb5pYe8rz5ruOWc6gVltATVFZoBlVsR6CVuwukcdgHdgKVChNvHxX2pHOHortdLzkyK3evCRwJXO0U0ndMGJWBJEiPGho6o1zOPWfEZckUVV', 'mFBl1rxHOb5WDqui', 'sQoJf5dzcqmZXvSpVlg7FairYUuOILMT9RrtQHDJgvCPRkbmIM0U8lWL6iCpX8VHkBdrfqtR2XSD8XI6is5EcbVJeemR', 'PwM61uIpufyfwzOllt9ER5NvJszbpyX9heG9jqQk3we8UVxxGlUJ8QxqrMlsoenF0hm2fLrWyA']}\n\n\n BAD SOLUTION at: \n {'letter': 'U', 'list_of_words': ['j4iDSCtuz4KPdk1JsGtR2hg6GQj7VLSyLJLLcRXNYl9Jg3YefL0CXb51jtbjSu50RbvH38f', 'fwrKMwIW8sbFxBWIZiqK3WB0sQj', '2aEOj44gZiR7kp1gpSulN7HjMggtE8MhbTlFx3wzEGqpB7nopGCL6sQmFrDyeNhU42qFHRtaMsIht5rqJEQSlqb', 'nxd7PD8oLdv5uDJPgtrzEgVSQuFssSZTs2CfptCf8J7E3czthuKAslXHtxOkH8q3WZcsmq6JROePjoiH7gv', 'TEdpTS9kWQCYbiELU1blvIGjGxp29ulcKZBPNLbGlk2', '6zgPagigkYh86wIJexF70Kq01awZais5uMVCscIiazEAGPDXWdYugvaPRudqx6O5Ldk', 'lBHcfX6I14jAjracur0kFAQMOdEa6VPIpyg3rAh4E7cXIZJSQNkD3NpN260DD6Q7LvkuWnTfAOFb4KFgd7855KWR', '4SS8i3EKKqkTaqUfLrwpnx8rsTY', 'xtlxt3rhMlxX2NSxfoLmU4xV3P9OWYZL', 'hHsJRNRCyjN3ePP6psyLCsp8uhors0gJvoBHa42rVhYvMbkU', 'BbZ8Mbl5juc2VjHwUusrWgvz0J66fCwWfbuwUEshZ0JjDyWRZhCGPAiqyJdTlOTDUFWchiLp9bdlS', 'Ia', 'l11PByMxTV7NI3HyPdKqH1fX0Pu3n4oYrxvHCY06CWUZ6oj69gKpdsw7UAFzBjnRnO', 'ke7PqfUn', 'QzmA9X0pL2Cu9Pbwlh9FgPQ3YRJFdLgRCUh7eOwkXXLLZsMkXyE6', 'xwFeJBe64XC8xCJfUUHcgN1FtWK5OR']}\n\n\n BAD SOLUTION at: \n {'letter': 'k', 'list_of_words': ['jRy76RxrnNcaFV0I9bNHQZBwrgy8mcOVLmjtBQktybVuQS8X9dFPMUxWD7UwQMNlakuflwlFtng60UhOPEZLgMmXtDHYhjd1qH', '3NtkJUOxboXOqn6vpzGuhturZeIpisUUQiWQEwQN3EtIrQbugwYVY8gZSSQNN', '7frTVwjPelRjS7VObYkycqM4kH2RfIWneYWcAJXKoDrOf8YKhTmJaV67Lpg6tbhOHoXJkLezWsDX70sHGANi', 'cFVykTtn5rM', 'N02HMCYtIaEUG86WbelM2HccrTqHlYvCNjVkHNXnhNOVBotK5S3', 'TN3bOc9tROLboIo2mx3mMcEATtPch2Rgl6azsBRuaF4Z0CG2OjItgzMZdaZPxGVG6cW7WzhpYSwoqQRh5', 'TScY2rmdYvLomEcfM7tkZKASvKrE9IC1Kr7o85s6lJsxRylxZoxqrQABNtyDijsNVOHdNYllVUM8Umna2yJoKJLrmwhvSToGA6f48HW8u7aU', 'vSxG2QvEmAkWGI3qik5Rv9IRIgAo', '7btzP3vpjdceH1jKqNiCNNkYrmBm8ovkQgv1onAzDwvbRnu6Ov0FVj2iLNN7BMAdIWoR8UsJpmZK67PGbchryGkZz7fFrO6Wx2', '9hTfhoq7Uj8', 'Ki48OI7v6MZ3XU9toWFjdVDgKt4pr7P6HD17', 'tfH22zXp0SYuI5acOlIyjFTUhZHVH2UfxU7WF', 'mmC8LWjihQl254Cp6RkDbS00Y6YxhRWlj1kckjMhT5i84md', 'dGYKSLSAwx4VUh8l93p0kOW2fQ7', '3X5zWNIzZr', 'd6RPvbTsceJ9ZEwmvmCSMid33pPK3T6sM3LKyIoNEDm', 'pxyUJhQC6XSveTcVC6t7W6zfnjuLEX2UCt0m7bKy503JbJP']}\n\n\n BAD SOLUTION at: \n {'letter': 'p', 'list_of_words': ['6x5iajZzF5PbC1Jm9ICVFicHf0', 'cKR9EPoCbp9idJtMmKkCVmbUga4sjtqxpGdaq0nOkITR4w2bzwOVDHGmpB5LPmohv7T0Ku6WieVvDF71roOR7EvNhSQQL', '2LY3hIv9cWXpp3SXmXYLm1vgDj1ArHFKYfGTPicqHaimUYSIeGMsyLG902W6CnGDf6Yhcl408pwhZjDS3OMHncPbSb69c4bHiB', 'Ej7QyLeXyrRFR32TMOMLy5WUEMINzmOK', 'XS7x3ebT0Mh7vgjBECK6UxJCQ0cZMANv', 'vOOnEvTgdWMJ71NS9SW1kGyziXFyUAIatXuA6F5cutZzrTH90Sx8whv1Lzt16mc27T6YCxRmjBwIfaVIqYQ2', '0sNjLWSg4MqZLiejQeatniHZpJTHgzvxkmBmIwSRQTM', 'cP1ffzjl2iXuQdhDhZGTuSSAblCcplynx5OKjnrERVV5oA3z', '3Tv3dQmhOPn3yu1ZlYYIvlErINt4TtE0OX9stJWWEaBctghSATpiykSmoy6TmeyNSPnPvmEt1wmCdrBt76OyOvoQTrOoQQPp', 'LxZPJr6Blez4VJEFSKJ0YwzZbqXOWrsbKhwqZI6xcWpVXwlafiOqarJ8bvHCCPBs36EdcRCSOBXVAIGUUbmSsxq2jSKPrpcLaTbcBPPM9', '4iuW85y8eirTJGdPPFdQZTcCEyWLcXap1ImepXNxqZUG654nDmHAHsEJ7c2Ei6DSjE', '5PcZXv03zUuPHbn7JItIVtH0ftcgPAsGAuwmignwTsTsnLQFj3KLwRIJCjQW6crLalxjI', 'KPwyiGktqrCt94Wqx7gGN89NIZUa3bvCTLUf08KKVizomeejNy09rMr7xdqINMtAH8F2', 'iqAhW65zVfEgyi7VrFXYsGJNGzpEOT', 'AfJeFoB5TWidhm7TWMKVqO8zOSwmNm4962qJNt8rud2boAwRpfuwuPSqfFdnUS3QTUNitpfzN7qJIDNRocVGyqedHnR4X3KoneH', '07aj5ZH3d', 'd5j3ZM0WCB3lNcZCWGhdQr714tFuuuRIwAlftfkYbmq1Z', '3gvLm6n8jDUMzZiyFIJu0SCQazUuL5JKuWh9AP']}\n\n\n BAD SOLUTION at: \n {'letter': 'N', 'list_of_words': ['uW1BgCeJYnq1aZRcchzm5qxoCGGZAKKmyBHz1ouAutxWRB2udLQrxSZQ0RWftuIQ', 'a2kZ4EKaezXqVtgX1QJOgw8G7uMg8b2GS', 'F8YL95FBUCGlVXiby6tDD9G7Di85JPmiMn6UThDA5UkQLTyGvFHsxvcNvztKoCL6WTA1EjOJzIJzUMItPdPrfCQpNyZJFc72mzwFmVyiEMxmg1nQ', 'B6KNy7M5ra3P9HQ9up5ai', 'Q', '7go4s7hUgr2OAO6wB916ZiDhrGt6j1F1S56h54dN8m4DtFsVMQcJXC7r4eOEhRz1KMTzGOcdJNga6IBoCIGXOEXyj5nMt27Ogp6xnQOufMUf0sVfOE', 'HOjBUnFQbiLFW3QdjMkNKlTHufjPyfr4cf8yQTd22MooJuLf0JoN6ZORLz8GHlQiC2Ji6b8Oax4kV9w3jDzB50VLdzDRX', 'KVoEiHkJYScvrmuKY6CpFveGz0ANOHQ', 'nh0I5qSUqzKXlCU7u9EJRidhZt91zXh8JZvvP4agD29QrAzfYRW1DwMyOC4AhfPCsbVACMjwhYxvQu46MJpwMxOODvDFIOnivKbrrJCtlGp', 'qDKn6GdPX', 'imMbwY6bCTg78ZPvyM0ZlQjIpTe', 'IufM1ZFX4vmyjPv3qfmlo5JrP6LOYrBeIdA5l3olZ18o6IfMOgVc710QVr0s', 'kJHCr2C9eVOqPxSTbbExGIoRUDRw2bAtHLBfyWGdDFYfoX3TSsrKp2YPmE0Z', 'vRJFlRwKR3WTKN0JjkpWqtPw9NujDbvdxwX96hpmJBwbWj4dx21AQtseGfpZGI', 'TtIASOqHd61xKDcm0EncvymBXcARVkqsk1BVRv2pYvHuO0wT9vtsaaA6FSvvneiVYWxTcytdA7W0nnmx3aIixv0NtaVTSMYXBf2cGgxlY1yZMlDNIb', 'HoLfOHNDsyZi2Irquv16jbqbVZiA9n6tYf61sX2pQX3tnqUseWprS0fqmdU9IYGh1eHpuxtaIjs8pIOX67CHdEBY2mGI98upjSsst4qRucvDKHtN', 'zDLDjvYbgwBPy9JNvbxWfSHHBHjwt5AorYGZhW2jzi7TPVANNJrOYJF87W8g6niPcaHfJyQQ', '5ELxQcoXWbd034NOZg3d1Q6oIXSWoE8hsopSE2vx8R58kVCTWmCdwoS7T0kiEx1SxaLcTxBbs8LO9m5iFn8f7kWK6cmu2OZ8zSUfhINWFBwdpnnKeAUfT2D', 'uV3jW50amBzJxWF']}\n",
     "output_type": "stream"
    }
   ],
   "execution_count": null
  },
  {
   "cell_type": "markdown",
   "source": "## dorka",
   "metadata": {
    "cell_id": "00016-7eaa4f12-14a6-4641-ac69-1aac5b193394",
    "deepnote_cell_type": "markdown"
   }
  },
  {
   "cell_type": "code",
   "metadata": {
    "cell_id": "00017-7a400f00-d161-4aec-a090-3d1a3e153368",
    "deepnote_to_be_reexecuted": true,
    "source_hash": "ec97bfe8",
    "execution_start": 1637255986916,
    "execution_millis": 9567883,
    "deepnote_cell_type": "code"
   },
   "source": "def dorka_solution(list_of_strings,letter):\n    max_letter = ''\n    max_count = 0\n    for string in list_of_strings:\n        string_count = string.upper().count(letter.upper())\n        if string_count > max_count:\n            max_count = string_count\n            max_letter = string\n    return max_letter",
   "outputs": [],
   "execution_count": null
  },
  {
   "cell_type": "code",
   "metadata": {
    "cell_id": "00018-52f572b7-d2a8-4ebf-90fa-406dee6cc5db",
    "deepnote_to_be_reexecuted": false,
    "source_hash": "f51746bb",
    "execution_start": 1637256049136,
    "execution_millis": 139,
    "deepnote_cell_type": "code"
   },
   "source": "dorka.evaluate(dorka_solution)",
   "outputs": [
    {
     "output_type": "error",
     "ename": "NameError",
     "evalue": "name 'dorka_solution' is not defined",
     "traceback": [
      "\u001b[0;31m---------------------------------------------------------------------------\u001b[0m",
      "\u001b[0;31mNameError\u001b[0m                                 Traceback (most recent call last)",
      "\u001b[0;32m<ipython-input-3-fd2f89e6758d>\u001b[0m in \u001b[0;36m<module>\u001b[0;34m\u001b[0m\n\u001b[0;32m----> 1\u001b[0;31m \u001b[0mdorka\u001b[0m\u001b[0;34m.\u001b[0m\u001b[0mevaluate\u001b[0m\u001b[0;34m(\u001b[0m\u001b[0mdorka_solution\u001b[0m\u001b[0;34m)\u001b[0m\u001b[0;34m\u001b[0m\u001b[0;34m\u001b[0m\u001b[0m\n\u001b[0m",
      "\u001b[0;31mNameError\u001b[0m: name 'dorka_solution' is not defined"
     ]
    }
   ],
   "execution_count": null
  },
  {
   "cell_type": "markdown",
   "source": "## eszter\nA függvényem a következő képpen épül fel: először is definiálom a függvényt: 2 paramétere van, egy lista adat és egy integer. Ez után értéket adok egy új listának, amin belül indítok egy for ciklust, ami a a függvény paraméterei között deklarált lista elemein iterál végig elemről elemre és itt van egy if elágazás, ami az egyes elemeket és a paraméterként deklarált integerrel számít. Ismét van egy if elágazás, ami a második listát vizsgálja, majd van egy else ág, hogy visszakapjam a megfelelő értékeket.",
   "metadata": {
    "cell_id": "00019-b7e2dd5f-3908-4407-8f0b-d935a81a349d",
    "deepnote_cell_type": "markdown"
   }
  },
  {
   "cell_type": "code",
   "metadata": {
    "cell_id": "00020-f206ce92-d158-4c44-8a6a-32c6575482b4",
    "deepnote_to_be_reexecuted": true,
    "source_hash": "70dc3075",
    "execution_start": 1637246422094,
    "execution_millis": 2,
    "deepnote_cell_type": "code"
   },
   "source": "def eszter_solution():\n    \n    return 0",
   "outputs": [],
   "execution_count": null
  },
  {
   "cell_type": "code",
   "metadata": {
    "cell_id": "00021-94aeb3a9-fbd4-4826-a4f2-b6f223c3b795",
    "deepnote_to_be_reexecuted": true,
    "source_hash": "e6e77655",
    "execution_start": 1637246422165,
    "execution_millis": 225,
    "deepnote_cell_type": "code"
   },
   "source": "eszter.evaluate(eszter_solution)",
   "outputs": [
    {
     "name": "stdout",
     "text": "- success rate: 0/497 (0.0%)\n- error count: 497\n\n\n ERROR at: \n {'number': 10, 'list_of_numbers': [0, 1, 2, 3, 4]} \n - TypeError (eszter_solution() takes 0 positional arguments but 2 were given)\n\n\n ERROR at: \n {'number': 6, 'list_of_numbers': [0, 0, 10, 3, 10]} \n - TypeError (eszter_solution() takes 0 positional arguments but 2 were given)\n\n\n ERROR at: \n {'number': 8, 'list_of_numbers': [-20, -40, 0, 1, 2, 3, 40]} \n - TypeError (eszter_solution() takes 0 positional arguments but 2 were given)\n\n\n ERROR at: \n {'number': 7, 'list_of_numbers': [-1100, 100, 20]} \n - TypeError (eszter_solution() takes 0 positional arguments but 2 were given)\n\n\n ERROR at: \n {'number': 2, 'list_of_numbers': [0, 1]} \n - TypeError (eszter_solution() takes 0 positional arguments but 2 were given)\n\n\n ERROR at: \n {'number': 6, 'list_of_numbers': [21, 120, 220]} \n - TypeError (eszter_solution() takes 0 positional arguments but 2 were given)\n\n\n ERROR at: \n {'number': 1, 'list_of_numbers': [720, -816, 764, 327, -818, -351, -220, 699, -633, 413]} \n - TypeError (eszter_solution() takes 0 positional arguments but 2 were given)\n\n\n ERROR at: \n {'number': 3, 'list_of_numbers': [844, -424, 6, -713, 167, 794, -328, -331, 999, 874, 914]} \n - TypeError (eszter_solution() takes 0 positional arguments but 2 were given)\n\n\n ERROR at: \n {'number': 10, 'list_of_numbers': [-230, -248, -708, -606, 952, 949, 233, -89, -683, -30, -19, 598]} \n - TypeError (eszter_solution() takes 0 positional arguments but 2 were given)\n\n\n ERROR at: \n {'number': 10, 'list_of_numbers': [-521, 11, -707, 614, 151, -415, 923, 775, -446, 402, -339, -614, 180]} \n - TypeError (eszter_solution() takes 0 positional arguments but 2 were given)\n",
     "output_type": "stream"
    }
   ],
   "execution_count": null
  },
  {
   "cell_type": "markdown",
   "source": "## szabi\nA program a következő módon működik: Először definiálok egy függvényt (egy paraméterrel, ami a bemenő számok listája), majd deklarálok egy üres listát. Ezután létrehozok egy for ciklust, ami végighalad a bemenő számok listáján. A ciklusmagban egy elágazással vizsgálom, hogy az adott szám (amit a bemenő listából épp vizsgálok) kétszerese szerepel-e a bemeneti listában. Amennyiben a feltétel teljesül, az adott számot hozzátoldom a korábban létrehozott üres listához. Végül egy újabb elágazás segítségével (már a cikluson kívül) határozom meg a visszatérési értéket. Ha annak a listának a hossza, amelyben az elemeket gyűjtöm 0 (tehát nem volt olyan szám, amelynek szerepelne a kétszerese a bemeneti listában), akkor a visszatérési érték 0. Ha a vizsgált lista hossza nem 0, akkor a visszatérési érték annak listának a legkisebb eleme, amelybe az elemeket gyűjtöttem",
   "metadata": {
    "cell_id": "00022-b1f4c15c-8a00-4698-91b5-3d18ddf44917",
    "deepnote_cell_type": "markdown"
   }
  },
  {
   "cell_type": "code",
   "metadata": {
    "cell_id": "00023-a9205747-04a6-46e2-a48b-9618a5ab5f84",
    "deepnote_to_be_reexecuted": true,
    "source_hash": "db1587ee",
    "execution_start": 1637246422391,
    "execution_millis": 0,
    "deepnote_output_heights": [
     78.796875
    ],
    "deepnote_cell_type": "code"
   },
   "source": "def szabi_solution(list_of_numbers):\n    a = []\n    for number in list_of_numbers:\n        if  number*2 in list_of_numbers:\n            a.append(number)\n    if len(a) == 0:\n        return 0\n    else:\n        return min(a)",
   "outputs": [],
   "execution_count": null
  },
  {
   "cell_type": "code",
   "metadata": {
    "cell_id": "00024-96403d92-b877-4454-b962-b7d5179f968c",
    "deepnote_to_be_reexecuted": true,
    "source_hash": "8a2282b",
    "execution_start": 1637246424322,
    "execution_millis": 1520,
    "deepnote_cell_type": "code"
   },
   "source": "szabi.evaluate(szabi_solution)",
   "outputs": [
    {
     "name": "stdout",
     "text": "- success rate: 497/497 (100.0%)\n- error count: 0\n- best performance: 1\n- worst performance: 1\n- mean performance: 1.0\n",
     "output_type": "stream"
    }
   ],
   "execution_count": null
  },
  {
   "cell_type": "markdown",
   "source": "## hako",
   "metadata": {
    "cell_id": "00025-f6f9d8c8-59c0-4b54-b8da-2809515fad0c",
    "deepnote_cell_type": "markdown"
   }
  },
  {
   "cell_type": "code",
   "metadata": {
    "cell_id": "00026-6d094c2b-8ca5-447f-8163-f8292885acf8",
    "deepnote_to_be_reexecuted": true,
    "source_hash": "20f59547",
    "execution_start": 1637246424008,
    "execution_millis": 2,
    "deepnote_cell_type": "code"
   },
   "source": "def hako_solution():\n    # modify this function\n    # return value and parameters and all\n    return 0",
   "outputs": [],
   "execution_count": null
  },
  {
   "cell_type": "code",
   "metadata": {
    "cell_id": "00027-d96a2584-8a88-4502-964d-e39ecdac4733",
    "deepnote_to_be_reexecuted": true,
    "source_hash": "a106adb3",
    "execution_start": 1637246424051,
    "execution_millis": 226,
    "deepnote_cell_type": "code"
   },
   "source": "hako.evaluate(hako_solution)",
   "outputs": [
    {
     "name": "stdout",
     "text": "- success rate: 0/497 (0.0%)\n- error count: 497\n\n\n ERROR at: \n {'number': 10, 'list_of_numbers': [0, 1, 2, 3, 4]} \n - TypeError (hako_solution() takes 0 positional arguments but 2 were given)\n\n\n ERROR at: \n {'number': 6, 'list_of_numbers': [0, 0, 10, 3, 10]} \n - TypeError (hako_solution() takes 0 positional arguments but 2 were given)\n\n\n ERROR at: \n {'number': 8, 'list_of_numbers': [-20, -40, 0, 1, 2, 3, 40]} \n - TypeError (hako_solution() takes 0 positional arguments but 2 were given)\n\n\n ERROR at: \n {'number': 7, 'list_of_numbers': [-1100, 100, 20]} \n - TypeError (hako_solution() takes 0 positional arguments but 2 were given)\n\n\n ERROR at: \n {'number': 2, 'list_of_numbers': [0, 1]} \n - TypeError (hako_solution() takes 0 positional arguments but 2 were given)\n\n\n ERROR at: \n {'number': 6, 'list_of_numbers': [21, 120, 220]} \n - TypeError (hako_solution() takes 0 positional arguments but 2 were given)\n\n\n ERROR at: \n {'number': 1, 'list_of_numbers': [720, -816, 764, 327, -818, -351, -220, 699, -633, 413]} \n - TypeError (hako_solution() takes 0 positional arguments but 2 were given)\n\n\n ERROR at: \n {'number': 3, 'list_of_numbers': [844, -424, 6, -713, 167, 794, -328, -331, 999, 874, 914]} \n - TypeError (hako_solution() takes 0 positional arguments but 2 were given)\n\n\n ERROR at: \n {'number': 10, 'list_of_numbers': [-230, -248, -708, -606, 952, 949, 233, -89, -683, -30, -19, 598]} \n - TypeError (hako_solution() takes 0 positional arguments but 2 were given)\n\n\n ERROR at: \n {'number': 10, 'list_of_numbers': [-521, 11, -707, 614, 151, -415, 923, 775, -446, 402, -339, -614, 180]} \n - TypeError (hako_solution() takes 0 positional arguments but 2 were given)\n",
     "output_type": "stream"
    }
   ],
   "execution_count": null
  },
  {
   "cell_type": "markdown",
   "source": "<a style='text-decoration:none;line-height:16px;display:flex;color:#5B5B62;padding:10px;justify-content:end;' href='https://deepnote.com?utm_source=created-in-deepnote-cell&projectId=978e47b7-a961-4dca-a945-499e8b781a34' target=\"_blank\">\n<img alt='Created in deepnote.com' style='display:inline;max-height:16px;margin:0px;margin-right:7.5px;' src='data:image/svg+xml;base64,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' > </img>\nCreated in <span style='font-weight:600;margin-left:4px;'>Deepnote</span></a>",
   "metadata": {
    "tags": [],
    "created_in_deepnote_cell": true,
    "deepnote_cell_type": "markdown"
   }
  }
 ],
 "nbformat": 4,
 "nbformat_minor": 2,
 "metadata": {
  "kernelspec": {
   "display_name": "Python 3",
   "language": "python",
   "name": "python3"
  },
  "language_info": {
   "codemirror_mode": {
    "name": "ipython",
    "version": 3
   },
   "file_extension": ".py",
   "mimetype": "text/x-python",
   "name": "python",
   "nbconvert_exporter": "python",
   "pygments_lexer": "ipython3",
   "version": "3.9.0"
  },
  "deepnote_notebook_id": "32e475c4-5c04-440e-b340-3e279e369d1a",
  "deepnote": {},
  "deepnote_execution_queue": []
 }
}