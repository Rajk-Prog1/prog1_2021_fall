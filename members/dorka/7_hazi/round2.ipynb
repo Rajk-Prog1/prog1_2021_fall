{
 "cells": [
  {
   "cell_type": "code",
   "metadata": {
    "cell_id": "00000-41b307e2-63fd-4939-a437-f59d1cbd8c5e",
    "deepnote_to_be_reexecuted": false,
    "source_hash": "35fd486b",
    "execution_start": 1638469808532,
    "execution_millis": 42,
    "deepnote_cell_type": "code"
   },
   "source": "import sys\nsys.path.insert(0, '/work/prog1_2021_fall/materials/others/')\nfrom __import_file__ import mbence\nfrom __import_file__ import dani\nfrom __import_file__ import bogi\nfrom __import_file__ import katinka\nfrom __import_file__ import keve\nfrom __import_file__ import dorka\nfrom __import_file__ import eszter\nfrom __import_file__ import szabi\nfrom __import_file__ import hako",
   "execution_count": null,
   "outputs": []
  },
  {
   "cell_type": "markdown",
   "source": "## mbence\nDefiniálunk egy függvényt amely egy stringekből álló tömböt vár paraméterként, és visszatérési értéke egész szám, azaz integer. Deklarálunk 2 változót. amelyeket kezdőértékkel látunk el. Egy for ciklus segítségével 0-tól a paraméterként kapott lista hosszáig iterálunk. A ciklusmagon belül deklarálunk egy további változót, amit ugyancsak kezdőértékkel látunk el. Mindezek után egy másik for ciklussal amellyel a tömb egyes stringjeit járjuk be. A beágyazott ciklusban egy elágazást manifesztálunk, amely egy VAGY logikai kapcsolattal ellátott feltételt ellenőriz. A feltétel teljesülése esetén egy értékadás történik, a külső ciklusmagban deklarált (2. mondat) változón. A belső ciklus lefutása után egy elágazás feltételeként összehasonlítjuk a függvénytörzsben létrehozott változót a beágyazott ciklusban módosított változóval. Minden esetben a nagyobb értékű változó ad értéket a függvénytörzsben lévő változónak. A függvénytörzsben létrehozott másik változóban, eltároljuk a külső ciklus jelenlegi indexét. A folyamat végén az eltárolt pozíciót visszaadjuk.\n\nŐszintén én ezt a feladatot csak ez alapján tudtam megoldani:\n\nfind the word with the most a's in it\n\nreturn the index of the word from a list of words that contains the highest number of the letter a (lower OR higher case, so the word Array contains 2). if none of the words contain any a's, return -1, if multiple contain the same amount return the index of the first one. (remember, indexing starts with zero)\n\n[\"a\", \"aA\", \"abc\"] -> 1\n",
   "metadata": {
    "cell_id": "00001-e4ce296f-171a-4a14-a0f7-7d993a8ce954",
    "deepnote_cell_type": "markdown"
   }
  },
  {
   "cell_type": "code",
   "metadata": {
    "cell_id": "00002-d766c378-b86a-4c1a-adab-2e9339bb4954",
    "deepnote_to_be_reexecuted": false,
    "source_hash": "b2660bda",
    "execution_start": 1638469808574,
    "execution_millis": 0,
    "deepnote_cell_type": "code"
   },
   "source": "def mbence_solution(block_of_strings):\n    first = 0\n    second = -1\n    for i in range(len(block_of_strings)):\n        third = 0\n        for letter in block_of_strings[i]:\n            if letter==\"A\" or letter==\"a\":\n                third=third+1\n            if third>first:\n                first=third\n                second=i\n            \n    return second",
   "execution_count": null,
   "outputs": []
  },
  {
   "cell_type": "code",
   "metadata": {
    "cell_id": "00003-9395732a-2c12-4ae5-abba-c850f42a0fa4",
    "deepnote_to_be_reexecuted": false,
    "source_hash": "8d319ea3",
    "execution_start": 1638469808617,
    "execution_millis": 3488,
    "deepnote_cell_type": "code"
   },
   "source": "mbence.evaluate(mbence_solution)",
   "execution_count": null,
   "outputs": [
    {
     "name": "stdout",
     "text": "- success rate: 495/495 (100.0%)\n- error count: 0\n- best performance: 1\n- worst performance: 1\n- mean performance: 1.0\n",
     "output_type": "stream"
    }
   ]
  },
  {
   "cell_type": "markdown",
   "source": "## dani\nA függvényem paramétere egy lista, ami egész számokból áll. Legelőször a listában található elemeket integerekké alakítottam. Ezután növekvő sorrendbe rendeztem a listát. Miután sorba rendeztem a számokat, kiválasztottam a sorrend elején és a végén álló két-két számot. Kiszámoltam mindkét véglet szorzatát, végül megadtam a két szám közül a nagyobbat.",
   "metadata": {
    "cell_id": "00004-b40aebb2-722d-4778-bd1f-f157c4300854",
    "deepnote_cell_type": "markdown"
   }
  },
  {
   "cell_type": "code",
   "metadata": {
    "cell_id": "00005-248d2d8c-e061-4a53-aeb5-358697efad99",
    "deepnote_to_be_reexecuted": false,
    "source_hash": "641269b2",
    "execution_start": 1638469812055,
    "execution_millis": 1,
    "deepnote_cell_type": "code"
   },
   "source": "def dani_solution(list_of_integer):\n    sorted_list = sorted(list_of_integer)  \n    firstsmall = sorted_list[0]\n    secondsmall = sorted_list[1]\n    firstlarge=sorted_list[-1]\n    secondlarge=sorted_list[-2]  \n    if firstsmall*secondsmall<firstlarge*secondlarge:\n        return firstlarge*secondlarge\n    else:\n        return firstsmall*secondsmall",
   "execution_count": null,
   "outputs": []
  },
  {
   "cell_type": "code",
   "metadata": {
    "cell_id": "00006-7acfa14d-3301-49ea-b9af-6e17b60af2de",
    "deepnote_to_be_reexecuted": false,
    "source_hash": "cadcf404",
    "execution_start": 1638469812059,
    "execution_millis": 238,
    "deepnote_cell_type": "code"
   },
   "source": "dani.evaluate(dani_solution)",
   "execution_count": null,
   "outputs": [
    {
     "name": "stdout",
     "text": "- success rate: 497/497 (100.0%)\n- error count: 0\n- best performance: 1\n- worst performance: 1\n- mean performance: 1.0\n",
     "output_type": "stream"
    }
   ]
  },
  {
   "cell_type": "markdown",
   "source": "## bogi\nÚgy indulunk, hogy van egy list_of_numbers nevű listám. Először deklarálom a result változót és 0 értéket adok neki. Aztán a list_of_numbers listából halmazt alakítok, majd ezt vissza alakítom listává. Ezután írok egy for ciklust: a ciklus végigiterál a lista elemein azon feltételek szerint, hogy a lista eleme páratlan és pozitív. Amely elemeknél ezek a feltételek teljesülnek, azokat hozzáadom a result változóhoz. Végül meghívom a result visszatérési értékét.",
   "metadata": {
    "cell_id": "00007-f66c9995-4f9b-4672-b589-a6fe4b5f999e",
    "deepnote_cell_type": "markdown"
   }
  },
  {
   "cell_type": "code",
   "metadata": {
    "cell_id": "00008-1b46e02e-9aca-4dc9-a7fd-ffd885ede9c7",
    "deepnote_to_be_reexecuted": false,
    "source_hash": "8b76d9ec",
    "execution_start": 1638469812302,
    "execution_millis": 0,
    "deepnote_output_heights": [
     78.796875
    ],
    "deepnote_cell_type": "code"
   },
   "source": "def bogi_solution(a):\n    result = 0\n    a=list(set(a))\n    for i in a:\n        if i%2:\n            if i>0:\n                result=result+i\n    return result",
   "execution_count": null,
   "outputs": []
  },
  {
   "cell_type": "code",
   "metadata": {
    "cell_id": "00009-1cc55241-33d6-46ef-b3f6-0b30dceca8f6",
    "deepnote_to_be_reexecuted": false,
    "source_hash": "77f6887",
    "execution_start": 1638469812328,
    "execution_millis": 296,
    "deepnote_cell_type": "code"
   },
   "source": "bogi.evaluate(bogi_solution)",
   "execution_count": null,
   "outputs": [
    {
     "name": "stdout",
     "text": "- success rate: 497/497 (100.0%)\n- error count: 0\n- best performance: 1\n- worst performance: 1\n- mean performance: 1.0\n",
     "output_type": "stream"
    }
   ]
  },
  {
   "cell_type": "markdown",
   "source": "## katinka\nDefiniálok egy függvényt, melynek egy integer lista típusú paramétere van.\nAz első utasítás során a bemeneti értékeket/listát sorrendbe rendezi a program, csökkenő sorrendben.\nEzután definiálok egy új változót (\"a\"), melynek a 0 értéket adom.\nDefiniálok ezt követően egy újabb változót (\"b\"), mely meghívja a rendezett lista \"a\"-dik elemét, majd egy listát csinál a ennek az elemnek a számjegyeiből azon feltétel mellett, hogy az integer nem negatív (nem tartalmazza a \"-\" jelet).\nEzután egy olyan ciklust hozok létre, mely azt vizsgálja, hogy a \"b\" lista nem egyenlő-e a \"b\" lista növekvő sorrendbe állított változatával. A \"True\" elágazás mentén továbbhaladva a függvényt utasítom, hogy növelje eggyel az \"a\" értékét, azonban ha már a növelt érték nagyobb lenne, mint az eredeti listám elemszáma, a visszatérési érték 0. Ha még nem nagyobb, akkor módosítsa a \"b\" listát az \"a\" elemszámainak megfelelő listává a már korábbiak szerint. A \"False\" elágazás mentén pedig a visszatérési érték a legutóbbi \"a\".",
   "metadata": {
    "cell_id": "00010-3e42a830-ae10-473f-84a5-3382b0a1e29c",
    "deepnote_cell_type": "markdown"
   }
  },
  {
   "cell_type": "code",
   "metadata": {
    "cell_id": "00011-b4ef4c3f-4f03-43f6-b0df-53a4d2829f5a",
    "deepnote_to_be_reexecuted": false,
    "source_hash": "8d0b4fd2",
    "execution_start": 1638469812555,
    "execution_millis": 3,
    "deepnote_output_heights": [
     78.796875
    ],
    "deepnote_cell_type": "code"
   },
   "source": "def katinka_solution(lista):\n    csokkeno_lista = sorted(lista, reverse=True)\n    a=0\n    if csokkeno_lista[a] >= 0:\n        b = list(str(csokkeno_lista[a]))\n    while sorted(b) != b:\n        a = a+1\n        if a >= len(csokkeno_lista):\n            return 0\n        else:\n            b = list(str(csokkeno_lista[a]))\n    return csokkeno_lista[a]",
   "execution_count": null,
   "outputs": []
  },
  {
   "cell_type": "code",
   "metadata": {
    "cell_id": "00012-3182439b-d217-4753-98bf-eaa3ef585787",
    "deepnote_to_be_reexecuted": false,
    "source_hash": "23aa5959",
    "execution_start": 1638469812598,
    "execution_millis": 376,
    "deepnote_cell_type": "code"
   },
   "source": "katinka.evaluate(katinka_solution)",
   "execution_count": null,
   "outputs": [
    {
     "name": "stdout",
     "text": "- success rate: 497/497 (100.0%)\n- error count: 0\n- best performance: 1\n- worst performance: 1\n- mean performance: 1.0\n",
     "output_type": "stream"
    }
   ]
  },
  {
   "cell_type": "markdown",
   "source": "## keve\n#### find the number of strings in a list of strings that contain a given letter\n\nupper or lower case\n\n> ```[\"abfg\", \"Bcd\", \"Ijk\"], \"b\" -> 2```",
   "metadata": {
    "cell_id": "00013-3b05a323-8f3a-460d-8484-71655dfaf0bf",
    "deepnote_cell_type": "markdown"
   }
  },
  {
   "cell_type": "code",
   "metadata": {
    "cell_id": "00014-402ca8fb-1d82-4ffb-b0ce-a418fba681e8",
    "deepnote_to_be_reexecuted": false,
    "source_hash": "764fda2f",
    "execution_start": 1638469812971,
    "execution_millis": 2,
    "deepnote_cell_type": "code"
   },
   "source": "def keve_solution(list_of_strings, letter):\n    number_of_strings=0\n    for strings in list_of_strings:\n        strings=strings.upper()\n        if letter.upper() in strings:\n            number_of_strings=number_of_strings+1\n\n    return number_of_strings",
   "execution_count": null,
   "outputs": []
  },
  {
   "cell_type": "code",
   "metadata": {
    "cell_id": "00015-4e2bc439-2e40-4769-999f-65c39a159147",
    "deepnote_to_be_reexecuted": false,
    "source_hash": "28a30326",
    "execution_start": 1638469812975,
    "execution_millis": 2160,
    "deepnote_cell_type": "code"
   },
   "source": "keve.evaluate(keve_solution)",
   "execution_count": null,
   "outputs": [
    {
     "name": "stdout",
     "text": "- success rate: 495/495 (100.0%)\n- error count: 0\n- best performance: 1\n- worst performance: 1\n- mean performance: 1.0\n",
     "output_type": "stream"
    }
   ]
  },
  {
   "cell_type": "markdown",
   "source": "## dorka",
   "metadata": {
    "cell_id": "00016-7eaa4f12-14a6-4641-ac69-1aac5b193394",
    "deepnote_cell_type": "markdown"
   }
  },
  {
   "cell_type": "code",
   "metadata": {
    "cell_id": "00017-7a400f00-d161-4aec-a090-3d1a3e153368",
    "deepnote_to_be_reexecuted": false,
    "source_hash": "ec97bfe8",
    "execution_start": 1638469814954,
    "execution_millis": 11,
    "deepnote_cell_type": "code"
   },
   "source": "def dorka_solution(list_of_strings,letter):\n    max_letter = ''\n    max_count = 0\n    for string in list_of_strings:\n        string_count = string.upper().count(letter.upper())\n        if string_count > max_count:\n            max_count = string_count\n            max_letter = string\n    return max_letter",
   "execution_count": null,
   "outputs": []
  },
  {
   "cell_type": "code",
   "metadata": {
    "cell_id": "00018-52f572b7-d2a8-4ebf-90fa-406dee6cc5db",
    "deepnote_to_be_reexecuted": false,
    "source_hash": "f51746bb",
    "execution_start": 1638469815028,
    "execution_millis": 4512,
    "deepnote_cell_type": "code"
   },
   "source": "dorka.evaluate(dorka_solution)",
   "execution_count": null,
   "outputs": [
    {
     "name": "stdout",
     "text": "- success rate: 495/495 (100.0%)\n- error count: 0\n- best performance: 1\n- worst performance: 1\n- mean performance: 1.0\n",
     "output_type": "stream"
    }
   ]
  },
  {
   "cell_type": "markdown",
   "source": "## eszter\nA függvényem a következő képpen épül fel: először is definiálom a függvényt: 2 paramétere van, egy lista adat és egy integer. Ez után értéket adok egy új listának, amin belül indítok egy for ciklust, ami a a függvény paraméterei között deklarált lista elemein iterál végig elemről elemre és itt van egy if elágazás, ami az egyes elemeket és a paraméterként deklarált integerrel számít. Ismét van egy if elágazás, ami a második listát vizsgálja, majd van egy else ág, hogy visszakapjam a megfelelő értékeket.\n\nfind the largest number from a list, that divided by a given number, results in an even number\nif no such number is in the list, return 0\n\n[10, 15, 9, 38, 20], 2 -> 20",
   "metadata": {
    "cell_id": "00019-b7e2dd5f-3908-4407-8f0b-d935a81a349d",
    "deepnote_cell_type": "markdown"
   }
  },
  {
   "cell_type": "code",
   "metadata": {
    "cell_id": "00020-f206ce92-d158-4c44-8a6a-32c6575482b4",
    "deepnote_to_be_reexecuted": false,
    "source_hash": "64b917ad",
    "execution_start": 1638469848107,
    "execution_millis": 1,
    "deepnote_output_heights": [
     78.796875
    ],
    "deepnote_cell_type": "code"
   },
   "source": "def eszter_solution(list_of_numbers, number):\n    new_list=[]\n    for i in list_of_numbers:\n        if (i/number%2) == 0:\n            new_list.append(i)\n    if new_list == []:\n        return 0\n    else:\n        return max(new_list)",
   "execution_count": null,
   "outputs": []
  },
  {
   "cell_type": "code",
   "metadata": {
    "cell_id": "00021-94aeb3a9-fbd4-4826-a4f2-b6f223c3b795",
    "deepnote_to_be_reexecuted": false,
    "source_hash": "e6e77655",
    "execution_start": 1638469851205,
    "execution_millis": 119,
    "deepnote_cell_type": "code"
   },
   "source": "eszter.evaluate(eszter_solution)",
   "execution_count": null,
   "outputs": [
    {
     "name": "stdout",
     "text": "- success rate: 497/497 (100.0%)\n- error count: 0\n- best performance: 1\n- worst performance: 1\n- mean performance: 1.0\n",
     "output_type": "stream"
    }
   ]
  },
  {
   "cell_type": "markdown",
   "source": "## szabi\nA program a következő módon működik: Először definiálok egy függvényt (egy paraméterrel, ami a bemenő számok listája), majd deklarálok egy üres listát. Ezután létrehozok egy for ciklust, ami végighalad a bemenő számok listáján. A ciklusmagban egy elágazással vizsgálom, hogy az adott szám (amit a bemenő listából épp vizsgálok) kétszerese szerepel-e a bemeneti listában. Amennyiben a feltétel teljesül, az adott számot hozzátoldom a korábban létrehozott üres listához. Végül egy újabb elágazás segítségével (már a cikluson kívül) határozom meg a visszatérési értéket. Ha annak a listának a hossza, amelyben az elemeket gyűjtöm 0 (tehát nem volt olyan szám, amelynek szerepelne a kétszerese a bemeneti listában), akkor a visszatérési érték 0. Ha a vizsgált lista hossza nem 0, akkor a visszatérési érték annak listának a legkisebb eleme, amelybe az elemeket gyűjtöttem",
   "metadata": {
    "cell_id": "00022-b1f4c15c-8a00-4698-91b5-3d18ddf44917",
    "deepnote_cell_type": "markdown"
   }
  },
  {
   "cell_type": "code",
   "metadata": {
    "cell_id": "00023-a9205747-04a6-46e2-a48b-9618a5ab5f84",
    "deepnote_to_be_reexecuted": false,
    "source_hash": "db1587ee",
    "execution_start": 1638469818588,
    "execution_millis": 1,
    "deepnote_output_heights": [
     78.796875
    ],
    "deepnote_cell_type": "code"
   },
   "source": "def szabi_solution(list_of_numbers):\n    a = []\n    for number in list_of_numbers:\n        if  number*2 in list_of_numbers:\n            a.append(number)\n    if len(a) == 0:\n        return 0\n    else:\n        return min(a)",
   "execution_count": null,
   "outputs": []
  },
  {
   "cell_type": "code",
   "metadata": {
    "cell_id": "00024-96403d92-b877-4454-b962-b7d5179f968c",
    "deepnote_to_be_reexecuted": false,
    "source_hash": "8a2282b",
    "execution_start": 1638469818626,
    "execution_millis": 1959,
    "deepnote_cell_type": "code"
   },
   "source": "szabi.evaluate(szabi_solution)",
   "execution_count": null,
   "outputs": [
    {
     "name": "stdout",
     "text": "- success rate: 497/497 (100.0%)\n- error count: 0\n- best performance: 1\n- worst performance: 1\n- mean performance: 1.0\n",
     "output_type": "stream"
    }
   ]
  },
  {
   "cell_type": "markdown",
   "source": "## hako\nfind the last number in a list that has a difference from a given number that is a multiple of 3\nif there is no such number, return 0.\n\n[1, 4, -5, 3, 9, 11, 7, 6, 4, 9], 10 -> 4\n\nbeacause 10 - 4 = 6 that is a multiple of 3. although 10 -1 = 9 which is also a multiple of 3, that number occurs earlier in the list and we're looking for the last number that satisfies this condition",
   "metadata": {
    "cell_id": "00025-f6f9d8c8-59c0-4b54-b8da-2809515fad0c",
    "deepnote_cell_type": "markdown"
   }
  },
  {
   "cell_type": "code",
   "metadata": {
    "cell_id": "00026-6d094c2b-8ca5-447f-8163-f8292885acf8",
    "deepnote_to_be_reexecuted": false,
    "source_hash": "412915b",
    "execution_start": 1638470454700,
    "execution_millis": 2,
    "deepnote_cell_type": "code"
   },
   "source": "def hako_solution(list_of_numbers, number):\n    last_number=[]\n    for i in list_of_numbers:\n        if (number-i)%3==0:\n            last_number.append(i)\n    if last_number==[]:\n        return 0\n    else:\n        return last_number[-1]",
   "execution_count": null,
   "outputs": []
  },
  {
   "cell_type": "code",
   "metadata": {
    "cell_id": "00027-d96a2584-8a88-4502-964d-e39ecdac4733",
    "deepnote_to_be_reexecuted": false,
    "source_hash": "a106adb3",
    "execution_start": 1638470457264,
    "execution_millis": 81,
    "deepnote_cell_type": "code"
   },
   "source": "hako.evaluate(hako_solution)",
   "execution_count": null,
   "outputs": [
    {
     "name": "stdout",
     "text": "- success rate: 497/497 (100.0%)\n- error count: 0\n- best performance: 1\n- worst performance: 1\n- mean performance: 1.0\n",
     "output_type": "stream"
    }
   ]
  },
  {
   "cell_type": "markdown",
   "source": "<a style='text-decoration:none;line-height:16px;display:flex;color:#5B5B62;padding:10px;justify-content:end;' href='https://deepnote.com?utm_source=created-in-deepnote-cell&projectId=978e47b7-a961-4dca-a945-499e8b781a34' target=\"_blank\">\n<img alt='Created in deepnote.com' style='display:inline;max-height:16px;margin:0px;margin-right:7.5px;' src='data:image/svg+xml;base64,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' > </img>\nCreated in <span style='font-weight:600;margin-left:4px;'>Deepnote</span></a>",
   "metadata": {
    "tags": [],
    "created_in_deepnote_cell": true,
    "deepnote_cell_type": "markdown"
   }
  }
 ],
 "nbformat": 4,
 "nbformat_minor": 2,
 "metadata": {
  "kernelspec": {
   "display_name": "Python 3",
   "language": "python",
   "name": "python3"
  },
  "language_info": {
   "codemirror_mode": {
    "name": "ipython",
    "version": 3
   },
   "file_extension": ".py",
   "mimetype": "text/x-python",
   "name": "python",
   "nbconvert_exporter": "python",
   "pygments_lexer": "ipython3",
   "version": "3.9.0"
  },
  "deepnote_notebook_id": "32e475c4-5c04-440e-b340-3e279e369d1a",
  "deepnote": {},
  "deepnote_execution_queue": []
 }
}